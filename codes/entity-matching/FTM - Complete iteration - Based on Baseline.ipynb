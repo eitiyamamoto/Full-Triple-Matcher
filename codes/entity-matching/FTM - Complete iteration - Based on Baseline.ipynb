{
 "cells": [
  {
   "cell_type": "code",
   "execution_count": 1,
   "id": "a79209a4",
   "metadata": {},
   "outputs": [
    {
     "name": "stderr",
     "output_type": "stream",
     "text": [
      "/var/folders/6f/k2t20zbs4db5khp6mgdq_06m0000gn/T/ipykernel_60205/3407715408.py:3: TqdmExperimentalWarning: Using `tqdm.autonotebook.tqdm` in notebook mode. Use `tqdm.tqdm` instead to force console mode (e.g. in jupyter console)\n",
      "  from tqdm.autonotebook import tqdm\n"
     ]
    }
   ],
   "source": [
    "from rdflib import Graph, URIRef, Namespace, Literal, XSD, RDF\n",
    "from rdflib.plugins.stores.sparqlstore import SPARQLStore\n",
    "from tqdm.autonotebook import tqdm\n",
    "import pandas as pd\n",
    "from copy import deepcopy\n",
    "import numpy\n",
    "from sklearn.metrics.pairwise import cosine_similarity\n",
    "import re\n",
    "import string\n",
    "import nltk\n",
    "from nltk.corpus import stopwords\n",
    "from nltk.tokenize import word_tokenize\n",
    "from collections import defaultdict\n",
    "from rapidfuzz import process, fuzz, distance\n",
    "import math\n",
    "\n",
    "import torch\n",
    "from transformers import BertTokenizer\n",
    "from transformers import BertModel\n",
    "from sklearn.metrics.pairwise import cosine_similarity\n",
    "\n",
    "import concurrent.futures\n",
    "\n",
    "import numpy as np\n",
    "import matplotlib.pyplot as plt\n"
   ]
  },
  {
   "cell_type": "code",
   "execution_count": 2,
   "id": "76d8e151",
   "metadata": {},
   "outputs": [],
   "source": [
    "GRAPH_1_INV_FUNC_PATH = ''\n",
    "GRAPH_1 = \"\"\n",
    "GRAPH_2_INV_FUNC_PATH = ''\n",
    "#GRAPH_2 = \"/Users/yamamotobikutorueiichi/codes/custom_paris/marvel.xml\"\n",
    "GRAPH_2 = \"http://localhost:8890/sparql\"\n",
    "SUBJECT = 'subject'\n",
    "PREDICATE = 'predicate'\n",
    "INVERSE_FUNCTIONALITY = 'inverse_functionality'\n",
    "INVERSABILITY = 'inversability'\n",
    "MAX_LENGTH_FULL_MATCH = 10000\n",
    "LABEL_PREDICATE = \"http://www.w3.org/2000/01/rdf-schema#label\"\n",
    "FILE_FOLDER = \"\"\n",
    "GRAPH_1_ABSTRACT = \"http://dbkwik.webdatacommons.org/ontology/abstract\"\n",
    "GRAPH_2_ABSTRACT = \"http://dbpedia.org/ontology/abstract\""
   ]
  },
  {
   "cell_type": "code",
   "execution_count": 3,
   "id": "56ccda60",
   "metadata": {},
   "outputs": [
    {
     "data": {
      "text/plain": [
       "<Graph identifier=N7ec256f87ae74c9bbf9dcac1edc67f63 (<class 'rdflib.graph.Graph'>)>"
      ]
     },
     "execution_count": 3,
     "metadata": {},
     "output_type": "execute_result"
    }
   ],
   "source": [
    "graph_1_inv_func_df = pd.read_csv(GRAPH_1_INV_FUNC_PATH)\n",
    "\n",
    "#graph_1_predicate_list = threshold_graph_1_inv_func_df[PREDICATE].tolist()\n",
    "\n",
    "graph_1 = Graph()\n",
    "graph_1.parse(GRAPH_1)"
   ]
  },
  {
   "cell_type": "code",
   "execution_count": 4,
   "id": "8b57903b",
   "metadata": {},
   "outputs": [],
   "source": [
    "graph_2_inv_func_df = pd.read_csv(GRAPH_2_INV_FUNC_PATH)\n",
    "\n",
    "#graph_2_predicate_list = threshold_graph_2_inv_func_df[PREDICATE].tolist()\n",
    "\n",
    "#graph_2 = Graph()\n",
    "#graph_2.parse(GRAPH_2)\n",
    "graph_2 = Graph(\"SPARQLStore\")\n",
    "graph_2.open(GRAPH_2)"
   ]
  },
  {
   "cell_type": "code",
   "execution_count": 5,
   "id": "ff151436",
   "metadata": {},
   "outputs": [],
   "source": [
    "def append_instances(entity_dict, graph, offset):\n",
    "    query = \"\"\"\n",
    "            SELECT ?instance ?label\n",
    "            WHERE {{\n",
    "              ?instance <http://www.w3.org/2000/01/rdf-schema#label> ?label.\n",
    "            }}\n",
    "            ORDER BY ?instance\n",
    "            LIMIT 10000\n",
    "            OFFSET {offset}\n",
    "            \"\"\".format(offset=offset)\n",
    "    attempts = 0\n",
    "    while attempts < 10:\n",
    "        try:\n",
    "            for res in graph.query(query):\n",
    "                entity_dict.setdefault(str(res[1]), []).append(str(res[0]))\n",
    "            return\n",
    "        except Exception as e:\n",
    "            print(e)\n",
    "            attempts += 1"
   ]
  },
  {
   "cell_type": "code",
   "execution_count": 6,
   "id": "cb108a76",
   "metadata": {},
   "outputs": [],
   "source": [
    "def append_instances_alt_label(entity_dict, graph, offset):\n",
    "    query = \"\"\"\n",
    "            SELECT ?instance ?label\n",
    "            WHERE {{\n",
    "              ?instance <http://www.w3.org/2004/02/skos/core#altLabel> ?label.\n",
    "            }}\n",
    "            ORDER BY ?instance\n",
    "            LIMIT 10000\n",
    "            OFFSET {offset}\n",
    "            \"\"\".format(offset=offset)\n",
    "    attempts = 0\n",
    "    while attempts < 10:\n",
    "        try:\n",
    "            for res in graph.query(query):\n",
    "                entity_dict.setdefault(str(res[1]), []).append(str(res[0]))\n",
    "            return\n",
    "        except Exception as e:\n",
    "            print(e)\n",
    "            attempts += 1"
   ]
  },
  {
   "cell_type": "code",
   "execution_count": 7,
   "id": "cecef6c7",
   "metadata": {},
   "outputs": [],
   "source": [
    "def get_graph_entities(graph):\n",
    "    # Create a SPARQL query to get the total number of labels\n",
    "    query_count = \"\"\"\n",
    "    SELECT (COUNT(?instance) as ?count)\n",
    "    WHERE {\n",
    "          ?instance <http://www.w3.org/2000/01/rdf-schema#label> ?label.\n",
    "    }\n",
    "    \"\"\"\n",
    "    total_instances = 0\n",
    "    for res in graph.query(query_count):\n",
    "        total_instances = int(res[0])\n",
    "    print(total_instances)\n",
    "    entity_dict = dict()\n",
    "    \n",
    "    for offset in tqdm(range(0, total_instances, 10000)):\n",
    "        append_instances(entity_dict, graph, offset)\n",
    "\n",
    "    query_count = \"\"\"\n",
    "    SELECT (COUNT(?instance) as ?count)\n",
    "    WHERE {\n",
    "          ?instance <http://www.w3.org/2004/02/skos/core#altLabel> ?label.\n",
    "    }\n",
    "    \"\"\"\n",
    "    total_instances = 0\n",
    "    for res in graph.query(query_count):\n",
    "        total_instances = int(res[0])\n",
    "    print(total_instances)\n",
    "    \n",
    "    for offset in tqdm(range(0, total_instances, 10000)):\n",
    "        append_instances_alt_label(entity_dict, graph, offset)\n",
    "        \n",
    "    return entity_dict"
   ]
  },
  {
   "cell_type": "code",
   "execution_count": 8,
   "id": "1c4aede9",
   "metadata": {},
   "outputs": [
    {
     "name": "stdout",
     "output_type": "stream",
     "text": [
      "49960\n"
     ]
    },
    {
     "data": {
      "application/vnd.jupyter.widget-view+json": {
       "model_id": "235f071a557e4cdd9b8c78c9ecd64c61",
       "version_major": 2,
       "version_minor": 0
      },
      "text/plain": [
       "  0%|          | 0/5 [00:00<?, ?it/s]"
      ]
     },
     "metadata": {},
     "output_type": "display_data"
    },
    {
     "name": "stdout",
     "output_type": "stream",
     "text": [
      "65400\n"
     ]
    },
    {
     "data": {
      "application/vnd.jupyter.widget-view+json": {
       "model_id": "1bb6333a7f974e12839193c6231f16e3",
       "version_major": 2,
       "version_minor": 0
      },
      "text/plain": [
       "  0%|          | 0/7 [00:00<?, ?it/s]"
      ]
     },
     "metadata": {},
     "output_type": "display_data"
    }
   ],
   "source": [
    "graph_1_label_dict = get_graph_entities(graph_1)"
   ]
  },
  {
   "cell_type": "code",
   "execution_count": 10,
   "id": "28bb66e1",
   "metadata": {},
   "outputs": [
    {
     "name": "stdout",
     "output_type": "stream",
     "text": [
      "\n",
      "SELECT distinct ?instance\n",
      "WHERE {\n",
      "  ?instance <http://www.w3.org/2000/01/rdf-schema#label> ?label.\n",
      "  filter(?label=\"Harry Potter\"@en)\n",
      "}\n",
      "(rdflib.term.URIRef('http://dbpedia.org/resource/Category:Harry_Potter'),)\n",
      "(rdflib.term.URIRef('http://dbpedia.org/resource/Harry_Potter'),)\n"
     ]
    }
   ],
   "source": [
    "query = \"\"\"\n",
    "SELECT distinct ?instance\n",
    "WHERE {{\n",
    "  ?instance <http://www.w3.org/2000/01/rdf-schema#label> ?label.\n",
    "  filter(?label=\"{labelChange}\"@en)\n",
    "}}\"\"\".format(labelChange='Harry Potter')\n",
    "print(query)\n",
    "\n",
    "for res in graph_2.query(query):\n",
    "    print(res)"
   ]
  },
  {
   "cell_type": "code",
   "execution_count": 11,
   "id": "464a7c44",
   "metadata": {},
   "outputs": [],
   "source": [
    "def get_instances_by_label(graph, label):\n",
    "    query = \"\"\"\n",
    "    SELECT distinct ?instance\n",
    "    WHERE {{\n",
    "      ?instance <http://www.w3.org/2000/01/rdf-schema#label> ?label.\n",
    "      filter(?label=\"{labelChange}\"@en)\n",
    "    }}\"\"\".format(labelChange=label)\n",
    "    \n",
    "    entity_list = list()\n",
    "    attempts = 0\n",
    "    while attempts < 10:\n",
    "        try:\n",
    "            for res in graph_2.query(query):\n",
    "                entity_list.append(res[0])\n",
    "            return entity_list\n",
    "        except Exception as e:\n",
    "            print(e)\n",
    "            attempts += 1\n",
    "    return None"
   ]
  },
  {
   "cell_type": "code",
   "execution_count": 13,
   "id": "31b24208",
   "metadata": {
    "scrolled": true
   },
   "outputs": [
    {
     "data": {
      "application/vnd.jupyter.widget-view+json": {
       "model_id": "ed3d2c42ab9f48a39c4fef2a808c59e6",
       "version_major": 2,
       "version_minor": 0
      },
      "text/plain": [
       "  0%|          | 0/68946 [00:00<?, ?it/s]"
      ]
     },
     "metadata": {},
     "output_type": "display_data"
    },
    {
     "name": "stdout",
     "output_type": "stream",
     "text": [
      "You did something wrong formulating either the URI or your SPARQL query\n",
      "You did something wrong formulating either the URI or your SPARQL query\n",
      "You did something wrong formulating either the URI or your SPARQL query\n",
      "You did something wrong formulating either the URI or your SPARQL query\n",
      "You did something wrong formulating either the URI or your SPARQL query\n",
      "You did something wrong formulating either the URI or your SPARQL query\n",
      "You did something wrong formulating either the URI or your SPARQL query\n",
      "You did something wrong formulating either the URI or your SPARQL query\n",
      "You did something wrong formulating either the URI or your SPARQL query\n",
      "You did something wrong formulating either the URI or your SPARQL query\n",
      "You did something wrong formulating either the URI or your SPARQL query\n",
      "You did something wrong formulating either the URI or your SPARQL query\n",
      "You did something wrong formulating either the URI or your SPARQL query\n",
      "You did something wrong formulating either the URI or your SPARQL query\n",
      "You did something wrong formulating either the URI or your SPARQL query\n",
      "You did something wrong formulating either the URI or your SPARQL query\n",
      "You did something wrong formulating either the URI or your SPARQL query\n",
      "You did something wrong formulating either the URI or your SPARQL query\n",
      "You did something wrong formulating either the URI or your SPARQL query\n",
      "You did something wrong formulating either the URI or your SPARQL query\n",
      "You did something wrong formulating either the URI or your SPARQL query\n",
      "You did something wrong formulating either the URI or your SPARQL query\n",
      "You did something wrong formulating either the URI or your SPARQL query\n",
      "You did something wrong formulating either the URI or your SPARQL query\n",
      "You did something wrong formulating either the URI or your SPARQL query\n",
      "You did something wrong formulating either the URI or your SPARQL query\n",
      "You did something wrong formulating either the URI or your SPARQL query\n",
      "You did something wrong formulating either the URI or your SPARQL query\n",
      "You did something wrong formulating either the URI or your SPARQL query\n",
      "You did something wrong formulating either the URI or your SPARQL query\n",
      "You did something wrong formulating either the URI or your SPARQL query\n",
      "You did something wrong formulating either the URI or your SPARQL query\n",
      "You did something wrong formulating either the URI or your SPARQL query\n",
      "You did something wrong formulating either the URI or your SPARQL query\n",
      "You did something wrong formulating either the URI or your SPARQL query\n",
      "You did something wrong formulating either the URI or your SPARQL query\n",
      "You did something wrong formulating either the URI or your SPARQL query\n",
      "You did something wrong formulating either the URI or your SPARQL query\n",
      "You did something wrong formulating either the URI or your SPARQL query\n",
      "You did something wrong formulating either the URI or your SPARQL query\n",
      "You did something wrong formulating either the URI or your SPARQL query\n",
      "You did something wrong formulating either the URI or your SPARQL query\n",
      "You did something wrong formulating either the URI or your SPARQL query\n",
      "You did something wrong formulating either the URI or your SPARQL query\n",
      "You did something wrong formulating either the URI or your SPARQL query\n",
      "You did something wrong formulating either the URI or your SPARQL query\n",
      "You did something wrong formulating either the URI or your SPARQL query\n",
      "You did something wrong formulating either the URI or your SPARQL query\n",
      "You did something wrong formulating either the URI or your SPARQL query\n",
      "You did something wrong formulating either the URI or your SPARQL query\n",
      "You did something wrong formulating either the URI or your SPARQL query\n",
      "You did something wrong formulating either the URI or your SPARQL query\n",
      "You did something wrong formulating either the URI or your SPARQL query\n",
      "You did something wrong formulating either the URI or your SPARQL query\n",
      "You did something wrong formulating either the URI or your SPARQL query\n",
      "You did something wrong formulating either the URI or your SPARQL query\n",
      "You did something wrong formulating either the URI or your SPARQL query\n",
      "You did something wrong formulating either the URI or your SPARQL query\n",
      "You did something wrong formulating either the URI or your SPARQL query\n",
      "You did something wrong formulating either the URI or your SPARQL query\n",
      "You did something wrong formulating either the URI or your SPARQL query\n",
      "You did something wrong formulating either the URI or your SPARQL query\n",
      "You did something wrong formulating either the URI or your SPARQL query\n",
      "You did something wrong formulating either the URI or your SPARQL query\n",
      "You did something wrong formulating either the URI or your SPARQL query\n",
      "You did something wrong formulating either the URI or your SPARQL query\n",
      "You did something wrong formulating either the URI or your SPARQL query\n",
      "You did something wrong formulating either the URI or your SPARQL query\n",
      "You did something wrong formulating either the URI or your SPARQL query\n",
      "You did something wrong formulating either the URI or your SPARQL query\n",
      "You did something wrong formulating either the URI or your SPARQL query\n",
      "You did something wrong formulating either the URI or your SPARQL query\n",
      "You did something wrong formulating either the URI or your SPARQL query\n",
      "You did something wrong formulating either the URI or your SPARQL query\n",
      "You did something wrong formulating either the URI or your SPARQL query\n",
      "You did something wrong formulating either the URI or your SPARQL query\n",
      "You did something wrong formulating either the URI or your SPARQL query\n",
      "You did something wrong formulating either the URI or your SPARQL query\n",
      "You did something wrong formulating either the URI or your SPARQL query\n",
      "You did something wrong formulating either the URI or your SPARQL query\n",
      "You did something wrong formulating either the URI or your SPARQL query\n",
      "You did something wrong formulating either the URI or your SPARQL query\n",
      "You did something wrong formulating either the URI or your SPARQL query\n",
      "You did something wrong formulating either the URI or your SPARQL query\n",
      "You did something wrong formulating either the URI or your SPARQL query\n",
      "You did something wrong formulating either the URI or your SPARQL query\n",
      "You did something wrong formulating either the URI or your SPARQL query\n",
      "You did something wrong formulating either the URI or your SPARQL query\n",
      "You did something wrong formulating either the URI or your SPARQL query\n",
      "You did something wrong formulating either the URI or your SPARQL query\n",
      "You did something wrong formulating either the URI or your SPARQL query\n",
      "You did something wrong formulating either the URI or your SPARQL query\n",
      "You did something wrong formulating either the URI or your SPARQL query\n",
      "You did something wrong formulating either the URI or your SPARQL query\n",
      "You did something wrong formulating either the URI or your SPARQL query\n",
      "You did something wrong formulating either the URI or your SPARQL query\n",
      "You did something wrong formulating either the URI or your SPARQL query\n",
      "You did something wrong formulating either the URI or your SPARQL query\n",
      "You did something wrong formulating either the URI or your SPARQL query\n",
      "You did something wrong formulating either the URI or your SPARQL query\n",
      "You did something wrong formulating either the URI or your SPARQL query\n",
      "You did something wrong formulating either the URI or your SPARQL query\n",
      "You did something wrong formulating either the URI or your SPARQL query\n",
      "You did something wrong formulating either the URI or your SPARQL query\n",
      "You did something wrong formulating either the URI or your SPARQL query\n",
      "You did something wrong formulating either the URI or your SPARQL query\n",
      "You did something wrong formulating either the URI or your SPARQL query\n",
      "You did something wrong formulating either the URI or your SPARQL query\n",
      "You did something wrong formulating either the URI or your SPARQL query\n",
      "You did something wrong formulating either the URI or your SPARQL query\n",
      "You did something wrong formulating either the URI or your SPARQL query\n",
      "You did something wrong formulating either the URI or your SPARQL query\n",
      "You did something wrong formulating either the URI or your SPARQL query\n",
      "You did something wrong formulating either the URI or your SPARQL query\n",
      "You did something wrong formulating either the URI or your SPARQL query\n",
      "You did something wrong formulating either the URI or your SPARQL query\n",
      "You did something wrong formulating either the URI or your SPARQL query\n",
      "You did something wrong formulating either the URI or your SPARQL query\n"
     ]
    },
    {
     "name": "stdout",
     "output_type": "stream",
     "text": [
      "You did something wrong formulating either the URI or your SPARQL query\n",
      "You did something wrong formulating either the URI or your SPARQL query\n",
      "You did something wrong formulating either the URI or your SPARQL query\n",
      "You did something wrong formulating either the URI or your SPARQL query\n",
      "You did something wrong formulating either the URI or your SPARQL query\n",
      "You did something wrong formulating either the URI or your SPARQL query\n",
      "You did something wrong formulating either the URI or your SPARQL query\n",
      "You did something wrong formulating either the URI or your SPARQL query\n",
      "You did something wrong formulating either the URI or your SPARQL query\n",
      "You did something wrong formulating either the URI or your SPARQL query\n",
      "You did something wrong formulating either the URI or your SPARQL query\n",
      "You did something wrong formulating either the URI or your SPARQL query\n",
      "You did something wrong formulating either the URI or your SPARQL query\n",
      "You did something wrong formulating either the URI or your SPARQL query\n",
      "You did something wrong formulating either the URI or your SPARQL query\n",
      "You did something wrong formulating either the URI or your SPARQL query\n",
      "You did something wrong formulating either the URI or your SPARQL query\n",
      "You did something wrong formulating either the URI or your SPARQL query\n",
      "You did something wrong formulating either the URI or your SPARQL query\n",
      "You did something wrong formulating either the URI or your SPARQL query\n",
      "You did something wrong formulating either the URI or your SPARQL query\n",
      "You did something wrong formulating either the URI or your SPARQL query\n",
      "You did something wrong formulating either the URI or your SPARQL query\n",
      "You did something wrong formulating either the URI or your SPARQL query\n",
      "You did something wrong formulating either the URI or your SPARQL query\n",
      "You did something wrong formulating either the URI or your SPARQL query\n",
      "You did something wrong formulating either the URI or your SPARQL query\n",
      "You did something wrong formulating either the URI or your SPARQL query\n",
      "You did something wrong formulating either the URI or your SPARQL query\n",
      "You did something wrong formulating either the URI or your SPARQL query\n",
      "You did something wrong formulating either the URI or your SPARQL query\n",
      "You did something wrong formulating either the URI or your SPARQL query\n",
      "You did something wrong formulating either the URI or your SPARQL query\n",
      "You did something wrong formulating either the URI or your SPARQL query\n",
      "You did something wrong formulating either the URI or your SPARQL query\n",
      "You did something wrong formulating either the URI or your SPARQL query\n",
      "You did something wrong formulating either the URI or your SPARQL query\n",
      "You did something wrong formulating either the URI or your SPARQL query\n",
      "You did something wrong formulating either the URI or your SPARQL query\n",
      "You did something wrong formulating either the URI or your SPARQL query\n",
      "You did something wrong formulating either the URI or your SPARQL query\n",
      "You did something wrong formulating either the URI or your SPARQL query\n",
      "You did something wrong formulating either the URI or your SPARQL query\n",
      "You did something wrong formulating either the URI or your SPARQL query\n",
      "You did something wrong formulating either the URI or your SPARQL query\n",
      "You did something wrong formulating either the URI or your SPARQL query\n",
      "You did something wrong formulating either the URI or your SPARQL query\n",
      "You did something wrong formulating either the URI or your SPARQL query\n",
      "You did something wrong formulating either the URI or your SPARQL query\n",
      "You did something wrong formulating either the URI or your SPARQL query\n",
      "You did something wrong formulating either the URI or your SPARQL query\n",
      "You did something wrong formulating either the URI or your SPARQL query\n",
      "You did something wrong formulating either the URI or your SPARQL query\n",
      "You did something wrong formulating either the URI or your SPARQL query\n",
      "You did something wrong formulating either the URI or your SPARQL query\n",
      "You did something wrong formulating either the URI or your SPARQL query\n",
      "You did something wrong formulating either the URI or your SPARQL query\n",
      "You did something wrong formulating either the URI or your SPARQL query\n",
      "You did something wrong formulating either the URI or your SPARQL query\n",
      "You did something wrong formulating either the URI or your SPARQL query\n",
      "You did something wrong formulating either the URI or your SPARQL query\n",
      "You did something wrong formulating either the URI or your SPARQL query\n",
      "You did something wrong formulating either the URI or your SPARQL query\n",
      "You did something wrong formulating either the URI or your SPARQL query\n",
      "You did something wrong formulating either the URI or your SPARQL query\n",
      "You did something wrong formulating either the URI or your SPARQL query\n",
      "You did something wrong formulating either the URI or your SPARQL query\n",
      "You did something wrong formulating either the URI or your SPARQL query\n",
      "You did something wrong formulating either the URI or your SPARQL query\n",
      "You did something wrong formulating either the URI or your SPARQL query\n",
      "You did something wrong formulating either the URI or your SPARQL query\n",
      "You did something wrong formulating either the URI or your SPARQL query\n",
      "You did something wrong formulating either the URI or your SPARQL query\n",
      "You did something wrong formulating either the URI or your SPARQL query\n",
      "You did something wrong formulating either the URI or your SPARQL query\n",
      "You did something wrong formulating either the URI or your SPARQL query\n",
      "You did something wrong formulating either the URI or your SPARQL query\n",
      "You did something wrong formulating either the URI or your SPARQL query\n",
      "You did something wrong formulating either the URI or your SPARQL query\n",
      "You did something wrong formulating either the URI or your SPARQL query\n",
      "You did something wrong formulating either the URI or your SPARQL query\n",
      "You did something wrong formulating either the URI or your SPARQL query\n",
      "You did something wrong formulating either the URI or your SPARQL query\n",
      "You did something wrong formulating either the URI or your SPARQL query\n",
      "You did something wrong formulating either the URI or your SPARQL query\n",
      "You did something wrong formulating either the URI or your SPARQL query\n",
      "You did something wrong formulating either the URI or your SPARQL query\n",
      "You did something wrong formulating either the URI or your SPARQL query\n",
      "You did something wrong formulating either the URI or your SPARQL query\n",
      "You did something wrong formulating either the URI or your SPARQL query\n",
      "You did something wrong formulating either the URI or your SPARQL query\n",
      "You did something wrong formulating either the URI or your SPARQL query\n",
      "You did something wrong formulating either the URI or your SPARQL query\n",
      "You did something wrong formulating either the URI or your SPARQL query\n",
      "You did something wrong formulating either the URI or your SPARQL query\n",
      "You did something wrong formulating either the URI or your SPARQL query\n",
      "You did something wrong formulating either the URI or your SPARQL query\n",
      "You did something wrong formulating either the URI or your SPARQL query\n",
      "You did something wrong formulating either the URI or your SPARQL query\n",
      "You did something wrong formulating either the URI or your SPARQL query\n",
      "You did something wrong formulating either the URI or your SPARQL query\n",
      "You did something wrong formulating either the URI or your SPARQL query\n",
      "You did something wrong formulating either the URI or your SPARQL query\n",
      "You did something wrong formulating either the URI or your SPARQL query\n",
      "You did something wrong formulating either the URI or your SPARQL query\n",
      "You did something wrong formulating either the URI or your SPARQL query\n",
      "You did something wrong formulating either the URI or your SPARQL query\n",
      "You did something wrong formulating either the URI or your SPARQL query\n",
      "You did something wrong formulating either the URI or your SPARQL query\n",
      "You did something wrong formulating either the URI or your SPARQL query\n",
      "You did something wrong formulating either the URI or your SPARQL query\n",
      "You did something wrong formulating either the URI or your SPARQL query\n"
     ]
    }
   ],
   "source": [
    "matching_list = list()\n",
    "\n",
    "for label in tqdm(graph_1_label_dict):\n",
    "    graph_2_entities = get_instances_by_label(graph_2, label)\n",
    "    \n",
    "    if not graph_2_entities or len(graph_2_entities) == 0:\n",
    "        continue\n",
    "    \n",
    "    for e1 in graph_1_label_dict[label]:\n",
    "        for e2 in graph_2_entities:\n",
    "            matching_list.append({\n",
    "                'e1': e1,\n",
    "                'e2': e2,\n",
    "                'sim': 1.0\n",
    "            })"
   ]
  },
  {
   "cell_type": "code",
   "execution_count": 14,
   "id": "395a443a",
   "metadata": {},
   "outputs": [
    {
     "name": "stderr",
     "output_type": "stream",
     "text": [
      "Some weights of the model checkpoint at bert-base-uncased were not used when initializing BertModel: ['cls.seq_relationship.weight', 'cls.predictions.decoder.weight', 'cls.predictions.bias', 'cls.predictions.transform.LayerNorm.weight', 'cls.predictions.transform.LayerNorm.bias', 'cls.seq_relationship.bias', 'cls.predictions.transform.dense.bias', 'cls.predictions.transform.dense.weight']\n",
      "- This IS expected if you are initializing BertModel from the checkpoint of a model trained on another task or with another architecture (e.g. initializing a BertForSequenceClassification model from a BertForPreTraining model).\n",
      "- This IS NOT expected if you are initializing BertModel from the checkpoint of a model that you expect to be exactly identical (initializing a BertForSequenceClassification model from a BertForSequenceClassification model).\n"
     ]
    }
   ],
   "source": [
    "nltk_tokenizer = nltk.data.load('tokenizers/punkt/english.pickle')\n",
    "tokenizer = BertTokenizer.from_pretrained('bert-base-uncased')\n",
    "model = BertModel.from_pretrained(\"bert-base-uncased\")"
   ]
  },
  {
   "cell_type": "code",
   "execution_count": 15,
   "id": "93152312",
   "metadata": {},
   "outputs": [],
   "source": [
    "def embed_long_sentence(long_sentence):\n",
    "    sentences = nltk_tokenizer.tokenize(long_sentence)\n",
    "    \n",
    "    tokens = {'input_ids': [], 'attention_mask': []}\n",
    "\n",
    "    max_token = 140\n",
    "    for sentence in sentences:\n",
    "        new_tokens = tokenizer.encode_plus(sentence, return_tensors=\"pt\", max_length=max_token, padding='max_length')\n",
    "        tokens['input_ids'].append(new_tokens['input_ids'][0][:max_token])\n",
    "        tokens['attention_mask'].append(new_tokens['attention_mask'][0][:max_token])\n",
    "\n",
    "    tokens['input_ids'] = torch.stack(tokens['input_ids'])\n",
    "    tokens['attention_mask'] = torch.stack(tokens['attention_mask'])\n",
    "    \n",
    "    outputs = model(**tokens)\n",
    "    \n",
    "    embeddings = outputs.last_hidden_state\n",
    "    \n",
    "    attention_mask = tokens['attention_mask']\n",
    "    \n",
    "    mask = attention_mask.unsqueeze(-1).expand(embeddings.size()).float()\n",
    "\n",
    "    masked_embeddings = embeddings * mask\n",
    "    \n",
    "    summed = torch.sum(masked_embeddings, 1)\n",
    "\n",
    "    summed_mask = torch.clamp(mask.sum(1), min=1e-9)\n",
    "\n",
    "    mean_pooled = summed / summed_mask\n",
    "    \n",
    "    return mean_pooled.detach().numpy()"
   ]
  },
  {
   "cell_type": "code",
   "execution_count": null,
   "id": "23620895",
   "metadata": {},
   "outputs": [],
   "source": []
  }
 ],
 "metadata": {
  "kernelspec": {
   "display_name": "Python 3 (ipykernel)",
   "language": "python",
   "name": "python3"
  },
  "language_info": {
   "codemirror_mode": {
    "name": "ipython",
    "version": 3
   },
   "file_extension": ".py",
   "mimetype": "text/x-python",
   "name": "python",
   "nbconvert_exporter": "python",
   "pygments_lexer": "ipython3",
   "version": "3.9.13"
  }
 },
 "nbformat": 4,
 "nbformat_minor": 5
}
