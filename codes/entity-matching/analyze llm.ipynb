{
 "cells": [
  {
   "cell_type": "code",
   "execution_count": 1,
   "id": "23238dce",
   "metadata": {},
   "outputs": [
    {
     "name": "stderr",
     "output_type": "stream",
     "text": [
      "/var/folders/6f/k2t20zbs4db5khp6mgdq_06m0000gn/T/ipykernel_8176/2914453593.py:7: TqdmExperimentalWarning: Using `tqdm.autonotebook.tqdm` in notebook mode. Use `tqdm.tqdm` instead to force console mode (e.g. in jupyter console)\n",
      "  from tqdm.autonotebook import tqdm\n"
     ]
    }
   ],
   "source": [
    "from rdflib import Graph\n",
    "import re\n",
    "import pandas as pd\n",
    "from rdflib import Graph, URIRef, Namespace, Literal\n",
    "import numpy as np\n",
    "import matplotlib.pyplot as plt\n",
    "from tqdm.autonotebook import tqdm"
   ]
  },
  {
   "cell_type": "code",
   "execution_count": null,
   "id": "71d2233d-b4b9-4c1c-9d71-64ae162a9cae",
   "metadata": {},
   "outputs": [],
   "source": []
  },
  {
   "cell_type": "code",
   "execution_count": 178,
   "id": "1869c937",
   "metadata": {},
   "outputs": [],
   "source": [
    "#baseline_df = pd.read_csv('/Users/yamamotobikutorueiichi/codes/gollumn - subdataset/ma-dbpedia-original-paris/9_eqv_full.tsv', sep='\\t', names=['e1', 'e2', 'sim'])\n",
    "baseline_df = pd.read_csv('/Users/yamamotobikutorueiichi/codes/custom_paris/both func and func inv method/early_stop/mcu-mdb/llama_added.csv')\n"
   ]
  },
  {
   "cell_type": "code",
   "execution_count": 179,
   "id": "88641b6f",
   "metadata": {},
   "outputs": [
    {
     "data": {
      "text/html": [
       "<div>\n",
       "<style scoped>\n",
       "    .dataframe tbody tr th:only-of-type {\n",
       "        vertical-align: middle;\n",
       "    }\n",
       "\n",
       "    .dataframe tbody tr th {\n",
       "        vertical-align: top;\n",
       "    }\n",
       "\n",
       "    .dataframe thead th {\n",
       "        text-align: right;\n",
       "    }\n",
       "</style>\n",
       "<table border=\"1\" class=\"dataframe\">\n",
       "  <thead>\n",
       "    <tr style=\"text-align: right;\">\n",
       "      <th></th>\n",
       "      <th>Unnamed: 0.1</th>\n",
       "      <th>e1</th>\n",
       "      <th>e2</th>\n",
       "      <th>sim</th>\n",
       "      <th>Unnamed: 0</th>\n",
       "    </tr>\n",
       "  </thead>\n",
       "  <tbody>\n",
       "    <tr>\n",
       "      <th>0</th>\n",
       "      <td>0</td>\n",
       "      <td>http://dbkwik.webdatacommons.org/marvelcinematicuniverse.wikia.com/class/actor</td>\n",
       "      <td>http://dbkwik.webdatacommons.org/marvel.wikia.com/resource/Actor</td>\n",
       "      <td>0.950000</td>\n",
       "      <td>NaN</td>\n",
       "    </tr>\n",
       "    <tr>\n",
       "      <th>1</th>\n",
       "      <td>1</td>\n",
       "      <td>http://dbkwik.webdatacommons.org/marvelcinematicuniverse.wikia.com/class/armor</td>\n",
       "      <td>http://dbkwik.webdatacommons.org/marvel.wikia.com/class/main</td>\n",
       "      <td>0.821714</td>\n",
       "      <td>NaN</td>\n",
       "    </tr>\n",
       "    <tr>\n",
       "      <th>2</th>\n",
       "      <td>2</td>\n",
       "      <td>http://dbkwik.webdatacommons.org/marvelcinematicuniverse.wikia.com/class/box</td>\n",
       "      <td>http://dbkwik.webdatacommons.org/marvel.wikia.com/resource/Box</td>\n",
       "      <td>0.950000</td>\n",
       "      <td>NaN</td>\n",
       "    </tr>\n",
       "    <tr>\n",
       "      <th>3</th>\n",
       "      <td>3</td>\n",
       "      <td>http://dbkwik.webdatacommons.org/marvelcinematicuniverse.wikia.com/class/character</td>\n",
       "      <td>http://dbkwik.webdatacommons.org/marvel.wikia.com/class/md</td>\n",
       "      <td>0.824619</td>\n",
       "      <td>NaN</td>\n",
       "    </tr>\n",
       "    <tr>\n",
       "      <th>4</th>\n",
       "      <td>4</td>\n",
       "      <td>http://dbkwik.webdatacommons.org/marvelcinematicuniverse.wikia.com/class/clear</td>\n",
       "      <td>http://dbkwik.webdatacommons.org/marvel.wikia.com/class/clear</td>\n",
       "      <td>0.949991</td>\n",
       "      <td>NaN</td>\n",
       "    </tr>\n",
       "    <tr>\n",
       "      <th>...</th>\n",
       "      <td>...</td>\n",
       "      <td>...</td>\n",
       "      <td>...</td>\n",
       "      <td>...</td>\n",
       "      <td>...</td>\n",
       "    </tr>\n",
       "    <tr>\n",
       "      <th>10424</th>\n",
       "      <td>1977</td>\n",
       "      <td>http://dbkwik.webdatacommons.org/marvelcinematicuniverse.wikia.com/resource/Zürich</td>\n",
       "      <td>http://dbkwik.webdatacommons.org/marvel.wikia.com/resource/Zurich</td>\n",
       "      <td>0.950000</td>\n",
       "      <td>1977.0</td>\n",
       "    </tr>\n",
       "    <tr>\n",
       "      <th>10425</th>\n",
       "      <td>1978</td>\n",
       "      <td>http://dbkwik.webdatacommons.org/marvelcinematicuniverse.wikia.com/resource/Álex_García_López</td>\n",
       "      <td>http://dbkwik.webdatacommons.org/marvel.wikia.com/resource/Alex_Garcia_Lopez</td>\n",
       "      <td>0.950000</td>\n",
       "      <td>1978.0</td>\n",
       "    </tr>\n",
       "    <tr>\n",
       "      <th>10426</th>\n",
       "      <td>1979</td>\n",
       "      <td>http://www.w3.org/2002/07/owl#Class</td>\n",
       "      <td>http://www.w3.org/2002/07/owl#Class</td>\n",
       "      <td>0.500000</td>\n",
       "      <td>1979.0</td>\n",
       "    </tr>\n",
       "    <tr>\n",
       "      <th>10427</th>\n",
       "      <td>1980</td>\n",
       "      <td>http://www.w3.org/2002/07/owl#Thing</td>\n",
       "      <td>http://www.w3.org/2002/07/owl#Thing</td>\n",
       "      <td>0.500000</td>\n",
       "      <td>1980.0</td>\n",
       "    </tr>\n",
       "    <tr>\n",
       "      <th>10428</th>\n",
       "      <td>1981</td>\n",
       "      <td>http://www.w3.org/2004/02/skos/core#Concept</td>\n",
       "      <td>http://www.w3.org/2004/02/skos/core#Concept</td>\n",
       "      <td>0.500000</td>\n",
       "      <td>1981.0</td>\n",
       "    </tr>\n",
       "  </tbody>\n",
       "</table>\n",
       "<p>10429 rows × 5 columns</p>\n",
       "</div>"
      ],
      "text/plain": [
       "       Unnamed: 0.1  \\\n",
       "0                 0   \n",
       "1                 1   \n",
       "2                 2   \n",
       "3                 3   \n",
       "4                 4   \n",
       "...             ...   \n",
       "10424          1977   \n",
       "10425          1978   \n",
       "10426          1979   \n",
       "10427          1980   \n",
       "10428          1981   \n",
       "\n",
       "                                                                                                  e1  \\\n",
       "0                     http://dbkwik.webdatacommons.org/marvelcinematicuniverse.wikia.com/class/actor   \n",
       "1                     http://dbkwik.webdatacommons.org/marvelcinematicuniverse.wikia.com/class/armor   \n",
       "2                       http://dbkwik.webdatacommons.org/marvelcinematicuniverse.wikia.com/class/box   \n",
       "3                 http://dbkwik.webdatacommons.org/marvelcinematicuniverse.wikia.com/class/character   \n",
       "4                     http://dbkwik.webdatacommons.org/marvelcinematicuniverse.wikia.com/class/clear   \n",
       "...                                                                                              ...   \n",
       "10424             http://dbkwik.webdatacommons.org/marvelcinematicuniverse.wikia.com/resource/Zürich   \n",
       "10425  http://dbkwik.webdatacommons.org/marvelcinematicuniverse.wikia.com/resource/Álex_García_López   \n",
       "10426                                                            http://www.w3.org/2002/07/owl#Class   \n",
       "10427                                                            http://www.w3.org/2002/07/owl#Thing   \n",
       "10428                                                    http://www.w3.org/2004/02/skos/core#Concept   \n",
       "\n",
       "                                                                                 e2  \\\n",
       "0                  http://dbkwik.webdatacommons.org/marvel.wikia.com/resource/Actor   \n",
       "1                      http://dbkwik.webdatacommons.org/marvel.wikia.com/class/main   \n",
       "2                    http://dbkwik.webdatacommons.org/marvel.wikia.com/resource/Box   \n",
       "3                        http://dbkwik.webdatacommons.org/marvel.wikia.com/class/md   \n",
       "4                     http://dbkwik.webdatacommons.org/marvel.wikia.com/class/clear   \n",
       "...                                                                             ...   \n",
       "10424             http://dbkwik.webdatacommons.org/marvel.wikia.com/resource/Zurich   \n",
       "10425  http://dbkwik.webdatacommons.org/marvel.wikia.com/resource/Alex_Garcia_Lopez   \n",
       "10426                                           http://www.w3.org/2002/07/owl#Class   \n",
       "10427                                           http://www.w3.org/2002/07/owl#Thing   \n",
       "10428                                   http://www.w3.org/2004/02/skos/core#Concept   \n",
       "\n",
       "            sim  Unnamed: 0  \n",
       "0      0.950000         NaN  \n",
       "1      0.821714         NaN  \n",
       "2      0.950000         NaN  \n",
       "3      0.824619         NaN  \n",
       "4      0.949991         NaN  \n",
       "...         ...         ...  \n",
       "10424  0.950000      1977.0  \n",
       "10425  0.950000      1978.0  \n",
       "10426  0.500000      1979.0  \n",
       "10427  0.500000      1980.0  \n",
       "10428  0.500000      1981.0  \n",
       "\n",
       "[10429 rows x 5 columns]"
      ]
     },
     "execution_count": 179,
     "metadata": {},
     "output_type": "execute_result"
    }
   ],
   "source": [
    "baseline_df"
   ]
  },
  {
   "cell_type": "code",
   "execution_count": 180,
   "id": "a2ed8ab6-4efe-466a-b5d5-5883795521d0",
   "metadata": {},
   "outputs": [],
   "source": [
    "ftm_df = pd.read_csv('/Users/yamamotobikutorueiichi/codes/custom_paris/both func and func inv method/early_stop/mcu-mdb/entity_sim_1.csv')"
   ]
  },
  {
   "cell_type": "code",
   "execution_count": 181,
   "id": "9f68a6a7-8384-493b-a81e-dcbf81d450b7",
   "metadata": {},
   "outputs": [],
   "source": [
    "def get_top_n(dictionary, n, reverse=True):\n",
    "    sorted_elements = sorted(dictionary.items(), key=lambda x: x[1], reverse=reverse)\n",
    "    if len(sorted_elements) < n:\n",
    "        return sorted_elements\n",
    "    n_sim = sorted_elements[n-1][1]\n",
    "    \n",
    "    top_n_list = list()\n",
    "    for element in sorted_elements:\n",
    "        e2, sim = element\n",
    "        if (reverse and sim < n_sim) or (not reverse and sim > n_sim):\n",
    "            return top_n_list\n",
    "            \n",
    "        top_n_list.append(element)\n",
    "    return top_n_list"
   ]
  },
  {
   "cell_type": "code",
   "execution_count": 182,
   "id": "a2c7f2b3-5a2d-400d-8f5b-63b25e20e85e",
   "metadata": {},
   "outputs": [],
   "source": [
    "grouped_df = ftm_df.groupby('e1')"
   ]
  },
  {
   "cell_type": "code",
   "execution_count": 183,
   "id": "fde5413f-0d20-4328-8a0e-bb10014a5b5d",
   "metadata": {},
   "outputs": [
    {
     "data": {
      "application/vnd.jupyter.widget-view+json": {
       "model_id": "bd9571a8168849949081363c534c1102",
       "version_major": 2,
       "version_minor": 0
      },
      "text/plain": [
       "  0%|          | 0/10463 [00:00<?, ?it/s]"
      ]
     },
     "metadata": {},
     "output_type": "display_data"
    }
   ],
   "source": [
    "elem_dict = dict()\n",
    "for e1, group_indices in tqdm(grouped_df.groups.items()):\n",
    "    # Access the group corresponding to 'e1'\n",
    "    e1_group = ftm_df.iloc[group_indices]\n",
    "    e1_dict = dict(zip(e1_group['e2'], e1_group['sim']))\n",
    "    elem_dict[e1] = e1_dict"
   ]
  },
  {
   "cell_type": "code",
   "execution_count": 184,
   "id": "856f17c6-6deb-443b-96f5-8a4cdce73025",
   "metadata": {},
   "outputs": [
    {
     "data": {
      "application/vnd.jupyter.widget-view+json": {
       "model_id": "51e2f4e28210449791cdd386f9273981",
       "version_major": 2,
       "version_minor": 0
      },
      "text/plain": [
       "  0%|          | 0/10463 [00:00<?, ?it/s]"
      ]
     },
     "metadata": {},
     "output_type": "display_data"
    }
   ],
   "source": [
    "added_list = list()\n",
    "for e1, e2_pair in tqdm(elem_dict.items()):\n",
    "    if e1 not in ftm_df['e1'].values:\n",
    "        added_list.append({\n",
    "            'e1': e1,\n",
    "            'chosen_e2': e2_pair[0][0]\n",
    "        })"
   ]
  },
  {
   "cell_type": "code",
   "execution_count": 186,
   "id": "ff70890b-bc74-40f7-933c-b4b051cd05d7",
   "metadata": {},
   "outputs": [
    {
     "data": {
      "text/plain": [
       "0"
      ]
     },
     "execution_count": 186,
     "metadata": {},
     "output_type": "execute_result"
    }
   ],
   "source": [
    "len(added_list)"
   ]
  },
  {
   "cell_type": "code",
   "execution_count": 187,
   "id": "c1eaec89",
   "metadata": {},
   "outputs": [],
   "source": [
    "match_df = pd.read_csv('/Users/yamamotobikutorueiichi/codes/custom_paris/mcu-mdb-gold.csv')"
   ]
  },
  {
   "cell_type": "code",
   "execution_count": 188,
   "id": "9a9e739b-3116-4f80-8b53-3ed66af36749",
   "metadata": {},
   "outputs": [
    {
     "data": {
      "text/html": [
       "<div>\n",
       "<style scoped>\n",
       "    .dataframe tbody tr th:only-of-type {\n",
       "        vertical-align: middle;\n",
       "    }\n",
       "\n",
       "    .dataframe tbody tr th {\n",
       "        vertical-align: top;\n",
       "    }\n",
       "\n",
       "    .dataframe thead th {\n",
       "        text-align: right;\n",
       "    }\n",
       "</style>\n",
       "<table border=\"1\" class=\"dataframe\">\n",
       "  <thead>\n",
       "    <tr style=\"text-align: right;\">\n",
       "      <th></th>\n",
       "      <th>Unnamed: 0</th>\n",
       "      <th>http://www.w3.org/1999/02/22-rdf-syntax-ns#type</th>\n",
       "      <th>e1</th>\n",
       "      <th>e2</th>\n",
       "      <th>http://knowledgeweb.semanticweb.org/heterogeneity/alignmentrelation</th>\n",
       "      <th>sim</th>\n",
       "    </tr>\n",
       "  </thead>\n",
       "  <tbody>\n",
       "    <tr>\n",
       "      <th>0</th>\n",
       "      <td>0</td>\n",
       "      <td>http://knowledgeweb.semanticweb.org/heterogeneity/alignmentCell</td>\n",
       "      <td>http://dbkwik.webdatacommons.org/marvelcinematicuniverse.wikia.com/resource/A%27Lars</td>\n",
       "      <td>http://dbkwik.webdatacommons.org/marvel.wikia.com/resource/A%27Lars</td>\n",
       "      <td>=</td>\n",
       "      <td>1.0</td>\n",
       "    </tr>\n",
       "    <tr>\n",
       "      <th>1</th>\n",
       "      <td>1</td>\n",
       "      <td>http://knowledgeweb.semanticweb.org/heterogeneity/alignmentCell</td>\n",
       "      <td>http://dbkwik.webdatacommons.org/marvelcinematicuniverse.wikia.com/resource/A%27askavariians</td>\n",
       "      <td>http://dbkwik.webdatacommons.org/marvel.wikia.com/resource/A%27askvarii</td>\n",
       "      <td>=</td>\n",
       "      <td>1.0</td>\n",
       "    </tr>\n",
       "    <tr>\n",
       "      <th>2</th>\n",
       "      <td>2</td>\n",
       "      <td>http://knowledgeweb.semanticweb.org/heterogeneity/alignmentCell</td>\n",
       "      <td>http://dbkwik.webdatacommons.org/marvelcinematicuniverse.wikia.com/resource/A.I.M.</td>\n",
       "      <td>http://dbkwik.webdatacommons.org/marvel.wikia.com/resource/A.I.M.</td>\n",
       "      <td>=</td>\n",
       "      <td>1.0</td>\n",
       "    </tr>\n",
       "    <tr>\n",
       "      <th>3</th>\n",
       "      <td>3</td>\n",
       "      <td>http://knowledgeweb.semanticweb.org/heterogeneity/alignmentCell</td>\n",
       "      <td>http://dbkwik.webdatacommons.org/marvelcinematicuniverse.wikia.com/resource/Aakons</td>\n",
       "      <td>http://dbkwik.webdatacommons.org/marvel.wikia.com/resource/Aakon</td>\n",
       "      <td>=</td>\n",
       "      <td>1.0</td>\n",
       "    </tr>\n",
       "    <tr>\n",
       "      <th>4</th>\n",
       "      <td>4</td>\n",
       "      <td>http://knowledgeweb.semanticweb.org/heterogeneity/alignmentCell</td>\n",
       "      <td>http://dbkwik.webdatacommons.org/marvelcinematicuniverse.wikia.com/resource/Prowler</td>\n",
       "      <td>http://dbkwik.webdatacommons.org/marvel.wikia.com/resource/Aaron_Davis</td>\n",
       "      <td>=</td>\n",
       "      <td>1.0</td>\n",
       "    </tr>\n",
       "    <tr>\n",
       "      <th>...</th>\n",
       "      <td>...</td>\n",
       "      <td>...</td>\n",
       "      <td>...</td>\n",
       "      <td>...</td>\n",
       "      <td>...</td>\n",
       "      <td>...</td>\n",
       "    </tr>\n",
       "    <tr>\n",
       "      <th>1662</th>\n",
       "      <td>1662</td>\n",
       "      <td>http://knowledgeweb.semanticweb.org/heterogeneity/alignmentCell</td>\n",
       "      <td>http://dbkwik.webdatacommons.org/marvelcinematicuniverse.wikia.com/property/name</td>\n",
       "      <td>http://dbkwik.webdatacommons.org/marvel.wikia.com/property/name</td>\n",
       "      <td>=</td>\n",
       "      <td>1.0</td>\n",
       "    </tr>\n",
       "    <tr>\n",
       "      <th>1663</th>\n",
       "      <td>1663</td>\n",
       "      <td>http://knowledgeweb.semanticweb.org/heterogeneity/alignmentCell</td>\n",
       "      <td>http://dbkwik.webdatacommons.org/marvelcinematicuniverse.wikia.com/property/gender</td>\n",
       "      <td>http://dbkwik.webdatacommons.org/marvel.wikia.com/property/gender</td>\n",
       "      <td>=</td>\n",
       "      <td>1.0</td>\n",
       "    </tr>\n",
       "    <tr>\n",
       "      <th>1664</th>\n",
       "      <td>1664</td>\n",
       "      <td>http://knowledgeweb.semanticweb.org/heterogeneity/alignmentCell</td>\n",
       "      <td>http://dbkwik.webdatacommons.org/marvelcinematicuniverse.wikia.com/property/title</td>\n",
       "      <td>http://dbkwik.webdatacommons.org/marvel.wikia.com/property/title</td>\n",
       "      <td>=</td>\n",
       "      <td>1.0</td>\n",
       "    </tr>\n",
       "    <tr>\n",
       "      <th>1665</th>\n",
       "      <td>1665</td>\n",
       "      <td>http://knowledgeweb.semanticweb.org/heterogeneity/alignmentCell</td>\n",
       "      <td>http://dbkwik.webdatacommons.org/marvelcinematicuniverse.wikia.com/property/next</td>\n",
       "      <td>http://dbkwik.webdatacommons.org/marvel.wikia.com/property/next</td>\n",
       "      <td>=</td>\n",
       "      <td>1.0</td>\n",
       "    </tr>\n",
       "    <tr>\n",
       "      <th>1666</th>\n",
       "      <td>1666</td>\n",
       "      <td>http://knowledgeweb.semanticweb.org/heterogeneity/alignmentCell</td>\n",
       "      <td>http://dbkwik.webdatacommons.org/marvelcinematicuniverse.wikia.com/property/previous</td>\n",
       "      <td>http://dbkwik.webdatacommons.org/marvel.wikia.com/property/previous</td>\n",
       "      <td>=</td>\n",
       "      <td>1.0</td>\n",
       "    </tr>\n",
       "  </tbody>\n",
       "</table>\n",
       "<p>1667 rows × 6 columns</p>\n",
       "</div>"
      ],
      "text/plain": [
       "      Unnamed: 0  \\\n",
       "0              0   \n",
       "1              1   \n",
       "2              2   \n",
       "3              3   \n",
       "4              4   \n",
       "...          ...   \n",
       "1662        1662   \n",
       "1663        1663   \n",
       "1664        1664   \n",
       "1665        1665   \n",
       "1666        1666   \n",
       "\n",
       "                      http://www.w3.org/1999/02/22-rdf-syntax-ns#type  \\\n",
       "0     http://knowledgeweb.semanticweb.org/heterogeneity/alignmentCell   \n",
       "1     http://knowledgeweb.semanticweb.org/heterogeneity/alignmentCell   \n",
       "2     http://knowledgeweb.semanticweb.org/heterogeneity/alignmentCell   \n",
       "3     http://knowledgeweb.semanticweb.org/heterogeneity/alignmentCell   \n",
       "4     http://knowledgeweb.semanticweb.org/heterogeneity/alignmentCell   \n",
       "...                                                               ...   \n",
       "1662  http://knowledgeweb.semanticweb.org/heterogeneity/alignmentCell   \n",
       "1663  http://knowledgeweb.semanticweb.org/heterogeneity/alignmentCell   \n",
       "1664  http://knowledgeweb.semanticweb.org/heterogeneity/alignmentCell   \n",
       "1665  http://knowledgeweb.semanticweb.org/heterogeneity/alignmentCell   \n",
       "1666  http://knowledgeweb.semanticweb.org/heterogeneity/alignmentCell   \n",
       "\n",
       "                                                                                                e1  \\\n",
       "0             http://dbkwik.webdatacommons.org/marvelcinematicuniverse.wikia.com/resource/A%27Lars   \n",
       "1     http://dbkwik.webdatacommons.org/marvelcinematicuniverse.wikia.com/resource/A%27askavariians   \n",
       "2               http://dbkwik.webdatacommons.org/marvelcinematicuniverse.wikia.com/resource/A.I.M.   \n",
       "3               http://dbkwik.webdatacommons.org/marvelcinematicuniverse.wikia.com/resource/Aakons   \n",
       "4              http://dbkwik.webdatacommons.org/marvelcinematicuniverse.wikia.com/resource/Prowler   \n",
       "...                                                                                            ...   \n",
       "1662              http://dbkwik.webdatacommons.org/marvelcinematicuniverse.wikia.com/property/name   \n",
       "1663            http://dbkwik.webdatacommons.org/marvelcinematicuniverse.wikia.com/property/gender   \n",
       "1664             http://dbkwik.webdatacommons.org/marvelcinematicuniverse.wikia.com/property/title   \n",
       "1665              http://dbkwik.webdatacommons.org/marvelcinematicuniverse.wikia.com/property/next   \n",
       "1666          http://dbkwik.webdatacommons.org/marvelcinematicuniverse.wikia.com/property/previous   \n",
       "\n",
       "                                                                           e2  \\\n",
       "0         http://dbkwik.webdatacommons.org/marvel.wikia.com/resource/A%27Lars   \n",
       "1     http://dbkwik.webdatacommons.org/marvel.wikia.com/resource/A%27askvarii   \n",
       "2           http://dbkwik.webdatacommons.org/marvel.wikia.com/resource/A.I.M.   \n",
       "3            http://dbkwik.webdatacommons.org/marvel.wikia.com/resource/Aakon   \n",
       "4      http://dbkwik.webdatacommons.org/marvel.wikia.com/resource/Aaron_Davis   \n",
       "...                                                                       ...   \n",
       "1662          http://dbkwik.webdatacommons.org/marvel.wikia.com/property/name   \n",
       "1663        http://dbkwik.webdatacommons.org/marvel.wikia.com/property/gender   \n",
       "1664         http://dbkwik.webdatacommons.org/marvel.wikia.com/property/title   \n",
       "1665          http://dbkwik.webdatacommons.org/marvel.wikia.com/property/next   \n",
       "1666      http://dbkwik.webdatacommons.org/marvel.wikia.com/property/previous   \n",
       "\n",
       "     http://knowledgeweb.semanticweb.org/heterogeneity/alignmentrelation  sim  \n",
       "0                                                                      =  1.0  \n",
       "1                                                                      =  1.0  \n",
       "2                                                                      =  1.0  \n",
       "3                                                                      =  1.0  \n",
       "4                                                                      =  1.0  \n",
       "...                                                                  ...  ...  \n",
       "1662                                                                   =  1.0  \n",
       "1663                                                                   =  1.0  \n",
       "1664                                                                   =  1.0  \n",
       "1665                                                                   =  1.0  \n",
       "1666                                                                   =  1.0  \n",
       "\n",
       "[1667 rows x 6 columns]"
      ]
     },
     "execution_count": 188,
     "metadata": {},
     "output_type": "execute_result"
    }
   ],
   "source": [
    "match_df"
   ]
  },
  {
   "cell_type": "code",
   "execution_count": 189,
   "id": "ce1a7f73-d703-4fa2-80af-378213e2ec22",
   "metadata": {},
   "outputs": [],
   "source": [
    "match_df['e1'] = match_df['e1'].str.replace('starwars.wikia.com', 'starwars.')"
   ]
  },
  {
   "cell_type": "code",
   "execution_count": 190,
   "id": "ce03189b-e6cd-4adf-bc73-351444294f3f",
   "metadata": {},
   "outputs": [],
   "source": [
    "match_df = match_df[match_df['e1'].str.contains('/resource/') & match_df['e2'].str.contains('/resource/')]"
   ]
  },
  {
   "cell_type": "code",
   "execution_count": 191,
   "id": "9078976a-04db-4f93-99e2-e8e6196eb086",
   "metadata": {},
   "outputs": [],
   "source": [
    "match_df = match_df[['e1', 'e2']]"
   ]
  },
  {
   "cell_type": "code",
   "execution_count": 192,
   "id": "73c1535d",
   "metadata": {},
   "outputs": [],
   "source": [
    "result_df = pd.merge(baseline_df, match_df, left_on=['e1', 'e2'], right_on=['e1', 'e2'])"
   ]
  },
  {
   "cell_type": "code",
   "execution_count": 193,
   "id": "371bbc33-a46d-4b3e-a180-ca9602da67cb",
   "metadata": {},
   "outputs": [
    {
     "data": {
      "text/html": [
       "<div>\n",
       "<style scoped>\n",
       "    .dataframe tbody tr th:only-of-type {\n",
       "        vertical-align: middle;\n",
       "    }\n",
       "\n",
       "    .dataframe tbody tr th {\n",
       "        vertical-align: top;\n",
       "    }\n",
       "\n",
       "    .dataframe thead th {\n",
       "        text-align: right;\n",
       "    }\n",
       "</style>\n",
       "<table border=\"1\" class=\"dataframe\">\n",
       "  <thead>\n",
       "    <tr style=\"text-align: right;\">\n",
       "      <th></th>\n",
       "      <th>Unnamed: 0.1</th>\n",
       "      <th>e1</th>\n",
       "      <th>e2</th>\n",
       "      <th>sim</th>\n",
       "      <th>Unnamed: 0</th>\n",
       "    </tr>\n",
       "  </thead>\n",
       "  <tbody>\n",
       "    <tr>\n",
       "      <th>0</th>\n",
       "      <td>129</td>\n",
       "      <td>http://dbkwik.webdatacommons.org/marvelcinematicuniverse.wikia.com/resource/A.I.M.</td>\n",
       "      <td>http://dbkwik.webdatacommons.org/marvel.wikia.com/resource/A.I.M.</td>\n",
       "      <td>0.950000</td>\n",
       "      <td>NaN</td>\n",
       "    </tr>\n",
       "    <tr>\n",
       "      <th>1</th>\n",
       "      <td>134</td>\n",
       "      <td>http://dbkwik.webdatacommons.org/marvelcinematicuniverse.wikia.com/resource/A.R.M.O.R.</td>\n",
       "      <td>http://dbkwik.webdatacommons.org/marvel.wikia.com/resource/Alternate_Reality_Monitoring_and_Operational_Response_Agency_(Earth-616)</td>\n",
       "      <td>0.950000</td>\n",
       "      <td>NaN</td>\n",
       "    </tr>\n",
       "    <tr>\n",
       "      <th>2</th>\n",
       "      <td>176</td>\n",
       "      <td>http://dbkwik.webdatacommons.org/marvelcinematicuniverse.wikia.com/resource/Aakons</td>\n",
       "      <td>http://dbkwik.webdatacommons.org/marvel.wikia.com/resource/Aakon</td>\n",
       "      <td>0.840365</td>\n",
       "      <td>NaN</td>\n",
       "    </tr>\n",
       "    <tr>\n",
       "      <th>3</th>\n",
       "      <td>213</td>\n",
       "      <td>http://dbkwik.webdatacommons.org/marvelcinematicuniverse.wikia.com/resource/AccuTech</td>\n",
       "      <td>http://dbkwik.webdatacommons.org/marvel.wikia.com/resource/AccuTech</td>\n",
       "      <td>0.950000</td>\n",
       "      <td>NaN</td>\n",
       "    </tr>\n",
       "    <tr>\n",
       "      <th>4</th>\n",
       "      <td>242</td>\n",
       "      <td>http://dbkwik.webdatacommons.org/marvelcinematicuniverse.wikia.com/resource/Adina_Johnson</td>\n",
       "      <td>http://dbkwik.webdatacommons.org/marvel.wikia.com/resource/Mrs._Johnson</td>\n",
       "      <td>0.762661</td>\n",
       "      <td>NaN</td>\n",
       "    </tr>\n",
       "    <tr>\n",
       "      <th>...</th>\n",
       "      <td>...</td>\n",
       "      <td>...</td>\n",
       "      <td>...</td>\n",
       "      <td>...</td>\n",
       "      <td>...</td>\n",
       "    </tr>\n",
       "    <tr>\n",
       "      <th>1007</th>\n",
       "      <td>1971</td>\n",
       "      <td>http://dbkwik.webdatacommons.org/marvelcinematicuniverse.wikia.com/resource/Zen-Whoberi</td>\n",
       "      <td>http://dbkwik.webdatacommons.org/marvel.wikia.com/resource/Zen-Whoberi</td>\n",
       "      <td>0.950000</td>\n",
       "      <td>1971.0</td>\n",
       "    </tr>\n",
       "    <tr>\n",
       "      <th>1008</th>\n",
       "      <td>1974</td>\n",
       "      <td>http://dbkwik.webdatacommons.org/marvelcinematicuniverse.wikia.com/resource/Zhou_Cheng</td>\n",
       "      <td>http://dbkwik.webdatacommons.org/marvel.wikia.com/resource/Zhou_Cheng</td>\n",
       "      <td>0.950000</td>\n",
       "      <td>1974.0</td>\n",
       "    </tr>\n",
       "    <tr>\n",
       "      <th>1009</th>\n",
       "      <td>1975</td>\n",
       "      <td>http://dbkwik.webdatacommons.org/marvelcinematicuniverse.wikia.com/resource/Zodiac_Key</td>\n",
       "      <td>http://dbkwik.webdatacommons.org/marvel.wikia.com/resource/Zodiac_Key</td>\n",
       "      <td>0.950000</td>\n",
       "      <td>1975.0</td>\n",
       "    </tr>\n",
       "    <tr>\n",
       "      <th>1010</th>\n",
       "      <td>1976</td>\n",
       "      <td>http://dbkwik.webdatacommons.org/marvelcinematicuniverse.wikia.com/resource/Zuri</td>\n",
       "      <td>http://dbkwik.webdatacommons.org/marvel.wikia.com/resource/Zuri</td>\n",
       "      <td>0.950000</td>\n",
       "      <td>1976.0</td>\n",
       "    </tr>\n",
       "    <tr>\n",
       "      <th>1011</th>\n",
       "      <td>1977</td>\n",
       "      <td>http://dbkwik.webdatacommons.org/marvelcinematicuniverse.wikia.com/resource/Zürich</td>\n",
       "      <td>http://dbkwik.webdatacommons.org/marvel.wikia.com/resource/Zurich</td>\n",
       "      <td>0.950000</td>\n",
       "      <td>1977.0</td>\n",
       "    </tr>\n",
       "  </tbody>\n",
       "</table>\n",
       "<p>1012 rows × 5 columns</p>\n",
       "</div>"
      ],
      "text/plain": [
       "      Unnamed: 0.1  \\\n",
       "0              129   \n",
       "1              134   \n",
       "2              176   \n",
       "3              213   \n",
       "4              242   \n",
       "...            ...   \n",
       "1007          1971   \n",
       "1008          1974   \n",
       "1009          1975   \n",
       "1010          1976   \n",
       "1011          1977   \n",
       "\n",
       "                                                                                             e1  \\\n",
       "0            http://dbkwik.webdatacommons.org/marvelcinematicuniverse.wikia.com/resource/A.I.M.   \n",
       "1        http://dbkwik.webdatacommons.org/marvelcinematicuniverse.wikia.com/resource/A.R.M.O.R.   \n",
       "2            http://dbkwik.webdatacommons.org/marvelcinematicuniverse.wikia.com/resource/Aakons   \n",
       "3          http://dbkwik.webdatacommons.org/marvelcinematicuniverse.wikia.com/resource/AccuTech   \n",
       "4     http://dbkwik.webdatacommons.org/marvelcinematicuniverse.wikia.com/resource/Adina_Johnson   \n",
       "...                                                                                         ...   \n",
       "1007    http://dbkwik.webdatacommons.org/marvelcinematicuniverse.wikia.com/resource/Zen-Whoberi   \n",
       "1008     http://dbkwik.webdatacommons.org/marvelcinematicuniverse.wikia.com/resource/Zhou_Cheng   \n",
       "1009     http://dbkwik.webdatacommons.org/marvelcinematicuniverse.wikia.com/resource/Zodiac_Key   \n",
       "1010           http://dbkwik.webdatacommons.org/marvelcinematicuniverse.wikia.com/resource/Zuri   \n",
       "1011         http://dbkwik.webdatacommons.org/marvelcinematicuniverse.wikia.com/resource/Zürich   \n",
       "\n",
       "                                                                                                                                       e2  \\\n",
       "0                                                                       http://dbkwik.webdatacommons.org/marvel.wikia.com/resource/A.I.M.   \n",
       "1     http://dbkwik.webdatacommons.org/marvel.wikia.com/resource/Alternate_Reality_Monitoring_and_Operational_Response_Agency_(Earth-616)   \n",
       "2                                                                        http://dbkwik.webdatacommons.org/marvel.wikia.com/resource/Aakon   \n",
       "3                                                                     http://dbkwik.webdatacommons.org/marvel.wikia.com/resource/AccuTech   \n",
       "4                                                                 http://dbkwik.webdatacommons.org/marvel.wikia.com/resource/Mrs._Johnson   \n",
       "...                                                                                                                                   ...   \n",
       "1007                                                               http://dbkwik.webdatacommons.org/marvel.wikia.com/resource/Zen-Whoberi   \n",
       "1008                                                                http://dbkwik.webdatacommons.org/marvel.wikia.com/resource/Zhou_Cheng   \n",
       "1009                                                                http://dbkwik.webdatacommons.org/marvel.wikia.com/resource/Zodiac_Key   \n",
       "1010                                                                      http://dbkwik.webdatacommons.org/marvel.wikia.com/resource/Zuri   \n",
       "1011                                                                    http://dbkwik.webdatacommons.org/marvel.wikia.com/resource/Zurich   \n",
       "\n",
       "           sim  Unnamed: 0  \n",
       "0     0.950000         NaN  \n",
       "1     0.950000         NaN  \n",
       "2     0.840365         NaN  \n",
       "3     0.950000         NaN  \n",
       "4     0.762661         NaN  \n",
       "...        ...         ...  \n",
       "1007  0.950000      1971.0  \n",
       "1008  0.950000      1974.0  \n",
       "1009  0.950000      1975.0  \n",
       "1010  0.950000      1976.0  \n",
       "1011  0.950000      1977.0  \n",
       "\n",
       "[1012 rows x 5 columns]"
      ]
     },
     "execution_count": 193,
     "metadata": {},
     "output_type": "execute_result"
    }
   ],
   "source": [
    "result_df"
   ]
  },
  {
   "cell_type": "code",
   "execution_count": 194,
   "id": "e715747b-c9fa-4ce0-b59b-f16fc45adc4d",
   "metadata": {},
   "outputs": [],
   "source": [
    "baseline_df['chosen_e2_value'] = baseline_df['e2']"
   ]
  },
  {
   "cell_type": "code",
   "execution_count": 195,
   "id": "a864fd82",
   "metadata": {},
   "outputs": [],
   "source": [
    "hit = 0\n",
    "for index, row in baseline_df.iterrows():\n",
    "    e1 = row['e1']\n",
    "    e2 = row['chosen_e2_value']\n",
    "    \n",
    "    if ((result_df['e1'] == e1) & (result_df['e2'] == e2)).any():\n",
    "        baseline_df.at[index, 'Predicted'] = True\n",
    "        hit += 0\n",
    "    else:\n",
    "        baseline_df.at[index, 'Predicted'] = False"
   ]
  },
  {
   "cell_type": "code",
   "execution_count": 196,
   "id": "5c1c4c1d",
   "metadata": {},
   "outputs": [
    {
     "data": {
      "text/html": [
       "<div>\n",
       "<style scoped>\n",
       "    .dataframe tbody tr th:only-of-type {\n",
       "        vertical-align: middle;\n",
       "    }\n",
       "\n",
       "    .dataframe tbody tr th {\n",
       "        vertical-align: top;\n",
       "    }\n",
       "\n",
       "    .dataframe thead th {\n",
       "        text-align: right;\n",
       "    }\n",
       "</style>\n",
       "<table border=\"1\" class=\"dataframe\">\n",
       "  <thead>\n",
       "    <tr style=\"text-align: right;\">\n",
       "      <th></th>\n",
       "      <th>Unnamed: 0.1</th>\n",
       "      <th>e1</th>\n",
       "      <th>e2</th>\n",
       "      <th>sim</th>\n",
       "      <th>Unnamed: 0</th>\n",
       "      <th>chosen_e2_value</th>\n",
       "      <th>Predicted</th>\n",
       "    </tr>\n",
       "  </thead>\n",
       "  <tbody>\n",
       "    <tr>\n",
       "      <th>0</th>\n",
       "      <td>0</td>\n",
       "      <td>http://dbkwik.webdatacommons.org/marvelcinematicuniverse.wikia.com/class/actor</td>\n",
       "      <td>http://dbkwik.webdatacommons.org/marvel.wikia.com/resource/Actor</td>\n",
       "      <td>0.950000</td>\n",
       "      <td>NaN</td>\n",
       "      <td>http://dbkwik.webdatacommons.org/marvel.wikia.com/resource/Actor</td>\n",
       "      <td>False</td>\n",
       "    </tr>\n",
       "    <tr>\n",
       "      <th>1</th>\n",
       "      <td>1</td>\n",
       "      <td>http://dbkwik.webdatacommons.org/marvelcinematicuniverse.wikia.com/class/armor</td>\n",
       "      <td>http://dbkwik.webdatacommons.org/marvel.wikia.com/class/main</td>\n",
       "      <td>0.821714</td>\n",
       "      <td>NaN</td>\n",
       "      <td>http://dbkwik.webdatacommons.org/marvel.wikia.com/class/main</td>\n",
       "      <td>False</td>\n",
       "    </tr>\n",
       "    <tr>\n",
       "      <th>2</th>\n",
       "      <td>2</td>\n",
       "      <td>http://dbkwik.webdatacommons.org/marvelcinematicuniverse.wikia.com/class/box</td>\n",
       "      <td>http://dbkwik.webdatacommons.org/marvel.wikia.com/resource/Box</td>\n",
       "      <td>0.950000</td>\n",
       "      <td>NaN</td>\n",
       "      <td>http://dbkwik.webdatacommons.org/marvel.wikia.com/resource/Box</td>\n",
       "      <td>False</td>\n",
       "    </tr>\n",
       "    <tr>\n",
       "      <th>3</th>\n",
       "      <td>3</td>\n",
       "      <td>http://dbkwik.webdatacommons.org/marvelcinematicuniverse.wikia.com/class/character</td>\n",
       "      <td>http://dbkwik.webdatacommons.org/marvel.wikia.com/class/md</td>\n",
       "      <td>0.824619</td>\n",
       "      <td>NaN</td>\n",
       "      <td>http://dbkwik.webdatacommons.org/marvel.wikia.com/class/md</td>\n",
       "      <td>False</td>\n",
       "    </tr>\n",
       "    <tr>\n",
       "      <th>4</th>\n",
       "      <td>4</td>\n",
       "      <td>http://dbkwik.webdatacommons.org/marvelcinematicuniverse.wikia.com/class/clear</td>\n",
       "      <td>http://dbkwik.webdatacommons.org/marvel.wikia.com/class/clear</td>\n",
       "      <td>0.949991</td>\n",
       "      <td>NaN</td>\n",
       "      <td>http://dbkwik.webdatacommons.org/marvel.wikia.com/class/clear</td>\n",
       "      <td>False</td>\n",
       "    </tr>\n",
       "    <tr>\n",
       "      <th>...</th>\n",
       "      <td>...</td>\n",
       "      <td>...</td>\n",
       "      <td>...</td>\n",
       "      <td>...</td>\n",
       "      <td>...</td>\n",
       "      <td>...</td>\n",
       "      <td>...</td>\n",
       "    </tr>\n",
       "    <tr>\n",
       "      <th>10424</th>\n",
       "      <td>1977</td>\n",
       "      <td>http://dbkwik.webdatacommons.org/marvelcinematicuniverse.wikia.com/resource/Zürich</td>\n",
       "      <td>http://dbkwik.webdatacommons.org/marvel.wikia.com/resource/Zurich</td>\n",
       "      <td>0.950000</td>\n",
       "      <td>1977.0</td>\n",
       "      <td>http://dbkwik.webdatacommons.org/marvel.wikia.com/resource/Zurich</td>\n",
       "      <td>True</td>\n",
       "    </tr>\n",
       "    <tr>\n",
       "      <th>10425</th>\n",
       "      <td>1978</td>\n",
       "      <td>http://dbkwik.webdatacommons.org/marvelcinematicuniverse.wikia.com/resource/Álex_García_López</td>\n",
       "      <td>http://dbkwik.webdatacommons.org/marvel.wikia.com/resource/Alex_Garcia_Lopez</td>\n",
       "      <td>0.950000</td>\n",
       "      <td>1978.0</td>\n",
       "      <td>http://dbkwik.webdatacommons.org/marvel.wikia.com/resource/Alex_Garcia_Lopez</td>\n",
       "      <td>False</td>\n",
       "    </tr>\n",
       "    <tr>\n",
       "      <th>10426</th>\n",
       "      <td>1979</td>\n",
       "      <td>http://www.w3.org/2002/07/owl#Class</td>\n",
       "      <td>http://www.w3.org/2002/07/owl#Class</td>\n",
       "      <td>0.500000</td>\n",
       "      <td>1979.0</td>\n",
       "      <td>http://www.w3.org/2002/07/owl#Class</td>\n",
       "      <td>False</td>\n",
       "    </tr>\n",
       "    <tr>\n",
       "      <th>10427</th>\n",
       "      <td>1980</td>\n",
       "      <td>http://www.w3.org/2002/07/owl#Thing</td>\n",
       "      <td>http://www.w3.org/2002/07/owl#Thing</td>\n",
       "      <td>0.500000</td>\n",
       "      <td>1980.0</td>\n",
       "      <td>http://www.w3.org/2002/07/owl#Thing</td>\n",
       "      <td>False</td>\n",
       "    </tr>\n",
       "    <tr>\n",
       "      <th>10428</th>\n",
       "      <td>1981</td>\n",
       "      <td>http://www.w3.org/2004/02/skos/core#Concept</td>\n",
       "      <td>http://www.w3.org/2004/02/skos/core#Concept</td>\n",
       "      <td>0.500000</td>\n",
       "      <td>1981.0</td>\n",
       "      <td>http://www.w3.org/2004/02/skos/core#Concept</td>\n",
       "      <td>False</td>\n",
       "    </tr>\n",
       "  </tbody>\n",
       "</table>\n",
       "<p>10429 rows × 7 columns</p>\n",
       "</div>"
      ],
      "text/plain": [
       "       Unnamed: 0.1  \\\n",
       "0                 0   \n",
       "1                 1   \n",
       "2                 2   \n",
       "3                 3   \n",
       "4                 4   \n",
       "...             ...   \n",
       "10424          1977   \n",
       "10425          1978   \n",
       "10426          1979   \n",
       "10427          1980   \n",
       "10428          1981   \n",
       "\n",
       "                                                                                                  e1  \\\n",
       "0                     http://dbkwik.webdatacommons.org/marvelcinematicuniverse.wikia.com/class/actor   \n",
       "1                     http://dbkwik.webdatacommons.org/marvelcinematicuniverse.wikia.com/class/armor   \n",
       "2                       http://dbkwik.webdatacommons.org/marvelcinematicuniverse.wikia.com/class/box   \n",
       "3                 http://dbkwik.webdatacommons.org/marvelcinematicuniverse.wikia.com/class/character   \n",
       "4                     http://dbkwik.webdatacommons.org/marvelcinematicuniverse.wikia.com/class/clear   \n",
       "...                                                                                              ...   \n",
       "10424             http://dbkwik.webdatacommons.org/marvelcinematicuniverse.wikia.com/resource/Zürich   \n",
       "10425  http://dbkwik.webdatacommons.org/marvelcinematicuniverse.wikia.com/resource/Álex_García_López   \n",
       "10426                                                            http://www.w3.org/2002/07/owl#Class   \n",
       "10427                                                            http://www.w3.org/2002/07/owl#Thing   \n",
       "10428                                                    http://www.w3.org/2004/02/skos/core#Concept   \n",
       "\n",
       "                                                                                 e2  \\\n",
       "0                  http://dbkwik.webdatacommons.org/marvel.wikia.com/resource/Actor   \n",
       "1                      http://dbkwik.webdatacommons.org/marvel.wikia.com/class/main   \n",
       "2                    http://dbkwik.webdatacommons.org/marvel.wikia.com/resource/Box   \n",
       "3                        http://dbkwik.webdatacommons.org/marvel.wikia.com/class/md   \n",
       "4                     http://dbkwik.webdatacommons.org/marvel.wikia.com/class/clear   \n",
       "...                                                                             ...   \n",
       "10424             http://dbkwik.webdatacommons.org/marvel.wikia.com/resource/Zurich   \n",
       "10425  http://dbkwik.webdatacommons.org/marvel.wikia.com/resource/Alex_Garcia_Lopez   \n",
       "10426                                           http://www.w3.org/2002/07/owl#Class   \n",
       "10427                                           http://www.w3.org/2002/07/owl#Thing   \n",
       "10428                                   http://www.w3.org/2004/02/skos/core#Concept   \n",
       "\n",
       "            sim  Unnamed: 0  \\\n",
       "0      0.950000         NaN   \n",
       "1      0.821714         NaN   \n",
       "2      0.950000         NaN   \n",
       "3      0.824619         NaN   \n",
       "4      0.949991         NaN   \n",
       "...         ...         ...   \n",
       "10424  0.950000      1977.0   \n",
       "10425  0.950000      1978.0   \n",
       "10426  0.500000      1979.0   \n",
       "10427  0.500000      1980.0   \n",
       "10428  0.500000      1981.0   \n",
       "\n",
       "                                                                    chosen_e2_value  \\\n",
       "0                  http://dbkwik.webdatacommons.org/marvel.wikia.com/resource/Actor   \n",
       "1                      http://dbkwik.webdatacommons.org/marvel.wikia.com/class/main   \n",
       "2                    http://dbkwik.webdatacommons.org/marvel.wikia.com/resource/Box   \n",
       "3                        http://dbkwik.webdatacommons.org/marvel.wikia.com/class/md   \n",
       "4                     http://dbkwik.webdatacommons.org/marvel.wikia.com/class/clear   \n",
       "...                                                                             ...   \n",
       "10424             http://dbkwik.webdatacommons.org/marvel.wikia.com/resource/Zurich   \n",
       "10425  http://dbkwik.webdatacommons.org/marvel.wikia.com/resource/Alex_Garcia_Lopez   \n",
       "10426                                           http://www.w3.org/2002/07/owl#Class   \n",
       "10427                                           http://www.w3.org/2002/07/owl#Thing   \n",
       "10428                                   http://www.w3.org/2004/02/skos/core#Concept   \n",
       "\n",
       "      Predicted  \n",
       "0         False  \n",
       "1         False  \n",
       "2         False  \n",
       "3         False  \n",
       "4         False  \n",
       "...         ...  \n",
       "10424      True  \n",
       "10425     False  \n",
       "10426     False  \n",
       "10427     False  \n",
       "10428     False  \n",
       "\n",
       "[10429 rows x 7 columns]"
      ]
     },
     "execution_count": 196,
     "metadata": {},
     "output_type": "execute_result"
    }
   ],
   "source": [
    "baseline_df"
   ]
  },
  {
   "cell_type": "code",
   "execution_count": 197,
   "id": "9786a37b",
   "metadata": {},
   "outputs": [],
   "source": [
    "for index, row in baseline_df.iterrows():\n",
    "    e1 = row['e1']\n",
    "    e2 = row['chosen_e2_value']\n",
    "    \n",
    "    if ((match_df['e1'] == e1) | (match_df['e2'] == e2)).any():\n",
    "        baseline_df.at[index, 'Analyzed'] = True\n",
    "    else:\n",
    "        baseline_df.at[index, 'Analyzed'] = False"
   ]
  },
  {
   "cell_type": "code",
   "execution_count": 198,
   "id": "a85cc3dc",
   "metadata": {},
   "outputs": [],
   "source": [
    "pd.set_option('display.max_colwidth', None)\n"
   ]
  },
  {
   "cell_type": "code",
   "execution_count": 199,
   "id": "bb51d0be",
   "metadata": {},
   "outputs": [],
   "source": [
    "analyzed_baseline_df = baseline_df[baseline_df['Analyzed'] == True]"
   ]
  },
  {
   "cell_type": "code",
   "execution_count": 200,
   "id": "74e45bd3-f402-4897-bd56-6a9cc5122762",
   "metadata": {},
   "outputs": [],
   "source": [
    "grouped_df = baseline_df.groupby('e1')"
   ]
  },
  {
   "cell_type": "code",
   "execution_count": 201,
   "id": "6420c2bc",
   "metadata": {},
   "outputs": [
    {
     "data": {
      "text/plain": [
       "3133"
      ]
     },
     "execution_count": 201,
     "metadata": {},
     "output_type": "execute_result"
    }
   ],
   "source": [
    "len(analyzed_baseline_df)"
   ]
  },
  {
   "cell_type": "code",
   "execution_count": 202,
   "id": "8d330557",
   "metadata": {},
   "outputs": [
    {
     "data": {
      "text/plain": [
       "1012"
      ]
     },
     "execution_count": 202,
     "metadata": {},
     "output_type": "execute_result"
    }
   ],
   "source": [
    "len(analyzed_baseline_df[analyzed_baseline_df['Predicted'] == True])"
   ]
  },
  {
   "cell_type": "code",
   "execution_count": 203,
   "id": "d701a797-da7c-431f-96d6-421f1f2798d1",
   "metadata": {},
   "outputs": [
    {
     "data": {
      "text/plain": [
       "1012"
      ]
     },
     "execution_count": 203,
     "metadata": {},
     "output_type": "execute_result"
    }
   ],
   "source": [
    "len(analyzed_baseline_df[analyzed_baseline_df['Predicted'] == True])"
   ]
  },
  {
   "cell_type": "code",
   "execution_count": 204,
   "id": "42e40007-32e2-4ee5-9abf-d08683d9aaf3",
   "metadata": {},
   "outputs": [
    {
     "data": {
      "text/plain": [
       "1654"
      ]
     },
     "execution_count": 204,
     "metadata": {},
     "output_type": "execute_result"
    }
   ],
   "source": [
    "len(match_df)"
   ]
  },
  {
   "cell_type": "code",
   "execution_count": 205,
   "id": "1d2689d7-fca5-4fb1-8d17-3783b1e4a874",
   "metadata": {},
   "outputs": [
    {
     "data": {
      "text/plain": [
       "0.6118500604594922"
      ]
     },
     "execution_count": 205,
     "metadata": {},
     "output_type": "execute_result"
    }
   ],
   "source": [
    "len(analyzed_baseline_df[analyzed_baseline_df['Predicted'] == True]) / len(match_df)"
   ]
  },
  {
   "cell_type": "code",
   "execution_count": 206,
   "id": "b3d51a4c-47c9-4e44-a87b-a90a58508fd2",
   "metadata": {},
   "outputs": [
    {
     "data": {
      "text/plain": [
       "1012"
      ]
     },
     "execution_count": 206,
     "metadata": {},
     "output_type": "execute_result"
    }
   ],
   "source": [
    "len(analyzed_baseline_df[analyzed_baseline_df['Predicted'] == True])"
   ]
  },
  {
   "cell_type": "code",
   "execution_count": 207,
   "id": "d6716c82-5932-4806-9a81-c2607c9f90af",
   "metadata": {},
   "outputs": [],
   "source": [
    "correct_total = len(analyzed_baseline_df[analyzed_baseline_df['Predicted'] == True])"
   ]
  },
  {
   "cell_type": "code",
   "execution_count": 208,
   "id": "facbbe38-6e09-445e-aca7-94d19fbf1d9e",
   "metadata": {},
   "outputs": [],
   "source": [
    "analyzed_total = len(baseline_df)"
   ]
  },
  {
   "cell_type": "code",
   "execution_count": 209,
   "id": "382b3eb4-0f4d-492b-b560-d9b089f5a3b9",
   "metadata": {},
   "outputs": [],
   "source": [
    "gs_total = len(match_df)"
   ]
  },
  {
   "cell_type": "code",
   "execution_count": 210,
   "id": "203c479b-0453-4cb4-9c21-8d2647ed6913",
   "metadata": {},
   "outputs": [],
   "source": [
    "precision = correct_total / analyzed_total"
   ]
  },
  {
   "cell_type": "code",
   "execution_count": 211,
   "id": "46fc4429-8b16-4a55-b741-617abc5fe2b5",
   "metadata": {},
   "outputs": [],
   "source": [
    "recall = correct_total / gs_total"
   ]
  },
  {
   "cell_type": "code",
   "execution_count": 212,
   "id": "216eb368-18ba-4179-8066-ecd3f1dc4df2",
   "metadata": {},
   "outputs": [
    {
     "data": {
      "text/plain": [
       "0.09703710806405216"
      ]
     },
     "execution_count": 212,
     "metadata": {},
     "output_type": "execute_result"
    }
   ],
   "source": [
    "precision"
   ]
  },
  {
   "cell_type": "code",
   "execution_count": 213,
   "id": "ad17454f-ba17-450a-a105-e6f0c5f17b01",
   "metadata": {},
   "outputs": [
    {
     "data": {
      "text/plain": [
       "0.6118500604594922"
      ]
     },
     "execution_count": 213,
     "metadata": {},
     "output_type": "execute_result"
    }
   ],
   "source": [
    "recall"
   ]
  },
  {
   "cell_type": "code",
   "execution_count": 214,
   "id": "f9b9547a-4422-46c2-b8c0-7b6b7362e804",
   "metadata": {},
   "outputs": [
    {
     "data": {
      "text/plain": [
       "0.16750806918811553"
      ]
     },
     "execution_count": 214,
     "metadata": {},
     "output_type": "execute_result"
    }
   ],
   "source": [
    "f_measure = 2 * (precision * recall) / (precision + recall)\n",
    "f_measure"
   ]
  },
  {
   "cell_type": "code",
   "execution_count": 215,
   "id": "29cf0d57",
   "metadata": {},
   "outputs": [],
   "source": [
    "def precision_score(df, threshold):\n",
    "    threshold_df = df\n",
    "    \n",
    "    matches = len(threshold_df)\n",
    "    \n",
    "    if matches == 0:\n",
    "        return 0\n",
    "    \n",
    "    correct_matches_df = pd.merge(threshold_df, match_df, left_on=['e1', 'e2'], right_on=['e1', 'e2'])\n",
    "    \n",
    "    correct_matches = len(threshold_df[threshold_df['Predicted'] == True])\n",
    "    \n",
    "    return correct_matches / matches "
   ]
  },
  {
   "cell_type": "code",
   "execution_count": 216,
   "id": "c54f9030",
   "metadata": {},
   "outputs": [],
   "source": [
    "def recall_score(df, total_correct, threshold):\n",
    "    threshold_df = df\n",
    "    \n",
    "    correct_matches = len(threshold_df[threshold_df['Predicted'] == True])\n",
    "    \n",
    "    return correct_matches / total_correct"
   ]
  },
  {
   "cell_type": "code",
   "execution_count": 217,
   "id": "27934936",
   "metadata": {},
   "outputs": [
    {
     "data": {
      "image/png": "[encoded data removed]",
      "text/plain": [
       "<Figure size 640x480 with 1 Axes>"
      ]
     },
     "metadata": {},
     "output_type": "display_data"
    }
   ],
   "source": [
    "thresholds = np.arange(0, 1.01, 0.01)\n",
    "\n",
    "total_correct = len(match_df)\n",
    "\n",
    "precisions = [precision_score(baseline_df, t) for t in thresholds]\n",
    "recalls = [recall_score(baseline_df, total_correct, t) for t in thresholds]\n",
    "f_measures = []\n",
    "for precision, recall in zip(precisions, recalls):\n",
    "    f_measure = 0\n",
    "    if precision + recall > 0:\n",
    "        f_measure = 2 * (precision * recall) / (precision + recall)\n",
    "    f_measures.append(f_measure)\n",
    "    \n",
    "# Plot precision, recall, and F-measure\n",
    "plt.plot(thresholds, precisions, label='Precision')\n",
    "plt.plot(thresholds, recalls, label='Recall')\n",
    "plt.plot(thresholds, f_measures, label='F-measure')\n",
    "\n",
    "# Add labels and legend\n",
    "plt.xlabel('Threshold')\n",
    "plt.ylabel('Score')\n",
    "plt.legend()\n",
    "\n",
    "# Display the graph\n",
    "plt.show()"
   ]
  },
  {
   "cell_type": "code",
   "execution_count": 218,
   "id": "016a7a64",
   "metadata": {},
   "outputs": [
    {
     "name": "stdout",
     "output_type": "stream",
     "text": [
      "Max F-measure: 0.16750806918811553\n",
      "Related Precision: 0.09703710806405216\n",
      "Related Recall: 0.6118500604594922\n",
      "Related threshold: 0.0\n"
     ]
    }
   ],
   "source": [
    "max_index = f_measures.index(max(f_measures))\n",
    "\n",
    "# Get the corresponding precision and recall\n",
    "max_f = f_measures[max_index]\n",
    "related_precision = precisions[max_index]\n",
    "related_recall = recalls[max_index]\n",
    "related_threshold = thresholds[max_index]\n",
    "\n",
    "print(\"Max F-measure:\", max_f)\n",
    "print(\"Related Precision:\", related_precision)\n",
    "print(\"Related Recall:\", related_recall)\n",
    "print(\"Related threshold:\", related_threshold)"
   ]
  },
  {
   "cell_type": "code",
   "execution_count": null,
   "id": "98605852-486f-48a6-8927-9c726baceeea",
   "metadata": {},
   "outputs": [],
   "source": []
  }
 ],
 "metadata": {
  "kernelspec": {
   "display_name": "Python 3 (ipykernel)",
   "language": "python",
   "name": "python3"
  },
  "language_info": {
   "codemirror_mode": {
    "name": "ipython",
    "version": 3
   },
   "file_extension": ".py",
   "mimetype": "text/x-python",
   "name": "python",
   "nbconvert_exporter": "python",
   "pygments_lexer": "ipython3",
   "version": "3.8.16"
  }
 },
 "nbformat": 4,
 "nbformat_minor": 5
}
