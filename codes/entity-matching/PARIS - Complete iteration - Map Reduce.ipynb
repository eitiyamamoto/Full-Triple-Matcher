{
 "cells": [
  {
   "cell_type": "code",
   "execution_count": 1,
   "id": "a7a8129c",
   "metadata": {},
   "outputs": [
    {
     "name": "stderr",
     "output_type": "stream",
     "text": [
      "/var/folders/6f/k2t20zbs4db5khp6mgdq_06m0000gn/T/ipykernel_20917/3921616642.py:3: TqdmExperimentalWarning: Using `tqdm.autonotebook.tqdm` in notebook mode. Use `tqdm.tqdm` instead to force console mode (e.g. in jupyter console)\n",
      "  from tqdm.autonotebook import tqdm\n"
     ]
    }
   ],
   "source": [
    "from rdflib import Graph, URIRef, Namespace, Literal, XSD, RDF\n",
    "from rdflib.plugins.stores.sparqlstore import SPARQLStore\n",
    "from tqdm.autonotebook import tqdm\n",
    "import pandas as pd\n",
    "from copy import deepcopy\n",
    "import numpy\n",
    "#import multiprocessing\n",
    "from multiprocess import Pool, Manager"
   ]
  },
  {
   "cell_type": "code",
   "execution_count": 2,
   "id": "14f954bb",
   "metadata": {},
   "outputs": [],
   "source": [
    "GRAPH_1_INV_FUNC_PATH = ''\n",
    "GRAPH_1 = \"\"\n",
    "GRAPH_2_INV_FUNC_PATH = ''\n",
    "GRAPH_2 = \"\"\n",
    "#GRAPH_2 = \"http://localhost:9999/bigdata/sparql\"\n",
    "SUBJECT = 'subject'\n",
    "PREDICATE = 'predicate'\n",
    "INVERSE_FUNCTIONALITY = 'inverse_functionality'\n"
   ]
  },
  {
   "cell_type": "code",
   "execution_count": 3,
   "id": "e08032c8",
   "metadata": {
    "scrolled": true
   },
   "outputs": [
    {
     "data": {
      "text/plain": [
       "<Graph identifier=Nd03f74bafd8b4aefad8f1b060e93ee25 (<class 'rdflib.graph.Graph'>)>"
      ]
     },
     "execution_count": 3,
     "metadata": {},
     "output_type": "execute_result"
    }
   ],
   "source": [
    "graph_1_inv_func_df = pd.read_csv(GRAPH_1_INV_FUNC_PATH)\n",
    "\n",
    "threshold_graph_1_inv_func_df = graph_1_inv_func_df[graph_1_inv_func_df[INVERSE_FUNCTIONALITY] > 0.5]\n",
    "\n",
    "#graph_1_predicate_list = threshold_graph_1_inv_func_df[PREDICATE].tolist()\n",
    "\n",
    "graph_1 = Graph()\n",
    "graph_1.parse(GRAPH_1)"
   ]
  },
  {
   "cell_type": "code",
   "execution_count": 4,
   "id": "256a7c0c",
   "metadata": {},
   "outputs": [
    {
     "data": {
      "application/vnd.jupyter.widget-view+json": {
       "model_id": "e47bd4e8f10e4b27a9d29c523e3420d3",
       "version_major": 2,
       "version_minor": 0
      },
      "text/plain": [
       "  0%|          | 0/104 [00:00<?, ?it/s]"
      ]
     },
     "metadata": {},
     "output_type": "display_data"
    }
   ],
   "source": [
    "literal_y1_dict = dict()\n",
    "used_p1_dict = dict()\n",
    "graph_1_predicate_list = list()\n",
    "\n",
    "for index, row in tqdm(threshold_graph_1_inv_func_df.iterrows(), total=len(threshold_graph_1_inv_func_df)):\n",
    "    predicate = row[PREDICATE]\n",
    "    predicate_uri = URIRef(predicate)\n",
    "    \n",
    "    if sum(1 for _ in graph_1.subject_objects(predicate_uri)) < 5:\n",
    "        continue\n",
    "    \n",
    "    graph_1_predicate_list.append(predicate)\n",
    "    \n",
    "    for s, p, o in graph_1.triples((None, predicate_uri, None)):\n",
    "\n",
    "        if type(o) != Literal or not isinstance(o, Literal) or not (o.datatype is None or o.datatype == XSD.string or o.datatype == RDF.langString):\n",
    "            continue\n",
    "        \n",
    "        o_value = str(o)\n",
    "        if o_value not in literal_y1_dict.keys():\n",
    "            literal_y1_dict[o_value] = list()\n",
    "        y1_value_list = literal_y1_dict[o_value]\n",
    "        y1_value_list.append({\n",
    "            SUBJECT: s,\n",
    "            PREDICATE: predicate_uri\n",
    "        })"
   ]
  },
  {
   "cell_type": "code",
   "execution_count": 5,
   "id": "a00a7c17",
   "metadata": {},
   "outputs": [
    {
     "data": {
      "text/plain": [
       "<Graph identifier=Necf278958ed34d939893403d3c5a71c0 (<class 'rdflib.graph.Graph'>)>"
      ]
     },
     "execution_count": 5,
     "metadata": {},
     "output_type": "execute_result"
    }
   ],
   "source": [
    "graph_2_inv_func_df = pd.read_csv(GRAPH_2_INV_FUNC_PATH)\n",
    "\n",
    "threshold_graph_2_inv_func_df = graph_2_inv_func_df[graph_2_inv_func_df[INVERSE_FUNCTIONALITY] > 0.5]\n",
    "\n",
    "#graph_2_predicate_list = threshold_graph_2_inv_func_df[PREDICATE].tolist()\n",
    "\n",
    "graph_2 = Graph()\n",
    "graph_2.parse(GRAPH_2)\n",
    "#graph_2 = Graph(\"SPARQLStore\")\n",
    "#graph_2.open(GRAPH_2)"
   ]
  },
  {
   "cell_type": "code",
   "execution_count": 6,
   "id": "d39f8de5",
   "metadata": {
    "scrolled": true
   },
   "outputs": [
    {
     "data": {
      "application/vnd.jupyter.widget-view+json": {
       "model_id": "b2484a9e77c24fc8b4fe0936c808a4c6",
       "version_major": 2,
       "version_minor": 0
      },
      "text/plain": [
       "  0%|          | 0/122 [00:00<?, ?it/s]"
      ]
     },
     "metadata": {},
     "output_type": "display_data"
    }
   ],
   "source": [
    "y2_matches = dict()\n",
    "graph_2_predicate_list = list()\n",
    "\n",
    "for index, row in tqdm(threshold_graph_2_inv_func_df.iterrows(), total=len(threshold_graph_2_inv_func_df)):\n",
    "    predicate = row[PREDICATE]\n",
    "    predicate_uri = URIRef(predicate)\n",
    "    \n",
    "    if sum(1 for _ in graph_2.subject_objects(predicate_uri)) < 5:\n",
    "        continue\n",
    "        \n",
    "    graph_2_predicate_list.append(predicate)\n",
    "    \n",
    "    for s, o in graph_2.subject_objects(predicate_uri):\n",
    "        if type(o) != Literal or not isinstance(o, Literal) or not (o.datatype is None or o.datatype == XSD.string or o.datatype == RDF.langString):\n",
    "            continue\n",
    "        \n",
    "        # Check if exist match\n",
    "        o_value = str(o)\n",
    "        if o_value not in literal_y1_dict.keys():\n",
    "            continue\n",
    "            \n",
    "        if o_value not in y2_matches.keys():\n",
    "            y2_matches[o_value] = list()\n",
    "        y2_match_list = y2_matches[o_value]\n",
    "        y2_match_list.append({\n",
    "            SUBJECT: s,\n",
    "            PREDICATE: predicate_uri\n",
    "        })"
   ]
  },
  {
   "cell_type": "code",
   "execution_count": 7,
   "id": "a0f27c71",
   "metadata": {},
   "outputs": [],
   "source": [
    "def get_predicate_prob(predicate_pair_dict, p1, p2):\n",
    "    if p1 not in predicate_pair_dict.keys():\n",
    "        predicate_pair_dict[p1] = dict()\n",
    "    if p2 not in predicate_pair_dict[p1].keys():\n",
    "        predicate_pair_dict[p1][p2] = 0.1\n",
    "\n",
    "    return predicate_pair_dict[p1][p2]"
   ]
  },
  {
   "cell_type": "code",
   "execution_count": 8,
   "id": "fe6f55db",
   "metadata": {},
   "outputs": [
    {
     "data": {
      "application/vnd.jupyter.widget-view+json": {
       "model_id": "15ec1e39cbf943a6932867b0109c4ffe",
       "version_major": 2,
       "version_minor": 0
      },
      "text/plain": [
       "  0%|          | 0/104 [00:00<?, ?it/s]"
      ]
     },
     "metadata": {},
     "output_type": "display_data"
    }
   ],
   "source": [
    "inv_func_1_dict = dict()\n",
    "\n",
    "for index, row in tqdm(threshold_graph_1_inv_func_df.iterrows(), total=len(threshold_graph_1_inv_func_df)):\n",
    "    inv_func_1_dict[row['predicate']] = row['inverse_functionality']"
   ]
  },
  {
   "cell_type": "code",
   "execution_count": 9,
   "id": "1dcba341",
   "metadata": {},
   "outputs": [
    {
     "data": {
      "application/vnd.jupyter.widget-view+json": {
       "model_id": "7b14fe5233fb46dba0d351eff985a14c",
       "version_major": 2,
       "version_minor": 0
      },
      "text/plain": [
       "  0%|          | 0/122 [00:00<?, ?it/s]"
      ]
     },
     "metadata": {},
     "output_type": "display_data"
    }
   ],
   "source": [
    "inv_func_2_dict = dict()\n",
    "\n",
    "for index, row in tqdm(threshold_graph_2_inv_func_df.iterrows(), total=len(threshold_graph_2_inv_func_df)):\n",
    "    inv_func_2_dict[row['predicate']] = row['inverse_functionality']"
   ]
  },
  {
   "cell_type": "code",
   "execution_count": 10,
   "id": "dee730a1",
   "metadata": {},
   "outputs": [],
   "source": [
    "def save_predicate_pair(predicate_pair_counter, x1, p1, y1, x2, p2, y2):\n",
    "    predicate_pair_counter.append({\n",
    "        'x1': x1,\n",
    "        'p1': p1,\n",
    "        'y1': y1,\n",
    "        'x2': x2,\n",
    "        'p2': p2,\n",
    "        'y2': y2,\n",
    "    })"
   ]
  },
  {
   "cell_type": "code",
   "execution_count": 11,
   "id": "de8720e8",
   "metadata": {},
   "outputs": [],
   "source": [
    "def update_prob_entities(entity_pair_match_dict, x1, x2, p1, p2, prob_y):\n",
    "    if x1 not in entity_pair_match_dict.keys():\n",
    "        entity_pair_match_dict[x1] = dict()\n",
    "    if x2 not in entity_pair_match_dict[x1].keys():\n",
    "        entity_pair_match_dict[x1][x2] = 1\n",
    "    #if x1 == 'http://dbkwik.webdatacommons.org/finalfantasy./resource/Toad_(Final_Fantasy_V_enemy)':\n",
    "    #    print(len(entity_pair_match_dict[x1]))\n",
    "    \n",
    "    y1_pred = str(p1)\n",
    "    y2_pred = str(p2)\n",
    "    pred_prob_1_2 = get_predicate_prob(predicate_pair_dict_1, y1_pred, y2_pred)\n",
    "    pred_prob_2_1 = get_predicate_prob(predicate_pair_dict_2, y2_pred, y1_pred)\n",
    "\n",
    "    new_factor = (1-pred_prob_1_2*inv_func_1_dict[y1_pred] * prob_y) * (1-pred_prob_2_1*inv_func_2_dict[y2_pred] * prob_y)\n",
    "\n",
    "    entity_pair_match_dict[x1][x2] *= new_factor\n",
    "\n",
    "    return 1 - entity_pair_match_dict[x1][x2]"
   ]
  },
  {
   "cell_type": "code",
   "execution_count": 12,
   "id": "41df8782",
   "metadata": {},
   "outputs": [],
   "source": [
    "def calculate_entity_prob_using_attribute(new_entity_pair_match_dict):\n",
    "    for o_value, y2_match_list in tqdm(y2_matches.items(), desc='Attribute loop', leave=False):\n",
    "        y1_match_list = literal_y1_dict[o_value]\n",
    "\n",
    "        for y1_match in y1_match_list:\n",
    "            y1_subject = y1_match['subject']\n",
    "\n",
    "            for y2_match in y2_match_list:\n",
    "                y2_subject = y2_match['subject']\n",
    "\n",
    "\n",
    "                y1_pred = str(y1_match['predicate'])\n",
    "                y2_pred = str(y2_match['predicate'])\n",
    "                sim = update_prob_entities(new_entity_pair_match_dict, str(y1_subject), str(y2_subject),\n",
    "                                     y1_pred, y2_pred, 1)\n",
    "\n",
    "                if sim > 0.1:\n",
    "                    save_predicate_pair(predicate_pair_counter, str(y1_subject), y1_pred, o_value, str(y2_subject),\n",
    "                                        y2_pred, o_value)\n",
    "                "
   ]
  },
  {
   "cell_type": "code",
   "execution_count": 13,
   "id": "77dcb6e9",
   "metadata": {},
   "outputs": [],
   "source": [
    "def get_inbound_neighbors(graph, predicate_list, y, loaded_neighbors_dict):\n",
    "    if not y:\n",
    "        return []\n",
    "    \n",
    "    if y in loaded_neighbors_dict.keys():\n",
    "        return loaded_neighbors_dict[y]\n",
    "    \n",
    "    y_url = y\n",
    "    if type(y_url) != URIRef:\n",
    "        y_url = URIRef(y)\n",
    "    \n",
    "    attempts = 0\n",
    "    while attempts < 10:\n",
    "        try:\n",
    "            neighbor_list = list()\n",
    "            for s, p in graph.subject_predicates(y_url):\n",
    "                if str(p) in predicate_list:\n",
    "                    neighbor_list.append({\n",
    "                        'p': p,\n",
    "                        's': s\n",
    "                    })\n",
    "            return neighbor_list\n",
    "        except Exception as e:\n",
    "            print(e)\n",
    "            attempts += 1\n",
    "    loaded_neighbors_dict[y] = neighbor_list\n",
    "    return neighbor_list"
   ]
  },
  {
   "cell_type": "code",
   "execution_count": 14,
   "id": "435f1307",
   "metadata": {},
   "outputs": [],
   "source": [
    "def update_prob_entity_neighbors(entity_pair_dict, y1_neighbors,\n",
    "                                 y2_neighbors, y_sim, y1, y2):\n",
    "    for x1 in y1_neighbors:\n",
    "        for x2 in y2_neighbors:\n",
    "            x1_str = str(x1['s'])\n",
    "            x2_str = str(x2['s'])\n",
    "            p1_str = str(x1['p'])\n",
    "            p2_str = str(x2['p'])\n",
    "            sim = update_prob_entities(entity_pair_dict, x1_str, x2_str, p1_str, str(x2['p']),\n",
    "                                 y_sim)\n",
    "            if sim > 0.1:\n",
    "                save_predicate_pair(predicate_pair_counter, x1_str, p1_str, str(y1), x2_str, p2_str, str(y2))"
   ]
  },
  {
   "cell_type": "code",
   "execution_count": 15,
   "id": "ff5698cd",
   "metadata": {},
   "outputs": [],
   "source": [
    "def calculate_entity_prob_using_neighbors(new_entity_pair_dict, old_entity_pair_dict, loaded_neighbors_dict):\n",
    "    y1_keys = list(old_entity_pair_dict.keys())\n",
    "    for y1 in tqdm(y1_keys, desc='neighbor loop', leave=False):\n",
    "        y1_neighbors = get_inbound_neighbors(graph_1, graph_1_predicate_list, y1, loaded_neighbors_dict)\n",
    "        y2_keys = list(old_entity_pair_dict[y1].keys())\n",
    "        for y2 in y2_keys:\n",
    "            y_sim = 1\n",
    "            if y1 in new_entity_pair_dict.keys() and y2 in new_entity_pair_dict[y1].keys():\n",
    "                y_sim -= new_entity_pair_dict[y1][y2]\n",
    "            else:\n",
    "                y_sim -= old_entity_pair_dict[y1][y2]\n",
    "            if y_sim < 0.2:\n",
    "                continue\n",
    "            \n",
    "            y2_neighbors = get_inbound_neighbors(graph_2, graph_2_predicate_list, y2, loaded_neighbors_dict)\n",
    "            update_prob_entity_neighbors(new_entity_pair_dict, y1_neighbors, y2_neighbors, y_sim, y1, y2)\n",
    "    "
   ]
  },
  {
   "cell_type": "code",
   "execution_count": 16,
   "id": "763ed52c",
   "metadata": {},
   "outputs": [],
   "source": [
    "def get_prob_entity_pair(entity_pair_match_dict, s1, s2):\n",
    "    if s1 in entity_pair_match_dict.keys() and s2 in entity_pair_match_dict[s1].keys():\n",
    "        return 1 - entity_pair_match_dict[s1][s2]\n",
    "    return 0"
   ]
  },
  {
   "cell_type": "code",
   "execution_count": 17,
   "id": "612344b1",
   "metadata": {},
   "outputs": [],
   "source": [
    "def get_set_of_triples_by_predicate(predicate_pair_counter_df, reversed_bool):\n",
    "    if reversed_bool:\n",
    "        return predicate_pair_counter_df[['x2', 'p2', 'y2']].drop_duplicates()\n",
    "    else:\n",
    "        return predicate_pair_counter_df[['x1', 'p1', 'y1']].drop_duplicates()"
   ]
  },
  {
   "cell_type": "code",
   "execution_count": 18,
   "id": "4db60275",
   "metadata": {},
   "outputs": [],
   "source": [
    "def get_columns(reversed_bool):\n",
    "    if reversed_bool:\n",
    "        return {\n",
    "            'x1': 'x2',\n",
    "            'p1': 'p2',\n",
    "            'y1': 'y2',\n",
    "            'x2': 'x1',\n",
    "            'p2': 'p1',\n",
    "            'y2': 'y1'\n",
    "        }\n",
    "    else:\n",
    "        return {\n",
    "            'x1': 'x1',\n",
    "            'p1': 'p1',\n",
    "            'y1': 'y1',\n",
    "            'x2': 'x2',\n",
    "            'p2': 'p2',\n",
    "            'y2': 'y2'\n",
    "        }"
   ]
  },
  {
   "cell_type": "code",
   "execution_count": 19,
   "id": "e3b2bb18",
   "metadata": {},
   "outputs": [],
   "source": [
    "def calculate_product(matched_row, entity_pair_match_dict):\n",
    "    x_sim = 1 - entity_pair_match_dict[matched_row['x1']][matched_row['x2']]\n",
    "    if matched_row['y1'] == matched_row['y2']:\n",
    "        y_sim = 1\n",
    "    else:\n",
    "        y_sim = entity_pair_match_dict[matched_row['y1']][matched_row['y2']]\n",
    "    return 1 - x_sim * y_sim"
   ]
  },
  {
   "cell_type": "code",
   "execution_count": 20,
   "id": "ac1a17b0",
   "metadata": {},
   "outputs": [],
   "source": [
    "def calculate_sum_by_triple(indexed_df, triple_row):\n",
    "    matched_triples = indexed_df.join(triple_row)\n",
    "    return 1.0 - numpy.product(matched_triples['product_element'])"
   ]
  },
  {
   "cell_type": "code",
   "execution_count": 21,
   "id": "1ff68036",
   "metadata": {},
   "outputs": [],
   "source": [
    "def calculate_upper_sum(entity_pair_match_dict, predicate_pair_counter_df, unique_triples, p1, p2, reversed_bool):\n",
    "    columns = get_columns(reversed_bool)\n",
    "    \n",
    "    filtered_by_ps_df = predicate_pair_counter_df[predicate_pair_counter_df[columns['p2']].isin([p2])]\n",
    "    \n",
    "    grouped_df = filtered_by_ps_df.groupby([columns['x1'], columns['y1']])\n",
    "    product = grouped_df['product_element'].prod()\n",
    "    return (1 - product).sum()"
   ]
  },
  {
   "cell_type": "code",
   "execution_count": 22,
   "id": "1e073fca",
   "metadata": {},
   "outputs": [],
   "source": [
    "def calculate_lower_sum(entity_pair_match_dict, predicate_pair_counter_df, unique_triples, p1, reversed_bool):\n",
    "    columns = get_columns(reversed_bool)\n",
    "    \n",
    "    grouped_df = predicate_pair_counter_df.groupby([columns['x1'], columns['y1']])\n",
    "    product = grouped_df['product_element'].prod()\n",
    "    \n",
    "    return (1 - product).sum()"
   ]
  },
  {
   "cell_type": "code",
   "execution_count": 23,
   "id": "20148c35",
   "metadata": {},
   "outputs": [],
   "source": [
    "def calculate_x_sim(x1, x2, entity_pair_match_dict, reversed_bool):\n",
    "    if reversed_bool:\n",
    "        return 1 - entity_pair_match_dict[x2][x1]\n",
    "    return 1 - entity_pair_match_dict[x1][x2]"
   ]
  },
  {
   "cell_type": "code",
   "execution_count": 24,
   "id": "26ac1886",
   "metadata": {},
   "outputs": [],
   "source": [
    "def calculate_y_sim(y1, y2, entity_pair_match_dict, reversed_bool):\n",
    "    if y1 == y2:\n",
    "        return 1\n",
    "    else:\n",
    "        if reversed_bool:\n",
    "            if y2 in entity_pair_match_dict.keys() and y1 in entity_pair_match_dict[y2].keys():\n",
    "                return 1 - entity_pair_match_dict[y2][y1]\n",
    "        if y1 in entity_pair_match_dict.keys() and y2 in entity_pair_match_dict[y1].keys():\n",
    "            return 1 - entity_pair_match_dict[y1][y2]\n",
    "    return 0"
   ]
  },
  {
   "cell_type": "code",
   "execution_count": 25,
   "id": "c400bf6a",
   "metadata": {},
   "outputs": [],
   "source": [
    "def calculate_prob_predicates(predicate_pair_dict, predicate_pair_counter, entity_pair_match_dict, reversed_bool):\n",
    "    columns = get_columns(reversed_bool)\n",
    "    predicate_pair_counter_df = pd.DataFrame(predicate_pair_counter)\n",
    "    \n",
    "    predicate_pair_counter_df['x_sim'] = predicate_pair_counter_df.apply(lambda x: calculate_x_sim(x[columns[\"x1\"]], x[columns[\"x2\"]], entity_pair_match_dict, reversed_bool), axis=1)\n",
    "    predicate_pair_counter_df['y_sim'] = predicate_pair_counter_df.apply(lambda x: calculate_y_sim(x[columns[\"y1\"]], x[columns[\"y2\"]], entity_pair_match_dict, reversed_bool), axis=1)\n",
    "\n",
    "    predicate_pair_counter_df['product_element'] = predicate_pair_counter_df.apply(lambda x: 1.0 - x['x_sim'] * x['y_sim'], axis=1)\n",
    "\n",
    "    for p1 in tqdm(predicate_pair_dict.keys(), desc='Predicate loop', leave=False):\n",
    "        filtered_counter = predicate_pair_counter_df[predicate_pair_counter_df[columns['p1']].isin([p1])]\n",
    "        if len(filtered_counter) < 10:\n",
    "            for p2 in predicate_pair_dict[p1].keys():\n",
    "                predicate_pair_dict[p1][p2] = 0.0\n",
    "        unique_triples = get_set_of_triples_by_predicate(filtered_counter, reversed_bool)\n",
    "        for p2 in predicate_pair_dict[p1].keys():\n",
    "            predicate_pair_dict[p1][p2] = calculate_upper_sum(entity_pair_match_dict, filtered_counter, unique_triples, p1,\n",
    "                                                              p2, reversed_bool)\n",
    "        \n",
    "        lower_sum = calculate_lower_sum(entity_pair_match_dict, filtered_counter, unique_triples, p1, reversed_bool)\n",
    "        if lower_sum == 0.0:\n",
    "            continue\n",
    "        for p2 in predicate_pair_dict[p1].keys():\n",
    "            predicate_pair_dict[p1][p2] /= lower_sum\n",
    "            \n",
    "            "
   ]
  },
  {
   "cell_type": "code",
   "execution_count": 26,
   "id": "b26526ac",
   "metadata": {},
   "outputs": [],
   "source": [
    "def get_subject_object(graph, predicate):\n",
    "    attempts = 0\n",
    "    while attempts < 10:\n",
    "        try:\n",
    "            s_o_list = list()\n",
    "            for s, o in graph.subject_objects(URIRef(predicate)):\n",
    "                s_o_list.append({\n",
    "                        'subject': s,\n",
    "                        'object': o\n",
    "                    })\n",
    "            return s_o_list\n",
    "        except Exception as e:\n",
    "            print(e)\n",
    "            attempts += 1\n",
    "    \n",
    "    return s_o_list"
   ]
  },
  {
   "cell_type": "code",
   "execution_count": 27,
   "id": "8a6f5fa5",
   "metadata": {},
   "outputs": [],
   "source": [
    "def check_if_string(y):\n",
    "    return type(y) == Literal and y.value and type(y.value) == str"
   ]
  },
  {
   "cell_type": "code",
   "execution_count": 28,
   "id": "b6d2e7bd",
   "metadata": {},
   "outputs": [],
   "source": [
    "def calculate_sub_pred_product(entity_pair_match_dict, x1, x2, y1, y2):\n",
    "    if check_if_string(y1) and check_if_string(y2):\n",
    "        if y1.value != y2.value:\n",
    "            return 0.0\n",
    "        y_value = y1.value\n",
    "        if y_value not in literal_y1_dict.keys() or y_value not in y2_matches.keys():\n",
    "            return 0.0\n",
    "        return entity_pair_match_dict[str(x1)][str(x2)]\n",
    "    return 0.0"
   ]
  },
  {
   "cell_type": "code",
   "execution_count": 29,
   "id": "57eccbaf",
   "metadata": {},
   "outputs": [],
   "source": [
    "def save_entity_pairs(i, entity_pair_match_dict):\n",
    "    entity_pair_sim_list = list()\n",
    "    for y1 in entity_pair_match_dict.keys():\n",
    "        for y2 in entity_pair_match_dict[y1].keys():\n",
    "            similarity = 1 - entity_pair_match_dict[y1][y2]\n",
    "            entity_pair_sim_list.append({\n",
    "                \"e1\": y1,\n",
    "                \"e2\": y2,\n",
    "                \"sim\": similarity\n",
    "            })\n",
    "    entity_sim_df = pd.DataFrame(entity_pair_sim_list)\n",
    "    entity_sim_df.to_csv(\"mcu-marvel/entity_sim_\" + str(i) + \".csv\")"
   ]
  },
  {
   "cell_type": "code",
   "execution_count": 30,
   "id": "9ed2c0f8",
   "metadata": {},
   "outputs": [],
   "source": [
    "def save_predicate_pairs_into_df(i, predicate_pair_dict, name):\n",
    "    predicate_pair_list = list()\n",
    "    for p1 in predicate_pair_dict.keys():\n",
    "        for p2 in predicate_pair_dict[p1].keys():\n",
    "            predicate_pair_list.append({\n",
    "                \"p1\": p1,\n",
    "                \"p2\": p2,\n",
    "                \"sim\": predicate_pair_dict[p1][p2]\n",
    "            })\n",
    "    predicate_pair_df = pd.DataFrame(predicate_pair_list)\n",
    "    predicate_pair_df.to_csv(name + str(i) + \".csv\")"
   ]
  },
  {
   "cell_type": "code",
   "execution_count": 33,
   "id": "bb6c26b0",
   "metadata": {
    "scrolled": true
   },
   "outputs": [
    {
     "data": {
      "application/vnd.jupyter.widget-view+json": {
       "model_id": "f45646c00e944192b39cb106ba0d2272",
       "version_major": 2,
       "version_minor": 0
      },
      "text/plain": [
       "Main loop:   0%|          | 0/10 [00:00<?, ?it/s]"
      ]
     },
     "metadata": {},
     "output_type": "display_data"
    },
    {
     "data": {
      "application/vnd.jupyter.widget-view+json": {
       "model_id": "",
       "version_major": 2,
       "version_minor": 0
      },
      "text/plain": [
       "Attribute loop:   0%|          | 0/8072 [00:00<?, ?it/s]"
      ]
     },
     "metadata": {},
     "output_type": "display_data"
    },
    {
     "data": {
      "application/vnd.jupyter.widget-view+json": {
       "model_id": "",
       "version_major": 2,
       "version_minor": 0
      },
      "text/plain": [
       "neighbor loop: 0it [00:00, ?it/s]"
      ]
     },
     "metadata": {},
     "output_type": "display_data"
    },
    {
     "data": {
      "application/vnd.jupyter.widget-view+json": {
       "model_id": "",
       "version_major": 2,
       "version_minor": 0
      },
      "text/plain": [
       "Predicate loop:   0%|          | 0/34 [00:00<?, ?it/s]"
      ]
     },
     "metadata": {},
     "output_type": "display_data"
    },
    {
     "data": {
      "application/vnd.jupyter.widget-view+json": {
       "model_id": "",
       "version_major": 2,
       "version_minor": 0
      },
      "text/plain": [
       "P2 loop:   0%|          | 0/23 [00:00<?, ?it/s]"
      ]
     },
     "metadata": {},
     "output_type": "display_data"
    },
    {
     "data": {
      "application/vnd.jupyter.widget-view+json": {
       "model_id": "",
       "version_major": 2,
       "version_minor": 0
      },
      "text/plain": [
       "P2 loop:   0%|          | 0/18 [00:00<?, ?it/s]"
      ]
     },
     "metadata": {},
     "output_type": "display_data"
    },
    {
     "data": {
      "application/vnd.jupyter.widget-view+json": {
       "model_id": "",
       "version_major": 2,
       "version_minor": 0
      },
      "text/plain": [
       "P2 loop:   0%|          | 0/21 [00:00<?, ?it/s]"
      ]
     },
     "metadata": {},
     "output_type": "display_data"
    },
    {
     "data": {
      "application/vnd.jupyter.widget-view+json": {
       "model_id": "",
       "version_major": 2,
       "version_minor": 0
      },
      "text/plain": [
       "P2 loop:   0%|          | 0/15 [00:00<?, ?it/s]"
      ]
     },
     "metadata": {},
     "output_type": "display_data"
    },
    {
     "data": {
      "application/vnd.jupyter.widget-view+json": {
       "model_id": "",
       "version_major": 2,
       "version_minor": 0
      },
      "text/plain": [
       "P2 loop:   0%|          | 0/5 [00:00<?, ?it/s]"
      ]
     },
     "metadata": {},
     "output_type": "display_data"
    },
    {
     "data": {
      "application/vnd.jupyter.widget-view+json": {
       "model_id": "",
       "version_major": 2,
       "version_minor": 0
      },
      "text/plain": [
       "P2 loop:   0%|          | 0/2 [00:00<?, ?it/s]"
      ]
     },
     "metadata": {},
     "output_type": "display_data"
    },
    {
     "data": {
      "application/vnd.jupyter.widget-view+json": {
       "model_id": "",
       "version_major": 2,
       "version_minor": 0
      },
      "text/plain": [
       "P2 loop:   0%|          | 0/4 [00:00<?, ?it/s]"
      ]
     },
     "metadata": {},
     "output_type": "display_data"
    },
    {
     "data": {
      "application/vnd.jupyter.widget-view+json": {
       "model_id": "",
       "version_major": 2,
       "version_minor": 0
      },
      "text/plain": [
       "P2 loop:   0%|          | 0/4 [00:00<?, ?it/s]"
      ]
     },
     "metadata": {},
     "output_type": "display_data"
    },
    {
     "data": {
      "application/vnd.jupyter.widget-view+json": {
       "model_id": "",
       "version_major": 2,
       "version_minor": 0
      },
      "text/plain": [
       "P2 loop:   0%|          | 0/7 [00:00<?, ?it/s]"
      ]
     },
     "metadata": {},
     "output_type": "display_data"
    },
    {
     "data": {
      "application/vnd.jupyter.widget-view+json": {
       "model_id": "",
       "version_major": 2,
       "version_minor": 0
      },
      "text/plain": [
       "P2 loop:   0%|          | 0/10 [00:00<?, ?it/s]"
      ]
     },
     "metadata": {},
     "output_type": "display_data"
    },
    {
     "data": {
      "application/vnd.jupyter.widget-view+json": {
       "model_id": "",
       "version_major": 2,
       "version_minor": 0
      },
      "text/plain": [
       "P2 loop:   0%|          | 0/12 [00:00<?, ?it/s]"
      ]
     },
     "metadata": {},
     "output_type": "display_data"
    },
    {
     "data": {
      "application/vnd.jupyter.widget-view+json": {
       "model_id": "",
       "version_major": 2,
       "version_minor": 0
      },
      "text/plain": [
       "P2 loop:   0%|          | 0/11 [00:00<?, ?it/s]"
      ]
     },
     "metadata": {},
     "output_type": "display_data"
    },
    {
     "data": {
      "application/vnd.jupyter.widget-view+json": {
       "model_id": "",
       "version_major": 2,
       "version_minor": 0
      },
      "text/plain": [
       "P2 loop:   0%|          | 0/12 [00:00<?, ?it/s]"
      ]
     },
     "metadata": {},
     "output_type": "display_data"
    },
    {
     "data": {
      "application/vnd.jupyter.widget-view+json": {
       "model_id": "",
       "version_major": 2,
       "version_minor": 0
      },
      "text/plain": [
       "P2 loop:   0%|          | 0/12 [00:00<?, ?it/s]"
      ]
     },
     "metadata": {},
     "output_type": "display_data"
    },
    {
     "data": {
      "application/vnd.jupyter.widget-view+json": {
       "model_id": "",
       "version_major": 2,
       "version_minor": 0
      },
      "text/plain": [
       "P2 loop:   0%|          | 0/2 [00:00<?, ?it/s]"
      ]
     },
     "metadata": {},
     "output_type": "display_data"
    },
    {
     "data": {
      "application/vnd.jupyter.widget-view+json": {
       "model_id": "",
       "version_major": 2,
       "version_minor": 0
      },
      "text/plain": [
       "P2 loop:   0%|          | 0/3 [00:00<?, ?it/s]"
      ]
     },
     "metadata": {},
     "output_type": "display_data"
    },
    {
     "data": {
      "application/vnd.jupyter.widget-view+json": {
       "model_id": "",
       "version_major": 2,
       "version_minor": 0
      },
      "text/plain": [
       "P2 loop:   0%|          | 0/4 [00:00<?, ?it/s]"
      ]
     },
     "metadata": {},
     "output_type": "display_data"
    },
    {
     "data": {
      "application/vnd.jupyter.widget-view+json": {
       "model_id": "",
       "version_major": 2,
       "version_minor": 0
      },
      "text/plain": [
       "P2 loop:   0%|          | 0/3 [00:00<?, ?it/s]"
      ]
     },
     "metadata": {},
     "output_type": "display_data"
    },
    {
     "data": {
      "application/vnd.jupyter.widget-view+json": {
       "model_id": "",
       "version_major": 2,
       "version_minor": 0
      },
      "text/plain": [
       "P2 loop:   0%|          | 0/2 [00:00<?, ?it/s]"
      ]
     },
     "metadata": {},
     "output_type": "display_data"
    },
    {
     "data": {
      "application/vnd.jupyter.widget-view+json": {
       "model_id": "",
       "version_major": 2,
       "version_minor": 0
      },
      "text/plain": [
       "P2 loop:   0%|          | 0/2 [00:00<?, ?it/s]"
      ]
     },
     "metadata": {},
     "output_type": "display_data"
    },
    {
     "data": {
      "application/vnd.jupyter.widget-view+json": {
       "model_id": "",
       "version_major": 2,
       "version_minor": 0
      },
      "text/plain": [
       "P2 loop:   0%|          | 0/3 [00:00<?, ?it/s]"
      ]
     },
     "metadata": {},
     "output_type": "display_data"
    },
    {
     "data": {
      "application/vnd.jupyter.widget-view+json": {
       "model_id": "",
       "version_major": 2,
       "version_minor": 0
      },
      "text/plain": [
       "P2 loop:   0%|          | 0/3 [00:00<?, ?it/s]"
      ]
     },
     "metadata": {},
     "output_type": "display_data"
    },
    {
     "data": {
      "application/vnd.jupyter.widget-view+json": {
       "model_id": "",
       "version_major": 2,
       "version_minor": 0
      },
      "text/plain": [
       "P2 loop:   0%|          | 0/4 [00:00<?, ?it/s]"
      ]
     },
     "metadata": {},
     "output_type": "display_data"
    },
    {
     "data": {
      "application/vnd.jupyter.widget-view+json": {
       "model_id": "",
       "version_major": 2,
       "version_minor": 0
      },
      "text/plain": [
       "P2 loop:   0%|          | 0/3 [00:00<?, ?it/s]"
      ]
     },
     "metadata": {},
     "output_type": "display_data"
    },
    {
     "data": {
      "application/vnd.jupyter.widget-view+json": {
       "model_id": "",
       "version_major": 2,
       "version_minor": 0
      },
      "text/plain": [
       "P2 loop:   0%|          | 0/2 [00:00<?, ?it/s]"
      ]
     },
     "metadata": {},
     "output_type": "display_data"
    },
    {
     "data": {
      "application/vnd.jupyter.widget-view+json": {
       "model_id": "",
       "version_major": 2,
       "version_minor": 0
      },
      "text/plain": [
       "P2 loop:   0%|          | 0/2 [00:00<?, ?it/s]"
      ]
     },
     "metadata": {},
     "output_type": "display_data"
    },
    {
     "data": {
      "application/vnd.jupyter.widget-view+json": {
       "model_id": "",
       "version_major": 2,
       "version_minor": 0
      },
      "text/plain": [
       "P2 loop:   0%|          | 0/2 [00:00<?, ?it/s]"
      ]
     },
     "metadata": {},
     "output_type": "display_data"
    },
    {
     "data": {
      "application/vnd.jupyter.widget-view+json": {
       "model_id": "",
       "version_major": 2,
       "version_minor": 0
      },
      "text/plain": [
       "P2 loop:   0%|          | 0/1 [00:00<?, ?it/s]"
      ]
     },
     "metadata": {},
     "output_type": "display_data"
    },
    {
     "data": {
      "application/vnd.jupyter.widget-view+json": {
       "model_id": "",
       "version_major": 2,
       "version_minor": 0
      },
      "text/plain": [
       "P2 loop:   0%|          | 0/1 [00:00<?, ?it/s]"
      ]
     },
     "metadata": {},
     "output_type": "display_data"
    },
    {
     "data": {
      "application/vnd.jupyter.widget-view+json": {
       "model_id": "",
       "version_major": 2,
       "version_minor": 0
      },
      "text/plain": [
       "P2 loop:   0%|          | 0/1 [00:00<?, ?it/s]"
      ]
     },
     "metadata": {},
     "output_type": "display_data"
    },
    {
     "data": {
      "application/vnd.jupyter.widget-view+json": {
       "model_id": "",
       "version_major": 2,
       "version_minor": 0
      },
      "text/plain": [
       "P2 loop:   0%|          | 0/1 [00:00<?, ?it/s]"
      ]
     },
     "metadata": {},
     "output_type": "display_data"
    },
    {
     "data": {
      "application/vnd.jupyter.widget-view+json": {
       "model_id": "",
       "version_major": 2,
       "version_minor": 0
      },
      "text/plain": [
       "P2 loop:   0%|          | 0/1 [00:00<?, ?it/s]"
      ]
     },
     "metadata": {},
     "output_type": "display_data"
    },
    {
     "data": {
      "application/vnd.jupyter.widget-view+json": {
       "model_id": "",
       "version_major": 2,
       "version_minor": 0
      },
      "text/plain": [
       "P2 loop:   0%|          | 0/1 [00:00<?, ?it/s]"
      ]
     },
     "metadata": {},
     "output_type": "display_data"
    },
    {
     "data": {
      "application/vnd.jupyter.widget-view+json": {
       "model_id": "",
       "version_major": 2,
       "version_minor": 0
      },
      "text/plain": [
       "P2 loop:   0%|          | 0/1 [00:00<?, ?it/s]"
      ]
     },
     "metadata": {},
     "output_type": "display_data"
    },
    {
     "data": {
      "application/vnd.jupyter.widget-view+json": {
       "model_id": "",
       "version_major": 2,
       "version_minor": 0
      },
      "text/plain": [
       "Predicate loop:   0%|          | 0/23 [00:00<?, ?it/s]"
      ]
     },
     "metadata": {},
     "output_type": "display_data"
    },
    {
     "data": {
      "application/vnd.jupyter.widget-view+json": {
       "model_id": "",
       "version_major": 2,
       "version_minor": 0
      },
      "text/plain": [
       "P2 loop:   0%|          | 0/15 [00:00<?, ?it/s]"
      ]
     },
     "metadata": {},
     "output_type": "display_data"
    },
    {
     "data": {
      "application/vnd.jupyter.widget-view+json": {
       "model_id": "",
       "version_major": 2,
       "version_minor": 0
      },
      "text/plain": [
       "P2 loop:   0%|          | 0/24 [00:00<?, ?it/s]"
      ]
     },
     "metadata": {},
     "output_type": "display_data"
    },
    {
     "data": {
      "application/vnd.jupyter.widget-view+json": {
       "model_id": "",
       "version_major": 2,
       "version_minor": 0
      },
      "text/plain": [
       "P2 loop:   0%|          | 0/24 [00:00<?, ?it/s]"
      ]
     },
     "metadata": {},
     "output_type": "display_data"
    },
    {
     "data": {
      "application/vnd.jupyter.widget-view+json": {
       "model_id": "",
       "version_major": 2,
       "version_minor": 0
      },
      "text/plain": [
       "P2 loop:   0%|          | 0/25 [00:00<?, ?it/s]"
      ]
     },
     "metadata": {},
     "output_type": "display_data"
    },
    {
     "data": {
      "application/vnd.jupyter.widget-view+json": {
       "model_id": "",
       "version_major": 2,
       "version_minor": 0
      },
      "text/plain": [
       "P2 loop:   0%|          | 0/8 [00:00<?, ?it/s]"
      ]
     },
     "metadata": {},
     "output_type": "display_data"
    },
    {
     "data": {
      "application/vnd.jupyter.widget-view+json": {
       "model_id": "",
       "version_major": 2,
       "version_minor": 0
      },
      "text/plain": [
       "P2 loop:   0%|          | 0/7 [00:00<?, ?it/s]"
      ]
     },
     "metadata": {},
     "output_type": "display_data"
    },
    {
     "data": {
      "application/vnd.jupyter.widget-view+json": {
       "model_id": "",
       "version_major": 2,
       "version_minor": 0
      },
      "text/plain": [
       "P2 loop:   0%|          | 0/18 [00:00<?, ?it/s]"
      ]
     },
     "metadata": {},
     "output_type": "display_data"
    },
    {
     "data": {
      "application/vnd.jupyter.widget-view+json": {
       "model_id": "",
       "version_major": 2,
       "version_minor": 0
      },
      "text/plain": [
       "P2 loop:   0%|          | 0/8 [00:00<?, ?it/s]"
      ]
     },
     "metadata": {},
     "output_type": "display_data"
    },
    {
     "data": {
      "application/vnd.jupyter.widget-view+json": {
       "model_id": "",
       "version_major": 2,
       "version_minor": 0
      },
      "text/plain": [
       "P2 loop:   0%|          | 0/8 [00:00<?, ?it/s]"
      ]
     },
     "metadata": {},
     "output_type": "display_data"
    },
    {
     "data": {
      "application/vnd.jupyter.widget-view+json": {
       "model_id": "",
       "version_major": 2,
       "version_minor": 0
      },
      "text/plain": [
       "P2 loop:   0%|          | 0/1 [00:00<?, ?it/s]"
      ]
     },
     "metadata": {},
     "output_type": "display_data"
    },
    {
     "data": {
      "application/vnd.jupyter.widget-view+json": {
       "model_id": "",
       "version_major": 2,
       "version_minor": 0
      },
      "text/plain": [
       "P2 loop:   0%|          | 0/7 [00:00<?, ?it/s]"
      ]
     },
     "metadata": {},
     "output_type": "display_data"
    },
    {
     "data": {
      "application/vnd.jupyter.widget-view+json": {
       "model_id": "",
       "version_major": 2,
       "version_minor": 0
      },
      "text/plain": [
       "P2 loop:   0%|          | 0/7 [00:00<?, ?it/s]"
      ]
     },
     "metadata": {},
     "output_type": "display_data"
    },
    {
     "data": {
      "application/vnd.jupyter.widget-view+json": {
       "model_id": "",
       "version_major": 2,
       "version_minor": 0
      },
      "text/plain": [
       "P2 loop:   0%|          | 0/8 [00:00<?, ?it/s]"
      ]
     },
     "metadata": {},
     "output_type": "display_data"
    },
    {
     "data": {
      "application/vnd.jupyter.widget-view+json": {
       "model_id": "",
       "version_major": 2,
       "version_minor": 0
      },
      "text/plain": [
       "P2 loop:   0%|          | 0/8 [00:00<?, ?it/s]"
      ]
     },
     "metadata": {},
     "output_type": "display_data"
    },
    {
     "data": {
      "application/vnd.jupyter.widget-view+json": {
       "model_id": "",
       "version_major": 2,
       "version_minor": 0
      },
      "text/plain": [
       "P2 loop:   0%|          | 0/7 [00:00<?, ?it/s]"
      ]
     },
     "metadata": {},
     "output_type": "display_data"
    },
    {
     "data": {
      "application/vnd.jupyter.widget-view+json": {
       "model_id": "",
       "version_major": 2,
       "version_minor": 0
      },
      "text/plain": [
       "P2 loop:   0%|          | 0/4 [00:00<?, ?it/s]"
      ]
     },
     "metadata": {},
     "output_type": "display_data"
    },
    {
     "data": {
      "application/vnd.jupyter.widget-view+json": {
       "model_id": "",
       "version_major": 2,
       "version_minor": 0
      },
      "text/plain": [
       "P2 loop:   0%|          | 0/4 [00:00<?, ?it/s]"
      ]
     },
     "metadata": {},
     "output_type": "display_data"
    },
    {
     "data": {
      "application/vnd.jupyter.widget-view+json": {
       "model_id": "",
       "version_major": 2,
       "version_minor": 0
      },
      "text/plain": [
       "P2 loop:   0%|          | 0/3 [00:00<?, ?it/s]"
      ]
     },
     "metadata": {},
     "output_type": "display_data"
    },
    {
     "data": {
      "application/vnd.jupyter.widget-view+json": {
       "model_id": "",
       "version_major": 2,
       "version_minor": 0
      },
      "text/plain": [
       "P2 loop:   0%|          | 0/3 [00:00<?, ?it/s]"
      ]
     },
     "metadata": {},
     "output_type": "display_data"
    },
    {
     "data": {
      "application/vnd.jupyter.widget-view+json": {
       "model_id": "",
       "version_major": 2,
       "version_minor": 0
      },
      "text/plain": [
       "P2 loop:   0%|          | 0/2 [00:00<?, ?it/s]"
      ]
     },
     "metadata": {},
     "output_type": "display_data"
    },
    {
     "data": {
      "application/vnd.jupyter.widget-view+json": {
       "model_id": "",
       "version_major": 2,
       "version_minor": 0
      },
      "text/plain": [
       "P2 loop:   0%|          | 0/3 [00:00<?, ?it/s]"
      ]
     },
     "metadata": {},
     "output_type": "display_data"
    },
    {
     "data": {
      "application/vnd.jupyter.widget-view+json": {
       "model_id": "",
       "version_major": 2,
       "version_minor": 0
      },
      "text/plain": [
       "P2 loop:   0%|          | 0/3 [00:00<?, ?it/s]"
      ]
     },
     "metadata": {},
     "output_type": "display_data"
    },
    {
     "data": {
      "application/vnd.jupyter.widget-view+json": {
       "model_id": "",
       "version_major": 2,
       "version_minor": 0
      },
      "text/plain": [
       "P2 loop:   0%|          | 0/1 [00:00<?, ?it/s]"
      ]
     },
     "metadata": {},
     "output_type": "display_data"
    },
    {
     "data": {
      "application/vnd.jupyter.widget-view+json": {
       "model_id": "",
       "version_major": 2,
       "version_minor": 0
      },
      "text/plain": [
       "Attribute loop:   0%|          | 0/8072 [00:00<?, ?it/s]"
      ]
     },
     "metadata": {},
     "output_type": "display_data"
    },
    {
     "data": {
      "application/vnd.jupyter.widget-view+json": {
       "model_id": "",
       "version_major": 2,
       "version_minor": 0
      },
      "text/plain": [
       "neighbor loop:   0%|          | 0/6705 [00:00<?, ?it/s]"
      ]
     },
     "metadata": {},
     "output_type": "display_data"
    },
    {
     "data": {
      "application/vnd.jupyter.widget-view+json": {
       "model_id": "",
       "version_major": 2,
       "version_minor": 0
      },
      "text/plain": [
       "Predicate loop:   0%|          | 0/65 [00:00<?, ?it/s]"
      ]
     },
     "metadata": {},
     "output_type": "display_data"
    },
    {
     "data": {
      "application/vnd.jupyter.widget-view+json": {
       "model_id": "",
       "version_major": 2,
       "version_minor": 0
      },
      "text/plain": [
       "P2 loop:   0%|          | 0/23 [00:00<?, ?it/s]"
      ]
     },
     "metadata": {},
     "output_type": "display_data"
    },
    {
     "data": {
      "application/vnd.jupyter.widget-view+json": {
       "model_id": "",
       "version_major": 2,
       "version_minor": 0
      },
      "text/plain": [
       "P2 loop:   0%|          | 0/18 [00:00<?, ?it/s]"
      ]
     },
     "metadata": {},
     "output_type": "display_data"
    },
    {
     "data": {
      "application/vnd.jupyter.widget-view+json": {
       "model_id": "",
       "version_major": 2,
       "version_minor": 0
      },
      "text/plain": [
       "P2 loop:   0%|          | 0/21 [00:00<?, ?it/s]"
      ]
     },
     "metadata": {},
     "output_type": "display_data"
    },
    {
     "data": {
      "application/vnd.jupyter.widget-view+json": {
       "model_id": "",
       "version_major": 2,
       "version_minor": 0
      },
      "text/plain": [
       "P2 loop:   0%|          | 0/36 [00:00<?, ?it/s]"
      ]
     },
     "metadata": {},
     "output_type": "display_data"
    },
    {
     "data": {
      "application/vnd.jupyter.widget-view+json": {
       "model_id": "",
       "version_major": 2,
       "version_minor": 0
      },
      "text/plain": [
       "P2 loop:   0%|          | 0/34 [00:00<?, ?it/s]"
      ]
     },
     "metadata": {},
     "output_type": "display_data"
    },
    {
     "data": {
      "application/vnd.jupyter.widget-view+json": {
       "model_id": "",
       "version_major": 2,
       "version_minor": 0
      },
      "text/plain": [
       "P2 loop:   0%|          | 0/2 [00:00<?, ?it/s]"
      ]
     },
     "metadata": {},
     "output_type": "display_data"
    },
    {
     "data": {
      "application/vnd.jupyter.widget-view+json": {
       "model_id": "",
       "version_major": 2,
       "version_minor": 0
      },
      "text/plain": [
       "P2 loop:   0%|          | 0/30 [00:00<?, ?it/s]"
      ]
     },
     "metadata": {},
     "output_type": "display_data"
    },
    {
     "data": {
      "application/vnd.jupyter.widget-view+json": {
       "model_id": "",
       "version_major": 2,
       "version_minor": 0
      },
      "text/plain": [
       "P2 loop:   0%|          | 0/22 [00:00<?, ?it/s]"
      ]
     },
     "metadata": {},
     "output_type": "display_data"
    },
    {
     "data": {
      "application/vnd.jupyter.widget-view+json": {
       "model_id": "",
       "version_major": 2,
       "version_minor": 0
      },
      "text/plain": [
       "P2 loop:   0%|          | 0/7 [00:00<?, ?it/s]"
      ]
     },
     "metadata": {},
     "output_type": "display_data"
    },
    {
     "data": {
      "application/vnd.jupyter.widget-view+json": {
       "model_id": "",
       "version_major": 2,
       "version_minor": 0
      },
      "text/plain": [
       "P2 loop:   0%|          | 0/37 [00:00<?, ?it/s]"
      ]
     },
     "metadata": {},
     "output_type": "display_data"
    },
    {
     "data": {
      "application/vnd.jupyter.widget-view+json": {
       "model_id": "",
       "version_major": 2,
       "version_minor": 0
      },
      "text/plain": [
       "P2 loop:   0%|          | 0/33 [00:00<?, ?it/s]"
      ]
     },
     "metadata": {},
     "output_type": "display_data"
    },
    {
     "data": {
      "application/vnd.jupyter.widget-view+json": {
       "model_id": "",
       "version_major": 2,
       "version_minor": 0
      },
      "text/plain": [
       "P2 loop:   0%|          | 0/30 [00:00<?, ?it/s]"
      ]
     },
     "metadata": {},
     "output_type": "display_data"
    },
    {
     "data": {
      "application/vnd.jupyter.widget-view+json": {
       "model_id": "",
       "version_major": 2,
       "version_minor": 0
      },
      "text/plain": [
       "P2 loop:   0%|          | 0/12 [00:00<?, ?it/s]"
      ]
     },
     "metadata": {},
     "output_type": "display_data"
    },
    {
     "data": {
      "application/vnd.jupyter.widget-view+json": {
       "model_id": "",
       "version_major": 2,
       "version_minor": 0
      },
      "text/plain": [
       "P2 loop:   0%|          | 0/32 [00:00<?, ?it/s]"
      ]
     },
     "metadata": {},
     "output_type": "display_data"
    },
    {
     "data": {
      "application/vnd.jupyter.widget-view+json": {
       "model_id": "",
       "version_major": 2,
       "version_minor": 0
      },
      "text/plain": [
       "P2 loop:   0%|          | 0/2 [00:00<?, ?it/s]"
      ]
     },
     "metadata": {},
     "output_type": "display_data"
    },
    {
     "data": {
      "application/vnd.jupyter.widget-view+json": {
       "model_id": "",
       "version_major": 2,
       "version_minor": 0
      },
      "text/plain": [
       "P2 loop:   0%|          | 0/24 [00:00<?, ?it/s]"
      ]
     },
     "metadata": {},
     "output_type": "display_data"
    },
    {
     "data": {
      "application/vnd.jupyter.widget-view+json": {
       "model_id": "",
       "version_major": 2,
       "version_minor": 0
      },
      "text/plain": [
       "P2 loop:   0%|          | 0/8 [00:00<?, ?it/s]"
      ]
     },
     "metadata": {},
     "output_type": "display_data"
    },
    {
     "data": {
      "application/vnd.jupyter.widget-view+json": {
       "model_id": "",
       "version_major": 2,
       "version_minor": 0
      },
      "text/plain": [
       "P2 loop:   0%|          | 0/3 [00:00<?, ?it/s]"
      ]
     },
     "metadata": {},
     "output_type": "display_data"
    },
    {
     "data": {
      "application/vnd.jupyter.widget-view+json": {
       "model_id": "",
       "version_major": 2,
       "version_minor": 0
      },
      "text/plain": [
       "P2 loop:   0%|          | 0/21 [00:00<?, ?it/s]"
      ]
     },
     "metadata": {},
     "output_type": "display_data"
    },
    {
     "data": {
      "application/vnd.jupyter.widget-view+json": {
       "model_id": "",
       "version_major": 2,
       "version_minor": 0
      },
      "text/plain": [
       "P2 loop:   0%|          | 0/17 [00:00<?, ?it/s]"
      ]
     },
     "metadata": {},
     "output_type": "display_data"
    },
    {
     "data": {
      "application/vnd.jupyter.widget-view+json": {
       "model_id": "",
       "version_major": 2,
       "version_minor": 0
      },
      "text/plain": [
       "P2 loop:   0%|          | 0/31 [00:00<?, ?it/s]"
      ]
     },
     "metadata": {},
     "output_type": "display_data"
    },
    {
     "data": {
      "application/vnd.jupyter.widget-view+json": {
       "model_id": "",
       "version_major": 2,
       "version_minor": 0
      },
      "text/plain": [
       "P2 loop:   0%|          | 0/32 [00:00<?, ?it/s]"
      ]
     },
     "metadata": {},
     "output_type": "display_data"
    },
    {
     "data": {
      "application/vnd.jupyter.widget-view+json": {
       "model_id": "",
       "version_major": 2,
       "version_minor": 0
      },
      "text/plain": [
       "P2 loop:   0%|          | 0/27 [00:00<?, ?it/s]"
      ]
     },
     "metadata": {},
     "output_type": "display_data"
    },
    {
     "data": {
      "application/vnd.jupyter.widget-view+json": {
       "model_id": "",
       "version_major": 2,
       "version_minor": 0
      },
      "text/plain": [
       "P2 loop:   0%|          | 0/32 [00:00<?, ?it/s]"
      ]
     },
     "metadata": {},
     "output_type": "display_data"
    },
    {
     "data": {
      "application/vnd.jupyter.widget-view+json": {
       "model_id": "",
       "version_major": 2,
       "version_minor": 0
      },
      "text/plain": [
       "P2 loop:   0%|          | 0/3 [00:00<?, ?it/s]"
      ]
     },
     "metadata": {},
     "output_type": "display_data"
    },
    {
     "data": {
      "application/vnd.jupyter.widget-view+json": {
       "model_id": "",
       "version_major": 2,
       "version_minor": 0
      },
      "text/plain": [
       "P2 loop:   0%|          | 0/24 [00:00<?, ?it/s]"
      ]
     },
     "metadata": {},
     "output_type": "display_data"
    },
    {
     "data": {
      "application/vnd.jupyter.widget-view+json": {
       "model_id": "",
       "version_major": 2,
       "version_minor": 0
      },
      "text/plain": [
       "P2 loop:   0%|          | 0/15 [00:00<?, ?it/s]"
      ]
     },
     "metadata": {},
     "output_type": "display_data"
    },
    {
     "data": {
      "application/vnd.jupyter.widget-view+json": {
       "model_id": "",
       "version_major": 2,
       "version_minor": 0
      },
      "text/plain": [
       "P2 loop:   0%|          | 0/28 [00:00<?, ?it/s]"
      ]
     },
     "metadata": {},
     "output_type": "display_data"
    },
    {
     "data": {
      "application/vnd.jupyter.widget-view+json": {
       "model_id": "",
       "version_major": 2,
       "version_minor": 0
      },
      "text/plain": [
       "P2 loop:   0%|          | 0/28 [00:00<?, ?it/s]"
      ]
     },
     "metadata": {},
     "output_type": "display_data"
    },
    {
     "data": {
      "application/vnd.jupyter.widget-view+json": {
       "model_id": "",
       "version_major": 2,
       "version_minor": 0
      },
      "text/plain": [
       "P2 loop:   0%|          | 0/28 [00:00<?, ?it/s]"
      ]
     },
     "metadata": {},
     "output_type": "display_data"
    },
    {
     "data": {
      "application/vnd.jupyter.widget-view+json": {
       "model_id": "",
       "version_major": 2,
       "version_minor": 0
      },
      "text/plain": [
       "P2 loop:   0%|          | 0/26 [00:00<?, ?it/s]"
      ]
     },
     "metadata": {},
     "output_type": "display_data"
    },
    {
     "data": {
      "application/vnd.jupyter.widget-view+json": {
       "model_id": "",
       "version_major": 2,
       "version_minor": 0
      },
      "text/plain": [
       "P2 loop:   0%|          | 0/20 [00:00<?, ?it/s]"
      ]
     },
     "metadata": {},
     "output_type": "display_data"
    },
    {
     "data": {
      "application/vnd.jupyter.widget-view+json": {
       "model_id": "",
       "version_major": 2,
       "version_minor": 0
      },
      "text/plain": [
       "P2 loop:   0%|          | 0/25 [00:00<?, ?it/s]"
      ]
     },
     "metadata": {},
     "output_type": "display_data"
    },
    {
     "data": {
      "application/vnd.jupyter.widget-view+json": {
       "model_id": "",
       "version_major": 2,
       "version_minor": 0
      },
      "text/plain": [
       "P2 loop:   0%|          | 0/10 [00:00<?, ?it/s]"
      ]
     },
     "metadata": {},
     "output_type": "display_data"
    },
    {
     "data": {
      "application/vnd.jupyter.widget-view+json": {
       "model_id": "",
       "version_major": 2,
       "version_minor": 0
      },
      "text/plain": [
       "P2 loop:   0%|          | 0/28 [00:00<?, ?it/s]"
      ]
     },
     "metadata": {},
     "output_type": "display_data"
    },
    {
     "data": {
      "application/vnd.jupyter.widget-view+json": {
       "model_id": "",
       "version_major": 2,
       "version_minor": 0
      },
      "text/plain": [
       "P2 loop:   0%|          | 0/26 [00:00<?, ?it/s]"
      ]
     },
     "metadata": {},
     "output_type": "display_data"
    },
    {
     "data": {
      "application/vnd.jupyter.widget-view+json": {
       "model_id": "",
       "version_major": 2,
       "version_minor": 0
      },
      "text/plain": [
       "P2 loop:   0%|          | 0/28 [00:00<?, ?it/s]"
      ]
     },
     "metadata": {},
     "output_type": "display_data"
    },
    {
     "data": {
      "application/vnd.jupyter.widget-view+json": {
       "model_id": "",
       "version_major": 2,
       "version_minor": 0
      },
      "text/plain": [
       "P2 loop:   0%|          | 0/12 [00:00<?, ?it/s]"
      ]
     },
     "metadata": {},
     "output_type": "display_data"
    },
    {
     "data": {
      "application/vnd.jupyter.widget-view+json": {
       "model_id": "",
       "version_major": 2,
       "version_minor": 0
      },
      "text/plain": [
       "P2 loop:   0%|          | 0/24 [00:00<?, ?it/s]"
      ]
     },
     "metadata": {},
     "output_type": "display_data"
    },
    {
     "data": {
      "application/vnd.jupyter.widget-view+json": {
       "model_id": "",
       "version_major": 2,
       "version_minor": 0
      },
      "text/plain": [
       "P2 loop:   0%|          | 0/26 [00:00<?, ?it/s]"
      ]
     },
     "metadata": {},
     "output_type": "display_data"
    },
    {
     "data": {
      "application/vnd.jupyter.widget-view+json": {
       "model_id": "",
       "version_major": 2,
       "version_minor": 0
      },
      "text/plain": [
       "P2 loop:   0%|          | 0/25 [00:00<?, ?it/s]"
      ]
     },
     "metadata": {},
     "output_type": "display_data"
    },
    {
     "data": {
      "application/vnd.jupyter.widget-view+json": {
       "model_id": "",
       "version_major": 2,
       "version_minor": 0
      },
      "text/plain": [
       "P2 loop:   0%|          | 0/27 [00:00<?, ?it/s]"
      ]
     },
     "metadata": {},
     "output_type": "display_data"
    },
    {
     "data": {
      "application/vnd.jupyter.widget-view+json": {
       "model_id": "",
       "version_major": 2,
       "version_minor": 0
      },
      "text/plain": [
       "P2 loop:   0%|          | 0/28 [00:00<?, ?it/s]"
      ]
     },
     "metadata": {},
     "output_type": "display_data"
    },
    {
     "data": {
      "application/vnd.jupyter.widget-view+json": {
       "model_id": "",
       "version_major": 2,
       "version_minor": 0
      },
      "text/plain": [
       "P2 loop:   0%|          | 0/26 [00:00<?, ?it/s]"
      ]
     },
     "metadata": {},
     "output_type": "display_data"
    },
    {
     "data": {
      "application/vnd.jupyter.widget-view+json": {
       "model_id": "",
       "version_major": 2,
       "version_minor": 0
      },
      "text/plain": [
       "P2 loop:   0%|          | 0/22 [00:00<?, ?it/s]"
      ]
     },
     "metadata": {},
     "output_type": "display_data"
    },
    {
     "data": {
      "application/vnd.jupyter.widget-view+json": {
       "model_id": "",
       "version_major": 2,
       "version_minor": 0
      },
      "text/plain": [
       "P2 loop:   0%|          | 0/21 [00:00<?, ?it/s]"
      ]
     },
     "metadata": {},
     "output_type": "display_data"
    },
    {
     "data": {
      "application/vnd.jupyter.widget-view+json": {
       "model_id": "",
       "version_major": 2,
       "version_minor": 0
      },
      "text/plain": [
       "P2 loop:   0%|          | 0/23 [00:00<?, ?it/s]"
      ]
     },
     "metadata": {},
     "output_type": "display_data"
    },
    {
     "data": {
      "application/vnd.jupyter.widget-view+json": {
       "model_id": "",
       "version_major": 2,
       "version_minor": 0
      },
      "text/plain": [
       "P2 loop:   0%|          | 0/23 [00:00<?, ?it/s]"
      ]
     },
     "metadata": {},
     "output_type": "display_data"
    },
    {
     "data": {
      "application/vnd.jupyter.widget-view+json": {
       "model_id": "",
       "version_major": 2,
       "version_minor": 0
      },
      "text/plain": [
       "P2 loop:   0%|          | 0/25 [00:00<?, ?it/s]"
      ]
     },
     "metadata": {},
     "output_type": "display_data"
    },
    {
     "data": {
      "application/vnd.jupyter.widget-view+json": {
       "model_id": "",
       "version_major": 2,
       "version_minor": 0
      },
      "text/plain": [
       "P2 loop:   0%|          | 0/26 [00:00<?, ?it/s]"
      ]
     },
     "metadata": {},
     "output_type": "display_data"
    },
    {
     "data": {
      "application/vnd.jupyter.widget-view+json": {
       "model_id": "",
       "version_major": 2,
       "version_minor": 0
      },
      "text/plain": [
       "P2 loop:   0%|          | 0/21 [00:00<?, ?it/s]"
      ]
     },
     "metadata": {},
     "output_type": "display_data"
    },
    {
     "data": {
      "application/vnd.jupyter.widget-view+json": {
       "model_id": "",
       "version_major": 2,
       "version_minor": 0
      },
      "text/plain": [
       "P2 loop:   0%|          | 0/20 [00:00<?, ?it/s]"
      ]
     },
     "metadata": {},
     "output_type": "display_data"
    },
    {
     "data": {
      "application/vnd.jupyter.widget-view+json": {
       "model_id": "",
       "version_major": 2,
       "version_minor": 0
      },
      "text/plain": [
       "P2 loop:   0%|          | 0/19 [00:00<?, ?it/s]"
      ]
     },
     "metadata": {},
     "output_type": "display_data"
    },
    {
     "data": {
      "application/vnd.jupyter.widget-view+json": {
       "model_id": "",
       "version_major": 2,
       "version_minor": 0
      },
      "text/plain": [
       "P2 loop:   0%|          | 0/15 [00:00<?, ?it/s]"
      ]
     },
     "metadata": {},
     "output_type": "display_data"
    },
    {
     "data": {
      "application/vnd.jupyter.widget-view+json": {
       "model_id": "",
       "version_major": 2,
       "version_minor": 0
      },
      "text/plain": [
       "P2 loop:   0%|          | 0/6 [00:00<?, ?it/s]"
      ]
     },
     "metadata": {},
     "output_type": "display_data"
    },
    {
     "data": {
      "application/vnd.jupyter.widget-view+json": {
       "model_id": "",
       "version_major": 2,
       "version_minor": 0
      },
      "text/plain": [
       "P2 loop:   0%|          | 0/6 [00:00<?, ?it/s]"
      ]
     },
     "metadata": {},
     "output_type": "display_data"
    },
    {
     "data": {
      "application/vnd.jupyter.widget-view+json": {
       "model_id": "",
       "version_major": 2,
       "version_minor": 0
      },
      "text/plain": [
       "P2 loop:   0%|          | 0/20 [00:00<?, ?it/s]"
      ]
     },
     "metadata": {},
     "output_type": "display_data"
    },
    {
     "data": {
      "application/vnd.jupyter.widget-view+json": {
       "model_id": "",
       "version_major": 2,
       "version_minor": 0
      },
      "text/plain": [
       "P2 loop:   0%|          | 0/19 [00:00<?, ?it/s]"
      ]
     },
     "metadata": {},
     "output_type": "display_data"
    },
    {
     "data": {
      "application/vnd.jupyter.widget-view+json": {
       "model_id": "",
       "version_major": 2,
       "version_minor": 0
      },
      "text/plain": [
       "P2 loop:   0%|          | 0/20 [00:00<?, ?it/s]"
      ]
     },
     "metadata": {},
     "output_type": "display_data"
    },
    {
     "data": {
      "application/vnd.jupyter.widget-view+json": {
       "model_id": "",
       "version_major": 2,
       "version_minor": 0
      },
      "text/plain": [
       "P2 loop:   0%|          | 0/23 [00:00<?, ?it/s]"
      ]
     },
     "metadata": {},
     "output_type": "display_data"
    },
    {
     "data": {
      "application/vnd.jupyter.widget-view+json": {
       "model_id": "",
       "version_major": 2,
       "version_minor": 0
      },
      "text/plain": [
       "P2 loop:   0%|          | 0/10 [00:00<?, ?it/s]"
      ]
     },
     "metadata": {},
     "output_type": "display_data"
    },
    {
     "data": {
      "application/vnd.jupyter.widget-view+json": {
       "model_id": "",
       "version_major": 2,
       "version_minor": 0
      },
      "text/plain": [
       "P2 loop:   0%|          | 0/4 [00:00<?, ?it/s]"
      ]
     },
     "metadata": {},
     "output_type": "display_data"
    },
    {
     "data": {
      "application/vnd.jupyter.widget-view+json": {
       "model_id": "",
       "version_major": 2,
       "version_minor": 0
      },
      "text/plain": [
       "P2 loop:   0%|          | 0/5 [00:00<?, ?it/s]"
      ]
     },
     "metadata": {},
     "output_type": "display_data"
    },
    {
     "data": {
      "application/vnd.jupyter.widget-view+json": {
       "model_id": "",
       "version_major": 2,
       "version_minor": 0
      },
      "text/plain": [
       "P2 loop:   0%|          | 0/2 [00:00<?, ?it/s]"
      ]
     },
     "metadata": {},
     "output_type": "display_data"
    },
    {
     "data": {
      "application/vnd.jupyter.widget-view+json": {
       "model_id": "",
       "version_major": 2,
       "version_minor": 0
      },
      "text/plain": [
       "P2 loop:   0%|          | 0/1 [00:00<?, ?it/s]"
      ]
     },
     "metadata": {},
     "output_type": "display_data"
    },
    {
     "data": {
      "application/vnd.jupyter.widget-view+json": {
       "model_id": "",
       "version_major": 2,
       "version_minor": 0
      },
      "text/plain": [
       "Predicate loop:   0%|          | 0/41 [00:00<?, ?it/s]"
      ]
     },
     "metadata": {},
     "output_type": "display_data"
    },
    {
     "data": {
      "application/vnd.jupyter.widget-view+json": {
       "model_id": "",
       "version_major": 2,
       "version_minor": 0
      },
      "text/plain": [
       "P2 loop:   0%|          | 0/15 [00:00<?, ?it/s]"
      ]
     },
     "metadata": {},
     "output_type": "display_data"
    },
    {
     "data": {
      "application/vnd.jupyter.widget-view+json": {
       "model_id": "",
       "version_major": 2,
       "version_minor": 0
      },
      "text/plain": [
       "P2 loop:   0%|          | 0/24 [00:00<?, ?it/s]"
      ]
     },
     "metadata": {},
     "output_type": "display_data"
    },
    {
     "data": {
      "application/vnd.jupyter.widget-view+json": {
       "model_id": "",
       "version_major": 2,
       "version_minor": 0
      },
      "text/plain": [
       "P2 loop:   0%|          | 0/24 [00:00<?, ?it/s]"
      ]
     },
     "metadata": {},
     "output_type": "display_data"
    },
    {
     "data": {
      "application/vnd.jupyter.widget-view+json": {
       "model_id": "",
       "version_major": 2,
       "version_minor": 0
      },
      "text/plain": [
       "P2 loop:   0%|          | 0/25 [00:00<?, ?it/s]"
      ]
     },
     "metadata": {},
     "output_type": "display_data"
    },
    {
     "data": {
      "application/vnd.jupyter.widget-view+json": {
       "model_id": "",
       "version_major": 2,
       "version_minor": 0
      },
      "text/plain": [
       "P2 loop:   0%|          | 0/59 [00:00<?, ?it/s]"
      ]
     },
     "metadata": {},
     "output_type": "display_data"
    },
    {
     "data": {
      "application/vnd.jupyter.widget-view+json": {
       "model_id": "",
       "version_major": 2,
       "version_minor": 0
      },
      "text/plain": [
       "P2 loop:   0%|          | 0/54 [00:00<?, ?it/s]"
      ]
     },
     "metadata": {},
     "output_type": "display_data"
    },
    {
     "data": {
      "application/vnd.jupyter.widget-view+json": {
       "model_id": "",
       "version_major": 2,
       "version_minor": 0
      },
      "text/plain": [
       "P2 loop:   0%|          | 0/18 [00:00<?, ?it/s]"
      ]
     },
     "metadata": {},
     "output_type": "display_data"
    },
    {
     "data": {
      "application/vnd.jupyter.widget-view+json": {
       "model_id": "",
       "version_major": 2,
       "version_minor": 0
      },
      "text/plain": [
       "P2 loop:   0%|          | 0/8 [00:00<?, ?it/s]"
      ]
     },
     "metadata": {},
     "output_type": "display_data"
    },
    {
     "data": {
      "application/vnd.jupyter.widget-view+json": {
       "model_id": "",
       "version_major": 2,
       "version_minor": 0
      },
      "text/plain": [
       "P2 loop:   0%|          | 0/8 [00:00<?, ?it/s]"
      ]
     },
     "metadata": {},
     "output_type": "display_data"
    },
    {
     "data": {
      "application/vnd.jupyter.widget-view+json": {
       "model_id": "",
       "version_major": 2,
       "version_minor": 0
      },
      "text/plain": [
       "P2 loop:   0%|          | 0/51 [00:00<?, ?it/s]"
      ]
     },
     "metadata": {},
     "output_type": "display_data"
    },
    {
     "data": {
      "application/vnd.jupyter.widget-view+json": {
       "model_id": "",
       "version_major": 2,
       "version_minor": 0
      },
      "text/plain": [
       "P2 loop:   0%|          | 0/7 [00:00<?, ?it/s]"
      ]
     },
     "metadata": {},
     "output_type": "display_data"
    },
    {
     "data": {
      "application/vnd.jupyter.widget-view+json": {
       "model_id": "",
       "version_major": 2,
       "version_minor": 0
      },
      "text/plain": [
       "P2 loop:   0%|          | 0/7 [00:00<?, ?it/s]"
      ]
     },
     "metadata": {},
     "output_type": "display_data"
    },
    {
     "data": {
      "application/vnd.jupyter.widget-view+json": {
       "model_id": "",
       "version_major": 2,
       "version_minor": 0
      },
      "text/plain": [
       "P2 loop:   0%|          | 0/8 [00:00<?, ?it/s]"
      ]
     },
     "metadata": {},
     "output_type": "display_data"
    },
    {
     "data": {
      "application/vnd.jupyter.widget-view+json": {
       "model_id": "",
       "version_major": 2,
       "version_minor": 0
      },
      "text/plain": [
       "P2 loop:   0%|          | 0/8 [00:00<?, ?it/s]"
      ]
     },
     "metadata": {},
     "output_type": "display_data"
    },
    {
     "data": {
      "application/vnd.jupyter.widget-view+json": {
       "model_id": "",
       "version_major": 2,
       "version_minor": 0
      },
      "text/plain": [
       "P2 loop:   0%|          | 0/45 [00:00<?, ?it/s]"
      ]
     },
     "metadata": {},
     "output_type": "display_data"
    },
    {
     "data": {
      "application/vnd.jupyter.widget-view+json": {
       "model_id": "",
       "version_major": 2,
       "version_minor": 0
      },
      "text/plain": [
       "P2 loop:   0%|          | 0/42 [00:00<?, ?it/s]"
      ]
     },
     "metadata": {},
     "output_type": "display_data"
    },
    {
     "data": {
      "application/vnd.jupyter.widget-view+json": {
       "model_id": "",
       "version_major": 2,
       "version_minor": 0
      },
      "text/plain": [
       "P2 loop:   0%|          | 0/51 [00:00<?, ?it/s]"
      ]
     },
     "metadata": {},
     "output_type": "display_data"
    },
    {
     "data": {
      "application/vnd.jupyter.widget-view+json": {
       "model_id": "",
       "version_major": 2,
       "version_minor": 0
      },
      "text/plain": [
       "P2 loop:   0%|          | 0/3 [00:00<?, ?it/s]"
      ]
     },
     "metadata": {},
     "output_type": "display_data"
    },
    {
     "data": {
      "application/vnd.jupyter.widget-view+json": {
       "model_id": "",
       "version_major": 2,
       "version_minor": 0
      },
      "text/plain": [
       "P2 loop:   0%|          | 0/44 [00:00<?, ?it/s]"
      ]
     },
     "metadata": {},
     "output_type": "display_data"
    },
    {
     "data": {
      "application/vnd.jupyter.widget-view+json": {
       "model_id": "",
       "version_major": 2,
       "version_minor": 0
      },
      "text/plain": [
       "P2 loop:   0%|          | 0/35 [00:00<?, ?it/s]"
      ]
     },
     "metadata": {},
     "output_type": "display_data"
    },
    {
     "data": {
      "application/vnd.jupyter.widget-view+json": {
       "model_id": "",
       "version_major": 2,
       "version_minor": 0
      },
      "text/plain": [
       "P2 loop:   0%|          | 0/46 [00:00<?, ?it/s]"
      ]
     },
     "metadata": {},
     "output_type": "display_data"
    },
    {
     "data": {
      "application/vnd.jupyter.widget-view+json": {
       "model_id": "",
       "version_major": 2,
       "version_minor": 0
      },
      "text/plain": [
       "P2 loop:   0%|          | 0/13 [00:00<?, ?it/s]"
      ]
     },
     "metadata": {},
     "output_type": "display_data"
    },
    {
     "data": {
      "application/vnd.jupyter.widget-view+json": {
       "model_id": "",
       "version_major": 2,
       "version_minor": 0
      },
      "text/plain": [
       "P2 loop:   0%|          | 0/53 [00:00<?, ?it/s]"
      ]
     },
     "metadata": {},
     "output_type": "display_data"
    },
    {
     "data": {
      "application/vnd.jupyter.widget-view+json": {
       "model_id": "",
       "version_major": 2,
       "version_minor": 0
      },
      "text/plain": [
       "P2 loop:   0%|          | 0/54 [00:00<?, ?it/s]"
      ]
     },
     "metadata": {},
     "output_type": "display_data"
    },
    {
     "data": {
      "application/vnd.jupyter.widget-view+json": {
       "model_id": "",
       "version_major": 2,
       "version_minor": 0
      },
      "text/plain": [
       "P2 loop:   0%|          | 0/55 [00:00<?, ?it/s]"
      ]
     },
     "metadata": {},
     "output_type": "display_data"
    },
    {
     "data": {
      "application/vnd.jupyter.widget-view+json": {
       "model_id": "",
       "version_major": 2,
       "version_minor": 0
      },
      "text/plain": [
       "P2 loop:   0%|          | 0/49 [00:00<?, ?it/s]"
      ]
     },
     "metadata": {},
     "output_type": "display_data"
    },
    {
     "data": {
      "application/vnd.jupyter.widget-view+json": {
       "model_id": "",
       "version_major": 2,
       "version_minor": 0
      },
      "text/plain": [
       "P2 loop:   0%|          | 0/46 [00:00<?, ?it/s]"
      ]
     },
     "metadata": {},
     "output_type": "display_data"
    },
    {
     "data": {
      "application/vnd.jupyter.widget-view+json": {
       "model_id": "",
       "version_major": 2,
       "version_minor": 0
      },
      "text/plain": [
       "P2 loop:   0%|          | 0/36 [00:00<?, ?it/s]"
      ]
     },
     "metadata": {},
     "output_type": "display_data"
    },
    {
     "data": {
      "application/vnd.jupyter.widget-view+json": {
       "model_id": "",
       "version_major": 2,
       "version_minor": 0
      },
      "text/plain": [
       "P2 loop:   0%|          | 0/49 [00:00<?, ?it/s]"
      ]
     },
     "metadata": {},
     "output_type": "display_data"
    },
    {
     "data": {
      "application/vnd.jupyter.widget-view+json": {
       "model_id": "",
       "version_major": 2,
       "version_minor": 0
      },
      "text/plain": [
       "P2 loop:   0%|          | 0/44 [00:00<?, ?it/s]"
      ]
     },
     "metadata": {},
     "output_type": "display_data"
    },
    {
     "data": {
      "application/vnd.jupyter.widget-view+json": {
       "model_id": "",
       "version_major": 2,
       "version_minor": 0
      },
      "text/plain": [
       "P2 loop:   0%|          | 0/40 [00:00<?, ?it/s]"
      ]
     },
     "metadata": {},
     "output_type": "display_data"
    },
    {
     "data": {
      "application/vnd.jupyter.widget-view+json": {
       "model_id": "",
       "version_major": 2,
       "version_minor": 0
      },
      "text/plain": [
       "P2 loop:   0%|          | 0/44 [00:00<?, ?it/s]"
      ]
     },
     "metadata": {},
     "output_type": "display_data"
    },
    {
     "data": {
      "application/vnd.jupyter.widget-view+json": {
       "model_id": "",
       "version_major": 2,
       "version_minor": 0
      },
      "text/plain": [
       "P2 loop:   0%|          | 0/34 [00:00<?, ?it/s]"
      ]
     },
     "metadata": {},
     "output_type": "display_data"
    },
    {
     "data": {
      "application/vnd.jupyter.widget-view+json": {
       "model_id": "",
       "version_major": 2,
       "version_minor": 0
      },
      "text/plain": [
       "P2 loop:   0%|          | 0/26 [00:00<?, ?it/s]"
      ]
     },
     "metadata": {},
     "output_type": "display_data"
    },
    {
     "data": {
      "application/vnd.jupyter.widget-view+json": {
       "model_id": "",
       "version_major": 2,
       "version_minor": 0
      },
      "text/plain": [
       "P2 loop:   0%|          | 0/41 [00:00<?, ?it/s]"
      ]
     },
     "metadata": {},
     "output_type": "display_data"
    },
    {
     "data": {
      "application/vnd.jupyter.widget-view+json": {
       "model_id": "",
       "version_major": 2,
       "version_minor": 0
      },
      "text/plain": [
       "P2 loop:   0%|          | 0/31 [00:00<?, ?it/s]"
      ]
     },
     "metadata": {},
     "output_type": "display_data"
    },
    {
     "data": {
      "application/vnd.jupyter.widget-view+json": {
       "model_id": "",
       "version_major": 2,
       "version_minor": 0
      },
      "text/plain": [
       "P2 loop:   0%|          | 0/32 [00:00<?, ?it/s]"
      ]
     },
     "metadata": {},
     "output_type": "display_data"
    },
    {
     "data": {
      "application/vnd.jupyter.widget-view+json": {
       "model_id": "",
       "version_major": 2,
       "version_minor": 0
      },
      "text/plain": [
       "P2 loop:   0%|          | 0/41 [00:00<?, ?it/s]"
      ]
     },
     "metadata": {},
     "output_type": "display_data"
    },
    {
     "data": {
      "application/vnd.jupyter.widget-view+json": {
       "model_id": "",
       "version_major": 2,
       "version_minor": 0
      },
      "text/plain": [
       "P2 loop:   0%|          | 0/12 [00:00<?, ?it/s]"
      ]
     },
     "metadata": {},
     "output_type": "display_data"
    },
    {
     "data": {
      "application/vnd.jupyter.widget-view+json": {
       "model_id": "",
       "version_major": 2,
       "version_minor": 0
      },
      "text/plain": [
       "P2 loop:   0%|          | 0/31 [00:00<?, ?it/s]"
      ]
     },
     "metadata": {},
     "output_type": "display_data"
    },
    {
     "data": {
      "application/vnd.jupyter.widget-view+json": {
       "model_id": "",
       "version_major": 2,
       "version_minor": 0
      },
      "text/plain": [
       "P2 loop:   0%|          | 0/9 [00:00<?, ?it/s]"
      ]
     },
     "metadata": {},
     "output_type": "display_data"
    },
    {
     "data": {
      "application/vnd.jupyter.widget-view+json": {
       "model_id": "",
       "version_major": 2,
       "version_minor": 0
      },
      "text/plain": [
       "Attribute loop:   0%|          | 0/8072 [00:00<?, ?it/s]"
      ]
     },
     "metadata": {},
     "output_type": "display_data"
    },
    {
     "data": {
      "application/vnd.jupyter.widget-view+json": {
       "model_id": "",
       "version_major": 2,
       "version_minor": 0
      },
      "text/plain": [
       "neighbor loop:   0%|          | 0/8774 [00:00<?, ?it/s]"
      ]
     },
     "metadata": {},
     "output_type": "display_data"
    },
    {
     "data": {
      "application/vnd.jupyter.widget-view+json": {
       "model_id": "",
       "version_major": 2,
       "version_minor": 0
      },
      "text/plain": [
       "Predicate loop:   0%|          | 0/65 [00:00<?, ?it/s]"
      ]
     },
     "metadata": {},
     "output_type": "display_data"
    },
    {
     "data": {
      "application/vnd.jupyter.widget-view+json": {
       "model_id": "",
       "version_major": 2,
       "version_minor": 0
      },
      "text/plain": [
       "P2 loop:   0%|          | 0/23 [00:00<?, ?it/s]"
      ]
     },
     "metadata": {},
     "output_type": "display_data"
    },
    {
     "data": {
      "application/vnd.jupyter.widget-view+json": {
       "model_id": "",
       "version_major": 2,
       "version_minor": 0
      },
      "text/plain": [
       "P2 loop:   0%|          | 0/18 [00:00<?, ?it/s]"
      ]
     },
     "metadata": {},
     "output_type": "display_data"
    },
    {
     "data": {
      "application/vnd.jupyter.widget-view+json": {
       "model_id": "",
       "version_major": 2,
       "version_minor": 0
      },
      "text/plain": [
       "P2 loop:   0%|          | 0/21 [00:00<?, ?it/s]"
      ]
     },
     "metadata": {},
     "output_type": "display_data"
    },
    {
     "data": {
      "application/vnd.jupyter.widget-view+json": {
       "model_id": "",
       "version_major": 2,
       "version_minor": 0
      },
      "text/plain": [
       "P2 loop:   0%|          | 0/39 [00:00<?, ?it/s]"
      ]
     },
     "metadata": {},
     "output_type": "display_data"
    },
    {
     "data": {
      "application/vnd.jupyter.widget-view+json": {
       "model_id": "",
       "version_major": 2,
       "version_minor": 0
      },
      "text/plain": [
       "P2 loop:   0%|          | 0/35 [00:00<?, ?it/s]"
      ]
     },
     "metadata": {},
     "output_type": "display_data"
    },
    {
     "data": {
      "application/vnd.jupyter.widget-view+json": {
       "model_id": "",
       "version_major": 2,
       "version_minor": 0
      },
      "text/plain": [
       "P2 loop:   0%|          | 0/19 [00:00<?, ?it/s]"
      ]
     },
     "metadata": {},
     "output_type": "display_data"
    },
    {
     "data": {
      "application/vnd.jupyter.widget-view+json": {
       "model_id": "",
       "version_major": 2,
       "version_minor": 0
      },
      "text/plain": [
       "P2 loop:   0%|          | 0/33 [00:00<?, ?it/s]"
      ]
     },
     "metadata": {},
     "output_type": "display_data"
    },
    {
     "data": {
      "application/vnd.jupyter.widget-view+json": {
       "model_id": "",
       "version_major": 2,
       "version_minor": 0
      },
      "text/plain": [
       "P2 loop:   0%|          | 0/28 [00:00<?, ?it/s]"
      ]
     },
     "metadata": {},
     "output_type": "display_data"
    },
    {
     "data": {
      "application/vnd.jupyter.widget-view+json": {
       "model_id": "",
       "version_major": 2,
       "version_minor": 0
      },
      "text/plain": [
       "P2 loop:   0%|          | 0/7 [00:00<?, ?it/s]"
      ]
     },
     "metadata": {},
     "output_type": "display_data"
    },
    {
     "data": {
      "application/vnd.jupyter.widget-view+json": {
       "model_id": "",
       "version_major": 2,
       "version_minor": 0
      },
      "text/plain": [
       "P2 loop:   0%|          | 0/38 [00:00<?, ?it/s]"
      ]
     },
     "metadata": {},
     "output_type": "display_data"
    },
    {
     "data": {
      "application/vnd.jupyter.widget-view+json": {
       "model_id": "",
       "version_major": 2,
       "version_minor": 0
      },
      "text/plain": [
       "P2 loop:   0%|          | 0/36 [00:00<?, ?it/s]"
      ]
     },
     "metadata": {},
     "output_type": "display_data"
    },
    {
     "data": {
      "application/vnd.jupyter.widget-view+json": {
       "model_id": "",
       "version_major": 2,
       "version_minor": 0
      },
      "text/plain": [
       "P2 loop:   0%|          | 0/36 [00:00<?, ?it/s]"
      ]
     },
     "metadata": {},
     "output_type": "display_data"
    },
    {
     "data": {
      "application/vnd.jupyter.widget-view+json": {
       "model_id": "",
       "version_major": 2,
       "version_minor": 0
      },
      "text/plain": [
       "P2 loop:   0%|          | 0/12 [00:00<?, ?it/s]"
      ]
     },
     "metadata": {},
     "output_type": "display_data"
    },
    {
     "data": {
      "application/vnd.jupyter.widget-view+json": {
       "model_id": "",
       "version_major": 2,
       "version_minor": 0
      },
      "text/plain": [
       "P2 loop:   0%|          | 0/32 [00:00<?, ?it/s]"
      ]
     },
     "metadata": {},
     "output_type": "display_data"
    },
    {
     "data": {
      "application/vnd.jupyter.widget-view+json": {
       "model_id": "",
       "version_major": 2,
       "version_minor": 0
      },
      "text/plain": [
       "P2 loop:   0%|          | 0/2 [00:00<?, ?it/s]"
      ]
     },
     "metadata": {},
     "output_type": "display_data"
    },
    {
     "data": {
      "application/vnd.jupyter.widget-view+json": {
       "model_id": "",
       "version_major": 2,
       "version_minor": 0
      },
      "text/plain": [
       "P2 loop:   0%|          | 0/29 [00:00<?, ?it/s]"
      ]
     },
     "metadata": {},
     "output_type": "display_data"
    },
    {
     "data": {
      "application/vnd.jupyter.widget-view+json": {
       "model_id": "",
       "version_major": 2,
       "version_minor": 0
      },
      "text/plain": [
       "P2 loop:   0%|          | 0/8 [00:00<?, ?it/s]"
      ]
     },
     "metadata": {},
     "output_type": "display_data"
    },
    {
     "data": {
      "application/vnd.jupyter.widget-view+json": {
       "model_id": "",
       "version_major": 2,
       "version_minor": 0
      },
      "text/plain": [
       "P2 loop:   0%|          | 0/3 [00:00<?, ?it/s]"
      ]
     },
     "metadata": {},
     "output_type": "display_data"
    },
    {
     "data": {
      "application/vnd.jupyter.widget-view+json": {
       "model_id": "",
       "version_major": 2,
       "version_minor": 0
      },
      "text/plain": [
       "P2 loop:   0%|          | 0/28 [00:00<?, ?it/s]"
      ]
     },
     "metadata": {},
     "output_type": "display_data"
    },
    {
     "data": {
      "application/vnd.jupyter.widget-view+json": {
       "model_id": "",
       "version_major": 2,
       "version_minor": 0
      },
      "text/plain": [
       "P2 loop:   0%|          | 0/26 [00:00<?, ?it/s]"
      ]
     },
     "metadata": {},
     "output_type": "display_data"
    },
    {
     "data": {
      "application/vnd.jupyter.widget-view+json": {
       "model_id": "",
       "version_major": 2,
       "version_minor": 0
      },
      "text/plain": [
       "P2 loop:   0%|          | 0/32 [00:00<?, ?it/s]"
      ]
     },
     "metadata": {},
     "output_type": "display_data"
    },
    {
     "data": {
      "application/vnd.jupyter.widget-view+json": {
       "model_id": "",
       "version_major": 2,
       "version_minor": 0
      },
      "text/plain": [
       "P2 loop:   0%|          | 0/33 [00:00<?, ?it/s]"
      ]
     },
     "metadata": {},
     "output_type": "display_data"
    },
    {
     "data": {
      "application/vnd.jupyter.widget-view+json": {
       "model_id": "",
       "version_major": 2,
       "version_minor": 0
      },
      "text/plain": [
       "P2 loop:   0%|          | 0/31 [00:00<?, ?it/s]"
      ]
     },
     "metadata": {},
     "output_type": "display_data"
    },
    {
     "data": {
      "application/vnd.jupyter.widget-view+json": {
       "model_id": "",
       "version_major": 2,
       "version_minor": 0
      },
      "text/plain": [
       "P2 loop:   0%|          | 0/32 [00:00<?, ?it/s]"
      ]
     },
     "metadata": {},
     "output_type": "display_data"
    },
    {
     "data": {
      "application/vnd.jupyter.widget-view+json": {
       "model_id": "",
       "version_major": 2,
       "version_minor": 0
      },
      "text/plain": [
       "P2 loop:   0%|          | 0/6 [00:00<?, ?it/s]"
      ]
     },
     "metadata": {},
     "output_type": "display_data"
    },
    {
     "data": {
      "application/vnd.jupyter.widget-view+json": {
       "model_id": "",
       "version_major": 2,
       "version_minor": 0
      },
      "text/plain": [
       "P2 loop:   0%|          | 0/30 [00:00<?, ?it/s]"
      ]
     },
     "metadata": {},
     "output_type": "display_data"
    },
    {
     "data": {
      "application/vnd.jupyter.widget-view+json": {
       "model_id": "",
       "version_major": 2,
       "version_minor": 0
      },
      "text/plain": [
       "P2 loop:   0%|          | 0/25 [00:00<?, ?it/s]"
      ]
     },
     "metadata": {},
     "output_type": "display_data"
    },
    {
     "data": {
      "application/vnd.jupyter.widget-view+json": {
       "model_id": "",
       "version_major": 2,
       "version_minor": 0
      },
      "text/plain": [
       "P2 loop:   0%|          | 0/29 [00:00<?, ?it/s]"
      ]
     },
     "metadata": {},
     "output_type": "display_data"
    },
    {
     "data": {
      "application/vnd.jupyter.widget-view+json": {
       "model_id": "",
       "version_major": 2,
       "version_minor": 0
      },
      "text/plain": [
       "P2 loop:   0%|          | 0/29 [00:00<?, ?it/s]"
      ]
     },
     "metadata": {},
     "output_type": "display_data"
    },
    {
     "data": {
      "application/vnd.jupyter.widget-view+json": {
       "model_id": "",
       "version_major": 2,
       "version_minor": 0
      },
      "text/plain": [
       "P2 loop:   0%|          | 0/32 [00:00<?, ?it/s]"
      ]
     },
     "metadata": {},
     "output_type": "display_data"
    },
    {
     "data": {
      "application/vnd.jupyter.widget-view+json": {
       "model_id": "",
       "version_major": 2,
       "version_minor": 0
      },
      "text/plain": [
       "P2 loop:   0%|          | 0/29 [00:00<?, ?it/s]"
      ]
     },
     "metadata": {},
     "output_type": "display_data"
    },
    {
     "data": {
      "application/vnd.jupyter.widget-view+json": {
       "model_id": "",
       "version_major": 2,
       "version_minor": 0
      },
      "text/plain": [
       "P2 loop:   0%|          | 0/23 [00:00<?, ?it/s]"
      ]
     },
     "metadata": {},
     "output_type": "display_data"
    },
    {
     "data": {
      "application/vnd.jupyter.widget-view+json": {
       "model_id": "",
       "version_major": 2,
       "version_minor": 0
      },
      "text/plain": [
       "P2 loop:   0%|          | 0/29 [00:00<?, ?it/s]"
      ]
     },
     "metadata": {},
     "output_type": "display_data"
    },
    {
     "data": {
      "application/vnd.jupyter.widget-view+json": {
       "model_id": "",
       "version_major": 2,
       "version_minor": 0
      },
      "text/plain": [
       "P2 loop:   0%|          | 0/10 [00:00<?, ?it/s]"
      ]
     },
     "metadata": {},
     "output_type": "display_data"
    },
    {
     "data": {
      "application/vnd.jupyter.widget-view+json": {
       "model_id": "",
       "version_major": 2,
       "version_minor": 0
      },
      "text/plain": [
       "P2 loop:   0%|          | 0/30 [00:00<?, ?it/s]"
      ]
     },
     "metadata": {},
     "output_type": "display_data"
    },
    {
     "data": {
      "application/vnd.jupyter.widget-view+json": {
       "model_id": "",
       "version_major": 2,
       "version_minor": 0
      },
      "text/plain": [
       "P2 loop:   0%|          | 0/29 [00:00<?, ?it/s]"
      ]
     },
     "metadata": {},
     "output_type": "display_data"
    },
    {
     "data": {
      "application/vnd.jupyter.widget-view+json": {
       "model_id": "",
       "version_major": 2,
       "version_minor": 0
      },
      "text/plain": [
       "P2 loop:   0%|          | 0/30 [00:00<?, ?it/s]"
      ]
     },
     "metadata": {},
     "output_type": "display_data"
    },
    {
     "data": {
      "application/vnd.jupyter.widget-view+json": {
       "model_id": "",
       "version_major": 2,
       "version_minor": 0
      },
      "text/plain": [
       "P2 loop:   0%|          | 0/12 [00:00<?, ?it/s]"
      ]
     },
     "metadata": {},
     "output_type": "display_data"
    },
    {
     "data": {
      "application/vnd.jupyter.widget-view+json": {
       "model_id": "",
       "version_major": 2,
       "version_minor": 0
      },
      "text/plain": [
       "P2 loop:   0%|          | 0/27 [00:00<?, ?it/s]"
      ]
     },
     "metadata": {},
     "output_type": "display_data"
    },
    {
     "data": {
      "application/vnd.jupyter.widget-view+json": {
       "model_id": "",
       "version_major": 2,
       "version_minor": 0
      },
      "text/plain": [
       "P2 loop:   0%|          | 0/28 [00:00<?, ?it/s]"
      ]
     },
     "metadata": {},
     "output_type": "display_data"
    },
    {
     "data": {
      "application/vnd.jupyter.widget-view+json": {
       "model_id": "",
       "version_major": 2,
       "version_minor": 0
      },
      "text/plain": [
       "P2 loop:   0%|          | 0/27 [00:00<?, ?it/s]"
      ]
     },
     "metadata": {},
     "output_type": "display_data"
    },
    {
     "data": {
      "application/vnd.jupyter.widget-view+json": {
       "model_id": "",
       "version_major": 2,
       "version_minor": 0
      },
      "text/plain": [
       "P2 loop:   0%|          | 0/29 [00:00<?, ?it/s]"
      ]
     },
     "metadata": {},
     "output_type": "display_data"
    },
    {
     "data": {
      "application/vnd.jupyter.widget-view+json": {
       "model_id": "",
       "version_major": 2,
       "version_minor": 0
      },
      "text/plain": [
       "P2 loop:   0%|          | 0/29 [00:00<?, ?it/s]"
      ]
     },
     "metadata": {},
     "output_type": "display_data"
    },
    {
     "data": {
      "application/vnd.jupyter.widget-view+json": {
       "model_id": "",
       "version_major": 2,
       "version_minor": 0
      },
      "text/plain": [
       "P2 loop:   0%|          | 0/28 [00:00<?, ?it/s]"
      ]
     },
     "metadata": {},
     "output_type": "display_data"
    },
    {
     "data": {
      "application/vnd.jupyter.widget-view+json": {
       "model_id": "",
       "version_major": 2,
       "version_minor": 0
      },
      "text/plain": [
       "P2 loop:   0%|          | 0/25 [00:00<?, ?it/s]"
      ]
     },
     "metadata": {},
     "output_type": "display_data"
    },
    {
     "data": {
      "application/vnd.jupyter.widget-view+json": {
       "model_id": "",
       "version_major": 2,
       "version_minor": 0
      },
      "text/plain": [
       "P2 loop:   0%|          | 0/27 [00:00<?, ?it/s]"
      ]
     },
     "metadata": {},
     "output_type": "display_data"
    },
    {
     "data": {
      "application/vnd.jupyter.widget-view+json": {
       "model_id": "",
       "version_major": 2,
       "version_minor": 0
      },
      "text/plain": [
       "P2 loop:   0%|          | 0/24 [00:00<?, ?it/s]"
      ]
     },
     "metadata": {},
     "output_type": "display_data"
    },
    {
     "data": {
      "application/vnd.jupyter.widget-view+json": {
       "model_id": "",
       "version_major": 2,
       "version_minor": 0
      },
      "text/plain": [
       "P2 loop:   0%|          | 0/24 [00:00<?, ?it/s]"
      ]
     },
     "metadata": {},
     "output_type": "display_data"
    },
    {
     "data": {
      "application/vnd.jupyter.widget-view+json": {
       "model_id": "",
       "version_major": 2,
       "version_minor": 0
      },
      "text/plain": [
       "P2 loop:   0%|          | 0/25 [00:00<?, ?it/s]"
      ]
     },
     "metadata": {},
     "output_type": "display_data"
    },
    {
     "data": {
      "application/vnd.jupyter.widget-view+json": {
       "model_id": "",
       "version_major": 2,
       "version_minor": 0
      },
      "text/plain": [
       "P2 loop:   0%|          | 0/29 [00:00<?, ?it/s]"
      ]
     },
     "metadata": {},
     "output_type": "display_data"
    },
    {
     "data": {
      "application/vnd.jupyter.widget-view+json": {
       "model_id": "",
       "version_major": 2,
       "version_minor": 0
      },
      "text/plain": [
       "P2 loop:   0%|          | 0/21 [00:00<?, ?it/s]"
      ]
     },
     "metadata": {},
     "output_type": "display_data"
    },
    {
     "data": {
      "application/vnd.jupyter.widget-view+json": {
       "model_id": "",
       "version_major": 2,
       "version_minor": 0
      },
      "text/plain": [
       "P2 loop:   0%|          | 0/26 [00:00<?, ?it/s]"
      ]
     },
     "metadata": {},
     "output_type": "display_data"
    },
    {
     "data": {
      "application/vnd.jupyter.widget-view+json": {
       "model_id": "",
       "version_major": 2,
       "version_minor": 0
      },
      "text/plain": [
       "P2 loop:   0%|          | 0/26 [00:00<?, ?it/s]"
      ]
     },
     "metadata": {},
     "output_type": "display_data"
    },
    {
     "data": {
      "application/vnd.jupyter.widget-view+json": {
       "model_id": "",
       "version_major": 2,
       "version_minor": 0
      },
      "text/plain": [
       "P2 loop:   0%|          | 0/17 [00:00<?, ?it/s]"
      ]
     },
     "metadata": {},
     "output_type": "display_data"
    },
    {
     "data": {
      "application/vnd.jupyter.widget-view+json": {
       "model_id": "",
       "version_major": 2,
       "version_minor": 0
      },
      "text/plain": [
       "P2 loop:   0%|          | 0/13 [00:00<?, ?it/s]"
      ]
     },
     "metadata": {},
     "output_type": "display_data"
    },
    {
     "data": {
      "application/vnd.jupyter.widget-view+json": {
       "model_id": "",
       "version_major": 2,
       "version_minor": 0
      },
      "text/plain": [
       "P2 loop:   0%|          | 0/13 [00:00<?, ?it/s]"
      ]
     },
     "metadata": {},
     "output_type": "display_data"
    },
    {
     "data": {
      "application/vnd.jupyter.widget-view+json": {
       "model_id": "",
       "version_major": 2,
       "version_minor": 0
      },
      "text/plain": [
       "P2 loop:   0%|          | 0/23 [00:00<?, ?it/s]"
      ]
     },
     "metadata": {},
     "output_type": "display_data"
    },
    {
     "data": {
      "application/vnd.jupyter.widget-view+json": {
       "model_id": "",
       "version_major": 2,
       "version_minor": 0
      },
      "text/plain": [
       "P2 loop:   0%|          | 0/25 [00:00<?, ?it/s]"
      ]
     },
     "metadata": {},
     "output_type": "display_data"
    },
    {
     "data": {
      "application/vnd.jupyter.widget-view+json": {
       "model_id": "",
       "version_major": 2,
       "version_minor": 0
      },
      "text/plain": [
       "P2 loop:   0%|          | 0/22 [00:00<?, ?it/s]"
      ]
     },
     "metadata": {},
     "output_type": "display_data"
    },
    {
     "data": {
      "application/vnd.jupyter.widget-view+json": {
       "model_id": "",
       "version_major": 2,
       "version_minor": 0
      },
      "text/plain": [
       "P2 loop:   0%|          | 0/26 [00:00<?, ?it/s]"
      ]
     },
     "metadata": {},
     "output_type": "display_data"
    },
    {
     "data": {
      "application/vnd.jupyter.widget-view+json": {
       "model_id": "",
       "version_major": 2,
       "version_minor": 0
      },
      "text/plain": [
       "P2 loop:   0%|          | 0/16 [00:00<?, ?it/s]"
      ]
     },
     "metadata": {},
     "output_type": "display_data"
    },
    {
     "data": {
      "application/vnd.jupyter.widget-view+json": {
       "model_id": "",
       "version_major": 2,
       "version_minor": 0
      },
      "text/plain": [
       "P2 loop:   0%|          | 0/14 [00:00<?, ?it/s]"
      ]
     },
     "metadata": {},
     "output_type": "display_data"
    },
    {
     "data": {
      "application/vnd.jupyter.widget-view+json": {
       "model_id": "",
       "version_major": 2,
       "version_minor": 0
      },
      "text/plain": [
       "P2 loop:   0%|          | 0/18 [00:00<?, ?it/s]"
      ]
     },
     "metadata": {},
     "output_type": "display_data"
    },
    {
     "data": {
      "application/vnd.jupyter.widget-view+json": {
       "model_id": "",
       "version_major": 2,
       "version_minor": 0
      },
      "text/plain": [
       "P2 loop:   0%|          | 0/18 [00:00<?, ?it/s]"
      ]
     },
     "metadata": {},
     "output_type": "display_data"
    },
    {
     "data": {
      "application/vnd.jupyter.widget-view+json": {
       "model_id": "",
       "version_major": 2,
       "version_minor": 0
      },
      "text/plain": [
       "P2 loop:   0%|          | 0/1 [00:00<?, ?it/s]"
      ]
     },
     "metadata": {},
     "output_type": "display_data"
    },
    {
     "data": {
      "application/vnd.jupyter.widget-view+json": {
       "model_id": "",
       "version_major": 2,
       "version_minor": 0
      },
      "text/plain": [
       "Predicate loop:   0%|          | 0/43 [00:00<?, ?it/s]"
      ]
     },
     "metadata": {},
     "output_type": "display_data"
    },
    {
     "data": {
      "application/vnd.jupyter.widget-view+json": {
       "model_id": "",
       "version_major": 2,
       "version_minor": 0
      },
      "text/plain": [
       "P2 loop:   0%|          | 0/15 [00:00<?, ?it/s]"
      ]
     },
     "metadata": {},
     "output_type": "display_data"
    },
    {
     "data": {
      "application/vnd.jupyter.widget-view+json": {
       "model_id": "",
       "version_major": 2,
       "version_minor": 0
      },
      "text/plain": [
       "P2 loop:   0%|          | 0/24 [00:00<?, ?it/s]"
      ]
     },
     "metadata": {},
     "output_type": "display_data"
    },
    {
     "data": {
      "application/vnd.jupyter.widget-view+json": {
       "model_id": "",
       "version_major": 2,
       "version_minor": 0
      },
      "text/plain": [
       "P2 loop:   0%|          | 0/24 [00:00<?, ?it/s]"
      ]
     },
     "metadata": {},
     "output_type": "display_data"
    },
    {
     "data": {
      "application/vnd.jupyter.widget-view+json": {
       "model_id": "",
       "version_major": 2,
       "version_minor": 0
      },
      "text/plain": [
       "P2 loop:   0%|          | 0/25 [00:00<?, ?it/s]"
      ]
     },
     "metadata": {},
     "output_type": "display_data"
    },
    {
     "data": {
      "application/vnd.jupyter.widget-view+json": {
       "model_id": "",
       "version_major": 2,
       "version_minor": 0
      },
      "text/plain": [
       "P2 loop:   0%|          | 0/61 [00:00<?, ?it/s]"
      ]
     },
     "metadata": {},
     "output_type": "display_data"
    },
    {
     "data": {
      "application/vnd.jupyter.widget-view+json": {
       "model_id": "",
       "version_major": 2,
       "version_minor": 0
      },
      "text/plain": [
       "P2 loop:   0%|          | 0/59 [00:00<?, ?it/s]"
      ]
     },
     "metadata": {},
     "output_type": "display_data"
    },
    {
     "data": {
      "application/vnd.jupyter.widget-view+json": {
       "model_id": "",
       "version_major": 2,
       "version_minor": 0
      },
      "text/plain": [
       "P2 loop:   0%|          | 0/18 [00:00<?, ?it/s]"
      ]
     },
     "metadata": {},
     "output_type": "display_data"
    },
    {
     "data": {
      "application/vnd.jupyter.widget-view+json": {
       "model_id": "",
       "version_major": 2,
       "version_minor": 0
      },
      "text/plain": [
       "P2 loop:   0%|          | 0/8 [00:00<?, ?it/s]"
      ]
     },
     "metadata": {},
     "output_type": "display_data"
    },
    {
     "data": {
      "application/vnd.jupyter.widget-view+json": {
       "model_id": "",
       "version_major": 2,
       "version_minor": 0
      },
      "text/plain": [
       "P2 loop:   0%|          | 0/8 [00:00<?, ?it/s]"
      ]
     },
     "metadata": {},
     "output_type": "display_data"
    },
    {
     "data": {
      "application/vnd.jupyter.widget-view+json": {
       "model_id": "",
       "version_major": 2,
       "version_minor": 0
      },
      "text/plain": [
       "P2 loop:   0%|          | 0/55 [00:00<?, ?it/s]"
      ]
     },
     "metadata": {},
     "output_type": "display_data"
    },
    {
     "data": {
      "application/vnd.jupyter.widget-view+json": {
       "model_id": "",
       "version_major": 2,
       "version_minor": 0
      },
      "text/plain": [
       "P2 loop:   0%|          | 0/7 [00:00<?, ?it/s]"
      ]
     },
     "metadata": {},
     "output_type": "display_data"
    },
    {
     "data": {
      "application/vnd.jupyter.widget-view+json": {
       "model_id": "",
       "version_major": 2,
       "version_minor": 0
      },
      "text/plain": [
       "P2 loop:   0%|          | 0/7 [00:00<?, ?it/s]"
      ]
     },
     "metadata": {},
     "output_type": "display_data"
    },
    {
     "data": {
      "application/vnd.jupyter.widget-view+json": {
       "model_id": "",
       "version_major": 2,
       "version_minor": 0
      },
      "text/plain": [
       "P2 loop:   0%|          | 0/8 [00:00<?, ?it/s]"
      ]
     },
     "metadata": {},
     "output_type": "display_data"
    },
    {
     "data": {
      "application/vnd.jupyter.widget-view+json": {
       "model_id": "",
       "version_major": 2,
       "version_minor": 0
      },
      "text/plain": [
       "P2 loop:   0%|          | 0/8 [00:00<?, ?it/s]"
      ]
     },
     "metadata": {},
     "output_type": "display_data"
    },
    {
     "data": {
      "application/vnd.jupyter.widget-view+json": {
       "model_id": "",
       "version_major": 2,
       "version_minor": 0
      },
      "text/plain": [
       "P2 loop:   0%|          | 0/53 [00:00<?, ?it/s]"
      ]
     },
     "metadata": {},
     "output_type": "display_data"
    },
    {
     "data": {
      "application/vnd.jupyter.widget-view+json": {
       "model_id": "",
       "version_major": 2,
       "version_minor": 0
      },
      "text/plain": [
       "P2 loop:   0%|          | 0/45 [00:00<?, ?it/s]"
      ]
     },
     "metadata": {},
     "output_type": "display_data"
    },
    {
     "data": {
      "application/vnd.jupyter.widget-view+json": {
       "model_id": "",
       "version_major": 2,
       "version_minor": 0
      },
      "text/plain": [
       "P2 loop:   0%|          | 0/57 [00:00<?, ?it/s]"
      ]
     },
     "metadata": {},
     "output_type": "display_data"
    },
    {
     "data": {
      "application/vnd.jupyter.widget-view+json": {
       "model_id": "",
       "version_major": 2,
       "version_minor": 0
      },
      "text/plain": [
       "P2 loop:   0%|          | 0/3 [00:00<?, ?it/s]"
      ]
     },
     "metadata": {},
     "output_type": "display_data"
    },
    {
     "data": {
      "application/vnd.jupyter.widget-view+json": {
       "model_id": "",
       "version_major": 2,
       "version_minor": 0
      },
      "text/plain": [
       "P2 loop:   0%|          | 0/44 [00:00<?, ?it/s]"
      ]
     },
     "metadata": {},
     "output_type": "display_data"
    },
    {
     "data": {
      "application/vnd.jupyter.widget-view+json": {
       "model_id": "",
       "version_major": 2,
       "version_minor": 0
      },
      "text/plain": [
       "P2 loop:   0%|          | 0/53 [00:00<?, ?it/s]"
      ]
     },
     "metadata": {},
     "output_type": "display_data"
    },
    {
     "data": {
      "application/vnd.jupyter.widget-view+json": {
       "model_id": "",
       "version_major": 2,
       "version_minor": 0
      },
      "text/plain": [
       "P2 loop:   0%|          | 0/46 [00:00<?, ?it/s]"
      ]
     },
     "metadata": {},
     "output_type": "display_data"
    },
    {
     "data": {
      "application/vnd.jupyter.widget-view+json": {
       "model_id": "",
       "version_major": 2,
       "version_minor": 0
      },
      "text/plain": [
       "P2 loop:   0%|          | 0/42 [00:00<?, ?it/s]"
      ]
     },
     "metadata": {},
     "output_type": "display_data"
    },
    {
     "data": {
      "application/vnd.jupyter.widget-view+json": {
       "model_id": "",
       "version_major": 2,
       "version_minor": 0
      },
      "text/plain": [
       "P2 loop:   0%|          | 0/57 [00:00<?, ?it/s]"
      ]
     },
     "metadata": {},
     "output_type": "display_data"
    },
    {
     "data": {
      "application/vnd.jupyter.widget-view+json": {
       "model_id": "",
       "version_major": 2,
       "version_minor": 0
      },
      "text/plain": [
       "P2 loop:   0%|          | 0/56 [00:00<?, ?it/s]"
      ]
     },
     "metadata": {},
     "output_type": "display_data"
    },
    {
     "data": {
      "application/vnd.jupyter.widget-view+json": {
       "model_id": "",
       "version_major": 2,
       "version_minor": 0
      },
      "text/plain": [
       "P2 loop:   0%|          | 0/57 [00:00<?, ?it/s]"
      ]
     },
     "metadata": {},
     "output_type": "display_data"
    },
    {
     "data": {
      "application/vnd.jupyter.widget-view+json": {
       "model_id": "",
       "version_major": 2,
       "version_minor": 0
      },
      "text/plain": [
       "P2 loop:   0%|          | 0/55 [00:00<?, ?it/s]"
      ]
     },
     "metadata": {},
     "output_type": "display_data"
    },
    {
     "data": {
      "application/vnd.jupyter.widget-view+json": {
       "model_id": "",
       "version_major": 2,
       "version_minor": 0
      },
      "text/plain": [
       "P2 loop:   0%|          | 0/50 [00:00<?, ?it/s]"
      ]
     },
     "metadata": {},
     "output_type": "display_data"
    },
    {
     "data": {
      "application/vnd.jupyter.widget-view+json": {
       "model_id": "",
       "version_major": 2,
       "version_minor": 0
      },
      "text/plain": [
       "P2 loop:   0%|          | 0/50 [00:00<?, ?it/s]"
      ]
     },
     "metadata": {},
     "output_type": "display_data"
    },
    {
     "data": {
      "application/vnd.jupyter.widget-view+json": {
       "model_id": "",
       "version_major": 2,
       "version_minor": 0
      },
      "text/plain": [
       "P2 loop:   0%|          | 0/54 [00:00<?, ?it/s]"
      ]
     },
     "metadata": {},
     "output_type": "display_data"
    },
    {
     "data": {
      "application/vnd.jupyter.widget-view+json": {
       "model_id": "",
       "version_major": 2,
       "version_minor": 0
      },
      "text/plain": [
       "P2 loop:   0%|          | 0/52 [00:00<?, ?it/s]"
      ]
     },
     "metadata": {},
     "output_type": "display_data"
    },
    {
     "data": {
      "application/vnd.jupyter.widget-view+json": {
       "model_id": "",
       "version_major": 2,
       "version_minor": 0
      },
      "text/plain": [
       "P2 loop:   0%|          | 0/40 [00:00<?, ?it/s]"
      ]
     },
     "metadata": {},
     "output_type": "display_data"
    },
    {
     "data": {
      "application/vnd.jupyter.widget-view+json": {
       "model_id": "",
       "version_major": 2,
       "version_minor": 0
      },
      "text/plain": [
       "P2 loop:   0%|          | 0/47 [00:00<?, ?it/s]"
      ]
     },
     "metadata": {},
     "output_type": "display_data"
    },
    {
     "data": {
      "application/vnd.jupyter.widget-view+json": {
       "model_id": "",
       "version_major": 2,
       "version_minor": 0
      },
      "text/plain": [
       "P2 loop:   0%|          | 0/51 [00:00<?, ?it/s]"
      ]
     },
     "metadata": {},
     "output_type": "display_data"
    },
    {
     "data": {
      "application/vnd.jupyter.widget-view+json": {
       "model_id": "",
       "version_major": 2,
       "version_minor": 0
      },
      "text/plain": [
       "P2 loop:   0%|          | 0/26 [00:00<?, ?it/s]"
      ]
     },
     "metadata": {},
     "output_type": "display_data"
    },
    {
     "data": {
      "application/vnd.jupyter.widget-view+json": {
       "model_id": "",
       "version_major": 2,
       "version_minor": 0
      },
      "text/plain": [
       "P2 loop:   0%|          | 0/42 [00:00<?, ?it/s]"
      ]
     },
     "metadata": {},
     "output_type": "display_data"
    },
    {
     "data": {
      "application/vnd.jupyter.widget-view+json": {
       "model_id": "",
       "version_major": 2,
       "version_minor": 0
      },
      "text/plain": [
       "P2 loop:   0%|          | 0/49 [00:00<?, ?it/s]"
      ]
     },
     "metadata": {},
     "output_type": "display_data"
    },
    {
     "data": {
      "application/vnd.jupyter.widget-view+json": {
       "model_id": "",
       "version_major": 2,
       "version_minor": 0
      },
      "text/plain": [
       "P2 loop:   0%|          | 0/36 [00:00<?, ?it/s]"
      ]
     },
     "metadata": {},
     "output_type": "display_data"
    },
    {
     "data": {
      "application/vnd.jupyter.widget-view+json": {
       "model_id": "",
       "version_major": 2,
       "version_minor": 0
      },
      "text/plain": [
       "P2 loop:   0%|          | 0/50 [00:00<?, ?it/s]"
      ]
     },
     "metadata": {},
     "output_type": "display_data"
    },
    {
     "data": {
      "application/vnd.jupyter.widget-view+json": {
       "model_id": "",
       "version_major": 2,
       "version_minor": 0
      },
      "text/plain": [
       "P2 loop:   0%|          | 0/12 [00:00<?, ?it/s]"
      ]
     },
     "metadata": {},
     "output_type": "display_data"
    },
    {
     "data": {
      "application/vnd.jupyter.widget-view+json": {
       "model_id": "",
       "version_major": 2,
       "version_minor": 0
      },
      "text/plain": [
       "P2 loop:   0%|          | 0/31 [00:00<?, ?it/s]"
      ]
     },
     "metadata": {},
     "output_type": "display_data"
    },
    {
     "data": {
      "application/vnd.jupyter.widget-view+json": {
       "model_id": "",
       "version_major": 2,
       "version_minor": 0
      },
      "text/plain": [
       "P2 loop:   0%|          | 0/38 [00:00<?, ?it/s]"
      ]
     },
     "metadata": {},
     "output_type": "display_data"
    },
    {
     "data": {
      "application/vnd.jupyter.widget-view+json": {
       "model_id": "",
       "version_major": 2,
       "version_minor": 0
      },
      "text/plain": [
       "P2 loop:   0%|          | 0/20 [00:00<?, ?it/s]"
      ]
     },
     "metadata": {},
     "output_type": "display_data"
    },
    {
     "data": {
      "application/vnd.jupyter.widget-view+json": {
       "model_id": "",
       "version_major": 2,
       "version_minor": 0
      },
      "text/plain": [
       "P2 loop:   0%|          | 0/2 [00:00<?, ?it/s]"
      ]
     },
     "metadata": {},
     "output_type": "display_data"
    },
    {
     "data": {
      "application/vnd.jupyter.widget-view+json": {
       "model_id": "",
       "version_major": 2,
       "version_minor": 0
      },
      "text/plain": [
       "Attribute loop:   0%|          | 0/8072 [00:00<?, ?it/s]"
      ]
     },
     "metadata": {},
     "output_type": "display_data"
    },
    {
     "data": {
      "application/vnd.jupyter.widget-view+json": {
       "model_id": "",
       "version_major": 2,
       "version_minor": 0
      },
      "text/plain": [
       "neighbor loop:   0%|          | 0/8837 [00:00<?, ?it/s]"
      ]
     },
     "metadata": {},
     "output_type": "display_data"
    },
    {
     "data": {
      "application/vnd.jupyter.widget-view+json": {
       "model_id": "",
       "version_major": 2,
       "version_minor": 0
      },
      "text/plain": [
       "Predicate loop:   0%|          | 0/65 [00:00<?, ?it/s]"
      ]
     },
     "metadata": {},
     "output_type": "display_data"
    },
    {
     "data": {
      "application/vnd.jupyter.widget-view+json": {
       "model_id": "",
       "version_major": 2,
       "version_minor": 0
      },
      "text/plain": [
       "P2 loop:   0%|          | 0/23 [00:00<?, ?it/s]"
      ]
     },
     "metadata": {},
     "output_type": "display_data"
    },
    {
     "data": {
      "application/vnd.jupyter.widget-view+json": {
       "model_id": "",
       "version_major": 2,
       "version_minor": 0
      },
      "text/plain": [
       "P2 loop:   0%|          | 0/18 [00:00<?, ?it/s]"
      ]
     },
     "metadata": {},
     "output_type": "display_data"
    },
    {
     "data": {
      "application/vnd.jupyter.widget-view+json": {
       "model_id": "",
       "version_major": 2,
       "version_minor": 0
      },
      "text/plain": [
       "P2 loop:   0%|          | 0/21 [00:00<?, ?it/s]"
      ]
     },
     "metadata": {},
     "output_type": "display_data"
    },
    {
     "data": {
      "application/vnd.jupyter.widget-view+json": {
       "model_id": "",
       "version_major": 2,
       "version_minor": 0
      },
      "text/plain": [
       "P2 loop:   0%|          | 0/39 [00:00<?, ?it/s]"
      ]
     },
     "metadata": {},
     "output_type": "display_data"
    },
    {
     "data": {
      "application/vnd.jupyter.widget-view+json": {
       "model_id": "",
       "version_major": 2,
       "version_minor": 0
      },
      "text/plain": [
       "P2 loop:   0%|          | 0/36 [00:00<?, ?it/s]"
      ]
     },
     "metadata": {},
     "output_type": "display_data"
    },
    {
     "data": {
      "application/vnd.jupyter.widget-view+json": {
       "model_id": "",
       "version_major": 2,
       "version_minor": 0
      },
      "text/plain": [
       "P2 loop:   0%|          | 0/21 [00:00<?, ?it/s]"
      ]
     },
     "metadata": {},
     "output_type": "display_data"
    },
    {
     "data": {
      "application/vnd.jupyter.widget-view+json": {
       "model_id": "",
       "version_major": 2,
       "version_minor": 0
      },
      "text/plain": [
       "P2 loop:   0%|          | 0/33 [00:00<?, ?it/s]"
      ]
     },
     "metadata": {},
     "output_type": "display_data"
    },
    {
     "data": {
      "application/vnd.jupyter.widget-view+json": {
       "model_id": "",
       "version_major": 2,
       "version_minor": 0
      },
      "text/plain": [
       "P2 loop:   0%|          | 0/29 [00:00<?, ?it/s]"
      ]
     },
     "metadata": {},
     "output_type": "display_data"
    },
    {
     "data": {
      "application/vnd.jupyter.widget-view+json": {
       "model_id": "",
       "version_major": 2,
       "version_minor": 0
      },
      "text/plain": [
       "P2 loop:   0%|          | 0/7 [00:00<?, ?it/s]"
      ]
     },
     "metadata": {},
     "output_type": "display_data"
    },
    {
     "data": {
      "application/vnd.jupyter.widget-view+json": {
       "model_id": "",
       "version_major": 2,
       "version_minor": 0
      },
      "text/plain": [
       "P2 loop:   0%|          | 0/38 [00:00<?, ?it/s]"
      ]
     },
     "metadata": {},
     "output_type": "display_data"
    },
    {
     "data": {
      "application/vnd.jupyter.widget-view+json": {
       "model_id": "",
       "version_major": 2,
       "version_minor": 0
      },
      "text/plain": [
       "P2 loop:   0%|          | 0/36 [00:00<?, ?it/s]"
      ]
     },
     "metadata": {},
     "output_type": "display_data"
    },
    {
     "data": {
      "application/vnd.jupyter.widget-view+json": {
       "model_id": "",
       "version_major": 2,
       "version_minor": 0
      },
      "text/plain": [
       "P2 loop:   0%|          | 0/38 [00:00<?, ?it/s]"
      ]
     },
     "metadata": {},
     "output_type": "display_data"
    },
    {
     "data": {
      "application/vnd.jupyter.widget-view+json": {
       "model_id": "",
       "version_major": 2,
       "version_minor": 0
      },
      "text/plain": [
       "P2 loop:   0%|          | 0/12 [00:00<?, ?it/s]"
      ]
     },
     "metadata": {},
     "output_type": "display_data"
    },
    {
     "data": {
      "application/vnd.jupyter.widget-view+json": {
       "model_id": "",
       "version_major": 2,
       "version_minor": 0
      },
      "text/plain": [
       "P2 loop:   0%|          | 0/34 [00:00<?, ?it/s]"
      ]
     },
     "metadata": {},
     "output_type": "display_data"
    },
    {
     "data": {
      "application/vnd.jupyter.widget-view+json": {
       "model_id": "",
       "version_major": 2,
       "version_minor": 0
      },
      "text/plain": [
       "P2 loop:   0%|          | 0/2 [00:00<?, ?it/s]"
      ]
     },
     "metadata": {},
     "output_type": "display_data"
    },
    {
     "data": {
      "application/vnd.jupyter.widget-view+json": {
       "model_id": "",
       "version_major": 2,
       "version_minor": 0
      },
      "text/plain": [
       "P2 loop:   0%|          | 0/29 [00:00<?, ?it/s]"
      ]
     },
     "metadata": {},
     "output_type": "display_data"
    },
    {
     "data": {
      "application/vnd.jupyter.widget-view+json": {
       "model_id": "",
       "version_major": 2,
       "version_minor": 0
      },
      "text/plain": [
       "P2 loop:   0%|          | 0/9 [00:00<?, ?it/s]"
      ]
     },
     "metadata": {},
     "output_type": "display_data"
    },
    {
     "data": {
      "application/vnd.jupyter.widget-view+json": {
       "model_id": "",
       "version_major": 2,
       "version_minor": 0
      },
      "text/plain": [
       "P2 loop:   0%|          | 0/3 [00:00<?, ?it/s]"
      ]
     },
     "metadata": {},
     "output_type": "display_data"
    },
    {
     "data": {
      "application/vnd.jupyter.widget-view+json": {
       "model_id": "",
       "version_major": 2,
       "version_minor": 0
      },
      "text/plain": [
       "P2 loop:   0%|          | 0/29 [00:00<?, ?it/s]"
      ]
     },
     "metadata": {},
     "output_type": "display_data"
    },
    {
     "data": {
      "application/vnd.jupyter.widget-view+json": {
       "model_id": "",
       "version_major": 2,
       "version_minor": 0
      },
      "text/plain": [
       "P2 loop:   0%|          | 0/27 [00:00<?, ?it/s]"
      ]
     },
     "metadata": {},
     "output_type": "display_data"
    },
    {
     "data": {
      "application/vnd.jupyter.widget-view+json": {
       "model_id": "",
       "version_major": 2,
       "version_minor": 0
      },
      "text/plain": [
       "P2 loop:   0%|          | 0/32 [00:00<?, ?it/s]"
      ]
     },
     "metadata": {},
     "output_type": "display_data"
    },
    {
     "data": {
      "application/vnd.jupyter.widget-view+json": {
       "model_id": "",
       "version_major": 2,
       "version_minor": 0
      },
      "text/plain": [
       "P2 loop:   0%|          | 0/34 [00:00<?, ?it/s]"
      ]
     },
     "metadata": {},
     "output_type": "display_data"
    },
    {
     "data": {
      "application/vnd.jupyter.widget-view+json": {
       "model_id": "",
       "version_major": 2,
       "version_minor": 0
      },
      "text/plain": [
       "P2 loop:   0%|          | 0/32 [00:00<?, ?it/s]"
      ]
     },
     "metadata": {},
     "output_type": "display_data"
    },
    {
     "data": {
      "application/vnd.jupyter.widget-view+json": {
       "model_id": "",
       "version_major": 2,
       "version_minor": 0
      },
      "text/plain": [
       "P2 loop:   0%|          | 0/32 [00:00<?, ?it/s]"
      ]
     },
     "metadata": {},
     "output_type": "display_data"
    },
    {
     "data": {
      "application/vnd.jupyter.widget-view+json": {
       "model_id": "",
       "version_major": 2,
       "version_minor": 0
      },
      "text/plain": [
       "P2 loop:   0%|          | 0/12 [00:00<?, ?it/s]"
      ]
     },
     "metadata": {},
     "output_type": "display_data"
    },
    {
     "data": {
      "application/vnd.jupyter.widget-view+json": {
       "model_id": "",
       "version_major": 2,
       "version_minor": 0
      },
      "text/plain": [
       "P2 loop:   0%|          | 0/32 [00:00<?, ?it/s]"
      ]
     },
     "metadata": {},
     "output_type": "display_data"
    },
    {
     "data": {
      "application/vnd.jupyter.widget-view+json": {
       "model_id": "",
       "version_major": 2,
       "version_minor": 0
      },
      "text/plain": [
       "P2 loop:   0%|          | 0/26 [00:00<?, ?it/s]"
      ]
     },
     "metadata": {},
     "output_type": "display_data"
    },
    {
     "data": {
      "application/vnd.jupyter.widget-view+json": {
       "model_id": "",
       "version_major": 2,
       "version_minor": 0
      },
      "text/plain": [
       "P2 loop:   0%|          | 0/29 [00:00<?, ?it/s]"
      ]
     },
     "metadata": {},
     "output_type": "display_data"
    },
    {
     "data": {
      "application/vnd.jupyter.widget-view+json": {
       "model_id": "",
       "version_major": 2,
       "version_minor": 0
      },
      "text/plain": [
       "P2 loop:   0%|          | 0/29 [00:00<?, ?it/s]"
      ]
     },
     "metadata": {},
     "output_type": "display_data"
    },
    {
     "data": {
      "application/vnd.jupyter.widget-view+json": {
       "model_id": "",
       "version_major": 2,
       "version_minor": 0
      },
      "text/plain": [
       "P2 loop:   0%|          | 0/32 [00:00<?, ?it/s]"
      ]
     },
     "metadata": {},
     "output_type": "display_data"
    },
    {
     "data": {
      "application/vnd.jupyter.widget-view+json": {
       "model_id": "",
       "version_major": 2,
       "version_minor": 0
      },
      "text/plain": [
       "P2 loop:   0%|          | 0/31 [00:00<?, ?it/s]"
      ]
     },
     "metadata": {},
     "output_type": "display_data"
    },
    {
     "data": {
      "application/vnd.jupyter.widget-view+json": {
       "model_id": "",
       "version_major": 2,
       "version_minor": 0
      },
      "text/plain": [
       "P2 loop:   0%|          | 0/24 [00:00<?, ?it/s]"
      ]
     },
     "metadata": {},
     "output_type": "display_data"
    },
    {
     "data": {
      "application/vnd.jupyter.widget-view+json": {
       "model_id": "",
       "version_major": 2,
       "version_minor": 0
      },
      "text/plain": [
       "P2 loop:   0%|          | 0/29 [00:00<?, ?it/s]"
      ]
     },
     "metadata": {},
     "output_type": "display_data"
    },
    {
     "data": {
      "application/vnd.jupyter.widget-view+json": {
       "model_id": "",
       "version_major": 2,
       "version_minor": 0
      },
      "text/plain": [
       "P2 loop:   0%|          | 0/20 [00:00<?, ?it/s]"
      ]
     },
     "metadata": {},
     "output_type": "display_data"
    },
    {
     "data": {
      "application/vnd.jupyter.widget-view+json": {
       "model_id": "",
       "version_major": 2,
       "version_minor": 0
      },
      "text/plain": [
       "P2 loop:   0%|          | 0/30 [00:00<?, ?it/s]"
      ]
     },
     "metadata": {},
     "output_type": "display_data"
    },
    {
     "data": {
      "application/vnd.jupyter.widget-view+json": {
       "model_id": "",
       "version_major": 2,
       "version_minor": 0
      },
      "text/plain": [
       "P2 loop:   0%|          | 0/31 [00:00<?, ?it/s]"
      ]
     },
     "metadata": {},
     "output_type": "display_data"
    },
    {
     "data": {
      "application/vnd.jupyter.widget-view+json": {
       "model_id": "",
       "version_major": 2,
       "version_minor": 0
      },
      "text/plain": [
       "P2 loop:   0%|          | 0/30 [00:00<?, ?it/s]"
      ]
     },
     "metadata": {},
     "output_type": "display_data"
    },
    {
     "data": {
      "application/vnd.jupyter.widget-view+json": {
       "model_id": "",
       "version_major": 2,
       "version_minor": 0
      },
      "text/plain": [
       "P2 loop:   0%|          | 0/12 [00:00<?, ?it/s]"
      ]
     },
     "metadata": {},
     "output_type": "display_data"
    },
    {
     "data": {
      "application/vnd.jupyter.widget-view+json": {
       "model_id": "",
       "version_major": 2,
       "version_minor": 0
      },
      "text/plain": [
       "P2 loop:   0%|          | 0/29 [00:00<?, ?it/s]"
      ]
     },
     "metadata": {},
     "output_type": "display_data"
    },
    {
     "data": {
      "application/vnd.jupyter.widget-view+json": {
       "model_id": "",
       "version_major": 2,
       "version_minor": 0
      },
      "text/plain": [
       "P2 loop:   0%|          | 0/28 [00:00<?, ?it/s]"
      ]
     },
     "metadata": {},
     "output_type": "display_data"
    },
    {
     "data": {
      "application/vnd.jupyter.widget-view+json": {
       "model_id": "",
       "version_major": 2,
       "version_minor": 0
      },
      "text/plain": [
       "P2 loop:   0%|          | 0/27 [00:00<?, ?it/s]"
      ]
     },
     "metadata": {},
     "output_type": "display_data"
    },
    {
     "data": {
      "application/vnd.jupyter.widget-view+json": {
       "model_id": "",
       "version_major": 2,
       "version_minor": 0
      },
      "text/plain": [
       "P2 loop:   0%|          | 0/29 [00:00<?, ?it/s]"
      ]
     },
     "metadata": {},
     "output_type": "display_data"
    },
    {
     "data": {
      "application/vnd.jupyter.widget-view+json": {
       "model_id": "",
       "version_major": 2,
       "version_minor": 0
      },
      "text/plain": [
       "P2 loop:   0%|          | 0/29 [00:00<?, ?it/s]"
      ]
     },
     "metadata": {},
     "output_type": "display_data"
    },
    {
     "data": {
      "application/vnd.jupyter.widget-view+json": {
       "model_id": "",
       "version_major": 2,
       "version_minor": 0
      },
      "text/plain": [
       "P2 loop:   0%|          | 0/28 [00:00<?, ?it/s]"
      ]
     },
     "metadata": {},
     "output_type": "display_data"
    },
    {
     "data": {
      "application/vnd.jupyter.widget-view+json": {
       "model_id": "",
       "version_major": 2,
       "version_minor": 0
      },
      "text/plain": [
       "P2 loop:   0%|          | 0/25 [00:00<?, ?it/s]"
      ]
     },
     "metadata": {},
     "output_type": "display_data"
    },
    {
     "data": {
      "application/vnd.jupyter.widget-view+json": {
       "model_id": "",
       "version_major": 2,
       "version_minor": 0
      },
      "text/plain": [
       "P2 loop:   0%|          | 0/29 [00:00<?, ?it/s]"
      ]
     },
     "metadata": {},
     "output_type": "display_data"
    },
    {
     "data": {
      "application/vnd.jupyter.widget-view+json": {
       "model_id": "",
       "version_major": 2,
       "version_minor": 0
      },
      "text/plain": [
       "P2 loop:   0%|          | 0/25 [00:00<?, ?it/s]"
      ]
     },
     "metadata": {},
     "output_type": "display_data"
    },
    {
     "data": {
      "application/vnd.jupyter.widget-view+json": {
       "model_id": "",
       "version_major": 2,
       "version_minor": 0
      },
      "text/plain": [
       "P2 loop:   0%|          | 0/25 [00:00<?, ?it/s]"
      ]
     },
     "metadata": {},
     "output_type": "display_data"
    },
    {
     "data": {
      "application/vnd.jupyter.widget-view+json": {
       "model_id": "",
       "version_major": 2,
       "version_minor": 0
      },
      "text/plain": [
       "P2 loop:   0%|          | 0/26 [00:00<?, ?it/s]"
      ]
     },
     "metadata": {},
     "output_type": "display_data"
    },
    {
     "data": {
      "application/vnd.jupyter.widget-view+json": {
       "model_id": "",
       "version_major": 2,
       "version_minor": 0
      },
      "text/plain": [
       "P2 loop:   0%|          | 0/29 [00:00<?, ?it/s]"
      ]
     },
     "metadata": {},
     "output_type": "display_data"
    },
    {
     "data": {
      "application/vnd.jupyter.widget-view+json": {
       "model_id": "",
       "version_major": 2,
       "version_minor": 0
      },
      "text/plain": [
       "P2 loop:   0%|          | 0/21 [00:00<?, ?it/s]"
      ]
     },
     "metadata": {},
     "output_type": "display_data"
    },
    {
     "data": {
      "application/vnd.jupyter.widget-view+json": {
       "model_id": "",
       "version_major": 2,
       "version_minor": 0
      },
      "text/plain": [
       "P2 loop:   0%|          | 0/29 [00:00<?, ?it/s]"
      ]
     },
     "metadata": {},
     "output_type": "display_data"
    },
    {
     "data": {
      "application/vnd.jupyter.widget-view+json": {
       "model_id": "",
       "version_major": 2,
       "version_minor": 0
      },
      "text/plain": [
       "P2 loop:   0%|          | 0/29 [00:00<?, ?it/s]"
      ]
     },
     "metadata": {},
     "output_type": "display_data"
    },
    {
     "data": {
      "application/vnd.jupyter.widget-view+json": {
       "model_id": "",
       "version_major": 2,
       "version_minor": 0
      },
      "text/plain": [
       "P2 loop:   0%|          | 0/20 [00:00<?, ?it/s]"
      ]
     },
     "metadata": {},
     "output_type": "display_data"
    },
    {
     "data": {
      "application/vnd.jupyter.widget-view+json": {
       "model_id": "",
       "version_major": 2,
       "version_minor": 0
      },
      "text/plain": [
       "P2 loop:   0%|          | 0/13 [00:00<?, ?it/s]"
      ]
     },
     "metadata": {},
     "output_type": "display_data"
    },
    {
     "data": {
      "application/vnd.jupyter.widget-view+json": {
       "model_id": "",
       "version_major": 2,
       "version_minor": 0
      },
      "text/plain": [
       "P2 loop:   0%|          | 0/13 [00:00<?, ?it/s]"
      ]
     },
     "metadata": {},
     "output_type": "display_data"
    },
    {
     "data": {
      "application/vnd.jupyter.widget-view+json": {
       "model_id": "",
       "version_major": 2,
       "version_minor": 0
      },
      "text/plain": [
       "P2 loop:   0%|          | 0/25 [00:00<?, ?it/s]"
      ]
     },
     "metadata": {},
     "output_type": "display_data"
    },
    {
     "data": {
      "application/vnd.jupyter.widget-view+json": {
       "model_id": "",
       "version_major": 2,
       "version_minor": 0
      },
      "text/plain": [
       "P2 loop:   0%|          | 0/26 [00:00<?, ?it/s]"
      ]
     },
     "metadata": {},
     "output_type": "display_data"
    },
    {
     "data": {
      "application/vnd.jupyter.widget-view+json": {
       "model_id": "",
       "version_major": 2,
       "version_minor": 0
      },
      "text/plain": [
       "P2 loop:   0%|          | 0/24 [00:00<?, ?it/s]"
      ]
     },
     "metadata": {},
     "output_type": "display_data"
    },
    {
     "data": {
      "application/vnd.jupyter.widget-view+json": {
       "model_id": "",
       "version_major": 2,
       "version_minor": 0
      },
      "text/plain": [
       "P2 loop:   0%|          | 0/26 [00:00<?, ?it/s]"
      ]
     },
     "metadata": {},
     "output_type": "display_data"
    },
    {
     "data": {
      "application/vnd.jupyter.widget-view+json": {
       "model_id": "",
       "version_major": 2,
       "version_minor": 0
      },
      "text/plain": [
       "P2 loop:   0%|          | 0/19 [00:00<?, ?it/s]"
      ]
     },
     "metadata": {},
     "output_type": "display_data"
    },
    {
     "data": {
      "application/vnd.jupyter.widget-view+json": {
       "model_id": "",
       "version_major": 2,
       "version_minor": 0
      },
      "text/plain": [
       "P2 loop:   0%|          | 0/20 [00:00<?, ?it/s]"
      ]
     },
     "metadata": {},
     "output_type": "display_data"
    },
    {
     "data": {
      "application/vnd.jupyter.widget-view+json": {
       "model_id": "",
       "version_major": 2,
       "version_minor": 0
      },
      "text/plain": [
       "P2 loop:   0%|          | 0/20 [00:00<?, ?it/s]"
      ]
     },
     "metadata": {},
     "output_type": "display_data"
    },
    {
     "data": {
      "application/vnd.jupyter.widget-view+json": {
       "model_id": "",
       "version_major": 2,
       "version_minor": 0
      },
      "text/plain": [
       "P2 loop:   0%|          | 0/20 [00:00<?, ?it/s]"
      ]
     },
     "metadata": {},
     "output_type": "display_data"
    },
    {
     "data": {
      "application/vnd.jupyter.widget-view+json": {
       "model_id": "",
       "version_major": 2,
       "version_minor": 0
      },
      "text/plain": [
       "P2 loop:   0%|          | 0/8 [00:00<?, ?it/s]"
      ]
     },
     "metadata": {},
     "output_type": "display_data"
    },
    {
     "data": {
      "application/vnd.jupyter.widget-view+json": {
       "model_id": "",
       "version_major": 2,
       "version_minor": 0
      },
      "text/plain": [
       "Predicate loop:   0%|          | 0/43 [00:00<?, ?it/s]"
      ]
     },
     "metadata": {},
     "output_type": "display_data"
    },
    {
     "data": {
      "application/vnd.jupyter.widget-view+json": {
       "model_id": "",
       "version_major": 2,
       "version_minor": 0
      },
      "text/plain": [
       "P2 loop:   0%|          | 0/15 [00:00<?, ?it/s]"
      ]
     },
     "metadata": {},
     "output_type": "display_data"
    },
    {
     "data": {
      "application/vnd.jupyter.widget-view+json": {
       "model_id": "",
       "version_major": 2,
       "version_minor": 0
      },
      "text/plain": [
       "P2 loop:   0%|          | 0/24 [00:00<?, ?it/s]"
      ]
     },
     "metadata": {},
     "output_type": "display_data"
    },
    {
     "data": {
      "application/vnd.jupyter.widget-view+json": {
       "model_id": "",
       "version_major": 2,
       "version_minor": 0
      },
      "text/plain": [
       "P2 loop:   0%|          | 0/24 [00:00<?, ?it/s]"
      ]
     },
     "metadata": {},
     "output_type": "display_data"
    },
    {
     "data": {
      "application/vnd.jupyter.widget-view+json": {
       "model_id": "",
       "version_major": 2,
       "version_minor": 0
      },
      "text/plain": [
       "P2 loop:   0%|          | 0/25 [00:00<?, ?it/s]"
      ]
     },
     "metadata": {},
     "output_type": "display_data"
    },
    {
     "data": {
      "application/vnd.jupyter.widget-view+json": {
       "model_id": "",
       "version_major": 2,
       "version_minor": 0
      },
      "text/plain": [
       "P2 loop:   0%|          | 0/62 [00:00<?, ?it/s]"
      ]
     },
     "metadata": {},
     "output_type": "display_data"
    },
    {
     "data": {
      "application/vnd.jupyter.widget-view+json": {
       "model_id": "",
       "version_major": 2,
       "version_minor": 0
      },
      "text/plain": [
       "P2 loop:   0%|          | 0/60 [00:00<?, ?it/s]"
      ]
     },
     "metadata": {},
     "output_type": "display_data"
    },
    {
     "data": {
      "application/vnd.jupyter.widget-view+json": {
       "model_id": "",
       "version_major": 2,
       "version_minor": 0
      },
      "text/plain": [
       "P2 loop:   0%|          | 0/18 [00:00<?, ?it/s]"
      ]
     },
     "metadata": {},
     "output_type": "display_data"
    },
    {
     "data": {
      "application/vnd.jupyter.widget-view+json": {
       "model_id": "",
       "version_major": 2,
       "version_minor": 0
      },
      "text/plain": [
       "P2 loop:   0%|          | 0/8 [00:00<?, ?it/s]"
      ]
     },
     "metadata": {},
     "output_type": "display_data"
    },
    {
     "data": {
      "application/vnd.jupyter.widget-view+json": {
       "model_id": "",
       "version_major": 2,
       "version_minor": 0
      },
      "text/plain": [
       "P2 loop:   0%|          | 0/8 [00:00<?, ?it/s]"
      ]
     },
     "metadata": {},
     "output_type": "display_data"
    },
    {
     "data": {
      "application/vnd.jupyter.widget-view+json": {
       "model_id": "",
       "version_major": 2,
       "version_minor": 0
      },
      "text/plain": [
       "P2 loop:   0%|          | 0/57 [00:00<?, ?it/s]"
      ]
     },
     "metadata": {},
     "output_type": "display_data"
    },
    {
     "data": {
      "application/vnd.jupyter.widget-view+json": {
       "model_id": "",
       "version_major": 2,
       "version_minor": 0
      },
      "text/plain": [
       "P2 loop:   0%|          | 0/7 [00:00<?, ?it/s]"
      ]
     },
     "metadata": {},
     "output_type": "display_data"
    },
    {
     "data": {
      "application/vnd.jupyter.widget-view+json": {
       "model_id": "",
       "version_major": 2,
       "version_minor": 0
      },
      "text/plain": [
       "P2 loop:   0%|          | 0/7 [00:00<?, ?it/s]"
      ]
     },
     "metadata": {},
     "output_type": "display_data"
    },
    {
     "data": {
      "application/vnd.jupyter.widget-view+json": {
       "model_id": "",
       "version_major": 2,
       "version_minor": 0
      },
      "text/plain": [
       "P2 loop:   0%|          | 0/8 [00:00<?, ?it/s]"
      ]
     },
     "metadata": {},
     "output_type": "display_data"
    },
    {
     "data": {
      "application/vnd.jupyter.widget-view+json": {
       "model_id": "",
       "version_major": 2,
       "version_minor": 0
      },
      "text/plain": [
       "P2 loop:   0%|          | 0/8 [00:00<?, ?it/s]"
      ]
     },
     "metadata": {},
     "output_type": "display_data"
    },
    {
     "data": {
      "application/vnd.jupyter.widget-view+json": {
       "model_id": "",
       "version_major": 2,
       "version_minor": 0
      },
      "text/plain": [
       "P2 loop:   0%|          | 0/56 [00:00<?, ?it/s]"
      ]
     },
     "metadata": {},
     "output_type": "display_data"
    },
    {
     "data": {
      "application/vnd.jupyter.widget-view+json": {
       "model_id": "",
       "version_major": 2,
       "version_minor": 0
      },
      "text/plain": [
       "P2 loop:   0%|          | 0/56 [00:00<?, ?it/s]"
      ]
     },
     "metadata": {},
     "output_type": "display_data"
    },
    {
     "data": {
      "application/vnd.jupyter.widget-view+json": {
       "model_id": "",
       "version_major": 2,
       "version_minor": 0
      },
      "text/plain": [
       "P2 loop:   0%|          | 0/60 [00:00<?, ?it/s]"
      ]
     },
     "metadata": {},
     "output_type": "display_data"
    },
    {
     "data": {
      "application/vnd.jupyter.widget-view+json": {
       "model_id": "",
       "version_major": 2,
       "version_minor": 0
      },
      "text/plain": [
       "P2 loop:   0%|          | 0/3 [00:00<?, ?it/s]"
      ]
     },
     "metadata": {},
     "output_type": "display_data"
    },
    {
     "data": {
      "application/vnd.jupyter.widget-view+json": {
       "model_id": "",
       "version_major": 2,
       "version_minor": 0
      },
      "text/plain": [
       "P2 loop:   0%|          | 0/44 [00:00<?, ?it/s]"
      ]
     },
     "metadata": {},
     "output_type": "display_data"
    },
    {
     "data": {
      "application/vnd.jupyter.widget-view+json": {
       "model_id": "",
       "version_major": 2,
       "version_minor": 0
      },
      "text/plain": [
       "P2 loop:   0%|          | 0/57 [00:00<?, ?it/s]"
      ]
     },
     "metadata": {},
     "output_type": "display_data"
    },
    {
     "data": {
      "application/vnd.jupyter.widget-view+json": {
       "model_id": "",
       "version_major": 2,
       "version_minor": 0
      },
      "text/plain": [
       "P2 loop:   0%|          | 0/46 [00:00<?, ?it/s]"
      ]
     },
     "metadata": {},
     "output_type": "display_data"
    },
    {
     "data": {
      "application/vnd.jupyter.widget-view+json": {
       "model_id": "",
       "version_major": 2,
       "version_minor": 0
      },
      "text/plain": [
       "P2 loop:   0%|          | 0/48 [00:00<?, ?it/s]"
      ]
     },
     "metadata": {},
     "output_type": "display_data"
    },
    {
     "data": {
      "application/vnd.jupyter.widget-view+json": {
       "model_id": "",
       "version_major": 2,
       "version_minor": 0
      },
      "text/plain": [
       "P2 loop:   0%|          | 0/58 [00:00<?, ?it/s]"
      ]
     },
     "metadata": {},
     "output_type": "display_data"
    },
    {
     "data": {
      "application/vnd.jupyter.widget-view+json": {
       "model_id": "",
       "version_major": 2,
       "version_minor": 0
      },
      "text/plain": [
       "P2 loop:   0%|          | 0/58 [00:00<?, ?it/s]"
      ]
     },
     "metadata": {},
     "output_type": "display_data"
    },
    {
     "data": {
      "application/vnd.jupyter.widget-view+json": {
       "model_id": "",
       "version_major": 2,
       "version_minor": 0
      },
      "text/plain": [
       "P2 loop:   0%|          | 0/58 [00:00<?, ?it/s]"
      ]
     },
     "metadata": {},
     "output_type": "display_data"
    },
    {
     "data": {
      "application/vnd.jupyter.widget-view+json": {
       "model_id": "",
       "version_major": 2,
       "version_minor": 0
      },
      "text/plain": [
       "P2 loop:   0%|          | 0/57 [00:00<?, ?it/s]"
      ]
     },
     "metadata": {},
     "output_type": "display_data"
    },
    {
     "data": {
      "application/vnd.jupyter.widget-view+json": {
       "model_id": "",
       "version_major": 2,
       "version_minor": 0
      },
      "text/plain": [
       "P2 loop:   0%|          | 0/50 [00:00<?, ?it/s]"
      ]
     },
     "metadata": {},
     "output_type": "display_data"
    },
    {
     "data": {
      "application/vnd.jupyter.widget-view+json": {
       "model_id": "",
       "version_major": 2,
       "version_minor": 0
      },
      "text/plain": [
       "P2 loop:   0%|          | 0/52 [00:00<?, ?it/s]"
      ]
     },
     "metadata": {},
     "output_type": "display_data"
    },
    {
     "data": {
      "application/vnd.jupyter.widget-view+json": {
       "model_id": "",
       "version_major": 2,
       "version_minor": 0
      },
      "text/plain": [
       "P2 loop:   0%|          | 0/57 [00:00<?, ?it/s]"
      ]
     },
     "metadata": {},
     "output_type": "display_data"
    },
    {
     "data": {
      "application/vnd.jupyter.widget-view+json": {
       "model_id": "",
       "version_major": 2,
       "version_minor": 0
      },
      "text/plain": [
       "P2 loop:   0%|          | 0/55 [00:00<?, ?it/s]"
      ]
     },
     "metadata": {},
     "output_type": "display_data"
    },
    {
     "data": {
      "application/vnd.jupyter.widget-view+json": {
       "model_id": "",
       "version_major": 2,
       "version_minor": 0
      },
      "text/plain": [
       "P2 loop:   0%|          | 0/40 [00:00<?, ?it/s]"
      ]
     },
     "metadata": {},
     "output_type": "display_data"
    },
    {
     "data": {
      "application/vnd.jupyter.widget-view+json": {
       "model_id": "",
       "version_major": 2,
       "version_minor": 0
      },
      "text/plain": [
       "P2 loop:   0%|          | 0/47 [00:00<?, ?it/s]"
      ]
     },
     "metadata": {},
     "output_type": "display_data"
    },
    {
     "data": {
      "application/vnd.jupyter.widget-view+json": {
       "model_id": "",
       "version_major": 2,
       "version_minor": 0
      },
      "text/plain": [
       "P2 loop:   0%|          | 0/54 [00:00<?, ?it/s]"
      ]
     },
     "metadata": {},
     "output_type": "display_data"
    },
    {
     "data": {
      "application/vnd.jupyter.widget-view+json": {
       "model_id": "",
       "version_major": 2,
       "version_minor": 0
      },
      "text/plain": [
       "P2 loop:   0%|          | 0/26 [00:00<?, ?it/s]"
      ]
     },
     "metadata": {},
     "output_type": "display_data"
    },
    {
     "data": {
      "application/vnd.jupyter.widget-view+json": {
       "model_id": "",
       "version_major": 2,
       "version_minor": 0
      },
      "text/plain": [
       "P2 loop:   0%|          | 0/51 [00:00<?, ?it/s]"
      ]
     },
     "metadata": {},
     "output_type": "display_data"
    },
    {
     "data": {
      "application/vnd.jupyter.widget-view+json": {
       "model_id": "",
       "version_major": 2,
       "version_minor": 0
      },
      "text/plain": [
       "P2 loop:   0%|          | 0/52 [00:00<?, ?it/s]"
      ]
     },
     "metadata": {},
     "output_type": "display_data"
    },
    {
     "data": {
      "application/vnd.jupyter.widget-view+json": {
       "model_id": "",
       "version_major": 2,
       "version_minor": 0
      },
      "text/plain": [
       "P2 loop:   0%|          | 0/36 [00:00<?, ?it/s]"
      ]
     },
     "metadata": {},
     "output_type": "display_data"
    },
    {
     "data": {
      "application/vnd.jupyter.widget-view+json": {
       "model_id": "",
       "version_major": 2,
       "version_minor": 0
      },
      "text/plain": [
       "P2 loop:   0%|          | 0/50 [00:00<?, ?it/s]"
      ]
     },
     "metadata": {},
     "output_type": "display_data"
    },
    {
     "data": {
      "application/vnd.jupyter.widget-view+json": {
       "model_id": "",
       "version_major": 2,
       "version_minor": 0
      },
      "text/plain": [
       "P2 loop:   0%|          | 0/20 [00:00<?, ?it/s]"
      ]
     },
     "metadata": {},
     "output_type": "display_data"
    },
    {
     "data": {
      "application/vnd.jupyter.widget-view+json": {
       "model_id": "",
       "version_major": 2,
       "version_minor": 0
      },
      "text/plain": [
       "P2 loop:   0%|          | 0/31 [00:00<?, ?it/s]"
      ]
     },
     "metadata": {},
     "output_type": "display_data"
    },
    {
     "data": {
      "application/vnd.jupyter.widget-view+json": {
       "model_id": "",
       "version_major": 2,
       "version_minor": 0
      },
      "text/plain": [
       "P2 loop:   0%|          | 0/38 [00:00<?, ?it/s]"
      ]
     },
     "metadata": {},
     "output_type": "display_data"
    },
    {
     "data": {
      "application/vnd.jupyter.widget-view+json": {
       "model_id": "",
       "version_major": 2,
       "version_minor": 0
      },
      "text/plain": [
       "P2 loop:   0%|          | 0/20 [00:00<?, ?it/s]"
      ]
     },
     "metadata": {},
     "output_type": "display_data"
    },
    {
     "data": {
      "application/vnd.jupyter.widget-view+json": {
       "model_id": "",
       "version_major": 2,
       "version_minor": 0
      },
      "text/plain": [
       "P2 loop:   0%|          | 0/12 [00:00<?, ?it/s]"
      ]
     },
     "metadata": {},
     "output_type": "display_data"
    },
    {
     "data": {
      "application/vnd.jupyter.widget-view+json": {
       "model_id": "",
       "version_major": 2,
       "version_minor": 0
      },
      "text/plain": [
       "Attribute loop:   0%|          | 0/8072 [00:00<?, ?it/s]"
      ]
     },
     "metadata": {},
     "output_type": "display_data"
    },
    {
     "data": {
      "application/vnd.jupyter.widget-view+json": {
       "model_id": "",
       "version_major": 2,
       "version_minor": 0
      },
      "text/plain": [
       "neighbor loop:   0%|          | 0/8847 [00:00<?, ?it/s]"
      ]
     },
     "metadata": {},
     "output_type": "display_data"
    },
    {
     "data": {
      "application/vnd.jupyter.widget-view+json": {
       "model_id": "",
       "version_major": 2,
       "version_minor": 0
      },
      "text/plain": [
       "Predicate loop:   0%|          | 0/65 [00:00<?, ?it/s]"
      ]
     },
     "metadata": {},
     "output_type": "display_data"
    },
    {
     "data": {
      "application/vnd.jupyter.widget-view+json": {
       "model_id": "",
       "version_major": 2,
       "version_minor": 0
      },
      "text/plain": [
       "P2 loop:   0%|          | 0/23 [00:00<?, ?it/s]"
      ]
     },
     "metadata": {},
     "output_type": "display_data"
    },
    {
     "data": {
      "application/vnd.jupyter.widget-view+json": {
       "model_id": "",
       "version_major": 2,
       "version_minor": 0
      },
      "text/plain": [
       "P2 loop:   0%|          | 0/18 [00:00<?, ?it/s]"
      ]
     },
     "metadata": {},
     "output_type": "display_data"
    },
    {
     "data": {
      "application/vnd.jupyter.widget-view+json": {
       "model_id": "",
       "version_major": 2,
       "version_minor": 0
      },
      "text/plain": [
       "P2 loop:   0%|          | 0/21 [00:00<?, ?it/s]"
      ]
     },
     "metadata": {},
     "output_type": "display_data"
    },
    {
     "data": {
      "application/vnd.jupyter.widget-view+json": {
       "model_id": "",
       "version_major": 2,
       "version_minor": 0
      },
      "text/plain": [
       "P2 loop:   0%|          | 0/41 [00:00<?, ?it/s]"
      ]
     },
     "metadata": {},
     "output_type": "display_data"
    },
    {
     "data": {
      "application/vnd.jupyter.widget-view+json": {
       "model_id": "",
       "version_major": 2,
       "version_minor": 0
      },
      "text/plain": [
       "P2 loop:   0%|          | 0/36 [00:00<?, ?it/s]"
      ]
     },
     "metadata": {},
     "output_type": "display_data"
    },
    {
     "data": {
      "application/vnd.jupyter.widget-view+json": {
       "model_id": "",
       "version_major": 2,
       "version_minor": 0
      },
      "text/plain": [
       "P2 loop:   0%|          | 0/22 [00:00<?, ?it/s]"
      ]
     },
     "metadata": {},
     "output_type": "display_data"
    },
    {
     "data": {
      "application/vnd.jupyter.widget-view+json": {
       "model_id": "",
       "version_major": 2,
       "version_minor": 0
      },
      "text/plain": [
       "P2 loop:   0%|          | 0/33 [00:00<?, ?it/s]"
      ]
     },
     "metadata": {},
     "output_type": "display_data"
    },
    {
     "data": {
      "application/vnd.jupyter.widget-view+json": {
       "model_id": "",
       "version_major": 2,
       "version_minor": 0
      },
      "text/plain": [
       "P2 loop:   0%|          | 0/29 [00:00<?, ?it/s]"
      ]
     },
     "metadata": {},
     "output_type": "display_data"
    },
    {
     "data": {
      "application/vnd.jupyter.widget-view+json": {
       "model_id": "",
       "version_major": 2,
       "version_minor": 0
      },
      "text/plain": [
       "P2 loop:   0%|          | 0/7 [00:00<?, ?it/s]"
      ]
     },
     "metadata": {},
     "output_type": "display_data"
    },
    {
     "data": {
      "application/vnd.jupyter.widget-view+json": {
       "model_id": "",
       "version_major": 2,
       "version_minor": 0
      },
      "text/plain": [
       "P2 loop:   0%|          | 0/38 [00:00<?, ?it/s]"
      ]
     },
     "metadata": {},
     "output_type": "display_data"
    },
    {
     "data": {
      "application/vnd.jupyter.widget-view+json": {
       "model_id": "",
       "version_major": 2,
       "version_minor": 0
      },
      "text/plain": [
       "P2 loop:   0%|          | 0/36 [00:00<?, ?it/s]"
      ]
     },
     "metadata": {},
     "output_type": "display_data"
    },
    {
     "data": {
      "application/vnd.jupyter.widget-view+json": {
       "model_id": "",
       "version_major": 2,
       "version_minor": 0
      },
      "text/plain": [
       "P2 loop:   0%|          | 0/38 [00:00<?, ?it/s]"
      ]
     },
     "metadata": {},
     "output_type": "display_data"
    },
    {
     "data": {
      "application/vnd.jupyter.widget-view+json": {
       "model_id": "",
       "version_major": 2,
       "version_minor": 0
      },
      "text/plain": [
       "P2 loop:   0%|          | 0/12 [00:00<?, ?it/s]"
      ]
     },
     "metadata": {},
     "output_type": "display_data"
    },
    {
     "data": {
      "application/vnd.jupyter.widget-view+json": {
       "model_id": "",
       "version_major": 2,
       "version_minor": 0
      },
      "text/plain": [
       "P2 loop:   0%|          | 0/35 [00:00<?, ?it/s]"
      ]
     },
     "metadata": {},
     "output_type": "display_data"
    },
    {
     "data": {
      "application/vnd.jupyter.widget-view+json": {
       "model_id": "",
       "version_major": 2,
       "version_minor": 0
      },
      "text/plain": [
       "P2 loop:   0%|          | 0/2 [00:00<?, ?it/s]"
      ]
     },
     "metadata": {},
     "output_type": "display_data"
    },
    {
     "data": {
      "application/vnd.jupyter.widget-view+json": {
       "model_id": "",
       "version_major": 2,
       "version_minor": 0
      },
      "text/plain": [
       "P2 loop:   0%|          | 0/29 [00:00<?, ?it/s]"
      ]
     },
     "metadata": {},
     "output_type": "display_data"
    },
    {
     "data": {
      "application/vnd.jupyter.widget-view+json": {
       "model_id": "",
       "version_major": 2,
       "version_minor": 0
      },
      "text/plain": [
       "P2 loop:   0%|          | 0/9 [00:00<?, ?it/s]"
      ]
     },
     "metadata": {},
     "output_type": "display_data"
    },
    {
     "data": {
      "application/vnd.jupyter.widget-view+json": {
       "model_id": "",
       "version_major": 2,
       "version_minor": 0
      },
      "text/plain": [
       "P2 loop:   0%|          | 0/3 [00:00<?, ?it/s]"
      ]
     },
     "metadata": {},
     "output_type": "display_data"
    },
    {
     "data": {
      "application/vnd.jupyter.widget-view+json": {
       "model_id": "",
       "version_major": 2,
       "version_minor": 0
      },
      "text/plain": [
       "P2 loop:   0%|          | 0/29 [00:00<?, ?it/s]"
      ]
     },
     "metadata": {},
     "output_type": "display_data"
    },
    {
     "data": {
      "application/vnd.jupyter.widget-view+json": {
       "model_id": "",
       "version_major": 2,
       "version_minor": 0
      },
      "text/plain": [
       "P2 loop:   0%|          | 0/27 [00:00<?, ?it/s]"
      ]
     },
     "metadata": {},
     "output_type": "display_data"
    },
    {
     "data": {
      "application/vnd.jupyter.widget-view+json": {
       "model_id": "",
       "version_major": 2,
       "version_minor": 0
      },
      "text/plain": [
       "P2 loop:   0%|          | 0/32 [00:00<?, ?it/s]"
      ]
     },
     "metadata": {},
     "output_type": "display_data"
    },
    {
     "data": {
      "application/vnd.jupyter.widget-view+json": {
       "model_id": "",
       "version_major": 2,
       "version_minor": 0
      },
      "text/plain": [
       "P2 loop:   0%|          | 0/34 [00:00<?, ?it/s]"
      ]
     },
     "metadata": {},
     "output_type": "display_data"
    },
    {
     "data": {
      "application/vnd.jupyter.widget-view+json": {
       "model_id": "",
       "version_major": 2,
       "version_minor": 0
      },
      "text/plain": [
       "P2 loop:   0%|          | 0/32 [00:00<?, ?it/s]"
      ]
     },
     "metadata": {},
     "output_type": "display_data"
    },
    {
     "data": {
      "application/vnd.jupyter.widget-view+json": {
       "model_id": "",
       "version_major": 2,
       "version_minor": 0
      },
      "text/plain": [
       "P2 loop:   0%|          | 0/32 [00:00<?, ?it/s]"
      ]
     },
     "metadata": {},
     "output_type": "display_data"
    },
    {
     "data": {
      "application/vnd.jupyter.widget-view+json": {
       "model_id": "",
       "version_major": 2,
       "version_minor": 0
      },
      "text/plain": [
       "P2 loop:   0%|          | 0/13 [00:00<?, ?it/s]"
      ]
     },
     "metadata": {},
     "output_type": "display_data"
    },
    {
     "data": {
      "application/vnd.jupyter.widget-view+json": {
       "model_id": "",
       "version_major": 2,
       "version_minor": 0
      },
      "text/plain": [
       "P2 loop:   0%|          | 0/32 [00:00<?, ?it/s]"
      ]
     },
     "metadata": {},
     "output_type": "display_data"
    },
    {
     "data": {
      "application/vnd.jupyter.widget-view+json": {
       "model_id": "",
       "version_major": 2,
       "version_minor": 0
      },
      "text/plain": [
       "P2 loop:   0%|          | 0/26 [00:00<?, ?it/s]"
      ]
     },
     "metadata": {},
     "output_type": "display_data"
    },
    {
     "data": {
      "application/vnd.jupyter.widget-view+json": {
       "model_id": "",
       "version_major": 2,
       "version_minor": 0
      },
      "text/plain": [
       "P2 loop:   0%|          | 0/29 [00:00<?, ?it/s]"
      ]
     },
     "metadata": {},
     "output_type": "display_data"
    },
    {
     "data": {
      "application/vnd.jupyter.widget-view+json": {
       "model_id": "",
       "version_major": 2,
       "version_minor": 0
      },
      "text/plain": [
       "P2 loop:   0%|          | 0/29 [00:00<?, ?it/s]"
      ]
     },
     "metadata": {},
     "output_type": "display_data"
    },
    {
     "data": {
      "application/vnd.jupyter.widget-view+json": {
       "model_id": "",
       "version_major": 2,
       "version_minor": 0
      },
      "text/plain": [
       "P2 loop:   0%|          | 0/32 [00:00<?, ?it/s]"
      ]
     },
     "metadata": {},
     "output_type": "display_data"
    },
    {
     "data": {
      "application/vnd.jupyter.widget-view+json": {
       "model_id": "",
       "version_major": 2,
       "version_minor": 0
      },
      "text/plain": [
       "P2 loop:   0%|          | 0/31 [00:00<?, ?it/s]"
      ]
     },
     "metadata": {},
     "output_type": "display_data"
    },
    {
     "data": {
      "application/vnd.jupyter.widget-view+json": {
       "model_id": "",
       "version_major": 2,
       "version_minor": 0
      },
      "text/plain": [
       "P2 loop:   0%|          | 0/25 [00:00<?, ?it/s]"
      ]
     },
     "metadata": {},
     "output_type": "display_data"
    },
    {
     "data": {
      "application/vnd.jupyter.widget-view+json": {
       "model_id": "",
       "version_major": 2,
       "version_minor": 0
      },
      "text/plain": [
       "P2 loop:   0%|          | 0/29 [00:00<?, ?it/s]"
      ]
     },
     "metadata": {},
     "output_type": "display_data"
    },
    {
     "data": {
      "application/vnd.jupyter.widget-view+json": {
       "model_id": "",
       "version_major": 2,
       "version_minor": 0
      },
      "text/plain": [
       "P2 loop:   0%|          | 0/21 [00:00<?, ?it/s]"
      ]
     },
     "metadata": {},
     "output_type": "display_data"
    },
    {
     "data": {
      "application/vnd.jupyter.widget-view+json": {
       "model_id": "",
       "version_major": 2,
       "version_minor": 0
      },
      "text/plain": [
       "P2 loop:   0%|          | 0/30 [00:00<?, ?it/s]"
      ]
     },
     "metadata": {},
     "output_type": "display_data"
    },
    {
     "data": {
      "application/vnd.jupyter.widget-view+json": {
       "model_id": "",
       "version_major": 2,
       "version_minor": 0
      },
      "text/plain": [
       "P2 loop:   0%|          | 0/31 [00:00<?, ?it/s]"
      ]
     },
     "metadata": {},
     "output_type": "display_data"
    },
    {
     "data": {
      "application/vnd.jupyter.widget-view+json": {
       "model_id": "",
       "version_major": 2,
       "version_minor": 0
      },
      "text/plain": [
       "P2 loop:   0%|          | 0/30 [00:00<?, ?it/s]"
      ]
     },
     "metadata": {},
     "output_type": "display_data"
    },
    {
     "data": {
      "application/vnd.jupyter.widget-view+json": {
       "model_id": "",
       "version_major": 2,
       "version_minor": 0
      },
      "text/plain": [
       "P2 loop:   0%|          | 0/12 [00:00<?, ?it/s]"
      ]
     },
     "metadata": {},
     "output_type": "display_data"
    },
    {
     "data": {
      "application/vnd.jupyter.widget-view+json": {
       "model_id": "",
       "version_major": 2,
       "version_minor": 0
      },
      "text/plain": [
       "P2 loop:   0%|          | 0/29 [00:00<?, ?it/s]"
      ]
     },
     "metadata": {},
     "output_type": "display_data"
    },
    {
     "data": {
      "application/vnd.jupyter.widget-view+json": {
       "model_id": "",
       "version_major": 2,
       "version_minor": 0
      },
      "text/plain": [
       "P2 loop:   0%|          | 0/30 [00:00<?, ?it/s]"
      ]
     },
     "metadata": {},
     "output_type": "display_data"
    },
    {
     "data": {
      "application/vnd.jupyter.widget-view+json": {
       "model_id": "",
       "version_major": 2,
       "version_minor": 0
      },
      "text/plain": [
       "P2 loop:   0%|          | 0/27 [00:00<?, ?it/s]"
      ]
     },
     "metadata": {},
     "output_type": "display_data"
    },
    {
     "data": {
      "application/vnd.jupyter.widget-view+json": {
       "model_id": "",
       "version_major": 2,
       "version_minor": 0
      },
      "text/plain": [
       "P2 loop:   0%|          | 0/29 [00:00<?, ?it/s]"
      ]
     },
     "metadata": {},
     "output_type": "display_data"
    },
    {
     "data": {
      "application/vnd.jupyter.widget-view+json": {
       "model_id": "",
       "version_major": 2,
       "version_minor": 0
      },
      "text/plain": [
       "P2 loop:   0%|          | 0/29 [00:00<?, ?it/s]"
      ]
     },
     "metadata": {},
     "output_type": "display_data"
    },
    {
     "data": {
      "application/vnd.jupyter.widget-view+json": {
       "model_id": "",
       "version_major": 2,
       "version_minor": 0
      },
      "text/plain": [
       "P2 loop:   0%|          | 0/28 [00:00<?, ?it/s]"
      ]
     },
     "metadata": {},
     "output_type": "display_data"
    },
    {
     "data": {
      "application/vnd.jupyter.widget-view+json": {
       "model_id": "",
       "version_major": 2,
       "version_minor": 0
      },
      "text/plain": [
       "P2 loop:   0%|          | 0/25 [00:00<?, ?it/s]"
      ]
     },
     "metadata": {},
     "output_type": "display_data"
    },
    {
     "data": {
      "application/vnd.jupyter.widget-view+json": {
       "model_id": "",
       "version_major": 2,
       "version_minor": 0
      },
      "text/plain": [
       "P2 loop:   0%|          | 0/29 [00:00<?, ?it/s]"
      ]
     },
     "metadata": {},
     "output_type": "display_data"
    },
    {
     "data": {
      "application/vnd.jupyter.widget-view+json": {
       "model_id": "",
       "version_major": 2,
       "version_minor": 0
      },
      "text/plain": [
       "P2 loop:   0%|          | 0/26 [00:00<?, ?it/s]"
      ]
     },
     "metadata": {},
     "output_type": "display_data"
    },
    {
     "data": {
      "application/vnd.jupyter.widget-view+json": {
       "model_id": "",
       "version_major": 2,
       "version_minor": 0
      },
      "text/plain": [
       "P2 loop:   0%|          | 0/25 [00:00<?, ?it/s]"
      ]
     },
     "metadata": {},
     "output_type": "display_data"
    },
    {
     "data": {
      "application/vnd.jupyter.widget-view+json": {
       "model_id": "",
       "version_major": 2,
       "version_minor": 0
      },
      "text/plain": [
       "P2 loop:   0%|          | 0/26 [00:00<?, ?it/s]"
      ]
     },
     "metadata": {},
     "output_type": "display_data"
    },
    {
     "data": {
      "application/vnd.jupyter.widget-view+json": {
       "model_id": "",
       "version_major": 2,
       "version_minor": 0
      },
      "text/plain": [
       "P2 loop:   0%|          | 0/29 [00:00<?, ?it/s]"
      ]
     },
     "metadata": {},
     "output_type": "display_data"
    },
    {
     "data": {
      "application/vnd.jupyter.widget-view+json": {
       "model_id": "",
       "version_major": 2,
       "version_minor": 0
      },
      "text/plain": [
       "P2 loop:   0%|          | 0/22 [00:00<?, ?it/s]"
      ]
     },
     "metadata": {},
     "output_type": "display_data"
    },
    {
     "data": {
      "application/vnd.jupyter.widget-view+json": {
       "model_id": "",
       "version_major": 2,
       "version_minor": 0
      },
      "text/plain": [
       "P2 loop:   0%|          | 0/29 [00:00<?, ?it/s]"
      ]
     },
     "metadata": {},
     "output_type": "display_data"
    },
    {
     "data": {
      "application/vnd.jupyter.widget-view+json": {
       "model_id": "",
       "version_major": 2,
       "version_minor": 0
      },
      "text/plain": [
       "P2 loop:   0%|          | 0/29 [00:00<?, ?it/s]"
      ]
     },
     "metadata": {},
     "output_type": "display_data"
    },
    {
     "data": {
      "application/vnd.jupyter.widget-view+json": {
       "model_id": "",
       "version_major": 2,
       "version_minor": 0
      },
      "text/plain": [
       "P2 loop:   0%|          | 0/22 [00:00<?, ?it/s]"
      ]
     },
     "metadata": {},
     "output_type": "display_data"
    },
    {
     "data": {
      "application/vnd.jupyter.widget-view+json": {
       "model_id": "",
       "version_major": 2,
       "version_minor": 0
      },
      "text/plain": [
       "P2 loop:   0%|          | 0/13 [00:00<?, ?it/s]"
      ]
     },
     "metadata": {},
     "output_type": "display_data"
    },
    {
     "data": {
      "application/vnd.jupyter.widget-view+json": {
       "model_id": "",
       "version_major": 2,
       "version_minor": 0
      },
      "text/plain": [
       "P2 loop:   0%|          | 0/14 [00:00<?, ?it/s]"
      ]
     },
     "metadata": {},
     "output_type": "display_data"
    },
    {
     "data": {
      "application/vnd.jupyter.widget-view+json": {
       "model_id": "",
       "version_major": 2,
       "version_minor": 0
      },
      "text/plain": [
       "P2 loop:   0%|          | 0/25 [00:00<?, ?it/s]"
      ]
     },
     "metadata": {},
     "output_type": "display_data"
    },
    {
     "data": {
      "application/vnd.jupyter.widget-view+json": {
       "model_id": "",
       "version_major": 2,
       "version_minor": 0
      },
      "text/plain": [
       "P2 loop:   0%|          | 0/26 [00:00<?, ?it/s]"
      ]
     },
     "metadata": {},
     "output_type": "display_data"
    },
    {
     "data": {
      "application/vnd.jupyter.widget-view+json": {
       "model_id": "",
       "version_major": 2,
       "version_minor": 0
      },
      "text/plain": [
       "P2 loop:   0%|          | 0/24 [00:00<?, ?it/s]"
      ]
     },
     "metadata": {},
     "output_type": "display_data"
    },
    {
     "data": {
      "application/vnd.jupyter.widget-view+json": {
       "model_id": "",
       "version_major": 2,
       "version_minor": 0
      },
      "text/plain": [
       "P2 loop:   0%|          | 0/26 [00:00<?, ?it/s]"
      ]
     },
     "metadata": {},
     "output_type": "display_data"
    },
    {
     "data": {
      "application/vnd.jupyter.widget-view+json": {
       "model_id": "",
       "version_major": 2,
       "version_minor": 0
      },
      "text/plain": [
       "P2 loop:   0%|          | 0/20 [00:00<?, ?it/s]"
      ]
     },
     "metadata": {},
     "output_type": "display_data"
    },
    {
     "data": {
      "application/vnd.jupyter.widget-view+json": {
       "model_id": "",
       "version_major": 2,
       "version_minor": 0
      },
      "text/plain": [
       "P2 loop:   0%|          | 0/21 [00:00<?, ?it/s]"
      ]
     },
     "metadata": {},
     "output_type": "display_data"
    },
    {
     "data": {
      "application/vnd.jupyter.widget-view+json": {
       "model_id": "",
       "version_major": 2,
       "version_minor": 0
      },
      "text/plain": [
       "P2 loop:   0%|          | 0/21 [00:00<?, ?it/s]"
      ]
     },
     "metadata": {},
     "output_type": "display_data"
    },
    {
     "data": {
      "application/vnd.jupyter.widget-view+json": {
       "model_id": "",
       "version_major": 2,
       "version_minor": 0
      },
      "text/plain": [
       "P2 loop:   0%|          | 0/20 [00:00<?, ?it/s]"
      ]
     },
     "metadata": {},
     "output_type": "display_data"
    },
    {
     "data": {
      "application/vnd.jupyter.widget-view+json": {
       "model_id": "",
       "version_major": 2,
       "version_minor": 0
      },
      "text/plain": [
       "P2 loop:   0%|          | 0/8 [00:00<?, ?it/s]"
      ]
     },
     "metadata": {},
     "output_type": "display_data"
    },
    {
     "data": {
      "application/vnd.jupyter.widget-view+json": {
       "model_id": "",
       "version_major": 2,
       "version_minor": 0
      },
      "text/plain": [
       "Predicate loop:   0%|          | 0/43 [00:00<?, ?it/s]"
      ]
     },
     "metadata": {},
     "output_type": "display_data"
    },
    {
     "data": {
      "application/vnd.jupyter.widget-view+json": {
       "model_id": "",
       "version_major": 2,
       "version_minor": 0
      },
      "text/plain": [
       "P2 loop:   0%|          | 0/15 [00:00<?, ?it/s]"
      ]
     },
     "metadata": {},
     "output_type": "display_data"
    },
    {
     "data": {
      "application/vnd.jupyter.widget-view+json": {
       "model_id": "",
       "version_major": 2,
       "version_minor": 0
      },
      "text/plain": [
       "P2 loop:   0%|          | 0/24 [00:00<?, ?it/s]"
      ]
     },
     "metadata": {},
     "output_type": "display_data"
    },
    {
     "data": {
      "application/vnd.jupyter.widget-view+json": {
       "model_id": "",
       "version_major": 2,
       "version_minor": 0
      },
      "text/plain": [
       "P2 loop:   0%|          | 0/24 [00:00<?, ?it/s]"
      ]
     },
     "metadata": {},
     "output_type": "display_data"
    },
    {
     "data": {
      "application/vnd.jupyter.widget-view+json": {
       "model_id": "",
       "version_major": 2,
       "version_minor": 0
      },
      "text/plain": [
       "P2 loop:   0%|          | 0/25 [00:00<?, ?it/s]"
      ]
     },
     "metadata": {},
     "output_type": "display_data"
    },
    {
     "data": {
      "application/vnd.jupyter.widget-view+json": {
       "model_id": "",
       "version_major": 2,
       "version_minor": 0
      },
      "text/plain": [
       "P2 loop:   0%|          | 0/62 [00:00<?, ?it/s]"
      ]
     },
     "metadata": {},
     "output_type": "display_data"
    },
    {
     "data": {
      "application/vnd.jupyter.widget-view+json": {
       "model_id": "",
       "version_major": 2,
       "version_minor": 0
      },
      "text/plain": [
       "P2 loop:   0%|          | 0/60 [00:00<?, ?it/s]"
      ]
     },
     "metadata": {},
     "output_type": "display_data"
    },
    {
     "data": {
      "application/vnd.jupyter.widget-view+json": {
       "model_id": "",
       "version_major": 2,
       "version_minor": 0
      },
      "text/plain": [
       "P2 loop:   0%|          | 0/18 [00:00<?, ?it/s]"
      ]
     },
     "metadata": {},
     "output_type": "display_data"
    },
    {
     "data": {
      "application/vnd.jupyter.widget-view+json": {
       "model_id": "",
       "version_major": 2,
       "version_minor": 0
      },
      "text/plain": [
       "P2 loop:   0%|          | 0/8 [00:00<?, ?it/s]"
      ]
     },
     "metadata": {},
     "output_type": "display_data"
    },
    {
     "data": {
      "application/vnd.jupyter.widget-view+json": {
       "model_id": "",
       "version_major": 2,
       "version_minor": 0
      },
      "text/plain": [
       "P2 loop:   0%|          | 0/8 [00:00<?, ?it/s]"
      ]
     },
     "metadata": {},
     "output_type": "display_data"
    },
    {
     "data": {
      "application/vnd.jupyter.widget-view+json": {
       "model_id": "",
       "version_major": 2,
       "version_minor": 0
      },
      "text/plain": [
       "P2 loop:   0%|          | 0/57 [00:00<?, ?it/s]"
      ]
     },
     "metadata": {},
     "output_type": "display_data"
    },
    {
     "data": {
      "application/vnd.jupyter.widget-view+json": {
       "model_id": "",
       "version_major": 2,
       "version_minor": 0
      },
      "text/plain": [
       "P2 loop:   0%|          | 0/7 [00:00<?, ?it/s]"
      ]
     },
     "metadata": {},
     "output_type": "display_data"
    },
    {
     "data": {
      "application/vnd.jupyter.widget-view+json": {
       "model_id": "",
       "version_major": 2,
       "version_minor": 0
      },
      "text/plain": [
       "P2 loop:   0%|          | 0/7 [00:00<?, ?it/s]"
      ]
     },
     "metadata": {},
     "output_type": "display_data"
    },
    {
     "data": {
      "application/vnd.jupyter.widget-view+json": {
       "model_id": "",
       "version_major": 2,
       "version_minor": 0
      },
      "text/plain": [
       "P2 loop:   0%|          | 0/8 [00:00<?, ?it/s]"
      ]
     },
     "metadata": {},
     "output_type": "display_data"
    },
    {
     "data": {
      "application/vnd.jupyter.widget-view+json": {
       "model_id": "",
       "version_major": 2,
       "version_minor": 0
      },
      "text/plain": [
       "P2 loop:   0%|          | 0/8 [00:00<?, ?it/s]"
      ]
     },
     "metadata": {},
     "output_type": "display_data"
    },
    {
     "data": {
      "application/vnd.jupyter.widget-view+json": {
       "model_id": "",
       "version_major": 2,
       "version_minor": 0
      },
      "text/plain": [
       "P2 loop:   0%|          | 0/58 [00:00<?, ?it/s]"
      ]
     },
     "metadata": {},
     "output_type": "display_data"
    },
    {
     "data": {
      "application/vnd.jupyter.widget-view+json": {
       "model_id": "",
       "version_major": 2,
       "version_minor": 0
      },
      "text/plain": [
       "P2 loop:   0%|          | 0/56 [00:00<?, ?it/s]"
      ]
     },
     "metadata": {},
     "output_type": "display_data"
    },
    {
     "data": {
      "application/vnd.jupyter.widget-view+json": {
       "model_id": "",
       "version_major": 2,
       "version_minor": 0
      },
      "text/plain": [
       "P2 loop:   0%|          | 0/60 [00:00<?, ?it/s]"
      ]
     },
     "metadata": {},
     "output_type": "display_data"
    },
    {
     "data": {
      "application/vnd.jupyter.widget-view+json": {
       "model_id": "",
       "version_major": 2,
       "version_minor": 0
      },
      "text/plain": [
       "P2 loop:   0%|          | 0/3 [00:00<?, ?it/s]"
      ]
     },
     "metadata": {},
     "output_type": "display_data"
    },
    {
     "data": {
      "application/vnd.jupyter.widget-view+json": {
       "model_id": "",
       "version_major": 2,
       "version_minor": 0
      },
      "text/plain": [
       "P2 loop:   0%|          | 0/45 [00:00<?, ?it/s]"
      ]
     },
     "metadata": {},
     "output_type": "display_data"
    },
    {
     "data": {
      "application/vnd.jupyter.widget-view+json": {
       "model_id": "",
       "version_major": 2,
       "version_minor": 0
      },
      "text/plain": [
       "P2 loop:   0%|          | 0/57 [00:00<?, ?it/s]"
      ]
     },
     "metadata": {},
     "output_type": "display_data"
    },
    {
     "data": {
      "application/vnd.jupyter.widget-view+json": {
       "model_id": "",
       "version_major": 2,
       "version_minor": 0
      },
      "text/plain": [
       "P2 loop:   0%|          | 0/46 [00:00<?, ?it/s]"
      ]
     },
     "metadata": {},
     "output_type": "display_data"
    },
    {
     "data": {
      "application/vnd.jupyter.widget-view+json": {
       "model_id": "",
       "version_major": 2,
       "version_minor": 0
      },
      "text/plain": [
       "P2 loop:   0%|          | 0/56 [00:00<?, ?it/s]"
      ]
     },
     "metadata": {},
     "output_type": "display_data"
    },
    {
     "data": {
      "application/vnd.jupyter.widget-view+json": {
       "model_id": "",
       "version_major": 2,
       "version_minor": 0
      },
      "text/plain": [
       "P2 loop:   0%|          | 0/58 [00:00<?, ?it/s]"
      ]
     },
     "metadata": {},
     "output_type": "display_data"
    },
    {
     "data": {
      "application/vnd.jupyter.widget-view+json": {
       "model_id": "",
       "version_major": 2,
       "version_minor": 0
      },
      "text/plain": [
       "P2 loop:   0%|          | 0/58 [00:00<?, ?it/s]"
      ]
     },
     "metadata": {},
     "output_type": "display_data"
    },
    {
     "data": {
      "application/vnd.jupyter.widget-view+json": {
       "model_id": "",
       "version_major": 2,
       "version_minor": 0
      },
      "text/plain": [
       "P2 loop:   0%|          | 0/58 [00:00<?, ?it/s]"
      ]
     },
     "metadata": {},
     "output_type": "display_data"
    },
    {
     "data": {
      "application/vnd.jupyter.widget-view+json": {
       "model_id": "",
       "version_major": 2,
       "version_minor": 0
      },
      "text/plain": [
       "P2 loop:   0%|          | 0/57 [00:00<?, ?it/s]"
      ]
     },
     "metadata": {},
     "output_type": "display_data"
    },
    {
     "data": {
      "application/vnd.jupyter.widget-view+json": {
       "model_id": "",
       "version_major": 2,
       "version_minor": 0
      },
      "text/plain": [
       "P2 loop:   0%|          | 0/50 [00:00<?, ?it/s]"
      ]
     },
     "metadata": {},
     "output_type": "display_data"
    },
    {
     "data": {
      "application/vnd.jupyter.widget-view+json": {
       "model_id": "",
       "version_major": 2,
       "version_minor": 0
      },
      "text/plain": [
       "P2 loop:   0%|          | 0/52 [00:00<?, ?it/s]"
      ]
     },
     "metadata": {},
     "output_type": "display_data"
    },
    {
     "data": {
      "application/vnd.jupyter.widget-view+json": {
       "model_id": "",
       "version_major": 2,
       "version_minor": 0
      },
      "text/plain": [
       "P2 loop:   0%|          | 0/57 [00:00<?, ?it/s]"
      ]
     },
     "metadata": {},
     "output_type": "display_data"
    },
    {
     "data": {
      "application/vnd.jupyter.widget-view+json": {
       "model_id": "",
       "version_major": 2,
       "version_minor": 0
      },
      "text/plain": [
       "P2 loop:   0%|          | 0/55 [00:00<?, ?it/s]"
      ]
     },
     "metadata": {},
     "output_type": "display_data"
    },
    {
     "data": {
      "application/vnd.jupyter.widget-view+json": {
       "model_id": "",
       "version_major": 2,
       "version_minor": 0
      },
      "text/plain": [
       "P2 loop:   0%|          | 0/40 [00:00<?, ?it/s]"
      ]
     },
     "metadata": {},
     "output_type": "display_data"
    },
    {
     "data": {
      "application/vnd.jupyter.widget-view+json": {
       "model_id": "",
       "version_major": 2,
       "version_minor": 0
      },
      "text/plain": [
       "P2 loop:   0%|          | 0/47 [00:00<?, ?it/s]"
      ]
     },
     "metadata": {},
     "output_type": "display_data"
    },
    {
     "data": {
      "application/vnd.jupyter.widget-view+json": {
       "model_id": "",
       "version_major": 2,
       "version_minor": 0
      },
      "text/plain": [
       "P2 loop:   0%|          | 0/54 [00:00<?, ?it/s]"
      ]
     },
     "metadata": {},
     "output_type": "display_data"
    },
    {
     "data": {
      "application/vnd.jupyter.widget-view+json": {
       "model_id": "",
       "version_major": 2,
       "version_minor": 0
      },
      "text/plain": [
       "P2 loop:   0%|          | 0/26 [00:00<?, ?it/s]"
      ]
     },
     "metadata": {},
     "output_type": "display_data"
    },
    {
     "data": {
      "application/vnd.jupyter.widget-view+json": {
       "model_id": "",
       "version_major": 2,
       "version_minor": 0
      },
      "text/plain": [
       "P2 loop:   0%|          | 0/52 [00:00<?, ?it/s]"
      ]
     },
     "metadata": {},
     "output_type": "display_data"
    },
    {
     "data": {
      "application/vnd.jupyter.widget-view+json": {
       "model_id": "",
       "version_major": 2,
       "version_minor": 0
      },
      "text/plain": [
       "P2 loop:   0%|          | 0/53 [00:00<?, ?it/s]"
      ]
     },
     "metadata": {},
     "output_type": "display_data"
    },
    {
     "data": {
      "application/vnd.jupyter.widget-view+json": {
       "model_id": "",
       "version_major": 2,
       "version_minor": 0
      },
      "text/plain": [
       "P2 loop:   0%|          | 0/36 [00:00<?, ?it/s]"
      ]
     },
     "metadata": {},
     "output_type": "display_data"
    },
    {
     "data": {
      "application/vnd.jupyter.widget-view+json": {
       "model_id": "",
       "version_major": 2,
       "version_minor": 0
      },
      "text/plain": [
       "P2 loop:   0%|          | 0/50 [00:00<?, ?it/s]"
      ]
     },
     "metadata": {},
     "output_type": "display_data"
    },
    {
     "data": {
      "application/vnd.jupyter.widget-view+json": {
       "model_id": "",
       "version_major": 2,
       "version_minor": 0
      },
      "text/plain": [
       "P2 loop:   0%|          | 0/22 [00:00<?, ?it/s]"
      ]
     },
     "metadata": {},
     "output_type": "display_data"
    },
    {
     "data": {
      "application/vnd.jupyter.widget-view+json": {
       "model_id": "",
       "version_major": 2,
       "version_minor": 0
      },
      "text/plain": [
       "P2 loop:   0%|          | 0/31 [00:00<?, ?it/s]"
      ]
     },
     "metadata": {},
     "output_type": "display_data"
    },
    {
     "data": {
      "application/vnd.jupyter.widget-view+json": {
       "model_id": "",
       "version_major": 2,
       "version_minor": 0
      },
      "text/plain": [
       "P2 loop:   0%|          | 0/38 [00:00<?, ?it/s]"
      ]
     },
     "metadata": {},
     "output_type": "display_data"
    },
    {
     "data": {
      "application/vnd.jupyter.widget-view+json": {
       "model_id": "",
       "version_major": 2,
       "version_minor": 0
      },
      "text/plain": [
       "P2 loop:   0%|          | 0/20 [00:00<?, ?it/s]"
      ]
     },
     "metadata": {},
     "output_type": "display_data"
    },
    {
     "data": {
      "application/vnd.jupyter.widget-view+json": {
       "model_id": "",
       "version_major": 2,
       "version_minor": 0
      },
      "text/plain": [
       "P2 loop:   0%|          | 0/14 [00:00<?, ?it/s]"
      ]
     },
     "metadata": {},
     "output_type": "display_data"
    },
    {
     "data": {
      "application/vnd.jupyter.widget-view+json": {
       "model_id": "",
       "version_major": 2,
       "version_minor": 0
      },
      "text/plain": [
       "Attribute loop:   0%|          | 0/8072 [00:00<?, ?it/s]"
      ]
     },
     "metadata": {},
     "output_type": "display_data"
    },
    {
     "data": {
      "application/vnd.jupyter.widget-view+json": {
       "model_id": "",
       "version_major": 2,
       "version_minor": 0
      },
      "text/plain": [
       "neighbor loop:   0%|          | 0/8846 [00:00<?, ?it/s]"
      ]
     },
     "metadata": {},
     "output_type": "display_data"
    },
    {
     "data": {
      "application/vnd.jupyter.widget-view+json": {
       "model_id": "",
       "version_major": 2,
       "version_minor": 0
      },
      "text/plain": [
       "Predicate loop:   0%|          | 0/65 [00:00<?, ?it/s]"
      ]
     },
     "metadata": {},
     "output_type": "display_data"
    },
    {
     "data": {
      "application/vnd.jupyter.widget-view+json": {
       "model_id": "",
       "version_major": 2,
       "version_minor": 0
      },
      "text/plain": [
       "P2 loop:   0%|          | 0/23 [00:00<?, ?it/s]"
      ]
     },
     "metadata": {},
     "output_type": "display_data"
    },
    {
     "data": {
      "application/vnd.jupyter.widget-view+json": {
       "model_id": "",
       "version_major": 2,
       "version_minor": 0
      },
      "text/plain": [
       "P2 loop:   0%|          | 0/18 [00:00<?, ?it/s]"
      ]
     },
     "metadata": {},
     "output_type": "display_data"
    },
    {
     "data": {
      "application/vnd.jupyter.widget-view+json": {
       "model_id": "",
       "version_major": 2,
       "version_minor": 0
      },
      "text/plain": [
       "P2 loop:   0%|          | 0/21 [00:00<?, ?it/s]"
      ]
     },
     "metadata": {},
     "output_type": "display_data"
    },
    {
     "data": {
      "application/vnd.jupyter.widget-view+json": {
       "model_id": "",
       "version_major": 2,
       "version_minor": 0
      },
      "text/plain": [
       "P2 loop:   0%|          | 0/41 [00:00<?, ?it/s]"
      ]
     },
     "metadata": {},
     "output_type": "display_data"
    },
    {
     "data": {
      "application/vnd.jupyter.widget-view+json": {
       "model_id": "",
       "version_major": 2,
       "version_minor": 0
      },
      "text/plain": [
       "P2 loop:   0%|          | 0/36 [00:00<?, ?it/s]"
      ]
     },
     "metadata": {},
     "output_type": "display_data"
    },
    {
     "data": {
      "application/vnd.jupyter.widget-view+json": {
       "model_id": "",
       "version_major": 2,
       "version_minor": 0
      },
      "text/plain": [
       "P2 loop:   0%|          | 0/22 [00:00<?, ?it/s]"
      ]
     },
     "metadata": {},
     "output_type": "display_data"
    },
    {
     "data": {
      "application/vnd.jupyter.widget-view+json": {
       "model_id": "",
       "version_major": 2,
       "version_minor": 0
      },
      "text/plain": [
       "P2 loop:   0%|          | 0/35 [00:00<?, ?it/s]"
      ]
     },
     "metadata": {},
     "output_type": "display_data"
    },
    {
     "data": {
      "application/vnd.jupyter.widget-view+json": {
       "model_id": "",
       "version_major": 2,
       "version_minor": 0
      },
      "text/plain": [
       "P2 loop:   0%|          | 0/29 [00:00<?, ?it/s]"
      ]
     },
     "metadata": {},
     "output_type": "display_data"
    },
    {
     "data": {
      "application/vnd.jupyter.widget-view+json": {
       "model_id": "",
       "version_major": 2,
       "version_minor": 0
      },
      "text/plain": [
       "P2 loop:   0%|          | 0/7 [00:00<?, ?it/s]"
      ]
     },
     "metadata": {},
     "output_type": "display_data"
    },
    {
     "data": {
      "application/vnd.jupyter.widget-view+json": {
       "model_id": "",
       "version_major": 2,
       "version_minor": 0
      },
      "text/plain": [
       "P2 loop:   0%|          | 0/39 [00:00<?, ?it/s]"
      ]
     },
     "metadata": {},
     "output_type": "display_data"
    },
    {
     "data": {
      "application/vnd.jupyter.widget-view+json": {
       "model_id": "",
       "version_major": 2,
       "version_minor": 0
      },
      "text/plain": [
       "P2 loop:   0%|          | 0/38 [00:00<?, ?it/s]"
      ]
     },
     "metadata": {},
     "output_type": "display_data"
    },
    {
     "data": {
      "application/vnd.jupyter.widget-view+json": {
       "model_id": "",
       "version_major": 2,
       "version_minor": 0
      },
      "text/plain": [
       "P2 loop:   0%|          | 0/38 [00:00<?, ?it/s]"
      ]
     },
     "metadata": {},
     "output_type": "display_data"
    },
    {
     "data": {
      "application/vnd.jupyter.widget-view+json": {
       "model_id": "",
       "version_major": 2,
       "version_minor": 0
      },
      "text/plain": [
       "P2 loop:   0%|          | 0/12 [00:00<?, ?it/s]"
      ]
     },
     "metadata": {},
     "output_type": "display_data"
    },
    {
     "data": {
      "application/vnd.jupyter.widget-view+json": {
       "model_id": "",
       "version_major": 2,
       "version_minor": 0
      },
      "text/plain": [
       "P2 loop:   0%|          | 0/35 [00:00<?, ?it/s]"
      ]
     },
     "metadata": {},
     "output_type": "display_data"
    },
    {
     "data": {
      "application/vnd.jupyter.widget-view+json": {
       "model_id": "",
       "version_major": 2,
       "version_minor": 0
      },
      "text/plain": [
       "P2 loop:   0%|          | 0/2 [00:00<?, ?it/s]"
      ]
     },
     "metadata": {},
     "output_type": "display_data"
    },
    {
     "data": {
      "application/vnd.jupyter.widget-view+json": {
       "model_id": "",
       "version_major": 2,
       "version_minor": 0
      },
      "text/plain": [
       "P2 loop:   0%|          | 0/32 [00:00<?, ?it/s]"
      ]
     },
     "metadata": {},
     "output_type": "display_data"
    },
    {
     "data": {
      "application/vnd.jupyter.widget-view+json": {
       "model_id": "",
       "version_major": 2,
       "version_minor": 0
      },
      "text/plain": [
       "P2 loop:   0%|          | 0/9 [00:00<?, ?it/s]"
      ]
     },
     "metadata": {},
     "output_type": "display_data"
    },
    {
     "data": {
      "application/vnd.jupyter.widget-view+json": {
       "model_id": "",
       "version_major": 2,
       "version_minor": 0
      },
      "text/plain": [
       "P2 loop:   0%|          | 0/3 [00:00<?, ?it/s]"
      ]
     },
     "metadata": {},
     "output_type": "display_data"
    },
    {
     "data": {
      "application/vnd.jupyter.widget-view+json": {
       "model_id": "",
       "version_major": 2,
       "version_minor": 0
      },
      "text/plain": [
       "P2 loop:   0%|          | 0/29 [00:00<?, ?it/s]"
      ]
     },
     "metadata": {},
     "output_type": "display_data"
    },
    {
     "data": {
      "application/vnd.jupyter.widget-view+json": {
       "model_id": "",
       "version_major": 2,
       "version_minor": 0
      },
      "text/plain": [
       "P2 loop:   0%|          | 0/27 [00:00<?, ?it/s]"
      ]
     },
     "metadata": {},
     "output_type": "display_data"
    },
    {
     "data": {
      "application/vnd.jupyter.widget-view+json": {
       "model_id": "",
       "version_major": 2,
       "version_minor": 0
      },
      "text/plain": [
       "P2 loop:   0%|          | 0/34 [00:00<?, ?it/s]"
      ]
     },
     "metadata": {},
     "output_type": "display_data"
    },
    {
     "data": {
      "application/vnd.jupyter.widget-view+json": {
       "model_id": "",
       "version_major": 2,
       "version_minor": 0
      },
      "text/plain": [
       "P2 loop:   0%|          | 0/34 [00:00<?, ?it/s]"
      ]
     },
     "metadata": {},
     "output_type": "display_data"
    },
    {
     "data": {
      "application/vnd.jupyter.widget-view+json": {
       "model_id": "",
       "version_major": 2,
       "version_minor": 0
      },
      "text/plain": [
       "P2 loop:   0%|          | 0/35 [00:00<?, ?it/s]"
      ]
     },
     "metadata": {},
     "output_type": "display_data"
    },
    {
     "data": {
      "application/vnd.jupyter.widget-view+json": {
       "model_id": "",
       "version_major": 2,
       "version_minor": 0
      },
      "text/plain": [
       "P2 loop:   0%|          | 0/34 [00:00<?, ?it/s]"
      ]
     },
     "metadata": {},
     "output_type": "display_data"
    },
    {
     "data": {
      "application/vnd.jupyter.widget-view+json": {
       "model_id": "",
       "version_major": 2,
       "version_minor": 0
      },
      "text/plain": [
       "P2 loop:   0%|          | 0/15 [00:00<?, ?it/s]"
      ]
     },
     "metadata": {},
     "output_type": "display_data"
    },
    {
     "data": {
      "application/vnd.jupyter.widget-view+json": {
       "model_id": "",
       "version_major": 2,
       "version_minor": 0
      },
      "text/plain": [
       "P2 loop:   0%|          | 0/32 [00:00<?, ?it/s]"
      ]
     },
     "metadata": {},
     "output_type": "display_data"
    },
    {
     "data": {
      "application/vnd.jupyter.widget-view+json": {
       "model_id": "",
       "version_major": 2,
       "version_minor": 0
      },
      "text/plain": [
       "P2 loop:   0%|          | 0/26 [00:00<?, ?it/s]"
      ]
     },
     "metadata": {},
     "output_type": "display_data"
    },
    {
     "data": {
      "application/vnd.jupyter.widget-view+json": {
       "model_id": "",
       "version_major": 2,
       "version_minor": 0
      },
      "text/plain": [
       "P2 loop:   0%|          | 0/32 [00:00<?, ?it/s]"
      ]
     },
     "metadata": {},
     "output_type": "display_data"
    },
    {
     "data": {
      "application/vnd.jupyter.widget-view+json": {
       "model_id": "",
       "version_major": 2,
       "version_minor": 0
      },
      "text/plain": [
       "P2 loop:   0%|          | 0/32 [00:00<?, ?it/s]"
      ]
     },
     "metadata": {},
     "output_type": "display_data"
    },
    {
     "data": {
      "application/vnd.jupyter.widget-view+json": {
       "model_id": "",
       "version_major": 2,
       "version_minor": 0
      },
      "text/plain": [
       "P2 loop:   0%|          | 0/32 [00:00<?, ?it/s]"
      ]
     },
     "metadata": {},
     "output_type": "display_data"
    },
    {
     "data": {
      "application/vnd.jupyter.widget-view+json": {
       "model_id": "",
       "version_major": 2,
       "version_minor": 0
      },
      "text/plain": [
       "P2 loop:   0%|          | 0/31 [00:00<?, ?it/s]"
      ]
     },
     "metadata": {},
     "output_type": "display_data"
    },
    {
     "data": {
      "application/vnd.jupyter.widget-view+json": {
       "model_id": "",
       "version_major": 2,
       "version_minor": 0
      },
      "text/plain": [
       "P2 loop:   0%|          | 0/25 [00:00<?, ?it/s]"
      ]
     },
     "metadata": {},
     "output_type": "display_data"
    },
    {
     "data": {
      "application/vnd.jupyter.widget-view+json": {
       "model_id": "",
       "version_major": 2,
       "version_minor": 0
      },
      "text/plain": [
       "P2 loop:   0%|          | 0/32 [00:00<?, ?it/s]"
      ]
     },
     "metadata": {},
     "output_type": "display_data"
    },
    {
     "data": {
      "application/vnd.jupyter.widget-view+json": {
       "model_id": "",
       "version_major": 2,
       "version_minor": 0
      },
      "text/plain": [
       "P2 loop:   0%|          | 0/21 [00:00<?, ?it/s]"
      ]
     },
     "metadata": {},
     "output_type": "display_data"
    },
    {
     "data": {
      "application/vnd.jupyter.widget-view+json": {
       "model_id": "",
       "version_major": 2,
       "version_minor": 0
      },
      "text/plain": [
       "P2 loop:   0%|          | 0/31 [00:00<?, ?it/s]"
      ]
     },
     "metadata": {},
     "output_type": "display_data"
    },
    {
     "data": {
      "application/vnd.jupyter.widget-view+json": {
       "model_id": "",
       "version_major": 2,
       "version_minor": 0
      },
      "text/plain": [
       "P2 loop:   0%|          | 0/31 [00:00<?, ?it/s]"
      ]
     },
     "metadata": {},
     "output_type": "display_data"
    },
    {
     "data": {
      "application/vnd.jupyter.widget-view+json": {
       "model_id": "",
       "version_major": 2,
       "version_minor": 0
      },
      "text/plain": [
       "P2 loop:   0%|          | 0/31 [00:00<?, ?it/s]"
      ]
     },
     "metadata": {},
     "output_type": "display_data"
    },
    {
     "data": {
      "application/vnd.jupyter.widget-view+json": {
       "model_id": "",
       "version_major": 2,
       "version_minor": 0
      },
      "text/plain": [
       "P2 loop:   0%|          | 0/12 [00:00<?, ?it/s]"
      ]
     },
     "metadata": {},
     "output_type": "display_data"
    },
    {
     "data": {
      "application/vnd.jupyter.widget-view+json": {
       "model_id": "",
       "version_major": 2,
       "version_minor": 0
      },
      "text/plain": [
       "P2 loop:   0%|          | 0/29 [00:00<?, ?it/s]"
      ]
     },
     "metadata": {},
     "output_type": "display_data"
    },
    {
     "data": {
      "application/vnd.jupyter.widget-view+json": {
       "model_id": "",
       "version_major": 2,
       "version_minor": 0
      },
      "text/plain": [
       "P2 loop:   0%|          | 0/31 [00:00<?, ?it/s]"
      ]
     },
     "metadata": {},
     "output_type": "display_data"
    },
    {
     "data": {
      "application/vnd.jupyter.widget-view+json": {
       "model_id": "",
       "version_major": 2,
       "version_minor": 0
      },
      "text/plain": [
       "P2 loop:   0%|          | 0/30 [00:00<?, ?it/s]"
      ]
     },
     "metadata": {},
     "output_type": "display_data"
    },
    {
     "data": {
      "application/vnd.jupyter.widget-view+json": {
       "model_id": "",
       "version_major": 2,
       "version_minor": 0
      },
      "text/plain": [
       "P2 loop:   0%|          | 0/31 [00:00<?, ?it/s]"
      ]
     },
     "metadata": {},
     "output_type": "display_data"
    },
    {
     "data": {
      "application/vnd.jupyter.widget-view+json": {
       "model_id": "",
       "version_major": 2,
       "version_minor": 0
      },
      "text/plain": [
       "P2 loop:   0%|          | 0/31 [00:00<?, ?it/s]"
      ]
     },
     "metadata": {},
     "output_type": "display_data"
    },
    {
     "data": {
      "application/vnd.jupyter.widget-view+json": {
       "model_id": "",
       "version_major": 2,
       "version_minor": 0
      },
      "text/plain": [
       "P2 loop:   0%|          | 0/31 [00:00<?, ?it/s]"
      ]
     },
     "metadata": {},
     "output_type": "display_data"
    },
    {
     "data": {
      "application/vnd.jupyter.widget-view+json": {
       "model_id": "",
       "version_major": 2,
       "version_minor": 0
      },
      "text/plain": [
       "P2 loop:   0%|          | 0/28 [00:00<?, ?it/s]"
      ]
     },
     "metadata": {},
     "output_type": "display_data"
    },
    {
     "data": {
      "application/vnd.jupyter.widget-view+json": {
       "model_id": "",
       "version_major": 2,
       "version_minor": 0
      },
      "text/plain": [
       "P2 loop:   0%|          | 0/29 [00:00<?, ?it/s]"
      ]
     },
     "metadata": {},
     "output_type": "display_data"
    },
    {
     "data": {
      "application/vnd.jupyter.widget-view+json": {
       "model_id": "",
       "version_major": 2,
       "version_minor": 0
      },
      "text/plain": [
       "P2 loop:   0%|          | 0/26 [00:00<?, ?it/s]"
      ]
     },
     "metadata": {},
     "output_type": "display_data"
    },
    {
     "data": {
      "application/vnd.jupyter.widget-view+json": {
       "model_id": "",
       "version_major": 2,
       "version_minor": 0
      },
      "text/plain": [
       "P2 loop:   0%|          | 0/27 [00:00<?, ?it/s]"
      ]
     },
     "metadata": {},
     "output_type": "display_data"
    },
    {
     "data": {
      "application/vnd.jupyter.widget-view+json": {
       "model_id": "",
       "version_major": 2,
       "version_minor": 0
      },
      "text/plain": [
       "P2 loop:   0%|          | 0/26 [00:00<?, ?it/s]"
      ]
     },
     "metadata": {},
     "output_type": "display_data"
    },
    {
     "data": {
      "application/vnd.jupyter.widget-view+json": {
       "model_id": "",
       "version_major": 2,
       "version_minor": 0
      },
      "text/plain": [
       "P2 loop:   0%|          | 0/29 [00:00<?, ?it/s]"
      ]
     },
     "metadata": {},
     "output_type": "display_data"
    },
    {
     "data": {
      "application/vnd.jupyter.widget-view+json": {
       "model_id": "",
       "version_major": 2,
       "version_minor": 0
      },
      "text/plain": [
       "P2 loop:   0%|          | 0/22 [00:00<?, ?it/s]"
      ]
     },
     "metadata": {},
     "output_type": "display_data"
    },
    {
     "data": {
      "application/vnd.jupyter.widget-view+json": {
       "model_id": "",
       "version_major": 2,
       "version_minor": 0
      },
      "text/plain": [
       "P2 loop:   0%|          | 0/29 [00:00<?, ?it/s]"
      ]
     },
     "metadata": {},
     "output_type": "display_data"
    },
    {
     "data": {
      "application/vnd.jupyter.widget-view+json": {
       "model_id": "",
       "version_major": 2,
       "version_minor": 0
      },
      "text/plain": [
       "P2 loop:   0%|          | 0/29 [00:00<?, ?it/s]"
      ]
     },
     "metadata": {},
     "output_type": "display_data"
    },
    {
     "data": {
      "application/vnd.jupyter.widget-view+json": {
       "model_id": "",
       "version_major": 2,
       "version_minor": 0
      },
      "text/plain": [
       "P2 loop:   0%|          | 0/22 [00:00<?, ?it/s]"
      ]
     },
     "metadata": {},
     "output_type": "display_data"
    },
    {
     "data": {
      "application/vnd.jupyter.widget-view+json": {
       "model_id": "",
       "version_major": 2,
       "version_minor": 0
      },
      "text/plain": [
       "P2 loop:   0%|          | 0/13 [00:00<?, ?it/s]"
      ]
     },
     "metadata": {},
     "output_type": "display_data"
    },
    {
     "data": {
      "application/vnd.jupyter.widget-view+json": {
       "model_id": "",
       "version_major": 2,
       "version_minor": 0
      },
      "text/plain": [
       "P2 loop:   0%|          | 0/14 [00:00<?, ?it/s]"
      ]
     },
     "metadata": {},
     "output_type": "display_data"
    },
    {
     "data": {
      "application/vnd.jupyter.widget-view+json": {
       "model_id": "",
       "version_major": 2,
       "version_minor": 0
      },
      "text/plain": [
       "P2 loop:   0%|          | 0/25 [00:00<?, ?it/s]"
      ]
     },
     "metadata": {},
     "output_type": "display_data"
    },
    {
     "data": {
      "application/vnd.jupyter.widget-view+json": {
       "model_id": "",
       "version_major": 2,
       "version_minor": 0
      },
      "text/plain": [
       "P2 loop:   0%|          | 0/29 [00:00<?, ?it/s]"
      ]
     },
     "metadata": {},
     "output_type": "display_data"
    },
    {
     "data": {
      "application/vnd.jupyter.widget-view+json": {
       "model_id": "",
       "version_major": 2,
       "version_minor": 0
      },
      "text/plain": [
       "P2 loop:   0%|          | 0/24 [00:00<?, ?it/s]"
      ]
     },
     "metadata": {},
     "output_type": "display_data"
    },
    {
     "data": {
      "application/vnd.jupyter.widget-view+json": {
       "model_id": "",
       "version_major": 2,
       "version_minor": 0
      },
      "text/plain": [
       "P2 loop:   0%|          | 0/26 [00:00<?, ?it/s]"
      ]
     },
     "metadata": {},
     "output_type": "display_data"
    },
    {
     "data": {
      "application/vnd.jupyter.widget-view+json": {
       "model_id": "",
       "version_major": 2,
       "version_minor": 0
      },
      "text/plain": [
       "P2 loop:   0%|          | 0/20 [00:00<?, ?it/s]"
      ]
     },
     "metadata": {},
     "output_type": "display_data"
    },
    {
     "data": {
      "application/vnd.jupyter.widget-view+json": {
       "model_id": "",
       "version_major": 2,
       "version_minor": 0
      },
      "text/plain": [
       "P2 loop:   0%|          | 0/21 [00:00<?, ?it/s]"
      ]
     },
     "metadata": {},
     "output_type": "display_data"
    },
    {
     "data": {
      "application/vnd.jupyter.widget-view+json": {
       "model_id": "",
       "version_major": 2,
       "version_minor": 0
      },
      "text/plain": [
       "P2 loop:   0%|          | 0/21 [00:00<?, ?it/s]"
      ]
     },
     "metadata": {},
     "output_type": "display_data"
    },
    {
     "data": {
      "application/vnd.jupyter.widget-view+json": {
       "model_id": "",
       "version_major": 2,
       "version_minor": 0
      },
      "text/plain": [
       "P2 loop:   0%|          | 0/20 [00:00<?, ?it/s]"
      ]
     },
     "metadata": {},
     "output_type": "display_data"
    },
    {
     "data": {
      "application/vnd.jupyter.widget-view+json": {
       "model_id": "",
       "version_major": 2,
       "version_minor": 0
      },
      "text/plain": [
       "P2 loop:   0%|          | 0/17 [00:00<?, ?it/s]"
      ]
     },
     "metadata": {},
     "output_type": "display_data"
    },
    {
     "data": {
      "application/vnd.jupyter.widget-view+json": {
       "model_id": "",
       "version_major": 2,
       "version_minor": 0
      },
      "text/plain": [
       "Predicate loop:   0%|          | 0/43 [00:00<?, ?it/s]"
      ]
     },
     "metadata": {},
     "output_type": "display_data"
    },
    {
     "data": {
      "application/vnd.jupyter.widget-view+json": {
       "model_id": "",
       "version_major": 2,
       "version_minor": 0
      },
      "text/plain": [
       "P2 loop:   0%|          | 0/15 [00:00<?, ?it/s]"
      ]
     },
     "metadata": {},
     "output_type": "display_data"
    },
    {
     "data": {
      "application/vnd.jupyter.widget-view+json": {
       "model_id": "",
       "version_major": 2,
       "version_minor": 0
      },
      "text/plain": [
       "P2 loop:   0%|          | 0/24 [00:00<?, ?it/s]"
      ]
     },
     "metadata": {},
     "output_type": "display_data"
    },
    {
     "data": {
      "application/vnd.jupyter.widget-view+json": {
       "model_id": "",
       "version_major": 2,
       "version_minor": 0
      },
      "text/plain": [
       "P2 loop:   0%|          | 0/24 [00:00<?, ?it/s]"
      ]
     },
     "metadata": {},
     "output_type": "display_data"
    },
    {
     "data": {
      "application/vnd.jupyter.widget-view+json": {
       "model_id": "",
       "version_major": 2,
       "version_minor": 0
      },
      "text/plain": [
       "P2 loop:   0%|          | 0/25 [00:00<?, ?it/s]"
      ]
     },
     "metadata": {},
     "output_type": "display_data"
    },
    {
     "data": {
      "application/vnd.jupyter.widget-view+json": {
       "model_id": "",
       "version_major": 2,
       "version_minor": 0
      },
      "text/plain": [
       "P2 loop:   0%|          | 0/62 [00:00<?, ?it/s]"
      ]
     },
     "metadata": {},
     "output_type": "display_data"
    },
    {
     "data": {
      "application/vnd.jupyter.widget-view+json": {
       "model_id": "",
       "version_major": 2,
       "version_minor": 0
      },
      "text/plain": [
       "P2 loop:   0%|          | 0/61 [00:00<?, ?it/s]"
      ]
     },
     "metadata": {},
     "output_type": "display_data"
    },
    {
     "data": {
      "application/vnd.jupyter.widget-view+json": {
       "model_id": "",
       "version_major": 2,
       "version_minor": 0
      },
      "text/plain": [
       "P2 loop:   0%|          | 0/18 [00:00<?, ?it/s]"
      ]
     },
     "metadata": {},
     "output_type": "display_data"
    },
    {
     "data": {
      "application/vnd.jupyter.widget-view+json": {
       "model_id": "",
       "version_major": 2,
       "version_minor": 0
      },
      "text/plain": [
       "P2 loop:   0%|          | 0/8 [00:00<?, ?it/s]"
      ]
     },
     "metadata": {},
     "output_type": "display_data"
    },
    {
     "data": {
      "application/vnd.jupyter.widget-view+json": {
       "model_id": "",
       "version_major": 2,
       "version_minor": 0
      },
      "text/plain": [
       "P2 loop:   0%|          | 0/8 [00:00<?, ?it/s]"
      ]
     },
     "metadata": {},
     "output_type": "display_data"
    },
    {
     "data": {
      "application/vnd.jupyter.widget-view+json": {
       "model_id": "",
       "version_major": 2,
       "version_minor": 0
      },
      "text/plain": [
       "P2 loop:   0%|          | 0/58 [00:00<?, ?it/s]"
      ]
     },
     "metadata": {},
     "output_type": "display_data"
    },
    {
     "data": {
      "application/vnd.jupyter.widget-view+json": {
       "model_id": "",
       "version_major": 2,
       "version_minor": 0
      },
      "text/plain": [
       "P2 loop:   0%|          | 0/7 [00:00<?, ?it/s]"
      ]
     },
     "metadata": {},
     "output_type": "display_data"
    },
    {
     "data": {
      "application/vnd.jupyter.widget-view+json": {
       "model_id": "",
       "version_major": 2,
       "version_minor": 0
      },
      "text/plain": [
       "P2 loop:   0%|          | 0/7 [00:00<?, ?it/s]"
      ]
     },
     "metadata": {},
     "output_type": "display_data"
    },
    {
     "data": {
      "application/vnd.jupyter.widget-view+json": {
       "model_id": "",
       "version_major": 2,
       "version_minor": 0
      },
      "text/plain": [
       "P2 loop:   0%|          | 0/8 [00:00<?, ?it/s]"
      ]
     },
     "metadata": {},
     "output_type": "display_data"
    },
    {
     "data": {
      "application/vnd.jupyter.widget-view+json": {
       "model_id": "",
       "version_major": 2,
       "version_minor": 0
      },
      "text/plain": [
       "P2 loop:   0%|          | 0/8 [00:00<?, ?it/s]"
      ]
     },
     "metadata": {},
     "output_type": "display_data"
    },
    {
     "data": {
      "application/vnd.jupyter.widget-view+json": {
       "model_id": "",
       "version_major": 2,
       "version_minor": 0
      },
      "text/plain": [
       "P2 loop:   0%|          | 0/59 [00:00<?, ?it/s]"
      ]
     },
     "metadata": {},
     "output_type": "display_data"
    },
    {
     "data": {
      "application/vnd.jupyter.widget-view+json": {
       "model_id": "",
       "version_major": 2,
       "version_minor": 0
      },
      "text/plain": [
       "P2 loop:   0%|          | 0/56 [00:00<?, ?it/s]"
      ]
     },
     "metadata": {},
     "output_type": "display_data"
    },
    {
     "data": {
      "application/vnd.jupyter.widget-view+json": {
       "model_id": "",
       "version_major": 2,
       "version_minor": 0
      },
      "text/plain": [
       "P2 loop:   0%|          | 0/60 [00:00<?, ?it/s]"
      ]
     },
     "metadata": {},
     "output_type": "display_data"
    },
    {
     "data": {
      "application/vnd.jupyter.widget-view+json": {
       "model_id": "",
       "version_major": 2,
       "version_minor": 0
      },
      "text/plain": [
       "P2 loop:   0%|          | 0/3 [00:00<?, ?it/s]"
      ]
     },
     "metadata": {},
     "output_type": "display_data"
    },
    {
     "data": {
      "application/vnd.jupyter.widget-view+json": {
       "model_id": "",
       "version_major": 2,
       "version_minor": 0
      },
      "text/plain": [
       "P2 loop:   0%|          | 0/45 [00:00<?, ?it/s]"
      ]
     },
     "metadata": {},
     "output_type": "display_data"
    },
    {
     "data": {
      "application/vnd.jupyter.widget-view+json": {
       "model_id": "",
       "version_major": 2,
       "version_minor": 0
      },
      "text/plain": [
       "P2 loop:   0%|          | 0/58 [00:00<?, ?it/s]"
      ]
     },
     "metadata": {},
     "output_type": "display_data"
    },
    {
     "data": {
      "application/vnd.jupyter.widget-view+json": {
       "model_id": "",
       "version_major": 2,
       "version_minor": 0
      },
      "text/plain": [
       "P2 loop:   0%|          | 0/46 [00:00<?, ?it/s]"
      ]
     },
     "metadata": {},
     "output_type": "display_data"
    },
    {
     "data": {
      "application/vnd.jupyter.widget-view+json": {
       "model_id": "",
       "version_major": 2,
       "version_minor": 0
      },
      "text/plain": [
       "P2 loop:   0%|          | 0/57 [00:00<?, ?it/s]"
      ]
     },
     "metadata": {},
     "output_type": "display_data"
    },
    {
     "data": {
      "application/vnd.jupyter.widget-view+json": {
       "model_id": "",
       "version_major": 2,
       "version_minor": 0
      },
      "text/plain": [
       "P2 loop:   0%|          | 0/58 [00:00<?, ?it/s]"
      ]
     },
     "metadata": {},
     "output_type": "display_data"
    },
    {
     "data": {
      "application/vnd.jupyter.widget-view+json": {
       "model_id": "",
       "version_major": 2,
       "version_minor": 0
      },
      "text/plain": [
       "P2 loop:   0%|          | 0/58 [00:00<?, ?it/s]"
      ]
     },
     "metadata": {},
     "output_type": "display_data"
    },
    {
     "data": {
      "application/vnd.jupyter.widget-view+json": {
       "model_id": "",
       "version_major": 2,
       "version_minor": 0
      },
      "text/plain": [
       "P2 loop:   0%|          | 0/58 [00:00<?, ?it/s]"
      ]
     },
     "metadata": {},
     "output_type": "display_data"
    },
    {
     "data": {
      "application/vnd.jupyter.widget-view+json": {
       "model_id": "",
       "version_major": 2,
       "version_minor": 0
      },
      "text/plain": [
       "P2 loop:   0%|          | 0/57 [00:00<?, ?it/s]"
      ]
     },
     "metadata": {},
     "output_type": "display_data"
    },
    {
     "data": {
      "application/vnd.jupyter.widget-view+json": {
       "model_id": "",
       "version_major": 2,
       "version_minor": 0
      },
      "text/plain": [
       "P2 loop:   0%|          | 0/50 [00:00<?, ?it/s]"
      ]
     },
     "metadata": {},
     "output_type": "display_data"
    },
    {
     "data": {
      "application/vnd.jupyter.widget-view+json": {
       "model_id": "",
       "version_major": 2,
       "version_minor": 0
      },
      "text/plain": [
       "P2 loop:   0%|          | 0/53 [00:00<?, ?it/s]"
      ]
     },
     "metadata": {},
     "output_type": "display_data"
    },
    {
     "data": {
      "application/vnd.jupyter.widget-view+json": {
       "model_id": "",
       "version_major": 2,
       "version_minor": 0
      },
      "text/plain": [
       "P2 loop:   0%|          | 0/57 [00:00<?, ?it/s]"
      ]
     },
     "metadata": {},
     "output_type": "display_data"
    },
    {
     "data": {
      "application/vnd.jupyter.widget-view+json": {
       "model_id": "",
       "version_major": 2,
       "version_minor": 0
      },
      "text/plain": [
       "P2 loop:   0%|          | 0/56 [00:00<?, ?it/s]"
      ]
     },
     "metadata": {},
     "output_type": "display_data"
    },
    {
     "data": {
      "application/vnd.jupyter.widget-view+json": {
       "model_id": "",
       "version_major": 2,
       "version_minor": 0
      },
      "text/plain": [
       "P2 loop:   0%|          | 0/40 [00:00<?, ?it/s]"
      ]
     },
     "metadata": {},
     "output_type": "display_data"
    },
    {
     "data": {
      "application/vnd.jupyter.widget-view+json": {
       "model_id": "",
       "version_major": 2,
       "version_minor": 0
      },
      "text/plain": [
       "P2 loop:   0%|          | 0/47 [00:00<?, ?it/s]"
      ]
     },
     "metadata": {},
     "output_type": "display_data"
    },
    {
     "data": {
      "application/vnd.jupyter.widget-view+json": {
       "model_id": "",
       "version_major": 2,
       "version_minor": 0
      },
      "text/plain": [
       "P2 loop:   0%|          | 0/56 [00:00<?, ?it/s]"
      ]
     },
     "metadata": {},
     "output_type": "display_data"
    },
    {
     "data": {
      "application/vnd.jupyter.widget-view+json": {
       "model_id": "",
       "version_major": 2,
       "version_minor": 0
      },
      "text/plain": [
       "P2 loop:   0%|          | 0/26 [00:00<?, ?it/s]"
      ]
     },
     "metadata": {},
     "output_type": "display_data"
    },
    {
     "data": {
      "application/vnd.jupyter.widget-view+json": {
       "model_id": "",
       "version_major": 2,
       "version_minor": 0
      },
      "text/plain": [
       "P2 loop:   0%|          | 0/53 [00:00<?, ?it/s]"
      ]
     },
     "metadata": {},
     "output_type": "display_data"
    },
    {
     "data": {
      "application/vnd.jupyter.widget-view+json": {
       "model_id": "",
       "version_major": 2,
       "version_minor": 0
      },
      "text/plain": [
       "P2 loop:   0%|          | 0/54 [00:00<?, ?it/s]"
      ]
     },
     "metadata": {},
     "output_type": "display_data"
    },
    {
     "data": {
      "application/vnd.jupyter.widget-view+json": {
       "model_id": "",
       "version_major": 2,
       "version_minor": 0
      },
      "text/plain": [
       "P2 loop:   0%|          | 0/36 [00:00<?, ?it/s]"
      ]
     },
     "metadata": {},
     "output_type": "display_data"
    },
    {
     "data": {
      "application/vnd.jupyter.widget-view+json": {
       "model_id": "",
       "version_major": 2,
       "version_minor": 0
      },
      "text/plain": [
       "P2 loop:   0%|          | 0/50 [00:00<?, ?it/s]"
      ]
     },
     "metadata": {},
     "output_type": "display_data"
    },
    {
     "data": {
      "application/vnd.jupyter.widget-view+json": {
       "model_id": "",
       "version_major": 2,
       "version_minor": 0
      },
      "text/plain": [
       "P2 loop:   0%|          | 0/33 [00:00<?, ?it/s]"
      ]
     },
     "metadata": {},
     "output_type": "display_data"
    },
    {
     "data": {
      "application/vnd.jupyter.widget-view+json": {
       "model_id": "",
       "version_major": 2,
       "version_minor": 0
      },
      "text/plain": [
       "P2 loop:   0%|          | 0/31 [00:00<?, ?it/s]"
      ]
     },
     "metadata": {},
     "output_type": "display_data"
    },
    {
     "data": {
      "application/vnd.jupyter.widget-view+json": {
       "model_id": "",
       "version_major": 2,
       "version_minor": 0
      },
      "text/plain": [
       "P2 loop:   0%|          | 0/38 [00:00<?, ?it/s]"
      ]
     },
     "metadata": {},
     "output_type": "display_data"
    },
    {
     "data": {
      "application/vnd.jupyter.widget-view+json": {
       "model_id": "",
       "version_major": 2,
       "version_minor": 0
      },
      "text/plain": [
       "P2 loop:   0%|          | 0/35 [00:00<?, ?it/s]"
      ]
     },
     "metadata": {},
     "output_type": "display_data"
    },
    {
     "data": {
      "application/vnd.jupyter.widget-view+json": {
       "model_id": "",
       "version_major": 2,
       "version_minor": 0
      },
      "text/plain": [
       "P2 loop:   0%|          | 0/33 [00:00<?, ?it/s]"
      ]
     },
     "metadata": {},
     "output_type": "display_data"
    },
    {
     "data": {
      "application/vnd.jupyter.widget-view+json": {
       "model_id": "",
       "version_major": 2,
       "version_minor": 0
      },
      "text/plain": [
       "Attribute loop:   0%|          | 0/8072 [00:00<?, ?it/s]"
      ]
     },
     "metadata": {},
     "output_type": "display_data"
    },
    {
     "data": {
      "application/vnd.jupyter.widget-view+json": {
       "model_id": "",
       "version_major": 2,
       "version_minor": 0
      },
      "text/plain": [
       "neighbor loop:   0%|          | 0/8848 [00:00<?, ?it/s]"
      ]
     },
     "metadata": {},
     "output_type": "display_data"
    },
    {
     "data": {
      "application/vnd.jupyter.widget-view+json": {
       "model_id": "",
       "version_major": 2,
       "version_minor": 0
      },
      "text/plain": [
       "Predicate loop:   0%|          | 0/65 [00:00<?, ?it/s]"
      ]
     },
     "metadata": {},
     "output_type": "display_data"
    },
    {
     "data": {
      "application/vnd.jupyter.widget-view+json": {
       "model_id": "",
       "version_major": 2,
       "version_minor": 0
      },
      "text/plain": [
       "P2 loop:   0%|          | 0/23 [00:00<?, ?it/s]"
      ]
     },
     "metadata": {},
     "output_type": "display_data"
    },
    {
     "data": {
      "application/vnd.jupyter.widget-view+json": {
       "model_id": "",
       "version_major": 2,
       "version_minor": 0
      },
      "text/plain": [
       "P2 loop:   0%|          | 0/18 [00:00<?, ?it/s]"
      ]
     },
     "metadata": {},
     "output_type": "display_data"
    },
    {
     "data": {
      "application/vnd.jupyter.widget-view+json": {
       "model_id": "",
       "version_major": 2,
       "version_minor": 0
      },
      "text/plain": [
       "P2 loop:   0%|          | 0/21 [00:00<?, ?it/s]"
      ]
     },
     "metadata": {},
     "output_type": "display_data"
    },
    {
     "data": {
      "application/vnd.jupyter.widget-view+json": {
       "model_id": "",
       "version_major": 2,
       "version_minor": 0
      },
      "text/plain": [
       "P2 loop:   0%|          | 0/41 [00:00<?, ?it/s]"
      ]
     },
     "metadata": {},
     "output_type": "display_data"
    },
    {
     "data": {
      "application/vnd.jupyter.widget-view+json": {
       "model_id": "",
       "version_major": 2,
       "version_minor": 0
      },
      "text/plain": [
       "P2 loop:   0%|          | 0/36 [00:00<?, ?it/s]"
      ]
     },
     "metadata": {},
     "output_type": "display_data"
    },
    {
     "data": {
      "application/vnd.jupyter.widget-view+json": {
       "model_id": "",
       "version_major": 2,
       "version_minor": 0
      },
      "text/plain": [
       "P2 loop:   0%|          | 0/23 [00:00<?, ?it/s]"
      ]
     },
     "metadata": {},
     "output_type": "display_data"
    },
    {
     "data": {
      "application/vnd.jupyter.widget-view+json": {
       "model_id": "",
       "version_major": 2,
       "version_minor": 0
      },
      "text/plain": [
       "P2 loop:   0%|          | 0/35 [00:00<?, ?it/s]"
      ]
     },
     "metadata": {},
     "output_type": "display_data"
    },
    {
     "data": {
      "application/vnd.jupyter.widget-view+json": {
       "model_id": "",
       "version_major": 2,
       "version_minor": 0
      },
      "text/plain": [
       "P2 loop:   0%|          | 0/30 [00:00<?, ?it/s]"
      ]
     },
     "metadata": {},
     "output_type": "display_data"
    },
    {
     "data": {
      "application/vnd.jupyter.widget-view+json": {
       "model_id": "",
       "version_major": 2,
       "version_minor": 0
      },
      "text/plain": [
       "P2 loop:   0%|          | 0/7 [00:00<?, ?it/s]"
      ]
     },
     "metadata": {},
     "output_type": "display_data"
    },
    {
     "data": {
      "application/vnd.jupyter.widget-view+json": {
       "model_id": "",
       "version_major": 2,
       "version_minor": 0
      },
      "text/plain": [
       "P2 loop:   0%|          | 0/39 [00:00<?, ?it/s]"
      ]
     },
     "metadata": {},
     "output_type": "display_data"
    },
    {
     "data": {
      "application/vnd.jupyter.widget-view+json": {
       "model_id": "",
       "version_major": 2,
       "version_minor": 0
      },
      "text/plain": [
       "P2 loop:   0%|          | 0/38 [00:00<?, ?it/s]"
      ]
     },
     "metadata": {},
     "output_type": "display_data"
    },
    {
     "data": {
      "application/vnd.jupyter.widget-view+json": {
       "model_id": "",
       "version_major": 2,
       "version_minor": 0
      },
      "text/plain": [
       "P2 loop:   0%|          | 0/38 [00:00<?, ?it/s]"
      ]
     },
     "metadata": {},
     "output_type": "display_data"
    },
    {
     "data": {
      "application/vnd.jupyter.widget-view+json": {
       "model_id": "",
       "version_major": 2,
       "version_minor": 0
      },
      "text/plain": [
       "P2 loop:   0%|          | 0/12 [00:00<?, ?it/s]"
      ]
     },
     "metadata": {},
     "output_type": "display_data"
    },
    {
     "data": {
      "application/vnd.jupyter.widget-view+json": {
       "model_id": "",
       "version_major": 2,
       "version_minor": 0
      },
      "text/plain": [
       "P2 loop:   0%|          | 0/35 [00:00<?, ?it/s]"
      ]
     },
     "metadata": {},
     "output_type": "display_data"
    },
    {
     "data": {
      "application/vnd.jupyter.widget-view+json": {
       "model_id": "",
       "version_major": 2,
       "version_minor": 0
      },
      "text/plain": [
       "P2 loop:   0%|          | 0/2 [00:00<?, ?it/s]"
      ]
     },
     "metadata": {},
     "output_type": "display_data"
    },
    {
     "data": {
      "application/vnd.jupyter.widget-view+json": {
       "model_id": "",
       "version_major": 2,
       "version_minor": 0
      },
      "text/plain": [
       "P2 loop:   0%|          | 0/32 [00:00<?, ?it/s]"
      ]
     },
     "metadata": {},
     "output_type": "display_data"
    },
    {
     "data": {
      "application/vnd.jupyter.widget-view+json": {
       "model_id": "",
       "version_major": 2,
       "version_minor": 0
      },
      "text/plain": [
       "P2 loop:   0%|          | 0/9 [00:00<?, ?it/s]"
      ]
     },
     "metadata": {},
     "output_type": "display_data"
    },
    {
     "data": {
      "application/vnd.jupyter.widget-view+json": {
       "model_id": "",
       "version_major": 2,
       "version_minor": 0
      },
      "text/plain": [
       "P2 loop:   0%|          | 0/3 [00:00<?, ?it/s]"
      ]
     },
     "metadata": {},
     "output_type": "display_data"
    },
    {
     "data": {
      "application/vnd.jupyter.widget-view+json": {
       "model_id": "",
       "version_major": 2,
       "version_minor": 0
      },
      "text/plain": [
       "P2 loop:   0%|          | 0/31 [00:00<?, ?it/s]"
      ]
     },
     "metadata": {},
     "output_type": "display_data"
    },
    {
     "data": {
      "application/vnd.jupyter.widget-view+json": {
       "model_id": "",
       "version_major": 2,
       "version_minor": 0
      },
      "text/plain": [
       "P2 loop:   0%|          | 0/27 [00:00<?, ?it/s]"
      ]
     },
     "metadata": {},
     "output_type": "display_data"
    },
    {
     "data": {
      "application/vnd.jupyter.widget-view+json": {
       "model_id": "",
       "version_major": 2,
       "version_minor": 0
      },
      "text/plain": [
       "P2 loop:   0%|          | 0/34 [00:00<?, ?it/s]"
      ]
     },
     "metadata": {},
     "output_type": "display_data"
    },
    {
     "data": {
      "application/vnd.jupyter.widget-view+json": {
       "model_id": "",
       "version_major": 2,
       "version_minor": 0
      },
      "text/plain": [
       "P2 loop:   0%|          | 0/34 [00:00<?, ?it/s]"
      ]
     },
     "metadata": {},
     "output_type": "display_data"
    },
    {
     "data": {
      "application/vnd.jupyter.widget-view+json": {
       "model_id": "",
       "version_major": 2,
       "version_minor": 0
      },
      "text/plain": [
       "P2 loop:   0%|          | 0/35 [00:00<?, ?it/s]"
      ]
     },
     "metadata": {},
     "output_type": "display_data"
    },
    {
     "data": {
      "application/vnd.jupyter.widget-view+json": {
       "model_id": "",
       "version_major": 2,
       "version_minor": 0
      },
      "text/plain": [
       "P2 loop:   0%|          | 0/34 [00:00<?, ?it/s]"
      ]
     },
     "metadata": {},
     "output_type": "display_data"
    },
    {
     "data": {
      "application/vnd.jupyter.widget-view+json": {
       "model_id": "",
       "version_major": 2,
       "version_minor": 0
      },
      "text/plain": [
       "P2 loop:   0%|          | 0/17 [00:00<?, ?it/s]"
      ]
     },
     "metadata": {},
     "output_type": "display_data"
    },
    {
     "data": {
      "application/vnd.jupyter.widget-view+json": {
       "model_id": "",
       "version_major": 2,
       "version_minor": 0
      },
      "text/plain": [
       "P2 loop:   0%|          | 0/32 [00:00<?, ?it/s]"
      ]
     },
     "metadata": {},
     "output_type": "display_data"
    },
    {
     "data": {
      "application/vnd.jupyter.widget-view+json": {
       "model_id": "",
       "version_major": 2,
       "version_minor": 0
      },
      "text/plain": [
       "P2 loop:   0%|          | 0/26 [00:00<?, ?it/s]"
      ]
     },
     "metadata": {},
     "output_type": "display_data"
    },
    {
     "data": {
      "application/vnd.jupyter.widget-view+json": {
       "model_id": "",
       "version_major": 2,
       "version_minor": 0
      },
      "text/plain": [
       "P2 loop:   0%|          | 0/32 [00:00<?, ?it/s]"
      ]
     },
     "metadata": {},
     "output_type": "display_data"
    },
    {
     "data": {
      "application/vnd.jupyter.widget-view+json": {
       "model_id": "",
       "version_major": 2,
       "version_minor": 0
      },
      "text/plain": [
       "P2 loop:   0%|          | 0/32 [00:00<?, ?it/s]"
      ]
     },
     "metadata": {},
     "output_type": "display_data"
    },
    {
     "data": {
      "application/vnd.jupyter.widget-view+json": {
       "model_id": "",
       "version_major": 2,
       "version_minor": 0
      },
      "text/plain": [
       "P2 loop:   0%|          | 0/32 [00:00<?, ?it/s]"
      ]
     },
     "metadata": {},
     "output_type": "display_data"
    },
    {
     "data": {
      "application/vnd.jupyter.widget-view+json": {
       "model_id": "",
       "version_major": 2,
       "version_minor": 0
      },
      "text/plain": [
       "P2 loop:   0%|          | 0/31 [00:00<?, ?it/s]"
      ]
     },
     "metadata": {},
     "output_type": "display_data"
    },
    {
     "data": {
      "application/vnd.jupyter.widget-view+json": {
       "model_id": "",
       "version_major": 2,
       "version_minor": 0
      },
      "text/plain": [
       "P2 loop:   0%|          | 0/25 [00:00<?, ?it/s]"
      ]
     },
     "metadata": {},
     "output_type": "display_data"
    },
    {
     "data": {
      "application/vnd.jupyter.widget-view+json": {
       "model_id": "",
       "version_major": 2,
       "version_minor": 0
      },
      "text/plain": [
       "P2 loop:   0%|          | 0/32 [00:00<?, ?it/s]"
      ]
     },
     "metadata": {},
     "output_type": "display_data"
    },
    {
     "data": {
      "application/vnd.jupyter.widget-view+json": {
       "model_id": "",
       "version_major": 2,
       "version_minor": 0
      },
      "text/plain": [
       "P2 loop:   0%|          | 0/23 [00:00<?, ?it/s]"
      ]
     },
     "metadata": {},
     "output_type": "display_data"
    },
    {
     "data": {
      "application/vnd.jupyter.widget-view+json": {
       "model_id": "",
       "version_major": 2,
       "version_minor": 0
      },
      "text/plain": [
       "P2 loop:   0%|          | 0/31 [00:00<?, ?it/s]"
      ]
     },
     "metadata": {},
     "output_type": "display_data"
    },
    {
     "data": {
      "application/vnd.jupyter.widget-view+json": {
       "model_id": "",
       "version_major": 2,
       "version_minor": 0
      },
      "text/plain": [
       "P2 loop:   0%|          | 0/31 [00:00<?, ?it/s]"
      ]
     },
     "metadata": {},
     "output_type": "display_data"
    },
    {
     "data": {
      "application/vnd.jupyter.widget-view+json": {
       "model_id": "",
       "version_major": 2,
       "version_minor": 0
      },
      "text/plain": [
       "P2 loop:   0%|          | 0/31 [00:00<?, ?it/s]"
      ]
     },
     "metadata": {},
     "output_type": "display_data"
    },
    {
     "data": {
      "application/vnd.jupyter.widget-view+json": {
       "model_id": "",
       "version_major": 2,
       "version_minor": 0
      },
      "text/plain": [
       "P2 loop:   0%|          | 0/12 [00:00<?, ?it/s]"
      ]
     },
     "metadata": {},
     "output_type": "display_data"
    },
    {
     "data": {
      "application/vnd.jupyter.widget-view+json": {
       "model_id": "",
       "version_major": 2,
       "version_minor": 0
      },
      "text/plain": [
       "P2 loop:   0%|          | 0/29 [00:00<?, ?it/s]"
      ]
     },
     "metadata": {},
     "output_type": "display_data"
    },
    {
     "data": {
      "application/vnd.jupyter.widget-view+json": {
       "model_id": "",
       "version_major": 2,
       "version_minor": 0
      },
      "text/plain": [
       "P2 loop:   0%|          | 0/31 [00:00<?, ?it/s]"
      ]
     },
     "metadata": {},
     "output_type": "display_data"
    },
    {
     "data": {
      "application/vnd.jupyter.widget-view+json": {
       "model_id": "",
       "version_major": 2,
       "version_minor": 0
      },
      "text/plain": [
       "P2 loop:   0%|          | 0/30 [00:00<?, ?it/s]"
      ]
     },
     "metadata": {},
     "output_type": "display_data"
    },
    {
     "data": {
      "application/vnd.jupyter.widget-view+json": {
       "model_id": "",
       "version_major": 2,
       "version_minor": 0
      },
      "text/plain": [
       "P2 loop:   0%|          | 0/31 [00:00<?, ?it/s]"
      ]
     },
     "metadata": {},
     "output_type": "display_data"
    },
    {
     "data": {
      "application/vnd.jupyter.widget-view+json": {
       "model_id": "",
       "version_major": 2,
       "version_minor": 0
      },
      "text/plain": [
       "P2 loop:   0%|          | 0/31 [00:00<?, ?it/s]"
      ]
     },
     "metadata": {},
     "output_type": "display_data"
    },
    {
     "data": {
      "application/vnd.jupyter.widget-view+json": {
       "model_id": "",
       "version_major": 2,
       "version_minor": 0
      },
      "text/plain": [
       "P2 loop:   0%|          | 0/31 [00:00<?, ?it/s]"
      ]
     },
     "metadata": {},
     "output_type": "display_data"
    },
    {
     "data": {
      "application/vnd.jupyter.widget-view+json": {
       "model_id": "",
       "version_major": 2,
       "version_minor": 0
      },
      "text/plain": [
       "P2 loop:   0%|          | 0/28 [00:00<?, ?it/s]"
      ]
     },
     "metadata": {},
     "output_type": "display_data"
    },
    {
     "data": {
      "application/vnd.jupyter.widget-view+json": {
       "model_id": "",
       "version_major": 2,
       "version_minor": 0
      },
      "text/plain": [
       "P2 loop:   0%|          | 0/29 [00:00<?, ?it/s]"
      ]
     },
     "metadata": {},
     "output_type": "display_data"
    },
    {
     "data": {
      "application/vnd.jupyter.widget-view+json": {
       "model_id": "",
       "version_major": 2,
       "version_minor": 0
      },
      "text/plain": [
       "P2 loop:   0%|          | 0/26 [00:00<?, ?it/s]"
      ]
     },
     "metadata": {},
     "output_type": "display_data"
    },
    {
     "data": {
      "application/vnd.jupyter.widget-view+json": {
       "model_id": "",
       "version_major": 2,
       "version_minor": 0
      },
      "text/plain": [
       "P2 loop:   0%|          | 0/28 [00:00<?, ?it/s]"
      ]
     },
     "metadata": {},
     "output_type": "display_data"
    },
    {
     "data": {
      "application/vnd.jupyter.widget-view+json": {
       "model_id": "",
       "version_major": 2,
       "version_minor": 0
      },
      "text/plain": [
       "P2 loop:   0%|          | 0/26 [00:00<?, ?it/s]"
      ]
     },
     "metadata": {},
     "output_type": "display_data"
    },
    {
     "data": {
      "application/vnd.jupyter.widget-view+json": {
       "model_id": "",
       "version_major": 2,
       "version_minor": 0
      },
      "text/plain": [
       "P2 loop:   0%|          | 0/29 [00:00<?, ?it/s]"
      ]
     },
     "metadata": {},
     "output_type": "display_data"
    },
    {
     "data": {
      "application/vnd.jupyter.widget-view+json": {
       "model_id": "",
       "version_major": 2,
       "version_minor": 0
      },
      "text/plain": [
       "P2 loop:   0%|          | 0/22 [00:00<?, ?it/s]"
      ]
     },
     "metadata": {},
     "output_type": "display_data"
    },
    {
     "data": {
      "application/vnd.jupyter.widget-view+json": {
       "model_id": "",
       "version_major": 2,
       "version_minor": 0
      },
      "text/plain": [
       "P2 loop:   0%|          | 0/29 [00:00<?, ?it/s]"
      ]
     },
     "metadata": {},
     "output_type": "display_data"
    },
    {
     "data": {
      "application/vnd.jupyter.widget-view+json": {
       "model_id": "",
       "version_major": 2,
       "version_minor": 0
      },
      "text/plain": [
       "P2 loop:   0%|          | 0/29 [00:00<?, ?it/s]"
      ]
     },
     "metadata": {},
     "output_type": "display_data"
    },
    {
     "data": {
      "application/vnd.jupyter.widget-view+json": {
       "model_id": "",
       "version_major": 2,
       "version_minor": 0
      },
      "text/plain": [
       "P2 loop:   0%|          | 0/22 [00:00<?, ?it/s]"
      ]
     },
     "metadata": {},
     "output_type": "display_data"
    },
    {
     "data": {
      "application/vnd.jupyter.widget-view+json": {
       "model_id": "",
       "version_major": 2,
       "version_minor": 0
      },
      "text/plain": [
       "P2 loop:   0%|          | 0/13 [00:00<?, ?it/s]"
      ]
     },
     "metadata": {},
     "output_type": "display_data"
    },
    {
     "data": {
      "application/vnd.jupyter.widget-view+json": {
       "model_id": "",
       "version_major": 2,
       "version_minor": 0
      },
      "text/plain": [
       "P2 loop:   0%|          | 0/15 [00:00<?, ?it/s]"
      ]
     },
     "metadata": {},
     "output_type": "display_data"
    },
    {
     "data": {
      "application/vnd.jupyter.widget-view+json": {
       "model_id": "",
       "version_major": 2,
       "version_minor": 0
      },
      "text/plain": [
       "P2 loop:   0%|          | 0/25 [00:00<?, ?it/s]"
      ]
     },
     "metadata": {},
     "output_type": "display_data"
    },
    {
     "data": {
      "application/vnd.jupyter.widget-view+json": {
       "model_id": "",
       "version_major": 2,
       "version_minor": 0
      },
      "text/plain": [
       "P2 loop:   0%|          | 0/29 [00:00<?, ?it/s]"
      ]
     },
     "metadata": {},
     "output_type": "display_data"
    },
    {
     "data": {
      "application/vnd.jupyter.widget-view+json": {
       "model_id": "",
       "version_major": 2,
       "version_minor": 0
      },
      "text/plain": [
       "P2 loop:   0%|          | 0/24 [00:00<?, ?it/s]"
      ]
     },
     "metadata": {},
     "output_type": "display_data"
    },
    {
     "data": {
      "application/vnd.jupyter.widget-view+json": {
       "model_id": "",
       "version_major": 2,
       "version_minor": 0
      },
      "text/plain": [
       "P2 loop:   0%|          | 0/29 [00:00<?, ?it/s]"
      ]
     },
     "metadata": {},
     "output_type": "display_data"
    },
    {
     "data": {
      "application/vnd.jupyter.widget-view+json": {
       "model_id": "",
       "version_major": 2,
       "version_minor": 0
      },
      "text/plain": [
       "P2 loop:   0%|          | 0/20 [00:00<?, ?it/s]"
      ]
     },
     "metadata": {},
     "output_type": "display_data"
    },
    {
     "data": {
      "application/vnd.jupyter.widget-view+json": {
       "model_id": "",
       "version_major": 2,
       "version_minor": 0
      },
      "text/plain": [
       "P2 loop:   0%|          | 0/22 [00:00<?, ?it/s]"
      ]
     },
     "metadata": {},
     "output_type": "display_data"
    },
    {
     "data": {
      "application/vnd.jupyter.widget-view+json": {
       "model_id": "",
       "version_major": 2,
       "version_minor": 0
      },
      "text/plain": [
       "P2 loop:   0%|          | 0/21 [00:00<?, ?it/s]"
      ]
     },
     "metadata": {},
     "output_type": "display_data"
    },
    {
     "data": {
      "application/vnd.jupyter.widget-view+json": {
       "model_id": "",
       "version_major": 2,
       "version_minor": 0
      },
      "text/plain": [
       "P2 loop:   0%|          | 0/21 [00:00<?, ?it/s]"
      ]
     },
     "metadata": {},
     "output_type": "display_data"
    },
    {
     "data": {
      "application/vnd.jupyter.widget-view+json": {
       "model_id": "",
       "version_major": 2,
       "version_minor": 0
      },
      "text/plain": [
       "P2 loop:   0%|          | 0/17 [00:00<?, ?it/s]"
      ]
     },
     "metadata": {},
     "output_type": "display_data"
    },
    {
     "data": {
      "application/vnd.jupyter.widget-view+json": {
       "model_id": "",
       "version_major": 2,
       "version_minor": 0
      },
      "text/plain": [
       "Predicate loop:   0%|          | 0/43 [00:00<?, ?it/s]"
      ]
     },
     "metadata": {},
     "output_type": "display_data"
    },
    {
     "data": {
      "application/vnd.jupyter.widget-view+json": {
       "model_id": "",
       "version_major": 2,
       "version_minor": 0
      },
      "text/plain": [
       "P2 loop:   0%|          | 0/15 [00:00<?, ?it/s]"
      ]
     },
     "metadata": {},
     "output_type": "display_data"
    },
    {
     "data": {
      "application/vnd.jupyter.widget-view+json": {
       "model_id": "",
       "version_major": 2,
       "version_minor": 0
      },
      "text/plain": [
       "P2 loop:   0%|          | 0/24 [00:00<?, ?it/s]"
      ]
     },
     "metadata": {},
     "output_type": "display_data"
    },
    {
     "data": {
      "application/vnd.jupyter.widget-view+json": {
       "model_id": "",
       "version_major": 2,
       "version_minor": 0
      },
      "text/plain": [
       "P2 loop:   0%|          | 0/24 [00:00<?, ?it/s]"
      ]
     },
     "metadata": {},
     "output_type": "display_data"
    },
    {
     "data": {
      "application/vnd.jupyter.widget-view+json": {
       "model_id": "",
       "version_major": 2,
       "version_minor": 0
      },
      "text/plain": [
       "P2 loop:   0%|          | 0/25 [00:00<?, ?it/s]"
      ]
     },
     "metadata": {},
     "output_type": "display_data"
    },
    {
     "data": {
      "application/vnd.jupyter.widget-view+json": {
       "model_id": "",
       "version_major": 2,
       "version_minor": 0
      },
      "text/plain": [
       "P2 loop:   0%|          | 0/62 [00:00<?, ?it/s]"
      ]
     },
     "metadata": {},
     "output_type": "display_data"
    },
    {
     "data": {
      "application/vnd.jupyter.widget-view+json": {
       "model_id": "",
       "version_major": 2,
       "version_minor": 0
      },
      "text/plain": [
       "P2 loop:   0%|          | 0/61 [00:00<?, ?it/s]"
      ]
     },
     "metadata": {},
     "output_type": "display_data"
    },
    {
     "data": {
      "application/vnd.jupyter.widget-view+json": {
       "model_id": "",
       "version_major": 2,
       "version_minor": 0
      },
      "text/plain": [
       "P2 loop:   0%|          | 0/18 [00:00<?, ?it/s]"
      ]
     },
     "metadata": {},
     "output_type": "display_data"
    },
    {
     "data": {
      "application/vnd.jupyter.widget-view+json": {
       "model_id": "",
       "version_major": 2,
       "version_minor": 0
      },
      "text/plain": [
       "P2 loop:   0%|          | 0/8 [00:00<?, ?it/s]"
      ]
     },
     "metadata": {},
     "output_type": "display_data"
    },
    {
     "data": {
      "application/vnd.jupyter.widget-view+json": {
       "model_id": "",
       "version_major": 2,
       "version_minor": 0
      },
      "text/plain": [
       "P2 loop:   0%|          | 0/8 [00:00<?, ?it/s]"
      ]
     },
     "metadata": {},
     "output_type": "display_data"
    },
    {
     "data": {
      "application/vnd.jupyter.widget-view+json": {
       "model_id": "",
       "version_major": 2,
       "version_minor": 0
      },
      "text/plain": [
       "P2 loop:   0%|          | 0/58 [00:00<?, ?it/s]"
      ]
     },
     "metadata": {},
     "output_type": "display_data"
    },
    {
     "data": {
      "application/vnd.jupyter.widget-view+json": {
       "model_id": "",
       "version_major": 2,
       "version_minor": 0
      },
      "text/plain": [
       "P2 loop:   0%|          | 0/7 [00:00<?, ?it/s]"
      ]
     },
     "metadata": {},
     "output_type": "display_data"
    },
    {
     "data": {
      "application/vnd.jupyter.widget-view+json": {
       "model_id": "",
       "version_major": 2,
       "version_minor": 0
      },
      "text/plain": [
       "P2 loop:   0%|          | 0/7 [00:00<?, ?it/s]"
      ]
     },
     "metadata": {},
     "output_type": "display_data"
    },
    {
     "data": {
      "application/vnd.jupyter.widget-view+json": {
       "model_id": "",
       "version_major": 2,
       "version_minor": 0
      },
      "text/plain": [
       "P2 loop:   0%|          | 0/8 [00:00<?, ?it/s]"
      ]
     },
     "metadata": {},
     "output_type": "display_data"
    },
    {
     "data": {
      "application/vnd.jupyter.widget-view+json": {
       "model_id": "",
       "version_major": 2,
       "version_minor": 0
      },
      "text/plain": [
       "P2 loop:   0%|          | 0/8 [00:00<?, ?it/s]"
      ]
     },
     "metadata": {},
     "output_type": "display_data"
    },
    {
     "data": {
      "application/vnd.jupyter.widget-view+json": {
       "model_id": "",
       "version_major": 2,
       "version_minor": 0
      },
      "text/plain": [
       "P2 loop:   0%|          | 0/59 [00:00<?, ?it/s]"
      ]
     },
     "metadata": {},
     "output_type": "display_data"
    },
    {
     "data": {
      "application/vnd.jupyter.widget-view+json": {
       "model_id": "",
       "version_major": 2,
       "version_minor": 0
      },
      "text/plain": [
       "P2 loop:   0%|          | 0/56 [00:00<?, ?it/s]"
      ]
     },
     "metadata": {},
     "output_type": "display_data"
    },
    {
     "data": {
      "application/vnd.jupyter.widget-view+json": {
       "model_id": "",
       "version_major": 2,
       "version_minor": 0
      },
      "text/plain": [
       "P2 loop:   0%|          | 0/60 [00:00<?, ?it/s]"
      ]
     },
     "metadata": {},
     "output_type": "display_data"
    },
    {
     "data": {
      "application/vnd.jupyter.widget-view+json": {
       "model_id": "",
       "version_major": 2,
       "version_minor": 0
      },
      "text/plain": [
       "P2 loop:   0%|          | 0/3 [00:00<?, ?it/s]"
      ]
     },
     "metadata": {},
     "output_type": "display_data"
    },
    {
     "data": {
      "application/vnd.jupyter.widget-view+json": {
       "model_id": "",
       "version_major": 2,
       "version_minor": 0
      },
      "text/plain": [
       "P2 loop:   0%|          | 0/45 [00:00<?, ?it/s]"
      ]
     },
     "metadata": {},
     "output_type": "display_data"
    },
    {
     "data": {
      "application/vnd.jupyter.widget-view+json": {
       "model_id": "",
       "version_major": 2,
       "version_minor": 0
      },
      "text/plain": [
       "P2 loop:   0%|          | 0/59 [00:00<?, ?it/s]"
      ]
     },
     "metadata": {},
     "output_type": "display_data"
    },
    {
     "data": {
      "application/vnd.jupyter.widget-view+json": {
       "model_id": "",
       "version_major": 2,
       "version_minor": 0
      },
      "text/plain": [
       "P2 loop:   0%|          | 0/46 [00:00<?, ?it/s]"
      ]
     },
     "metadata": {},
     "output_type": "display_data"
    },
    {
     "data": {
      "application/vnd.jupyter.widget-view+json": {
       "model_id": "",
       "version_major": 2,
       "version_minor": 0
      },
      "text/plain": [
       "P2 loop:   0%|          | 0/57 [00:00<?, ?it/s]"
      ]
     },
     "metadata": {},
     "output_type": "display_data"
    },
    {
     "data": {
      "application/vnd.jupyter.widget-view+json": {
       "model_id": "",
       "version_major": 2,
       "version_minor": 0
      },
      "text/plain": [
       "P2 loop:   0%|          | 0/58 [00:00<?, ?it/s]"
      ]
     },
     "metadata": {},
     "output_type": "display_data"
    },
    {
     "data": {
      "application/vnd.jupyter.widget-view+json": {
       "model_id": "",
       "version_major": 2,
       "version_minor": 0
      },
      "text/plain": [
       "P2 loop:   0%|          | 0/58 [00:00<?, ?it/s]"
      ]
     },
     "metadata": {},
     "output_type": "display_data"
    },
    {
     "data": {
      "application/vnd.jupyter.widget-view+json": {
       "model_id": "",
       "version_major": 2,
       "version_minor": 0
      },
      "text/plain": [
       "P2 loop:   0%|          | 0/58 [00:00<?, ?it/s]"
      ]
     },
     "metadata": {},
     "output_type": "display_data"
    },
    {
     "data": {
      "application/vnd.jupyter.widget-view+json": {
       "model_id": "",
       "version_major": 2,
       "version_minor": 0
      },
      "text/plain": [
       "P2 loop:   0%|          | 0/57 [00:00<?, ?it/s]"
      ]
     },
     "metadata": {},
     "output_type": "display_data"
    },
    {
     "data": {
      "application/vnd.jupyter.widget-view+json": {
       "model_id": "",
       "version_major": 2,
       "version_minor": 0
      },
      "text/plain": [
       "P2 loop:   0%|          | 0/50 [00:00<?, ?it/s]"
      ]
     },
     "metadata": {},
     "output_type": "display_data"
    },
    {
     "data": {
      "application/vnd.jupyter.widget-view+json": {
       "model_id": "",
       "version_major": 2,
       "version_minor": 0
      },
      "text/plain": [
       "P2 loop:   0%|          | 0/55 [00:00<?, ?it/s]"
      ]
     },
     "metadata": {},
     "output_type": "display_data"
    },
    {
     "data": {
      "application/vnd.jupyter.widget-view+json": {
       "model_id": "",
       "version_major": 2,
       "version_minor": 0
      },
      "text/plain": [
       "P2 loop:   0%|          | 0/57 [00:00<?, ?it/s]"
      ]
     },
     "metadata": {},
     "output_type": "display_data"
    },
    {
     "data": {
      "application/vnd.jupyter.widget-view+json": {
       "model_id": "",
       "version_major": 2,
       "version_minor": 0
      },
      "text/plain": [
       "P2 loop:   0%|          | 0/56 [00:00<?, ?it/s]"
      ]
     },
     "metadata": {},
     "output_type": "display_data"
    },
    {
     "data": {
      "application/vnd.jupyter.widget-view+json": {
       "model_id": "",
       "version_major": 2,
       "version_minor": 0
      },
      "text/plain": [
       "P2 loop:   0%|          | 0/40 [00:00<?, ?it/s]"
      ]
     },
     "metadata": {},
     "output_type": "display_data"
    },
    {
     "data": {
      "application/vnd.jupyter.widget-view+json": {
       "model_id": "",
       "version_major": 2,
       "version_minor": 0
      },
      "text/plain": [
       "P2 loop:   0%|          | 0/47 [00:00<?, ?it/s]"
      ]
     },
     "metadata": {},
     "output_type": "display_data"
    },
    {
     "data": {
      "application/vnd.jupyter.widget-view+json": {
       "model_id": "",
       "version_major": 2,
       "version_minor": 0
      },
      "text/plain": [
       "P2 loop:   0%|          | 0/56 [00:00<?, ?it/s]"
      ]
     },
     "metadata": {},
     "output_type": "display_data"
    },
    {
     "data": {
      "application/vnd.jupyter.widget-view+json": {
       "model_id": "",
       "version_major": 2,
       "version_minor": 0
      },
      "text/plain": [
       "P2 loop:   0%|          | 0/26 [00:00<?, ?it/s]"
      ]
     },
     "metadata": {},
     "output_type": "display_data"
    },
    {
     "data": {
      "application/vnd.jupyter.widget-view+json": {
       "model_id": "",
       "version_major": 2,
       "version_minor": 0
      },
      "text/plain": [
       "P2 loop:   0%|          | 0/53 [00:00<?, ?it/s]"
      ]
     },
     "metadata": {},
     "output_type": "display_data"
    },
    {
     "data": {
      "application/vnd.jupyter.widget-view+json": {
       "model_id": "",
       "version_major": 2,
       "version_minor": 0
      },
      "text/plain": [
       "P2 loop:   0%|          | 0/54 [00:00<?, ?it/s]"
      ]
     },
     "metadata": {},
     "output_type": "display_data"
    },
    {
     "data": {
      "application/vnd.jupyter.widget-view+json": {
       "model_id": "",
       "version_major": 2,
       "version_minor": 0
      },
      "text/plain": [
       "P2 loop:   0%|          | 0/36 [00:00<?, ?it/s]"
      ]
     },
     "metadata": {},
     "output_type": "display_data"
    },
    {
     "data": {
      "application/vnd.jupyter.widget-view+json": {
       "model_id": "",
       "version_major": 2,
       "version_minor": 0
      },
      "text/plain": [
       "P2 loop:   0%|          | 0/50 [00:00<?, ?it/s]"
      ]
     },
     "metadata": {},
     "output_type": "display_data"
    },
    {
     "data": {
      "application/vnd.jupyter.widget-view+json": {
       "model_id": "",
       "version_major": 2,
       "version_minor": 0
      },
      "text/plain": [
       "P2 loop:   0%|          | 0/36 [00:00<?, ?it/s]"
      ]
     },
     "metadata": {},
     "output_type": "display_data"
    },
    {
     "data": {
      "application/vnd.jupyter.widget-view+json": {
       "model_id": "",
       "version_major": 2,
       "version_minor": 0
      },
      "text/plain": [
       "P2 loop:   0%|          | 0/31 [00:00<?, ?it/s]"
      ]
     },
     "metadata": {},
     "output_type": "display_data"
    },
    {
     "data": {
      "application/vnd.jupyter.widget-view+json": {
       "model_id": "",
       "version_major": 2,
       "version_minor": 0
      },
      "text/plain": [
       "P2 loop:   0%|          | 0/38 [00:00<?, ?it/s]"
      ]
     },
     "metadata": {},
     "output_type": "display_data"
    },
    {
     "data": {
      "application/vnd.jupyter.widget-view+json": {
       "model_id": "",
       "version_major": 2,
       "version_minor": 0
      },
      "text/plain": [
       "P2 loop:   0%|          | 0/41 [00:00<?, ?it/s]"
      ]
     },
     "metadata": {},
     "output_type": "display_data"
    },
    {
     "data": {
      "application/vnd.jupyter.widget-view+json": {
       "model_id": "",
       "version_major": 2,
       "version_minor": 0
      },
      "text/plain": [
       "P2 loop:   0%|          | 0/36 [00:00<?, ?it/s]"
      ]
     },
     "metadata": {},
     "output_type": "display_data"
    },
    {
     "data": {
      "application/vnd.jupyter.widget-view+json": {
       "model_id": "",
       "version_major": 2,
       "version_minor": 0
      },
      "text/plain": [
       "Attribute loop:   0%|          | 0/8072 [00:00<?, ?it/s]"
      ]
     },
     "metadata": {},
     "output_type": "display_data"
    },
    {
     "data": {
      "application/vnd.jupyter.widget-view+json": {
       "model_id": "",
       "version_major": 2,
       "version_minor": 0
      },
      "text/plain": [
       "neighbor loop:   0%|          | 0/8851 [00:00<?, ?it/s]"
      ]
     },
     "metadata": {},
     "output_type": "display_data"
    },
    {
     "data": {
      "application/vnd.jupyter.widget-view+json": {
       "model_id": "",
       "version_major": 2,
       "version_minor": 0
      },
      "text/plain": [
       "Predicate loop:   0%|          | 0/65 [00:00<?, ?it/s]"
      ]
     },
     "metadata": {},
     "output_type": "display_data"
    },
    {
     "data": {
      "application/vnd.jupyter.widget-view+json": {
       "model_id": "",
       "version_major": 2,
       "version_minor": 0
      },
      "text/plain": [
       "P2 loop:   0%|          | 0/23 [00:00<?, ?it/s]"
      ]
     },
     "metadata": {},
     "output_type": "display_data"
    },
    {
     "data": {
      "application/vnd.jupyter.widget-view+json": {
       "model_id": "",
       "version_major": 2,
       "version_minor": 0
      },
      "text/plain": [
       "P2 loop:   0%|          | 0/18 [00:00<?, ?it/s]"
      ]
     },
     "metadata": {},
     "output_type": "display_data"
    },
    {
     "data": {
      "application/vnd.jupyter.widget-view+json": {
       "model_id": "",
       "version_major": 2,
       "version_minor": 0
      },
      "text/plain": [
       "P2 loop:   0%|          | 0/21 [00:00<?, ?it/s]"
      ]
     },
     "metadata": {},
     "output_type": "display_data"
    },
    {
     "data": {
      "application/vnd.jupyter.widget-view+json": {
       "model_id": "",
       "version_major": 2,
       "version_minor": 0
      },
      "text/plain": [
       "P2 loop:   0%|          | 0/41 [00:00<?, ?it/s]"
      ]
     },
     "metadata": {},
     "output_type": "display_data"
    },
    {
     "data": {
      "application/vnd.jupyter.widget-view+json": {
       "model_id": "",
       "version_major": 2,
       "version_minor": 0
      },
      "text/plain": [
       "P2 loop:   0%|          | 0/36 [00:00<?, ?it/s]"
      ]
     },
     "metadata": {},
     "output_type": "display_data"
    },
    {
     "data": {
      "application/vnd.jupyter.widget-view+json": {
       "model_id": "",
       "version_major": 2,
       "version_minor": 0
      },
      "text/plain": [
       "P2 loop:   0%|          | 0/23 [00:00<?, ?it/s]"
      ]
     },
     "metadata": {},
     "output_type": "display_data"
    },
    {
     "data": {
      "application/vnd.jupyter.widget-view+json": {
       "model_id": "",
       "version_major": 2,
       "version_minor": 0
      },
      "text/plain": [
       "P2 loop:   0%|          | 0/35 [00:00<?, ?it/s]"
      ]
     },
     "metadata": {},
     "output_type": "display_data"
    },
    {
     "data": {
      "application/vnd.jupyter.widget-view+json": {
       "model_id": "",
       "version_major": 2,
       "version_minor": 0
      },
      "text/plain": [
       "P2 loop:   0%|          | 0/32 [00:00<?, ?it/s]"
      ]
     },
     "metadata": {},
     "output_type": "display_data"
    },
    {
     "data": {
      "application/vnd.jupyter.widget-view+json": {
       "model_id": "",
       "version_major": 2,
       "version_minor": 0
      },
      "text/plain": [
       "P2 loop:   0%|          | 0/7 [00:00<?, ?it/s]"
      ]
     },
     "metadata": {},
     "output_type": "display_data"
    },
    {
     "data": {
      "application/vnd.jupyter.widget-view+json": {
       "model_id": "",
       "version_major": 2,
       "version_minor": 0
      },
      "text/plain": [
       "P2 loop:   0%|          | 0/39 [00:00<?, ?it/s]"
      ]
     },
     "metadata": {},
     "output_type": "display_data"
    },
    {
     "data": {
      "application/vnd.jupyter.widget-view+json": {
       "model_id": "",
       "version_major": 2,
       "version_minor": 0
      },
      "text/plain": [
       "P2 loop:   0%|          | 0/38 [00:00<?, ?it/s]"
      ]
     },
     "metadata": {},
     "output_type": "display_data"
    },
    {
     "data": {
      "application/vnd.jupyter.widget-view+json": {
       "model_id": "",
       "version_major": 2,
       "version_minor": 0
      },
      "text/plain": [
       "P2 loop:   0%|          | 0/38 [00:00<?, ?it/s]"
      ]
     },
     "metadata": {},
     "output_type": "display_data"
    },
    {
     "data": {
      "application/vnd.jupyter.widget-view+json": {
       "model_id": "",
       "version_major": 2,
       "version_minor": 0
      },
      "text/plain": [
       "P2 loop:   0%|          | 0/12 [00:00<?, ?it/s]"
      ]
     },
     "metadata": {},
     "output_type": "display_data"
    },
    {
     "data": {
      "application/vnd.jupyter.widget-view+json": {
       "model_id": "",
       "version_major": 2,
       "version_minor": 0
      },
      "text/plain": [
       "P2 loop:   0%|          | 0/35 [00:00<?, ?it/s]"
      ]
     },
     "metadata": {},
     "output_type": "display_data"
    },
    {
     "data": {
      "application/vnd.jupyter.widget-view+json": {
       "model_id": "",
       "version_major": 2,
       "version_minor": 0
      },
      "text/plain": [
       "P2 loop:   0%|          | 0/2 [00:00<?, ?it/s]"
      ]
     },
     "metadata": {},
     "output_type": "display_data"
    },
    {
     "data": {
      "application/vnd.jupyter.widget-view+json": {
       "model_id": "",
       "version_major": 2,
       "version_minor": 0
      },
      "text/plain": [
       "P2 loop:   0%|          | 0/32 [00:00<?, ?it/s]"
      ]
     },
     "metadata": {},
     "output_type": "display_data"
    },
    {
     "data": {
      "application/vnd.jupyter.widget-view+json": {
       "model_id": "",
       "version_major": 2,
       "version_minor": 0
      },
      "text/plain": [
       "P2 loop:   0%|          | 0/9 [00:00<?, ?it/s]"
      ]
     },
     "metadata": {},
     "output_type": "display_data"
    },
    {
     "data": {
      "application/vnd.jupyter.widget-view+json": {
       "model_id": "",
       "version_major": 2,
       "version_minor": 0
      },
      "text/plain": [
       "P2 loop:   0%|          | 0/3 [00:00<?, ?it/s]"
      ]
     },
     "metadata": {},
     "output_type": "display_data"
    },
    {
     "data": {
      "application/vnd.jupyter.widget-view+json": {
       "model_id": "",
       "version_major": 2,
       "version_minor": 0
      },
      "text/plain": [
       "P2 loop:   0%|          | 0/31 [00:00<?, ?it/s]"
      ]
     },
     "metadata": {},
     "output_type": "display_data"
    },
    {
     "data": {
      "application/vnd.jupyter.widget-view+json": {
       "model_id": "",
       "version_major": 2,
       "version_minor": 0
      },
      "text/plain": [
       "P2 loop:   0%|          | 0/27 [00:00<?, ?it/s]"
      ]
     },
     "metadata": {},
     "output_type": "display_data"
    },
    {
     "data": {
      "application/vnd.jupyter.widget-view+json": {
       "model_id": "",
       "version_major": 2,
       "version_minor": 0
      },
      "text/plain": [
       "P2 loop:   0%|          | 0/34 [00:00<?, ?it/s]"
      ]
     },
     "metadata": {},
     "output_type": "display_data"
    },
    {
     "data": {
      "application/vnd.jupyter.widget-view+json": {
       "model_id": "",
       "version_major": 2,
       "version_minor": 0
      },
      "text/plain": [
       "P2 loop:   0%|          | 0/34 [00:00<?, ?it/s]"
      ]
     },
     "metadata": {},
     "output_type": "display_data"
    },
    {
     "data": {
      "application/vnd.jupyter.widget-view+json": {
       "model_id": "",
       "version_major": 2,
       "version_minor": 0
      },
      "text/plain": [
       "P2 loop:   0%|          | 0/35 [00:00<?, ?it/s]"
      ]
     },
     "metadata": {},
     "output_type": "display_data"
    },
    {
     "data": {
      "application/vnd.jupyter.widget-view+json": {
       "model_id": "",
       "version_major": 2,
       "version_minor": 0
      },
      "text/plain": [
       "P2 loop:   0%|          | 0/34 [00:00<?, ?it/s]"
      ]
     },
     "metadata": {},
     "output_type": "display_data"
    },
    {
     "data": {
      "application/vnd.jupyter.widget-view+json": {
       "model_id": "",
       "version_major": 2,
       "version_minor": 0
      },
      "text/plain": [
       "P2 loop:   0%|          | 0/17 [00:00<?, ?it/s]"
      ]
     },
     "metadata": {},
     "output_type": "display_data"
    },
    {
     "data": {
      "application/vnd.jupyter.widget-view+json": {
       "model_id": "",
       "version_major": 2,
       "version_minor": 0
      },
      "text/plain": [
       "P2 loop:   0%|          | 0/32 [00:00<?, ?it/s]"
      ]
     },
     "metadata": {},
     "output_type": "display_data"
    },
    {
     "data": {
      "application/vnd.jupyter.widget-view+json": {
       "model_id": "",
       "version_major": 2,
       "version_minor": 0
      },
      "text/plain": [
       "P2 loop:   0%|          | 0/26 [00:00<?, ?it/s]"
      ]
     },
     "metadata": {},
     "output_type": "display_data"
    },
    {
     "data": {
      "application/vnd.jupyter.widget-view+json": {
       "model_id": "",
       "version_major": 2,
       "version_minor": 0
      },
      "text/plain": [
       "P2 loop:   0%|          | 0/32 [00:00<?, ?it/s]"
      ]
     },
     "metadata": {},
     "output_type": "display_data"
    },
    {
     "data": {
      "application/vnd.jupyter.widget-view+json": {
       "model_id": "",
       "version_major": 2,
       "version_minor": 0
      },
      "text/plain": [
       "P2 loop:   0%|          | 0/32 [00:00<?, ?it/s]"
      ]
     },
     "metadata": {},
     "output_type": "display_data"
    },
    {
     "data": {
      "application/vnd.jupyter.widget-view+json": {
       "model_id": "",
       "version_major": 2,
       "version_minor": 0
      },
      "text/plain": [
       "P2 loop:   0%|          | 0/32 [00:00<?, ?it/s]"
      ]
     },
     "metadata": {},
     "output_type": "display_data"
    },
    {
     "data": {
      "application/vnd.jupyter.widget-view+json": {
       "model_id": "",
       "version_major": 2,
       "version_minor": 0
      },
      "text/plain": [
       "P2 loop:   0%|          | 0/31 [00:00<?, ?it/s]"
      ]
     },
     "metadata": {},
     "output_type": "display_data"
    },
    {
     "data": {
      "application/vnd.jupyter.widget-view+json": {
       "model_id": "",
       "version_major": 2,
       "version_minor": 0
      },
      "text/plain": [
       "P2 loop:   0%|          | 0/25 [00:00<?, ?it/s]"
      ]
     },
     "metadata": {},
     "output_type": "display_data"
    },
    {
     "data": {
      "application/vnd.jupyter.widget-view+json": {
       "model_id": "",
       "version_major": 2,
       "version_minor": 0
      },
      "text/plain": [
       "P2 loop:   0%|          | 0/32 [00:00<?, ?it/s]"
      ]
     },
     "metadata": {},
     "output_type": "display_data"
    },
    {
     "data": {
      "application/vnd.jupyter.widget-view+json": {
       "model_id": "",
       "version_major": 2,
       "version_minor": 0
      },
      "text/plain": [
       "P2 loop:   0%|          | 0/24 [00:00<?, ?it/s]"
      ]
     },
     "metadata": {},
     "output_type": "display_data"
    },
    {
     "data": {
      "application/vnd.jupyter.widget-view+json": {
       "model_id": "",
       "version_major": 2,
       "version_minor": 0
      },
      "text/plain": [
       "P2 loop:   0%|          | 0/31 [00:00<?, ?it/s]"
      ]
     },
     "metadata": {},
     "output_type": "display_data"
    },
    {
     "data": {
      "application/vnd.jupyter.widget-view+json": {
       "model_id": "",
       "version_major": 2,
       "version_minor": 0
      },
      "text/plain": [
       "P2 loop:   0%|          | 0/31 [00:00<?, ?it/s]"
      ]
     },
     "metadata": {},
     "output_type": "display_data"
    },
    {
     "data": {
      "application/vnd.jupyter.widget-view+json": {
       "model_id": "",
       "version_major": 2,
       "version_minor": 0
      },
      "text/plain": [
       "P2 loop:   0%|          | 0/31 [00:00<?, ?it/s]"
      ]
     },
     "metadata": {},
     "output_type": "display_data"
    },
    {
     "data": {
      "application/vnd.jupyter.widget-view+json": {
       "model_id": "",
       "version_major": 2,
       "version_minor": 0
      },
      "text/plain": [
       "P2 loop:   0%|          | 0/12 [00:00<?, ?it/s]"
      ]
     },
     "metadata": {},
     "output_type": "display_data"
    },
    {
     "data": {
      "application/vnd.jupyter.widget-view+json": {
       "model_id": "",
       "version_major": 2,
       "version_minor": 0
      },
      "text/plain": [
       "P2 loop:   0%|          | 0/29 [00:00<?, ?it/s]"
      ]
     },
     "metadata": {},
     "output_type": "display_data"
    },
    {
     "data": {
      "application/vnd.jupyter.widget-view+json": {
       "model_id": "",
       "version_major": 2,
       "version_minor": 0
      },
      "text/plain": [
       "P2 loop:   0%|          | 0/31 [00:00<?, ?it/s]"
      ]
     },
     "metadata": {},
     "output_type": "display_data"
    },
    {
     "data": {
      "application/vnd.jupyter.widget-view+json": {
       "model_id": "",
       "version_major": 2,
       "version_minor": 0
      },
      "text/plain": [
       "P2 loop:   0%|          | 0/30 [00:00<?, ?it/s]"
      ]
     },
     "metadata": {},
     "output_type": "display_data"
    },
    {
     "data": {
      "application/vnd.jupyter.widget-view+json": {
       "model_id": "",
       "version_major": 2,
       "version_minor": 0
      },
      "text/plain": [
       "P2 loop:   0%|          | 0/31 [00:00<?, ?it/s]"
      ]
     },
     "metadata": {},
     "output_type": "display_data"
    },
    {
     "data": {
      "application/vnd.jupyter.widget-view+json": {
       "model_id": "",
       "version_major": 2,
       "version_minor": 0
      },
      "text/plain": [
       "P2 loop:   0%|          | 0/31 [00:00<?, ?it/s]"
      ]
     },
     "metadata": {},
     "output_type": "display_data"
    },
    {
     "data": {
      "application/vnd.jupyter.widget-view+json": {
       "model_id": "",
       "version_major": 2,
       "version_minor": 0
      },
      "text/plain": [
       "P2 loop:   0%|          | 0/31 [00:00<?, ?it/s]"
      ]
     },
     "metadata": {},
     "output_type": "display_data"
    },
    {
     "data": {
      "application/vnd.jupyter.widget-view+json": {
       "model_id": "",
       "version_major": 2,
       "version_minor": 0
      },
      "text/plain": [
       "P2 loop:   0%|          | 0/28 [00:00<?, ?it/s]"
      ]
     },
     "metadata": {},
     "output_type": "display_data"
    },
    {
     "data": {
      "application/vnd.jupyter.widget-view+json": {
       "model_id": "",
       "version_major": 2,
       "version_minor": 0
      },
      "text/plain": [
       "P2 loop:   0%|          | 0/29 [00:00<?, ?it/s]"
      ]
     },
     "metadata": {},
     "output_type": "display_data"
    },
    {
     "data": {
      "application/vnd.jupyter.widget-view+json": {
       "model_id": "",
       "version_major": 2,
       "version_minor": 0
      },
      "text/plain": [
       "P2 loop:   0%|          | 0/26 [00:00<?, ?it/s]"
      ]
     },
     "metadata": {},
     "output_type": "display_data"
    },
    {
     "data": {
      "application/vnd.jupyter.widget-view+json": {
       "model_id": "",
       "version_major": 2,
       "version_minor": 0
      },
      "text/plain": [
       "P2 loop:   0%|          | 0/28 [00:00<?, ?it/s]"
      ]
     },
     "metadata": {},
     "output_type": "display_data"
    },
    {
     "data": {
      "application/vnd.jupyter.widget-view+json": {
       "model_id": "",
       "version_major": 2,
       "version_minor": 0
      },
      "text/plain": [
       "P2 loop:   0%|          | 0/28 [00:00<?, ?it/s]"
      ]
     },
     "metadata": {},
     "output_type": "display_data"
    },
    {
     "data": {
      "application/vnd.jupyter.widget-view+json": {
       "model_id": "",
       "version_major": 2,
       "version_minor": 0
      },
      "text/plain": [
       "P2 loop:   0%|          | 0/29 [00:00<?, ?it/s]"
      ]
     },
     "metadata": {},
     "output_type": "display_data"
    },
    {
     "data": {
      "application/vnd.jupyter.widget-view+json": {
       "model_id": "",
       "version_major": 2,
       "version_minor": 0
      },
      "text/plain": [
       "P2 loop:   0%|          | 0/23 [00:00<?, ?it/s]"
      ]
     },
     "metadata": {},
     "output_type": "display_data"
    },
    {
     "data": {
      "application/vnd.jupyter.widget-view+json": {
       "model_id": "",
       "version_major": 2,
       "version_minor": 0
      },
      "text/plain": [
       "P2 loop:   0%|          | 0/29 [00:00<?, ?it/s]"
      ]
     },
     "metadata": {},
     "output_type": "display_data"
    },
    {
     "data": {
      "application/vnd.jupyter.widget-view+json": {
       "model_id": "",
       "version_major": 2,
       "version_minor": 0
      },
      "text/plain": [
       "P2 loop:   0%|          | 0/29 [00:00<?, ?it/s]"
      ]
     },
     "metadata": {},
     "output_type": "display_data"
    },
    {
     "data": {
      "application/vnd.jupyter.widget-view+json": {
       "model_id": "",
       "version_major": 2,
       "version_minor": 0
      },
      "text/plain": [
       "P2 loop:   0%|          | 0/22 [00:00<?, ?it/s]"
      ]
     },
     "metadata": {},
     "output_type": "display_data"
    },
    {
     "data": {
      "application/vnd.jupyter.widget-view+json": {
       "model_id": "",
       "version_major": 2,
       "version_minor": 0
      },
      "text/plain": [
       "P2 loop:   0%|          | 0/13 [00:00<?, ?it/s]"
      ]
     },
     "metadata": {},
     "output_type": "display_data"
    },
    {
     "data": {
      "application/vnd.jupyter.widget-view+json": {
       "model_id": "",
       "version_major": 2,
       "version_minor": 0
      },
      "text/plain": [
       "P2 loop:   0%|          | 0/15 [00:00<?, ?it/s]"
      ]
     },
     "metadata": {},
     "output_type": "display_data"
    },
    {
     "data": {
      "application/vnd.jupyter.widget-view+json": {
       "model_id": "",
       "version_major": 2,
       "version_minor": 0
      },
      "text/plain": [
       "P2 loop:   0%|          | 0/25 [00:00<?, ?it/s]"
      ]
     },
     "metadata": {},
     "output_type": "display_data"
    },
    {
     "data": {
      "application/vnd.jupyter.widget-view+json": {
       "model_id": "",
       "version_major": 2,
       "version_minor": 0
      },
      "text/plain": [
       "P2 loop:   0%|          | 0/29 [00:00<?, ?it/s]"
      ]
     },
     "metadata": {},
     "output_type": "display_data"
    },
    {
     "data": {
      "application/vnd.jupyter.widget-view+json": {
       "model_id": "",
       "version_major": 2,
       "version_minor": 0
      },
      "text/plain": [
       "P2 loop:   0%|          | 0/24 [00:00<?, ?it/s]"
      ]
     },
     "metadata": {},
     "output_type": "display_data"
    },
    {
     "data": {
      "application/vnd.jupyter.widget-view+json": {
       "model_id": "",
       "version_major": 2,
       "version_minor": 0
      },
      "text/plain": [
       "P2 loop:   0%|          | 0/29 [00:00<?, ?it/s]"
      ]
     },
     "metadata": {},
     "output_type": "display_data"
    },
    {
     "data": {
      "application/vnd.jupyter.widget-view+json": {
       "model_id": "",
       "version_major": 2,
       "version_minor": 0
      },
      "text/plain": [
       "P2 loop:   0%|          | 0/21 [00:00<?, ?it/s]"
      ]
     },
     "metadata": {},
     "output_type": "display_data"
    },
    {
     "data": {
      "application/vnd.jupyter.widget-view+json": {
       "model_id": "",
       "version_major": 2,
       "version_minor": 0
      },
      "text/plain": [
       "P2 loop:   0%|          | 0/22 [00:00<?, ?it/s]"
      ]
     },
     "metadata": {},
     "output_type": "display_data"
    },
    {
     "data": {
      "application/vnd.jupyter.widget-view+json": {
       "model_id": "",
       "version_major": 2,
       "version_minor": 0
      },
      "text/plain": [
       "P2 loop:   0%|          | 0/22 [00:00<?, ?it/s]"
      ]
     },
     "metadata": {},
     "output_type": "display_data"
    },
    {
     "data": {
      "application/vnd.jupyter.widget-view+json": {
       "model_id": "",
       "version_major": 2,
       "version_minor": 0
      },
      "text/plain": [
       "P2 loop:   0%|          | 0/21 [00:00<?, ?it/s]"
      ]
     },
     "metadata": {},
     "output_type": "display_data"
    },
    {
     "data": {
      "application/vnd.jupyter.widget-view+json": {
       "model_id": "",
       "version_major": 2,
       "version_minor": 0
      },
      "text/plain": [
       "P2 loop:   0%|          | 0/17 [00:00<?, ?it/s]"
      ]
     },
     "metadata": {},
     "output_type": "display_data"
    },
    {
     "data": {
      "application/vnd.jupyter.widget-view+json": {
       "model_id": "",
       "version_major": 2,
       "version_minor": 0
      },
      "text/plain": [
       "Predicate loop:   0%|          | 0/43 [00:00<?, ?it/s]"
      ]
     },
     "metadata": {},
     "output_type": "display_data"
    },
    {
     "data": {
      "application/vnd.jupyter.widget-view+json": {
       "model_id": "",
       "version_major": 2,
       "version_minor": 0
      },
      "text/plain": [
       "P2 loop:   0%|          | 0/15 [00:00<?, ?it/s]"
      ]
     },
     "metadata": {},
     "output_type": "display_data"
    },
    {
     "data": {
      "application/vnd.jupyter.widget-view+json": {
       "model_id": "",
       "version_major": 2,
       "version_minor": 0
      },
      "text/plain": [
       "P2 loop:   0%|          | 0/24 [00:00<?, ?it/s]"
      ]
     },
     "metadata": {},
     "output_type": "display_data"
    },
    {
     "data": {
      "application/vnd.jupyter.widget-view+json": {
       "model_id": "",
       "version_major": 2,
       "version_minor": 0
      },
      "text/plain": [
       "P2 loop:   0%|          | 0/24 [00:00<?, ?it/s]"
      ]
     },
     "metadata": {},
     "output_type": "display_data"
    },
    {
     "data": {
      "application/vnd.jupyter.widget-view+json": {
       "model_id": "",
       "version_major": 2,
       "version_minor": 0
      },
      "text/plain": [
       "P2 loop:   0%|          | 0/25 [00:00<?, ?it/s]"
      ]
     },
     "metadata": {},
     "output_type": "display_data"
    },
    {
     "data": {
      "application/vnd.jupyter.widget-view+json": {
       "model_id": "",
       "version_major": 2,
       "version_minor": 0
      },
      "text/plain": [
       "P2 loop:   0%|          | 0/62 [00:00<?, ?it/s]"
      ]
     },
     "metadata": {},
     "output_type": "display_data"
    },
    {
     "data": {
      "application/vnd.jupyter.widget-view+json": {
       "model_id": "",
       "version_major": 2,
       "version_minor": 0
      },
      "text/plain": [
       "P2 loop:   0%|          | 0/61 [00:00<?, ?it/s]"
      ]
     },
     "metadata": {},
     "output_type": "display_data"
    },
    {
     "data": {
      "application/vnd.jupyter.widget-view+json": {
       "model_id": "",
       "version_major": 2,
       "version_minor": 0
      },
      "text/plain": [
       "P2 loop:   0%|          | 0/18 [00:00<?, ?it/s]"
      ]
     },
     "metadata": {},
     "output_type": "display_data"
    },
    {
     "data": {
      "application/vnd.jupyter.widget-view+json": {
       "model_id": "",
       "version_major": 2,
       "version_minor": 0
      },
      "text/plain": [
       "P2 loop:   0%|          | 0/8 [00:00<?, ?it/s]"
      ]
     },
     "metadata": {},
     "output_type": "display_data"
    },
    {
     "data": {
      "application/vnd.jupyter.widget-view+json": {
       "model_id": "",
       "version_major": 2,
       "version_minor": 0
      },
      "text/plain": [
       "P2 loop:   0%|          | 0/8 [00:00<?, ?it/s]"
      ]
     },
     "metadata": {},
     "output_type": "display_data"
    },
    {
     "data": {
      "application/vnd.jupyter.widget-view+json": {
       "model_id": "",
       "version_major": 2,
       "version_minor": 0
      },
      "text/plain": [
       "P2 loop:   0%|          | 0/58 [00:00<?, ?it/s]"
      ]
     },
     "metadata": {},
     "output_type": "display_data"
    },
    {
     "data": {
      "application/vnd.jupyter.widget-view+json": {
       "model_id": "",
       "version_major": 2,
       "version_minor": 0
      },
      "text/plain": [
       "P2 loop:   0%|          | 0/7 [00:00<?, ?it/s]"
      ]
     },
     "metadata": {},
     "output_type": "display_data"
    },
    {
     "data": {
      "application/vnd.jupyter.widget-view+json": {
       "model_id": "",
       "version_major": 2,
       "version_minor": 0
      },
      "text/plain": [
       "P2 loop:   0%|          | 0/7 [00:00<?, ?it/s]"
      ]
     },
     "metadata": {},
     "output_type": "display_data"
    },
    {
     "data": {
      "application/vnd.jupyter.widget-view+json": {
       "model_id": "",
       "version_major": 2,
       "version_minor": 0
      },
      "text/plain": [
       "P2 loop:   0%|          | 0/8 [00:00<?, ?it/s]"
      ]
     },
     "metadata": {},
     "output_type": "display_data"
    },
    {
     "data": {
      "application/vnd.jupyter.widget-view+json": {
       "model_id": "",
       "version_major": 2,
       "version_minor": 0
      },
      "text/plain": [
       "P2 loop:   0%|          | 0/8 [00:00<?, ?it/s]"
      ]
     },
     "metadata": {},
     "output_type": "display_data"
    },
    {
     "data": {
      "application/vnd.jupyter.widget-view+json": {
       "model_id": "",
       "version_major": 2,
       "version_minor": 0
      },
      "text/plain": [
       "P2 loop:   0%|          | 0/59 [00:00<?, ?it/s]"
      ]
     },
     "metadata": {},
     "output_type": "display_data"
    },
    {
     "data": {
      "application/vnd.jupyter.widget-view+json": {
       "model_id": "",
       "version_major": 2,
       "version_minor": 0
      },
      "text/plain": [
       "P2 loop:   0%|          | 0/56 [00:00<?, ?it/s]"
      ]
     },
     "metadata": {},
     "output_type": "display_data"
    },
    {
     "data": {
      "application/vnd.jupyter.widget-view+json": {
       "model_id": "",
       "version_major": 2,
       "version_minor": 0
      },
      "text/plain": [
       "P2 loop:   0%|          | 0/60 [00:00<?, ?it/s]"
      ]
     },
     "metadata": {},
     "output_type": "display_data"
    },
    {
     "data": {
      "application/vnd.jupyter.widget-view+json": {
       "model_id": "",
       "version_major": 2,
       "version_minor": 0
      },
      "text/plain": [
       "P2 loop:   0%|          | 0/3 [00:00<?, ?it/s]"
      ]
     },
     "metadata": {},
     "output_type": "display_data"
    },
    {
     "data": {
      "application/vnd.jupyter.widget-view+json": {
       "model_id": "",
       "version_major": 2,
       "version_minor": 0
      },
      "text/plain": [
       "P2 loop:   0%|          | 0/45 [00:00<?, ?it/s]"
      ]
     },
     "metadata": {},
     "output_type": "display_data"
    },
    {
     "data": {
      "application/vnd.jupyter.widget-view+json": {
       "model_id": "",
       "version_major": 2,
       "version_minor": 0
      },
      "text/plain": [
       "P2 loop:   0%|          | 0/59 [00:00<?, ?it/s]"
      ]
     },
     "metadata": {},
     "output_type": "display_data"
    },
    {
     "data": {
      "application/vnd.jupyter.widget-view+json": {
       "model_id": "",
       "version_major": 2,
       "version_minor": 0
      },
      "text/plain": [
       "P2 loop:   0%|          | 0/46 [00:00<?, ?it/s]"
      ]
     },
     "metadata": {},
     "output_type": "display_data"
    },
    {
     "data": {
      "application/vnd.jupyter.widget-view+json": {
       "model_id": "",
       "version_major": 2,
       "version_minor": 0
      },
      "text/plain": [
       "P2 loop:   0%|          | 0/57 [00:00<?, ?it/s]"
      ]
     },
     "metadata": {},
     "output_type": "display_data"
    },
    {
     "data": {
      "application/vnd.jupyter.widget-view+json": {
       "model_id": "",
       "version_major": 2,
       "version_minor": 0
      },
      "text/plain": [
       "P2 loop:   0%|          | 0/58 [00:00<?, ?it/s]"
      ]
     },
     "metadata": {},
     "output_type": "display_data"
    },
    {
     "data": {
      "application/vnd.jupyter.widget-view+json": {
       "model_id": "",
       "version_major": 2,
       "version_minor": 0
      },
      "text/plain": [
       "P2 loop:   0%|          | 0/58 [00:00<?, ?it/s]"
      ]
     },
     "metadata": {},
     "output_type": "display_data"
    },
    {
     "data": {
      "application/vnd.jupyter.widget-view+json": {
       "model_id": "",
       "version_major": 2,
       "version_minor": 0
      },
      "text/plain": [
       "P2 loop:   0%|          | 0/58 [00:00<?, ?it/s]"
      ]
     },
     "metadata": {},
     "output_type": "display_data"
    },
    {
     "data": {
      "application/vnd.jupyter.widget-view+json": {
       "model_id": "",
       "version_major": 2,
       "version_minor": 0
      },
      "text/plain": [
       "P2 loop:   0%|          | 0/57 [00:00<?, ?it/s]"
      ]
     },
     "metadata": {},
     "output_type": "display_data"
    },
    {
     "data": {
      "application/vnd.jupyter.widget-view+json": {
       "model_id": "",
       "version_major": 2,
       "version_minor": 0
      },
      "text/plain": [
       "P2 loop:   0%|          | 0/50 [00:00<?, ?it/s]"
      ]
     },
     "metadata": {},
     "output_type": "display_data"
    },
    {
     "data": {
      "application/vnd.jupyter.widget-view+json": {
       "model_id": "",
       "version_major": 2,
       "version_minor": 0
      },
      "text/plain": [
       "P2 loop:   0%|          | 0/55 [00:00<?, ?it/s]"
      ]
     },
     "metadata": {},
     "output_type": "display_data"
    },
    {
     "data": {
      "application/vnd.jupyter.widget-view+json": {
       "model_id": "",
       "version_major": 2,
       "version_minor": 0
      },
      "text/plain": [
       "P2 loop:   0%|          | 0/57 [00:00<?, ?it/s]"
      ]
     },
     "metadata": {},
     "output_type": "display_data"
    },
    {
     "data": {
      "application/vnd.jupyter.widget-view+json": {
       "model_id": "",
       "version_major": 2,
       "version_minor": 0
      },
      "text/plain": [
       "P2 loop:   0%|          | 0/56 [00:00<?, ?it/s]"
      ]
     },
     "metadata": {},
     "output_type": "display_data"
    },
    {
     "data": {
      "application/vnd.jupyter.widget-view+json": {
       "model_id": "",
       "version_major": 2,
       "version_minor": 0
      },
      "text/plain": [
       "P2 loop:   0%|          | 0/40 [00:00<?, ?it/s]"
      ]
     },
     "metadata": {},
     "output_type": "display_data"
    },
    {
     "data": {
      "application/vnd.jupyter.widget-view+json": {
       "model_id": "",
       "version_major": 2,
       "version_minor": 0
      },
      "text/plain": [
       "P2 loop:   0%|          | 0/47 [00:00<?, ?it/s]"
      ]
     },
     "metadata": {},
     "output_type": "display_data"
    },
    {
     "data": {
      "application/vnd.jupyter.widget-view+json": {
       "model_id": "",
       "version_major": 2,
       "version_minor": 0
      },
      "text/plain": [
       "P2 loop:   0%|          | 0/56 [00:00<?, ?it/s]"
      ]
     },
     "metadata": {},
     "output_type": "display_data"
    },
    {
     "data": {
      "application/vnd.jupyter.widget-view+json": {
       "model_id": "",
       "version_major": 2,
       "version_minor": 0
      },
      "text/plain": [
       "P2 loop:   0%|          | 0/26 [00:00<?, ?it/s]"
      ]
     },
     "metadata": {},
     "output_type": "display_data"
    },
    {
     "data": {
      "application/vnd.jupyter.widget-view+json": {
       "model_id": "",
       "version_major": 2,
       "version_minor": 0
      },
      "text/plain": [
       "P2 loop:   0%|          | 0/53 [00:00<?, ?it/s]"
      ]
     },
     "metadata": {},
     "output_type": "display_data"
    },
    {
     "data": {
      "application/vnd.jupyter.widget-view+json": {
       "model_id": "",
       "version_major": 2,
       "version_minor": 0
      },
      "text/plain": [
       "P2 loop:   0%|          | 0/55 [00:00<?, ?it/s]"
      ]
     },
     "metadata": {},
     "output_type": "display_data"
    },
    {
     "data": {
      "application/vnd.jupyter.widget-view+json": {
       "model_id": "",
       "version_major": 2,
       "version_minor": 0
      },
      "text/plain": [
       "P2 loop:   0%|          | 0/36 [00:00<?, ?it/s]"
      ]
     },
     "metadata": {},
     "output_type": "display_data"
    },
    {
     "data": {
      "application/vnd.jupyter.widget-view+json": {
       "model_id": "",
       "version_major": 2,
       "version_minor": 0
      },
      "text/plain": [
       "P2 loop:   0%|          | 0/50 [00:00<?, ?it/s]"
      ]
     },
     "metadata": {},
     "output_type": "display_data"
    },
    {
     "data": {
      "application/vnd.jupyter.widget-view+json": {
       "model_id": "",
       "version_major": 2,
       "version_minor": 0
      },
      "text/plain": [
       "P2 loop:   0%|          | 0/38 [00:00<?, ?it/s]"
      ]
     },
     "metadata": {},
     "output_type": "display_data"
    },
    {
     "data": {
      "application/vnd.jupyter.widget-view+json": {
       "model_id": "",
       "version_major": 2,
       "version_minor": 0
      },
      "text/plain": [
       "P2 loop:   0%|          | 0/31 [00:00<?, ?it/s]"
      ]
     },
     "metadata": {},
     "output_type": "display_data"
    },
    {
     "data": {
      "application/vnd.jupyter.widget-view+json": {
       "model_id": "",
       "version_major": 2,
       "version_minor": 0
      },
      "text/plain": [
       "P2 loop:   0%|          | 0/38 [00:00<?, ?it/s]"
      ]
     },
     "metadata": {},
     "output_type": "display_data"
    },
    {
     "data": {
      "application/vnd.jupyter.widget-view+json": {
       "model_id": "",
       "version_major": 2,
       "version_minor": 0
      },
      "text/plain": [
       "P2 loop:   0%|          | 0/44 [00:00<?, ?it/s]"
      ]
     },
     "metadata": {},
     "output_type": "display_data"
    },
    {
     "data": {
      "application/vnd.jupyter.widget-view+json": {
       "model_id": "",
       "version_major": 2,
       "version_minor": 0
      },
      "text/plain": [
       "P2 loop:   0%|          | 0/38 [00:00<?, ?it/s]"
      ]
     },
     "metadata": {},
     "output_type": "display_data"
    },
    {
     "data": {
      "application/vnd.jupyter.widget-view+json": {
       "model_id": "",
       "version_major": 2,
       "version_minor": 0
      },
      "text/plain": [
       "Attribute loop:   0%|          | 0/8072 [00:00<?, ?it/s]"
      ]
     },
     "metadata": {},
     "output_type": "display_data"
    },
    {
     "data": {
      "application/vnd.jupyter.widget-view+json": {
       "model_id": "",
       "version_major": 2,
       "version_minor": 0
      },
      "text/plain": [
       "neighbor loop:   0%|          | 0/8857 [00:00<?, ?it/s]"
      ]
     },
     "metadata": {},
     "output_type": "display_data"
    },
    {
     "data": {
      "application/vnd.jupyter.widget-view+json": {
       "model_id": "",
       "version_major": 2,
       "version_minor": 0
      },
      "text/plain": [
       "Predicate loop:   0%|          | 0/65 [00:00<?, ?it/s]"
      ]
     },
     "metadata": {},
     "output_type": "display_data"
    },
    {
     "data": {
      "application/vnd.jupyter.widget-view+json": {
       "model_id": "",
       "version_major": 2,
       "version_minor": 0
      },
      "text/plain": [
       "P2 loop:   0%|          | 0/23 [00:00<?, ?it/s]"
      ]
     },
     "metadata": {},
     "output_type": "display_data"
    },
    {
     "data": {
      "application/vnd.jupyter.widget-view+json": {
       "model_id": "",
       "version_major": 2,
       "version_minor": 0
      },
      "text/plain": [
       "P2 loop:   0%|          | 0/18 [00:00<?, ?it/s]"
      ]
     },
     "metadata": {},
     "output_type": "display_data"
    },
    {
     "data": {
      "application/vnd.jupyter.widget-view+json": {
       "model_id": "",
       "version_major": 2,
       "version_minor": 0
      },
      "text/plain": [
       "P2 loop:   0%|          | 0/21 [00:00<?, ?it/s]"
      ]
     },
     "metadata": {},
     "output_type": "display_data"
    },
    {
     "data": {
      "application/vnd.jupyter.widget-view+json": {
       "model_id": "",
       "version_major": 2,
       "version_minor": 0
      },
      "text/plain": [
       "P2 loop:   0%|          | 0/41 [00:00<?, ?it/s]"
      ]
     },
     "metadata": {},
     "output_type": "display_data"
    },
    {
     "data": {
      "application/vnd.jupyter.widget-view+json": {
       "model_id": "",
       "version_major": 2,
       "version_minor": 0
      },
      "text/plain": [
       "P2 loop:   0%|          | 0/36 [00:00<?, ?it/s]"
      ]
     },
     "metadata": {},
     "output_type": "display_data"
    },
    {
     "data": {
      "application/vnd.jupyter.widget-view+json": {
       "model_id": "",
       "version_major": 2,
       "version_minor": 0
      },
      "text/plain": [
       "P2 loop:   0%|          | 0/23 [00:00<?, ?it/s]"
      ]
     },
     "metadata": {},
     "output_type": "display_data"
    },
    {
     "data": {
      "application/vnd.jupyter.widget-view+json": {
       "model_id": "",
       "version_major": 2,
       "version_minor": 0
      },
      "text/plain": [
       "P2 loop:   0%|          | 0/35 [00:00<?, ?it/s]"
      ]
     },
     "metadata": {},
     "output_type": "display_data"
    },
    {
     "data": {
      "application/vnd.jupyter.widget-view+json": {
       "model_id": "",
       "version_major": 2,
       "version_minor": 0
      },
      "text/plain": [
       "P2 loop:   0%|          | 0/32 [00:00<?, ?it/s]"
      ]
     },
     "metadata": {},
     "output_type": "display_data"
    },
    {
     "data": {
      "application/vnd.jupyter.widget-view+json": {
       "model_id": "",
       "version_major": 2,
       "version_minor": 0
      },
      "text/plain": [
       "P2 loop:   0%|          | 0/7 [00:00<?, ?it/s]"
      ]
     },
     "metadata": {},
     "output_type": "display_data"
    },
    {
     "data": {
      "application/vnd.jupyter.widget-view+json": {
       "model_id": "",
       "version_major": 2,
       "version_minor": 0
      },
      "text/plain": [
       "P2 loop:   0%|          | 0/39 [00:00<?, ?it/s]"
      ]
     },
     "metadata": {},
     "output_type": "display_data"
    },
    {
     "data": {
      "application/vnd.jupyter.widget-view+json": {
       "model_id": "",
       "version_major": 2,
       "version_minor": 0
      },
      "text/plain": [
       "P2 loop:   0%|          | 0/38 [00:00<?, ?it/s]"
      ]
     },
     "metadata": {},
     "output_type": "display_data"
    },
    {
     "data": {
      "application/vnd.jupyter.widget-view+json": {
       "model_id": "",
       "version_major": 2,
       "version_minor": 0
      },
      "text/plain": [
       "P2 loop:   0%|          | 0/38 [00:00<?, ?it/s]"
      ]
     },
     "metadata": {},
     "output_type": "display_data"
    },
    {
     "data": {
      "application/vnd.jupyter.widget-view+json": {
       "model_id": "",
       "version_major": 2,
       "version_minor": 0
      },
      "text/plain": [
       "P2 loop:   0%|          | 0/12 [00:00<?, ?it/s]"
      ]
     },
     "metadata": {},
     "output_type": "display_data"
    },
    {
     "data": {
      "application/vnd.jupyter.widget-view+json": {
       "model_id": "",
       "version_major": 2,
       "version_minor": 0
      },
      "text/plain": [
       "P2 loop:   0%|          | 0/35 [00:00<?, ?it/s]"
      ]
     },
     "metadata": {},
     "output_type": "display_data"
    },
    {
     "data": {
      "application/vnd.jupyter.widget-view+json": {
       "model_id": "",
       "version_major": 2,
       "version_minor": 0
      },
      "text/plain": [
       "P2 loop:   0%|          | 0/2 [00:00<?, ?it/s]"
      ]
     },
     "metadata": {},
     "output_type": "display_data"
    },
    {
     "data": {
      "application/vnd.jupyter.widget-view+json": {
       "model_id": "",
       "version_major": 2,
       "version_minor": 0
      },
      "text/plain": [
       "P2 loop:   0%|          | 0/32 [00:00<?, ?it/s]"
      ]
     },
     "metadata": {},
     "output_type": "display_data"
    },
    {
     "data": {
      "application/vnd.jupyter.widget-view+json": {
       "model_id": "",
       "version_major": 2,
       "version_minor": 0
      },
      "text/plain": [
       "P2 loop:   0%|          | 0/9 [00:00<?, ?it/s]"
      ]
     },
     "metadata": {},
     "output_type": "display_data"
    },
    {
     "data": {
      "application/vnd.jupyter.widget-view+json": {
       "model_id": "",
       "version_major": 2,
       "version_minor": 0
      },
      "text/plain": [
       "P2 loop:   0%|          | 0/3 [00:00<?, ?it/s]"
      ]
     },
     "metadata": {},
     "output_type": "display_data"
    },
    {
     "data": {
      "application/vnd.jupyter.widget-view+json": {
       "model_id": "",
       "version_major": 2,
       "version_minor": 0
      },
      "text/plain": [
       "P2 loop:   0%|          | 0/31 [00:00<?, ?it/s]"
      ]
     },
     "metadata": {},
     "output_type": "display_data"
    },
    {
     "data": {
      "application/vnd.jupyter.widget-view+json": {
       "model_id": "",
       "version_major": 2,
       "version_minor": 0
      },
      "text/plain": [
       "P2 loop:   0%|          | 0/27 [00:00<?, ?it/s]"
      ]
     },
     "metadata": {},
     "output_type": "display_data"
    },
    {
     "data": {
      "application/vnd.jupyter.widget-view+json": {
       "model_id": "",
       "version_major": 2,
       "version_minor": 0
      },
      "text/plain": [
       "P2 loop:   0%|          | 0/34 [00:00<?, ?it/s]"
      ]
     },
     "metadata": {},
     "output_type": "display_data"
    },
    {
     "data": {
      "application/vnd.jupyter.widget-view+json": {
       "model_id": "",
       "version_major": 2,
       "version_minor": 0
      },
      "text/plain": [
       "P2 loop:   0%|          | 0/34 [00:00<?, ?it/s]"
      ]
     },
     "metadata": {},
     "output_type": "display_data"
    },
    {
     "data": {
      "application/vnd.jupyter.widget-view+json": {
       "model_id": "",
       "version_major": 2,
       "version_minor": 0
      },
      "text/plain": [
       "P2 loop:   0%|          | 0/35 [00:00<?, ?it/s]"
      ]
     },
     "metadata": {},
     "output_type": "display_data"
    },
    {
     "data": {
      "application/vnd.jupyter.widget-view+json": {
       "model_id": "",
       "version_major": 2,
       "version_minor": 0
      },
      "text/plain": [
       "P2 loop:   0%|          | 0/34 [00:00<?, ?it/s]"
      ]
     },
     "metadata": {},
     "output_type": "display_data"
    },
    {
     "data": {
      "application/vnd.jupyter.widget-view+json": {
       "model_id": "",
       "version_major": 2,
       "version_minor": 0
      },
      "text/plain": [
       "P2 loop:   0%|          | 0/18 [00:00<?, ?it/s]"
      ]
     },
     "metadata": {},
     "output_type": "display_data"
    },
    {
     "data": {
      "application/vnd.jupyter.widget-view+json": {
       "model_id": "",
       "version_major": 2,
       "version_minor": 0
      },
      "text/plain": [
       "P2 loop:   0%|          | 0/32 [00:00<?, ?it/s]"
      ]
     },
     "metadata": {},
     "output_type": "display_data"
    },
    {
     "data": {
      "application/vnd.jupyter.widget-view+json": {
       "model_id": "",
       "version_major": 2,
       "version_minor": 0
      },
      "text/plain": [
       "P2 loop:   0%|          | 0/26 [00:00<?, ?it/s]"
      ]
     },
     "metadata": {},
     "output_type": "display_data"
    },
    {
     "data": {
      "application/vnd.jupyter.widget-view+json": {
       "model_id": "",
       "version_major": 2,
       "version_minor": 0
      },
      "text/plain": [
       "P2 loop:   0%|          | 0/32 [00:00<?, ?it/s]"
      ]
     },
     "metadata": {},
     "output_type": "display_data"
    },
    {
     "data": {
      "application/vnd.jupyter.widget-view+json": {
       "model_id": "",
       "version_major": 2,
       "version_minor": 0
      },
      "text/plain": [
       "P2 loop:   0%|          | 0/32 [00:00<?, ?it/s]"
      ]
     },
     "metadata": {},
     "output_type": "display_data"
    },
    {
     "data": {
      "application/vnd.jupyter.widget-view+json": {
       "model_id": "",
       "version_major": 2,
       "version_minor": 0
      },
      "text/plain": [
       "P2 loop:   0%|          | 0/32 [00:00<?, ?it/s]"
      ]
     },
     "metadata": {},
     "output_type": "display_data"
    },
    {
     "data": {
      "application/vnd.jupyter.widget-view+json": {
       "model_id": "",
       "version_major": 2,
       "version_minor": 0
      },
      "text/plain": [
       "P2 loop:   0%|          | 0/31 [00:00<?, ?it/s]"
      ]
     },
     "metadata": {},
     "output_type": "display_data"
    },
    {
     "data": {
      "application/vnd.jupyter.widget-view+json": {
       "model_id": "",
       "version_major": 2,
       "version_minor": 0
      },
      "text/plain": [
       "P2 loop:   0%|          | 0/25 [00:00<?, ?it/s]"
      ]
     },
     "metadata": {},
     "output_type": "display_data"
    },
    {
     "data": {
      "application/vnd.jupyter.widget-view+json": {
       "model_id": "",
       "version_major": 2,
       "version_minor": 0
      },
      "text/plain": [
       "P2 loop:   0%|          | 0/32 [00:00<?, ?it/s]"
      ]
     },
     "metadata": {},
     "output_type": "display_data"
    },
    {
     "data": {
      "application/vnd.jupyter.widget-view+json": {
       "model_id": "",
       "version_major": 2,
       "version_minor": 0
      },
      "text/plain": [
       "P2 loop:   0%|          | 0/24 [00:00<?, ?it/s]"
      ]
     },
     "metadata": {},
     "output_type": "display_data"
    },
    {
     "data": {
      "application/vnd.jupyter.widget-view+json": {
       "model_id": "",
       "version_major": 2,
       "version_minor": 0
      },
      "text/plain": [
       "P2 loop:   0%|          | 0/31 [00:00<?, ?it/s]"
      ]
     },
     "metadata": {},
     "output_type": "display_data"
    },
    {
     "data": {
      "application/vnd.jupyter.widget-view+json": {
       "model_id": "",
       "version_major": 2,
       "version_minor": 0
      },
      "text/plain": [
       "P2 loop:   0%|          | 0/31 [00:00<?, ?it/s]"
      ]
     },
     "metadata": {},
     "output_type": "display_data"
    },
    {
     "data": {
      "application/vnd.jupyter.widget-view+json": {
       "model_id": "",
       "version_major": 2,
       "version_minor": 0
      },
      "text/plain": [
       "P2 loop:   0%|          | 0/31 [00:00<?, ?it/s]"
      ]
     },
     "metadata": {},
     "output_type": "display_data"
    },
    {
     "data": {
      "application/vnd.jupyter.widget-view+json": {
       "model_id": "",
       "version_major": 2,
       "version_minor": 0
      },
      "text/plain": [
       "P2 loop:   0%|          | 0/12 [00:00<?, ?it/s]"
      ]
     },
     "metadata": {},
     "output_type": "display_data"
    },
    {
     "data": {
      "application/vnd.jupyter.widget-view+json": {
       "model_id": "",
       "version_major": 2,
       "version_minor": 0
      },
      "text/plain": [
       "P2 loop:   0%|          | 0/29 [00:00<?, ?it/s]"
      ]
     },
     "metadata": {},
     "output_type": "display_data"
    },
    {
     "data": {
      "application/vnd.jupyter.widget-view+json": {
       "model_id": "",
       "version_major": 2,
       "version_minor": 0
      },
      "text/plain": [
       "P2 loop:   0%|          | 0/31 [00:00<?, ?it/s]"
      ]
     },
     "metadata": {},
     "output_type": "display_data"
    },
    {
     "data": {
      "application/vnd.jupyter.widget-view+json": {
       "model_id": "",
       "version_major": 2,
       "version_minor": 0
      },
      "text/plain": [
       "P2 loop:   0%|          | 0/30 [00:00<?, ?it/s]"
      ]
     },
     "metadata": {},
     "output_type": "display_data"
    },
    {
     "data": {
      "application/vnd.jupyter.widget-view+json": {
       "model_id": "",
       "version_major": 2,
       "version_minor": 0
      },
      "text/plain": [
       "P2 loop:   0%|          | 0/31 [00:00<?, ?it/s]"
      ]
     },
     "metadata": {},
     "output_type": "display_data"
    },
    {
     "data": {
      "application/vnd.jupyter.widget-view+json": {
       "model_id": "",
       "version_major": 2,
       "version_minor": 0
      },
      "text/plain": [
       "P2 loop:   0%|          | 0/31 [00:00<?, ?it/s]"
      ]
     },
     "metadata": {},
     "output_type": "display_data"
    },
    {
     "data": {
      "application/vnd.jupyter.widget-view+json": {
       "model_id": "",
       "version_major": 2,
       "version_minor": 0
      },
      "text/plain": [
       "P2 loop:   0%|          | 0/31 [00:00<?, ?it/s]"
      ]
     },
     "metadata": {},
     "output_type": "display_data"
    },
    {
     "data": {
      "application/vnd.jupyter.widget-view+json": {
       "model_id": "",
       "version_major": 2,
       "version_minor": 0
      },
      "text/plain": [
       "P2 loop:   0%|          | 0/28 [00:00<?, ?it/s]"
      ]
     },
     "metadata": {},
     "output_type": "display_data"
    },
    {
     "data": {
      "application/vnd.jupyter.widget-view+json": {
       "model_id": "",
       "version_major": 2,
       "version_minor": 0
      },
      "text/plain": [
       "P2 loop:   0%|          | 0/29 [00:00<?, ?it/s]"
      ]
     },
     "metadata": {},
     "output_type": "display_data"
    },
    {
     "data": {
      "application/vnd.jupyter.widget-view+json": {
       "model_id": "",
       "version_major": 2,
       "version_minor": 0
      },
      "text/plain": [
       "P2 loop:   0%|          | 0/26 [00:00<?, ?it/s]"
      ]
     },
     "metadata": {},
     "output_type": "display_data"
    },
    {
     "data": {
      "application/vnd.jupyter.widget-view+json": {
       "model_id": "",
       "version_major": 2,
       "version_minor": 0
      },
      "text/plain": [
       "P2 loop:   0%|          | 0/28 [00:00<?, ?it/s]"
      ]
     },
     "metadata": {},
     "output_type": "display_data"
    },
    {
     "data": {
      "application/vnd.jupyter.widget-view+json": {
       "model_id": "",
       "version_major": 2,
       "version_minor": 0
      },
      "text/plain": [
       "P2 loop:   0%|          | 0/29 [00:00<?, ?it/s]"
      ]
     },
     "metadata": {},
     "output_type": "display_data"
    },
    {
     "data": {
      "application/vnd.jupyter.widget-view+json": {
       "model_id": "",
       "version_major": 2,
       "version_minor": 0
      },
      "text/plain": [
       "P2 loop:   0%|          | 0/29 [00:00<?, ?it/s]"
      ]
     },
     "metadata": {},
     "output_type": "display_data"
    },
    {
     "data": {
      "application/vnd.jupyter.widget-view+json": {
       "model_id": "",
       "version_major": 2,
       "version_minor": 0
      },
      "text/plain": [
       "P2 loop:   0%|          | 0/23 [00:00<?, ?it/s]"
      ]
     },
     "metadata": {},
     "output_type": "display_data"
    },
    {
     "data": {
      "application/vnd.jupyter.widget-view+json": {
       "model_id": "",
       "version_major": 2,
       "version_minor": 0
      },
      "text/plain": [
       "P2 loop:   0%|          | 0/29 [00:00<?, ?it/s]"
      ]
     },
     "metadata": {},
     "output_type": "display_data"
    },
    {
     "data": {
      "application/vnd.jupyter.widget-view+json": {
       "model_id": "",
       "version_major": 2,
       "version_minor": 0
      },
      "text/plain": [
       "P2 loop:   0%|          | 0/29 [00:00<?, ?it/s]"
      ]
     },
     "metadata": {},
     "output_type": "display_data"
    },
    {
     "data": {
      "application/vnd.jupyter.widget-view+json": {
       "model_id": "",
       "version_major": 2,
       "version_minor": 0
      },
      "text/plain": [
       "P2 loop:   0%|          | 0/22 [00:00<?, ?it/s]"
      ]
     },
     "metadata": {},
     "output_type": "display_data"
    },
    {
     "data": {
      "application/vnd.jupyter.widget-view+json": {
       "model_id": "",
       "version_major": 2,
       "version_minor": 0
      },
      "text/plain": [
       "P2 loop:   0%|          | 0/13 [00:00<?, ?it/s]"
      ]
     },
     "metadata": {},
     "output_type": "display_data"
    },
    {
     "data": {
      "application/vnd.jupyter.widget-view+json": {
       "model_id": "",
       "version_major": 2,
       "version_minor": 0
      },
      "text/plain": [
       "P2 loop:   0%|          | 0/15 [00:00<?, ?it/s]"
      ]
     },
     "metadata": {},
     "output_type": "display_data"
    },
    {
     "data": {
      "application/vnd.jupyter.widget-view+json": {
       "model_id": "",
       "version_major": 2,
       "version_minor": 0
      },
      "text/plain": [
       "P2 loop:   0%|          | 0/27 [00:00<?, ?it/s]"
      ]
     },
     "metadata": {},
     "output_type": "display_data"
    },
    {
     "data": {
      "application/vnd.jupyter.widget-view+json": {
       "model_id": "",
       "version_major": 2,
       "version_minor": 0
      },
      "text/plain": [
       "P2 loop:   0%|          | 0/29 [00:00<?, ?it/s]"
      ]
     },
     "metadata": {},
     "output_type": "display_data"
    },
    {
     "data": {
      "application/vnd.jupyter.widget-view+json": {
       "model_id": "",
       "version_major": 2,
       "version_minor": 0
      },
      "text/plain": [
       "P2 loop:   0%|          | 0/24 [00:00<?, ?it/s]"
      ]
     },
     "metadata": {},
     "output_type": "display_data"
    },
    {
     "data": {
      "application/vnd.jupyter.widget-view+json": {
       "model_id": "",
       "version_major": 2,
       "version_minor": 0
      },
      "text/plain": [
       "P2 loop:   0%|          | 0/29 [00:00<?, ?it/s]"
      ]
     },
     "metadata": {},
     "output_type": "display_data"
    },
    {
     "data": {
      "application/vnd.jupyter.widget-view+json": {
       "model_id": "",
       "version_major": 2,
       "version_minor": 0
      },
      "text/plain": [
       "P2 loop:   0%|          | 0/21 [00:00<?, ?it/s]"
      ]
     },
     "metadata": {},
     "output_type": "display_data"
    },
    {
     "data": {
      "application/vnd.jupyter.widget-view+json": {
       "model_id": "",
       "version_major": 2,
       "version_minor": 0
      },
      "text/plain": [
       "P2 loop:   0%|          | 0/24 [00:00<?, ?it/s]"
      ]
     },
     "metadata": {},
     "output_type": "display_data"
    },
    {
     "data": {
      "application/vnd.jupyter.widget-view+json": {
       "model_id": "",
       "version_major": 2,
       "version_minor": 0
      },
      "text/plain": [
       "P2 loop:   0%|          | 0/22 [00:00<?, ?it/s]"
      ]
     },
     "metadata": {},
     "output_type": "display_data"
    },
    {
     "data": {
      "application/vnd.jupyter.widget-view+json": {
       "model_id": "",
       "version_major": 2,
       "version_minor": 0
      },
      "text/plain": [
       "P2 loop:   0%|          | 0/21 [00:00<?, ?it/s]"
      ]
     },
     "metadata": {},
     "output_type": "display_data"
    },
    {
     "data": {
      "application/vnd.jupyter.widget-view+json": {
       "model_id": "",
       "version_major": 2,
       "version_minor": 0
      },
      "text/plain": [
       "P2 loop:   0%|          | 0/17 [00:00<?, ?it/s]"
      ]
     },
     "metadata": {},
     "output_type": "display_data"
    },
    {
     "data": {
      "application/vnd.jupyter.widget-view+json": {
       "model_id": "",
       "version_major": 2,
       "version_minor": 0
      },
      "text/plain": [
       "Predicate loop:   0%|          | 0/43 [00:00<?, ?it/s]"
      ]
     },
     "metadata": {},
     "output_type": "display_data"
    },
    {
     "data": {
      "application/vnd.jupyter.widget-view+json": {
       "model_id": "",
       "version_major": 2,
       "version_minor": 0
      },
      "text/plain": [
       "P2 loop:   0%|          | 0/15 [00:00<?, ?it/s]"
      ]
     },
     "metadata": {},
     "output_type": "display_data"
    },
    {
     "data": {
      "application/vnd.jupyter.widget-view+json": {
       "model_id": "",
       "version_major": 2,
       "version_minor": 0
      },
      "text/plain": [
       "P2 loop:   0%|          | 0/24 [00:00<?, ?it/s]"
      ]
     },
     "metadata": {},
     "output_type": "display_data"
    },
    {
     "data": {
      "application/vnd.jupyter.widget-view+json": {
       "model_id": "",
       "version_major": 2,
       "version_minor": 0
      },
      "text/plain": [
       "P2 loop:   0%|          | 0/24 [00:00<?, ?it/s]"
      ]
     },
     "metadata": {},
     "output_type": "display_data"
    },
    {
     "data": {
      "application/vnd.jupyter.widget-view+json": {
       "model_id": "",
       "version_major": 2,
       "version_minor": 0
      },
      "text/plain": [
       "P2 loop:   0%|          | 0/25 [00:00<?, ?it/s]"
      ]
     },
     "metadata": {},
     "output_type": "display_data"
    },
    {
     "data": {
      "application/vnd.jupyter.widget-view+json": {
       "model_id": "",
       "version_major": 2,
       "version_minor": 0
      },
      "text/plain": [
       "P2 loop:   0%|          | 0/62 [00:00<?, ?it/s]"
      ]
     },
     "metadata": {},
     "output_type": "display_data"
    },
    {
     "data": {
      "application/vnd.jupyter.widget-view+json": {
       "model_id": "",
       "version_major": 2,
       "version_minor": 0
      },
      "text/plain": [
       "P2 loop:   0%|          | 0/61 [00:00<?, ?it/s]"
      ]
     },
     "metadata": {},
     "output_type": "display_data"
    },
    {
     "data": {
      "application/vnd.jupyter.widget-view+json": {
       "model_id": "",
       "version_major": 2,
       "version_minor": 0
      },
      "text/plain": [
       "P2 loop:   0%|          | 0/18 [00:00<?, ?it/s]"
      ]
     },
     "metadata": {},
     "output_type": "display_data"
    },
    {
     "data": {
      "application/vnd.jupyter.widget-view+json": {
       "model_id": "",
       "version_major": 2,
       "version_minor": 0
      },
      "text/plain": [
       "P2 loop:   0%|          | 0/8 [00:00<?, ?it/s]"
      ]
     },
     "metadata": {},
     "output_type": "display_data"
    },
    {
     "data": {
      "application/vnd.jupyter.widget-view+json": {
       "model_id": "",
       "version_major": 2,
       "version_minor": 0
      },
      "text/plain": [
       "P2 loop:   0%|          | 0/8 [00:00<?, ?it/s]"
      ]
     },
     "metadata": {},
     "output_type": "display_data"
    },
    {
     "data": {
      "application/vnd.jupyter.widget-view+json": {
       "model_id": "",
       "version_major": 2,
       "version_minor": 0
      },
      "text/plain": [
       "P2 loop:   0%|          | 0/58 [00:00<?, ?it/s]"
      ]
     },
     "metadata": {},
     "output_type": "display_data"
    },
    {
     "data": {
      "application/vnd.jupyter.widget-view+json": {
       "model_id": "",
       "version_major": 2,
       "version_minor": 0
      },
      "text/plain": [
       "P2 loop:   0%|          | 0/7 [00:00<?, ?it/s]"
      ]
     },
     "metadata": {},
     "output_type": "display_data"
    },
    {
     "data": {
      "application/vnd.jupyter.widget-view+json": {
       "model_id": "",
       "version_major": 2,
       "version_minor": 0
      },
      "text/plain": [
       "P2 loop:   0%|          | 0/7 [00:00<?, ?it/s]"
      ]
     },
     "metadata": {},
     "output_type": "display_data"
    },
    {
     "data": {
      "application/vnd.jupyter.widget-view+json": {
       "model_id": "",
       "version_major": 2,
       "version_minor": 0
      },
      "text/plain": [
       "P2 loop:   0%|          | 0/8 [00:00<?, ?it/s]"
      ]
     },
     "metadata": {},
     "output_type": "display_data"
    },
    {
     "data": {
      "application/vnd.jupyter.widget-view+json": {
       "model_id": "",
       "version_major": 2,
       "version_minor": 0
      },
      "text/plain": [
       "P2 loop:   0%|          | 0/8 [00:00<?, ?it/s]"
      ]
     },
     "metadata": {},
     "output_type": "display_data"
    },
    {
     "data": {
      "application/vnd.jupyter.widget-view+json": {
       "model_id": "",
       "version_major": 2,
       "version_minor": 0
      },
      "text/plain": [
       "P2 loop:   0%|          | 0/59 [00:00<?, ?it/s]"
      ]
     },
     "metadata": {},
     "output_type": "display_data"
    },
    {
     "data": {
      "application/vnd.jupyter.widget-view+json": {
       "model_id": "",
       "version_major": 2,
       "version_minor": 0
      },
      "text/plain": [
       "P2 loop:   0%|          | 0/56 [00:00<?, ?it/s]"
      ]
     },
     "metadata": {},
     "output_type": "display_data"
    },
    {
     "data": {
      "application/vnd.jupyter.widget-view+json": {
       "model_id": "",
       "version_major": 2,
       "version_minor": 0
      },
      "text/plain": [
       "P2 loop:   0%|          | 0/60 [00:00<?, ?it/s]"
      ]
     },
     "metadata": {},
     "output_type": "display_data"
    },
    {
     "data": {
      "application/vnd.jupyter.widget-view+json": {
       "model_id": "",
       "version_major": 2,
       "version_minor": 0
      },
      "text/plain": [
       "P2 loop:   0%|          | 0/3 [00:00<?, ?it/s]"
      ]
     },
     "metadata": {},
     "output_type": "display_data"
    },
    {
     "data": {
      "application/vnd.jupyter.widget-view+json": {
       "model_id": "",
       "version_major": 2,
       "version_minor": 0
      },
      "text/plain": [
       "P2 loop:   0%|          | 0/45 [00:00<?, ?it/s]"
      ]
     },
     "metadata": {},
     "output_type": "display_data"
    },
    {
     "data": {
      "application/vnd.jupyter.widget-view+json": {
       "model_id": "",
       "version_major": 2,
       "version_minor": 0
      },
      "text/plain": [
       "P2 loop:   0%|          | 0/59 [00:00<?, ?it/s]"
      ]
     },
     "metadata": {},
     "output_type": "display_data"
    },
    {
     "data": {
      "application/vnd.jupyter.widget-view+json": {
       "model_id": "",
       "version_major": 2,
       "version_minor": 0
      },
      "text/plain": [
       "P2 loop:   0%|          | 0/46 [00:00<?, ?it/s]"
      ]
     },
     "metadata": {},
     "output_type": "display_data"
    },
    {
     "data": {
      "application/vnd.jupyter.widget-view+json": {
       "model_id": "",
       "version_major": 2,
       "version_minor": 0
      },
      "text/plain": [
       "P2 loop:   0%|          | 0/57 [00:00<?, ?it/s]"
      ]
     },
     "metadata": {},
     "output_type": "display_data"
    },
    {
     "data": {
      "application/vnd.jupyter.widget-view+json": {
       "model_id": "",
       "version_major": 2,
       "version_minor": 0
      },
      "text/plain": [
       "P2 loop:   0%|          | 0/58 [00:00<?, ?it/s]"
      ]
     },
     "metadata": {},
     "output_type": "display_data"
    },
    {
     "data": {
      "application/vnd.jupyter.widget-view+json": {
       "model_id": "",
       "version_major": 2,
       "version_minor": 0
      },
      "text/plain": [
       "P2 loop:   0%|          | 0/58 [00:00<?, ?it/s]"
      ]
     },
     "metadata": {},
     "output_type": "display_data"
    },
    {
     "data": {
      "application/vnd.jupyter.widget-view+json": {
       "model_id": "",
       "version_major": 2,
       "version_minor": 0
      },
      "text/plain": [
       "P2 loop:   0%|          | 0/58 [00:00<?, ?it/s]"
      ]
     },
     "metadata": {},
     "output_type": "display_data"
    },
    {
     "data": {
      "application/vnd.jupyter.widget-view+json": {
       "model_id": "",
       "version_major": 2,
       "version_minor": 0
      },
      "text/plain": [
       "P2 loop:   0%|          | 0/57 [00:00<?, ?it/s]"
      ]
     },
     "metadata": {},
     "output_type": "display_data"
    },
    {
     "data": {
      "application/vnd.jupyter.widget-view+json": {
       "model_id": "",
       "version_major": 2,
       "version_minor": 0
      },
      "text/plain": [
       "P2 loop:   0%|          | 0/50 [00:00<?, ?it/s]"
      ]
     },
     "metadata": {},
     "output_type": "display_data"
    },
    {
     "data": {
      "application/vnd.jupyter.widget-view+json": {
       "model_id": "",
       "version_major": 2,
       "version_minor": 0
      },
      "text/plain": [
       "P2 loop:   0%|          | 0/55 [00:00<?, ?it/s]"
      ]
     },
     "metadata": {},
     "output_type": "display_data"
    },
    {
     "data": {
      "application/vnd.jupyter.widget-view+json": {
       "model_id": "",
       "version_major": 2,
       "version_minor": 0
      },
      "text/plain": [
       "P2 loop:   0%|          | 0/57 [00:00<?, ?it/s]"
      ]
     },
     "metadata": {},
     "output_type": "display_data"
    },
    {
     "data": {
      "application/vnd.jupyter.widget-view+json": {
       "model_id": "",
       "version_major": 2,
       "version_minor": 0
      },
      "text/plain": [
       "P2 loop:   0%|          | 0/56 [00:00<?, ?it/s]"
      ]
     },
     "metadata": {},
     "output_type": "display_data"
    },
    {
     "data": {
      "application/vnd.jupyter.widget-view+json": {
       "model_id": "",
       "version_major": 2,
       "version_minor": 0
      },
      "text/plain": [
       "P2 loop:   0%|          | 0/40 [00:00<?, ?it/s]"
      ]
     },
     "metadata": {},
     "output_type": "display_data"
    },
    {
     "data": {
      "application/vnd.jupyter.widget-view+json": {
       "model_id": "",
       "version_major": 2,
       "version_minor": 0
      },
      "text/plain": [
       "P2 loop:   0%|          | 0/47 [00:00<?, ?it/s]"
      ]
     },
     "metadata": {},
     "output_type": "display_data"
    },
    {
     "data": {
      "application/vnd.jupyter.widget-view+json": {
       "model_id": "",
       "version_major": 2,
       "version_minor": 0
      },
      "text/plain": [
       "P2 loop:   0%|          | 0/56 [00:00<?, ?it/s]"
      ]
     },
     "metadata": {},
     "output_type": "display_data"
    },
    {
     "data": {
      "application/vnd.jupyter.widget-view+json": {
       "model_id": "",
       "version_major": 2,
       "version_minor": 0
      },
      "text/plain": [
       "P2 loop:   0%|          | 0/26 [00:00<?, ?it/s]"
      ]
     },
     "metadata": {},
     "output_type": "display_data"
    },
    {
     "data": {
      "application/vnd.jupyter.widget-view+json": {
       "model_id": "",
       "version_major": 2,
       "version_minor": 0
      },
      "text/plain": [
       "P2 loop:   0%|          | 0/53 [00:00<?, ?it/s]"
      ]
     },
     "metadata": {},
     "output_type": "display_data"
    },
    {
     "data": {
      "application/vnd.jupyter.widget-view+json": {
       "model_id": "",
       "version_major": 2,
       "version_minor": 0
      },
      "text/plain": [
       "P2 loop:   0%|          | 0/56 [00:00<?, ?it/s]"
      ]
     },
     "metadata": {},
     "output_type": "display_data"
    },
    {
     "data": {
      "application/vnd.jupyter.widget-view+json": {
       "model_id": "",
       "version_major": 2,
       "version_minor": 0
      },
      "text/plain": [
       "P2 loop:   0%|          | 0/36 [00:00<?, ?it/s]"
      ]
     },
     "metadata": {},
     "output_type": "display_data"
    },
    {
     "data": {
      "application/vnd.jupyter.widget-view+json": {
       "model_id": "",
       "version_major": 2,
       "version_minor": 0
      },
      "text/plain": [
       "P2 loop:   0%|          | 0/50 [00:00<?, ?it/s]"
      ]
     },
     "metadata": {},
     "output_type": "display_data"
    },
    {
     "data": {
      "application/vnd.jupyter.widget-view+json": {
       "model_id": "",
       "version_major": 2,
       "version_minor": 0
      },
      "text/plain": [
       "P2 loop:   0%|          | 0/40 [00:00<?, ?it/s]"
      ]
     },
     "metadata": {},
     "output_type": "display_data"
    },
    {
     "data": {
      "application/vnd.jupyter.widget-view+json": {
       "model_id": "",
       "version_major": 2,
       "version_minor": 0
      },
      "text/plain": [
       "P2 loop:   0%|          | 0/31 [00:00<?, ?it/s]"
      ]
     },
     "metadata": {},
     "output_type": "display_data"
    },
    {
     "data": {
      "application/vnd.jupyter.widget-view+json": {
       "model_id": "",
       "version_major": 2,
       "version_minor": 0
      },
      "text/plain": [
       "P2 loop:   0%|          | 0/38 [00:00<?, ?it/s]"
      ]
     },
     "metadata": {},
     "output_type": "display_data"
    },
    {
     "data": {
      "application/vnd.jupyter.widget-view+json": {
       "model_id": "",
       "version_major": 2,
       "version_minor": 0
      },
      "text/plain": [
       "P2 loop:   0%|          | 0/45 [00:00<?, ?it/s]"
      ]
     },
     "metadata": {},
     "output_type": "display_data"
    },
    {
     "data": {
      "application/vnd.jupyter.widget-view+json": {
       "model_id": "",
       "version_major": 2,
       "version_minor": 0
      },
      "text/plain": [
       "P2 loop:   0%|          | 0/40 [00:00<?, ?it/s]"
      ]
     },
     "metadata": {},
     "output_type": "display_data"
    },
    {
     "data": {
      "application/vnd.jupyter.widget-view+json": {
       "model_id": "",
       "version_major": 2,
       "version_minor": 0
      },
      "text/plain": [
       "Attribute loop:   0%|          | 0/8072 [00:00<?, ?it/s]"
      ]
     },
     "metadata": {},
     "output_type": "display_data"
    },
    {
     "data": {
      "application/vnd.jupyter.widget-view+json": {
       "model_id": "",
       "version_major": 2,
       "version_minor": 0
      },
      "text/plain": [
       "neighbor loop:   0%|          | 0/8859 [00:00<?, ?it/s]"
      ]
     },
     "metadata": {},
     "output_type": "display_data"
    },
    {
     "data": {
      "application/vnd.jupyter.widget-view+json": {
       "model_id": "",
       "version_major": 2,
       "version_minor": 0
      },
      "text/plain": [
       "Predicate loop:   0%|          | 0/65 [00:00<?, ?it/s]"
      ]
     },
     "metadata": {},
     "output_type": "display_data"
    },
    {
     "data": {
      "application/vnd.jupyter.widget-view+json": {
       "model_id": "",
       "version_major": 2,
       "version_minor": 0
      },
      "text/plain": [
       "P2 loop:   0%|          | 0/23 [00:00<?, ?it/s]"
      ]
     },
     "metadata": {},
     "output_type": "display_data"
    },
    {
     "data": {
      "application/vnd.jupyter.widget-view+json": {
       "model_id": "",
       "version_major": 2,
       "version_minor": 0
      },
      "text/plain": [
       "P2 loop:   0%|          | 0/18 [00:00<?, ?it/s]"
      ]
     },
     "metadata": {},
     "output_type": "display_data"
    },
    {
     "data": {
      "application/vnd.jupyter.widget-view+json": {
       "model_id": "",
       "version_major": 2,
       "version_minor": 0
      },
      "text/plain": [
       "P2 loop:   0%|          | 0/21 [00:00<?, ?it/s]"
      ]
     },
     "metadata": {},
     "output_type": "display_data"
    },
    {
     "data": {
      "application/vnd.jupyter.widget-view+json": {
       "model_id": "",
       "version_major": 2,
       "version_minor": 0
      },
      "text/plain": [
       "P2 loop:   0%|          | 0/41 [00:00<?, ?it/s]"
      ]
     },
     "metadata": {},
     "output_type": "display_data"
    },
    {
     "data": {
      "application/vnd.jupyter.widget-view+json": {
       "model_id": "",
       "version_major": 2,
       "version_minor": 0
      },
      "text/plain": [
       "P2 loop:   0%|          | 0/36 [00:00<?, ?it/s]"
      ]
     },
     "metadata": {},
     "output_type": "display_data"
    },
    {
     "data": {
      "application/vnd.jupyter.widget-view+json": {
       "model_id": "",
       "version_major": 2,
       "version_minor": 0
      },
      "text/plain": [
       "P2 loop:   0%|          | 0/23 [00:00<?, ?it/s]"
      ]
     },
     "metadata": {},
     "output_type": "display_data"
    },
    {
     "data": {
      "application/vnd.jupyter.widget-view+json": {
       "model_id": "",
       "version_major": 2,
       "version_minor": 0
      },
      "text/plain": [
       "P2 loop:   0%|          | 0/35 [00:00<?, ?it/s]"
      ]
     },
     "metadata": {},
     "output_type": "display_data"
    },
    {
     "data": {
      "application/vnd.jupyter.widget-view+json": {
       "model_id": "",
       "version_major": 2,
       "version_minor": 0
      },
      "text/plain": [
       "P2 loop:   0%|          | 0/32 [00:00<?, ?it/s]"
      ]
     },
     "metadata": {},
     "output_type": "display_data"
    },
    {
     "data": {
      "application/vnd.jupyter.widget-view+json": {
       "model_id": "",
       "version_major": 2,
       "version_minor": 0
      },
      "text/plain": [
       "P2 loop:   0%|          | 0/7 [00:00<?, ?it/s]"
      ]
     },
     "metadata": {},
     "output_type": "display_data"
    },
    {
     "data": {
      "application/vnd.jupyter.widget-view+json": {
       "model_id": "",
       "version_major": 2,
       "version_minor": 0
      },
      "text/plain": [
       "P2 loop:   0%|          | 0/39 [00:00<?, ?it/s]"
      ]
     },
     "metadata": {},
     "output_type": "display_data"
    },
    {
     "data": {
      "application/vnd.jupyter.widget-view+json": {
       "model_id": "",
       "version_major": 2,
       "version_minor": 0
      },
      "text/plain": [
       "P2 loop:   0%|          | 0/38 [00:00<?, ?it/s]"
      ]
     },
     "metadata": {},
     "output_type": "display_data"
    },
    {
     "data": {
      "application/vnd.jupyter.widget-view+json": {
       "model_id": "",
       "version_major": 2,
       "version_minor": 0
      },
      "text/plain": [
       "P2 loop:   0%|          | 0/38 [00:00<?, ?it/s]"
      ]
     },
     "metadata": {},
     "output_type": "display_data"
    },
    {
     "data": {
      "application/vnd.jupyter.widget-view+json": {
       "model_id": "",
       "version_major": 2,
       "version_minor": 0
      },
      "text/plain": [
       "P2 loop:   0%|          | 0/12 [00:00<?, ?it/s]"
      ]
     },
     "metadata": {},
     "output_type": "display_data"
    },
    {
     "data": {
      "application/vnd.jupyter.widget-view+json": {
       "model_id": "",
       "version_major": 2,
       "version_minor": 0
      },
      "text/plain": [
       "P2 loop:   0%|          | 0/35 [00:00<?, ?it/s]"
      ]
     },
     "metadata": {},
     "output_type": "display_data"
    },
    {
     "data": {
      "application/vnd.jupyter.widget-view+json": {
       "model_id": "",
       "version_major": 2,
       "version_minor": 0
      },
      "text/plain": [
       "P2 loop:   0%|          | 0/2 [00:00<?, ?it/s]"
      ]
     },
     "metadata": {},
     "output_type": "display_data"
    },
    {
     "data": {
      "application/vnd.jupyter.widget-view+json": {
       "model_id": "",
       "version_major": 2,
       "version_minor": 0
      },
      "text/plain": [
       "P2 loop:   0%|          | 0/32 [00:00<?, ?it/s]"
      ]
     },
     "metadata": {},
     "output_type": "display_data"
    },
    {
     "data": {
      "application/vnd.jupyter.widget-view+json": {
       "model_id": "",
       "version_major": 2,
       "version_minor": 0
      },
      "text/plain": [
       "P2 loop:   0%|          | 0/9 [00:00<?, ?it/s]"
      ]
     },
     "metadata": {},
     "output_type": "display_data"
    },
    {
     "data": {
      "application/vnd.jupyter.widget-view+json": {
       "model_id": "",
       "version_major": 2,
       "version_minor": 0
      },
      "text/plain": [
       "P2 loop:   0%|          | 0/3 [00:00<?, ?it/s]"
      ]
     },
     "metadata": {},
     "output_type": "display_data"
    },
    {
     "data": {
      "application/vnd.jupyter.widget-view+json": {
       "model_id": "",
       "version_major": 2,
       "version_minor": 0
      },
      "text/plain": [
       "P2 loop:   0%|          | 0/31 [00:00<?, ?it/s]"
      ]
     },
     "metadata": {},
     "output_type": "display_data"
    },
    {
     "data": {
      "application/vnd.jupyter.widget-view+json": {
       "model_id": "",
       "version_major": 2,
       "version_minor": 0
      },
      "text/plain": [
       "P2 loop:   0%|          | 0/29 [00:00<?, ?it/s]"
      ]
     },
     "metadata": {},
     "output_type": "display_data"
    },
    {
     "data": {
      "application/vnd.jupyter.widget-view+json": {
       "model_id": "",
       "version_major": 2,
       "version_minor": 0
      },
      "text/plain": [
       "P2 loop:   0%|          | 0/34 [00:00<?, ?it/s]"
      ]
     },
     "metadata": {},
     "output_type": "display_data"
    },
    {
     "data": {
      "application/vnd.jupyter.widget-view+json": {
       "model_id": "",
       "version_major": 2,
       "version_minor": 0
      },
      "text/plain": [
       "P2 loop:   0%|          | 0/34 [00:00<?, ?it/s]"
      ]
     },
     "metadata": {},
     "output_type": "display_data"
    },
    {
     "data": {
      "application/vnd.jupyter.widget-view+json": {
       "model_id": "",
       "version_major": 2,
       "version_minor": 0
      },
      "text/plain": [
       "P2 loop:   0%|          | 0/35 [00:00<?, ?it/s]"
      ]
     },
     "metadata": {},
     "output_type": "display_data"
    },
    {
     "data": {
      "application/vnd.jupyter.widget-view+json": {
       "model_id": "",
       "version_major": 2,
       "version_minor": 0
      },
      "text/plain": [
       "P2 loop:   0%|          | 0/34 [00:00<?, ?it/s]"
      ]
     },
     "metadata": {},
     "output_type": "display_data"
    },
    {
     "data": {
      "application/vnd.jupyter.widget-view+json": {
       "model_id": "",
       "version_major": 2,
       "version_minor": 0
      },
      "text/plain": [
       "P2 loop:   0%|          | 0/20 [00:00<?, ?it/s]"
      ]
     },
     "metadata": {},
     "output_type": "display_data"
    },
    {
     "data": {
      "application/vnd.jupyter.widget-view+json": {
       "model_id": "",
       "version_major": 2,
       "version_minor": 0
      },
      "text/plain": [
       "P2 loop:   0%|          | 0/32 [00:00<?, ?it/s]"
      ]
     },
     "metadata": {},
     "output_type": "display_data"
    },
    {
     "data": {
      "application/vnd.jupyter.widget-view+json": {
       "model_id": "",
       "version_major": 2,
       "version_minor": 0
      },
      "text/plain": [
       "P2 loop:   0%|          | 0/26 [00:00<?, ?it/s]"
      ]
     },
     "metadata": {},
     "output_type": "display_data"
    },
    {
     "data": {
      "application/vnd.jupyter.widget-view+json": {
       "model_id": "",
       "version_major": 2,
       "version_minor": 0
      },
      "text/plain": [
       "P2 loop:   0%|          | 0/32 [00:00<?, ?it/s]"
      ]
     },
     "metadata": {},
     "output_type": "display_data"
    },
    {
     "data": {
      "application/vnd.jupyter.widget-view+json": {
       "model_id": "",
       "version_major": 2,
       "version_minor": 0
      },
      "text/plain": [
       "P2 loop:   0%|          | 0/32 [00:00<?, ?it/s]"
      ]
     },
     "metadata": {},
     "output_type": "display_data"
    },
    {
     "data": {
      "application/vnd.jupyter.widget-view+json": {
       "model_id": "",
       "version_major": 2,
       "version_minor": 0
      },
      "text/plain": [
       "P2 loop:   0%|          | 0/32 [00:00<?, ?it/s]"
      ]
     },
     "metadata": {},
     "output_type": "display_data"
    },
    {
     "data": {
      "application/vnd.jupyter.widget-view+json": {
       "model_id": "",
       "version_major": 2,
       "version_minor": 0
      },
      "text/plain": [
       "P2 loop:   0%|          | 0/31 [00:00<?, ?it/s]"
      ]
     },
     "metadata": {},
     "output_type": "display_data"
    },
    {
     "data": {
      "application/vnd.jupyter.widget-view+json": {
       "model_id": "",
       "version_major": 2,
       "version_minor": 0
      },
      "text/plain": [
       "P2 loop:   0%|          | 0/25 [00:00<?, ?it/s]"
      ]
     },
     "metadata": {},
     "output_type": "display_data"
    },
    {
     "data": {
      "application/vnd.jupyter.widget-view+json": {
       "model_id": "",
       "version_major": 2,
       "version_minor": 0
      },
      "text/plain": [
       "P2 loop:   0%|          | 0/32 [00:00<?, ?it/s]"
      ]
     },
     "metadata": {},
     "output_type": "display_data"
    },
    {
     "data": {
      "application/vnd.jupyter.widget-view+json": {
       "model_id": "",
       "version_major": 2,
       "version_minor": 0
      },
      "text/plain": [
       "P2 loop:   0%|          | 0/24 [00:00<?, ?it/s]"
      ]
     },
     "metadata": {},
     "output_type": "display_data"
    },
    {
     "data": {
      "application/vnd.jupyter.widget-view+json": {
       "model_id": "",
       "version_major": 2,
       "version_minor": 0
      },
      "text/plain": [
       "P2 loop:   0%|          | 0/31 [00:00<?, ?it/s]"
      ]
     },
     "metadata": {},
     "output_type": "display_data"
    },
    {
     "data": {
      "application/vnd.jupyter.widget-view+json": {
       "model_id": "",
       "version_major": 2,
       "version_minor": 0
      },
      "text/plain": [
       "P2 loop:   0%|          | 0/31 [00:00<?, ?it/s]"
      ]
     },
     "metadata": {},
     "output_type": "display_data"
    },
    {
     "data": {
      "application/vnd.jupyter.widget-view+json": {
       "model_id": "",
       "version_major": 2,
       "version_minor": 0
      },
      "text/plain": [
       "P2 loop:   0%|          | 0/31 [00:00<?, ?it/s]"
      ]
     },
     "metadata": {},
     "output_type": "display_data"
    },
    {
     "data": {
      "application/vnd.jupyter.widget-view+json": {
       "model_id": "",
       "version_major": 2,
       "version_minor": 0
      },
      "text/plain": [
       "P2 loop:   0%|          | 0/12 [00:00<?, ?it/s]"
      ]
     },
     "metadata": {},
     "output_type": "display_data"
    },
    {
     "data": {
      "application/vnd.jupyter.widget-view+json": {
       "model_id": "",
       "version_major": 2,
       "version_minor": 0
      },
      "text/plain": [
       "P2 loop:   0%|          | 0/29 [00:00<?, ?it/s]"
      ]
     },
     "metadata": {},
     "output_type": "display_data"
    },
    {
     "data": {
      "application/vnd.jupyter.widget-view+json": {
       "model_id": "",
       "version_major": 2,
       "version_minor": 0
      },
      "text/plain": [
       "P2 loop:   0%|          | 0/31 [00:00<?, ?it/s]"
      ]
     },
     "metadata": {},
     "output_type": "display_data"
    },
    {
     "data": {
      "application/vnd.jupyter.widget-view+json": {
       "model_id": "",
       "version_major": 2,
       "version_minor": 0
      },
      "text/plain": [
       "P2 loop:   0%|          | 0/30 [00:00<?, ?it/s]"
      ]
     },
     "metadata": {},
     "output_type": "display_data"
    },
    {
     "data": {
      "application/vnd.jupyter.widget-view+json": {
       "model_id": "",
       "version_major": 2,
       "version_minor": 0
      },
      "text/plain": [
       "P2 loop:   0%|          | 0/31 [00:00<?, ?it/s]"
      ]
     },
     "metadata": {},
     "output_type": "display_data"
    },
    {
     "data": {
      "application/vnd.jupyter.widget-view+json": {
       "model_id": "",
       "version_major": 2,
       "version_minor": 0
      },
      "text/plain": [
       "P2 loop:   0%|          | 0/31 [00:00<?, ?it/s]"
      ]
     },
     "metadata": {},
     "output_type": "display_data"
    },
    {
     "data": {
      "application/vnd.jupyter.widget-view+json": {
       "model_id": "",
       "version_major": 2,
       "version_minor": 0
      },
      "text/plain": [
       "P2 loop:   0%|          | 0/31 [00:00<?, ?it/s]"
      ]
     },
     "metadata": {},
     "output_type": "display_data"
    },
    {
     "data": {
      "application/vnd.jupyter.widget-view+json": {
       "model_id": "",
       "version_major": 2,
       "version_minor": 0
      },
      "text/plain": [
       "P2 loop:   0%|          | 0/28 [00:00<?, ?it/s]"
      ]
     },
     "metadata": {},
     "output_type": "display_data"
    },
    {
     "data": {
      "application/vnd.jupyter.widget-view+json": {
       "model_id": "",
       "version_major": 2,
       "version_minor": 0
      },
      "text/plain": [
       "P2 loop:   0%|          | 0/29 [00:00<?, ?it/s]"
      ]
     },
     "metadata": {},
     "output_type": "display_data"
    },
    {
     "data": {
      "application/vnd.jupyter.widget-view+json": {
       "model_id": "",
       "version_major": 2,
       "version_minor": 0
      },
      "text/plain": [
       "P2 loop:   0%|          | 0/26 [00:00<?, ?it/s]"
      ]
     },
     "metadata": {},
     "output_type": "display_data"
    },
    {
     "data": {
      "application/vnd.jupyter.widget-view+json": {
       "model_id": "",
       "version_major": 2,
       "version_minor": 0
      },
      "text/plain": [
       "P2 loop:   0%|          | 0/28 [00:00<?, ?it/s]"
      ]
     },
     "metadata": {},
     "output_type": "display_data"
    },
    {
     "data": {
      "application/vnd.jupyter.widget-view+json": {
       "model_id": "",
       "version_major": 2,
       "version_minor": 0
      },
      "text/plain": [
       "P2 loop:   0%|          | 0/29 [00:00<?, ?it/s]"
      ]
     },
     "metadata": {},
     "output_type": "display_data"
    },
    {
     "data": {
      "application/vnd.jupyter.widget-view+json": {
       "model_id": "",
       "version_major": 2,
       "version_minor": 0
      },
      "text/plain": [
       "P2 loop:   0%|          | 0/29 [00:00<?, ?it/s]"
      ]
     },
     "metadata": {},
     "output_type": "display_data"
    },
    {
     "data": {
      "application/vnd.jupyter.widget-view+json": {
       "model_id": "",
       "version_major": 2,
       "version_minor": 0
      },
      "text/plain": [
       "P2 loop:   0%|          | 0/23 [00:00<?, ?it/s]"
      ]
     },
     "metadata": {},
     "output_type": "display_data"
    },
    {
     "data": {
      "application/vnd.jupyter.widget-view+json": {
       "model_id": "",
       "version_major": 2,
       "version_minor": 0
      },
      "text/plain": [
       "P2 loop:   0%|          | 0/29 [00:00<?, ?it/s]"
      ]
     },
     "metadata": {},
     "output_type": "display_data"
    },
    {
     "data": {
      "application/vnd.jupyter.widget-view+json": {
       "model_id": "",
       "version_major": 2,
       "version_minor": 0
      },
      "text/plain": [
       "P2 loop:   0%|          | 0/29 [00:00<?, ?it/s]"
      ]
     },
     "metadata": {},
     "output_type": "display_data"
    },
    {
     "data": {
      "application/vnd.jupyter.widget-view+json": {
       "model_id": "",
       "version_major": 2,
       "version_minor": 0
      },
      "text/plain": [
       "P2 loop:   0%|          | 0/22 [00:00<?, ?it/s]"
      ]
     },
     "metadata": {},
     "output_type": "display_data"
    },
    {
     "data": {
      "application/vnd.jupyter.widget-view+json": {
       "model_id": "",
       "version_major": 2,
       "version_minor": 0
      },
      "text/plain": [
       "P2 loop:   0%|          | 0/13 [00:00<?, ?it/s]"
      ]
     },
     "metadata": {},
     "output_type": "display_data"
    },
    {
     "data": {
      "application/vnd.jupyter.widget-view+json": {
       "model_id": "",
       "version_major": 2,
       "version_minor": 0
      },
      "text/plain": [
       "P2 loop:   0%|          | 0/17 [00:00<?, ?it/s]"
      ]
     },
     "metadata": {},
     "output_type": "display_data"
    },
    {
     "data": {
      "application/vnd.jupyter.widget-view+json": {
       "model_id": "",
       "version_major": 2,
       "version_minor": 0
      },
      "text/plain": [
       "P2 loop:   0%|          | 0/27 [00:00<?, ?it/s]"
      ]
     },
     "metadata": {},
     "output_type": "display_data"
    },
    {
     "data": {
      "application/vnd.jupyter.widget-view+json": {
       "model_id": "",
       "version_major": 2,
       "version_minor": 0
      },
      "text/plain": [
       "P2 loop:   0%|          | 0/29 [00:00<?, ?it/s]"
      ]
     },
     "metadata": {},
     "output_type": "display_data"
    },
    {
     "data": {
      "application/vnd.jupyter.widget-view+json": {
       "model_id": "",
       "version_major": 2,
       "version_minor": 0
      },
      "text/plain": [
       "P2 loop:   0%|          | 0/24 [00:00<?, ?it/s]"
      ]
     },
     "metadata": {},
     "output_type": "display_data"
    },
    {
     "data": {
      "application/vnd.jupyter.widget-view+json": {
       "model_id": "",
       "version_major": 2,
       "version_minor": 0
      },
      "text/plain": [
       "P2 loop:   0%|          | 0/29 [00:00<?, ?it/s]"
      ]
     },
     "metadata": {},
     "output_type": "display_data"
    },
    {
     "data": {
      "application/vnd.jupyter.widget-view+json": {
       "model_id": "",
       "version_major": 2,
       "version_minor": 0
      },
      "text/plain": [
       "P2 loop:   0%|          | 0/21 [00:00<?, ?it/s]"
      ]
     },
     "metadata": {},
     "output_type": "display_data"
    },
    {
     "data": {
      "application/vnd.jupyter.widget-view+json": {
       "model_id": "",
       "version_major": 2,
       "version_minor": 0
      },
      "text/plain": [
       "P2 loop:   0%|          | 0/24 [00:00<?, ?it/s]"
      ]
     },
     "metadata": {},
     "output_type": "display_data"
    },
    {
     "data": {
      "application/vnd.jupyter.widget-view+json": {
       "model_id": "",
       "version_major": 2,
       "version_minor": 0
      },
      "text/plain": [
       "P2 loop:   0%|          | 0/22 [00:00<?, ?it/s]"
      ]
     },
     "metadata": {},
     "output_type": "display_data"
    },
    {
     "data": {
      "application/vnd.jupyter.widget-view+json": {
       "model_id": "",
       "version_major": 2,
       "version_minor": 0
      },
      "text/plain": [
       "P2 loop:   0%|          | 0/21 [00:00<?, ?it/s]"
      ]
     },
     "metadata": {},
     "output_type": "display_data"
    },
    {
     "data": {
      "application/vnd.jupyter.widget-view+json": {
       "model_id": "",
       "version_major": 2,
       "version_minor": 0
      },
      "text/plain": [
       "P2 loop:   0%|          | 0/17 [00:00<?, ?it/s]"
      ]
     },
     "metadata": {},
     "output_type": "display_data"
    },
    {
     "data": {
      "application/vnd.jupyter.widget-view+json": {
       "model_id": "",
       "version_major": 2,
       "version_minor": 0
      },
      "text/plain": [
       "Predicate loop:   0%|          | 0/43 [00:00<?, ?it/s]"
      ]
     },
     "metadata": {},
     "output_type": "display_data"
    },
    {
     "data": {
      "application/vnd.jupyter.widget-view+json": {
       "model_id": "",
       "version_major": 2,
       "version_minor": 0
      },
      "text/plain": [
       "P2 loop:   0%|          | 0/15 [00:00<?, ?it/s]"
      ]
     },
     "metadata": {},
     "output_type": "display_data"
    },
    {
     "data": {
      "application/vnd.jupyter.widget-view+json": {
       "model_id": "",
       "version_major": 2,
       "version_minor": 0
      },
      "text/plain": [
       "P2 loop:   0%|          | 0/24 [00:00<?, ?it/s]"
      ]
     },
     "metadata": {},
     "output_type": "display_data"
    },
    {
     "data": {
      "application/vnd.jupyter.widget-view+json": {
       "model_id": "",
       "version_major": 2,
       "version_minor": 0
      },
      "text/plain": [
       "P2 loop:   0%|          | 0/24 [00:00<?, ?it/s]"
      ]
     },
     "metadata": {},
     "output_type": "display_data"
    },
    {
     "data": {
      "application/vnd.jupyter.widget-view+json": {
       "model_id": "",
       "version_major": 2,
       "version_minor": 0
      },
      "text/plain": [
       "P2 loop:   0%|          | 0/25 [00:00<?, ?it/s]"
      ]
     },
     "metadata": {},
     "output_type": "display_data"
    },
    {
     "data": {
      "application/vnd.jupyter.widget-view+json": {
       "model_id": "",
       "version_major": 2,
       "version_minor": 0
      },
      "text/plain": [
       "P2 loop:   0%|          | 0/62 [00:00<?, ?it/s]"
      ]
     },
     "metadata": {},
     "output_type": "display_data"
    },
    {
     "data": {
      "application/vnd.jupyter.widget-view+json": {
       "model_id": "",
       "version_major": 2,
       "version_minor": 0
      },
      "text/plain": [
       "P2 loop:   0%|          | 0/61 [00:00<?, ?it/s]"
      ]
     },
     "metadata": {},
     "output_type": "display_data"
    },
    {
     "data": {
      "application/vnd.jupyter.widget-view+json": {
       "model_id": "",
       "version_major": 2,
       "version_minor": 0
      },
      "text/plain": [
       "P2 loop:   0%|          | 0/18 [00:00<?, ?it/s]"
      ]
     },
     "metadata": {},
     "output_type": "display_data"
    },
    {
     "data": {
      "application/vnd.jupyter.widget-view+json": {
       "model_id": "",
       "version_major": 2,
       "version_minor": 0
      },
      "text/plain": [
       "P2 loop:   0%|          | 0/8 [00:00<?, ?it/s]"
      ]
     },
     "metadata": {},
     "output_type": "display_data"
    },
    {
     "data": {
      "application/vnd.jupyter.widget-view+json": {
       "model_id": "",
       "version_major": 2,
       "version_minor": 0
      },
      "text/plain": [
       "P2 loop:   0%|          | 0/8 [00:00<?, ?it/s]"
      ]
     },
     "metadata": {},
     "output_type": "display_data"
    },
    {
     "data": {
      "application/vnd.jupyter.widget-view+json": {
       "model_id": "",
       "version_major": 2,
       "version_minor": 0
      },
      "text/plain": [
       "P2 loop:   0%|          | 0/58 [00:00<?, ?it/s]"
      ]
     },
     "metadata": {},
     "output_type": "display_data"
    },
    {
     "data": {
      "application/vnd.jupyter.widget-view+json": {
       "model_id": "",
       "version_major": 2,
       "version_minor": 0
      },
      "text/plain": [
       "P2 loop:   0%|          | 0/7 [00:00<?, ?it/s]"
      ]
     },
     "metadata": {},
     "output_type": "display_data"
    },
    {
     "data": {
      "application/vnd.jupyter.widget-view+json": {
       "model_id": "",
       "version_major": 2,
       "version_minor": 0
      },
      "text/plain": [
       "P2 loop:   0%|          | 0/7 [00:00<?, ?it/s]"
      ]
     },
     "metadata": {},
     "output_type": "display_data"
    },
    {
     "data": {
      "application/vnd.jupyter.widget-view+json": {
       "model_id": "",
       "version_major": 2,
       "version_minor": 0
      },
      "text/plain": [
       "P2 loop:   0%|          | 0/8 [00:00<?, ?it/s]"
      ]
     },
     "metadata": {},
     "output_type": "display_data"
    },
    {
     "data": {
      "application/vnd.jupyter.widget-view+json": {
       "model_id": "",
       "version_major": 2,
       "version_minor": 0
      },
      "text/plain": [
       "P2 loop:   0%|          | 0/8 [00:00<?, ?it/s]"
      ]
     },
     "metadata": {},
     "output_type": "display_data"
    },
    {
     "data": {
      "application/vnd.jupyter.widget-view+json": {
       "model_id": "",
       "version_major": 2,
       "version_minor": 0
      },
      "text/plain": [
       "P2 loop:   0%|          | 0/59 [00:00<?, ?it/s]"
      ]
     },
     "metadata": {},
     "output_type": "display_data"
    },
    {
     "data": {
      "application/vnd.jupyter.widget-view+json": {
       "model_id": "",
       "version_major": 2,
       "version_minor": 0
      },
      "text/plain": [
       "P2 loop:   0%|          | 0/56 [00:00<?, ?it/s]"
      ]
     },
     "metadata": {},
     "output_type": "display_data"
    },
    {
     "data": {
      "application/vnd.jupyter.widget-view+json": {
       "model_id": "",
       "version_major": 2,
       "version_minor": 0
      },
      "text/plain": [
       "P2 loop:   0%|          | 0/60 [00:00<?, ?it/s]"
      ]
     },
     "metadata": {},
     "output_type": "display_data"
    },
    {
     "data": {
      "application/vnd.jupyter.widget-view+json": {
       "model_id": "",
       "version_major": 2,
       "version_minor": 0
      },
      "text/plain": [
       "P2 loop:   0%|          | 0/3 [00:00<?, ?it/s]"
      ]
     },
     "metadata": {},
     "output_type": "display_data"
    },
    {
     "data": {
      "application/vnd.jupyter.widget-view+json": {
       "model_id": "",
       "version_major": 2,
       "version_minor": 0
      },
      "text/plain": [
       "P2 loop:   0%|          | 0/45 [00:00<?, ?it/s]"
      ]
     },
     "metadata": {},
     "output_type": "display_data"
    },
    {
     "data": {
      "application/vnd.jupyter.widget-view+json": {
       "model_id": "",
       "version_major": 2,
       "version_minor": 0
      },
      "text/plain": [
       "P2 loop:   0%|          | 0/59 [00:00<?, ?it/s]"
      ]
     },
     "metadata": {},
     "output_type": "display_data"
    },
    {
     "data": {
      "application/vnd.jupyter.widget-view+json": {
       "model_id": "",
       "version_major": 2,
       "version_minor": 0
      },
      "text/plain": [
       "P2 loop:   0%|          | 0/46 [00:00<?, ?it/s]"
      ]
     },
     "metadata": {},
     "output_type": "display_data"
    },
    {
     "data": {
      "application/vnd.jupyter.widget-view+json": {
       "model_id": "",
       "version_major": 2,
       "version_minor": 0
      },
      "text/plain": [
       "P2 loop:   0%|          | 0/59 [00:00<?, ?it/s]"
      ]
     },
     "metadata": {},
     "output_type": "display_data"
    },
    {
     "data": {
      "application/vnd.jupyter.widget-view+json": {
       "model_id": "",
       "version_major": 2,
       "version_minor": 0
      },
      "text/plain": [
       "P2 loop:   0%|          | 0/58 [00:00<?, ?it/s]"
      ]
     },
     "metadata": {},
     "output_type": "display_data"
    },
    {
     "data": {
      "application/vnd.jupyter.widget-view+json": {
       "model_id": "",
       "version_major": 2,
       "version_minor": 0
      },
      "text/plain": [
       "P2 loop:   0%|          | 0/58 [00:00<?, ?it/s]"
      ]
     },
     "metadata": {},
     "output_type": "display_data"
    },
    {
     "data": {
      "application/vnd.jupyter.widget-view+json": {
       "model_id": "",
       "version_major": 2,
       "version_minor": 0
      },
      "text/plain": [
       "P2 loop:   0%|          | 0/58 [00:00<?, ?it/s]"
      ]
     },
     "metadata": {},
     "output_type": "display_data"
    },
    {
     "data": {
      "application/vnd.jupyter.widget-view+json": {
       "model_id": "",
       "version_major": 2,
       "version_minor": 0
      },
      "text/plain": [
       "P2 loop:   0%|          | 0/57 [00:00<?, ?it/s]"
      ]
     },
     "metadata": {},
     "output_type": "display_data"
    },
    {
     "data": {
      "application/vnd.jupyter.widget-view+json": {
       "model_id": "",
       "version_major": 2,
       "version_minor": 0
      },
      "text/plain": [
       "P2 loop:   0%|          | 0/50 [00:00<?, ?it/s]"
      ]
     },
     "metadata": {},
     "output_type": "display_data"
    },
    {
     "data": {
      "application/vnd.jupyter.widget-view+json": {
       "model_id": "",
       "version_major": 2,
       "version_minor": 0
      },
      "text/plain": [
       "P2 loop:   0%|          | 0/55 [00:00<?, ?it/s]"
      ]
     },
     "metadata": {},
     "output_type": "display_data"
    },
    {
     "data": {
      "application/vnd.jupyter.widget-view+json": {
       "model_id": "",
       "version_major": 2,
       "version_minor": 0
      },
      "text/plain": [
       "P2 loop:   0%|          | 0/57 [00:00<?, ?it/s]"
      ]
     },
     "metadata": {},
     "output_type": "display_data"
    },
    {
     "data": {
      "application/vnd.jupyter.widget-view+json": {
       "model_id": "",
       "version_major": 2,
       "version_minor": 0
      },
      "text/plain": [
       "P2 loop:   0%|          | 0/56 [00:00<?, ?it/s]"
      ]
     },
     "metadata": {},
     "output_type": "display_data"
    },
    {
     "data": {
      "application/vnd.jupyter.widget-view+json": {
       "model_id": "",
       "version_major": 2,
       "version_minor": 0
      },
      "text/plain": [
       "P2 loop:   0%|          | 0/40 [00:00<?, ?it/s]"
      ]
     },
     "metadata": {},
     "output_type": "display_data"
    },
    {
     "data": {
      "application/vnd.jupyter.widget-view+json": {
       "model_id": "",
       "version_major": 2,
       "version_minor": 0
      },
      "text/plain": [
       "P2 loop:   0%|          | 0/47 [00:00<?, ?it/s]"
      ]
     },
     "metadata": {},
     "output_type": "display_data"
    },
    {
     "data": {
      "application/vnd.jupyter.widget-view+json": {
       "model_id": "",
       "version_major": 2,
       "version_minor": 0
      },
      "text/plain": [
       "P2 loop:   0%|          | 0/56 [00:00<?, ?it/s]"
      ]
     },
     "metadata": {},
     "output_type": "display_data"
    },
    {
     "data": {
      "application/vnd.jupyter.widget-view+json": {
       "model_id": "",
       "version_major": 2,
       "version_minor": 0
      },
      "text/plain": [
       "P2 loop:   0%|          | 0/26 [00:00<?, ?it/s]"
      ]
     },
     "metadata": {},
     "output_type": "display_data"
    },
    {
     "data": {
      "application/vnd.jupyter.widget-view+json": {
       "model_id": "",
       "version_major": 2,
       "version_minor": 0
      },
      "text/plain": [
       "P2 loop:   0%|          | 0/55 [00:00<?, ?it/s]"
      ]
     },
     "metadata": {},
     "output_type": "display_data"
    },
    {
     "data": {
      "application/vnd.jupyter.widget-view+json": {
       "model_id": "",
       "version_major": 2,
       "version_minor": 0
      },
      "text/plain": [
       "P2 loop:   0%|          | 0/56 [00:00<?, ?it/s]"
      ]
     },
     "metadata": {},
     "output_type": "display_data"
    },
    {
     "data": {
      "application/vnd.jupyter.widget-view+json": {
       "model_id": "",
       "version_major": 2,
       "version_minor": 0
      },
      "text/plain": [
       "P2 loop:   0%|          | 0/36 [00:00<?, ?it/s]"
      ]
     },
     "metadata": {},
     "output_type": "display_data"
    },
    {
     "data": {
      "application/vnd.jupyter.widget-view+json": {
       "model_id": "",
       "version_major": 2,
       "version_minor": 0
      },
      "text/plain": [
       "P2 loop:   0%|          | 0/50 [00:00<?, ?it/s]"
      ]
     },
     "metadata": {},
     "output_type": "display_data"
    },
    {
     "data": {
      "application/vnd.jupyter.widget-view+json": {
       "model_id": "",
       "version_major": 2,
       "version_minor": 0
      },
      "text/plain": [
       "P2 loop:   0%|          | 0/41 [00:00<?, ?it/s]"
      ]
     },
     "metadata": {},
     "output_type": "display_data"
    },
    {
     "data": {
      "application/vnd.jupyter.widget-view+json": {
       "model_id": "",
       "version_major": 2,
       "version_minor": 0
      },
      "text/plain": [
       "P2 loop:   0%|          | 0/31 [00:00<?, ?it/s]"
      ]
     },
     "metadata": {},
     "output_type": "display_data"
    },
    {
     "data": {
      "application/vnd.jupyter.widget-view+json": {
       "model_id": "",
       "version_major": 2,
       "version_minor": 0
      },
      "text/plain": [
       "P2 loop:   0%|          | 0/38 [00:00<?, ?it/s]"
      ]
     },
     "metadata": {},
     "output_type": "display_data"
    },
    {
     "data": {
      "application/vnd.jupyter.widget-view+json": {
       "model_id": "",
       "version_major": 2,
       "version_minor": 0
      },
      "text/plain": [
       "P2 loop:   0%|          | 0/45 [00:00<?, ?it/s]"
      ]
     },
     "metadata": {},
     "output_type": "display_data"
    },
    {
     "data": {
      "application/vnd.jupyter.widget-view+json": {
       "model_id": "",
       "version_major": 2,
       "version_minor": 0
      },
      "text/plain": [
       "P2 loop:   0%|          | 0/41 [00:00<?, ?it/s]"
      ]
     },
     "metadata": {},
     "output_type": "display_data"
    }
   ],
   "source": [
    "old_entity_pair_match_dict = dict()\n",
    "predicate_pair_dict_1 = dict()\n",
    "predicate_pair_dict_2 = dict()\n",
    "loaded_neighbors_dict = dict()\n",
    "\n",
    "for i in tqdm(range(10), desc='Main loop'):\n",
    "    predicate_pair_counter = list()\n",
    "\n",
    "    new_entity_pair_match_dict = dict()\n",
    "    \n",
    "    calculate_entity_prob_using_attribute(new_entity_pair_match_dict)     \n",
    "    \n",
    "    calculate_entity_prob_using_neighbors(new_entity_pair_match_dict, old_entity_pair_match_dict, loaded_neighbors_dict)\n",
    "\n",
    "    #calculate_prob_predicates(predicate_pair_dict, new_entity_pair_match_dict)\n",
    "    calculate_prob_predicates(predicate_pair_dict_1, predicate_pair_counter, new_entity_pair_match_dict, False)\n",
    "    calculate_prob_predicates(predicate_pair_dict_2, predicate_pair_counter, new_entity_pair_match_dict, True)\n",
    "    \n",
    "    save_entity_pairs(i, new_entity_pair_match_dict)\n",
    "    save_predicate_pairs_into_df(i, predicate_pair_dict_1, \"mcu-marvel/predicate_pair_1_\")\n",
    "    save_predicate_pairs_into_df(i, predicate_pair_dict_2, \"mcu-marvel/predicate_pair_2_\")\n",
    "    old_entity_pair_match_dict = new_entity_pair_match_dict"
   ]
  },
  {
   "cell_type": "code",
   "execution_count": 31,
   "id": "3990f5a4",
   "metadata": {},
   "outputs": [
    {
     "data": {
      "application/vnd.jupyter.widget-view+json": {
       "model_id": "",
       "version_major": 2,
       "version_minor": 0
      },
      "text/plain": [
       "Attribute loop:   0%|          | 0/8072 [00:00<?, ?it/s]"
      ]
     },
     "metadata": {},
     "output_type": "display_data"
    }
   ],
   "source": [
    "old_entity_pair_match_dict = dict()\n",
    "predicate_pair_dict_1 = dict()\n",
    "predicate_pair_dict_2 = dict()\n",
    "loaded_neighbors_dict = dict()\n",
    "\n",
    "predicate_pair_counter = list()\n",
    "\n",
    "new_entity_pair_match_dict = dict()\n",
    "    \n",
    "calculate_entity_prob_using_attribute(new_entity_pair_match_dict)"
   ]
  },
  {
   "cell_type": "code",
   "execution_count": 55,
   "id": "32e7a3d8",
   "metadata": {},
   "outputs": [],
   "source": [
    "keys_to_keep = ['http://dbkwik.webdatacommons.org/marvelcinematicuniverse.wikia.com/resource/Avengers', 'http://dbkwik.webdatacommons.org/marvelcinematicuniverse.wikia.com/resource/San_Francisco', 'http://dbkwik.webdatacommons.org/marvelcinematicuniverse.wikia.com/resource/Slovakia', 'http://dbkwik.webdatacommons.org/marvelcinematicuniverse.wikia.com/resource/2000s']\n",
    "\n",
    "old_entity_pair_match_dict = {k: new_entity_pair_match_dict[k] for k in keys_to_keep}"
   ]
  },
  {
   "cell_type": "code",
   "execution_count": 41,
   "id": "e3590416",
   "metadata": {},
   "outputs": [],
   "source": [
    "def generate_y1_y2(old_entity_pair_match_dict):\n",
    "    for y1, y2_dict in old_entity_pair_match_dict.items():\n",
    "        for y2 in y2_dict:\n",
    "            yield y1, y2"
   ]
  },
  {
   "cell_type": "code",
   "execution_count": 62,
   "id": "2484a67c",
   "metadata": {},
   "outputs": [],
   "source": [
    "def create_list_update_neighbors(y1, y2, new_entity_pair_dict):\n",
    "    y_sim = 1\n",
    "    if y1 in new_entity_pair_dict.keys() and y2 in new_entity_pair_dict[y1].keys():\n",
    "        y_sim -= new_entity_pair_dict[y1][y2]\n",
    "    else:\n",
    "        y_sim -= old_entity_pair_dict[y1][y2]\n",
    "    y1_neighbors = get_inbound_neighbors(graph_1, graph_1_predicate_list, y1, {})\n",
    "    y2_neighbors = get_inbound_neighbors(graph_2, graph_2_predicate_list, y2, {})\n",
    "    \n",
    "    return (y1, y1_neighbors, y2, y2_neighbors, y_sim)"
   ]
  },
  {
   "cell_type": "code",
   "execution_count": 63,
   "id": "78b630b3",
   "metadata": {},
   "outputs": [
    {
     "name": "stderr",
     "output_type": "stream",
     "text": [
      "IOPub data rate exceeded.\n",
      "The notebook server will temporarily stop sending output\n",
      "to the client in order to avoid crashing it.\n",
      "To change this limit, set the config variable\n",
      "`--NotebookApp.iopub_data_rate_limit`.\n",
      "\n",
      "Current values:\n",
      "NotebookApp.iopub_data_rate_limit=1000000.0 (bytes/sec)\n",
      "NotebookApp.rate_limit_window=3.0 (secs)\n",
      "\n"
     ]
    },
    {
     "data": {
      "application/vnd.jupyter.widget-view+json": {
       "model_id": "da84007769524a80be9e57d2bde85b4d",
       "version_major": 2,
       "version_minor": 0
      },
      "text/plain": [
       "0it [00:00, ?it/s]"
      ]
     },
     "metadata": {},
     "output_type": "display_data"
    },
    {
     "name": "stdout",
     "output_type": "stream",
     "text": [
      "('http://dbkwik.webdatacommons.org/marvelcinematicuniverse.wikia.com/resource/Avengers', [{'p': rdflib.term.URIRef('http://dbkwik.webdatacommons.org/marvelcinematicuniverse.wikia.com/property/alias'), 's': rdflib.term.URIRef('http://dbkwik.webdatacommons.org/marvelcinematicuniverse.wikia.com/resource/Spider-Man')}, {'p': rdflib.term.URIRef('http://dbkwik.webdatacommons.org/marvelcinematicuniverse.wikia.com/property/alias'), 's': rdflib.term.URIRef('http://dbkwik.webdatacommons.org/marvelcinematicuniverse.wikia.com/resource/Hulk')}, {'p': rdflib.term.URIRef('http://dbkwik.webdatacommons.org/marvelcinematicuniverse.wikia.com/property/alias'), 's': rdflib.term.URIRef('http://dbkwik.webdatacommons.org/marvelcinematicuniverse.wikia.com/resource/Thor')}, {'p': rdflib.term.URIRef('http://dbkwik.webdatacommons.org/marvelcinematicuniverse.wikia.com/property/passengers'), 's': rdflib.term.URIRef('http://dbkwik.webdatacommons.org/marvelcinematicuniverse.wikia.com/resource/Helicarrier')}, {'p': rdflib.term.URIRef('http://dbkwik.webdatacommons.org/marvelcinematicuniverse.wikia.com/property/owner'), 's': rdflib.term.URIRef('http://dbkwik.webdatacommons.org/marvelcinematicuniverse.wikia.com/resource/Quinjet')}, {'p': rdflib.term.URIRef('http://dbkwik.webdatacommons.org/ontology/wikiPageDisambiguates'), 's': rdflib.term.URIRef('http://dbkwik.webdatacommons.org/marvelcinematicuniverse.wikia.com/resource/Avengers_(disambiguation)')}], 'http://dbkwik.webdatacommons.org/marvel.wikia.com/resource/Category:Initiative', [], 0.3129037689510894)\n",
      "('http://dbkwik.webdatacommons.org/marvelcinematicuniverse.wikia.com/resource/Avengers', [{'p': rdflib.term.URIRef('http://dbkwik.webdatacommons.org/marvelcinematicuniverse.wikia.com/property/alias'), 's': rdflib.term.URIRef('http://dbkwik.webdatacommons.org/marvelcinematicuniverse.wikia.com/resource/Spider-Man')}, {'p': rdflib.term.URIRef('http://dbkwik.webdatacommons.org/marvelcinematicuniverse.wikia.com/property/alias'), 's': rdflib.term.URIRef('http://dbkwik.webdatacommons.org/marvelcinematicuniverse.wikia.com/resource/Hulk')}, {'p': rdflib.term.URIRef('http://dbkwik.webdatacommons.org/marvelcinematicuniverse.wikia.com/property/alias'), 's': rdflib.term.URIRef('http://dbkwik.webdatacommons.org/marvelcinematicuniverse.wikia.com/resource/Thor')}, {'p': rdflib.term.URIRef('http://dbkwik.webdatacommons.org/marvelcinematicuniverse.wikia.com/property/passengers'), 's': rdflib.term.URIRef('http://dbkwik.webdatacommons.org/marvelcinematicuniverse.wikia.com/resource/Helicarrier')}, {'p': rdflib.term.URIRef('http://dbkwik.webdatacommons.org/marvelcinematicuniverse.wikia.com/property/owner'), 's': rdflib.term.URIRef('http://dbkwik.webdatacommons.org/marvelcinematicuniverse.wikia.com/resource/Quinjet')}, {'p': rdflib.term.URIRef('http://dbkwik.webdatacommons.org/ontology/wikiPageDisambiguates'), 's': rdflib.term.URIRef('http://dbkwik.webdatacommons.org/marvelcinematicuniverse.wikia.com/resource/Avengers_(disambiguation)')}], 'http://dbkwik.webdatacommons.org/marvel.wikia.com/resource/Initiative', [], 0.41211601278561416)\n",
      "('http://dbkwik.webdatacommons.org/marvelcinematicuniverse.wikia.com/resource/Avengers', [{'p': rdflib.term.URIRef('http://dbkwik.webdatacommons.org/marvelcinematicuniverse.wikia.com/property/alias'), 's': rdflib.term.URIRef('http://dbkwik.webdatacommons.org/marvelcinematicuniverse.wikia.com/resource/Spider-Man')}, {'p': rdflib.term.URIRef('http://dbkwik.webdatacommons.org/marvelcinematicuniverse.wikia.com/property/alias'), 's': rdflib.term.URIRef('http://dbkwik.webdatacommons.org/marvelcinematicuniverse.wikia.com/resource/Hulk')}, {'p': rdflib.term.URIRef('http://dbkwik.webdatacommons.org/marvelcinematicuniverse.wikia.com/property/alias'), 's': rdflib.term.URIRef('http://dbkwik.webdatacommons.org/marvelcinematicuniverse.wikia.com/resource/Thor')}, {'p': rdflib.term.URIRef('http://dbkwik.webdatacommons.org/marvelcinematicuniverse.wikia.com/property/passengers'), 's': rdflib.term.URIRef('http://dbkwik.webdatacommons.org/marvelcinematicuniverse.wikia.com/resource/Helicarrier')}, {'p': rdflib.term.URIRef('http://dbkwik.webdatacommons.org/marvelcinematicuniverse.wikia.com/property/owner'), 's': rdflib.term.URIRef('http://dbkwik.webdatacommons.org/marvelcinematicuniverse.wikia.com/resource/Quinjet')}, {'p': rdflib.term.URIRef('http://dbkwik.webdatacommons.org/ontology/wikiPageDisambiguates'), 's': rdflib.term.URIRef('http://dbkwik.webdatacommons.org/marvelcinematicuniverse.wikia.com/resource/Avengers_(disambiguation)')}], 'http://dbkwik.webdatacommons.org/marvel.wikia.com/resource/50-State_Initiative_(Earth-616)', [{'p': rdflib.term.URIRef('http://dbkwik.webdatacommons.org/marvel.wikia.com/property/body'), 's': rdflib.term.URIRef('http://dbkwik.webdatacommons.org/marvel.wikia.com/resource/Hydra_(Earth-616)')}, {'p': rdflib.term.URIRef('http://dbkwik.webdatacommons.org/marvel.wikia.com/property/mainCharacter'), 's': rdflib.term.URIRef('http://dbkwik.webdatacommons.org/marvel.wikia.com/resource/50-State_Initiative')}, {'p': rdflib.term.URIRef('http://dbkwik.webdatacommons.org/ontology/wikiPageDisambiguates'), 's': rdflib.term.URIRef('http://dbkwik.webdatacommons.org/marvel.wikia.com/resource/50-State_Initiative')}], 0.1443935206616821)\n",
      "('http://dbkwik.webdatacommons.org/marvelcinematicuniverse.wikia.com/resource/Avengers', [{'p': rdflib.term.URIRef('http://dbkwik.webdatacommons.org/marvelcinematicuniverse.wikia.com/property/alias'), 's': rdflib.term.URIRef('http://dbkwik.webdatacommons.org/marvelcinematicuniverse.wikia.com/resource/Spider-Man')}, {'p': rdflib.term.URIRef('http://dbkwik.webdatacommons.org/marvelcinematicuniverse.wikia.com/property/alias'), 's': rdflib.term.URIRef('http://dbkwik.webdatacommons.org/marvelcinematicuniverse.wikia.com/resource/Hulk')}, {'p': rdflib.term.URIRef('http://dbkwik.webdatacommons.org/marvelcinematicuniverse.wikia.com/property/alias'), 's': rdflib.term.URIRef('http://dbkwik.webdatacommons.org/marvelcinematicuniverse.wikia.com/resource/Thor')}, {'p': rdflib.term.URIRef('http://dbkwik.webdatacommons.org/marvelcinematicuniverse.wikia.com/property/passengers'), 's': rdflib.term.URIRef('http://dbkwik.webdatacommons.org/marvelcinematicuniverse.wikia.com/resource/Helicarrier')}, {'p': rdflib.term.URIRef('http://dbkwik.webdatacommons.org/marvelcinematicuniverse.wikia.com/property/owner'), 's': rdflib.term.URIRef('http://dbkwik.webdatacommons.org/marvelcinematicuniverse.wikia.com/resource/Quinjet')}, {'p': rdflib.term.URIRef('http://dbkwik.webdatacommons.org/ontology/wikiPageDisambiguates'), 's': rdflib.term.URIRef('http://dbkwik.webdatacommons.org/marvelcinematicuniverse.wikia.com/resource/Avengers_(disambiguation)')}], 'http://dbkwik.webdatacommons.org/marvel.wikia.com/resource/50-State_Initiative', [{'p': rdflib.term.URIRef('http://dbkwik.webdatacommons.org/ontology/wikiPageDisambiguates'), 's': rdflib.term.URIRef('http://dbkwik.webdatacommons.org/marvel.wikia.com/resource/Initiative')}], 0.1443935206616821)\n",
      "('http://dbkwik.webdatacommons.org/marvelcinematicuniverse.wikia.com/resource/Avengers', [{'p': rdflib.term.URIRef('http://dbkwik.webdatacommons.org/marvelcinematicuniverse.wikia.com/property/alias'), 's': rdflib.term.URIRef('http://dbkwik.webdatacommons.org/marvelcinematicuniverse.wikia.com/resource/Spider-Man')}, {'p': rdflib.term.URIRef('http://dbkwik.webdatacommons.org/marvelcinematicuniverse.wikia.com/property/alias'), 's': rdflib.term.URIRef('http://dbkwik.webdatacommons.org/marvelcinematicuniverse.wikia.com/resource/Hulk')}, {'p': rdflib.term.URIRef('http://dbkwik.webdatacommons.org/marvelcinematicuniverse.wikia.com/property/alias'), 's': rdflib.term.URIRef('http://dbkwik.webdatacommons.org/marvelcinematicuniverse.wikia.com/resource/Thor')}, {'p': rdflib.term.URIRef('http://dbkwik.webdatacommons.org/marvelcinematicuniverse.wikia.com/property/passengers'), 's': rdflib.term.URIRef('http://dbkwik.webdatacommons.org/marvelcinematicuniverse.wikia.com/resource/Helicarrier')}, {'p': rdflib.term.URIRef('http://dbkwik.webdatacommons.org/marvelcinematicuniverse.wikia.com/property/owner'), 's': rdflib.term.URIRef('http://dbkwik.webdatacommons.org/marvelcinematicuniverse.wikia.com/resource/Quinjet')}, {'p': rdflib.term.URIRef('http://dbkwik.webdatacommons.org/ontology/wikiPageDisambiguates'), 's': rdflib.term.URIRef('http://dbkwik.webdatacommons.org/marvelcinematicuniverse.wikia.com/resource/Avengers_(disambiguation)')}], 'http://dbkwik.webdatacommons.org/marvel.wikia.com/resource/Avengers_Initiative', [{'p': rdflib.term.URIRef('http://dbkwik.webdatacommons.org/ontology/wikiPageDisambiguates'), 's': rdflib.term.URIRef('http://dbkwik.webdatacommons.org/marvel.wikia.com/resource/Initiative')}, {'p': rdflib.term.URIRef('http://dbkwik.webdatacommons.org/marvel.wikia.com/property/newHeader'), 's': rdflib.term.URIRef('http://dbkwik.webdatacommons.org/marvel.wikia.com/resource/Initiative')}, {'p': rdflib.term.URIRef('http://dbkwik.webdatacommons.org/marvel.wikia.com/property/related'), 's': rdflib.term.URIRef('http://dbkwik.webdatacommons.org/marvel.wikia.com/resource/50-State_Initiative')}], 0.1443935206616821)\n"
     ]
    },
    {
     "name": "stdout",
     "output_type": "stream",
     "text": [
      "('http://dbkwik.webdatacommons.org/marvelcinematicuniverse.wikia.com/resource/Avengers', [{'p': rdflib.term.URIRef('http://dbkwik.webdatacommons.org/marvelcinematicuniverse.wikia.com/property/alias'), 's': rdflib.term.URIRef('http://dbkwik.webdatacommons.org/marvelcinematicuniverse.wikia.com/resource/Spider-Man')}, {'p': rdflib.term.URIRef('http://dbkwik.webdatacommons.org/marvelcinematicuniverse.wikia.com/property/alias'), 's': rdflib.term.URIRef('http://dbkwik.webdatacommons.org/marvelcinematicuniverse.wikia.com/resource/Hulk')}, {'p': rdflib.term.URIRef('http://dbkwik.webdatacommons.org/marvelcinematicuniverse.wikia.com/property/alias'), 's': rdflib.term.URIRef('http://dbkwik.webdatacommons.org/marvelcinematicuniverse.wikia.com/resource/Thor')}, {'p': rdflib.term.URIRef('http://dbkwik.webdatacommons.org/marvelcinematicuniverse.wikia.com/property/passengers'), 's': rdflib.term.URIRef('http://dbkwik.webdatacommons.org/marvelcinematicuniverse.wikia.com/resource/Helicarrier')}, {'p': rdflib.term.URIRef('http://dbkwik.webdatacommons.org/marvelcinematicuniverse.wikia.com/property/owner'), 's': rdflib.term.URIRef('http://dbkwik.webdatacommons.org/marvelcinematicuniverse.wikia.com/resource/Quinjet')}, {'p': rdflib.term.URIRef('http://dbkwik.webdatacommons.org/ontology/wikiPageDisambiguates'), 's': rdflib.term.URIRef('http://dbkwik.webdatacommons.org/marvelcinematicuniverse.wikia.com/resource/Avengers_(disambiguation)')}], 'http://dbkwik.webdatacommons.org/marvel.wikia.com/resource/Initiative_(Earth-32323)', [], 0.1443935206616821)\n",
      "('http://dbkwik.webdatacommons.org/marvelcinematicuniverse.wikia.com/resource/Avengers', [{'p': rdflib.term.URIRef('http://dbkwik.webdatacommons.org/marvelcinematicuniverse.wikia.com/property/alias'), 's': rdflib.term.URIRef('http://dbkwik.webdatacommons.org/marvelcinematicuniverse.wikia.com/resource/Spider-Man')}, {'p': rdflib.term.URIRef('http://dbkwik.webdatacommons.org/marvelcinematicuniverse.wikia.com/property/alias'), 's': rdflib.term.URIRef('http://dbkwik.webdatacommons.org/marvelcinematicuniverse.wikia.com/resource/Hulk')}, {'p': rdflib.term.URIRef('http://dbkwik.webdatacommons.org/marvelcinematicuniverse.wikia.com/property/alias'), 's': rdflib.term.URIRef('http://dbkwik.webdatacommons.org/marvelcinematicuniverse.wikia.com/resource/Thor')}, {'p': rdflib.term.URIRef('http://dbkwik.webdatacommons.org/marvelcinematicuniverse.wikia.com/property/passengers'), 's': rdflib.term.URIRef('http://dbkwik.webdatacommons.org/marvelcinematicuniverse.wikia.com/resource/Helicarrier')}, {'p': rdflib.term.URIRef('http://dbkwik.webdatacommons.org/marvelcinematicuniverse.wikia.com/property/owner'), 's': rdflib.term.URIRef('http://dbkwik.webdatacommons.org/marvelcinematicuniverse.wikia.com/resource/Quinjet')}, {'p': rdflib.term.URIRef('http://dbkwik.webdatacommons.org/ontology/wikiPageDisambiguates'), 's': rdflib.term.URIRef('http://dbkwik.webdatacommons.org/marvelcinematicuniverse.wikia.com/resource/Avengers_(disambiguation)')}], 'http://dbkwik.webdatacommons.org/marvel.wikia.com/resource/50-State_Initiative_(Earth-91119)', [], 0.1443935206616821)\n",
      "('http://dbkwik.webdatacommons.org/marvelcinematicuniverse.wikia.com/resource/Avengers', [{'p': rdflib.term.URIRef('http://dbkwik.webdatacommons.org/marvelcinematicuniverse.wikia.com/property/alias'), 's': rdflib.term.URIRef('http://dbkwik.webdatacommons.org/marvelcinematicuniverse.wikia.com/resource/Spider-Man')}, {'p': rdflib.term.URIRef('http://dbkwik.webdatacommons.org/marvelcinematicuniverse.wikia.com/property/alias'), 's': rdflib.term.URIRef('http://dbkwik.webdatacommons.org/marvelcinematicuniverse.wikia.com/resource/Hulk')}, {'p': rdflib.term.URIRef('http://dbkwik.webdatacommons.org/marvelcinematicuniverse.wikia.com/property/alias'), 's': rdflib.term.URIRef('http://dbkwik.webdatacommons.org/marvelcinematicuniverse.wikia.com/resource/Thor')}, {'p': rdflib.term.URIRef('http://dbkwik.webdatacommons.org/marvelcinematicuniverse.wikia.com/property/passengers'), 's': rdflib.term.URIRef('http://dbkwik.webdatacommons.org/marvelcinematicuniverse.wikia.com/resource/Helicarrier')}, {'p': rdflib.term.URIRef('http://dbkwik.webdatacommons.org/marvelcinematicuniverse.wikia.com/property/owner'), 's': rdflib.term.URIRef('http://dbkwik.webdatacommons.org/marvelcinematicuniverse.wikia.com/resource/Quinjet')}, {'p': rdflib.term.URIRef('http://dbkwik.webdatacommons.org/ontology/wikiPageDisambiguates'), 's': rdflib.term.URIRef('http://dbkwik.webdatacommons.org/marvelcinematicuniverse.wikia.com/resource/Avengers_(disambiguation)')}], 'http://dbkwik.webdatacommons.org/marvel.wikia.com/resource/50-State_Initiative_(Earth-9230)', [], 0.1443935206616821)\n",
      "('http://dbkwik.webdatacommons.org/marvelcinematicuniverse.wikia.com/resource/Avengers', [{'p': rdflib.term.URIRef('http://dbkwik.webdatacommons.org/marvelcinematicuniverse.wikia.com/property/alias'), 's': rdflib.term.URIRef('http://dbkwik.webdatacommons.org/marvelcinematicuniverse.wikia.com/resource/Spider-Man')}, {'p': rdflib.term.URIRef('http://dbkwik.webdatacommons.org/marvelcinematicuniverse.wikia.com/property/alias'), 's': rdflib.term.URIRef('http://dbkwik.webdatacommons.org/marvelcinematicuniverse.wikia.com/resource/Hulk')}, {'p': rdflib.term.URIRef('http://dbkwik.webdatacommons.org/marvelcinematicuniverse.wikia.com/property/alias'), 's': rdflib.term.URIRef('http://dbkwik.webdatacommons.org/marvelcinematicuniverse.wikia.com/resource/Thor')}, {'p': rdflib.term.URIRef('http://dbkwik.webdatacommons.org/marvelcinematicuniverse.wikia.com/property/passengers'), 's': rdflib.term.URIRef('http://dbkwik.webdatacommons.org/marvelcinematicuniverse.wikia.com/resource/Helicarrier')}, {'p': rdflib.term.URIRef('http://dbkwik.webdatacommons.org/marvelcinematicuniverse.wikia.com/property/owner'), 's': rdflib.term.URIRef('http://dbkwik.webdatacommons.org/marvelcinematicuniverse.wikia.com/resource/Quinjet')}, {'p': rdflib.term.URIRef('http://dbkwik.webdatacommons.org/ontology/wikiPageDisambiguates'), 's': rdflib.term.URIRef('http://dbkwik.webdatacommons.org/marvelcinematicuniverse.wikia.com/resource/Avengers_(disambiguation)')}], 'http://dbkwik.webdatacommons.org/marvel.wikia.com/resource/50-State_Initiative_(Earth-1735)', [], 0.1443935206616821)\n",
      "('http://dbkwik.webdatacommons.org/marvelcinematicuniverse.wikia.com/resource/Avengers', [{'p': rdflib.term.URIRef('http://dbkwik.webdatacommons.org/marvelcinematicuniverse.wikia.com/property/alias'), 's': rdflib.term.URIRef('http://dbkwik.webdatacommons.org/marvelcinematicuniverse.wikia.com/resource/Spider-Man')}, {'p': rdflib.term.URIRef('http://dbkwik.webdatacommons.org/marvelcinematicuniverse.wikia.com/property/alias'), 's': rdflib.term.URIRef('http://dbkwik.webdatacommons.org/marvelcinematicuniverse.wikia.com/resource/Hulk')}, {'p': rdflib.term.URIRef('http://dbkwik.webdatacommons.org/marvelcinematicuniverse.wikia.com/property/alias'), 's': rdflib.term.URIRef('http://dbkwik.webdatacommons.org/marvelcinematicuniverse.wikia.com/resource/Thor')}, {'p': rdflib.term.URIRef('http://dbkwik.webdatacommons.org/marvelcinematicuniverse.wikia.com/property/passengers'), 's': rdflib.term.URIRef('http://dbkwik.webdatacommons.org/marvelcinematicuniverse.wikia.com/resource/Helicarrier')}, {'p': rdflib.term.URIRef('http://dbkwik.webdatacommons.org/marvelcinematicuniverse.wikia.com/property/owner'), 's': rdflib.term.URIRef('http://dbkwik.webdatacommons.org/marvelcinematicuniverse.wikia.com/resource/Quinjet')}, {'p': rdflib.term.URIRef('http://dbkwik.webdatacommons.org/ontology/wikiPageDisambiguates'), 's': rdflib.term.URIRef('http://dbkwik.webdatacommons.org/marvelcinematicuniverse.wikia.com/resource/Avengers_(disambiguation)')}], 'http://dbkwik.webdatacommons.org/marvel.wikia.com/resource/Category:Ultimates', [], 0.3129037689510894)\n",
      "('http://dbkwik.webdatacommons.org/marvelcinematicuniverse.wikia.com/resource/Avengers', [{'p': rdflib.term.URIRef('http://dbkwik.webdatacommons.org/marvelcinematicuniverse.wikia.com/property/alias'), 's': rdflib.term.URIRef('http://dbkwik.webdatacommons.org/marvelcinematicuniverse.wikia.com/resource/Spider-Man')}, {'p': rdflib.term.URIRef('http://dbkwik.webdatacommons.org/marvelcinematicuniverse.wikia.com/property/alias'), 's': rdflib.term.URIRef('http://dbkwik.webdatacommons.org/marvelcinematicuniverse.wikia.com/resource/Hulk')}, {'p': rdflib.term.URIRef('http://dbkwik.webdatacommons.org/marvelcinematicuniverse.wikia.com/property/alias'), 's': rdflib.term.URIRef('http://dbkwik.webdatacommons.org/marvelcinematicuniverse.wikia.com/resource/Thor')}, {'p': rdflib.term.URIRef('http://dbkwik.webdatacommons.org/marvelcinematicuniverse.wikia.com/property/passengers'), 's': rdflib.term.URIRef('http://dbkwik.webdatacommons.org/marvelcinematicuniverse.wikia.com/resource/Helicarrier')}, {'p': rdflib.term.URIRef('http://dbkwik.webdatacommons.org/marvelcinematicuniverse.wikia.com/property/owner'), 's': rdflib.term.URIRef('http://dbkwik.webdatacommons.org/marvelcinematicuniverse.wikia.com/resource/Quinjet')}, {'p': rdflib.term.URIRef('http://dbkwik.webdatacommons.org/ontology/wikiPageDisambiguates'), 's': rdflib.term.URIRef('http://dbkwik.webdatacommons.org/marvelcinematicuniverse.wikia.com/resource/Avengers_(disambiguation)')}], 'http://dbkwik.webdatacommons.org/marvel.wikia.com/resource/Ultimates', [{'p': rdflib.term.URIRef('http://dbkwik.webdatacommons.org/marvel.wikia.com/property/related'), 's': rdflib.term.URIRef('http://dbkwik.webdatacommons.org/marvel.wikia.com/resource/New_Ultimates')}, {'p': rdflib.term.URIRef('http://dbkwik.webdatacommons.org/marvel.wikia.com/property/related'), 's': rdflib.term.URIRef('http://dbkwik.webdatacommons.org/marvel.wikia.com/resource/Avengers')}, {'p': rdflib.term.URIRef('http://dbkwik.webdatacommons.org/marvel.wikia.com/property/related'), 's': rdflib.term.URIRef('http://dbkwik.webdatacommons.org/marvel.wikia.com/resource/Young_Ultimates')}, {'p': rdflib.term.URIRef('http://dbkwik.webdatacommons.org/marvel.wikia.com/property/newHeader'), 's': rdflib.term.URIRef('http://dbkwik.webdatacommons.org/marvel.wikia.com/resource/Ultimate_Avengers')}], 0.41211601278561416)\n"
     ]
    },
    {
     "name": "stdout",
     "output_type": "stream",
     "text": [
      "('http://dbkwik.webdatacommons.org/marvelcinematicuniverse.wikia.com/resource/Avengers', [{'p': rdflib.term.URIRef('http://dbkwik.webdatacommons.org/marvelcinematicuniverse.wikia.com/property/alias'), 's': rdflib.term.URIRef('http://dbkwik.webdatacommons.org/marvelcinematicuniverse.wikia.com/resource/Spider-Man')}, {'p': rdflib.term.URIRef('http://dbkwik.webdatacommons.org/marvelcinematicuniverse.wikia.com/property/alias'), 's': rdflib.term.URIRef('http://dbkwik.webdatacommons.org/marvelcinematicuniverse.wikia.com/resource/Hulk')}, {'p': rdflib.term.URIRef('http://dbkwik.webdatacommons.org/marvelcinematicuniverse.wikia.com/property/alias'), 's': rdflib.term.URIRef('http://dbkwik.webdatacommons.org/marvelcinematicuniverse.wikia.com/resource/Thor')}, {'p': rdflib.term.URIRef('http://dbkwik.webdatacommons.org/marvelcinematicuniverse.wikia.com/property/passengers'), 's': rdflib.term.URIRef('http://dbkwik.webdatacommons.org/marvelcinematicuniverse.wikia.com/resource/Helicarrier')}, {'p': rdflib.term.URIRef('http://dbkwik.webdatacommons.org/marvelcinematicuniverse.wikia.com/property/owner'), 's': rdflib.term.URIRef('http://dbkwik.webdatacommons.org/marvelcinematicuniverse.wikia.com/resource/Quinjet')}, {'p': rdflib.term.URIRef('http://dbkwik.webdatacommons.org/ontology/wikiPageDisambiguates'), 's': rdflib.term.URIRef('http://dbkwik.webdatacommons.org/marvelcinematicuniverse.wikia.com/resource/Avengers_(disambiguation)')}], 'http://dbkwik.webdatacommons.org/marvel.wikia.com/resource/Ultimates_(Earth-1610)', [{'p': rdflib.term.URIRef('http://dbkwik.webdatacommons.org/marvel.wikia.com/property/newHeader'), 's': rdflib.term.URIRef('http://dbkwik.webdatacommons.org/marvel.wikia.com/resource/Ultimate_X')}, {'p': rdflib.term.URIRef('http://dbkwik.webdatacommons.org/ontology/wikiPageDisambiguates'), 's': rdflib.term.URIRef('http://dbkwik.webdatacommons.org/marvel.wikia.com/resource/Ultimates')}, {'p': rdflib.term.URIRef('http://dbkwik.webdatacommons.org/marvel.wikia.com/property/mainCharacter'), 's': rdflib.term.URIRef('http://dbkwik.webdatacommons.org/marvel.wikia.com/resource/Ultimates')}], 0.7247725046956128)\n",
      "('http://dbkwik.webdatacommons.org/marvelcinematicuniverse.wikia.com/resource/Avengers', [{'p': rdflib.term.URIRef('http://dbkwik.webdatacommons.org/marvelcinematicuniverse.wikia.com/property/alias'), 's': rdflib.term.URIRef('http://dbkwik.webdatacommons.org/marvelcinematicuniverse.wikia.com/resource/Spider-Man')}, {'p': rdflib.term.URIRef('http://dbkwik.webdatacommons.org/marvelcinematicuniverse.wikia.com/property/alias'), 's': rdflib.term.URIRef('http://dbkwik.webdatacommons.org/marvelcinematicuniverse.wikia.com/resource/Hulk')}, {'p': rdflib.term.URIRef('http://dbkwik.webdatacommons.org/marvelcinematicuniverse.wikia.com/property/alias'), 's': rdflib.term.URIRef('http://dbkwik.webdatacommons.org/marvelcinematicuniverse.wikia.com/resource/Thor')}, {'p': rdflib.term.URIRef('http://dbkwik.webdatacommons.org/marvelcinematicuniverse.wikia.com/property/passengers'), 's': rdflib.term.URIRef('http://dbkwik.webdatacommons.org/marvelcinematicuniverse.wikia.com/resource/Helicarrier')}, {'p': rdflib.term.URIRef('http://dbkwik.webdatacommons.org/marvelcinematicuniverse.wikia.com/property/owner'), 's': rdflib.term.URIRef('http://dbkwik.webdatacommons.org/marvelcinematicuniverse.wikia.com/resource/Quinjet')}, {'p': rdflib.term.URIRef('http://dbkwik.webdatacommons.org/ontology/wikiPageDisambiguates'), 's': rdflib.term.URIRef('http://dbkwik.webdatacommons.org/marvelcinematicuniverse.wikia.com/resource/Avengers_(disambiguation)')}], 'http://dbkwik.webdatacommons.org/marvel.wikia.com/resource/Ultimates_(Multiverse)', [{'p': rdflib.term.URIRef('http://dbkwik.webdatacommons.org/marvel.wikia.com/property/others'), 's': rdflib.term.URIRef('http://dbkwik.webdatacommons.org/marvel.wikia.com/resource/Ultimates')}, {'p': rdflib.term.URIRef('http://dbkwik.webdatacommons.org/ontology/wikiPageDisambiguates'), 's': rdflib.term.URIRef('http://dbkwik.webdatacommons.org/marvel.wikia.com/resource/Ultimates')}], 0.1443935206616821)\n",
      "('http://dbkwik.webdatacommons.org/marvelcinematicuniverse.wikia.com/resource/Avengers', [{'p': rdflib.term.URIRef('http://dbkwik.webdatacommons.org/marvelcinematicuniverse.wikia.com/property/alias'), 's': rdflib.term.URIRef('http://dbkwik.webdatacommons.org/marvelcinematicuniverse.wikia.com/resource/Spider-Man')}, {'p': rdflib.term.URIRef('http://dbkwik.webdatacommons.org/marvelcinematicuniverse.wikia.com/property/alias'), 's': rdflib.term.URIRef('http://dbkwik.webdatacommons.org/marvelcinematicuniverse.wikia.com/resource/Hulk')}, {'p': rdflib.term.URIRef('http://dbkwik.webdatacommons.org/marvelcinematicuniverse.wikia.com/property/alias'), 's': rdflib.term.URIRef('http://dbkwik.webdatacommons.org/marvelcinematicuniverse.wikia.com/resource/Thor')}, {'p': rdflib.term.URIRef('http://dbkwik.webdatacommons.org/marvelcinematicuniverse.wikia.com/property/passengers'), 's': rdflib.term.URIRef('http://dbkwik.webdatacommons.org/marvelcinematicuniverse.wikia.com/resource/Helicarrier')}, {'p': rdflib.term.URIRef('http://dbkwik.webdatacommons.org/marvelcinematicuniverse.wikia.com/property/owner'), 's': rdflib.term.URIRef('http://dbkwik.webdatacommons.org/marvelcinematicuniverse.wikia.com/resource/Quinjet')}, {'p': rdflib.term.URIRef('http://dbkwik.webdatacommons.org/ontology/wikiPageDisambiguates'), 's': rdflib.term.URIRef('http://dbkwik.webdatacommons.org/marvelcinematicuniverse.wikia.com/resource/Avengers_(disambiguation)')}], 'http://dbkwik.webdatacommons.org/marvel.wikia.com/resource/Ultimates_Vol_1', [], 0.1443935206616821)\n",
      "('http://dbkwik.webdatacommons.org/marvelcinematicuniverse.wikia.com/resource/Avengers', [{'p': rdflib.term.URIRef('http://dbkwik.webdatacommons.org/marvelcinematicuniverse.wikia.com/property/alias'), 's': rdflib.term.URIRef('http://dbkwik.webdatacommons.org/marvelcinematicuniverse.wikia.com/resource/Spider-Man')}, {'p': rdflib.term.URIRef('http://dbkwik.webdatacommons.org/marvelcinematicuniverse.wikia.com/property/alias'), 's': rdflib.term.URIRef('http://dbkwik.webdatacommons.org/marvelcinematicuniverse.wikia.com/resource/Hulk')}, {'p': rdflib.term.URIRef('http://dbkwik.webdatacommons.org/marvelcinematicuniverse.wikia.com/property/alias'), 's': rdflib.term.URIRef('http://dbkwik.webdatacommons.org/marvelcinematicuniverse.wikia.com/resource/Thor')}, {'p': rdflib.term.URIRef('http://dbkwik.webdatacommons.org/marvelcinematicuniverse.wikia.com/property/passengers'), 's': rdflib.term.URIRef('http://dbkwik.webdatacommons.org/marvelcinematicuniverse.wikia.com/resource/Helicarrier')}, {'p': rdflib.term.URIRef('http://dbkwik.webdatacommons.org/marvelcinematicuniverse.wikia.com/property/owner'), 's': rdflib.term.URIRef('http://dbkwik.webdatacommons.org/marvelcinematicuniverse.wikia.com/resource/Quinjet')}, {'p': rdflib.term.URIRef('http://dbkwik.webdatacommons.org/ontology/wikiPageDisambiguates'), 's': rdflib.term.URIRef('http://dbkwik.webdatacommons.org/marvelcinematicuniverse.wikia.com/resource/Avengers_(disambiguation)')}], 'http://dbkwik.webdatacommons.org/marvel.wikia.com/resource/Young_Ultimates_(Earth-1610)', [{'p': rdflib.term.URIRef('http://dbkwik.webdatacommons.org/marvel.wikia.com/property/others'), 's': rdflib.term.URIRef('http://dbkwik.webdatacommons.org/marvel.wikia.com/resource/New_Ultimates')}, {'p': rdflib.term.URIRef('http://dbkwik.webdatacommons.org/ontology/wikiPageDisambiguates'), 's': rdflib.term.URIRef('http://dbkwik.webdatacommons.org/marvel.wikia.com/resource/Young_Ultimates')}, {'p': rdflib.term.URIRef('http://dbkwik.webdatacommons.org/marvel.wikia.com/property/mainCharacter'), 's': rdflib.term.URIRef('http://dbkwik.webdatacommons.org/marvel.wikia.com/resource/Young_Ultimates')}], 0.1443935206616821)\n",
      "('http://dbkwik.webdatacommons.org/marvelcinematicuniverse.wikia.com/resource/Avengers', [{'p': rdflib.term.URIRef('http://dbkwik.webdatacommons.org/marvelcinematicuniverse.wikia.com/property/alias'), 's': rdflib.term.URIRef('http://dbkwik.webdatacommons.org/marvelcinematicuniverse.wikia.com/resource/Spider-Man')}, {'p': rdflib.term.URIRef('http://dbkwik.webdatacommons.org/marvelcinematicuniverse.wikia.com/property/alias'), 's': rdflib.term.URIRef('http://dbkwik.webdatacommons.org/marvelcinematicuniverse.wikia.com/resource/Hulk')}, {'p': rdflib.term.URIRef('http://dbkwik.webdatacommons.org/marvelcinematicuniverse.wikia.com/property/alias'), 's': rdflib.term.URIRef('http://dbkwik.webdatacommons.org/marvelcinematicuniverse.wikia.com/resource/Thor')}, {'p': rdflib.term.URIRef('http://dbkwik.webdatacommons.org/marvelcinematicuniverse.wikia.com/property/passengers'), 's': rdflib.term.URIRef('http://dbkwik.webdatacommons.org/marvelcinematicuniverse.wikia.com/resource/Helicarrier')}, {'p': rdflib.term.URIRef('http://dbkwik.webdatacommons.org/marvelcinematicuniverse.wikia.com/property/owner'), 's': rdflib.term.URIRef('http://dbkwik.webdatacommons.org/marvelcinematicuniverse.wikia.com/resource/Quinjet')}, {'p': rdflib.term.URIRef('http://dbkwik.webdatacommons.org/ontology/wikiPageDisambiguates'), 's': rdflib.term.URIRef('http://dbkwik.webdatacommons.org/marvelcinematicuniverse.wikia.com/resource/Avengers_(disambiguation)')}], 'http://dbkwik.webdatacommons.org/marvel.wikia.com/resource/Ultimates_(Earth-TRN131)', [{'p': rdflib.term.URIRef('http://dbkwik.webdatacommons.org/marvel.wikia.com/property/videoGames'), 's': rdflib.term.URIRef('http://dbkwik.webdatacommons.org/marvel.wikia.com/resource/Ultimates')}, {'p': rdflib.term.URIRef('http://dbkwik.webdatacommons.org/ontology/wikiPageDisambiguates'), 's': rdflib.term.URIRef('http://dbkwik.webdatacommons.org/marvel.wikia.com/resource/Ultimates')}], 0.1443935206616821)\n"
     ]
    },
    {
     "name": "stdout",
     "output_type": "stream",
     "text": [
      "('http://dbkwik.webdatacommons.org/marvelcinematicuniverse.wikia.com/resource/Avengers', [{'p': rdflib.term.URIRef('http://dbkwik.webdatacommons.org/marvelcinematicuniverse.wikia.com/property/alias'), 's': rdflib.term.URIRef('http://dbkwik.webdatacommons.org/marvelcinematicuniverse.wikia.com/resource/Spider-Man')}, {'p': rdflib.term.URIRef('http://dbkwik.webdatacommons.org/marvelcinematicuniverse.wikia.com/property/alias'), 's': rdflib.term.URIRef('http://dbkwik.webdatacommons.org/marvelcinematicuniverse.wikia.com/resource/Hulk')}, {'p': rdflib.term.URIRef('http://dbkwik.webdatacommons.org/marvelcinematicuniverse.wikia.com/property/alias'), 's': rdflib.term.URIRef('http://dbkwik.webdatacommons.org/marvelcinematicuniverse.wikia.com/resource/Thor')}, {'p': rdflib.term.URIRef('http://dbkwik.webdatacommons.org/marvelcinematicuniverse.wikia.com/property/passengers'), 's': rdflib.term.URIRef('http://dbkwik.webdatacommons.org/marvelcinematicuniverse.wikia.com/resource/Helicarrier')}, {'p': rdflib.term.URIRef('http://dbkwik.webdatacommons.org/marvelcinematicuniverse.wikia.com/property/owner'), 's': rdflib.term.URIRef('http://dbkwik.webdatacommons.org/marvelcinematicuniverse.wikia.com/resource/Quinjet')}, {'p': rdflib.term.URIRef('http://dbkwik.webdatacommons.org/ontology/wikiPageDisambiguates'), 's': rdflib.term.URIRef('http://dbkwik.webdatacommons.org/marvelcinematicuniverse.wikia.com/resource/Avengers_(disambiguation)')}], 'http://dbkwik.webdatacommons.org/marvel.wikia.com/resource/Ultimates_(Androids)_(Earth-1610)', [{'p': rdflib.term.URIRef('http://dbkwik.webdatacommons.org/ontology/wikiPageDisambiguates'), 's': rdflib.term.URIRef('http://dbkwik.webdatacommons.org/marvel.wikia.com/resource/Ultimates')}, {'p': rdflib.term.URIRef('http://dbkwik.webdatacommons.org/marvel.wikia.com/property/others'), 's': rdflib.term.URIRef('http://dbkwik.webdatacommons.org/marvel.wikia.com/resource/Ultimates')}, {'p': rdflib.term.URIRef('http://dbkwik.webdatacommons.org/marvel.wikia.com/property/related'), 's': rdflib.term.URIRef('http://dbkwik.webdatacommons.org/marvel.wikia.com/resource/Ultron%27s_Avengers')}], 0.1443935206616821)\n",
      "('http://dbkwik.webdatacommons.org/marvelcinematicuniverse.wikia.com/resource/Avengers', [{'p': rdflib.term.URIRef('http://dbkwik.webdatacommons.org/marvelcinematicuniverse.wikia.com/property/alias'), 's': rdflib.term.URIRef('http://dbkwik.webdatacommons.org/marvelcinematicuniverse.wikia.com/resource/Spider-Man')}, {'p': rdflib.term.URIRef('http://dbkwik.webdatacommons.org/marvelcinematicuniverse.wikia.com/property/alias'), 's': rdflib.term.URIRef('http://dbkwik.webdatacommons.org/marvelcinematicuniverse.wikia.com/resource/Hulk')}, {'p': rdflib.term.URIRef('http://dbkwik.webdatacommons.org/marvelcinematicuniverse.wikia.com/property/alias'), 's': rdflib.term.URIRef('http://dbkwik.webdatacommons.org/marvelcinematicuniverse.wikia.com/resource/Thor')}, {'p': rdflib.term.URIRef('http://dbkwik.webdatacommons.org/marvelcinematicuniverse.wikia.com/property/passengers'), 's': rdflib.term.URIRef('http://dbkwik.webdatacommons.org/marvelcinematicuniverse.wikia.com/resource/Helicarrier')}, {'p': rdflib.term.URIRef('http://dbkwik.webdatacommons.org/marvelcinematicuniverse.wikia.com/property/owner'), 's': rdflib.term.URIRef('http://dbkwik.webdatacommons.org/marvelcinematicuniverse.wikia.com/resource/Quinjet')}, {'p': rdflib.term.URIRef('http://dbkwik.webdatacommons.org/ontology/wikiPageDisambiguates'), 's': rdflib.term.URIRef('http://dbkwik.webdatacommons.org/marvelcinematicuniverse.wikia.com/resource/Avengers_(disambiguation)')}], 'http://dbkwik.webdatacommons.org/marvel.wikia.com/resource/Ultimates_(Earth-616)', [{'p': rdflib.term.URIRef('http://dbkwik.webdatacommons.org/marvel.wikia.com/property/body'), 's': rdflib.term.URIRef('http://dbkwik.webdatacommons.org/marvel.wikia.com/resource/Galan_(Earth-616)')}, {'p': rdflib.term.URIRef('http://dbkwik.webdatacommons.org/marvel.wikia.com/property/body'), 's': rdflib.term.URIRef('http://dbkwik.webdatacommons.org/marvel.wikia.com/resource/Hydra_(Earth-616)')}], 0.37364262665095815)\n",
      "('http://dbkwik.webdatacommons.org/marvelcinematicuniverse.wikia.com/resource/Avengers', [{'p': rdflib.term.URIRef('http://dbkwik.webdatacommons.org/marvelcinematicuniverse.wikia.com/property/alias'), 's': rdflib.term.URIRef('http://dbkwik.webdatacommons.org/marvelcinematicuniverse.wikia.com/resource/Spider-Man')}, {'p': rdflib.term.URIRef('http://dbkwik.webdatacommons.org/marvelcinematicuniverse.wikia.com/property/alias'), 's': rdflib.term.URIRef('http://dbkwik.webdatacommons.org/marvelcinematicuniverse.wikia.com/resource/Hulk')}, {'p': rdflib.term.URIRef('http://dbkwik.webdatacommons.org/marvelcinematicuniverse.wikia.com/property/alias'), 's': rdflib.term.URIRef('http://dbkwik.webdatacommons.org/marvelcinematicuniverse.wikia.com/resource/Thor')}, {'p': rdflib.term.URIRef('http://dbkwik.webdatacommons.org/marvelcinematicuniverse.wikia.com/property/passengers'), 's': rdflib.term.URIRef('http://dbkwik.webdatacommons.org/marvelcinematicuniverse.wikia.com/resource/Helicarrier')}, {'p': rdflib.term.URIRef('http://dbkwik.webdatacommons.org/marvelcinematicuniverse.wikia.com/property/owner'), 's': rdflib.term.URIRef('http://dbkwik.webdatacommons.org/marvelcinematicuniverse.wikia.com/resource/Quinjet')}, {'p': rdflib.term.URIRef('http://dbkwik.webdatacommons.org/ontology/wikiPageDisambiguates'), 's': rdflib.term.URIRef('http://dbkwik.webdatacommons.org/marvelcinematicuniverse.wikia.com/resource/Avengers_(disambiguation)')}], 'http://dbkwik.webdatacommons.org/marvel.wikia.com/resource/Ultimates_(Earth-TRN518)', [{'p': rdflib.term.URIRef('http://dbkwik.webdatacommons.org/ontology/wikiPageDisambiguates'), 's': rdflib.term.URIRef('http://dbkwik.webdatacommons.org/marvel.wikia.com/resource/Ultimates')}], 0.1443935206616821)\n",
      "('http://dbkwik.webdatacommons.org/marvelcinematicuniverse.wikia.com/resource/Avengers', [{'p': rdflib.term.URIRef('http://dbkwik.webdatacommons.org/marvelcinematicuniverse.wikia.com/property/alias'), 's': rdflib.term.URIRef('http://dbkwik.webdatacommons.org/marvelcinematicuniverse.wikia.com/resource/Spider-Man')}, {'p': rdflib.term.URIRef('http://dbkwik.webdatacommons.org/marvelcinematicuniverse.wikia.com/property/alias'), 's': rdflib.term.URIRef('http://dbkwik.webdatacommons.org/marvelcinematicuniverse.wikia.com/resource/Hulk')}, {'p': rdflib.term.URIRef('http://dbkwik.webdatacommons.org/marvelcinematicuniverse.wikia.com/property/alias'), 's': rdflib.term.URIRef('http://dbkwik.webdatacommons.org/marvelcinematicuniverse.wikia.com/resource/Thor')}, {'p': rdflib.term.URIRef('http://dbkwik.webdatacommons.org/marvelcinematicuniverse.wikia.com/property/passengers'), 's': rdflib.term.URIRef('http://dbkwik.webdatacommons.org/marvelcinematicuniverse.wikia.com/resource/Helicarrier')}, {'p': rdflib.term.URIRef('http://dbkwik.webdatacommons.org/marvelcinematicuniverse.wikia.com/property/owner'), 's': rdflib.term.URIRef('http://dbkwik.webdatacommons.org/marvelcinematicuniverse.wikia.com/resource/Quinjet')}, {'p': rdflib.term.URIRef('http://dbkwik.webdatacommons.org/ontology/wikiPageDisambiguates'), 's': rdflib.term.URIRef('http://dbkwik.webdatacommons.org/marvelcinematicuniverse.wikia.com/resource/Avengers_(disambiguation)')}], 'http://dbkwik.webdatacommons.org/marvel.wikia.com/resource/Ultimates_Vol_2', [], 0.1443935206616821)\n",
      "('http://dbkwik.webdatacommons.org/marvelcinematicuniverse.wikia.com/resource/Avengers', [{'p': rdflib.term.URIRef('http://dbkwik.webdatacommons.org/marvelcinematicuniverse.wikia.com/property/alias'), 's': rdflib.term.URIRef('http://dbkwik.webdatacommons.org/marvelcinematicuniverse.wikia.com/resource/Spider-Man')}, {'p': rdflib.term.URIRef('http://dbkwik.webdatacommons.org/marvelcinematicuniverse.wikia.com/property/alias'), 's': rdflib.term.URIRef('http://dbkwik.webdatacommons.org/marvelcinematicuniverse.wikia.com/resource/Hulk')}, {'p': rdflib.term.URIRef('http://dbkwik.webdatacommons.org/marvelcinematicuniverse.wikia.com/property/alias'), 's': rdflib.term.URIRef('http://dbkwik.webdatacommons.org/marvelcinematicuniverse.wikia.com/resource/Thor')}, {'p': rdflib.term.URIRef('http://dbkwik.webdatacommons.org/marvelcinematicuniverse.wikia.com/property/passengers'), 's': rdflib.term.URIRef('http://dbkwik.webdatacommons.org/marvelcinematicuniverse.wikia.com/resource/Helicarrier')}, {'p': rdflib.term.URIRef('http://dbkwik.webdatacommons.org/marvelcinematicuniverse.wikia.com/property/owner'), 's': rdflib.term.URIRef('http://dbkwik.webdatacommons.org/marvelcinematicuniverse.wikia.com/resource/Quinjet')}, {'p': rdflib.term.URIRef('http://dbkwik.webdatacommons.org/ontology/wikiPageDisambiguates'), 's': rdflib.term.URIRef('http://dbkwik.webdatacommons.org/marvelcinematicuniverse.wikia.com/resource/Avengers_(disambiguation)')}], 'http://dbkwik.webdatacommons.org/marvel.wikia.com/resource/New_Ultimates_(Earth-1610)', [{'p': rdflib.term.URIRef('http://dbkwik.webdatacommons.org/ontology/wikiPageDisambiguates'), 's': rdflib.term.URIRef('http://dbkwik.webdatacommons.org/marvel.wikia.com/resource/New_Ultimates')}, {'p': rdflib.term.URIRef('http://dbkwik.webdatacommons.org/marvel.wikia.com/property/mainCharacter'), 's': rdflib.term.URIRef('http://dbkwik.webdatacommons.org/marvel.wikia.com/resource/New_Ultimates')}, {'p': rdflib.term.URIRef('http://dbkwik.webdatacommons.org/marvel.wikia.com/property/related'), 's': rdflib.term.URIRef('http://dbkwik.webdatacommons.org/marvel.wikia.com/resource/New_Avengers')}, {'p': rdflib.term.URIRef('http://dbkwik.webdatacommons.org/ontology/wikiPageDisambiguates'), 's': rdflib.term.URIRef('http://dbkwik.webdatacommons.org/marvel.wikia.com/resource/Ultimates')}, {'p': rdflib.term.URIRef('http://dbkwik.webdatacommons.org/marvel.wikia.com/property/others'), 's': rdflib.term.URIRef('http://dbkwik.webdatacommons.org/marvel.wikia.com/resource/Ultimates')}], 0.1443935206616821)\n"
     ]
    },
    {
     "name": "stdout",
     "output_type": "stream",
     "text": [
      "('http://dbkwik.webdatacommons.org/marvelcinematicuniverse.wikia.com/resource/Avengers', [{'p': rdflib.term.URIRef('http://dbkwik.webdatacommons.org/marvelcinematicuniverse.wikia.com/property/alias'), 's': rdflib.term.URIRef('http://dbkwik.webdatacommons.org/marvelcinematicuniverse.wikia.com/resource/Spider-Man')}, {'p': rdflib.term.URIRef('http://dbkwik.webdatacommons.org/marvelcinematicuniverse.wikia.com/property/alias'), 's': rdflib.term.URIRef('http://dbkwik.webdatacommons.org/marvelcinematicuniverse.wikia.com/resource/Hulk')}, {'p': rdflib.term.URIRef('http://dbkwik.webdatacommons.org/marvelcinematicuniverse.wikia.com/property/alias'), 's': rdflib.term.URIRef('http://dbkwik.webdatacommons.org/marvelcinematicuniverse.wikia.com/resource/Thor')}, {'p': rdflib.term.URIRef('http://dbkwik.webdatacommons.org/marvelcinematicuniverse.wikia.com/property/passengers'), 's': rdflib.term.URIRef('http://dbkwik.webdatacommons.org/marvelcinematicuniverse.wikia.com/resource/Helicarrier')}, {'p': rdflib.term.URIRef('http://dbkwik.webdatacommons.org/marvelcinematicuniverse.wikia.com/property/owner'), 's': rdflib.term.URIRef('http://dbkwik.webdatacommons.org/marvelcinematicuniverse.wikia.com/resource/Quinjet')}, {'p': rdflib.term.URIRef('http://dbkwik.webdatacommons.org/ontology/wikiPageDisambiguates'), 's': rdflib.term.URIRef('http://dbkwik.webdatacommons.org/marvelcinematicuniverse.wikia.com/resource/Avengers_(disambiguation)')}], 'http://dbkwik.webdatacommons.org/marvel.wikia.com/resource/Ultimates_(Earth-200501)', [], 0.1443935206616821)\n",
      "('http://dbkwik.webdatacommons.org/marvelcinematicuniverse.wikia.com/resource/Avengers', [{'p': rdflib.term.URIRef('http://dbkwik.webdatacommons.org/marvelcinematicuniverse.wikia.com/property/alias'), 's': rdflib.term.URIRef('http://dbkwik.webdatacommons.org/marvelcinematicuniverse.wikia.com/resource/Spider-Man')}, {'p': rdflib.term.URIRef('http://dbkwik.webdatacommons.org/marvelcinematicuniverse.wikia.com/property/alias'), 's': rdflib.term.URIRef('http://dbkwik.webdatacommons.org/marvelcinematicuniverse.wikia.com/resource/Hulk')}, {'p': rdflib.term.URIRef('http://dbkwik.webdatacommons.org/marvelcinematicuniverse.wikia.com/property/alias'), 's': rdflib.term.URIRef('http://dbkwik.webdatacommons.org/marvelcinematicuniverse.wikia.com/resource/Thor')}, {'p': rdflib.term.URIRef('http://dbkwik.webdatacommons.org/marvelcinematicuniverse.wikia.com/property/passengers'), 's': rdflib.term.URIRef('http://dbkwik.webdatacommons.org/marvelcinematicuniverse.wikia.com/resource/Helicarrier')}, {'p': rdflib.term.URIRef('http://dbkwik.webdatacommons.org/marvelcinematicuniverse.wikia.com/property/owner'), 's': rdflib.term.URIRef('http://dbkwik.webdatacommons.org/marvelcinematicuniverse.wikia.com/resource/Quinjet')}, {'p': rdflib.term.URIRef('http://dbkwik.webdatacommons.org/ontology/wikiPageDisambiguates'), 's': rdflib.term.URIRef('http://dbkwik.webdatacommons.org/marvelcinematicuniverse.wikia.com/resource/Avengers_(disambiguation)')}], 'http://dbkwik.webdatacommons.org/marvel.wikia.com/resource/Ultimates_Vol_1_12', [], 0.1443935206616821)\n",
      "('http://dbkwik.webdatacommons.org/marvelcinematicuniverse.wikia.com/resource/Avengers', [{'p': rdflib.term.URIRef('http://dbkwik.webdatacommons.org/marvelcinematicuniverse.wikia.com/property/alias'), 's': rdflib.term.URIRef('http://dbkwik.webdatacommons.org/marvelcinematicuniverse.wikia.com/resource/Spider-Man')}, {'p': rdflib.term.URIRef('http://dbkwik.webdatacommons.org/marvelcinematicuniverse.wikia.com/property/alias'), 's': rdflib.term.URIRef('http://dbkwik.webdatacommons.org/marvelcinematicuniverse.wikia.com/resource/Hulk')}, {'p': rdflib.term.URIRef('http://dbkwik.webdatacommons.org/marvelcinematicuniverse.wikia.com/property/alias'), 's': rdflib.term.URIRef('http://dbkwik.webdatacommons.org/marvelcinematicuniverse.wikia.com/resource/Thor')}, {'p': rdflib.term.URIRef('http://dbkwik.webdatacommons.org/marvelcinematicuniverse.wikia.com/property/passengers'), 's': rdflib.term.URIRef('http://dbkwik.webdatacommons.org/marvelcinematicuniverse.wikia.com/resource/Helicarrier')}, {'p': rdflib.term.URIRef('http://dbkwik.webdatacommons.org/marvelcinematicuniverse.wikia.com/property/owner'), 's': rdflib.term.URIRef('http://dbkwik.webdatacommons.org/marvelcinematicuniverse.wikia.com/resource/Quinjet')}, {'p': rdflib.term.URIRef('http://dbkwik.webdatacommons.org/ontology/wikiPageDisambiguates'), 's': rdflib.term.URIRef('http://dbkwik.webdatacommons.org/marvelcinematicuniverse.wikia.com/resource/Avengers_(disambiguation)')}], 'http://dbkwik.webdatacommons.org/marvel.wikia.com/resource/Ultimates_3_Vol_1', [], 0.1443935206616821)\n",
      "('http://dbkwik.webdatacommons.org/marvelcinematicuniverse.wikia.com/resource/Avengers', [{'p': rdflib.term.URIRef('http://dbkwik.webdatacommons.org/marvelcinematicuniverse.wikia.com/property/alias'), 's': rdflib.term.URIRef('http://dbkwik.webdatacommons.org/marvelcinematicuniverse.wikia.com/resource/Spider-Man')}, {'p': rdflib.term.URIRef('http://dbkwik.webdatacommons.org/marvelcinematicuniverse.wikia.com/property/alias'), 's': rdflib.term.URIRef('http://dbkwik.webdatacommons.org/marvelcinematicuniverse.wikia.com/resource/Hulk')}, {'p': rdflib.term.URIRef('http://dbkwik.webdatacommons.org/marvelcinematicuniverse.wikia.com/property/alias'), 's': rdflib.term.URIRef('http://dbkwik.webdatacommons.org/marvelcinematicuniverse.wikia.com/resource/Thor')}, {'p': rdflib.term.URIRef('http://dbkwik.webdatacommons.org/marvelcinematicuniverse.wikia.com/property/passengers'), 's': rdflib.term.URIRef('http://dbkwik.webdatacommons.org/marvelcinematicuniverse.wikia.com/resource/Helicarrier')}, {'p': rdflib.term.URIRef('http://dbkwik.webdatacommons.org/marvelcinematicuniverse.wikia.com/property/owner'), 's': rdflib.term.URIRef('http://dbkwik.webdatacommons.org/marvelcinematicuniverse.wikia.com/resource/Quinjet')}, {'p': rdflib.term.URIRef('http://dbkwik.webdatacommons.org/ontology/wikiPageDisambiguates'), 's': rdflib.term.URIRef('http://dbkwik.webdatacommons.org/marvelcinematicuniverse.wikia.com/resource/Avengers_(disambiguation)')}], 'http://dbkwik.webdatacommons.org/marvel.wikia.com/resource/Ultimates_(Earth-61610)', [], 0.1443935206616821)\n",
      "('http://dbkwik.webdatacommons.org/marvelcinematicuniverse.wikia.com/resource/Avengers', [{'p': rdflib.term.URIRef('http://dbkwik.webdatacommons.org/marvelcinematicuniverse.wikia.com/property/alias'), 's': rdflib.term.URIRef('http://dbkwik.webdatacommons.org/marvelcinematicuniverse.wikia.com/resource/Spider-Man')}, {'p': rdflib.term.URIRef('http://dbkwik.webdatacommons.org/marvelcinematicuniverse.wikia.com/property/alias'), 's': rdflib.term.URIRef('http://dbkwik.webdatacommons.org/marvelcinematicuniverse.wikia.com/resource/Hulk')}, {'p': rdflib.term.URIRef('http://dbkwik.webdatacommons.org/marvelcinematicuniverse.wikia.com/property/alias'), 's': rdflib.term.URIRef('http://dbkwik.webdatacommons.org/marvelcinematicuniverse.wikia.com/resource/Thor')}, {'p': rdflib.term.URIRef('http://dbkwik.webdatacommons.org/marvelcinematicuniverse.wikia.com/property/passengers'), 's': rdflib.term.URIRef('http://dbkwik.webdatacommons.org/marvelcinematicuniverse.wikia.com/resource/Helicarrier')}, {'p': rdflib.term.URIRef('http://dbkwik.webdatacommons.org/marvelcinematicuniverse.wikia.com/property/owner'), 's': rdflib.term.URIRef('http://dbkwik.webdatacommons.org/marvelcinematicuniverse.wikia.com/resource/Quinjet')}, {'p': rdflib.term.URIRef('http://dbkwik.webdatacommons.org/ontology/wikiPageDisambiguates'), 's': rdflib.term.URIRef('http://dbkwik.webdatacommons.org/marvelcinematicuniverse.wikia.com/resource/Avengers_(disambiguation)')}], 'http://dbkwik.webdatacommons.org/marvel.wikia.com/resource/Ultimates_(Earth-669)', [], 0.1443935206616821)\n",
      "('http://dbkwik.webdatacommons.org/marvelcinematicuniverse.wikia.com/resource/Avengers', [{'p': rdflib.term.URIRef('http://dbkwik.webdatacommons.org/marvelcinematicuniverse.wikia.com/property/alias'), 's': rdflib.term.URIRef('http://dbkwik.webdatacommons.org/marvelcinematicuniverse.wikia.com/resource/Spider-Man')}, {'p': rdflib.term.URIRef('http://dbkwik.webdatacommons.org/marvelcinematicuniverse.wikia.com/property/alias'), 's': rdflib.term.URIRef('http://dbkwik.webdatacommons.org/marvelcinematicuniverse.wikia.com/resource/Hulk')}, {'p': rdflib.term.URIRef('http://dbkwik.webdatacommons.org/marvelcinematicuniverse.wikia.com/property/alias'), 's': rdflib.term.URIRef('http://dbkwik.webdatacommons.org/marvelcinematicuniverse.wikia.com/resource/Thor')}, {'p': rdflib.term.URIRef('http://dbkwik.webdatacommons.org/marvelcinematicuniverse.wikia.com/property/passengers'), 's': rdflib.term.URIRef('http://dbkwik.webdatacommons.org/marvelcinematicuniverse.wikia.com/resource/Helicarrier')}, {'p': rdflib.term.URIRef('http://dbkwik.webdatacommons.org/marvelcinematicuniverse.wikia.com/property/owner'), 's': rdflib.term.URIRef('http://dbkwik.webdatacommons.org/marvelcinematicuniverse.wikia.com/resource/Quinjet')}, {'p': rdflib.term.URIRef('http://dbkwik.webdatacommons.org/ontology/wikiPageDisambiguates'), 's': rdflib.term.URIRef('http://dbkwik.webdatacommons.org/marvelcinematicuniverse.wikia.com/resource/Avengers_(disambiguation)')}], 'http://dbkwik.webdatacommons.org/marvel.wikia.com/resource/Ultimates_(Earth-TRN005)', [{'p': rdflib.term.URIRef('http://dbkwik.webdatacommons.org/marvel.wikia.com/property/videoGames'), 's': rdflib.term.URIRef('http://dbkwik.webdatacommons.org/marvel.wikia.com/resource/Ultimates')}, {'p': rdflib.term.URIRef('http://dbkwik.webdatacommons.org/ontology/wikiPageDisambiguates'), 's': rdflib.term.URIRef('http://dbkwik.webdatacommons.org/marvel.wikia.com/resource/Ultimates')}], 0.1443935206616821)\n"
     ]
    },
    {
     "name": "stdout",
     "output_type": "stream",
     "text": [
      "('http://dbkwik.webdatacommons.org/marvelcinematicuniverse.wikia.com/resource/Avengers', [{'p': rdflib.term.URIRef('http://dbkwik.webdatacommons.org/marvelcinematicuniverse.wikia.com/property/alias'), 's': rdflib.term.URIRef('http://dbkwik.webdatacommons.org/marvelcinematicuniverse.wikia.com/resource/Spider-Man')}, {'p': rdflib.term.URIRef('http://dbkwik.webdatacommons.org/marvelcinematicuniverse.wikia.com/property/alias'), 's': rdflib.term.URIRef('http://dbkwik.webdatacommons.org/marvelcinematicuniverse.wikia.com/resource/Hulk')}, {'p': rdflib.term.URIRef('http://dbkwik.webdatacommons.org/marvelcinematicuniverse.wikia.com/property/alias'), 's': rdflib.term.URIRef('http://dbkwik.webdatacommons.org/marvelcinematicuniverse.wikia.com/resource/Thor')}, {'p': rdflib.term.URIRef('http://dbkwik.webdatacommons.org/marvelcinematicuniverse.wikia.com/property/passengers'), 's': rdflib.term.URIRef('http://dbkwik.webdatacommons.org/marvelcinematicuniverse.wikia.com/resource/Helicarrier')}, {'p': rdflib.term.URIRef('http://dbkwik.webdatacommons.org/marvelcinematicuniverse.wikia.com/property/owner'), 's': rdflib.term.URIRef('http://dbkwik.webdatacommons.org/marvelcinematicuniverse.wikia.com/resource/Quinjet')}, {'p': rdflib.term.URIRef('http://dbkwik.webdatacommons.org/ontology/wikiPageDisambiguates'), 's': rdflib.term.URIRef('http://dbkwik.webdatacommons.org/marvelcinematicuniverse.wikia.com/resource/Avengers_(disambiguation)')}], 'http://dbkwik.webdatacommons.org/marvel.wikia.com/resource/Ultimates_(Earth-TRN012)', [], 0.1443935206616821)\n",
      "('http://dbkwik.webdatacommons.org/marvelcinematicuniverse.wikia.com/resource/Avengers', [{'p': rdflib.term.URIRef('http://dbkwik.webdatacommons.org/marvelcinematicuniverse.wikia.com/property/alias'), 's': rdflib.term.URIRef('http://dbkwik.webdatacommons.org/marvelcinematicuniverse.wikia.com/resource/Spider-Man')}, {'p': rdflib.term.URIRef('http://dbkwik.webdatacommons.org/marvelcinematicuniverse.wikia.com/property/alias'), 's': rdflib.term.URIRef('http://dbkwik.webdatacommons.org/marvelcinematicuniverse.wikia.com/resource/Hulk')}, {'p': rdflib.term.URIRef('http://dbkwik.webdatacommons.org/marvelcinematicuniverse.wikia.com/property/alias'), 's': rdflib.term.URIRef('http://dbkwik.webdatacommons.org/marvelcinematicuniverse.wikia.com/resource/Thor')}, {'p': rdflib.term.URIRef('http://dbkwik.webdatacommons.org/marvelcinematicuniverse.wikia.com/property/passengers'), 's': rdflib.term.URIRef('http://dbkwik.webdatacommons.org/marvelcinematicuniverse.wikia.com/resource/Helicarrier')}, {'p': rdflib.term.URIRef('http://dbkwik.webdatacommons.org/marvelcinematicuniverse.wikia.com/property/owner'), 's': rdflib.term.URIRef('http://dbkwik.webdatacommons.org/marvelcinematicuniverse.wikia.com/resource/Quinjet')}, {'p': rdflib.term.URIRef('http://dbkwik.webdatacommons.org/ontology/wikiPageDisambiguates'), 's': rdflib.term.URIRef('http://dbkwik.webdatacommons.org/marvelcinematicuniverse.wikia.com/resource/Avengers_(disambiguation)')}], 'http://dbkwik.webdatacommons.org/marvel.wikia.com/resource/Ultimates_(Earth-15061)', [], 0.1443935206616821)\n",
      "('http://dbkwik.webdatacommons.org/marvelcinematicuniverse.wikia.com/resource/Avengers', [{'p': rdflib.term.URIRef('http://dbkwik.webdatacommons.org/marvelcinematicuniverse.wikia.com/property/alias'), 's': rdflib.term.URIRef('http://dbkwik.webdatacommons.org/marvelcinematicuniverse.wikia.com/resource/Spider-Man')}, {'p': rdflib.term.URIRef('http://dbkwik.webdatacommons.org/marvelcinematicuniverse.wikia.com/property/alias'), 's': rdflib.term.URIRef('http://dbkwik.webdatacommons.org/marvelcinematicuniverse.wikia.com/resource/Hulk')}, {'p': rdflib.term.URIRef('http://dbkwik.webdatacommons.org/marvelcinematicuniverse.wikia.com/property/alias'), 's': rdflib.term.URIRef('http://dbkwik.webdatacommons.org/marvelcinematicuniverse.wikia.com/resource/Thor')}, {'p': rdflib.term.URIRef('http://dbkwik.webdatacommons.org/marvelcinematicuniverse.wikia.com/property/passengers'), 's': rdflib.term.URIRef('http://dbkwik.webdatacommons.org/marvelcinematicuniverse.wikia.com/resource/Helicarrier')}, {'p': rdflib.term.URIRef('http://dbkwik.webdatacommons.org/marvelcinematicuniverse.wikia.com/property/owner'), 's': rdflib.term.URIRef('http://dbkwik.webdatacommons.org/marvelcinematicuniverse.wikia.com/resource/Quinjet')}, {'p': rdflib.term.URIRef('http://dbkwik.webdatacommons.org/ontology/wikiPageDisambiguates'), 's': rdflib.term.URIRef('http://dbkwik.webdatacommons.org/marvelcinematicuniverse.wikia.com/resource/Avengers_(disambiguation)')}], 'http://dbkwik.webdatacommons.org/marvel.wikia.com/resource/Category:Avengers', [], 0.7021131727666525)\n",
      "('http://dbkwik.webdatacommons.org/marvelcinematicuniverse.wikia.com/resource/Avengers', [{'p': rdflib.term.URIRef('http://dbkwik.webdatacommons.org/marvelcinematicuniverse.wikia.com/property/alias'), 's': rdflib.term.URIRef('http://dbkwik.webdatacommons.org/marvelcinematicuniverse.wikia.com/resource/Spider-Man')}, {'p': rdflib.term.URIRef('http://dbkwik.webdatacommons.org/marvelcinematicuniverse.wikia.com/property/alias'), 's': rdflib.term.URIRef('http://dbkwik.webdatacommons.org/marvelcinematicuniverse.wikia.com/resource/Hulk')}, {'p': rdflib.term.URIRef('http://dbkwik.webdatacommons.org/marvelcinematicuniverse.wikia.com/property/alias'), 's': rdflib.term.URIRef('http://dbkwik.webdatacommons.org/marvelcinematicuniverse.wikia.com/resource/Thor')}, {'p': rdflib.term.URIRef('http://dbkwik.webdatacommons.org/marvelcinematicuniverse.wikia.com/property/passengers'), 's': rdflib.term.URIRef('http://dbkwik.webdatacommons.org/marvelcinematicuniverse.wikia.com/resource/Helicarrier')}, {'p': rdflib.term.URIRef('http://dbkwik.webdatacommons.org/marvelcinematicuniverse.wikia.com/property/owner'), 's': rdflib.term.URIRef('http://dbkwik.webdatacommons.org/marvelcinematicuniverse.wikia.com/resource/Quinjet')}, {'p': rdflib.term.URIRef('http://dbkwik.webdatacommons.org/ontology/wikiPageDisambiguates'), 's': rdflib.term.URIRef('http://dbkwik.webdatacommons.org/marvelcinematicuniverse.wikia.com/resource/Avengers_(disambiguation)')}], 'http://dbkwik.webdatacommons.org/marvel.wikia.com/resource/Avengers', [{'p': rdflib.term.URIRef('http://dbkwik.webdatacommons.org/ontology/wikiPageDisambiguates'), 's': rdflib.term.URIRef('http://dbkwik.webdatacommons.org/marvel.wikia.com/resource/Avenger')}, {'p': rdflib.term.URIRef('http://dbkwik.webdatacommons.org/marvel.wikia.com/property/mainCharacter'), 's': rdflib.term.URIRef('http://dbkwik.webdatacommons.org/marvel.wikia.com/resource/Avenger')}, {'p': rdflib.term.URIRef('http://dbkwik.webdatacommons.org/marvel.wikia.com/property/related'), 's': rdflib.term.URIRef('http://dbkwik.webdatacommons.org/marvel.wikia.com/resource/Young_Avengers')}, {'p': rdflib.term.URIRef('http://dbkwik.webdatacommons.org/marvel.wikia.com/property/title'), 's': rdflib.term.URIRef('http://dbkwik.webdatacommons.org/marvel.wikia.com/resource/Avengers_(Earth-616)')}, {'p': rdflib.term.URIRef('http://dbkwik.webdatacommons.org/marvel.wikia.com/property/title'), 's': rdflib.term.URIRef('http://dbkwik.webdatacommons.org/marvel.wikia.com/resource/Avengers_(Earth-97161)')}, {'p': rdflib.term.URIRef('http://dbkwik.webdatacommons.org/marvel.wikia.com/property/related'), 's': rdflib.term.URIRef('http://dbkwik.webdatacommons.org/marvel.wikia.com/resource/New_Avengers')}, {'p': rdflib.term.URIRef('http://dbkwik.webdatacommons.org/marvel.wikia.com/property/related'), 's': rdflib.term.URIRef('http://dbkwik.webdatacommons.org/marvel.wikia.com/resource/Iron_Avengers')}, {'p': rdflib.term.URIRef('http://dbkwik.webdatacommons.org/marvel.wikia.com/property/mainCharacter'), 's': rdflib.term.URIRef('http://dbkwik.webdatacommons.org/marvel.wikia.com/resource/Earth%27s_Mightest_Heroes')}, {'p': rdflib.term.URIRef('http://dbkwik.webdatacommons.org/marvel.wikia.com/property/related'), 's': rdflib.term.URIRef('http://dbkwik.webdatacommons.org/marvel.wikia.com/resource/Scavengers')}, {'p': rdflib.term.URIRef('http://dbkwik.webdatacommons.org/marvel.wikia.com/property/related'), 's': rdflib.term.URIRef('http://dbkwik.webdatacommons.org/marvel.wikia.com/resource/A-Force')}, {'p': rdflib.term.URIRef('http://dbkwik.webdatacommons.org/marvel.wikia.com/property/related'), 's': rdflib.term.URIRef('http://dbkwik.webdatacommons.org/marvel.wikia.com/resource/Ultimates')}, {'p': rdflib.term.URIRef('http://dbkwik.webdatacommons.org/marvel.wikia.com/property/related'), 's': rdflib.term.URIRef('http://dbkwik.webdatacommons.org/marvel.wikia.com/resource/Hydra_Four')}], 0.9206506017201791)\n"
     ]
    },
    {
     "name": "stdout",
     "output_type": "stream",
     "text": [
      "('http://dbkwik.webdatacommons.org/marvelcinematicuniverse.wikia.com/resource/Avengers', [{'p': rdflib.term.URIRef('http://dbkwik.webdatacommons.org/marvelcinematicuniverse.wikia.com/property/alias'), 's': rdflib.term.URIRef('http://dbkwik.webdatacommons.org/marvelcinematicuniverse.wikia.com/resource/Spider-Man')}, {'p': rdflib.term.URIRef('http://dbkwik.webdatacommons.org/marvelcinematicuniverse.wikia.com/property/alias'), 's': rdflib.term.URIRef('http://dbkwik.webdatacommons.org/marvelcinematicuniverse.wikia.com/resource/Hulk')}, {'p': rdflib.term.URIRef('http://dbkwik.webdatacommons.org/marvelcinematicuniverse.wikia.com/property/alias'), 's': rdflib.term.URIRef('http://dbkwik.webdatacommons.org/marvelcinematicuniverse.wikia.com/resource/Thor')}, {'p': rdflib.term.URIRef('http://dbkwik.webdatacommons.org/marvelcinematicuniverse.wikia.com/property/passengers'), 's': rdflib.term.URIRef('http://dbkwik.webdatacommons.org/marvelcinematicuniverse.wikia.com/resource/Helicarrier')}, {'p': rdflib.term.URIRef('http://dbkwik.webdatacommons.org/marvelcinematicuniverse.wikia.com/property/owner'), 's': rdflib.term.URIRef('http://dbkwik.webdatacommons.org/marvelcinematicuniverse.wikia.com/resource/Quinjet')}, {'p': rdflib.term.URIRef('http://dbkwik.webdatacommons.org/ontology/wikiPageDisambiguates'), 's': rdflib.term.URIRef('http://dbkwik.webdatacommons.org/marvelcinematicuniverse.wikia.com/resource/Avengers_(disambiguation)')}], 'http://dbkwik.webdatacommons.org/marvel.wikia.com/resource/Avengers_(Earth-TRN461)', [{'p': rdflib.term.URIRef('http://dbkwik.webdatacommons.org/marvel.wikia.com/property/videoGames'), 's': rdflib.term.URIRef('http://dbkwik.webdatacommons.org/marvel.wikia.com/resource/Avengers')}, {'p': rdflib.term.URIRef('http://dbkwik.webdatacommons.org/ontology/wikiPageDisambiguates'), 's': rdflib.term.URIRef('http://dbkwik.webdatacommons.org/marvel.wikia.com/resource/Avengers')}], 0.39976475339522366)\n",
      "('http://dbkwik.webdatacommons.org/marvelcinematicuniverse.wikia.com/resource/Avengers', [{'p': rdflib.term.URIRef('http://dbkwik.webdatacommons.org/marvelcinematicuniverse.wikia.com/property/alias'), 's': rdflib.term.URIRef('http://dbkwik.webdatacommons.org/marvelcinematicuniverse.wikia.com/resource/Spider-Man')}, {'p': rdflib.term.URIRef('http://dbkwik.webdatacommons.org/marvelcinematicuniverse.wikia.com/property/alias'), 's': rdflib.term.URIRef('http://dbkwik.webdatacommons.org/marvelcinematicuniverse.wikia.com/resource/Hulk')}, {'p': rdflib.term.URIRef('http://dbkwik.webdatacommons.org/marvelcinematicuniverse.wikia.com/property/alias'), 's': rdflib.term.URIRef('http://dbkwik.webdatacommons.org/marvelcinematicuniverse.wikia.com/resource/Thor')}, {'p': rdflib.term.URIRef('http://dbkwik.webdatacommons.org/marvelcinematicuniverse.wikia.com/property/passengers'), 's': rdflib.term.URIRef('http://dbkwik.webdatacommons.org/marvelcinematicuniverse.wikia.com/resource/Helicarrier')}, {'p': rdflib.term.URIRef('http://dbkwik.webdatacommons.org/marvelcinematicuniverse.wikia.com/property/owner'), 's': rdflib.term.URIRef('http://dbkwik.webdatacommons.org/marvelcinematicuniverse.wikia.com/resource/Quinjet')}, {'p': rdflib.term.URIRef('http://dbkwik.webdatacommons.org/ontology/wikiPageDisambiguates'), 's': rdflib.term.URIRef('http://dbkwik.webdatacommons.org/marvelcinematicuniverse.wikia.com/resource/Avengers_(disambiguation)')}], 'http://dbkwik.webdatacommons.org/marvel.wikia.com/resource/Avengers_(Earth-20051)', [], 0.48643483387772024)\n",
      "('http://dbkwik.webdatacommons.org/marvelcinematicuniverse.wikia.com/resource/Avengers', [{'p': rdflib.term.URIRef('http://dbkwik.webdatacommons.org/marvelcinematicuniverse.wikia.com/property/alias'), 's': rdflib.term.URIRef('http://dbkwik.webdatacommons.org/marvelcinematicuniverse.wikia.com/resource/Spider-Man')}, {'p': rdflib.term.URIRef('http://dbkwik.webdatacommons.org/marvelcinematicuniverse.wikia.com/property/alias'), 's': rdflib.term.URIRef('http://dbkwik.webdatacommons.org/marvelcinematicuniverse.wikia.com/resource/Hulk')}, {'p': rdflib.term.URIRef('http://dbkwik.webdatacommons.org/marvelcinematicuniverse.wikia.com/property/alias'), 's': rdflib.term.URIRef('http://dbkwik.webdatacommons.org/marvelcinematicuniverse.wikia.com/resource/Thor')}, {'p': rdflib.term.URIRef('http://dbkwik.webdatacommons.org/marvelcinematicuniverse.wikia.com/property/passengers'), 's': rdflib.term.URIRef('http://dbkwik.webdatacommons.org/marvelcinematicuniverse.wikia.com/resource/Helicarrier')}, {'p': rdflib.term.URIRef('http://dbkwik.webdatacommons.org/marvelcinematicuniverse.wikia.com/property/owner'), 's': rdflib.term.URIRef('http://dbkwik.webdatacommons.org/marvelcinematicuniverse.wikia.com/resource/Quinjet')}, {'p': rdflib.term.URIRef('http://dbkwik.webdatacommons.org/ontology/wikiPageDisambiguates'), 's': rdflib.term.URIRef('http://dbkwik.webdatacommons.org/marvelcinematicuniverse.wikia.com/resource/Avengers_(disambiguation)')}], 'http://dbkwik.webdatacommons.org/marvel.wikia.com/resource/Avengers_(Earth-4321)', [], 0.39976475339522366)\n",
      "('http://dbkwik.webdatacommons.org/marvelcinematicuniverse.wikia.com/resource/Avengers', [{'p': rdflib.term.URIRef('http://dbkwik.webdatacommons.org/marvelcinematicuniverse.wikia.com/property/alias'), 's': rdflib.term.URIRef('http://dbkwik.webdatacommons.org/marvelcinematicuniverse.wikia.com/resource/Spider-Man')}, {'p': rdflib.term.URIRef('http://dbkwik.webdatacommons.org/marvelcinematicuniverse.wikia.com/property/alias'), 's': rdflib.term.URIRef('http://dbkwik.webdatacommons.org/marvelcinematicuniverse.wikia.com/resource/Hulk')}, {'p': rdflib.term.URIRef('http://dbkwik.webdatacommons.org/marvelcinematicuniverse.wikia.com/property/alias'), 's': rdflib.term.URIRef('http://dbkwik.webdatacommons.org/marvelcinematicuniverse.wikia.com/resource/Thor')}, {'p': rdflib.term.URIRef('http://dbkwik.webdatacommons.org/marvelcinematicuniverse.wikia.com/property/passengers'), 's': rdflib.term.URIRef('http://dbkwik.webdatacommons.org/marvelcinematicuniverse.wikia.com/resource/Helicarrier')}, {'p': rdflib.term.URIRef('http://dbkwik.webdatacommons.org/marvelcinematicuniverse.wikia.com/property/owner'), 's': rdflib.term.URIRef('http://dbkwik.webdatacommons.org/marvelcinematicuniverse.wikia.com/resource/Quinjet')}, {'p': rdflib.term.URIRef('http://dbkwik.webdatacommons.org/ontology/wikiPageDisambiguates'), 's': rdflib.term.URIRef('http://dbkwik.webdatacommons.org/marvelcinematicuniverse.wikia.com/resource/Avengers_(disambiguation)')}], 'http://dbkwik.webdatacommons.org/marvel.wikia.com/resource/Avengers_(Earth-70813)', [], 0.39976475339522366)\n",
      "('http://dbkwik.webdatacommons.org/marvelcinematicuniverse.wikia.com/resource/Avengers', [{'p': rdflib.term.URIRef('http://dbkwik.webdatacommons.org/marvelcinematicuniverse.wikia.com/property/alias'), 's': rdflib.term.URIRef('http://dbkwik.webdatacommons.org/marvelcinematicuniverse.wikia.com/resource/Spider-Man')}, {'p': rdflib.term.URIRef('http://dbkwik.webdatacommons.org/marvelcinematicuniverse.wikia.com/property/alias'), 's': rdflib.term.URIRef('http://dbkwik.webdatacommons.org/marvelcinematicuniverse.wikia.com/resource/Hulk')}, {'p': rdflib.term.URIRef('http://dbkwik.webdatacommons.org/marvelcinematicuniverse.wikia.com/property/alias'), 's': rdflib.term.URIRef('http://dbkwik.webdatacommons.org/marvelcinematicuniverse.wikia.com/resource/Thor')}, {'p': rdflib.term.URIRef('http://dbkwik.webdatacommons.org/marvelcinematicuniverse.wikia.com/property/passengers'), 's': rdflib.term.URIRef('http://dbkwik.webdatacommons.org/marvelcinematicuniverse.wikia.com/resource/Helicarrier')}, {'p': rdflib.term.URIRef('http://dbkwik.webdatacommons.org/marvelcinematicuniverse.wikia.com/property/owner'), 's': rdflib.term.URIRef('http://dbkwik.webdatacommons.org/marvelcinematicuniverse.wikia.com/resource/Quinjet')}, {'p': rdflib.term.URIRef('http://dbkwik.webdatacommons.org/ontology/wikiPageDisambiguates'), 's': rdflib.term.URIRef('http://dbkwik.webdatacommons.org/marvelcinematicuniverse.wikia.com/resource/Avengers_(disambiguation)')}], 'http://dbkwik.webdatacommons.org/marvel.wikia.com/resource/Avengers_(Earth-21993)', [], 0.39976475339522366)\n",
      "('http://dbkwik.webdatacommons.org/marvelcinematicuniverse.wikia.com/resource/Avengers', [{'p': rdflib.term.URIRef('http://dbkwik.webdatacommons.org/marvelcinematicuniverse.wikia.com/property/alias'), 's': rdflib.term.URIRef('http://dbkwik.webdatacommons.org/marvelcinematicuniverse.wikia.com/resource/Spider-Man')}, {'p': rdflib.term.URIRef('http://dbkwik.webdatacommons.org/marvelcinematicuniverse.wikia.com/property/alias'), 's': rdflib.term.URIRef('http://dbkwik.webdatacommons.org/marvelcinematicuniverse.wikia.com/resource/Hulk')}, {'p': rdflib.term.URIRef('http://dbkwik.webdatacommons.org/marvelcinematicuniverse.wikia.com/property/alias'), 's': rdflib.term.URIRef('http://dbkwik.webdatacommons.org/marvelcinematicuniverse.wikia.com/resource/Thor')}, {'p': rdflib.term.URIRef('http://dbkwik.webdatacommons.org/marvelcinematicuniverse.wikia.com/property/passengers'), 's': rdflib.term.URIRef('http://dbkwik.webdatacommons.org/marvelcinematicuniverse.wikia.com/resource/Helicarrier')}, {'p': rdflib.term.URIRef('http://dbkwik.webdatacommons.org/marvelcinematicuniverse.wikia.com/property/owner'), 's': rdflib.term.URIRef('http://dbkwik.webdatacommons.org/marvelcinematicuniverse.wikia.com/resource/Quinjet')}, {'p': rdflib.term.URIRef('http://dbkwik.webdatacommons.org/ontology/wikiPageDisambiguates'), 's': rdflib.term.URIRef('http://dbkwik.webdatacommons.org/marvelcinematicuniverse.wikia.com/resource/Avengers_(disambiguation)')}], 'http://dbkwik.webdatacommons.org/marvel.wikia.com/resource/Avengers_(Earth-TRN456)', [{'p': rdflib.term.URIRef('http://dbkwik.webdatacommons.org/ontology/wikiPageDisambiguates'), 's': rdflib.term.URIRef('http://dbkwik.webdatacommons.org/marvel.wikia.com/resource/Avengers')}], 0.48643483387772024)\n"
     ]
    },
    {
     "name": "stdout",
     "output_type": "stream",
     "text": [
      "('http://dbkwik.webdatacommons.org/marvelcinematicuniverse.wikia.com/resource/Avengers', [{'p': rdflib.term.URIRef('http://dbkwik.webdatacommons.org/marvelcinematicuniverse.wikia.com/property/alias'), 's': rdflib.term.URIRef('http://dbkwik.webdatacommons.org/marvelcinematicuniverse.wikia.com/resource/Spider-Man')}, {'p': rdflib.term.URIRef('http://dbkwik.webdatacommons.org/marvelcinematicuniverse.wikia.com/property/alias'), 's': rdflib.term.URIRef('http://dbkwik.webdatacommons.org/marvelcinematicuniverse.wikia.com/resource/Hulk')}, {'p': rdflib.term.URIRef('http://dbkwik.webdatacommons.org/marvelcinematicuniverse.wikia.com/property/alias'), 's': rdflib.term.URIRef('http://dbkwik.webdatacommons.org/marvelcinematicuniverse.wikia.com/resource/Thor')}, {'p': rdflib.term.URIRef('http://dbkwik.webdatacommons.org/marvelcinematicuniverse.wikia.com/property/passengers'), 's': rdflib.term.URIRef('http://dbkwik.webdatacommons.org/marvelcinematicuniverse.wikia.com/resource/Helicarrier')}, {'p': rdflib.term.URIRef('http://dbkwik.webdatacommons.org/marvelcinematicuniverse.wikia.com/property/owner'), 's': rdflib.term.URIRef('http://dbkwik.webdatacommons.org/marvelcinematicuniverse.wikia.com/resource/Quinjet')}, {'p': rdflib.term.URIRef('http://dbkwik.webdatacommons.org/ontology/wikiPageDisambiguates'), 's': rdflib.term.URIRef('http://dbkwik.webdatacommons.org/marvelcinematicuniverse.wikia.com/resource/Avengers_(disambiguation)')}], 'http://dbkwik.webdatacommons.org/marvel.wikia.com/resource/Avengers_(Earth-10223)', [], 0.39976475339522366)\n",
      "('http://dbkwik.webdatacommons.org/marvelcinematicuniverse.wikia.com/resource/Avengers', [{'p': rdflib.term.URIRef('http://dbkwik.webdatacommons.org/marvelcinematicuniverse.wikia.com/property/alias'), 's': rdflib.term.URIRef('http://dbkwik.webdatacommons.org/marvelcinematicuniverse.wikia.com/resource/Spider-Man')}, {'p': rdflib.term.URIRef('http://dbkwik.webdatacommons.org/marvelcinematicuniverse.wikia.com/property/alias'), 's': rdflib.term.URIRef('http://dbkwik.webdatacommons.org/marvelcinematicuniverse.wikia.com/resource/Hulk')}, {'p': rdflib.term.URIRef('http://dbkwik.webdatacommons.org/marvelcinematicuniverse.wikia.com/property/alias'), 's': rdflib.term.URIRef('http://dbkwik.webdatacommons.org/marvelcinematicuniverse.wikia.com/resource/Thor')}, {'p': rdflib.term.URIRef('http://dbkwik.webdatacommons.org/marvelcinematicuniverse.wikia.com/property/passengers'), 's': rdflib.term.URIRef('http://dbkwik.webdatacommons.org/marvelcinematicuniverse.wikia.com/resource/Helicarrier')}, {'p': rdflib.term.URIRef('http://dbkwik.webdatacommons.org/marvelcinematicuniverse.wikia.com/property/owner'), 's': rdflib.term.URIRef('http://dbkwik.webdatacommons.org/marvelcinematicuniverse.wikia.com/resource/Quinjet')}, {'p': rdflib.term.URIRef('http://dbkwik.webdatacommons.org/ontology/wikiPageDisambiguates'), 's': rdflib.term.URIRef('http://dbkwik.webdatacommons.org/marvelcinematicuniverse.wikia.com/resource/Avengers_(disambiguation)')}], 'http://dbkwik.webdatacommons.org/marvel.wikia.com/resource/Avengers_(Earth-829)', [], 0.39976475339522366)\n",
      "('http://dbkwik.webdatacommons.org/marvelcinematicuniverse.wikia.com/resource/Avengers', [{'p': rdflib.term.URIRef('http://dbkwik.webdatacommons.org/marvelcinematicuniverse.wikia.com/property/alias'), 's': rdflib.term.URIRef('http://dbkwik.webdatacommons.org/marvelcinematicuniverse.wikia.com/resource/Spider-Man')}, {'p': rdflib.term.URIRef('http://dbkwik.webdatacommons.org/marvelcinematicuniverse.wikia.com/property/alias'), 's': rdflib.term.URIRef('http://dbkwik.webdatacommons.org/marvelcinematicuniverse.wikia.com/resource/Hulk')}, {'p': rdflib.term.URIRef('http://dbkwik.webdatacommons.org/marvelcinematicuniverse.wikia.com/property/alias'), 's': rdflib.term.URIRef('http://dbkwik.webdatacommons.org/marvelcinematicuniverse.wikia.com/resource/Thor')}, {'p': rdflib.term.URIRef('http://dbkwik.webdatacommons.org/marvelcinematicuniverse.wikia.com/property/passengers'), 's': rdflib.term.URIRef('http://dbkwik.webdatacommons.org/marvelcinematicuniverse.wikia.com/resource/Helicarrier')}, {'p': rdflib.term.URIRef('http://dbkwik.webdatacommons.org/marvelcinematicuniverse.wikia.com/property/owner'), 's': rdflib.term.URIRef('http://dbkwik.webdatacommons.org/marvelcinematicuniverse.wikia.com/resource/Quinjet')}, {'p': rdflib.term.URIRef('http://dbkwik.webdatacommons.org/ontology/wikiPageDisambiguates'), 's': rdflib.term.URIRef('http://dbkwik.webdatacommons.org/marvelcinematicuniverse.wikia.com/resource/Avengers_(disambiguation)')}], 'http://dbkwik.webdatacommons.org/marvel.wikia.com/resource/Avengers_(Earth-28918)', [], 0.39976475339522366)\n",
      "('http://dbkwik.webdatacommons.org/marvelcinematicuniverse.wikia.com/resource/Avengers', [{'p': rdflib.term.URIRef('http://dbkwik.webdatacommons.org/marvelcinematicuniverse.wikia.com/property/alias'), 's': rdflib.term.URIRef('http://dbkwik.webdatacommons.org/marvelcinematicuniverse.wikia.com/resource/Spider-Man')}, {'p': rdflib.term.URIRef('http://dbkwik.webdatacommons.org/marvelcinematicuniverse.wikia.com/property/alias'), 's': rdflib.term.URIRef('http://dbkwik.webdatacommons.org/marvelcinematicuniverse.wikia.com/resource/Hulk')}, {'p': rdflib.term.URIRef('http://dbkwik.webdatacommons.org/marvelcinematicuniverse.wikia.com/property/alias'), 's': rdflib.term.URIRef('http://dbkwik.webdatacommons.org/marvelcinematicuniverse.wikia.com/resource/Thor')}, {'p': rdflib.term.URIRef('http://dbkwik.webdatacommons.org/marvelcinematicuniverse.wikia.com/property/passengers'), 's': rdflib.term.URIRef('http://dbkwik.webdatacommons.org/marvelcinematicuniverse.wikia.com/resource/Helicarrier')}, {'p': rdflib.term.URIRef('http://dbkwik.webdatacommons.org/marvelcinematicuniverse.wikia.com/property/owner'), 's': rdflib.term.URIRef('http://dbkwik.webdatacommons.org/marvelcinematicuniverse.wikia.com/resource/Quinjet')}, {'p': rdflib.term.URIRef('http://dbkwik.webdatacommons.org/ontology/wikiPageDisambiguates'), 's': rdflib.term.URIRef('http://dbkwik.webdatacommons.org/marvelcinematicuniverse.wikia.com/resource/Avengers_(disambiguation)')}], 'http://dbkwik.webdatacommons.org/marvel.wikia.com/resource/Avengers_(Earth-616)', [{'p': rdflib.term.URIRef('http://dbkwik.webdatacommons.org/marvel.wikia.com/property/body'), 's': rdflib.term.URIRef('http://dbkwik.webdatacommons.org/marvel.wikia.com/resource/Bruce_Banner_(Earth-616)')}, {'p': rdflib.term.URIRef('http://dbkwik.webdatacommons.org/marvel.wikia.com/property/mainCharacter'), 's': rdflib.term.URIRef('http://dbkwik.webdatacommons.org/marvel.wikia.com/resource/Avengers')}, {'p': rdflib.term.URIRef('http://dbkwik.webdatacommons.org/ontology/wikiPageDisambiguates'), 's': rdflib.term.URIRef('http://dbkwik.webdatacommons.org/marvel.wikia.com/resource/Avengers')}, {'p': rdflib.term.URIRef('http://dbkwik.webdatacommons.org/marvel.wikia.com/property/newHeader'), 's': rdflib.term.URIRef('http://dbkwik.webdatacommons.org/marvel.wikia.com/resource/Avengers')}, {'p': rdflib.term.URIRef('http://dbkwik.webdatacommons.org/marvel.wikia.com/property/description'), 's': rdflib.term.URIRef('http://dbkwik.webdatacommons.org/marvel.wikia.com/resource/Ultron')}, {'p': rdflib.term.URIRef('http://dbkwik.webdatacommons.org/marvel.wikia.com/property/description'), 's': rdflib.term.URIRef('http://dbkwik.webdatacommons.org/marvel.wikia.com/resource/Sandman')}, {'p': rdflib.term.URIRef('http://dbkwik.webdatacommons.org/marvel.wikia.com/property/description'), 's': rdflib.term.URIRef('http://dbkwik.webdatacommons.org/marvel.wikia.com/resource/Kamala_Khan')}, {'p': rdflib.term.URIRef('http://dbkwik.webdatacommons.org/marvel.wikia.com/property/body'), 's': rdflib.term.URIRef('http://dbkwik.webdatacommons.org/marvel.wikia.com/resource/Hydra_(Earth-616)')}, {'p': rdflib.term.URIRef('http://dbkwik.webdatacommons.org/marvel.wikia.com/property/description'), 's': rdflib.term.URIRef('http://dbkwik.webdatacommons.org/marvel.wikia.com/resource/House_of_Agon')}, {'p': rdflib.term.URIRef('http://dbkwik.webdatacommons.org/marvel.wikia.com/property/others'), 's': rdflib.term.URIRef('http://dbkwik.webdatacommons.org/marvel.wikia.com/resource/Sinister_Six')}, {'p': rdflib.term.URIRef('http://dbkwik.webdatacommons.org/marvel.wikia.com/property/description'), 's': rdflib.term.URIRef('http://dbkwik.webdatacommons.org/marvel.wikia.com/resource/Rogue')}, {'p': rdflib.term.URIRef('http://dbkwik.webdatacommons.org/marvel.wikia.com/property/description'), 's': rdflib.term.URIRef('http://dbkwik.webdatacommons.org/marvel.wikia.com/resource/The_Hood')}, {'p': rdflib.term.URIRef('http://dbkwik.webdatacommons.org/marvel.wikia.com/property/body'), 's': rdflib.term.URIRef('http://dbkwik.webdatacommons.org/marvel.wikia.com/resource/Aikku_Jokinen_(Earth-616)')}, {'p': rdflib.term.URIRef('http://dbkwik.webdatacommons.org/marvel.wikia.com/property/description'), 's': rdflib.term.URIRef('http://dbkwik.webdatacommons.org/marvel.wikia.com/resource/Purple_Man')}, {'p': rdflib.term.URIRef('http://dbkwik.webdatacommons.org/marvel.wikia.com/property/related'), 's': rdflib.term.URIRef('http://dbkwik.webdatacommons.org/marvel.wikia.com/resource/Mighty_Avengers')}, {'p': rdflib.term.URIRef('http://dbkwik.webdatacommons.org/marvel.wikia.com/property/description'), 's': rdflib.term.URIRef('http://dbkwik.webdatacommons.org/marvel.wikia.com/resource/Warbird')}, {'p': rdflib.term.URIRef('http://dbkwik.webdatacommons.org/marvel.wikia.com/property/description'), 's': rdflib.term.URIRef('http://dbkwik.webdatacommons.org/marvel.wikia.com/resource/Tom_Foster')}], 0.9421328004749605)\n"
     ]
    },
    {
     "name": "stdout",
     "output_type": "stream",
     "text": [
      "('http://dbkwik.webdatacommons.org/marvelcinematicuniverse.wikia.com/resource/Avengers', [{'p': rdflib.term.URIRef('http://dbkwik.webdatacommons.org/marvelcinematicuniverse.wikia.com/property/alias'), 's': rdflib.term.URIRef('http://dbkwik.webdatacommons.org/marvelcinematicuniverse.wikia.com/resource/Spider-Man')}, {'p': rdflib.term.URIRef('http://dbkwik.webdatacommons.org/marvelcinematicuniverse.wikia.com/property/alias'), 's': rdflib.term.URIRef('http://dbkwik.webdatacommons.org/marvelcinematicuniverse.wikia.com/resource/Hulk')}, {'p': rdflib.term.URIRef('http://dbkwik.webdatacommons.org/marvelcinematicuniverse.wikia.com/property/alias'), 's': rdflib.term.URIRef('http://dbkwik.webdatacommons.org/marvelcinematicuniverse.wikia.com/resource/Thor')}, {'p': rdflib.term.URIRef('http://dbkwik.webdatacommons.org/marvelcinematicuniverse.wikia.com/property/passengers'), 's': rdflib.term.URIRef('http://dbkwik.webdatacommons.org/marvelcinematicuniverse.wikia.com/resource/Helicarrier')}, {'p': rdflib.term.URIRef('http://dbkwik.webdatacommons.org/marvelcinematicuniverse.wikia.com/property/owner'), 's': rdflib.term.URIRef('http://dbkwik.webdatacommons.org/marvelcinematicuniverse.wikia.com/resource/Quinjet')}, {'p': rdflib.term.URIRef('http://dbkwik.webdatacommons.org/ontology/wikiPageDisambiguates'), 's': rdflib.term.URIRef('http://dbkwik.webdatacommons.org/marvelcinematicuniverse.wikia.com/resource/Avengers_(disambiguation)')}], 'http://dbkwik.webdatacommons.org/marvel.wikia.com/resource/Avengers_Vol_3', [], 0.39976475339522366)\n",
      "('http://dbkwik.webdatacommons.org/marvelcinematicuniverse.wikia.com/resource/Avengers', [{'p': rdflib.term.URIRef('http://dbkwik.webdatacommons.org/marvelcinematicuniverse.wikia.com/property/alias'), 's': rdflib.term.URIRef('http://dbkwik.webdatacommons.org/marvelcinematicuniverse.wikia.com/resource/Spider-Man')}, {'p': rdflib.term.URIRef('http://dbkwik.webdatacommons.org/marvelcinematicuniverse.wikia.com/property/alias'), 's': rdflib.term.URIRef('http://dbkwik.webdatacommons.org/marvelcinematicuniverse.wikia.com/resource/Hulk')}, {'p': rdflib.term.URIRef('http://dbkwik.webdatacommons.org/marvelcinematicuniverse.wikia.com/property/alias'), 's': rdflib.term.URIRef('http://dbkwik.webdatacommons.org/marvelcinematicuniverse.wikia.com/resource/Thor')}, {'p': rdflib.term.URIRef('http://dbkwik.webdatacommons.org/marvelcinematicuniverse.wikia.com/property/passengers'), 's': rdflib.term.URIRef('http://dbkwik.webdatacommons.org/marvelcinematicuniverse.wikia.com/resource/Helicarrier')}, {'p': rdflib.term.URIRef('http://dbkwik.webdatacommons.org/marvelcinematicuniverse.wikia.com/property/owner'), 's': rdflib.term.URIRef('http://dbkwik.webdatacommons.org/marvelcinematicuniverse.wikia.com/resource/Quinjet')}, {'p': rdflib.term.URIRef('http://dbkwik.webdatacommons.org/ontology/wikiPageDisambiguates'), 's': rdflib.term.URIRef('http://dbkwik.webdatacommons.org/marvelcinematicuniverse.wikia.com/resource/Avengers_(disambiguation)')}], 'http://dbkwik.webdatacommons.org/marvel.wikia.com/resource/Avengers_(Earth-TRN503)', [{'p': rdflib.term.URIRef('http://dbkwik.webdatacommons.org/ontology/wikiPageDisambiguates'), 's': rdflib.term.URIRef('http://dbkwik.webdatacommons.org/marvel.wikia.com/resource/Avengers')}], 0.39976475339522366)\n",
      "('http://dbkwik.webdatacommons.org/marvelcinematicuniverse.wikia.com/resource/Avengers', [{'p': rdflib.term.URIRef('http://dbkwik.webdatacommons.org/marvelcinematicuniverse.wikia.com/property/alias'), 's': rdflib.term.URIRef('http://dbkwik.webdatacommons.org/marvelcinematicuniverse.wikia.com/resource/Spider-Man')}, {'p': rdflib.term.URIRef('http://dbkwik.webdatacommons.org/marvelcinematicuniverse.wikia.com/property/alias'), 's': rdflib.term.URIRef('http://dbkwik.webdatacommons.org/marvelcinematicuniverse.wikia.com/resource/Hulk')}, {'p': rdflib.term.URIRef('http://dbkwik.webdatacommons.org/marvelcinematicuniverse.wikia.com/property/alias'), 's': rdflib.term.URIRef('http://dbkwik.webdatacommons.org/marvelcinematicuniverse.wikia.com/resource/Thor')}, {'p': rdflib.term.URIRef('http://dbkwik.webdatacommons.org/marvelcinematicuniverse.wikia.com/property/passengers'), 's': rdflib.term.URIRef('http://dbkwik.webdatacommons.org/marvelcinematicuniverse.wikia.com/resource/Helicarrier')}, {'p': rdflib.term.URIRef('http://dbkwik.webdatacommons.org/marvelcinematicuniverse.wikia.com/property/owner'), 's': rdflib.term.URIRef('http://dbkwik.webdatacommons.org/marvelcinematicuniverse.wikia.com/resource/Quinjet')}, {'p': rdflib.term.URIRef('http://dbkwik.webdatacommons.org/ontology/wikiPageDisambiguates'), 's': rdflib.term.URIRef('http://dbkwik.webdatacommons.org/marvelcinematicuniverse.wikia.com/resource/Avengers_(disambiguation)')}], 'http://dbkwik.webdatacommons.org/marvel.wikia.com/resource/Avengers_Vol_1', [{'p': rdflib.term.URIRef('http://dbkwik.webdatacommons.org/marvel.wikia.com/property/title'), 's': rdflib.term.URIRef('http://dbkwik.webdatacommons.org/marvel.wikia.com/resource/Tom_DeFalco_(Earth-1218)')}, {'p': rdflib.term.URIRef('http://dbkwik.webdatacommons.org/marvel.wikia.com/property/newHeader'), 's': rdflib.term.URIRef('http://dbkwik.webdatacommons.org/marvel.wikia.com/resource/Mighty_Avengers')}], 0.39976475339522366)\n",
      "('http://dbkwik.webdatacommons.org/marvelcinematicuniverse.wikia.com/resource/Avengers', [{'p': rdflib.term.URIRef('http://dbkwik.webdatacommons.org/marvelcinematicuniverse.wikia.com/property/alias'), 's': rdflib.term.URIRef('http://dbkwik.webdatacommons.org/marvelcinematicuniverse.wikia.com/resource/Spider-Man')}, {'p': rdflib.term.URIRef('http://dbkwik.webdatacommons.org/marvelcinematicuniverse.wikia.com/property/alias'), 's': rdflib.term.URIRef('http://dbkwik.webdatacommons.org/marvelcinematicuniverse.wikia.com/resource/Hulk')}, {'p': rdflib.term.URIRef('http://dbkwik.webdatacommons.org/marvelcinematicuniverse.wikia.com/property/alias'), 's': rdflib.term.URIRef('http://dbkwik.webdatacommons.org/marvelcinematicuniverse.wikia.com/resource/Thor')}, {'p': rdflib.term.URIRef('http://dbkwik.webdatacommons.org/marvelcinematicuniverse.wikia.com/property/passengers'), 's': rdflib.term.URIRef('http://dbkwik.webdatacommons.org/marvelcinematicuniverse.wikia.com/resource/Helicarrier')}, {'p': rdflib.term.URIRef('http://dbkwik.webdatacommons.org/marvelcinematicuniverse.wikia.com/property/owner'), 's': rdflib.term.URIRef('http://dbkwik.webdatacommons.org/marvelcinematicuniverse.wikia.com/resource/Quinjet')}, {'p': rdflib.term.URIRef('http://dbkwik.webdatacommons.org/ontology/wikiPageDisambiguates'), 's': rdflib.term.URIRef('http://dbkwik.webdatacommons.org/marvelcinematicuniverse.wikia.com/resource/Avengers_(disambiguation)')}], 'http://dbkwik.webdatacommons.org/marvel.wikia.com/resource/Avengers_(Earth-9009)', [], 0.39976475339522366)\n",
      "('http://dbkwik.webdatacommons.org/marvelcinematicuniverse.wikia.com/resource/Avengers', [{'p': rdflib.term.URIRef('http://dbkwik.webdatacommons.org/marvelcinematicuniverse.wikia.com/property/alias'), 's': rdflib.term.URIRef('http://dbkwik.webdatacommons.org/marvelcinematicuniverse.wikia.com/resource/Spider-Man')}, {'p': rdflib.term.URIRef('http://dbkwik.webdatacommons.org/marvelcinematicuniverse.wikia.com/property/alias'), 's': rdflib.term.URIRef('http://dbkwik.webdatacommons.org/marvelcinematicuniverse.wikia.com/resource/Hulk')}, {'p': rdflib.term.URIRef('http://dbkwik.webdatacommons.org/marvelcinematicuniverse.wikia.com/property/alias'), 's': rdflib.term.URIRef('http://dbkwik.webdatacommons.org/marvelcinematicuniverse.wikia.com/resource/Thor')}, {'p': rdflib.term.URIRef('http://dbkwik.webdatacommons.org/marvelcinematicuniverse.wikia.com/property/passengers'), 's': rdflib.term.URIRef('http://dbkwik.webdatacommons.org/marvelcinematicuniverse.wikia.com/resource/Helicarrier')}, {'p': rdflib.term.URIRef('http://dbkwik.webdatacommons.org/marvelcinematicuniverse.wikia.com/property/owner'), 's': rdflib.term.URIRef('http://dbkwik.webdatacommons.org/marvelcinematicuniverse.wikia.com/resource/Quinjet')}, {'p': rdflib.term.URIRef('http://dbkwik.webdatacommons.org/ontology/wikiPageDisambiguates'), 's': rdflib.term.URIRef('http://dbkwik.webdatacommons.org/marvelcinematicuniverse.wikia.com/resource/Avengers_(disambiguation)')}], 'http://dbkwik.webdatacommons.org/marvel.wikia.com/resource/Avengers_(Earth-9590)', [], 0.39976475339522366)\n"
     ]
    },
    {
     "name": "stdout",
     "output_type": "stream",
     "text": [
      "('http://dbkwik.webdatacommons.org/marvelcinematicuniverse.wikia.com/resource/Avengers', [{'p': rdflib.term.URIRef('http://dbkwik.webdatacommons.org/marvelcinematicuniverse.wikia.com/property/alias'), 's': rdflib.term.URIRef('http://dbkwik.webdatacommons.org/marvelcinematicuniverse.wikia.com/resource/Spider-Man')}, {'p': rdflib.term.URIRef('http://dbkwik.webdatacommons.org/marvelcinematicuniverse.wikia.com/property/alias'), 's': rdflib.term.URIRef('http://dbkwik.webdatacommons.org/marvelcinematicuniverse.wikia.com/resource/Hulk')}, {'p': rdflib.term.URIRef('http://dbkwik.webdatacommons.org/marvelcinematicuniverse.wikia.com/property/alias'), 's': rdflib.term.URIRef('http://dbkwik.webdatacommons.org/marvelcinematicuniverse.wikia.com/resource/Thor')}, {'p': rdflib.term.URIRef('http://dbkwik.webdatacommons.org/marvelcinematicuniverse.wikia.com/property/passengers'), 's': rdflib.term.URIRef('http://dbkwik.webdatacommons.org/marvelcinematicuniverse.wikia.com/resource/Helicarrier')}, {'p': rdflib.term.URIRef('http://dbkwik.webdatacommons.org/marvelcinematicuniverse.wikia.com/property/owner'), 's': rdflib.term.URIRef('http://dbkwik.webdatacommons.org/marvelcinematicuniverse.wikia.com/resource/Quinjet')}, {'p': rdflib.term.URIRef('http://dbkwik.webdatacommons.org/ontology/wikiPageDisambiguates'), 's': rdflib.term.URIRef('http://dbkwik.webdatacommons.org/marvelcinematicuniverse.wikia.com/resource/Avengers_(disambiguation)')}], 'http://dbkwik.webdatacommons.org/marvel.wikia.com/resource/Avengers_(Hydra)_(Earth-616)', [{'p': rdflib.term.URIRef('http://dbkwik.webdatacommons.org/marvel.wikia.com/property/mainCharacter'), 's': rdflib.term.URIRef('http://dbkwik.webdatacommons.org/marvel.wikia.com/resource/Hydra%27s_Avengers')}], 0.39976475339522366)\n",
      "('http://dbkwik.webdatacommons.org/marvelcinematicuniverse.wikia.com/resource/Avengers', [{'p': rdflib.term.URIRef('http://dbkwik.webdatacommons.org/marvelcinematicuniverse.wikia.com/property/alias'), 's': rdflib.term.URIRef('http://dbkwik.webdatacommons.org/marvelcinematicuniverse.wikia.com/resource/Spider-Man')}, {'p': rdflib.term.URIRef('http://dbkwik.webdatacommons.org/marvelcinematicuniverse.wikia.com/property/alias'), 's': rdflib.term.URIRef('http://dbkwik.webdatacommons.org/marvelcinematicuniverse.wikia.com/resource/Hulk')}, {'p': rdflib.term.URIRef('http://dbkwik.webdatacommons.org/marvelcinematicuniverse.wikia.com/property/alias'), 's': rdflib.term.URIRef('http://dbkwik.webdatacommons.org/marvelcinematicuniverse.wikia.com/resource/Thor')}, {'p': rdflib.term.URIRef('http://dbkwik.webdatacommons.org/marvelcinematicuniverse.wikia.com/property/passengers'), 's': rdflib.term.URIRef('http://dbkwik.webdatacommons.org/marvelcinematicuniverse.wikia.com/resource/Helicarrier')}, {'p': rdflib.term.URIRef('http://dbkwik.webdatacommons.org/marvelcinematicuniverse.wikia.com/property/owner'), 's': rdflib.term.URIRef('http://dbkwik.webdatacommons.org/marvelcinematicuniverse.wikia.com/resource/Quinjet')}, {'p': rdflib.term.URIRef('http://dbkwik.webdatacommons.org/ontology/wikiPageDisambiguates'), 's': rdflib.term.URIRef('http://dbkwik.webdatacommons.org/marvelcinematicuniverse.wikia.com/resource/Avengers_(disambiguation)')}], 'http://dbkwik.webdatacommons.org/marvel.wikia.com/resource/Avengers_(Earth-9997)', [], 0.5605903163033179)\n",
      "('http://dbkwik.webdatacommons.org/marvelcinematicuniverse.wikia.com/resource/Avengers', [{'p': rdflib.term.URIRef('http://dbkwik.webdatacommons.org/marvelcinematicuniverse.wikia.com/property/alias'), 's': rdflib.term.URIRef('http://dbkwik.webdatacommons.org/marvelcinematicuniverse.wikia.com/resource/Spider-Man')}, {'p': rdflib.term.URIRef('http://dbkwik.webdatacommons.org/marvelcinematicuniverse.wikia.com/property/alias'), 's': rdflib.term.URIRef('http://dbkwik.webdatacommons.org/marvelcinematicuniverse.wikia.com/resource/Hulk')}, {'p': rdflib.term.URIRef('http://dbkwik.webdatacommons.org/marvelcinematicuniverse.wikia.com/property/alias'), 's': rdflib.term.URIRef('http://dbkwik.webdatacommons.org/marvelcinematicuniverse.wikia.com/resource/Thor')}, {'p': rdflib.term.URIRef('http://dbkwik.webdatacommons.org/marvelcinematicuniverse.wikia.com/property/passengers'), 's': rdflib.term.URIRef('http://dbkwik.webdatacommons.org/marvelcinematicuniverse.wikia.com/resource/Helicarrier')}, {'p': rdflib.term.URIRef('http://dbkwik.webdatacommons.org/marvelcinematicuniverse.wikia.com/property/owner'), 's': rdflib.term.URIRef('http://dbkwik.webdatacommons.org/marvelcinematicuniverse.wikia.com/resource/Quinjet')}, {'p': rdflib.term.URIRef('http://dbkwik.webdatacommons.org/ontology/wikiPageDisambiguates'), 's': rdflib.term.URIRef('http://dbkwik.webdatacommons.org/marvelcinematicuniverse.wikia.com/resource/Avengers_(disambiguation)')}], 'http://dbkwik.webdatacommons.org/marvel.wikia.com/resource/Avengers_(Heroes_Reborn)_(Earth-616)', [{'p': rdflib.term.URIRef('http://dbkwik.webdatacommons.org/ontology/wikiPageDisambiguates'), 's': rdflib.term.URIRef('http://dbkwik.webdatacommons.org/marvel.wikia.com/resource/Avengers')}, {'p': rdflib.term.URIRef('http://dbkwik.webdatacommons.org/marvel.wikia.com/property/related'), 's': rdflib.term.URIRef('http://dbkwik.webdatacommons.org/marvel.wikia.com/resource/Avengers')}], 0.48643483387772024)\n",
      "('http://dbkwik.webdatacommons.org/marvelcinematicuniverse.wikia.com/resource/Avengers', [{'p': rdflib.term.URIRef('http://dbkwik.webdatacommons.org/marvelcinematicuniverse.wikia.com/property/alias'), 's': rdflib.term.URIRef('http://dbkwik.webdatacommons.org/marvelcinematicuniverse.wikia.com/resource/Spider-Man')}, {'p': rdflib.term.URIRef('http://dbkwik.webdatacommons.org/marvelcinematicuniverse.wikia.com/property/alias'), 's': rdflib.term.URIRef('http://dbkwik.webdatacommons.org/marvelcinematicuniverse.wikia.com/resource/Hulk')}, {'p': rdflib.term.URIRef('http://dbkwik.webdatacommons.org/marvelcinematicuniverse.wikia.com/property/alias'), 's': rdflib.term.URIRef('http://dbkwik.webdatacommons.org/marvelcinematicuniverse.wikia.com/resource/Thor')}, {'p': rdflib.term.URIRef('http://dbkwik.webdatacommons.org/marvelcinematicuniverse.wikia.com/property/passengers'), 's': rdflib.term.URIRef('http://dbkwik.webdatacommons.org/marvelcinematicuniverse.wikia.com/resource/Helicarrier')}, {'p': rdflib.term.URIRef('http://dbkwik.webdatacommons.org/marvelcinematicuniverse.wikia.com/property/owner'), 's': rdflib.term.URIRef('http://dbkwik.webdatacommons.org/marvelcinematicuniverse.wikia.com/resource/Quinjet')}, {'p': rdflib.term.URIRef('http://dbkwik.webdatacommons.org/ontology/wikiPageDisambiguates'), 's': rdflib.term.URIRef('http://dbkwik.webdatacommons.org/marvelcinematicuniverse.wikia.com/resource/Avengers_(disambiguation)')}], 'http://dbkwik.webdatacommons.org/marvel.wikia.com/resource/Avengers_(Earth-199999)', [{'p': rdflib.term.URIRef('http://dbkwik.webdatacommons.org/marvel.wikia.com/property/related'), 's': rdflib.term.URIRef('http://dbkwik.webdatacommons.org/marvel.wikia.com/resource/New_Avengers')}], 0.8276092289677084)\n",
      "('http://dbkwik.webdatacommons.org/marvelcinematicuniverse.wikia.com/resource/Avengers', [{'p': rdflib.term.URIRef('http://dbkwik.webdatacommons.org/marvelcinematicuniverse.wikia.com/property/alias'), 's': rdflib.term.URIRef('http://dbkwik.webdatacommons.org/marvelcinematicuniverse.wikia.com/resource/Spider-Man')}, {'p': rdflib.term.URIRef('http://dbkwik.webdatacommons.org/marvelcinematicuniverse.wikia.com/property/alias'), 's': rdflib.term.URIRef('http://dbkwik.webdatacommons.org/marvelcinematicuniverse.wikia.com/resource/Hulk')}, {'p': rdflib.term.URIRef('http://dbkwik.webdatacommons.org/marvelcinematicuniverse.wikia.com/property/alias'), 's': rdflib.term.URIRef('http://dbkwik.webdatacommons.org/marvelcinematicuniverse.wikia.com/resource/Thor')}, {'p': rdflib.term.URIRef('http://dbkwik.webdatacommons.org/marvelcinematicuniverse.wikia.com/property/passengers'), 's': rdflib.term.URIRef('http://dbkwik.webdatacommons.org/marvelcinematicuniverse.wikia.com/resource/Helicarrier')}, {'p': rdflib.term.URIRef('http://dbkwik.webdatacommons.org/marvelcinematicuniverse.wikia.com/property/owner'), 's': rdflib.term.URIRef('http://dbkwik.webdatacommons.org/marvelcinematicuniverse.wikia.com/resource/Quinjet')}, {'p': rdflib.term.URIRef('http://dbkwik.webdatacommons.org/ontology/wikiPageDisambiguates'), 's': rdflib.term.URIRef('http://dbkwik.webdatacommons.org/marvelcinematicuniverse.wikia.com/resource/Avengers_(disambiguation)')}], 'http://dbkwik.webdatacommons.org/marvel.wikia.com/resource/Avengers_(Earth-12131)', [{'p': rdflib.term.URIRef('http://dbkwik.webdatacommons.org/marvel.wikia.com/property/videoGames'), 's': rdflib.term.URIRef('http://dbkwik.webdatacommons.org/marvel.wikia.com/resource/Avengers_Initiative')}], 0.39976475339522366)\n"
     ]
    },
    {
     "name": "stdout",
     "output_type": "stream",
     "text": [
      "('http://dbkwik.webdatacommons.org/marvelcinematicuniverse.wikia.com/resource/Avengers', [{'p': rdflib.term.URIRef('http://dbkwik.webdatacommons.org/marvelcinematicuniverse.wikia.com/property/alias'), 's': rdflib.term.URIRef('http://dbkwik.webdatacommons.org/marvelcinematicuniverse.wikia.com/resource/Spider-Man')}, {'p': rdflib.term.URIRef('http://dbkwik.webdatacommons.org/marvelcinematicuniverse.wikia.com/property/alias'), 's': rdflib.term.URIRef('http://dbkwik.webdatacommons.org/marvelcinematicuniverse.wikia.com/resource/Hulk')}, {'p': rdflib.term.URIRef('http://dbkwik.webdatacommons.org/marvelcinematicuniverse.wikia.com/property/alias'), 's': rdflib.term.URIRef('http://dbkwik.webdatacommons.org/marvelcinematicuniverse.wikia.com/resource/Thor')}, {'p': rdflib.term.URIRef('http://dbkwik.webdatacommons.org/marvelcinematicuniverse.wikia.com/property/passengers'), 's': rdflib.term.URIRef('http://dbkwik.webdatacommons.org/marvelcinematicuniverse.wikia.com/resource/Helicarrier')}, {'p': rdflib.term.URIRef('http://dbkwik.webdatacommons.org/marvelcinematicuniverse.wikia.com/property/owner'), 's': rdflib.term.URIRef('http://dbkwik.webdatacommons.org/marvelcinematicuniverse.wikia.com/resource/Quinjet')}, {'p': rdflib.term.URIRef('http://dbkwik.webdatacommons.org/ontology/wikiPageDisambiguates'), 's': rdflib.term.URIRef('http://dbkwik.webdatacommons.org/marvelcinematicuniverse.wikia.com/resource/Avengers_(disambiguation)')}], 'http://dbkwik.webdatacommons.org/marvel.wikia.com/resource/Avengers_(Earth-TRN517)', [{'p': rdflib.term.URIRef('http://dbkwik.webdatacommons.org/ontology/wikiPageDisambiguates'), 's': rdflib.term.URIRef('http://dbkwik.webdatacommons.org/marvel.wikia.com/resource/Avengers')}, {'p': rdflib.term.URIRef('http://dbkwik.webdatacommons.org/marvel.wikia.com/property/videoGames'), 's': rdflib.term.URIRef('http://dbkwik.webdatacommons.org/marvel.wikia.com/resource/Avengers')}], 0.49686947485880395)\n",
      "('http://dbkwik.webdatacommons.org/marvelcinematicuniverse.wikia.com/resource/Avengers', [{'p': rdflib.term.URIRef('http://dbkwik.webdatacommons.org/marvelcinematicuniverse.wikia.com/property/alias'), 's': rdflib.term.URIRef('http://dbkwik.webdatacommons.org/marvelcinematicuniverse.wikia.com/resource/Spider-Man')}, {'p': rdflib.term.URIRef('http://dbkwik.webdatacommons.org/marvelcinematicuniverse.wikia.com/property/alias'), 's': rdflib.term.URIRef('http://dbkwik.webdatacommons.org/marvelcinematicuniverse.wikia.com/resource/Hulk')}, {'p': rdflib.term.URIRef('http://dbkwik.webdatacommons.org/marvelcinematicuniverse.wikia.com/property/alias'), 's': rdflib.term.URIRef('http://dbkwik.webdatacommons.org/marvelcinematicuniverse.wikia.com/resource/Thor')}, {'p': rdflib.term.URIRef('http://dbkwik.webdatacommons.org/marvelcinematicuniverse.wikia.com/property/passengers'), 's': rdflib.term.URIRef('http://dbkwik.webdatacommons.org/marvelcinematicuniverse.wikia.com/resource/Helicarrier')}, {'p': rdflib.term.URIRef('http://dbkwik.webdatacommons.org/marvelcinematicuniverse.wikia.com/property/owner'), 's': rdflib.term.URIRef('http://dbkwik.webdatacommons.org/marvelcinematicuniverse.wikia.com/resource/Quinjet')}, {'p': rdflib.term.URIRef('http://dbkwik.webdatacommons.org/ontology/wikiPageDisambiguates'), 's': rdflib.term.URIRef('http://dbkwik.webdatacommons.org/marvelcinematicuniverse.wikia.com/resource/Avengers_(disambiguation)')}], 'http://dbkwik.webdatacommons.org/marvel.wikia.com/resource/Anthony_Stark_(Earth-12041)', [{'p': rdflib.term.URIRef('http://dbkwik.webdatacommons.org/marvel.wikia.com/property/body'), 's': rdflib.term.URIRef('http://dbkwik.webdatacommons.org/marvel.wikia.com/resource/Time_Gem')}, {'p': rdflib.term.URIRef('http://dbkwik.webdatacommons.org/marvel.wikia.com/property/body'), 's': rdflib.term.URIRef('http://dbkwik.webdatacommons.org/marvel.wikia.com/resource/Reality_Gem')}, {'p': rdflib.term.URIRef('http://dbkwik.webdatacommons.org/marvel.wikia.com/property/body'), 's': rdflib.term.URIRef('http://dbkwik.webdatacommons.org/marvel.wikia.com/resource/Mind_Gem')}, {'p': rdflib.term.URIRef('http://dbkwik.webdatacommons.org/marvel.wikia.com/property/body'), 's': rdflib.term.URIRef('http://dbkwik.webdatacommons.org/marvel.wikia.com/resource/Space_Gem')}, {'p': rdflib.term.URIRef('http://dbkwik.webdatacommons.org/marvel.wikia.com/property/others'), 's': rdflib.term.URIRef('http://dbkwik.webdatacommons.org/marvel.wikia.com/resource/Grim_Reaper')}], 0.5605903163033179)\n",
      "('http://dbkwik.webdatacommons.org/marvelcinematicuniverse.wikia.com/resource/Avengers', [{'p': rdflib.term.URIRef('http://dbkwik.webdatacommons.org/marvelcinematicuniverse.wikia.com/property/alias'), 's': rdflib.term.URIRef('http://dbkwik.webdatacommons.org/marvelcinematicuniverse.wikia.com/resource/Spider-Man')}, {'p': rdflib.term.URIRef('http://dbkwik.webdatacommons.org/marvelcinematicuniverse.wikia.com/property/alias'), 's': rdflib.term.URIRef('http://dbkwik.webdatacommons.org/marvelcinematicuniverse.wikia.com/resource/Hulk')}, {'p': rdflib.term.URIRef('http://dbkwik.webdatacommons.org/marvelcinematicuniverse.wikia.com/property/alias'), 's': rdflib.term.URIRef('http://dbkwik.webdatacommons.org/marvelcinematicuniverse.wikia.com/resource/Thor')}, {'p': rdflib.term.URIRef('http://dbkwik.webdatacommons.org/marvelcinematicuniverse.wikia.com/property/passengers'), 's': rdflib.term.URIRef('http://dbkwik.webdatacommons.org/marvelcinematicuniverse.wikia.com/resource/Helicarrier')}, {'p': rdflib.term.URIRef('http://dbkwik.webdatacommons.org/marvelcinematicuniverse.wikia.com/property/owner'), 's': rdflib.term.URIRef('http://dbkwik.webdatacommons.org/marvelcinematicuniverse.wikia.com/resource/Quinjet')}, {'p': rdflib.term.URIRef('http://dbkwik.webdatacommons.org/ontology/wikiPageDisambiguates'), 's': rdflib.term.URIRef('http://dbkwik.webdatacommons.org/marvelcinematicuniverse.wikia.com/resource/Avengers_(disambiguation)')}], 'http://dbkwik.webdatacommons.org/marvel.wikia.com/resource/Avengers_(Earth-13122)', [{'p': rdflib.term.URIRef('http://dbkwik.webdatacommons.org/marvel.wikia.com/property/videoGames'), 's': rdflib.term.URIRef('http://dbkwik.webdatacommons.org/marvel.wikia.com/resource/Avengers_Initiative')}], 0.39976475339522366)\n",
      "('http://dbkwik.webdatacommons.org/marvelcinematicuniverse.wikia.com/resource/Avengers', [{'p': rdflib.term.URIRef('http://dbkwik.webdatacommons.org/marvelcinematicuniverse.wikia.com/property/alias'), 's': rdflib.term.URIRef('http://dbkwik.webdatacommons.org/marvelcinematicuniverse.wikia.com/resource/Spider-Man')}, {'p': rdflib.term.URIRef('http://dbkwik.webdatacommons.org/marvelcinematicuniverse.wikia.com/property/alias'), 's': rdflib.term.URIRef('http://dbkwik.webdatacommons.org/marvelcinematicuniverse.wikia.com/resource/Hulk')}, {'p': rdflib.term.URIRef('http://dbkwik.webdatacommons.org/marvelcinematicuniverse.wikia.com/property/alias'), 's': rdflib.term.URIRef('http://dbkwik.webdatacommons.org/marvelcinematicuniverse.wikia.com/resource/Thor')}, {'p': rdflib.term.URIRef('http://dbkwik.webdatacommons.org/marvelcinematicuniverse.wikia.com/property/passengers'), 's': rdflib.term.URIRef('http://dbkwik.webdatacommons.org/marvelcinematicuniverse.wikia.com/resource/Helicarrier')}, {'p': rdflib.term.URIRef('http://dbkwik.webdatacommons.org/marvelcinematicuniverse.wikia.com/property/owner'), 's': rdflib.term.URIRef('http://dbkwik.webdatacommons.org/marvelcinematicuniverse.wikia.com/resource/Quinjet')}, {'p': rdflib.term.URIRef('http://dbkwik.webdatacommons.org/ontology/wikiPageDisambiguates'), 's': rdflib.term.URIRef('http://dbkwik.webdatacommons.org/marvelcinematicuniverse.wikia.com/resource/Avengers_(disambiguation)')}], 'http://dbkwik.webdatacommons.org/marvel.wikia.com/resource/Marvel%27s_The_Avengers', [{'p': rdflib.term.URIRef('http://dbkwik.webdatacommons.org/marvel.wikia.com/property/box7Text'), 's': rdflib.term.URIRef('http://dbkwik.webdatacommons.org/marvel.wikia.com/resource/Marvel_films')}, {'p': rdflib.term.URIRef('http://dbkwik.webdatacommons.org/marvel.wikia.com/property/newHeader'), 's': rdflib.term.URIRef('http://dbkwik.webdatacommons.org/marvel.wikia.com/resource/Marvel')}, {'p': rdflib.term.URIRef('http://dbkwik.webdatacommons.org/ontology/wikiPageDisambiguates'), 's': rdflib.term.URIRef('http://dbkwik.webdatacommons.org/marvel.wikia.com/resource/Marvel')}], 0.5695182627363022)\n"
     ]
    },
    {
     "name": "stdout",
     "output_type": "stream",
     "text": [
      "('http://dbkwik.webdatacommons.org/marvelcinematicuniverse.wikia.com/resource/Avengers', [{'p': rdflib.term.URIRef('http://dbkwik.webdatacommons.org/marvelcinematicuniverse.wikia.com/property/alias'), 's': rdflib.term.URIRef('http://dbkwik.webdatacommons.org/marvelcinematicuniverse.wikia.com/resource/Spider-Man')}, {'p': rdflib.term.URIRef('http://dbkwik.webdatacommons.org/marvelcinematicuniverse.wikia.com/property/alias'), 's': rdflib.term.URIRef('http://dbkwik.webdatacommons.org/marvelcinematicuniverse.wikia.com/resource/Hulk')}, {'p': rdflib.term.URIRef('http://dbkwik.webdatacommons.org/marvelcinematicuniverse.wikia.com/property/alias'), 's': rdflib.term.URIRef('http://dbkwik.webdatacommons.org/marvelcinematicuniverse.wikia.com/resource/Thor')}, {'p': rdflib.term.URIRef('http://dbkwik.webdatacommons.org/marvelcinematicuniverse.wikia.com/property/passengers'), 's': rdflib.term.URIRef('http://dbkwik.webdatacommons.org/marvelcinematicuniverse.wikia.com/resource/Helicarrier')}, {'p': rdflib.term.URIRef('http://dbkwik.webdatacommons.org/marvelcinematicuniverse.wikia.com/property/owner'), 's': rdflib.term.URIRef('http://dbkwik.webdatacommons.org/marvelcinematicuniverse.wikia.com/resource/Quinjet')}, {'p': rdflib.term.URIRef('http://dbkwik.webdatacommons.org/ontology/wikiPageDisambiguates'), 's': rdflib.term.URIRef('http://dbkwik.webdatacommons.org/marvelcinematicuniverse.wikia.com/resource/Avengers_(disambiguation)')}], 'http://dbkwik.webdatacommons.org/marvel.wikia.com/resource/Avengers_Empire_(Earth-14161)', [{'p': rdflib.term.URIRef('http://dbkwik.webdatacommons.org/marvel.wikia.com/property/newHeader'), 's': rdflib.term.URIRef('http://dbkwik.webdatacommons.org/marvel.wikia.com/resource/Avengers_Empire')}, {'p': rdflib.term.URIRef('http://dbkwik.webdatacommons.org/ontology/wikiPageDisambiguates'), 's': rdflib.term.URIRef('http://dbkwik.webdatacommons.org/marvel.wikia.com/resource/Avengers_Empire')}], 0.39976475339522366)\n",
      "('http://dbkwik.webdatacommons.org/marvelcinematicuniverse.wikia.com/resource/Avengers', [{'p': rdflib.term.URIRef('http://dbkwik.webdatacommons.org/marvelcinematicuniverse.wikia.com/property/alias'), 's': rdflib.term.URIRef('http://dbkwik.webdatacommons.org/marvelcinematicuniverse.wikia.com/resource/Spider-Man')}, {'p': rdflib.term.URIRef('http://dbkwik.webdatacommons.org/marvelcinematicuniverse.wikia.com/property/alias'), 's': rdflib.term.URIRef('http://dbkwik.webdatacommons.org/marvelcinematicuniverse.wikia.com/resource/Hulk')}, {'p': rdflib.term.URIRef('http://dbkwik.webdatacommons.org/marvelcinematicuniverse.wikia.com/property/alias'), 's': rdflib.term.URIRef('http://dbkwik.webdatacommons.org/marvelcinematicuniverse.wikia.com/resource/Thor')}, {'p': rdflib.term.URIRef('http://dbkwik.webdatacommons.org/marvelcinematicuniverse.wikia.com/property/passengers'), 's': rdflib.term.URIRef('http://dbkwik.webdatacommons.org/marvelcinematicuniverse.wikia.com/resource/Helicarrier')}, {'p': rdflib.term.URIRef('http://dbkwik.webdatacommons.org/marvelcinematicuniverse.wikia.com/property/owner'), 's': rdflib.term.URIRef('http://dbkwik.webdatacommons.org/marvelcinematicuniverse.wikia.com/resource/Quinjet')}, {'p': rdflib.term.URIRef('http://dbkwik.webdatacommons.org/ontology/wikiPageDisambiguates'), 's': rdflib.term.URIRef('http://dbkwik.webdatacommons.org/marvelcinematicuniverse.wikia.com/resource/Avengers_(disambiguation)')}], 'http://dbkwik.webdatacommons.org/marvel.wikia.com/resource/Avengers_Unity_Division_(Earth-616)', [{'p': rdflib.term.URIRef('http://dbkwik.webdatacommons.org/ontology/wikiPageDisambiguates'), 's': rdflib.term.URIRef('http://dbkwik.webdatacommons.org/marvel.wikia.com/resource/Avengers_Unity_Division')}, {'p': rdflib.term.URIRef('http://dbkwik.webdatacommons.org/marvel.wikia.com/property/mainCharacter'), 's': rdflib.term.URIRef('http://dbkwik.webdatacommons.org/marvel.wikia.com/resource/Avengers_Unity_Division')}], 0.7645135717255099)\n",
      "('http://dbkwik.webdatacommons.org/marvelcinematicuniverse.wikia.com/resource/Avengers', [{'p': rdflib.term.URIRef('http://dbkwik.webdatacommons.org/marvelcinematicuniverse.wikia.com/property/alias'), 's': rdflib.term.URIRef('http://dbkwik.webdatacommons.org/marvelcinematicuniverse.wikia.com/resource/Spider-Man')}, {'p': rdflib.term.URIRef('http://dbkwik.webdatacommons.org/marvelcinematicuniverse.wikia.com/property/alias'), 's': rdflib.term.URIRef('http://dbkwik.webdatacommons.org/marvelcinematicuniverse.wikia.com/resource/Hulk')}, {'p': rdflib.term.URIRef('http://dbkwik.webdatacommons.org/marvelcinematicuniverse.wikia.com/property/alias'), 's': rdflib.term.URIRef('http://dbkwik.webdatacommons.org/marvelcinematicuniverse.wikia.com/resource/Thor')}, {'p': rdflib.term.URIRef('http://dbkwik.webdatacommons.org/marvelcinematicuniverse.wikia.com/property/passengers'), 's': rdflib.term.URIRef('http://dbkwik.webdatacommons.org/marvelcinematicuniverse.wikia.com/resource/Helicarrier')}, {'p': rdflib.term.URIRef('http://dbkwik.webdatacommons.org/marvelcinematicuniverse.wikia.com/property/owner'), 's': rdflib.term.URIRef('http://dbkwik.webdatacommons.org/marvelcinematicuniverse.wikia.com/resource/Quinjet')}, {'p': rdflib.term.URIRef('http://dbkwik.webdatacommons.org/ontology/wikiPageDisambiguates'), 's': rdflib.term.URIRef('http://dbkwik.webdatacommons.org/marvelcinematicuniverse.wikia.com/resource/Avengers_(disambiguation)')}], 'http://dbkwik.webdatacommons.org/marvel.wikia.com/resource/Avengers_(Earth-8909)', [], 0.39976475339522366)\n",
      "('http://dbkwik.webdatacommons.org/marvelcinematicuniverse.wikia.com/resource/Avengers', [{'p': rdflib.term.URIRef('http://dbkwik.webdatacommons.org/marvelcinematicuniverse.wikia.com/property/alias'), 's': rdflib.term.URIRef('http://dbkwik.webdatacommons.org/marvelcinematicuniverse.wikia.com/resource/Spider-Man')}, {'p': rdflib.term.URIRef('http://dbkwik.webdatacommons.org/marvelcinematicuniverse.wikia.com/property/alias'), 's': rdflib.term.URIRef('http://dbkwik.webdatacommons.org/marvelcinematicuniverse.wikia.com/resource/Hulk')}, {'p': rdflib.term.URIRef('http://dbkwik.webdatacommons.org/marvelcinematicuniverse.wikia.com/property/alias'), 's': rdflib.term.URIRef('http://dbkwik.webdatacommons.org/marvelcinematicuniverse.wikia.com/resource/Thor')}, {'p': rdflib.term.URIRef('http://dbkwik.webdatacommons.org/marvelcinematicuniverse.wikia.com/property/passengers'), 's': rdflib.term.URIRef('http://dbkwik.webdatacommons.org/marvelcinematicuniverse.wikia.com/resource/Helicarrier')}, {'p': rdflib.term.URIRef('http://dbkwik.webdatacommons.org/marvelcinematicuniverse.wikia.com/property/owner'), 's': rdflib.term.URIRef('http://dbkwik.webdatacommons.org/marvelcinematicuniverse.wikia.com/resource/Quinjet')}, {'p': rdflib.term.URIRef('http://dbkwik.webdatacommons.org/ontology/wikiPageDisambiguates'), 's': rdflib.term.URIRef('http://dbkwik.webdatacommons.org/marvelcinematicuniverse.wikia.com/resource/Avengers_(disambiguation)')}], 'http://dbkwik.webdatacommons.org/marvel.wikia.com/resource/Avengers_(Earth-2149)', [], 0.48643483387772024)\n",
      "('http://dbkwik.webdatacommons.org/marvelcinematicuniverse.wikia.com/resource/Avengers', [{'p': rdflib.term.URIRef('http://dbkwik.webdatacommons.org/marvelcinematicuniverse.wikia.com/property/alias'), 's': rdflib.term.URIRef('http://dbkwik.webdatacommons.org/marvelcinematicuniverse.wikia.com/resource/Spider-Man')}, {'p': rdflib.term.URIRef('http://dbkwik.webdatacommons.org/marvelcinematicuniverse.wikia.com/property/alias'), 's': rdflib.term.URIRef('http://dbkwik.webdatacommons.org/marvelcinematicuniverse.wikia.com/resource/Hulk')}, {'p': rdflib.term.URIRef('http://dbkwik.webdatacommons.org/marvelcinematicuniverse.wikia.com/property/alias'), 's': rdflib.term.URIRef('http://dbkwik.webdatacommons.org/marvelcinematicuniverse.wikia.com/resource/Thor')}, {'p': rdflib.term.URIRef('http://dbkwik.webdatacommons.org/marvelcinematicuniverse.wikia.com/property/passengers'), 's': rdflib.term.URIRef('http://dbkwik.webdatacommons.org/marvelcinematicuniverse.wikia.com/resource/Helicarrier')}, {'p': rdflib.term.URIRef('http://dbkwik.webdatacommons.org/marvelcinematicuniverse.wikia.com/property/owner'), 's': rdflib.term.URIRef('http://dbkwik.webdatacommons.org/marvelcinematicuniverse.wikia.com/resource/Quinjet')}, {'p': rdflib.term.URIRef('http://dbkwik.webdatacommons.org/ontology/wikiPageDisambiguates'), 's': rdflib.term.URIRef('http://dbkwik.webdatacommons.org/marvelcinematicuniverse.wikia.com/resource/Avengers_(disambiguation)')}], 'http://dbkwik.webdatacommons.org/marvel.wikia.com/resource/Dark_Avengers_(Earth-616)', [{'p': rdflib.term.URIRef('http://dbkwik.webdatacommons.org/marvel.wikia.com/property/others'), 's': rdflib.term.URIRef('http://dbkwik.webdatacommons.org/marvel.wikia.com/resource/New_Avengers')}, {'p': rdflib.term.URIRef('http://dbkwik.webdatacommons.org/ontology/wikiPageDisambiguates'), 's': rdflib.term.URIRef('http://dbkwik.webdatacommons.org/marvel.wikia.com/resource/Dark_Avengers')}, {'p': rdflib.term.URIRef('http://dbkwik.webdatacommons.org/marvel.wikia.com/property/mainCharacter'), 's': rdflib.term.URIRef('http://dbkwik.webdatacommons.org/marvel.wikia.com/resource/Dark_Avengers')}, {'p': rdflib.term.URIRef('http://dbkwik.webdatacommons.org/marvel.wikia.com/property/others'), 's': rdflib.term.URIRef('http://dbkwik.webdatacommons.org/marvel.wikia.com/resource/Thunderbolts')}], 0.624038227545118)\n"
     ]
    },
    {
     "name": "stdout",
     "output_type": "stream",
     "text": [
      "('http://dbkwik.webdatacommons.org/marvelcinematicuniverse.wikia.com/resource/Avengers', [{'p': rdflib.term.URIRef('http://dbkwik.webdatacommons.org/marvelcinematicuniverse.wikia.com/property/alias'), 's': rdflib.term.URIRef('http://dbkwik.webdatacommons.org/marvelcinematicuniverse.wikia.com/resource/Spider-Man')}, {'p': rdflib.term.URIRef('http://dbkwik.webdatacommons.org/marvelcinematicuniverse.wikia.com/property/alias'), 's': rdflib.term.URIRef('http://dbkwik.webdatacommons.org/marvelcinematicuniverse.wikia.com/resource/Hulk')}, {'p': rdflib.term.URIRef('http://dbkwik.webdatacommons.org/marvelcinematicuniverse.wikia.com/property/alias'), 's': rdflib.term.URIRef('http://dbkwik.webdatacommons.org/marvelcinematicuniverse.wikia.com/resource/Thor')}, {'p': rdflib.term.URIRef('http://dbkwik.webdatacommons.org/marvelcinematicuniverse.wikia.com/property/passengers'), 's': rdflib.term.URIRef('http://dbkwik.webdatacommons.org/marvelcinematicuniverse.wikia.com/resource/Helicarrier')}, {'p': rdflib.term.URIRef('http://dbkwik.webdatacommons.org/marvelcinematicuniverse.wikia.com/property/owner'), 's': rdflib.term.URIRef('http://dbkwik.webdatacommons.org/marvelcinematicuniverse.wikia.com/resource/Quinjet')}, {'p': rdflib.term.URIRef('http://dbkwik.webdatacommons.org/ontology/wikiPageDisambiguates'), 's': rdflib.term.URIRef('http://dbkwik.webdatacommons.org/marvelcinematicuniverse.wikia.com/resource/Avengers_(disambiguation)')}], 'http://dbkwik.webdatacommons.org/marvel.wikia.com/resource/Avengers_(Earth-907)', [], 0.39976475339522366)\n",
      "('http://dbkwik.webdatacommons.org/marvelcinematicuniverse.wikia.com/resource/Avengers', [{'p': rdflib.term.URIRef('http://dbkwik.webdatacommons.org/marvelcinematicuniverse.wikia.com/property/alias'), 's': rdflib.term.URIRef('http://dbkwik.webdatacommons.org/marvelcinematicuniverse.wikia.com/resource/Spider-Man')}, {'p': rdflib.term.URIRef('http://dbkwik.webdatacommons.org/marvelcinematicuniverse.wikia.com/property/alias'), 's': rdflib.term.URIRef('http://dbkwik.webdatacommons.org/marvelcinematicuniverse.wikia.com/resource/Hulk')}, {'p': rdflib.term.URIRef('http://dbkwik.webdatacommons.org/marvelcinematicuniverse.wikia.com/property/alias'), 's': rdflib.term.URIRef('http://dbkwik.webdatacommons.org/marvelcinematicuniverse.wikia.com/resource/Thor')}, {'p': rdflib.term.URIRef('http://dbkwik.webdatacommons.org/marvelcinematicuniverse.wikia.com/property/passengers'), 's': rdflib.term.URIRef('http://dbkwik.webdatacommons.org/marvelcinematicuniverse.wikia.com/resource/Helicarrier')}, {'p': rdflib.term.URIRef('http://dbkwik.webdatacommons.org/marvelcinematicuniverse.wikia.com/property/owner'), 's': rdflib.term.URIRef('http://dbkwik.webdatacommons.org/marvelcinematicuniverse.wikia.com/resource/Quinjet')}, {'p': rdflib.term.URIRef('http://dbkwik.webdatacommons.org/ontology/wikiPageDisambiguates'), 's': rdflib.term.URIRef('http://dbkwik.webdatacommons.org/marvelcinematicuniverse.wikia.com/resource/Avengers_(disambiguation)')}], 'http://dbkwik.webdatacommons.org/marvel.wikia.com/resource/New_Avengers_(Earth-616)', [{'p': rdflib.term.URIRef('http://dbkwik.webdatacommons.org/ontology/wikiPageDisambiguates'), 's': rdflib.term.URIRef('http://dbkwik.webdatacommons.org/marvel.wikia.com/resource/New_Avengers')}, {'p': rdflib.term.URIRef('http://dbkwik.webdatacommons.org/marvel.wikia.com/property/mainCharacter'), 's': rdflib.term.URIRef('http://dbkwik.webdatacommons.org/marvel.wikia.com/resource/New_Avengers')}], 0.6783246715040845)\n",
      "('http://dbkwik.webdatacommons.org/marvelcinematicuniverse.wikia.com/resource/Avengers', [{'p': rdflib.term.URIRef('http://dbkwik.webdatacommons.org/marvelcinematicuniverse.wikia.com/property/alias'), 's': rdflib.term.URIRef('http://dbkwik.webdatacommons.org/marvelcinematicuniverse.wikia.com/resource/Spider-Man')}, {'p': rdflib.term.URIRef('http://dbkwik.webdatacommons.org/marvelcinematicuniverse.wikia.com/property/alias'), 's': rdflib.term.URIRef('http://dbkwik.webdatacommons.org/marvelcinematicuniverse.wikia.com/resource/Hulk')}, {'p': rdflib.term.URIRef('http://dbkwik.webdatacommons.org/marvelcinematicuniverse.wikia.com/property/alias'), 's': rdflib.term.URIRef('http://dbkwik.webdatacommons.org/marvelcinematicuniverse.wikia.com/resource/Thor')}, {'p': rdflib.term.URIRef('http://dbkwik.webdatacommons.org/marvelcinematicuniverse.wikia.com/property/passengers'), 's': rdflib.term.URIRef('http://dbkwik.webdatacommons.org/marvelcinematicuniverse.wikia.com/resource/Helicarrier')}, {'p': rdflib.term.URIRef('http://dbkwik.webdatacommons.org/marvelcinematicuniverse.wikia.com/property/owner'), 's': rdflib.term.URIRef('http://dbkwik.webdatacommons.org/marvelcinematicuniverse.wikia.com/resource/Quinjet')}, {'p': rdflib.term.URIRef('http://dbkwik.webdatacommons.org/ontology/wikiPageDisambiguates'), 's': rdflib.term.URIRef('http://dbkwik.webdatacommons.org/marvelcinematicuniverse.wikia.com/resource/Avengers_(disambiguation)')}], 'http://dbkwik.webdatacommons.org/marvel.wikia.com/resource/Avengers_(Earth-97161)', [], 0.5605903163033179)\n",
      "('http://dbkwik.webdatacommons.org/marvelcinematicuniverse.wikia.com/resource/Avengers', [{'p': rdflib.term.URIRef('http://dbkwik.webdatacommons.org/marvelcinematicuniverse.wikia.com/property/alias'), 's': rdflib.term.URIRef('http://dbkwik.webdatacommons.org/marvelcinematicuniverse.wikia.com/resource/Spider-Man')}, {'p': rdflib.term.URIRef('http://dbkwik.webdatacommons.org/marvelcinematicuniverse.wikia.com/property/alias'), 's': rdflib.term.URIRef('http://dbkwik.webdatacommons.org/marvelcinematicuniverse.wikia.com/resource/Hulk')}, {'p': rdflib.term.URIRef('http://dbkwik.webdatacommons.org/marvelcinematicuniverse.wikia.com/property/alias'), 's': rdflib.term.URIRef('http://dbkwik.webdatacommons.org/marvelcinematicuniverse.wikia.com/resource/Thor')}, {'p': rdflib.term.URIRef('http://dbkwik.webdatacommons.org/marvelcinematicuniverse.wikia.com/property/passengers'), 's': rdflib.term.URIRef('http://dbkwik.webdatacommons.org/marvelcinematicuniverse.wikia.com/resource/Helicarrier')}, {'p': rdflib.term.URIRef('http://dbkwik.webdatacommons.org/marvelcinematicuniverse.wikia.com/property/owner'), 's': rdflib.term.URIRef('http://dbkwik.webdatacommons.org/marvelcinematicuniverse.wikia.com/resource/Quinjet')}, {'p': rdflib.term.URIRef('http://dbkwik.webdatacommons.org/ontology/wikiPageDisambiguates'), 's': rdflib.term.URIRef('http://dbkwik.webdatacommons.org/marvelcinematicuniverse.wikia.com/resource/Avengers_(disambiguation)')}], 'http://dbkwik.webdatacommons.org/marvel.wikia.com/resource/Avengers_(Earth-11051)', [], 0.39976475339522366)\n",
      "('http://dbkwik.webdatacommons.org/marvelcinematicuniverse.wikia.com/resource/Avengers', [{'p': rdflib.term.URIRef('http://dbkwik.webdatacommons.org/marvelcinematicuniverse.wikia.com/property/alias'), 's': rdflib.term.URIRef('http://dbkwik.webdatacommons.org/marvelcinematicuniverse.wikia.com/resource/Spider-Man')}, {'p': rdflib.term.URIRef('http://dbkwik.webdatacommons.org/marvelcinematicuniverse.wikia.com/property/alias'), 's': rdflib.term.URIRef('http://dbkwik.webdatacommons.org/marvelcinematicuniverse.wikia.com/resource/Hulk')}, {'p': rdflib.term.URIRef('http://dbkwik.webdatacommons.org/marvelcinematicuniverse.wikia.com/property/alias'), 's': rdflib.term.URIRef('http://dbkwik.webdatacommons.org/marvelcinematicuniverse.wikia.com/resource/Thor')}, {'p': rdflib.term.URIRef('http://dbkwik.webdatacommons.org/marvelcinematicuniverse.wikia.com/property/passengers'), 's': rdflib.term.URIRef('http://dbkwik.webdatacommons.org/marvelcinematicuniverse.wikia.com/resource/Helicarrier')}, {'p': rdflib.term.URIRef('http://dbkwik.webdatacommons.org/marvelcinematicuniverse.wikia.com/property/owner'), 's': rdflib.term.URIRef('http://dbkwik.webdatacommons.org/marvelcinematicuniverse.wikia.com/resource/Quinjet')}, {'p': rdflib.term.URIRef('http://dbkwik.webdatacommons.org/ontology/wikiPageDisambiguates'), 's': rdflib.term.URIRef('http://dbkwik.webdatacommons.org/marvelcinematicuniverse.wikia.com/resource/Avengers_(disambiguation)')}], 'http://dbkwik.webdatacommons.org/marvel.wikia.com/resource/Avengers_Academy_(Earth-TRN562)', [{'p': rdflib.term.URIRef('http://dbkwik.webdatacommons.org/marvel.wikia.com/property/others'), 's': rdflib.term.URIRef('http://dbkwik.webdatacommons.org/marvel.wikia.com/resource/S.H.I.E.L.D.')}, {'p': rdflib.term.URIRef('http://dbkwik.webdatacommons.org/marvel.wikia.com/property/videoGames'), 's': rdflib.term.URIRef('http://dbkwik.webdatacommons.org/marvel.wikia.com/resource/Avengers_Academy')}, {'p': rdflib.term.URIRef('http://dbkwik.webdatacommons.org/ontology/wikiPageDisambiguates'), 's': rdflib.term.URIRef('http://dbkwik.webdatacommons.org/marvel.wikia.com/resource/Avengers_Academy')}], 0.624038227545118)\n"
     ]
    },
    {
     "name": "stdout",
     "output_type": "stream",
     "text": [
      "('http://dbkwik.webdatacommons.org/marvelcinematicuniverse.wikia.com/resource/Avengers', [{'p': rdflib.term.URIRef('http://dbkwik.webdatacommons.org/marvelcinematicuniverse.wikia.com/property/alias'), 's': rdflib.term.URIRef('http://dbkwik.webdatacommons.org/marvelcinematicuniverse.wikia.com/resource/Spider-Man')}, {'p': rdflib.term.URIRef('http://dbkwik.webdatacommons.org/marvelcinematicuniverse.wikia.com/property/alias'), 's': rdflib.term.URIRef('http://dbkwik.webdatacommons.org/marvelcinematicuniverse.wikia.com/resource/Hulk')}, {'p': rdflib.term.URIRef('http://dbkwik.webdatacommons.org/marvelcinematicuniverse.wikia.com/property/alias'), 's': rdflib.term.URIRef('http://dbkwik.webdatacommons.org/marvelcinematicuniverse.wikia.com/resource/Thor')}, {'p': rdflib.term.URIRef('http://dbkwik.webdatacommons.org/marvelcinematicuniverse.wikia.com/property/passengers'), 's': rdflib.term.URIRef('http://dbkwik.webdatacommons.org/marvelcinematicuniverse.wikia.com/resource/Helicarrier')}, {'p': rdflib.term.URIRef('http://dbkwik.webdatacommons.org/marvelcinematicuniverse.wikia.com/property/owner'), 's': rdflib.term.URIRef('http://dbkwik.webdatacommons.org/marvelcinematicuniverse.wikia.com/resource/Quinjet')}, {'p': rdflib.term.URIRef('http://dbkwik.webdatacommons.org/ontology/wikiPageDisambiguates'), 's': rdflib.term.URIRef('http://dbkwik.webdatacommons.org/marvelcinematicuniverse.wikia.com/resource/Avengers_(disambiguation)')}], 'http://dbkwik.webdatacommons.org/marvel.wikia.com/resource/Avengers_(Earth-9796)', [], 0.39976475339522366)\n",
      "('http://dbkwik.webdatacommons.org/marvelcinematicuniverse.wikia.com/resource/Avengers', [{'p': rdflib.term.URIRef('http://dbkwik.webdatacommons.org/marvelcinematicuniverse.wikia.com/property/alias'), 's': rdflib.term.URIRef('http://dbkwik.webdatacommons.org/marvelcinematicuniverse.wikia.com/resource/Spider-Man')}, {'p': rdflib.term.URIRef('http://dbkwik.webdatacommons.org/marvelcinematicuniverse.wikia.com/property/alias'), 's': rdflib.term.URIRef('http://dbkwik.webdatacommons.org/marvelcinematicuniverse.wikia.com/resource/Hulk')}, {'p': rdflib.term.URIRef('http://dbkwik.webdatacommons.org/marvelcinematicuniverse.wikia.com/property/alias'), 's': rdflib.term.URIRef('http://dbkwik.webdatacommons.org/marvelcinematicuniverse.wikia.com/resource/Thor')}, {'p': rdflib.term.URIRef('http://dbkwik.webdatacommons.org/marvelcinematicuniverse.wikia.com/property/passengers'), 's': rdflib.term.URIRef('http://dbkwik.webdatacommons.org/marvelcinematicuniverse.wikia.com/resource/Helicarrier')}, {'p': rdflib.term.URIRef('http://dbkwik.webdatacommons.org/marvelcinematicuniverse.wikia.com/property/owner'), 's': rdflib.term.URIRef('http://dbkwik.webdatacommons.org/marvelcinematicuniverse.wikia.com/resource/Quinjet')}, {'p': rdflib.term.URIRef('http://dbkwik.webdatacommons.org/ontology/wikiPageDisambiguates'), 's': rdflib.term.URIRef('http://dbkwik.webdatacommons.org/marvelcinematicuniverse.wikia.com/resource/Avengers_(disambiguation)')}], 'http://dbkwik.webdatacommons.org/marvel.wikia.com/resource/Avengers_(Earth-90659)', [], 0.39976475339522366)\n",
      "('http://dbkwik.webdatacommons.org/marvelcinematicuniverse.wikia.com/resource/Avengers', [{'p': rdflib.term.URIRef('http://dbkwik.webdatacommons.org/marvelcinematicuniverse.wikia.com/property/alias'), 's': rdflib.term.URIRef('http://dbkwik.webdatacommons.org/marvelcinematicuniverse.wikia.com/resource/Spider-Man')}, {'p': rdflib.term.URIRef('http://dbkwik.webdatacommons.org/marvelcinematicuniverse.wikia.com/property/alias'), 's': rdflib.term.URIRef('http://dbkwik.webdatacommons.org/marvelcinematicuniverse.wikia.com/resource/Hulk')}, {'p': rdflib.term.URIRef('http://dbkwik.webdatacommons.org/marvelcinematicuniverse.wikia.com/property/alias'), 's': rdflib.term.URIRef('http://dbkwik.webdatacommons.org/marvelcinematicuniverse.wikia.com/resource/Thor')}, {'p': rdflib.term.URIRef('http://dbkwik.webdatacommons.org/marvelcinematicuniverse.wikia.com/property/passengers'), 's': rdflib.term.URIRef('http://dbkwik.webdatacommons.org/marvelcinematicuniverse.wikia.com/resource/Helicarrier')}, {'p': rdflib.term.URIRef('http://dbkwik.webdatacommons.org/marvelcinematicuniverse.wikia.com/property/owner'), 's': rdflib.term.URIRef('http://dbkwik.webdatacommons.org/marvelcinematicuniverse.wikia.com/resource/Quinjet')}, {'p': rdflib.term.URIRef('http://dbkwik.webdatacommons.org/ontology/wikiPageDisambiguates'), 's': rdflib.term.URIRef('http://dbkwik.webdatacommons.org/marvelcinematicuniverse.wikia.com/resource/Avengers_(disambiguation)')}], 'http://dbkwik.webdatacommons.org/marvel.wikia.com/resource/Avengers_(Earth-1611)', [], 0.39976475339522366)\n",
      "('http://dbkwik.webdatacommons.org/marvelcinematicuniverse.wikia.com/resource/Avengers', [{'p': rdflib.term.URIRef('http://dbkwik.webdatacommons.org/marvelcinematicuniverse.wikia.com/property/alias'), 's': rdflib.term.URIRef('http://dbkwik.webdatacommons.org/marvelcinematicuniverse.wikia.com/resource/Spider-Man')}, {'p': rdflib.term.URIRef('http://dbkwik.webdatacommons.org/marvelcinematicuniverse.wikia.com/property/alias'), 's': rdflib.term.URIRef('http://dbkwik.webdatacommons.org/marvelcinematicuniverse.wikia.com/resource/Hulk')}, {'p': rdflib.term.URIRef('http://dbkwik.webdatacommons.org/marvelcinematicuniverse.wikia.com/property/alias'), 's': rdflib.term.URIRef('http://dbkwik.webdatacommons.org/marvelcinematicuniverse.wikia.com/resource/Thor')}, {'p': rdflib.term.URIRef('http://dbkwik.webdatacommons.org/marvelcinematicuniverse.wikia.com/property/passengers'), 's': rdflib.term.URIRef('http://dbkwik.webdatacommons.org/marvelcinematicuniverse.wikia.com/resource/Helicarrier')}, {'p': rdflib.term.URIRef('http://dbkwik.webdatacommons.org/marvelcinematicuniverse.wikia.com/property/owner'), 's': rdflib.term.URIRef('http://dbkwik.webdatacommons.org/marvelcinematicuniverse.wikia.com/resource/Quinjet')}, {'p': rdflib.term.URIRef('http://dbkwik.webdatacommons.org/ontology/wikiPageDisambiguates'), 's': rdflib.term.URIRef('http://dbkwik.webdatacommons.org/marvelcinematicuniverse.wikia.com/resource/Avengers_(disambiguation)')}], 'http://dbkwik.webdatacommons.org/marvel.wikia.com/resource/Avengers_(Earth-312500)', [], 0.39976475339522366)\n",
      "('http://dbkwik.webdatacommons.org/marvelcinematicuniverse.wikia.com/resource/Avengers', [{'p': rdflib.term.URIRef('http://dbkwik.webdatacommons.org/marvelcinematicuniverse.wikia.com/property/alias'), 's': rdflib.term.URIRef('http://dbkwik.webdatacommons.org/marvelcinematicuniverse.wikia.com/resource/Spider-Man')}, {'p': rdflib.term.URIRef('http://dbkwik.webdatacommons.org/marvelcinematicuniverse.wikia.com/property/alias'), 's': rdflib.term.URIRef('http://dbkwik.webdatacommons.org/marvelcinematicuniverse.wikia.com/resource/Hulk')}, {'p': rdflib.term.URIRef('http://dbkwik.webdatacommons.org/marvelcinematicuniverse.wikia.com/property/alias'), 's': rdflib.term.URIRef('http://dbkwik.webdatacommons.org/marvelcinematicuniverse.wikia.com/resource/Thor')}, {'p': rdflib.term.URIRef('http://dbkwik.webdatacommons.org/marvelcinematicuniverse.wikia.com/property/passengers'), 's': rdflib.term.URIRef('http://dbkwik.webdatacommons.org/marvelcinematicuniverse.wikia.com/resource/Helicarrier')}, {'p': rdflib.term.URIRef('http://dbkwik.webdatacommons.org/marvelcinematicuniverse.wikia.com/property/owner'), 's': rdflib.term.URIRef('http://dbkwik.webdatacommons.org/marvelcinematicuniverse.wikia.com/resource/Quinjet')}, {'p': rdflib.term.URIRef('http://dbkwik.webdatacommons.org/ontology/wikiPageDisambiguates'), 's': rdflib.term.URIRef('http://dbkwik.webdatacommons.org/marvelcinematicuniverse.wikia.com/resource/Avengers_(disambiguation)')}], 'http://dbkwik.webdatacommons.org/marvel.wikia.com/resource/Avengers_(Earth-8096)', [], 0.8446652452197339)\n",
      "('http://dbkwik.webdatacommons.org/marvelcinematicuniverse.wikia.com/resource/Avengers', [{'p': rdflib.term.URIRef('http://dbkwik.webdatacommons.org/marvelcinematicuniverse.wikia.com/property/alias'), 's': rdflib.term.URIRef('http://dbkwik.webdatacommons.org/marvelcinematicuniverse.wikia.com/resource/Spider-Man')}, {'p': rdflib.term.URIRef('http://dbkwik.webdatacommons.org/marvelcinematicuniverse.wikia.com/property/alias'), 's': rdflib.term.URIRef('http://dbkwik.webdatacommons.org/marvelcinematicuniverse.wikia.com/resource/Hulk')}, {'p': rdflib.term.URIRef('http://dbkwik.webdatacommons.org/marvelcinematicuniverse.wikia.com/property/alias'), 's': rdflib.term.URIRef('http://dbkwik.webdatacommons.org/marvelcinematicuniverse.wikia.com/resource/Thor')}, {'p': rdflib.term.URIRef('http://dbkwik.webdatacommons.org/marvelcinematicuniverse.wikia.com/property/passengers'), 's': rdflib.term.URIRef('http://dbkwik.webdatacommons.org/marvelcinematicuniverse.wikia.com/resource/Helicarrier')}, {'p': rdflib.term.URIRef('http://dbkwik.webdatacommons.org/marvelcinematicuniverse.wikia.com/property/owner'), 's': rdflib.term.URIRef('http://dbkwik.webdatacommons.org/marvelcinematicuniverse.wikia.com/resource/Quinjet')}, {'p': rdflib.term.URIRef('http://dbkwik.webdatacommons.org/ontology/wikiPageDisambiguates'), 's': rdflib.term.URIRef('http://dbkwik.webdatacommons.org/marvelcinematicuniverse.wikia.com/resource/Avengers_(disambiguation)')}], 'http://dbkwik.webdatacommons.org/marvel.wikia.com/resource/Avengers_(Earth-91126)', [], 0.39976475339522366)\n"
     ]
    },
    {
     "name": "stdout",
     "output_type": "stream",
     "text": [
      "('http://dbkwik.webdatacommons.org/marvelcinematicuniverse.wikia.com/resource/Avengers', [{'p': rdflib.term.URIRef('http://dbkwik.webdatacommons.org/marvelcinematicuniverse.wikia.com/property/alias'), 's': rdflib.term.URIRef('http://dbkwik.webdatacommons.org/marvelcinematicuniverse.wikia.com/resource/Spider-Man')}, {'p': rdflib.term.URIRef('http://dbkwik.webdatacommons.org/marvelcinematicuniverse.wikia.com/property/alias'), 's': rdflib.term.URIRef('http://dbkwik.webdatacommons.org/marvelcinematicuniverse.wikia.com/resource/Hulk')}, {'p': rdflib.term.URIRef('http://dbkwik.webdatacommons.org/marvelcinematicuniverse.wikia.com/property/alias'), 's': rdflib.term.URIRef('http://dbkwik.webdatacommons.org/marvelcinematicuniverse.wikia.com/resource/Thor')}, {'p': rdflib.term.URIRef('http://dbkwik.webdatacommons.org/marvelcinematicuniverse.wikia.com/property/passengers'), 's': rdflib.term.URIRef('http://dbkwik.webdatacommons.org/marvelcinematicuniverse.wikia.com/resource/Helicarrier')}, {'p': rdflib.term.URIRef('http://dbkwik.webdatacommons.org/marvelcinematicuniverse.wikia.com/property/owner'), 's': rdflib.term.URIRef('http://dbkwik.webdatacommons.org/marvelcinematicuniverse.wikia.com/resource/Quinjet')}, {'p': rdflib.term.URIRef('http://dbkwik.webdatacommons.org/ontology/wikiPageDisambiguates'), 's': rdflib.term.URIRef('http://dbkwik.webdatacommons.org/marvelcinematicuniverse.wikia.com/resource/Avengers_(disambiguation)')}], 'http://dbkwik.webdatacommons.org/marvel.wikia.com/resource/Secret_Avengers_(Black_Ops_Unit)_(Earth-616)', [{'p': rdflib.term.URIRef('http://dbkwik.webdatacommons.org/marvel.wikia.com/property/mainCharacter'), 's': rdflib.term.URIRef('http://dbkwik.webdatacommons.org/marvel.wikia.com/resource/Secret_Avengers_(Black_Ops_Unit)')}, {'p': rdflib.term.URIRef('http://dbkwik.webdatacommons.org/ontology/wikiPageDisambiguates'), 's': rdflib.term.URIRef('http://dbkwik.webdatacommons.org/marvel.wikia.com/resource/Secret_Avengers_(Black_Ops_Unit)')}], 0.48643483387772024)\n",
      "('http://dbkwik.webdatacommons.org/marvelcinematicuniverse.wikia.com/resource/Avengers', [{'p': rdflib.term.URIRef('http://dbkwik.webdatacommons.org/marvelcinematicuniverse.wikia.com/property/alias'), 's': rdflib.term.URIRef('http://dbkwik.webdatacommons.org/marvelcinematicuniverse.wikia.com/resource/Spider-Man')}, {'p': rdflib.term.URIRef('http://dbkwik.webdatacommons.org/marvelcinematicuniverse.wikia.com/property/alias'), 's': rdflib.term.URIRef('http://dbkwik.webdatacommons.org/marvelcinematicuniverse.wikia.com/resource/Hulk')}, {'p': rdflib.term.URIRef('http://dbkwik.webdatacommons.org/marvelcinematicuniverse.wikia.com/property/alias'), 's': rdflib.term.URIRef('http://dbkwik.webdatacommons.org/marvelcinematicuniverse.wikia.com/resource/Thor')}, {'p': rdflib.term.URIRef('http://dbkwik.webdatacommons.org/marvelcinematicuniverse.wikia.com/property/passengers'), 's': rdflib.term.URIRef('http://dbkwik.webdatacommons.org/marvelcinematicuniverse.wikia.com/resource/Helicarrier')}, {'p': rdflib.term.URIRef('http://dbkwik.webdatacommons.org/marvelcinematicuniverse.wikia.com/property/owner'), 's': rdflib.term.URIRef('http://dbkwik.webdatacommons.org/marvelcinematicuniverse.wikia.com/resource/Quinjet')}, {'p': rdflib.term.URIRef('http://dbkwik.webdatacommons.org/ontology/wikiPageDisambiguates'), 's': rdflib.term.URIRef('http://dbkwik.webdatacommons.org/marvelcinematicuniverse.wikia.com/resource/Avengers_(disambiguation)')}], 'http://dbkwik.webdatacommons.org/marvel.wikia.com/resource/Avengers_(Earth-TRN550)', [{'p': rdflib.term.URIRef('http://dbkwik.webdatacommons.org/ontology/wikiPageDisambiguates'), 's': rdflib.term.URIRef('http://dbkwik.webdatacommons.org/marvel.wikia.com/resource/Avengers')}], 0.39976475339522366)\n",
      "('http://dbkwik.webdatacommons.org/marvelcinematicuniverse.wikia.com/resource/Avengers', [{'p': rdflib.term.URIRef('http://dbkwik.webdatacommons.org/marvelcinematicuniverse.wikia.com/property/alias'), 's': rdflib.term.URIRef('http://dbkwik.webdatacommons.org/marvelcinematicuniverse.wikia.com/resource/Spider-Man')}, {'p': rdflib.term.URIRef('http://dbkwik.webdatacommons.org/marvelcinematicuniverse.wikia.com/property/alias'), 's': rdflib.term.URIRef('http://dbkwik.webdatacommons.org/marvelcinematicuniverse.wikia.com/resource/Hulk')}, {'p': rdflib.term.URIRef('http://dbkwik.webdatacommons.org/marvelcinematicuniverse.wikia.com/property/alias'), 's': rdflib.term.URIRef('http://dbkwik.webdatacommons.org/marvelcinematicuniverse.wikia.com/resource/Thor')}, {'p': rdflib.term.URIRef('http://dbkwik.webdatacommons.org/marvelcinematicuniverse.wikia.com/property/passengers'), 's': rdflib.term.URIRef('http://dbkwik.webdatacommons.org/marvelcinematicuniverse.wikia.com/resource/Helicarrier')}, {'p': rdflib.term.URIRef('http://dbkwik.webdatacommons.org/marvelcinematicuniverse.wikia.com/property/owner'), 's': rdflib.term.URIRef('http://dbkwik.webdatacommons.org/marvelcinematicuniverse.wikia.com/resource/Quinjet')}, {'p': rdflib.term.URIRef('http://dbkwik.webdatacommons.org/ontology/wikiPageDisambiguates'), 's': rdflib.term.URIRef('http://dbkwik.webdatacommons.org/marvelcinematicuniverse.wikia.com/resource/Avengers_(disambiguation)')}], 'http://dbkwik.webdatacommons.org/marvel.wikia.com/resource/Avengers_(Earth-TRN591)', [{'p': rdflib.term.URIRef('http://dbkwik.webdatacommons.org/ontology/wikiPageDisambiguates'), 's': rdflib.term.URIRef('http://dbkwik.webdatacommons.org/marvel.wikia.com/resource/Avengers')}], 0.39976475339522366)\n",
      "('http://dbkwik.webdatacommons.org/marvelcinematicuniverse.wikia.com/resource/Avengers', [{'p': rdflib.term.URIRef('http://dbkwik.webdatacommons.org/marvelcinematicuniverse.wikia.com/property/alias'), 's': rdflib.term.URIRef('http://dbkwik.webdatacommons.org/marvelcinematicuniverse.wikia.com/resource/Spider-Man')}, {'p': rdflib.term.URIRef('http://dbkwik.webdatacommons.org/marvelcinematicuniverse.wikia.com/property/alias'), 's': rdflib.term.URIRef('http://dbkwik.webdatacommons.org/marvelcinematicuniverse.wikia.com/resource/Hulk')}, {'p': rdflib.term.URIRef('http://dbkwik.webdatacommons.org/marvelcinematicuniverse.wikia.com/property/alias'), 's': rdflib.term.URIRef('http://dbkwik.webdatacommons.org/marvelcinematicuniverse.wikia.com/resource/Thor')}, {'p': rdflib.term.URIRef('http://dbkwik.webdatacommons.org/marvelcinematicuniverse.wikia.com/property/passengers'), 's': rdflib.term.URIRef('http://dbkwik.webdatacommons.org/marvelcinematicuniverse.wikia.com/resource/Helicarrier')}, {'p': rdflib.term.URIRef('http://dbkwik.webdatacommons.org/marvelcinematicuniverse.wikia.com/property/owner'), 's': rdflib.term.URIRef('http://dbkwik.webdatacommons.org/marvelcinematicuniverse.wikia.com/resource/Quinjet')}, {'p': rdflib.term.URIRef('http://dbkwik.webdatacommons.org/ontology/wikiPageDisambiguates'), 's': rdflib.term.URIRef('http://dbkwik.webdatacommons.org/marvelcinematicuniverse.wikia.com/resource/Avengers_(disambiguation)')}], 'http://dbkwik.webdatacommons.org/marvel.wikia.com/resource/Avengers_(Earth-8545)', [], 0.5605903163033179)\n",
      "('http://dbkwik.webdatacommons.org/marvelcinematicuniverse.wikia.com/resource/Avengers', [{'p': rdflib.term.URIRef('http://dbkwik.webdatacommons.org/marvelcinematicuniverse.wikia.com/property/alias'), 's': rdflib.term.URIRef('http://dbkwik.webdatacommons.org/marvelcinematicuniverse.wikia.com/resource/Spider-Man')}, {'p': rdflib.term.URIRef('http://dbkwik.webdatacommons.org/marvelcinematicuniverse.wikia.com/property/alias'), 's': rdflib.term.URIRef('http://dbkwik.webdatacommons.org/marvelcinematicuniverse.wikia.com/resource/Hulk')}, {'p': rdflib.term.URIRef('http://dbkwik.webdatacommons.org/marvelcinematicuniverse.wikia.com/property/alias'), 's': rdflib.term.URIRef('http://dbkwik.webdatacommons.org/marvelcinematicuniverse.wikia.com/resource/Thor')}, {'p': rdflib.term.URIRef('http://dbkwik.webdatacommons.org/marvelcinematicuniverse.wikia.com/property/passengers'), 's': rdflib.term.URIRef('http://dbkwik.webdatacommons.org/marvelcinematicuniverse.wikia.com/resource/Helicarrier')}, {'p': rdflib.term.URIRef('http://dbkwik.webdatacommons.org/marvelcinematicuniverse.wikia.com/property/owner'), 's': rdflib.term.URIRef('http://dbkwik.webdatacommons.org/marvelcinematicuniverse.wikia.com/resource/Quinjet')}, {'p': rdflib.term.URIRef('http://dbkwik.webdatacommons.org/ontology/wikiPageDisambiguates'), 's': rdflib.term.URIRef('http://dbkwik.webdatacommons.org/marvelcinematicuniverse.wikia.com/resource/Avengers_(disambiguation)')}], 'http://dbkwik.webdatacommons.org/marvel.wikia.com/resource/Avengers_(Earth-20110)', [], 0.48643483387772024)\n"
     ]
    },
    {
     "name": "stdout",
     "output_type": "stream",
     "text": [
      "('http://dbkwik.webdatacommons.org/marvelcinematicuniverse.wikia.com/resource/Avengers', [{'p': rdflib.term.URIRef('http://dbkwik.webdatacommons.org/marvelcinematicuniverse.wikia.com/property/alias'), 's': rdflib.term.URIRef('http://dbkwik.webdatacommons.org/marvelcinematicuniverse.wikia.com/resource/Spider-Man')}, {'p': rdflib.term.URIRef('http://dbkwik.webdatacommons.org/marvelcinematicuniverse.wikia.com/property/alias'), 's': rdflib.term.URIRef('http://dbkwik.webdatacommons.org/marvelcinematicuniverse.wikia.com/resource/Hulk')}, {'p': rdflib.term.URIRef('http://dbkwik.webdatacommons.org/marvelcinematicuniverse.wikia.com/property/alias'), 's': rdflib.term.URIRef('http://dbkwik.webdatacommons.org/marvelcinematicuniverse.wikia.com/resource/Thor')}, {'p': rdflib.term.URIRef('http://dbkwik.webdatacommons.org/marvelcinematicuniverse.wikia.com/property/passengers'), 's': rdflib.term.URIRef('http://dbkwik.webdatacommons.org/marvelcinematicuniverse.wikia.com/resource/Helicarrier')}, {'p': rdflib.term.URIRef('http://dbkwik.webdatacommons.org/marvelcinematicuniverse.wikia.com/property/owner'), 's': rdflib.term.URIRef('http://dbkwik.webdatacommons.org/marvelcinematicuniverse.wikia.com/resource/Quinjet')}, {'p': rdflib.term.URIRef('http://dbkwik.webdatacommons.org/ontology/wikiPageDisambiguates'), 's': rdflib.term.URIRef('http://dbkwik.webdatacommons.org/marvelcinematicuniverse.wikia.com/resource/Avengers_(disambiguation)')}], 'http://dbkwik.webdatacommons.org/marvel.wikia.com/resource/Avengers_(Earth-16112)', [], 0.39976475339522366)\n",
      "('http://dbkwik.webdatacommons.org/marvelcinematicuniverse.wikia.com/resource/Avengers', [{'p': rdflib.term.URIRef('http://dbkwik.webdatacommons.org/marvelcinematicuniverse.wikia.com/property/alias'), 's': rdflib.term.URIRef('http://dbkwik.webdatacommons.org/marvelcinematicuniverse.wikia.com/resource/Spider-Man')}, {'p': rdflib.term.URIRef('http://dbkwik.webdatacommons.org/marvelcinematicuniverse.wikia.com/property/alias'), 's': rdflib.term.URIRef('http://dbkwik.webdatacommons.org/marvelcinematicuniverse.wikia.com/resource/Hulk')}, {'p': rdflib.term.URIRef('http://dbkwik.webdatacommons.org/marvelcinematicuniverse.wikia.com/property/alias'), 's': rdflib.term.URIRef('http://dbkwik.webdatacommons.org/marvelcinematicuniverse.wikia.com/resource/Thor')}, {'p': rdflib.term.URIRef('http://dbkwik.webdatacommons.org/marvelcinematicuniverse.wikia.com/property/passengers'), 's': rdflib.term.URIRef('http://dbkwik.webdatacommons.org/marvelcinematicuniverse.wikia.com/resource/Helicarrier')}, {'p': rdflib.term.URIRef('http://dbkwik.webdatacommons.org/marvelcinematicuniverse.wikia.com/property/owner'), 's': rdflib.term.URIRef('http://dbkwik.webdatacommons.org/marvelcinematicuniverse.wikia.com/resource/Quinjet')}, {'p': rdflib.term.URIRef('http://dbkwik.webdatacommons.org/ontology/wikiPageDisambiguates'), 's': rdflib.term.URIRef('http://dbkwik.webdatacommons.org/marvelcinematicuniverse.wikia.com/resource/Avengers_(disambiguation)')}], 'http://dbkwik.webdatacommons.org/marvel.wikia.com/resource/Avengers_(Earth-15061)', [], 0.39976475339522366)\n",
      "('http://dbkwik.webdatacommons.org/marvelcinematicuniverse.wikia.com/resource/Avengers', [{'p': rdflib.term.URIRef('http://dbkwik.webdatacommons.org/marvelcinematicuniverse.wikia.com/property/alias'), 's': rdflib.term.URIRef('http://dbkwik.webdatacommons.org/marvelcinematicuniverse.wikia.com/resource/Spider-Man')}, {'p': rdflib.term.URIRef('http://dbkwik.webdatacommons.org/marvelcinematicuniverse.wikia.com/property/alias'), 's': rdflib.term.URIRef('http://dbkwik.webdatacommons.org/marvelcinematicuniverse.wikia.com/resource/Hulk')}, {'p': rdflib.term.URIRef('http://dbkwik.webdatacommons.org/marvelcinematicuniverse.wikia.com/property/alias'), 's': rdflib.term.URIRef('http://dbkwik.webdatacommons.org/marvelcinematicuniverse.wikia.com/resource/Thor')}, {'p': rdflib.term.URIRef('http://dbkwik.webdatacommons.org/marvelcinematicuniverse.wikia.com/property/passengers'), 's': rdflib.term.URIRef('http://dbkwik.webdatacommons.org/marvelcinematicuniverse.wikia.com/resource/Helicarrier')}, {'p': rdflib.term.URIRef('http://dbkwik.webdatacommons.org/marvelcinematicuniverse.wikia.com/property/owner'), 's': rdflib.term.URIRef('http://dbkwik.webdatacommons.org/marvelcinematicuniverse.wikia.com/resource/Quinjet')}, {'p': rdflib.term.URIRef('http://dbkwik.webdatacommons.org/ontology/wikiPageDisambiguates'), 's': rdflib.term.URIRef('http://dbkwik.webdatacommons.org/marvelcinematicuniverse.wikia.com/resource/Avengers_(disambiguation)')}], 'http://dbkwik.webdatacommons.org/marvel.wikia.com/resource/Mighty_Avengers_(Initiative)_(Earth-616)', [{'p': rdflib.term.URIRef('http://dbkwik.webdatacommons.org/marvel.wikia.com/property/mainCharacter'), 's': rdflib.term.URIRef('http://dbkwik.webdatacommons.org/marvel.wikia.com/resource/Avengers_Initiative')}, {'p': rdflib.term.URIRef('http://dbkwik.webdatacommons.org/marvel.wikia.com/property/mainCharacter'), 's': rdflib.term.URIRef('http://dbkwik.webdatacommons.org/marvel.wikia.com/resource/Mighty_Avengers')}, {'p': rdflib.term.URIRef('http://dbkwik.webdatacommons.org/ontology/wikiPageDisambiguates'), 's': rdflib.term.URIRef('http://dbkwik.webdatacommons.org/marvel.wikia.com/resource/Mighty_Avengers')}], 0.39976475339522366)\n",
      "('http://dbkwik.webdatacommons.org/marvelcinematicuniverse.wikia.com/resource/Avengers', [{'p': rdflib.term.URIRef('http://dbkwik.webdatacommons.org/marvelcinematicuniverse.wikia.com/property/alias'), 's': rdflib.term.URIRef('http://dbkwik.webdatacommons.org/marvelcinematicuniverse.wikia.com/resource/Spider-Man')}, {'p': rdflib.term.URIRef('http://dbkwik.webdatacommons.org/marvelcinematicuniverse.wikia.com/property/alias'), 's': rdflib.term.URIRef('http://dbkwik.webdatacommons.org/marvelcinematicuniverse.wikia.com/resource/Hulk')}, {'p': rdflib.term.URIRef('http://dbkwik.webdatacommons.org/marvelcinematicuniverse.wikia.com/property/alias'), 's': rdflib.term.URIRef('http://dbkwik.webdatacommons.org/marvelcinematicuniverse.wikia.com/resource/Thor')}, {'p': rdflib.term.URIRef('http://dbkwik.webdatacommons.org/marvelcinematicuniverse.wikia.com/property/passengers'), 's': rdflib.term.URIRef('http://dbkwik.webdatacommons.org/marvelcinematicuniverse.wikia.com/resource/Helicarrier')}, {'p': rdflib.term.URIRef('http://dbkwik.webdatacommons.org/marvelcinematicuniverse.wikia.com/property/owner'), 's': rdflib.term.URIRef('http://dbkwik.webdatacommons.org/marvelcinematicuniverse.wikia.com/resource/Quinjet')}, {'p': rdflib.term.URIRef('http://dbkwik.webdatacommons.org/ontology/wikiPageDisambiguates'), 's': rdflib.term.URIRef('http://dbkwik.webdatacommons.org/marvelcinematicuniverse.wikia.com/resource/Avengers_(disambiguation)')}], 'http://dbkwik.webdatacommons.org/marvel.wikia.com/resource/Avengers_(Earth-267)', [], 0.48643483387772024)\n",
      "('http://dbkwik.webdatacommons.org/marvelcinematicuniverse.wikia.com/resource/Avengers', [{'p': rdflib.term.URIRef('http://dbkwik.webdatacommons.org/marvelcinematicuniverse.wikia.com/property/alias'), 's': rdflib.term.URIRef('http://dbkwik.webdatacommons.org/marvelcinematicuniverse.wikia.com/resource/Spider-Man')}, {'p': rdflib.term.URIRef('http://dbkwik.webdatacommons.org/marvelcinematicuniverse.wikia.com/property/alias'), 's': rdflib.term.URIRef('http://dbkwik.webdatacommons.org/marvelcinematicuniverse.wikia.com/resource/Hulk')}, {'p': rdflib.term.URIRef('http://dbkwik.webdatacommons.org/marvelcinematicuniverse.wikia.com/property/alias'), 's': rdflib.term.URIRef('http://dbkwik.webdatacommons.org/marvelcinematicuniverse.wikia.com/resource/Thor')}, {'p': rdflib.term.URIRef('http://dbkwik.webdatacommons.org/marvelcinematicuniverse.wikia.com/property/passengers'), 's': rdflib.term.URIRef('http://dbkwik.webdatacommons.org/marvelcinematicuniverse.wikia.com/resource/Helicarrier')}, {'p': rdflib.term.URIRef('http://dbkwik.webdatacommons.org/marvelcinematicuniverse.wikia.com/property/owner'), 's': rdflib.term.URIRef('http://dbkwik.webdatacommons.org/marvelcinematicuniverse.wikia.com/resource/Quinjet')}, {'p': rdflib.term.URIRef('http://dbkwik.webdatacommons.org/ontology/wikiPageDisambiguates'), 's': rdflib.term.URIRef('http://dbkwik.webdatacommons.org/marvelcinematicuniverse.wikia.com/resource/Avengers_(disambiguation)')}], 'http://dbkwik.webdatacommons.org/marvel.wikia.com/resource/Avengers_(Onslaught_Reborn)_(Earth-616)', [{'p': rdflib.term.URIRef('http://dbkwik.webdatacommons.org/marvel.wikia.com/property/others'), 's': rdflib.term.URIRef('http://dbkwik.webdatacommons.org/marvel.wikia.com/resource/Avengers')}, {'p': rdflib.term.URIRef('http://dbkwik.webdatacommons.org/ontology/wikiPageDisambiguates'), 's': rdflib.term.URIRef('http://dbkwik.webdatacommons.org/marvel.wikia.com/resource/Avengers')}], 0.39976475339522366)\n"
     ]
    },
    {
     "name": "stderr",
     "output_type": "stream",
     "text": [
      "Process ForkPoolWorker-105:\n",
      "Process ForkPoolWorker-104:\n",
      "Process ForkPoolWorker-106:\n",
      "Process ForkPoolWorker-107:\n",
      "Traceback (most recent call last):\n",
      "Traceback (most recent call last):\n",
      "Traceback (most recent call last):\n",
      "Traceback (most recent call last):\n",
      "  File \"/opt/homebrew/Caskroom/miniforge/base/envs/berkeley/lib/python3.9/site-packages/multiprocess/process.py\", line 315, in _bootstrap\n",
      "    self.run()\n",
      "  File \"/opt/homebrew/Caskroom/miniforge/base/envs/berkeley/lib/python3.9/site-packages/multiprocess/process.py\", line 315, in _bootstrap\n",
      "    self.run()\n",
      "  File \"/opt/homebrew/Caskroom/miniforge/base/envs/berkeley/lib/python3.9/site-packages/multiprocess/process.py\", line 315, in _bootstrap\n",
      "    self.run()\n",
      "  File \"/opt/homebrew/Caskroom/miniforge/base/envs/berkeley/lib/python3.9/site-packages/multiprocess/process.py\", line 315, in _bootstrap\n",
      "    self.run()\n",
      "  File \"/opt/homebrew/Caskroom/miniforge/base/envs/berkeley/lib/python3.9/site-packages/multiprocess/process.py\", line 108, in run\n",
      "    self._target(*self._args, **self._kwargs)\n",
      "  File \"/opt/homebrew/Caskroom/miniforge/base/envs/berkeley/lib/python3.9/site-packages/multiprocess/process.py\", line 108, in run\n",
      "    self._target(*self._args, **self._kwargs)\n"
     ]
    },
    {
     "ename": "KeyboardInterrupt",
     "evalue": "",
     "output_type": "error",
     "traceback": [
      "\u001b[0;31m---------------------------------------------------------------------------\u001b[0m",
      "\u001b[0;31mKeyboardInterrupt\u001b[0m                         Traceback (most recent call last)",
      "Cell \u001b[0;32mIn [63], line 15\u001b[0m\n\u001b[1;32m     14\u001b[0m \u001b[38;5;28;01mfor\u001b[39;00m task \u001b[38;5;129;01min\u001b[39;00m tasks:\n\u001b[0;32m---> 15\u001b[0m     result \u001b[38;5;241m=\u001b[39m \u001b[43mtask\u001b[49m\u001b[38;5;241;43m.\u001b[39;49m\u001b[43mget\u001b[49m\u001b[43m(\u001b[49m\u001b[43m)\u001b[49m\n\u001b[1;32m     16\u001b[0m     \u001b[38;5;28mprint\u001b[39m(result)\n",
      "File \u001b[0;32m/opt/homebrew/Caskroom/miniforge/base/envs/berkeley/lib/python3.9/site-packages/multiprocess/pool.py:765\u001b[0m, in \u001b[0;36mApplyResult.get\u001b[0;34m(self, timeout)\u001b[0m\n\u001b[1;32m    764\u001b[0m \u001b[38;5;28;01mdef\u001b[39;00m \u001b[38;5;21mget\u001b[39m(\u001b[38;5;28mself\u001b[39m, timeout\u001b[38;5;241m=\u001b[39m\u001b[38;5;28;01mNone\u001b[39;00m):\n\u001b[0;32m--> 765\u001b[0m     \u001b[38;5;28;43mself\u001b[39;49m\u001b[38;5;241;43m.\u001b[39;49m\u001b[43mwait\u001b[49m\u001b[43m(\u001b[49m\u001b[43mtimeout\u001b[49m\u001b[43m)\u001b[49m\n\u001b[1;32m    766\u001b[0m     \u001b[38;5;28;01mif\u001b[39;00m \u001b[38;5;129;01mnot\u001b[39;00m \u001b[38;5;28mself\u001b[39m\u001b[38;5;241m.\u001b[39mready():\n",
      "File \u001b[0;32m/opt/homebrew/Caskroom/miniforge/base/envs/berkeley/lib/python3.9/site-packages/multiprocess/pool.py:762\u001b[0m, in \u001b[0;36mApplyResult.wait\u001b[0;34m(self, timeout)\u001b[0m\n\u001b[1;32m    761\u001b[0m \u001b[38;5;28;01mdef\u001b[39;00m \u001b[38;5;21mwait\u001b[39m(\u001b[38;5;28mself\u001b[39m, timeout\u001b[38;5;241m=\u001b[39m\u001b[38;5;28;01mNone\u001b[39;00m):\n\u001b[0;32m--> 762\u001b[0m     \u001b[38;5;28;43mself\u001b[39;49m\u001b[38;5;241;43m.\u001b[39;49m\u001b[43m_event\u001b[49m\u001b[38;5;241;43m.\u001b[39;49m\u001b[43mwait\u001b[49m\u001b[43m(\u001b[49m\u001b[43mtimeout\u001b[49m\u001b[43m)\u001b[49m\n",
      "File \u001b[0;32m/opt/homebrew/Caskroom/miniforge/base/envs/berkeley/lib/python3.9/threading.py:581\u001b[0m, in \u001b[0;36mEvent.wait\u001b[0;34m(self, timeout)\u001b[0m\n\u001b[1;32m    580\u001b[0m \u001b[38;5;28;01mif\u001b[39;00m \u001b[38;5;129;01mnot\u001b[39;00m signaled:\n\u001b[0;32m--> 581\u001b[0m     signaled \u001b[38;5;241m=\u001b[39m \u001b[38;5;28;43mself\u001b[39;49m\u001b[38;5;241;43m.\u001b[39;49m\u001b[43m_cond\u001b[49m\u001b[38;5;241;43m.\u001b[39;49m\u001b[43mwait\u001b[49m\u001b[43m(\u001b[49m\u001b[43mtimeout\u001b[49m\u001b[43m)\u001b[49m\n\u001b[1;32m    582\u001b[0m \u001b[38;5;28;01mreturn\u001b[39;00m signaled\n",
      "File \u001b[0;32m/opt/homebrew/Caskroom/miniforge/base/envs/berkeley/lib/python3.9/threading.py:312\u001b[0m, in \u001b[0;36mCondition.wait\u001b[0;34m(self, timeout)\u001b[0m\n\u001b[1;32m    311\u001b[0m \u001b[38;5;28;01mif\u001b[39;00m timeout \u001b[38;5;129;01mis\u001b[39;00m \u001b[38;5;28;01mNone\u001b[39;00m:\n\u001b[0;32m--> 312\u001b[0m     \u001b[43mwaiter\u001b[49m\u001b[38;5;241;43m.\u001b[39;49m\u001b[43macquire\u001b[49m\u001b[43m(\u001b[49m\u001b[43m)\u001b[49m\n\u001b[1;32m    313\u001b[0m     gotit \u001b[38;5;241m=\u001b[39m \u001b[38;5;28;01mTrue\u001b[39;00m\n",
      "\u001b[0;31mKeyboardInterrupt\u001b[0m: ",
      "\nDuring handling of the above exception, another exception occurred:\n",
      "\u001b[0;31mKeyboardInterrupt\u001b[0m                         Traceback (most recent call last)",
      "Cell \u001b[0;32mIn [63], line 16\u001b[0m\n\u001b[1;32m     14\u001b[0m \u001b[38;5;28;01mfor\u001b[39;00m task \u001b[38;5;129;01min\u001b[39;00m tasks:\n\u001b[1;32m     15\u001b[0m     result \u001b[38;5;241m=\u001b[39m task\u001b[38;5;241m.\u001b[39mget()\n\u001b[0;32m---> 16\u001b[0m     \u001b[38;5;28mprint\u001b[39m(result)\n",
      "File \u001b[0;32m/opt/homebrew/Caskroom/miniforge/base/envs/berkeley/lib/python3.9/site-packages/multiprocess/pool.py:736\u001b[0m, in \u001b[0;36mPool.__exit__\u001b[0;34m(self, exc_type, exc_val, exc_tb)\u001b[0m\n\u001b[1;32m    735\u001b[0m \u001b[38;5;28;01mdef\u001b[39;00m \u001b[38;5;21m__exit__\u001b[39m(\u001b[38;5;28mself\u001b[39m, exc_type, exc_val, exc_tb):\n\u001b[0;32m--> 736\u001b[0m     \u001b[38;5;28;43mself\u001b[39;49m\u001b[38;5;241;43m.\u001b[39;49m\u001b[43mterminate\u001b[49m\u001b[43m(\u001b[49m\u001b[43m)\u001b[49m\n",
      "File \u001b[0;32m/opt/homebrew/Caskroom/miniforge/base/envs/berkeley/lib/python3.9/site-packages/multiprocess/pool.py:654\u001b[0m, in \u001b[0;36mPool.terminate\u001b[0;34m(self)\u001b[0m\n\u001b[1;32m    652\u001b[0m util\u001b[38;5;241m.\u001b[39mdebug(\u001b[38;5;124m'\u001b[39m\u001b[38;5;124mterminating pool\u001b[39m\u001b[38;5;124m'\u001b[39m)\n\u001b[1;32m    653\u001b[0m \u001b[38;5;28mself\u001b[39m\u001b[38;5;241m.\u001b[39m_state \u001b[38;5;241m=\u001b[39m TERMINATE\n\u001b[0;32m--> 654\u001b[0m \u001b[38;5;28;43mself\u001b[39;49m\u001b[38;5;241;43m.\u001b[39;49m\u001b[43m_terminate\u001b[49m\u001b[43m(\u001b[49m\u001b[43m)\u001b[49m\n",
      "File \u001b[0;32m/opt/homebrew/Caskroom/miniforge/base/envs/berkeley/lib/python3.9/site-packages/multiprocess/util.py:224\u001b[0m, in \u001b[0;36mFinalize.__call__\u001b[0;34m(self, wr, _finalizer_registry, sub_debug, getpid)\u001b[0m\n\u001b[1;32m    221\u001b[0m \u001b[38;5;28;01melse\u001b[39;00m:\n\u001b[1;32m    222\u001b[0m     sub_debug(\u001b[38;5;124m'\u001b[39m\u001b[38;5;124mfinalizer calling \u001b[39m\u001b[38;5;132;01m%s\u001b[39;00m\u001b[38;5;124m with args \u001b[39m\u001b[38;5;132;01m%s\u001b[39;00m\u001b[38;5;124m and kwargs \u001b[39m\u001b[38;5;132;01m%s\u001b[39;00m\u001b[38;5;124m'\u001b[39m,\n\u001b[1;32m    223\u001b[0m               \u001b[38;5;28mself\u001b[39m\u001b[38;5;241m.\u001b[39m_callback, \u001b[38;5;28mself\u001b[39m\u001b[38;5;241m.\u001b[39m_args, \u001b[38;5;28mself\u001b[39m\u001b[38;5;241m.\u001b[39m_kwargs)\n\u001b[0;32m--> 224\u001b[0m     res \u001b[38;5;241m=\u001b[39m \u001b[38;5;28;43mself\u001b[39;49m\u001b[38;5;241;43m.\u001b[39;49m\u001b[43m_callback\u001b[49m\u001b[43m(\u001b[49m\u001b[38;5;241;43m*\u001b[39;49m\u001b[38;5;28;43mself\u001b[39;49m\u001b[38;5;241;43m.\u001b[39;49m\u001b[43m_args\u001b[49m\u001b[43m,\u001b[49m\u001b[43m \u001b[49m\u001b[38;5;241;43m*\u001b[39;49m\u001b[38;5;241;43m*\u001b[39;49m\u001b[38;5;28;43mself\u001b[39;49m\u001b[38;5;241;43m.\u001b[39;49m\u001b[43m_kwargs\u001b[49m\u001b[43m)\u001b[49m\n\u001b[1;32m    225\u001b[0m \u001b[38;5;28mself\u001b[39m\u001b[38;5;241m.\u001b[39m_weakref \u001b[38;5;241m=\u001b[39m \u001b[38;5;28mself\u001b[39m\u001b[38;5;241m.\u001b[39m_callback \u001b[38;5;241m=\u001b[39m \u001b[38;5;28mself\u001b[39m\u001b[38;5;241m.\u001b[39m_args \u001b[38;5;241m=\u001b[39m \\\n\u001b[1;32m    226\u001b[0m                 \u001b[38;5;28mself\u001b[39m\u001b[38;5;241m.\u001b[39m_kwargs \u001b[38;5;241m=\u001b[39m \u001b[38;5;28mself\u001b[39m\u001b[38;5;241m.\u001b[39m_key \u001b[38;5;241m=\u001b[39m \u001b[38;5;28;01mNone\u001b[39;00m\n\u001b[1;32m    227\u001b[0m \u001b[38;5;28;01mreturn\u001b[39;00m res\n",
      "File \u001b[0;32m/opt/homebrew/Caskroom/miniforge/base/envs/berkeley/lib/python3.9/site-packages/multiprocess/pool.py:717\u001b[0m, in \u001b[0;36mPool._terminate_pool\u001b[0;34m(cls, taskqueue, inqueue, outqueue, pool, change_notifier, worker_handler, task_handler, result_handler, cache)\u001b[0m\n\u001b[1;32m    715\u001b[0m util\u001b[38;5;241m.\u001b[39mdebug(\u001b[38;5;124m'\u001b[39m\u001b[38;5;124mjoining task handler\u001b[39m\u001b[38;5;124m'\u001b[39m)\n\u001b[1;32m    716\u001b[0m \u001b[38;5;28;01mif\u001b[39;00m threading\u001b[38;5;241m.\u001b[39mcurrent_thread() \u001b[38;5;129;01mis\u001b[39;00m \u001b[38;5;129;01mnot\u001b[39;00m task_handler:\n\u001b[0;32m--> 717\u001b[0m     \u001b[43mtask_handler\u001b[49m\u001b[38;5;241;43m.\u001b[39;49m\u001b[43mjoin\u001b[49m\u001b[43m(\u001b[49m\u001b[43m)\u001b[49m\n\u001b[1;32m    719\u001b[0m util\u001b[38;5;241m.\u001b[39mdebug(\u001b[38;5;124m'\u001b[39m\u001b[38;5;124mjoining result handler\u001b[39m\u001b[38;5;124m'\u001b[39m)\n\u001b[1;32m    720\u001b[0m \u001b[38;5;28;01mif\u001b[39;00m threading\u001b[38;5;241m.\u001b[39mcurrent_thread() \u001b[38;5;129;01mis\u001b[39;00m \u001b[38;5;129;01mnot\u001b[39;00m result_handler:\n",
      "File \u001b[0;32m/opt/homebrew/Caskroom/miniforge/base/envs/berkeley/lib/python3.9/threading.py:1060\u001b[0m, in \u001b[0;36mThread.join\u001b[0;34m(self, timeout)\u001b[0m\n\u001b[1;32m   1057\u001b[0m     \u001b[38;5;28;01mraise\u001b[39;00m \u001b[38;5;167;01mRuntimeError\u001b[39;00m(\u001b[38;5;124m\"\u001b[39m\u001b[38;5;124mcannot join current thread\u001b[39m\u001b[38;5;124m\"\u001b[39m)\n\u001b[1;32m   1059\u001b[0m \u001b[38;5;28;01mif\u001b[39;00m timeout \u001b[38;5;129;01mis\u001b[39;00m \u001b[38;5;28;01mNone\u001b[39;00m:\n\u001b[0;32m-> 1060\u001b[0m     \u001b[38;5;28;43mself\u001b[39;49m\u001b[38;5;241;43m.\u001b[39;49m\u001b[43m_wait_for_tstate_lock\u001b[49m\u001b[43m(\u001b[49m\u001b[43m)\u001b[49m\n\u001b[1;32m   1061\u001b[0m \u001b[38;5;28;01melse\u001b[39;00m:\n\u001b[1;32m   1062\u001b[0m     \u001b[38;5;66;03m# the behavior of a negative timeout isn't documented, but\u001b[39;00m\n\u001b[1;32m   1063\u001b[0m     \u001b[38;5;66;03m# historically .join(timeout=x) for x<0 has acted as if timeout=0\u001b[39;00m\n\u001b[1;32m   1064\u001b[0m     \u001b[38;5;28mself\u001b[39m\u001b[38;5;241m.\u001b[39m_wait_for_tstate_lock(timeout\u001b[38;5;241m=\u001b[39m\u001b[38;5;28mmax\u001b[39m(timeout, \u001b[38;5;241m0\u001b[39m))\n",
      "File \u001b[0;32m/opt/homebrew/Caskroom/miniforge/base/envs/berkeley/lib/python3.9/threading.py:1080\u001b[0m, in \u001b[0;36mThread._wait_for_tstate_lock\u001b[0;34m(self, block, timeout)\u001b[0m\n\u001b[1;32m   1077\u001b[0m     \u001b[38;5;28;01mreturn\u001b[39;00m\n\u001b[1;32m   1079\u001b[0m \u001b[38;5;28;01mtry\u001b[39;00m:\n\u001b[0;32m-> 1080\u001b[0m     \u001b[38;5;28;01mif\u001b[39;00m \u001b[43mlock\u001b[49m\u001b[38;5;241;43m.\u001b[39;49m\u001b[43macquire\u001b[49m\u001b[43m(\u001b[49m\u001b[43mblock\u001b[49m\u001b[43m,\u001b[49m\u001b[43m \u001b[49m\u001b[43mtimeout\u001b[49m\u001b[43m)\u001b[49m:\n\u001b[1;32m   1081\u001b[0m         lock\u001b[38;5;241m.\u001b[39mrelease()\n\u001b[1;32m   1082\u001b[0m         \u001b[38;5;28mself\u001b[39m\u001b[38;5;241m.\u001b[39m_stop()\n",
      "\u001b[0;31mKeyboardInterrupt\u001b[0m: "
     ]
    },
    {
     "name": "stderr",
     "output_type": "stream",
     "text": [
      "  File \"/opt/homebrew/Caskroom/miniforge/base/envs/berkeley/lib/python3.9/site-packages/multiprocess/process.py\", line 108, in run\n",
      "    self._target(*self._args, **self._kwargs)\n",
      "  File \"/opt/homebrew/Caskroom/miniforge/base/envs/berkeley/lib/python3.9/site-packages/multiprocess/process.py\", line 108, in run\n",
      "    self._target(*self._args, **self._kwargs)\n",
      "  File \"/opt/homebrew/Caskroom/miniforge/base/envs/berkeley/lib/python3.9/site-packages/multiprocess/pool.py\", line 114, in worker\n",
      "    task = get()\n",
      "  File \"/opt/homebrew/Caskroom/miniforge/base/envs/berkeley/lib/python3.9/site-packages/multiprocess/pool.py\", line 114, in worker\n",
      "    task = get()\n",
      "  File \"/opt/homebrew/Caskroom/miniforge/base/envs/berkeley/lib/python3.9/site-packages/multiprocess/pool.py\", line 114, in worker\n",
      "    task = get()\n",
      "  File \"/opt/homebrew/Caskroom/miniforge/base/envs/berkeley/lib/python3.9/site-packages/multiprocess/pool.py\", line 114, in worker\n",
      "    task = get()\n",
      "  File \"/opt/homebrew/Caskroom/miniforge/base/envs/berkeley/lib/python3.9/site-packages/multiprocess/queues.py\", line 367, in get\n",
      "    with self._rlock:\n",
      "  File \"/opt/homebrew/Caskroom/miniforge/base/envs/berkeley/lib/python3.9/site-packages/multiprocess/queues.py\", line 368, in get\n",
      "    res = self._reader.recv_bytes()\n",
      "  File \"/opt/homebrew/Caskroom/miniforge/base/envs/berkeley/lib/python3.9/site-packages/multiprocess/queues.py\", line 367, in get\n",
      "    with self._rlock:\n",
      "  File \"/opt/homebrew/Caskroom/miniforge/base/envs/berkeley/lib/python3.9/site-packages/multiprocess/queues.py\", line 367, in get\n",
      "    with self._rlock:\n",
      "  File \"/opt/homebrew/Caskroom/miniforge/base/envs/berkeley/lib/python3.9/site-packages/multiprocess/synchronize.py\", line 101, in __enter__\n",
      "    return self._semlock.__enter__()\n",
      "  File \"/opt/homebrew/Caskroom/miniforge/base/envs/berkeley/lib/python3.9/site-packages/multiprocess/connection.py\", line 224, in recv_bytes\n",
      "    buf = self._recv_bytes(maxlength)\n",
      "  File \"/opt/homebrew/Caskroom/miniforge/base/envs/berkeley/lib/python3.9/site-packages/multiprocess/synchronize.py\", line 101, in __enter__\n",
      "    return self._semlock.__enter__()\n",
      "  File \"/opt/homebrew/Caskroom/miniforge/base/envs/berkeley/lib/python3.9/site-packages/multiprocess/synchronize.py\", line 101, in __enter__\n",
      "    return self._semlock.__enter__()\n",
      "KeyboardInterrupt\n",
      "  File \"/opt/homebrew/Caskroom/miniforge/base/envs/berkeley/lib/python3.9/site-packages/multiprocess/connection.py\", line 422, in _recv_bytes\n",
      "    buf = self._recv(4)\n",
      "KeyboardInterrupt\n",
      "KeyboardInterrupt\n",
      "  File \"/opt/homebrew/Caskroom/miniforge/base/envs/berkeley/lib/python3.9/site-packages/multiprocess/connection.py\", line 387, in _recv\n",
      "    chunk = read(handle, remaining)\n",
      "KeyboardInterrupt\n",
      "Process ForkPoolWorker-108:\n",
      "Process ForkPoolWorker-110:\n",
      "Process ForkPoolWorker-111:\n",
      "Process ForkPoolWorker-109:\n",
      "Process ForkPoolWorker-112:\n",
      "Process ForkPoolWorker-113:\n",
      "Traceback (most recent call last):\n",
      "Traceback (most recent call last):\n",
      "Traceback (most recent call last):\n",
      "Traceback (most recent call last):\n",
      "Traceback (most recent call last):\n",
      "Traceback (most recent call last):\n",
      "  File \"/opt/homebrew/Caskroom/miniforge/base/envs/berkeley/lib/python3.9/site-packages/multiprocess/process.py\", line 315, in _bootstrap\n",
      "    self.run()\n",
      "  File \"/opt/homebrew/Caskroom/miniforge/base/envs/berkeley/lib/python3.9/site-packages/multiprocess/process.py\", line 315, in _bootstrap\n",
      "    self.run()\n",
      "  File \"/opt/homebrew/Caskroom/miniforge/base/envs/berkeley/lib/python3.9/site-packages/multiprocess/process.py\", line 315, in _bootstrap\n",
      "    self.run()\n",
      "  File \"/opt/homebrew/Caskroom/miniforge/base/envs/berkeley/lib/python3.9/site-packages/multiprocess/process.py\", line 315, in _bootstrap\n",
      "    self.run()\n",
      "  File \"/opt/homebrew/Caskroom/miniforge/base/envs/berkeley/lib/python3.9/site-packages/multiprocess/process.py\", line 315, in _bootstrap\n",
      "    self.run()\n",
      "  File \"/opt/homebrew/Caskroom/miniforge/base/envs/berkeley/lib/python3.9/site-packages/multiprocess/process.py\", line 315, in _bootstrap\n",
      "    self.run()\n",
      "  File \"/opt/homebrew/Caskroom/miniforge/base/envs/berkeley/lib/python3.9/site-packages/multiprocess/process.py\", line 108, in run\n",
      "    self._target(*self._args, **self._kwargs)\n",
      "  File \"/opt/homebrew/Caskroom/miniforge/base/envs/berkeley/lib/python3.9/site-packages/multiprocess/process.py\", line 108, in run\n",
      "    self._target(*self._args, **self._kwargs)\n",
      "  File \"/opt/homebrew/Caskroom/miniforge/base/envs/berkeley/lib/python3.9/site-packages/multiprocess/process.py\", line 108, in run\n",
      "    self._target(*self._args, **self._kwargs)\n",
      "  File \"/opt/homebrew/Caskroom/miniforge/base/envs/berkeley/lib/python3.9/site-packages/multiprocess/process.py\", line 108, in run\n",
      "    self._target(*self._args, **self._kwargs)\n",
      "  File \"/opt/homebrew/Caskroom/miniforge/base/envs/berkeley/lib/python3.9/site-packages/multiprocess/process.py\", line 108, in run\n",
      "    self._target(*self._args, **self._kwargs)\n",
      "  File \"/opt/homebrew/Caskroom/miniforge/base/envs/berkeley/lib/python3.9/site-packages/multiprocess/process.py\", line 108, in run\n",
      "    self._target(*self._args, **self._kwargs)\n",
      "  File \"/opt/homebrew/Caskroom/miniforge/base/envs/berkeley/lib/python3.9/site-packages/multiprocess/pool.py\", line 114, in worker\n",
      "    task = get()\n",
      "  File \"/opt/homebrew/Caskroom/miniforge/base/envs/berkeley/lib/python3.9/site-packages/multiprocess/pool.py\", line 114, in worker\n",
      "    task = get()\n",
      "  File \"/opt/homebrew/Caskroom/miniforge/base/envs/berkeley/lib/python3.9/site-packages/multiprocess/pool.py\", line 114, in worker\n",
      "    task = get()\n",
      "  File \"/opt/homebrew/Caskroom/miniforge/base/envs/berkeley/lib/python3.9/site-packages/multiprocess/pool.py\", line 114, in worker\n",
      "    task = get()\n",
      "  File \"/opt/homebrew/Caskroom/miniforge/base/envs/berkeley/lib/python3.9/site-packages/multiprocess/pool.py\", line 114, in worker\n",
      "    task = get()\n",
      "  File \"/opt/homebrew/Caskroom/miniforge/base/envs/berkeley/lib/python3.9/site-packages/multiprocess/pool.py\", line 114, in worker\n",
      "    task = get()\n",
      "  File \"/opt/homebrew/Caskroom/miniforge/base/envs/berkeley/lib/python3.9/site-packages/multiprocess/queues.py\", line 367, in get\n",
      "    with self._rlock:\n",
      "  File \"/opt/homebrew/Caskroom/miniforge/base/envs/berkeley/lib/python3.9/site-packages/multiprocess/queues.py\", line 367, in get\n",
      "    with self._rlock:\n",
      "  File \"/opt/homebrew/Caskroom/miniforge/base/envs/berkeley/lib/python3.9/site-packages/multiprocess/queues.py\", line 368, in get\n",
      "    res = self._reader.recv_bytes()\n",
      "  File \"/opt/homebrew/Caskroom/miniforge/base/envs/berkeley/lib/python3.9/site-packages/multiprocess/queues.py\", line 367, in get\n",
      "    with self._rlock:\n",
      "  File \"/opt/homebrew/Caskroom/miniforge/base/envs/berkeley/lib/python3.9/site-packages/multiprocess/queues.py\", line 367, in get\n",
      "    with self._rlock:\n",
      "  File \"/opt/homebrew/Caskroom/miniforge/base/envs/berkeley/lib/python3.9/site-packages/multiprocess/queues.py\", line 367, in get\n",
      "    with self._rlock:\n",
      "  File \"/opt/homebrew/Caskroom/miniforge/base/envs/berkeley/lib/python3.9/site-packages/multiprocess/synchronize.py\", line 101, in __enter__\n",
      "    return self._semlock.__enter__()\n",
      "  File \"/opt/homebrew/Caskroom/miniforge/base/envs/berkeley/lib/python3.9/site-packages/multiprocess/connection.py\", line 224, in recv_bytes\n",
      "    buf = self._recv_bytes(maxlength)\n",
      "  File \"/opt/homebrew/Caskroom/miniforge/base/envs/berkeley/lib/python3.9/site-packages/multiprocess/synchronize.py\", line 101, in __enter__\n",
      "    return self._semlock.__enter__()\n",
      "  File \"/opt/homebrew/Caskroom/miniforge/base/envs/berkeley/lib/python3.9/site-packages/multiprocess/synchronize.py\", line 101, in __enter__\n",
      "    return self._semlock.__enter__()\n",
      "  File \"/opt/homebrew/Caskroom/miniforge/base/envs/berkeley/lib/python3.9/site-packages/multiprocess/synchronize.py\", line 101, in __enter__\n",
      "    return self._semlock.__enter__()\n",
      "  File \"/opt/homebrew/Caskroom/miniforge/base/envs/berkeley/lib/python3.9/site-packages/multiprocess/synchronize.py\", line 101, in __enter__\n",
      "    return self._semlock.__enter__()\n",
      "KeyboardInterrupt\n",
      "KeyboardInterrupt\n",
      "  File \"/opt/homebrew/Caskroom/miniforge/base/envs/berkeley/lib/python3.9/site-packages/multiprocess/connection.py\", line 422, in _recv_bytes\n",
      "    buf = self._recv(4)\n",
      "KeyboardInterrupt\n",
      "KeyboardInterrupt\n",
      "KeyboardInterrupt\n",
      "  File \"/opt/homebrew/Caskroom/miniforge/base/envs/berkeley/lib/python3.9/site-packages/multiprocess/connection.py\", line 387, in _recv\n",
      "    chunk = read(handle, remaining)\n"
     ]
    },
    {
     "name": "stderr",
     "output_type": "stream",
     "text": [
      "KeyboardInterrupt\n",
      "Process ForkPoolWorker-115:\n",
      "Process ForkPoolWorker-117:\n",
      "Process ForkPoolWorker-116:\n",
      "Process ForkPoolWorker-114:\n",
      "Process ForkPoolWorker-118:\n",
      "Process ForkPoolWorker-119:\n",
      "Traceback (most recent call last):\n",
      "Traceback (most recent call last):\n",
      "Traceback (most recent call last):\n",
      "Traceback (most recent call last):\n",
      "Traceback (most recent call last):\n",
      "Traceback (most recent call last):\n",
      "  File \"/opt/homebrew/Caskroom/miniforge/base/envs/berkeley/lib/python3.9/site-packages/multiprocess/process.py\", line 315, in _bootstrap\n",
      "    self.run()\n",
      "  File \"/opt/homebrew/Caskroom/miniforge/base/envs/berkeley/lib/python3.9/site-packages/multiprocess/process.py\", line 315, in _bootstrap\n",
      "    self.run()\n",
      "  File \"/opt/homebrew/Caskroom/miniforge/base/envs/berkeley/lib/python3.9/site-packages/multiprocess/process.py\", line 315, in _bootstrap\n",
      "    self.run()\n",
      "  File \"/opt/homebrew/Caskroom/miniforge/base/envs/berkeley/lib/python3.9/site-packages/multiprocess/process.py\", line 315, in _bootstrap\n",
      "    self.run()\n",
      "  File \"/opt/homebrew/Caskroom/miniforge/base/envs/berkeley/lib/python3.9/site-packages/multiprocess/process.py\", line 315, in _bootstrap\n",
      "    self.run()\n",
      "  File \"/opt/homebrew/Caskroom/miniforge/base/envs/berkeley/lib/python3.9/site-packages/multiprocess/process.py\", line 315, in _bootstrap\n",
      "    self.run()\n",
      "  File \"/opt/homebrew/Caskroom/miniforge/base/envs/berkeley/lib/python3.9/site-packages/multiprocess/process.py\", line 108, in run\n",
      "    self._target(*self._args, **self._kwargs)\n",
      "  File \"/opt/homebrew/Caskroom/miniforge/base/envs/berkeley/lib/python3.9/site-packages/multiprocess/process.py\", line 108, in run\n",
      "    self._target(*self._args, **self._kwargs)\n",
      "  File \"/opt/homebrew/Caskroom/miniforge/base/envs/berkeley/lib/python3.9/site-packages/multiprocess/process.py\", line 108, in run\n",
      "    self._target(*self._args, **self._kwargs)\n",
      "  File \"/opt/homebrew/Caskroom/miniforge/base/envs/berkeley/lib/python3.9/site-packages/multiprocess/process.py\", line 108, in run\n",
      "    self._target(*self._args, **self._kwargs)\n",
      "  File \"/opt/homebrew/Caskroom/miniforge/base/envs/berkeley/lib/python3.9/site-packages/multiprocess/process.py\", line 108, in run\n",
      "    self._target(*self._args, **self._kwargs)\n",
      "  File \"/opt/homebrew/Caskroom/miniforge/base/envs/berkeley/lib/python3.9/site-packages/multiprocess/process.py\", line 108, in run\n",
      "    self._target(*self._args, **self._kwargs)\n",
      "  File \"/opt/homebrew/Caskroom/miniforge/base/envs/berkeley/lib/python3.9/site-packages/multiprocess/pool.py\", line 114, in worker\n",
      "    task = get()\n",
      "  File \"/opt/homebrew/Caskroom/miniforge/base/envs/berkeley/lib/python3.9/site-packages/multiprocess/pool.py\", line 114, in worker\n",
      "    task = get()\n",
      "  File \"/opt/homebrew/Caskroom/miniforge/base/envs/berkeley/lib/python3.9/site-packages/multiprocess/pool.py\", line 114, in worker\n",
      "    task = get()\n",
      "  File \"/opt/homebrew/Caskroom/miniforge/base/envs/berkeley/lib/python3.9/site-packages/multiprocess/pool.py\", line 114, in worker\n",
      "    task = get()\n",
      "  File \"/opt/homebrew/Caskroom/miniforge/base/envs/berkeley/lib/python3.9/site-packages/multiprocess/pool.py\", line 114, in worker\n",
      "    task = get()\n",
      "  File \"/opt/homebrew/Caskroom/miniforge/base/envs/berkeley/lib/python3.9/site-packages/multiprocess/pool.py\", line 114, in worker\n",
      "    task = get()\n",
      "  File \"/opt/homebrew/Caskroom/miniforge/base/envs/berkeley/lib/python3.9/site-packages/multiprocess/queues.py\", line 367, in get\n",
      "    with self._rlock:\n",
      "  File \"/opt/homebrew/Caskroom/miniforge/base/envs/berkeley/lib/python3.9/site-packages/multiprocess/queues.py\", line 367, in get\n",
      "    with self._rlock:\n",
      "  File \"/opt/homebrew/Caskroom/miniforge/base/envs/berkeley/lib/python3.9/site-packages/multiprocess/queues.py\", line 367, in get\n",
      "    with self._rlock:\n",
      "  File \"/opt/homebrew/Caskroom/miniforge/base/envs/berkeley/lib/python3.9/site-packages/multiprocess/queues.py\", line 367, in get\n",
      "    with self._rlock:\n",
      "  File \"/opt/homebrew/Caskroom/miniforge/base/envs/berkeley/lib/python3.9/site-packages/multiprocess/queues.py\", line 367, in get\n",
      "    with self._rlock:\n",
      "  File \"/opt/homebrew/Caskroom/miniforge/base/envs/berkeley/lib/python3.9/site-packages/multiprocess/queues.py\", line 367, in get\n",
      "    with self._rlock:\n",
      "  File \"/opt/homebrew/Caskroom/miniforge/base/envs/berkeley/lib/python3.9/site-packages/multiprocess/synchronize.py\", line 101, in __enter__\n",
      "    return self._semlock.__enter__()\n",
      "  File \"/opt/homebrew/Caskroom/miniforge/base/envs/berkeley/lib/python3.9/site-packages/multiprocess/synchronize.py\", line 101, in __enter__\n",
      "    return self._semlock.__enter__()\n",
      "  File \"/opt/homebrew/Caskroom/miniforge/base/envs/berkeley/lib/python3.9/site-packages/multiprocess/synchronize.py\", line 101, in __enter__\n",
      "    return self._semlock.__enter__()\n",
      "  File \"/opt/homebrew/Caskroom/miniforge/base/envs/berkeley/lib/python3.9/site-packages/multiprocess/synchronize.py\", line 101, in __enter__\n",
      "    return self._semlock.__enter__()\n",
      "  File \"/opt/homebrew/Caskroom/miniforge/base/envs/berkeley/lib/python3.9/site-packages/multiprocess/synchronize.py\", line 101, in __enter__\n",
      "    return self._semlock.__enter__()\n",
      "  File \"/opt/homebrew/Caskroom/miniforge/base/envs/berkeley/lib/python3.9/site-packages/multiprocess/synchronize.py\", line 101, in __enter__\n",
      "    return self._semlock.__enter__()\n",
      "KeyboardInterrupt\n",
      "KeyboardInterrupt\n",
      "KeyboardInterrupt\n",
      "KeyboardInterrupt\n",
      "KeyboardInterrupt\n",
      "KeyboardInterrupt\n"
     ]
    }
   ],
   "source": [
    "if __name__ == '__main__':\n",
    "    manager = Manager()\n",
    "    #shared_dict = manager.dict()\n",
    "    \n",
    "    pool = Pool(processes=4)\n",
    "\n",
    "    with Pool(processes=4) as pool:\n",
    "        tasks = []\n",
    "        for y1, y2 in tqdm(generate_y1_y2(old_entity_pair_match_dict)):\n",
    "            task = pool.apply_async(create_list_update_neighbors, args=(y1, y2, new_entity_pair_match_dict))\n",
    "            tasks.append(task)\n",
    "\n",
    "        for task in tasks:\n",
    "            result = task.get()\n",
    "            print(result)"
   ]
  },
  {
   "cell_type": "code",
   "execution_count": 73,
   "id": "a286f87e",
   "metadata": {},
   "outputs": [],
   "source": [
    "def get_inbound_neighbors_thread(graph, predicate_list, y):\n",
    "    if not y:\n",
    "        return []\n",
    "    \n",
    "    print(y)\n",
    "    y_url = y\n",
    "    if type(y_url) != URIRef:\n",
    "        y_url = URIRef(y)\n",
    "    \n",
    "    attempts = 0\n",
    "    while attempts < 10:\n",
    "        try:\n",
    "            neighbor_list = list()\n",
    "            for s, p in graph.subject_predicates(y_url):\n",
    "                if str(p) in predicate_list:\n",
    "                    neighbor_list.append({\n",
    "                        'p': p,\n",
    "                        's': s\n",
    "                    })\n",
    "            return neighbor_list\n",
    "        except Exception as e:\n",
    "            print(e)\n",
    "            attempts += 1\n",
    "    loaded_neighbors_dict[y] = neighbor_list\n",
    "    return neighbor_list"
   ]
  },
  {
   "cell_type": "code",
   "execution_count": 83,
   "id": "89e5c04a",
   "metadata": {},
   "outputs": [
    {
     "name": "stdout",
     "output_type": "stream",
     "text": [
      "{'http://dbkwik.webdatacommons.org/marvelcinematicuniverse.wikia.com/resource/2000s', 'http://dbkwik.webdatacommons.org/marvelcinematicuniverse.wikia.com/resource/Slovakia', 'http://dbkwik.webdatacommons.org/marvelcinematicuniverse.wikia.com/resource/Avengers', 'http://dbkwik.webdatacommons.org/marvelcinematicuniverse.wikia.com/resource/San_Francisco'}\n"
     ]
    },
    {
     "ename": "TypeError",
     "evalue": "get_inbound_neighbors_thread() missing 1 required positional argument: 'y'",
     "output_type": "error",
     "traceback": [
      "\u001b[0;31m---------------------------------------------------------------------------\u001b[0m",
      "\u001b[0;31mRemoteTraceback\u001b[0m                           Traceback (most recent call last)",
      "\u001b[0;31mRemoteTraceback\u001b[0m: \n\"\"\"\nTraceback (most recent call last):\n  File \"/opt/homebrew/Caskroom/miniforge/base/envs/berkeley/lib/python3.9/site-packages/multiprocess/pool.py\", line 125, in worker\n    result = (True, func(*args, **kwds))\n  File \"/opt/homebrew/Caskroom/miniforge/base/envs/berkeley/lib/python3.9/site-packages/multiprocess/pool.py\", line 51, in starmapstar\n    return list(itertools.starmap(args[0], args[1]))\nTypeError: get_inbound_neighbors_thread() missing 1 required positional argument: 'y'\n\"\"\"",
      "\nThe above exception was the direct cause of the following exception:\n",
      "\u001b[0;31mTypeError\u001b[0m                                 Traceback (most recent call last)",
      "Cell \u001b[0;32mIn [83], line 10\u001b[0m\n\u001b[1;32m      8\u001b[0m \u001b[38;5;28mprint\u001b[39m(keys)\n\u001b[1;32m      9\u001b[0m \u001b[38;5;28;01mwith\u001b[39;00m Pool(processes\u001b[38;5;241m=\u001b[39m\u001b[38;5;241m1\u001b[39m) \u001b[38;5;28;01mas\u001b[39;00m pool:\n\u001b[0;32m---> 10\u001b[0m     results \u001b[38;5;241m=\u001b[39m \u001b[43mpool\u001b[49m\u001b[38;5;241;43m.\u001b[39;49m\u001b[43mstarmap\u001b[49m\u001b[43m(\u001b[49m\u001b[43mget_inbound_neighbors_thread\u001b[49m\u001b[43m,\u001b[49m\u001b[43m \u001b[49m\u001b[38;5;28;43mzip\u001b[39;49m\u001b[43m(\u001b[49m\u001b[43mgraph_args\u001b[49m\u001b[43m,\u001b[49m\u001b[43m \u001b[49m\u001b[43mkeys\u001b[49m\u001b[43m)\u001b[49m\u001b[43m)\u001b[49m    \n",
      "File \u001b[0;32m/opt/homebrew/Caskroom/miniforge/base/envs/berkeley/lib/python3.9/site-packages/multiprocess/pool.py:372\u001b[0m, in \u001b[0;36mPool.starmap\u001b[0;34m(self, func, iterable, chunksize)\u001b[0m\n\u001b[1;32m    366\u001b[0m \u001b[38;5;28;01mdef\u001b[39;00m \u001b[38;5;21mstarmap\u001b[39m(\u001b[38;5;28mself\u001b[39m, func, iterable, chunksize\u001b[38;5;241m=\u001b[39m\u001b[38;5;28;01mNone\u001b[39;00m):\n\u001b[1;32m    367\u001b[0m     \u001b[38;5;124;03m'''\u001b[39;00m\n\u001b[1;32m    368\u001b[0m \u001b[38;5;124;03m    Like `map()` method but the elements of the `iterable` are expected to\u001b[39;00m\n\u001b[1;32m    369\u001b[0m \u001b[38;5;124;03m    be iterables as well and will be unpacked as arguments. Hence\u001b[39;00m\n\u001b[1;32m    370\u001b[0m \u001b[38;5;124;03m    `func` and (a, b) becomes func(a, b).\u001b[39;00m\n\u001b[1;32m    371\u001b[0m \u001b[38;5;124;03m    '''\u001b[39;00m\n\u001b[0;32m--> 372\u001b[0m     \u001b[38;5;28;01mreturn\u001b[39;00m \u001b[38;5;28;43mself\u001b[39;49m\u001b[38;5;241;43m.\u001b[39;49m\u001b[43m_map_async\u001b[49m\u001b[43m(\u001b[49m\u001b[43mfunc\u001b[49m\u001b[43m,\u001b[49m\u001b[43m \u001b[49m\u001b[43miterable\u001b[49m\u001b[43m,\u001b[49m\u001b[43m \u001b[49m\u001b[43mstarmapstar\u001b[49m\u001b[43m,\u001b[49m\u001b[43m \u001b[49m\u001b[43mchunksize\u001b[49m\u001b[43m)\u001b[49m\u001b[38;5;241;43m.\u001b[39;49m\u001b[43mget\u001b[49m\u001b[43m(\u001b[49m\u001b[43m)\u001b[49m\n",
      "File \u001b[0;32m/opt/homebrew/Caskroom/miniforge/base/envs/berkeley/lib/python3.9/site-packages/multiprocess/pool.py:771\u001b[0m, in \u001b[0;36mApplyResult.get\u001b[0;34m(self, timeout)\u001b[0m\n\u001b[1;32m    769\u001b[0m     \u001b[38;5;28;01mreturn\u001b[39;00m \u001b[38;5;28mself\u001b[39m\u001b[38;5;241m.\u001b[39m_value\n\u001b[1;32m    770\u001b[0m \u001b[38;5;28;01melse\u001b[39;00m:\n\u001b[0;32m--> 771\u001b[0m     \u001b[38;5;28;01mraise\u001b[39;00m \u001b[38;5;28mself\u001b[39m\u001b[38;5;241m.\u001b[39m_value\n",
      "\u001b[0;31mTypeError\u001b[0m: get_inbound_neighbors_thread() missing 1 required positional argument: 'y'"
     ]
    }
   ],
   "source": [
    "loaded_dict = dict()\n",
    "\n",
    "if __name__ == '__main__':\n",
    "    keys = set(old_entity_pair_match_dict.keys())\n",
    "\n",
    "    graph_args = [(graph_1, graph_1_predicate_list)] * len(keys)\n",
    "\n",
    "    print(keys)\n",
    "    with Pool(processes=1) as pool:\n",
    "        results = pool.starmap(get_inbound_neighbors_thread, zip(graph_args, keys))    "
   ]
  },
  {
   "cell_type": "code",
   "execution_count": null,
   "id": "76d7865f",
   "metadata": {},
   "outputs": [],
   "source": [
    "for task in tasks:\n",
    "    result = task.get()\n",
    "    print(result)"
   ]
  },
  {
   "cell_type": "code",
   "execution_count": null,
   "id": "7050ae5c",
   "metadata": {},
   "outputs": [],
   "source": [
    "if __name__ == '__main__':\n",
    "    keys = set(old_entity_pair_match_dict.keys())\n",
    "    predicate_list = [...]  # Replace [...] with your predicate list\n",
    "    loaded_neighbors_dict = {...}  # Replace {...} with your loaded neighbors dict\n",
    "\n",
    "    with Pool(processes=4) as pool:\n",
    "        results = {key: result for key, result in zip(keys, pool.imap_unordered(get_inbound_neighbors, [(old_entity_pair_match_dict[key], predicate_list, y, loaded_neighbors_dict) for key, (y, _) in old_entity_pair_match_dict[key].items()]))}\n",
    "\n",
    "    loaded_dict.update(results)\n"
   ]
  }
 ],
 "metadata": {
  "kernelspec": {
   "display_name": "Python 3 (ipykernel)",
   "language": "python",
   "name": "python3"
  },
  "language_info": {
   "codemirror_mode": {
    "name": "ipython",
    "version": 3
   },
   "file_extension": ".py",
   "mimetype": "text/x-python",
   "name": "python",
   "nbconvert_exporter": "python",
   "pygments_lexer": "ipython3",
   "version": "3.9.13"
  }
 },
 "nbformat": 4,
 "nbformat_minor": 5
}
