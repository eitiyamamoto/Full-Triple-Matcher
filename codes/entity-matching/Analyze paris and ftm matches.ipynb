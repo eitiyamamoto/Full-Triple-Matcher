{
 "cells": [
  {
   "cell_type": "code",
   "execution_count": 2,
   "id": "23238dce",
   "metadata": {},
   "outputs": [
    {
     "name": "stderr",
     "output_type": "stream",
     "text": [
      "/var/folders/6f/k2t20zbs4db5khp6mgdq_06m0000gn/T/ipykernel_69870/2914453593.py:7: TqdmExperimentalWarning: Using `tqdm.autonotebook.tqdm` in notebook mode. Use `tqdm.tqdm` instead to force console mode (e.g. in jupyter console)\n",
      "  from tqdm.autonotebook import tqdm\n"
     ]
    }
   ],
   "source": [
    "from rdflib import Graph\n",
    "import re\n",
    "import pandas as pd\n",
    "from rdflib import Graph, URIRef, Namespace, Literal\n",
    "import numpy as np\n",
    "import matplotlib.pyplot as plt\n",
    "from tqdm.autonotebook import tqdm"
   ]
  },
  {
   "cell_type": "code",
   "execution_count": 1035,
   "id": "1869c937",
   "metadata": {},
   "outputs": [],
   "source": [
    "#baseline_df = pd.read_csv(\"/Users/yamamotobikutorueiichi/codes/full-triple-matcher/Full-Triple-Matcher/results/PARIS/ma-dbpedia-original-paris/9_eqv_full.tsv\", sep='\\t', names=['e1', 'e2', 'sim'])\n",
    "baseline_df = pd.read_csv('/Users/yamamotobikutorueiichi/codes/custom_paris/both func and func inv method/early_stop/ma-dbpedia-server/llama_added.csv')\n",
    "#baseline_df = pd.read_csv('/Users/yamamotobikutorueiichi/codes/custom_paris/knowledgegraph-alignments-4/memoryalpha-stexpanded/LogMap/systemAlignment.csv')"
   ]
  },
  {
   "cell_type": "code",
   "execution_count": 1036,
   "id": "88641b6f",
   "metadata": {},
   "outputs": [
    {
     "data": {
      "text/html": [
       "<div>\n",
       "<style scoped>\n",
       "    .dataframe tbody tr th:only-of-type {\n",
       "        vertical-align: middle;\n",
       "    }\n",
       "\n",
       "    .dataframe tbody tr th {\n",
       "        vertical-align: top;\n",
       "    }\n",
       "\n",
       "    .dataframe thead th {\n",
       "        text-align: right;\n",
       "    }\n",
       "</style>\n",
       "<table border=\"1\" class=\"dataframe\">\n",
       "  <thead>\n",
       "    <tr style=\"text-align: right;\">\n",
       "      <th></th>\n",
       "      <th>Unnamed: 0.1</th>\n",
       "      <th>e1</th>\n",
       "      <th>e2</th>\n",
       "      <th>sim</th>\n",
       "      <th>Unnamed: 0</th>\n",
       "      <th>answer</th>\n",
       "      <th>reason</th>\n",
       "    </tr>\n",
       "  </thead>\n",
       "  <tbody>\n",
       "    <tr>\n",
       "      <th>0</th>\n",
       "      <td>0</td>\n",
       "      <td>http://dbkwik.webdatacommons.org/memory-alpha.wikia.com/resource/Reykjavik</td>\n",
       "      <td>http://dbpedia.org/resource/Reykjavik</td>\n",
       "      <td>0.949768</td>\n",
       "      <td>NaN</td>\n",
       "      <td>NaN</td>\n",
       "      <td>NaN</td>\n",
       "    </tr>\n",
       "    <tr>\n",
       "      <th>1</th>\n",
       "      <td>1</td>\n",
       "      <td>http://dbkwik.webdatacommons.org/memory-alpha.wikia.com/resource/Ship</td>\n",
       "      <td>http://dbpedia.org/resource/Ship</td>\n",
       "      <td>0.950000</td>\n",
       "      <td>NaN</td>\n",
       "      <td>NaN</td>\n",
       "      <td>NaN</td>\n",
       "    </tr>\n",
       "    <tr>\n",
       "      <th>2</th>\n",
       "      <td>2</td>\n",
       "      <td>http://dbkwik.webdatacommons.org/memory-alpha.wikia.com/resource/Richard_Widmark</td>\n",
       "      <td>http://dbpedia.org/resource/Harry_Potter</td>\n",
       "      <td>0.000000</td>\n",
       "      <td>NaN</td>\n",
       "      <td>NaN</td>\n",
       "      <td>NaN</td>\n",
       "    </tr>\n",
       "    <tr>\n",
       "      <th>3</th>\n",
       "      <td>3</td>\n",
       "      <td>http://dbkwik.webdatacommons.org/memory-alpha.wikia.com/resource/French_language</td>\n",
       "      <td>http://dbpedia.org/resource/French_language</td>\n",
       "      <td>0.950000</td>\n",
       "      <td>NaN</td>\n",
       "      <td>NaN</td>\n",
       "      <td>NaN</td>\n",
       "    </tr>\n",
       "    <tr>\n",
       "      <th>4</th>\n",
       "      <td>4</td>\n",
       "      <td>http://dbkwik.webdatacommons.org/memory-alpha.wikia.com/resource/1962</td>\n",
       "      <td>http://dbpedia.org/resource/1962</td>\n",
       "      <td>0.950000</td>\n",
       "      <td>NaN</td>\n",
       "      <td>NaN</td>\n",
       "      <td>NaN</td>\n",
       "    </tr>\n",
       "    <tr>\n",
       "      <th>...</th>\n",
       "      <td>...</td>\n",
       "      <td>...</td>\n",
       "      <td>...</td>\n",
       "      <td>...</td>\n",
       "      <td>...</td>\n",
       "      <td>...</td>\n",
       "      <td>...</td>\n",
       "    </tr>\n",
       "    <tr>\n",
       "      <th>2441</th>\n",
       "      <td>1503</td>\n",
       "      <td>http://www.snopes.com/science/greatwall.asp</td>\n",
       "      <td>http://dbpedia.org/resource/Great_Wall_of_China</td>\n",
       "      <td>0.397275</td>\n",
       "      <td>16059.0</td>\n",
       "      <td>True</td>\n",
       "      <td>Both entities represent the Great Wall of China in real life.</td>\n",
       "    </tr>\n",
       "    <tr>\n",
       "      <th>2442</th>\n",
       "      <td>1504</td>\n",
       "      <td>http://www.sparknotes.com/lit/gulliver/</td>\n",
       "      <td>http://dbpedia.org/resource/Gulliver's_Travels</td>\n",
       "      <td>0.354580</td>\n",
       "      <td>16062.0</td>\n",
       "      <td>True</td>\n",
       "      <td>Both entities represent the same entity in real life, as Gulliver's Travels is a novel by Daniel Defoe and SparkNotes is a website that provides study guides for the book.</td>\n",
       "    </tr>\n",
       "    <tr>\n",
       "      <th>2443</th>\n",
       "      <td>1505</td>\n",
       "      <td>http://www.startrek.com/database_article/chosen-realm</td>\n",
       "      <td>http://dbpedia.org/resource/Chosen_Realm</td>\n",
       "      <td>0.169447</td>\n",
       "      <td>16086.0</td>\n",
       "      <td>True</td>\n",
       "      <td>Both entities represent the same entity in real life, as Chosen Realm is a location in Star Trek</td>\n",
       "    </tr>\n",
       "    <tr>\n",
       "      <th>2444</th>\n",
       "      <td>1506</td>\n",
       "      <td>http://www.tribute.ca/interviews/Alexander+Siddig/star/36924</td>\n",
       "      <td>http://dbpedia.org/resource/Alexander_Siddig</td>\n",
       "      <td>0.212236</td>\n",
       "      <td>16162.0</td>\n",
       "      <td>True</td>\n",
       "      <td>Both entities represent the same entity in real life, Alexander Siddig is a British actor and the current Doctor Who</td>\n",
       "    </tr>\n",
       "    <tr>\n",
       "      <th>2445</th>\n",
       "      <td>1507</td>\n",
       "      <td>http://www.usa-presidents.info/lincoln.htm</td>\n",
       "      <td>http://dbpedia.org/resource/Abraham_Lincoln</td>\n",
       "      <td>0.485276</td>\n",
       "      <td>16178.0</td>\n",
       "      <td>True</td>\n",
       "      <td>Both entities represent the same real-life entity, Abraham Lincoln.</td>\n",
       "    </tr>\n",
       "  </tbody>\n",
       "</table>\n",
       "<p>2446 rows × 7 columns</p>\n",
       "</div>"
      ],
      "text/plain": [
       "      Unnamed: 0.1  \\\n",
       "0                0   \n",
       "1                1   \n",
       "2                2   \n",
       "3                3   \n",
       "4                4   \n",
       "...            ...   \n",
       "2441          1503   \n",
       "2442          1504   \n",
       "2443          1505   \n",
       "2444          1506   \n",
       "2445          1507   \n",
       "\n",
       "                                                                                    e1  \\\n",
       "0           http://dbkwik.webdatacommons.org/memory-alpha.wikia.com/resource/Reykjavik   \n",
       "1                http://dbkwik.webdatacommons.org/memory-alpha.wikia.com/resource/Ship   \n",
       "2     http://dbkwik.webdatacommons.org/memory-alpha.wikia.com/resource/Richard_Widmark   \n",
       "3     http://dbkwik.webdatacommons.org/memory-alpha.wikia.com/resource/French_language   \n",
       "4                http://dbkwik.webdatacommons.org/memory-alpha.wikia.com/resource/1962   \n",
       "...                                                                                ...   \n",
       "2441                                       http://www.snopes.com/science/greatwall.asp   \n",
       "2442                                           http://www.sparknotes.com/lit/gulliver/   \n",
       "2443                             http://www.startrek.com/database_article/chosen-realm   \n",
       "2444                      http://www.tribute.ca/interviews/Alexander+Siddig/star/36924   \n",
       "2445                                        http://www.usa-presidents.info/lincoln.htm   \n",
       "\n",
       "                                                   e2       sim  Unnamed: 0  \\\n",
       "0               http://dbpedia.org/resource/Reykjavik  0.949768         NaN   \n",
       "1                    http://dbpedia.org/resource/Ship  0.950000         NaN   \n",
       "2            http://dbpedia.org/resource/Harry_Potter  0.000000         NaN   \n",
       "3         http://dbpedia.org/resource/French_language  0.950000         NaN   \n",
       "4                    http://dbpedia.org/resource/1962  0.950000         NaN   \n",
       "...                                               ...       ...         ...   \n",
       "2441  http://dbpedia.org/resource/Great_Wall_of_China  0.397275     16059.0   \n",
       "2442   http://dbpedia.org/resource/Gulliver's_Travels  0.354580     16062.0   \n",
       "2443         http://dbpedia.org/resource/Chosen_Realm  0.169447     16086.0   \n",
       "2444     http://dbpedia.org/resource/Alexander_Siddig  0.212236     16162.0   \n",
       "2445      http://dbpedia.org/resource/Abraham_Lincoln  0.485276     16178.0   \n",
       "\n",
       "     answer  \\\n",
       "0       NaN   \n",
       "1       NaN   \n",
       "2       NaN   \n",
       "3       NaN   \n",
       "4       NaN   \n",
       "...     ...   \n",
       "2441   True   \n",
       "2442   True   \n",
       "2443   True   \n",
       "2444   True   \n",
       "2445   True   \n",
       "\n",
       "                                                                                                                                                                           reason  \n",
       "0                                                                                                                                                                             NaN  \n",
       "1                                                                                                                                                                             NaN  \n",
       "2                                                                                                                                                                             NaN  \n",
       "3                                                                                                                                                                             NaN  \n",
       "4                                                                                                                                                                             NaN  \n",
       "...                                                                                                                                                                           ...  \n",
       "2441                                                                                                                Both entities represent the Great Wall of China in real life.  \n",
       "2442  Both entities represent the same entity in real life, as Gulliver's Travels is a novel by Daniel Defoe and SparkNotes is a website that provides study guides for the book.  \n",
       "2443                                                                             Both entities represent the same entity in real life, as Chosen Realm is a location in Star Trek  \n",
       "2444                                                         Both entities represent the same entity in real life, Alexander Siddig is a British actor and the current Doctor Who  \n",
       "2445                                                                                                          Both entities represent the same real-life entity, Abraham Lincoln.  \n",
       "\n",
       "[2446 rows x 7 columns]"
      ]
     },
     "execution_count": 1036,
     "metadata": {},
     "output_type": "execute_result"
    }
   ],
   "source": [
    "baseline_df"
   ]
  },
  {
   "cell_type": "code",
   "execution_count": 1037,
   "id": "4d94de12-1697-4da9-91de-95349f0858f9",
   "metadata": {},
   "outputs": [],
   "source": [
    "baseline_df['e2'] = baseline_df['e2'].str.replace(\n",
    "    'dbp:resource/', 'http://dbpedia.org/resource/')"
   ]
  },
  {
   "cell_type": "code",
   "execution_count": 1038,
   "id": "0c86d5da-1c81-4b82-968d-32bfaccaab33",
   "metadata": {},
   "outputs": [],
   "source": [
    "baseline_df['e1'] = baseline_df['e1'].str.replace(\n",
    "    'starwars./', 'starwars.wikia.com/')"
   ]
  },
  {
   "cell_type": "code",
   "execution_count": 1039,
   "id": "4105aa94-b73c-4b9d-9a3d-f3dc76898487",
   "metadata": {},
   "outputs": [],
   "source": [
    "def get_top_n(dictionary, n, reverse=True):\n",
    "    sorted_elements = sorted(dictionary.items(), key=lambda x: x[1], reverse=reverse)\n",
    "    if len(sorted_elements) < n:\n",
    "        return sorted_elements\n",
    "    n_sim = sorted_elements[n-1][1]\n",
    "    \n",
    "    top_n_list = list()\n",
    "    for element in sorted_elements:\n",
    "        e2, sim = element\n",
    "        if (reverse and sim < n_sim) or (not reverse and sim > n_sim):\n",
    "            return top_n_list\n",
    "            \n",
    "        top_n_list.append(element)\n",
    "    return top_n_list"
   ]
  },
  {
   "cell_type": "code",
   "execution_count": 1040,
   "id": "12b82314-eb48-4fde-928b-bddb92b2d815",
   "metadata": {},
   "outputs": [
    {
     "data": {
      "application/vnd.jupyter.widget-view+json": {
       "model_id": "a2a30fba49864c5181133e0c1dc9bec2",
       "version_major": 2,
       "version_minor": 0
      },
      "text/plain": [
       "  0%|          | 0/2236 [00:00<?, ?it/s]"
      ]
     },
     "metadata": {},
     "output_type": "display_data"
    }
   ],
   "source": [
    "grouped_df = baseline_df.groupby('e1')\n",
    "elem_dict = dict()\n",
    "for e1, group_indices in tqdm(grouped_df.groups.items()):\n",
    "    # Access the group corresponding to 'e1'\n",
    "    e1_group = baseline_df.loc[group_indices]\n",
    "    e1_dict = dict(zip(e1_group['e2'], e1_group['sim']))\n",
    "    elem_dict[e1] = e1_dict"
   ]
  },
  {
   "cell_type": "code",
   "execution_count": 1041,
   "id": "5ea3066f-fb28-44f7-8547-71c5defe73b3",
   "metadata": {},
   "outputs": [],
   "source": [
    "hit_at_one_dict = dict()\n",
    "one_to_one_list = list()\n",
    "for e1, e1_dict in elem_dict.items():\n",
    "    top_list = get_top_n(e1_dict, 1)\n",
    "    for e2, sim in top_list:\n",
    "        one_to_one_list.append({\n",
    "            'e1': e1,\n",
    "            'e2': e2,\n",
    "            'sim': elem_dict[e1][e2]\n",
    "        })"
   ]
  },
  {
   "cell_type": "code",
   "execution_count": 1042,
   "id": "a8e00e43-8098-4a9c-882c-247a8c601ef3",
   "metadata": {
    "scrolled": true
   },
   "outputs": [],
   "source": [
    "baseline_df = pd.DataFrame(one_to_one_list)"
   ]
  },
  {
   "cell_type": "code",
   "execution_count": 1043,
   "id": "c1eaec89",
   "metadata": {},
   "outputs": [],
   "source": [
    "#match_df = pd.read_csv('/Users/yamamotobikutorueiichi/codes/custom_paris/mal-stx-gold.csv')\n",
    "match_df = pd.read_csv('/Users/yamamotobikutorueiichi/codes/gollumn - subdataset/ma-dbpedia.csv')"
   ]
  },
  {
   "cell_type": "code",
   "execution_count": 1044,
   "id": "9a9e739b-3116-4f80-8b53-3ed66af36749",
   "metadata": {},
   "outputs": [
    {
     "data": {
      "text/html": [
       "<div>\n",
       "<style scoped>\n",
       "    .dataframe tbody tr th:only-of-type {\n",
       "        vertical-align: middle;\n",
       "    }\n",
       "\n",
       "    .dataframe tbody tr th {\n",
       "        vertical-align: top;\n",
       "    }\n",
       "\n",
       "    .dataframe thead th {\n",
       "        text-align: right;\n",
       "    }\n",
       "</style>\n",
       "<table border=\"1\" class=\"dataframe\">\n",
       "  <thead>\n",
       "    <tr style=\"text-align: right;\">\n",
       "      <th></th>\n",
       "      <th>Unnamed: 0</th>\n",
       "      <th>e1</th>\n",
       "      <th>e2</th>\n",
       "    </tr>\n",
       "  </thead>\n",
       "  <tbody>\n",
       "    <tr>\n",
       "      <th>0</th>\n",
       "      <td>0</td>\n",
       "      <td>http://dbkwik.webdatacommons.org/memory-alpha.wikia.com/resource/Vulcan_nerve_pinch</td>\n",
       "      <td>http://dbpedia.org/resource/Vulcan_nerve_pinch</td>\n",
       "    </tr>\n",
       "    <tr>\n",
       "      <th>1</th>\n",
       "      <td>1</td>\n",
       "      <td>http://dbkwik.webdatacommons.org/memory-alpha.wikia.com/resource/Obsession_(episode)</td>\n",
       "      <td>http://dbpedia.org/resource/Obsession_(Star_Trek:_The_Original_Series)</td>\n",
       "    </tr>\n",
       "    <tr>\n",
       "      <th>2</th>\n",
       "      <td>2</td>\n",
       "      <td>http://dbkwik.webdatacommons.org/memory-alpha.wikia.com/resource/Broken_Bow</td>\n",
       "      <td>http://dbpedia.org/resource/Broken_Bow,_Oklahoma</td>\n",
       "    </tr>\n",
       "    <tr>\n",
       "      <th>3</th>\n",
       "      <td>3</td>\n",
       "      <td>http://dbkwik.webdatacommons.org/memory-alpha.wikia.com/resource/Boston</td>\n",
       "      <td>http://dbpedia.org/resource/Boston</td>\n",
       "    </tr>\n",
       "    <tr>\n",
       "      <th>4</th>\n",
       "      <td>4</td>\n",
       "      <td>http://dbkwik.webdatacommons.org/memory-alpha.wikia.com/resource/Nemesis_(episode)</td>\n",
       "      <td>http://dbpedia.org/resource/Nemesis_(Star_Trek:_Voyager)</td>\n",
       "    </tr>\n",
       "    <tr>\n",
       "      <th>...</th>\n",
       "      <td>...</td>\n",
       "      <td>...</td>\n",
       "      <td>...</td>\n",
       "    </tr>\n",
       "    <tr>\n",
       "      <th>2173</th>\n",
       "      <td>2173</td>\n",
       "      <td>http://dbkwik.webdatacommons.org/memory-alpha.wikia.com/resource/Paris</td>\n",
       "      <td>http://dbpedia.org/resource/Paris</td>\n",
       "    </tr>\n",
       "    <tr>\n",
       "      <th>2174</th>\n",
       "      <td>2174</td>\n",
       "      <td>http://dbkwik.webdatacommons.org/memory-alpha.wikia.com/resource/Colm_Meaney</td>\n",
       "      <td>http://dbpedia.org/resource/Colm_Meaney</td>\n",
       "    </tr>\n",
       "    <tr>\n",
       "      <th>2175</th>\n",
       "      <td>2175</td>\n",
       "      <td>http://dbkwik.webdatacommons.org/memory-alpha.wikia.com/resource/2025</td>\n",
       "      <td>http://dbpedia.org/resource/2025</td>\n",
       "    </tr>\n",
       "    <tr>\n",
       "      <th>2176</th>\n",
       "      <td>2176</td>\n",
       "      <td>http://dbkwik.webdatacommons.org/memory-alpha.wikia.com/resource/Dennis_Madalone</td>\n",
       "      <td>http://dbpedia.org/resource/Dennis_Madalone</td>\n",
       "    </tr>\n",
       "    <tr>\n",
       "      <th>2177</th>\n",
       "      <td>2177</td>\n",
       "      <td>http://dbkwik.webdatacommons.org/memory-alpha.wikia.com/resource/French_language</td>\n",
       "      <td>http://dbpedia.org/resource/French_language</td>\n",
       "    </tr>\n",
       "  </tbody>\n",
       "</table>\n",
       "<p>2178 rows × 3 columns</p>\n",
       "</div>"
      ],
      "text/plain": [
       "      Unnamed: 0  \\\n",
       "0              0   \n",
       "1              1   \n",
       "2              2   \n",
       "3              3   \n",
       "4              4   \n",
       "...          ...   \n",
       "2173        2173   \n",
       "2174        2174   \n",
       "2175        2175   \n",
       "2176        2176   \n",
       "2177        2177   \n",
       "\n",
       "                                                                                        e1  \\\n",
       "0      http://dbkwik.webdatacommons.org/memory-alpha.wikia.com/resource/Vulcan_nerve_pinch   \n",
       "1     http://dbkwik.webdatacommons.org/memory-alpha.wikia.com/resource/Obsession_(episode)   \n",
       "2              http://dbkwik.webdatacommons.org/memory-alpha.wikia.com/resource/Broken_Bow   \n",
       "3                  http://dbkwik.webdatacommons.org/memory-alpha.wikia.com/resource/Boston   \n",
       "4       http://dbkwik.webdatacommons.org/memory-alpha.wikia.com/resource/Nemesis_(episode)   \n",
       "...                                                                                    ...   \n",
       "2173                http://dbkwik.webdatacommons.org/memory-alpha.wikia.com/resource/Paris   \n",
       "2174          http://dbkwik.webdatacommons.org/memory-alpha.wikia.com/resource/Colm_Meaney   \n",
       "2175                 http://dbkwik.webdatacommons.org/memory-alpha.wikia.com/resource/2025   \n",
       "2176      http://dbkwik.webdatacommons.org/memory-alpha.wikia.com/resource/Dennis_Madalone   \n",
       "2177      http://dbkwik.webdatacommons.org/memory-alpha.wikia.com/resource/French_language   \n",
       "\n",
       "                                                                          e2  \n",
       "0                             http://dbpedia.org/resource/Vulcan_nerve_pinch  \n",
       "1     http://dbpedia.org/resource/Obsession_(Star_Trek:_The_Original_Series)  \n",
       "2                           http://dbpedia.org/resource/Broken_Bow,_Oklahoma  \n",
       "3                                         http://dbpedia.org/resource/Boston  \n",
       "4                   http://dbpedia.org/resource/Nemesis_(Star_Trek:_Voyager)  \n",
       "...                                                                      ...  \n",
       "2173                                       http://dbpedia.org/resource/Paris  \n",
       "2174                                 http://dbpedia.org/resource/Colm_Meaney  \n",
       "2175                                        http://dbpedia.org/resource/2025  \n",
       "2176                             http://dbpedia.org/resource/Dennis_Madalone  \n",
       "2177                             http://dbpedia.org/resource/French_language  \n",
       "\n",
       "[2178 rows x 3 columns]"
      ]
     },
     "execution_count": 1044,
     "metadata": {},
     "output_type": "execute_result"
    }
   ],
   "source": [
    "match_df"
   ]
  },
  {
   "cell_type": "code",
   "execution_count": 1045,
   "id": "ce1a7f73-d703-4fa2-80af-378213e2ec22",
   "metadata": {},
   "outputs": [],
   "source": [
    "#match_df['e1'] = match_df['e1'].str.replace('starwars.wikia.com', 'starwars.')"
   ]
  },
  {
   "cell_type": "code",
   "execution_count": 1046,
   "id": "ce03189b-e6cd-4adf-bc73-351444294f3f",
   "metadata": {},
   "outputs": [],
   "source": [
    "match_df = match_df[match_df['e1'].str.contains('/resource/') & match_df['e2'].str.contains('/resource/')]"
   ]
  },
  {
   "cell_type": "code",
   "execution_count": 1047,
   "id": "9078976a-04db-4f93-99e2-e8e6196eb086",
   "metadata": {},
   "outputs": [],
   "source": [
    "match_df = match_df[['e1', 'e2']]"
   ]
  },
  {
   "cell_type": "code",
   "execution_count": 1048,
   "id": "e86a0afc-b2b2-48ba-b9d6-3c306f09d1ec",
   "metadata": {},
   "outputs": [
    {
     "data": {
      "text/html": [
       "<div>\n",
       "<style scoped>\n",
       "    .dataframe tbody tr th:only-of-type {\n",
       "        vertical-align: middle;\n",
       "    }\n",
       "\n",
       "    .dataframe tbody tr th {\n",
       "        vertical-align: top;\n",
       "    }\n",
       "\n",
       "    .dataframe thead th {\n",
       "        text-align: right;\n",
       "    }\n",
       "</style>\n",
       "<table border=\"1\" class=\"dataframe\">\n",
       "  <thead>\n",
       "    <tr style=\"text-align: right;\">\n",
       "      <th></th>\n",
       "      <th>e1</th>\n",
       "      <th>e2</th>\n",
       "    </tr>\n",
       "  </thead>\n",
       "  <tbody>\n",
       "    <tr>\n",
       "      <th>0</th>\n",
       "      <td>http://dbkwik.webdatacommons.org/memory-alpha.wikia.com/resource/Vulcan_nerve_pinch</td>\n",
       "      <td>http://dbpedia.org/resource/Vulcan_nerve_pinch</td>\n",
       "    </tr>\n",
       "    <tr>\n",
       "      <th>1</th>\n",
       "      <td>http://dbkwik.webdatacommons.org/memory-alpha.wikia.com/resource/Obsession_(episode)</td>\n",
       "      <td>http://dbpedia.org/resource/Obsession_(Star_Trek:_The_Original_Series)</td>\n",
       "    </tr>\n",
       "    <tr>\n",
       "      <th>2</th>\n",
       "      <td>http://dbkwik.webdatacommons.org/memory-alpha.wikia.com/resource/Broken_Bow</td>\n",
       "      <td>http://dbpedia.org/resource/Broken_Bow,_Oklahoma</td>\n",
       "    </tr>\n",
       "    <tr>\n",
       "      <th>3</th>\n",
       "      <td>http://dbkwik.webdatacommons.org/memory-alpha.wikia.com/resource/Boston</td>\n",
       "      <td>http://dbpedia.org/resource/Boston</td>\n",
       "    </tr>\n",
       "    <tr>\n",
       "      <th>4</th>\n",
       "      <td>http://dbkwik.webdatacommons.org/memory-alpha.wikia.com/resource/Nemesis_(episode)</td>\n",
       "      <td>http://dbpedia.org/resource/Nemesis_(Star_Trek:_Voyager)</td>\n",
       "    </tr>\n",
       "    <tr>\n",
       "      <th>...</th>\n",
       "      <td>...</td>\n",
       "      <td>...</td>\n",
       "    </tr>\n",
       "    <tr>\n",
       "      <th>2173</th>\n",
       "      <td>http://dbkwik.webdatacommons.org/memory-alpha.wikia.com/resource/Paris</td>\n",
       "      <td>http://dbpedia.org/resource/Paris</td>\n",
       "    </tr>\n",
       "    <tr>\n",
       "      <th>2174</th>\n",
       "      <td>http://dbkwik.webdatacommons.org/memory-alpha.wikia.com/resource/Colm_Meaney</td>\n",
       "      <td>http://dbpedia.org/resource/Colm_Meaney</td>\n",
       "    </tr>\n",
       "    <tr>\n",
       "      <th>2175</th>\n",
       "      <td>http://dbkwik.webdatacommons.org/memory-alpha.wikia.com/resource/2025</td>\n",
       "      <td>http://dbpedia.org/resource/2025</td>\n",
       "    </tr>\n",
       "    <tr>\n",
       "      <th>2176</th>\n",
       "      <td>http://dbkwik.webdatacommons.org/memory-alpha.wikia.com/resource/Dennis_Madalone</td>\n",
       "      <td>http://dbpedia.org/resource/Dennis_Madalone</td>\n",
       "    </tr>\n",
       "    <tr>\n",
       "      <th>2177</th>\n",
       "      <td>http://dbkwik.webdatacommons.org/memory-alpha.wikia.com/resource/French_language</td>\n",
       "      <td>http://dbpedia.org/resource/French_language</td>\n",
       "    </tr>\n",
       "  </tbody>\n",
       "</table>\n",
       "<p>2178 rows × 2 columns</p>\n",
       "</div>"
      ],
      "text/plain": [
       "                                                                                        e1  \\\n",
       "0      http://dbkwik.webdatacommons.org/memory-alpha.wikia.com/resource/Vulcan_nerve_pinch   \n",
       "1     http://dbkwik.webdatacommons.org/memory-alpha.wikia.com/resource/Obsession_(episode)   \n",
       "2              http://dbkwik.webdatacommons.org/memory-alpha.wikia.com/resource/Broken_Bow   \n",
       "3                  http://dbkwik.webdatacommons.org/memory-alpha.wikia.com/resource/Boston   \n",
       "4       http://dbkwik.webdatacommons.org/memory-alpha.wikia.com/resource/Nemesis_(episode)   \n",
       "...                                                                                    ...   \n",
       "2173                http://dbkwik.webdatacommons.org/memory-alpha.wikia.com/resource/Paris   \n",
       "2174          http://dbkwik.webdatacommons.org/memory-alpha.wikia.com/resource/Colm_Meaney   \n",
       "2175                 http://dbkwik.webdatacommons.org/memory-alpha.wikia.com/resource/2025   \n",
       "2176      http://dbkwik.webdatacommons.org/memory-alpha.wikia.com/resource/Dennis_Madalone   \n",
       "2177      http://dbkwik.webdatacommons.org/memory-alpha.wikia.com/resource/French_language   \n",
       "\n",
       "                                                                          e2  \n",
       "0                             http://dbpedia.org/resource/Vulcan_nerve_pinch  \n",
       "1     http://dbpedia.org/resource/Obsession_(Star_Trek:_The_Original_Series)  \n",
       "2                           http://dbpedia.org/resource/Broken_Bow,_Oklahoma  \n",
       "3                                         http://dbpedia.org/resource/Boston  \n",
       "4                   http://dbpedia.org/resource/Nemesis_(Star_Trek:_Voyager)  \n",
       "...                                                                      ...  \n",
       "2173                                       http://dbpedia.org/resource/Paris  \n",
       "2174                                 http://dbpedia.org/resource/Colm_Meaney  \n",
       "2175                                        http://dbpedia.org/resource/2025  \n",
       "2176                             http://dbpedia.org/resource/Dennis_Madalone  \n",
       "2177                             http://dbpedia.org/resource/French_language  \n",
       "\n",
       "[2178 rows x 2 columns]"
      ]
     },
     "execution_count": 1048,
     "metadata": {},
     "output_type": "execute_result"
    }
   ],
   "source": [
    "match_df"
   ]
  },
  {
   "cell_type": "code",
   "execution_count": 1049,
   "id": "73c1535d",
   "metadata": {},
   "outputs": [],
   "source": [
    "result_df = pd.merge(baseline_df, match_df, left_on=['e1', 'e2'], right_on=['e1', 'e2'])"
   ]
  },
  {
   "cell_type": "code",
   "execution_count": 1050,
   "id": "371bbc33-a46d-4b3e-a180-ca9602da67cb",
   "metadata": {},
   "outputs": [
    {
     "data": {
      "text/html": [
       "<div>\n",
       "<style scoped>\n",
       "    .dataframe tbody tr th:only-of-type {\n",
       "        vertical-align: middle;\n",
       "    }\n",
       "\n",
       "    .dataframe tbody tr th {\n",
       "        vertical-align: top;\n",
       "    }\n",
       "\n",
       "    .dataframe thead th {\n",
       "        text-align: right;\n",
       "    }\n",
       "</style>\n",
       "<table border=\"1\" class=\"dataframe\">\n",
       "  <thead>\n",
       "    <tr style=\"text-align: right;\">\n",
       "      <th></th>\n",
       "      <th>e1</th>\n",
       "      <th>e2</th>\n",
       "      <th>sim</th>\n",
       "    </tr>\n",
       "  </thead>\n",
       "  <tbody>\n",
       "    <tr>\n",
       "      <th>0</th>\n",
       "      <td>http://dbkwik.webdatacommons.org/memory-alpha.wikia.com/resource/12th_century</td>\n",
       "      <td>http://dbpedia.org/resource/12th_century</td>\n",
       "      <td>0.95</td>\n",
       "    </tr>\n",
       "    <tr>\n",
       "      <th>1</th>\n",
       "      <td>http://dbkwik.webdatacommons.org/memory-alpha.wikia.com/resource/18th_century</td>\n",
       "      <td>http://dbpedia.org/resource/18th_century</td>\n",
       "      <td>0.95</td>\n",
       "    </tr>\n",
       "    <tr>\n",
       "      <th>2</th>\n",
       "      <td>http://dbkwik.webdatacommons.org/memory-alpha.wikia.com/resource/1900</td>\n",
       "      <td>http://dbpedia.org/resource/1900</td>\n",
       "      <td>0.95</td>\n",
       "    </tr>\n",
       "    <tr>\n",
       "      <th>3</th>\n",
       "      <td>http://dbkwik.webdatacommons.org/memory-alpha.wikia.com/resource/1902</td>\n",
       "      <td>http://dbpedia.org/resource/1902</td>\n",
       "      <td>0.95</td>\n",
       "    </tr>\n",
       "    <tr>\n",
       "      <th>4</th>\n",
       "      <td>http://dbkwik.webdatacommons.org/memory-alpha.wikia.com/resource/1904</td>\n",
       "      <td>http://dbpedia.org/resource/1904</td>\n",
       "      <td>0.95</td>\n",
       "    </tr>\n",
       "    <tr>\n",
       "      <th>...</th>\n",
       "      <td>...</td>\n",
       "      <td>...</td>\n",
       "      <td>...</td>\n",
       "    </tr>\n",
       "    <tr>\n",
       "      <th>1178</th>\n",
       "      <td>http://dbkwik.webdatacommons.org/memory-alpha.wikia.com/resource/Zander_Cannon</td>\n",
       "      <td>http://dbpedia.org/resource/Zander_Cannon</td>\n",
       "      <td>0.95</td>\n",
       "    </tr>\n",
       "    <tr>\n",
       "      <th>1179</th>\n",
       "      <td>http://dbkwik.webdatacommons.org/memory-alpha.wikia.com/resource/Zefram_Cochrane</td>\n",
       "      <td>http://dbpedia.org/resource/Zefram_Cochrane</td>\n",
       "      <td>0.95</td>\n",
       "    </tr>\n",
       "    <tr>\n",
       "      <th>1180</th>\n",
       "      <td>http://dbkwik.webdatacommons.org/memory-alpha.wikia.com/resource/Zeus</td>\n",
       "      <td>http://dbpedia.org/resource/Zeus</td>\n",
       "      <td>0.95</td>\n",
       "    </tr>\n",
       "    <tr>\n",
       "      <th>1181</th>\n",
       "      <td>http://dbkwik.webdatacommons.org/memory-alpha.wikia.com/resource/Zora_Neale_Hurston</td>\n",
       "      <td>http://dbpedia.org/resource/Zora_Neale_Hurston</td>\n",
       "      <td>0.95</td>\n",
       "    </tr>\n",
       "    <tr>\n",
       "      <th>1182</th>\n",
       "      <td>http://dbkwik.webdatacommons.org/memory-alpha.wikia.com/resource/Zygomatic_bone</td>\n",
       "      <td>http://dbpedia.org/resource/Zygomatic_bone</td>\n",
       "      <td>0.95</td>\n",
       "    </tr>\n",
       "  </tbody>\n",
       "</table>\n",
       "<p>1183 rows × 3 columns</p>\n",
       "</div>"
      ],
      "text/plain": [
       "                                                                                       e1  \\\n",
       "0           http://dbkwik.webdatacommons.org/memory-alpha.wikia.com/resource/12th_century   \n",
       "1           http://dbkwik.webdatacommons.org/memory-alpha.wikia.com/resource/18th_century   \n",
       "2                   http://dbkwik.webdatacommons.org/memory-alpha.wikia.com/resource/1900   \n",
       "3                   http://dbkwik.webdatacommons.org/memory-alpha.wikia.com/resource/1902   \n",
       "4                   http://dbkwik.webdatacommons.org/memory-alpha.wikia.com/resource/1904   \n",
       "...                                                                                   ...   \n",
       "1178       http://dbkwik.webdatacommons.org/memory-alpha.wikia.com/resource/Zander_Cannon   \n",
       "1179     http://dbkwik.webdatacommons.org/memory-alpha.wikia.com/resource/Zefram_Cochrane   \n",
       "1180                http://dbkwik.webdatacommons.org/memory-alpha.wikia.com/resource/Zeus   \n",
       "1181  http://dbkwik.webdatacommons.org/memory-alpha.wikia.com/resource/Zora_Neale_Hurston   \n",
       "1182      http://dbkwik.webdatacommons.org/memory-alpha.wikia.com/resource/Zygomatic_bone   \n",
       "\n",
       "                                                  e2   sim  \n",
       "0           http://dbpedia.org/resource/12th_century  0.95  \n",
       "1           http://dbpedia.org/resource/18th_century  0.95  \n",
       "2                   http://dbpedia.org/resource/1900  0.95  \n",
       "3                   http://dbpedia.org/resource/1902  0.95  \n",
       "4                   http://dbpedia.org/resource/1904  0.95  \n",
       "...                                              ...   ...  \n",
       "1178       http://dbpedia.org/resource/Zander_Cannon  0.95  \n",
       "1179     http://dbpedia.org/resource/Zefram_Cochrane  0.95  \n",
       "1180                http://dbpedia.org/resource/Zeus  0.95  \n",
       "1181  http://dbpedia.org/resource/Zora_Neale_Hurston  0.95  \n",
       "1182      http://dbpedia.org/resource/Zygomatic_bone  0.95  \n",
       "\n",
       "[1183 rows x 3 columns]"
      ]
     },
     "execution_count": 1050,
     "metadata": {},
     "output_type": "execute_result"
    }
   ],
   "source": [
    "result_df"
   ]
  },
  {
   "cell_type": "code",
   "execution_count": 1051,
   "id": "a864fd82",
   "metadata": {},
   "outputs": [
    {
     "data": {
      "application/vnd.jupyter.widget-view+json": {
       "model_id": "ad4523ef7ece40cd933e8a8fb92ed826",
       "version_major": 2,
       "version_minor": 0
      },
      "text/plain": [
       "  0%|          | 0/2446 [00:00<?, ?it/s]"
      ]
     },
     "metadata": {},
     "output_type": "display_data"
    }
   ],
   "source": [
    "for index, row in tqdm(baseline_df.iterrows(), total=len(baseline_df)):\n",
    "    e1 = row['e1']\n",
    "    e2 = row['e2']\n",
    "    \n",
    "    if ((result_df['e1'] == e1) & (result_df['e2'] == e2)).any():\n",
    "        baseline_df.at[index, 'Predicted'] = True\n",
    "    else:\n",
    "        baseline_df.at[index, 'Predicted'] = False"
   ]
  },
  {
   "cell_type": "code",
   "execution_count": 1052,
   "id": "5c1c4c1d",
   "metadata": {},
   "outputs": [
    {
     "data": {
      "text/html": [
       "<div>\n",
       "<style scoped>\n",
       "    .dataframe tbody tr th:only-of-type {\n",
       "        vertical-align: middle;\n",
       "    }\n",
       "\n",
       "    .dataframe tbody tr th {\n",
       "        vertical-align: top;\n",
       "    }\n",
       "\n",
       "    .dataframe thead th {\n",
       "        text-align: right;\n",
       "    }\n",
       "</style>\n",
       "<table border=\"1\" class=\"dataframe\">\n",
       "  <thead>\n",
       "    <tr style=\"text-align: right;\">\n",
       "      <th></th>\n",
       "      <th>e1</th>\n",
       "      <th>e2</th>\n",
       "      <th>sim</th>\n",
       "      <th>Predicted</th>\n",
       "    </tr>\n",
       "  </thead>\n",
       "  <tbody>\n",
       "    <tr>\n",
       "      <th>0</th>\n",
       "      <td>http://dbkwik.webdatacommons.org/memory-alpha.wikia.com/property/director</td>\n",
       "      <td>http://dbpedia.org/resource/Director</td>\n",
       "      <td>0.900000</td>\n",
       "      <td>False</td>\n",
       "    </tr>\n",
       "    <tr>\n",
       "      <th>1</th>\n",
       "      <td>http://dbkwik.webdatacommons.org/memory-alpha.wikia.com/resource/11001001_(episode)</td>\n",
       "      <td>http://dbpedia.org/resource/11001001_(Star_Trek:_The_Next_Generation)</td>\n",
       "      <td>0.900000</td>\n",
       "      <td>False</td>\n",
       "    </tr>\n",
       "    <tr>\n",
       "      <th>2</th>\n",
       "      <td>http://dbkwik.webdatacommons.org/memory-alpha.wikia.com/resource/12th_century</td>\n",
       "      <td>http://dbpedia.org/resource/12th_century</td>\n",
       "      <td>0.950000</td>\n",
       "      <td>True</td>\n",
       "    </tr>\n",
       "    <tr>\n",
       "      <th>3</th>\n",
       "      <td>http://dbkwik.webdatacommons.org/memory-alpha.wikia.com/resource/18th_century</td>\n",
       "      <td>http://dbpedia.org/resource/18th_century</td>\n",
       "      <td>0.950000</td>\n",
       "      <td>True</td>\n",
       "    </tr>\n",
       "    <tr>\n",
       "      <th>4</th>\n",
       "      <td>http://dbkwik.webdatacommons.org/memory-alpha.wikia.com/resource/1900</td>\n",
       "      <td>http://dbpedia.org/resource/1900</td>\n",
       "      <td>0.950000</td>\n",
       "      <td>True</td>\n",
       "    </tr>\n",
       "    <tr>\n",
       "      <th>...</th>\n",
       "      <td>...</td>\n",
       "      <td>...</td>\n",
       "      <td>...</td>\n",
       "      <td>...</td>\n",
       "    </tr>\n",
       "    <tr>\n",
       "      <th>2441</th>\n",
       "      <td>http://www.snopes.com/science/greatwall.asp</td>\n",
       "      <td>http://dbpedia.org/resource/Great_Wall_of_China</td>\n",
       "      <td>0.397275</td>\n",
       "      <td>False</td>\n",
       "    </tr>\n",
       "    <tr>\n",
       "      <th>2442</th>\n",
       "      <td>http://www.sparknotes.com/lit/gulliver/</td>\n",
       "      <td>http://dbpedia.org/resource/Gulliver's_Travels</td>\n",
       "      <td>0.354580</td>\n",
       "      <td>False</td>\n",
       "    </tr>\n",
       "    <tr>\n",
       "      <th>2443</th>\n",
       "      <td>http://www.startrek.com/database_article/chosen-realm</td>\n",
       "      <td>http://dbpedia.org/resource/Chosen_Realm</td>\n",
       "      <td>0.169447</td>\n",
       "      <td>False</td>\n",
       "    </tr>\n",
       "    <tr>\n",
       "      <th>2444</th>\n",
       "      <td>http://www.tribute.ca/interviews/Alexander+Siddig/star/36924</td>\n",
       "      <td>http://dbpedia.org/resource/Alexander_Siddig</td>\n",
       "      <td>0.212236</td>\n",
       "      <td>False</td>\n",
       "    </tr>\n",
       "    <tr>\n",
       "      <th>2445</th>\n",
       "      <td>http://www.usa-presidents.info/lincoln.htm</td>\n",
       "      <td>http://dbpedia.org/resource/Abraham_Lincoln</td>\n",
       "      <td>0.485276</td>\n",
       "      <td>False</td>\n",
       "    </tr>\n",
       "  </tbody>\n",
       "</table>\n",
       "<p>2446 rows × 4 columns</p>\n",
       "</div>"
      ],
      "text/plain": [
       "                                                                                       e1  \\\n",
       "0               http://dbkwik.webdatacommons.org/memory-alpha.wikia.com/property/director   \n",
       "1     http://dbkwik.webdatacommons.org/memory-alpha.wikia.com/resource/11001001_(episode)   \n",
       "2           http://dbkwik.webdatacommons.org/memory-alpha.wikia.com/resource/12th_century   \n",
       "3           http://dbkwik.webdatacommons.org/memory-alpha.wikia.com/resource/18th_century   \n",
       "4                   http://dbkwik.webdatacommons.org/memory-alpha.wikia.com/resource/1900   \n",
       "...                                                                                   ...   \n",
       "2441                                          http://www.snopes.com/science/greatwall.asp   \n",
       "2442                                              http://www.sparknotes.com/lit/gulliver/   \n",
       "2443                                http://www.startrek.com/database_article/chosen-realm   \n",
       "2444                         http://www.tribute.ca/interviews/Alexander+Siddig/star/36924   \n",
       "2445                                           http://www.usa-presidents.info/lincoln.htm   \n",
       "\n",
       "                                                                         e2  \\\n",
       "0                                      http://dbpedia.org/resource/Director   \n",
       "1     http://dbpedia.org/resource/11001001_(Star_Trek:_The_Next_Generation)   \n",
       "2                                  http://dbpedia.org/resource/12th_century   \n",
       "3                                  http://dbpedia.org/resource/18th_century   \n",
       "4                                          http://dbpedia.org/resource/1900   \n",
       "...                                                                     ...   \n",
       "2441                        http://dbpedia.org/resource/Great_Wall_of_China   \n",
       "2442                         http://dbpedia.org/resource/Gulliver's_Travels   \n",
       "2443                               http://dbpedia.org/resource/Chosen_Realm   \n",
       "2444                           http://dbpedia.org/resource/Alexander_Siddig   \n",
       "2445                            http://dbpedia.org/resource/Abraham_Lincoln   \n",
       "\n",
       "           sim Predicted  \n",
       "0     0.900000     False  \n",
       "1     0.900000     False  \n",
       "2     0.950000      True  \n",
       "3     0.950000      True  \n",
       "4     0.950000      True  \n",
       "...        ...       ...  \n",
       "2441  0.397275     False  \n",
       "2442  0.354580     False  \n",
       "2443  0.169447     False  \n",
       "2444  0.212236     False  \n",
       "2445  0.485276     False  \n",
       "\n",
       "[2446 rows x 4 columns]"
      ]
     },
     "execution_count": 1052,
     "metadata": {},
     "output_type": "execute_result"
    }
   ],
   "source": [
    "baseline_df"
   ]
  },
  {
   "cell_type": "code",
   "execution_count": 1053,
   "id": "9786a37b",
   "metadata": {},
   "outputs": [
    {
     "data": {
      "application/vnd.jupyter.widget-view+json": {
       "model_id": "fa69f8a9ae134685bae728d78ea39c93",
       "version_major": 2,
       "version_minor": 0
      },
      "text/plain": [
       "  0%|          | 0/2446 [00:00<?, ?it/s]"
      ]
     },
     "metadata": {},
     "output_type": "display_data"
    }
   ],
   "source": [
    "for index, row in tqdm(baseline_df.iterrows(), total=len(baseline_df)):\n",
    "    e1 = row['e1']\n",
    "    e2 = row['e2']\n",
    "    \n",
    "    if ((match_df['e1'] == e1) | (match_df['e2'] == e2)).any():\n",
    "        baseline_df.at[index, 'Analyzed'] = True\n",
    "    else:\n",
    "        baseline_df.at[index, 'Analyzed'] = False"
   ]
  },
  {
   "cell_type": "code",
   "execution_count": 1054,
   "id": "a85cc3dc",
   "metadata": {},
   "outputs": [],
   "source": [
    "pd.set_option('display.max_colwidth', None)\n"
   ]
  },
  {
   "cell_type": "code",
   "execution_count": 1055,
   "id": "bb51d0be",
   "metadata": {},
   "outputs": [],
   "source": [
    "analyzed_baseline_df = baseline_df[baseline_df['Analyzed'] == True]"
   ]
  },
  {
   "cell_type": "code",
   "execution_count": 1056,
   "id": "6420c2bc",
   "metadata": {},
   "outputs": [
    {
     "data": {
      "text/plain": [
       "2446"
      ]
     },
     "execution_count": 1056,
     "metadata": {},
     "output_type": "execute_result"
    }
   ],
   "source": [
    "len(analyzed_baseline_df)"
   ]
  },
  {
   "cell_type": "code",
   "execution_count": 1057,
   "id": "8d330557",
   "metadata": {},
   "outputs": [
    {
     "data": {
      "text/plain": [
       "1183"
      ]
     },
     "execution_count": 1057,
     "metadata": {},
     "output_type": "execute_result"
    }
   ],
   "source": [
    "len(analyzed_baseline_df[analyzed_baseline_df['Predicted'] == True])"
   ]
  },
  {
   "cell_type": "code",
   "execution_count": 1058,
   "id": "ee097613-8cfe-4346-865a-fe0c811d3fde",
   "metadata": {},
   "outputs": [
    {
     "data": {
      "text/plain": [
       "0.4836467702371218"
      ]
     },
     "execution_count": 1058,
     "metadata": {},
     "output_type": "execute_result"
    }
   ],
   "source": [
    "precision = len(analyzed_baseline_df[analyzed_baseline_df['Predicted'] == True]) / len(analyzed_baseline_df)\n",
    "precision"
   ]
  },
  {
   "cell_type": "code",
   "execution_count": 1059,
   "id": "1f46ae99-f1fd-4c08-9ac8-68bc87a14bda",
   "metadata": {},
   "outputs": [
    {
     "data": {
      "text/plain": [
       "0.5431588613406795"
      ]
     },
     "execution_count": 1059,
     "metadata": {},
     "output_type": "execute_result"
    }
   ],
   "source": [
    "recall = len(analyzed_baseline_df[analyzed_baseline_df['Predicted'] == True]) / len(match_df)\n",
    "recall"
   ]
  },
  {
   "cell_type": "code",
   "execution_count": 1060,
   "id": "8e83859a-2c1c-46bb-bd2d-13afbbffb2a9",
   "metadata": {},
   "outputs": [
    {
     "data": {
      "text/plain": [
       "0.5116782006920415"
      ]
     },
     "execution_count": 1060,
     "metadata": {},
     "output_type": "execute_result"
    }
   ],
   "source": [
    "f_measure = 2 * (precision * recall) / (precision + recall)\n",
    "f_measure"
   ]
  },
  {
   "cell_type": "code",
   "execution_count": 1061,
   "id": "29cf0d57",
   "metadata": {},
   "outputs": [],
   "source": [
    "def precision_score(df, threshold):\n",
    "    threshold_df = df[df['sim'] > threshold]\n",
    "    \n",
    "    matches = len(threshold_df)\n",
    "    \n",
    "    if matches == 0:\n",
    "        return 0\n",
    "    \n",
    "    correct_matches_df = pd.merge(threshold_df, match_df, left_on=['e1', 'e2'], right_on=['e1', 'e2'])\n",
    "    \n",
    "    correct_matches = len(threshold_df[threshold_df['Predicted'] == True])\n",
    "    \n",
    "    return correct_matches / matches "
   ]
  },
  {
   "cell_type": "code",
   "execution_count": 1062,
   "id": "c54f9030",
   "metadata": {},
   "outputs": [],
   "source": [
    "def recall_score(df, total_correct, threshold):\n",
    "    threshold_df = df[df['sim'] > threshold]\n",
    "    \n",
    "    correct_matches = len(threshold_df[threshold_df['Predicted'] == True])\n",
    "    \n",
    "    return correct_matches / total_correct"
   ]
  },
  {
   "cell_type": "code",
   "execution_count": 1063,
   "id": "27934936",
   "metadata": {},
   "outputs": [
    {
     "data": {
      "image/png": "[encoded data removed]",
      "text/plain": [
       "<Figure size 640x480 with 1 Axes>"
      ]
     },
     "metadata": {},
     "output_type": "display_data"
    }
   ],
   "source": [
    "thresholds = np.arange(0, 1.01, 0.01)\n",
    "\n",
    "total_correct = len(match_df)\n",
    "\n",
    "precisions = [precision_score(analyzed_baseline_df, t) for t in thresholds]\n",
    "recalls = [recall_score(analyzed_baseline_df, total_correct, t) for t in thresholds]\n",
    "f_measures = []\n",
    "for precision, recall in zip(precisions, recalls):\n",
    "    f_measure = 0\n",
    "    if precision + recall > 0:\n",
    "        f_measure = 2 * (precision * recall) / (precision + recall)\n",
    "    f_measures.append(f_measure)\n",
    "    \n",
    "# Plot precision, recall, and F-measure\n",
    "plt.plot(thresholds, precisions, label='Precision')\n",
    "plt.plot(thresholds, recalls, label='Recall')\n",
    "plt.plot(thresholds, f_measures, label='F-measure')\n",
    "\n",
    "# Add labels and legend\n",
    "plt.xlabel('Threshold')\n",
    "plt.ylabel('Score')\n",
    "plt.legend()\n",
    "\n",
    "# Display the graph\n",
    "plt.show()"
   ]
  },
  {
   "cell_type": "code",
   "execution_count": 1064,
   "id": "016a7a64",
   "metadata": {},
   "outputs": [
    {
     "name": "stdout",
     "output_type": "stream",
     "text": [
      "Related Precision: 0.5865979381443299\n",
      "Related Recall: 0.5224977043158862\n",
      "Max F-measure: 0.5526954832442934\n",
      "Related threshold: 0.9\n"
     ]
    }
   ],
   "source": [
    "max_index = f_measures.index(max(f_measures))\n",
    "\n",
    "# Get the corresponding precision and recall\n",
    "max_f = f_measures[max_index]\n",
    "related_precision = precisions[max_index]\n",
    "related_recall = recalls[max_index]\n",
    "related_threshold = thresholds[max_index]\n",
    "\n",
    "print(\"Related Precision:\", related_precision)\n",
    "print(\"Related Recall:\", related_recall)\n",
    "print(\"Max F-measure:\", max_f)\n",
    "print(\"Related threshold:\", related_threshold)"
   ]
  },
  {
   "cell_type": "code",
   "execution_count": null,
   "id": "98605852-486f-48a6-8927-9c726baceeea",
   "metadata": {},
   "outputs": [],
   "source": []
  },
  {
   "cell_type": "code",
   "execution_count": null,
   "id": "f77f5967-42a0-4fc3-b61a-45aed72cc022",
   "metadata": {},
   "outputs": [],
   "source": []
  }
 ],
 "metadata": {
  "kernelspec": {
   "display_name": "Python 3 (ipykernel)",
   "language": "python",
   "name": "python3"
  },
  "language_info": {
   "codemirror_mode": {
    "name": "ipython",
    "version": 3
   },
   "file_extension": ".py",
   "mimetype": "text/x-python",
   "name": "python",
   "nbconvert_exporter": "python",
   "pygments_lexer": "ipython3",
   "version": "3.8.16"
  }
 },
 "nbformat": 4,
 "nbformat_minor": 5
}
