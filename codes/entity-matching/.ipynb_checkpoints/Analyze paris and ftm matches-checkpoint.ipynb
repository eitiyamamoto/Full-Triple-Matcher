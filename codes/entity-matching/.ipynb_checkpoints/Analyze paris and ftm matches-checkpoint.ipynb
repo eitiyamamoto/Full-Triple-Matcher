{
 "cells": [
  {
   "cell_type": "code",
   "execution_count": 2,
   "id": "23238dce",
   "metadata": {},
   "outputs": [
    {
     "name": "stderr",
     "output_type": "stream",
     "text": [
      "/var/folders/6f/k2t20zbs4db5khp6mgdq_06m0000gn/T/ipykernel_69870/2914453593.py:7: TqdmExperimentalWarning: Using `tqdm.autonotebook.tqdm` in notebook mode. Use `tqdm.tqdm` instead to force console mode (e.g. in jupyter console)\n",
      "  from tqdm.autonotebook import tqdm\n"
     ]
    }
   ],
   "source": [
    "from rdflib import Graph\n",
    "import re\n",
    "import pandas as pd\n",
    "from rdflib import Graph, URIRef, Namespace, Literal\n",
    "import numpy as np\n",
    "import matplotlib.pyplot as plt\n",
    "from tqdm.autonotebook import tqdm"
   ]
  },
  {
   "cell_type": "code",
   "execution_count": 975,
   "id": "1869c937",
   "metadata": {},
   "outputs": [],
   "source": [
    "#baseline_df = pd.read_csv(\"/Users/yamamotobikutorueiichi/codes/full-triple-matcher/Full-Triple-Matcher/results/PARIS/ma-dbpedia-original-paris/9_eqv_full.tsv\", sep='\\t', names=['e1', 'e2', 'sim'])\n",
    "baseline_df = pd.read_csv('/Users/yamamotobikutorueiichi/codes/custom_paris/both func and func inv method/early_stop/sw-dbpedia/llama_filtered_answer_true.csv')\n",
    "#baseline_df = pd.read_csv('/Users/yamamotobikutorueiichi/codes/custom_paris/knowledgegraph-alignments-4/memoryalpha-stexpanded/LogMap/systemAlignment.csv')"
   ]
  },
  {
   "cell_type": "code",
   "execution_count": 976,
   "id": "88641b6f",
   "metadata": {},
   "outputs": [
    {
     "data": {
      "text/html": [
       "<div>\n",
       "<style scoped>\n",
       "    .dataframe tbody tr th:only-of-type {\n",
       "        vertical-align: middle;\n",
       "    }\n",
       "\n",
       "    .dataframe tbody tr th {\n",
       "        vertical-align: top;\n",
       "    }\n",
       "\n",
       "    .dataframe thead th {\n",
       "        text-align: right;\n",
       "    }\n",
       "</style>\n",
       "<table border=\"1\" class=\"dataframe\">\n",
       "  <thead>\n",
       "    <tr style=\"text-align: right;\">\n",
       "      <th></th>\n",
       "      <th>Unnamed: 0</th>\n",
       "      <th>answer</th>\n",
       "      <th>reason</th>\n",
       "      <th>e1</th>\n",
       "      <th>e2</th>\n",
       "      <th>sim</th>\n",
       "    </tr>\n",
       "  </thead>\n",
       "  <tbody>\n",
       "    <tr>\n",
       "      <th>0</th>\n",
       "      <td>450</td>\n",
       "      <td>True</td>\n",
       "      <td>Both entities represent the same entity in real life, as Droids are a type of robot found in the Star Wars universe and also a term used to describe androids in general.</td>\n",
       "      <td>http://dbkwik.webdatacommons.org/starwars./property/droid</td>\n",
       "      <td>http://dbpedia.org/resource/Droid</td>\n",
       "      <td>0.899537</td>\n",
       "    </tr>\n",
       "    <tr>\n",
       "      <th>1</th>\n",
       "      <td>451</td>\n",
       "      <td>True</td>\n",
       "      <td>Both entities represent the same entity in real life, as hyperdrive is a concept in both Star Wars and Hyperdrive (a device that allows faster-than-light travel)</td>\n",
       "      <td>http://dbkwik.webdatacommons.org/starwars./property/hyperdrive</td>\n",
       "      <td>http://dbpedia.org/resource/Hyperdrive</td>\n",
       "      <td>0.779418</td>\n",
       "    </tr>\n",
       "    <tr>\n",
       "      <th>2</th>\n",
       "      <td>454</td>\n",
       "      <td>True</td>\n",
       "      <td>Both entities represent the same entity in real life, as 1950s is a decade and http://dbkwik.webdatacommons.org/starwars./resource/1950s represents the Star Wars franchise which occurred during that time.</td>\n",
       "      <td>http://dbkwik.webdatacommons.org/starwars./resource/1950s</td>\n",
       "      <td>http://dbpedia.org/resource/1950s</td>\n",
       "      <td>0.950000</td>\n",
       "    </tr>\n",
       "    <tr>\n",
       "      <th>3</th>\n",
       "      <td>486</td>\n",
       "      <td>True</td>\n",
       "      <td>Both entities represent the same entity in real life, C-3PO is a protocol droid from the Star Wars franchise.</td>\n",
       "      <td>http://dbkwik.webdatacommons.org/starwars./resource/3PO-series_protocol_droid</td>\n",
       "      <td>http://dbpedia.org/resource/C-3PO</td>\n",
       "      <td>0.412235</td>\n",
       "    </tr>\n",
       "    <tr>\n",
       "      <th>4</th>\n",
       "      <td>487</td>\n",
       "      <td>True</td>\n",
       "      <td>Both entities represent the same entity in real life, C-3PO is a protocol droid from the Star Wars universe.</td>\n",
       "      <td>http://dbkwik.webdatacommons.org/starwars./resource/3PO-series_protocol_droid/Legends</td>\n",
       "      <td>http://dbpedia.org/resource/C-3PO</td>\n",
       "      <td>0.398701</td>\n",
       "    </tr>\n",
       "    <tr>\n",
       "      <th>...</th>\n",
       "      <td>...</td>\n",
       "      <td>...</td>\n",
       "      <td>...</td>\n",
       "      <td>...</td>\n",
       "      <td>...</td>\n",
       "      <td>...</td>\n",
       "    </tr>\n",
       "    <tr>\n",
       "      <th>1606</th>\n",
       "      <td>5107</td>\n",
       "      <td>True</td>\n",
       "      <td>Both entities represent the same entity in real life, Jon Bon Jovi is a musician and the founder of Bon Jovi band.</td>\n",
       "      <td>http://www.bonjovi.com/bonjovi/</td>\n",
       "      <td>http://dbpedia.org/resource/Jon_Bon_Jovi</td>\n",
       "      <td>0.141651</td>\n",
       "    </tr>\n",
       "    <tr>\n",
       "      <th>1607</th>\n",
       "      <td>5146</td>\n",
       "      <td>True</td>\n",
       "      <td>Both entities represent the same entity in real life, Abrams Books is a publisher and https://www.abramsbooks.com/imprints/amuletbooks/ is one of its imprints.</td>\n",
       "      <td>https://www.abramsbooks.com/imprints/amuletbooks/</td>\n",
       "      <td>http://dbpedia.org/resource/Abrams_Books</td>\n",
       "      <td>0.103517</td>\n",
       "    </tr>\n",
       "    <tr>\n",
       "      <th>1608</th>\n",
       "      <td>5148</td>\n",
       "      <td>True</td>\n",
       "      <td>Both entities represent the same entity in real life, The Walt Disney Company is a media conglomerate that owns Disney+, and e1 and e2 are both related to it.</td>\n",
       "      <td>https://www.disneyplus.com</td>\n",
       "      <td>http://dbpedia.org/resource/The_Walt_Disney_Company</td>\n",
       "      <td>0.204168</td>\n",
       "    </tr>\n",
       "    <tr>\n",
       "      <th>1609</th>\n",
       "      <td>5151</td>\n",
       "      <td>True</td>\n",
       "      <td>Both entities represent the same entity in real life, John Lithgow is a well-known actor and https://www.johnlithgow.com is his official website.</td>\n",
       "      <td>https://www.johnlithgow.com</td>\n",
       "      <td>http://dbpedia.org/resource/John_Lithgow</td>\n",
       "      <td>0.152488</td>\n",
       "    </tr>\n",
       "    <tr>\n",
       "      <th>1610</th>\n",
       "      <td>5153</td>\n",
       "      <td>True</td>\n",
       "      <td>Both entities represent the same entity in real life, as Lucasfilm is a company that owns Star Wars and has its own website.</td>\n",
       "      <td>https://www.lucasfilm.com</td>\n",
       "      <td>http://dbpedia.org/resource/Lucasfilm</td>\n",
       "      <td>0.177116</td>\n",
       "    </tr>\n",
       "  </tbody>\n",
       "</table>\n",
       "<p>1611 rows × 6 columns</p>\n",
       "</div>"
      ],
      "text/plain": [
       "      Unnamed: 0  answer  \\\n",
       "0            450    True   \n",
       "1            451    True   \n",
       "2            454    True   \n",
       "3            486    True   \n",
       "4            487    True   \n",
       "...          ...     ...   \n",
       "1606        5107    True   \n",
       "1607        5146    True   \n",
       "1608        5148    True   \n",
       "1609        5151    True   \n",
       "1610        5153    True   \n",
       "\n",
       "                                                                                                                                                                                                            reason  \\\n",
       "0                                        Both entities represent the same entity in real life, as Droids are a type of robot found in the Star Wars universe and also a term used to describe androids in general.   \n",
       "1                                                Both entities represent the same entity in real life, as hyperdrive is a concept in both Star Wars and Hyperdrive (a device that allows faster-than-light travel)   \n",
       "2     Both entities represent the same entity in real life, as 1950s is a decade and http://dbkwik.webdatacommons.org/starwars./resource/1950s represents the Star Wars franchise which occurred during that time.   \n",
       "3                                                                                                    Both entities represent the same entity in real life, C-3PO is a protocol droid from the Star Wars franchise.   \n",
       "4                                                                                                     Both entities represent the same entity in real life, C-3PO is a protocol droid from the Star Wars universe.   \n",
       "...                                                                                                                                                                                                            ...   \n",
       "1606                                                                                            Both entities represent the same entity in real life, Jon Bon Jovi is a musician and the founder of Bon Jovi band.   \n",
       "1607                                               Both entities represent the same entity in real life, Abrams Books is a publisher and https://www.abramsbooks.com/imprints/amuletbooks/ is one of its imprints.   \n",
       "1608                                                Both entities represent the same entity in real life, The Walt Disney Company is a media conglomerate that owns Disney+, and e1 and e2 are both related to it.   \n",
       "1609                                                             Both entities represent the same entity in real life, John Lithgow is a well-known actor and https://www.johnlithgow.com is his official website.   \n",
       "1610                                                                                  Both entities represent the same entity in real life, as Lucasfilm is a company that owns Star Wars and has its own website.   \n",
       "\n",
       "                                                                                         e1  \\\n",
       "0                                 http://dbkwik.webdatacommons.org/starwars./property/droid   \n",
       "1                            http://dbkwik.webdatacommons.org/starwars./property/hyperdrive   \n",
       "2                                 http://dbkwik.webdatacommons.org/starwars./resource/1950s   \n",
       "3             http://dbkwik.webdatacommons.org/starwars./resource/3PO-series_protocol_droid   \n",
       "4     http://dbkwik.webdatacommons.org/starwars./resource/3PO-series_protocol_droid/Legends   \n",
       "...                                                                                     ...   \n",
       "1606                                                        http://www.bonjovi.com/bonjovi/   \n",
       "1607                                      https://www.abramsbooks.com/imprints/amuletbooks/   \n",
       "1608                                                             https://www.disneyplus.com   \n",
       "1609                                                            https://www.johnlithgow.com   \n",
       "1610                                                              https://www.lucasfilm.com   \n",
       "\n",
       "                                                       e2       sim  \n",
       "0                       http://dbpedia.org/resource/Droid  0.899537  \n",
       "1                  http://dbpedia.org/resource/Hyperdrive  0.779418  \n",
       "2                       http://dbpedia.org/resource/1950s  0.950000  \n",
       "3                       http://dbpedia.org/resource/C-3PO  0.412235  \n",
       "4                       http://dbpedia.org/resource/C-3PO  0.398701  \n",
       "...                                                   ...       ...  \n",
       "1606             http://dbpedia.org/resource/Jon_Bon_Jovi  0.141651  \n",
       "1607             http://dbpedia.org/resource/Abrams_Books  0.103517  \n",
       "1608  http://dbpedia.org/resource/The_Walt_Disney_Company  0.204168  \n",
       "1609             http://dbpedia.org/resource/John_Lithgow  0.152488  \n",
       "1610                http://dbpedia.org/resource/Lucasfilm  0.177116  \n",
       "\n",
       "[1611 rows x 6 columns]"
      ]
     },
     "execution_count": 976,
     "metadata": {},
     "output_type": "execute_result"
    }
   ],
   "source": [
    "baseline_df"
   ]
  },
  {
   "cell_type": "code",
   "execution_count": 977,
   "id": "4d94de12-1697-4da9-91de-95349f0858f9",
   "metadata": {},
   "outputs": [],
   "source": [
    "baseline_df['e2'] = baseline_df['e2'].str.replace(\n",
    "    'dbp:resource/', 'http://dbpedia.org/resource/')"
   ]
  },
  {
   "cell_type": "code",
   "execution_count": 978,
   "id": "0c86d5da-1c81-4b82-968d-32bfaccaab33",
   "metadata": {},
   "outputs": [],
   "source": [
    "baseline_df['e1'] = baseline_df['e1'].str.replace(\n",
    "    'starwars./', 'starwars.wikia.com/')"
   ]
  },
  {
   "cell_type": "code",
   "execution_count": 979,
   "id": "4105aa94-b73c-4b9d-9a3d-f3dc76898487",
   "metadata": {},
   "outputs": [],
   "source": [
    "def get_top_n(dictionary, n, reverse=True):\n",
    "    sorted_elements = sorted(dictionary.items(), key=lambda x: x[1], reverse=reverse)\n",
    "    if len(sorted_elements) < n:\n",
    "        return sorted_elements\n",
    "    n_sim = sorted_elements[n-1][1]\n",
    "    \n",
    "    top_n_list = list()\n",
    "    for element in sorted_elements:\n",
    "        e2, sim = element\n",
    "        if (reverse and sim < n_sim) or (not reverse and sim > n_sim):\n",
    "            return top_n_list\n",
    "            \n",
    "        top_n_list.append(element)\n",
    "    return top_n_list"
   ]
  },
  {
   "cell_type": "code",
   "execution_count": 980,
   "id": "12b82314-eb48-4fde-928b-bddb92b2d815",
   "metadata": {},
   "outputs": [
    {
     "data": {
      "application/vnd.jupyter.widget-view+json": {
       "model_id": "9e31b7c887a0467bb629bf75aed00715",
       "version_major": 2,
       "version_minor": 0
      },
      "text/plain": [
       "  0%|          | 0/1611 [00:00<?, ?it/s]"
      ]
     },
     "metadata": {},
     "output_type": "display_data"
    }
   ],
   "source": [
    "grouped_df = baseline_df.groupby('e1')\n",
    "elem_dict = dict()\n",
    "for e1, group_indices in tqdm(grouped_df.groups.items()):\n",
    "    # Access the group corresponding to 'e1'\n",
    "    e1_group = baseline_df.loc[group_indices]\n",
    "    e1_dict = dict(zip(e1_group['e2'], e1_group['sim']))\n",
    "    elem_dict[e1] = e1_dict"
   ]
  },
  {
   "cell_type": "code",
   "execution_count": 981,
   "id": "5ea3066f-fb28-44f7-8547-71c5defe73b3",
   "metadata": {},
   "outputs": [],
   "source": [
    "hit_at_one_dict = dict()\n",
    "one_to_one_list = list()\n",
    "for e1, e1_dict in elem_dict.items():\n",
    "    top_list = get_top_n(e1_dict, 1)\n",
    "    for e2, sim in top_list:\n",
    "        one_to_one_list.append({\n",
    "            'e1': e1,\n",
    "            'e2': e2,\n",
    "            'sim': elem_dict[e1][e2]\n",
    "        })"
   ]
  },
  {
   "cell_type": "code",
   "execution_count": 982,
   "id": "a8e00e43-8098-4a9c-882c-247a8c601ef3",
   "metadata": {
    "scrolled": true
   },
   "outputs": [],
   "source": [
    "baseline_df = pd.DataFrame(one_to_one_list)"
   ]
  },
  {
   "cell_type": "code",
   "execution_count": 983,
   "id": "c1eaec89",
   "metadata": {},
   "outputs": [],
   "source": [
    "#match_df = pd.read_csv('/Users/yamamotobikutorueiichi/codes/custom_paris/mal-stx-gold.csv')\n",
    "match_df = pd.read_csv('/Users/yamamotobikutorueiichi/codes/gollumn - subdataset/star-wars-dbpedia.csv')"
   ]
  },
  {
   "cell_type": "code",
   "execution_count": 984,
   "id": "9a9e739b-3116-4f80-8b53-3ed66af36749",
   "metadata": {},
   "outputs": [
    {
     "data": {
      "text/html": [
       "<div>\n",
       "<style scoped>\n",
       "    .dataframe tbody tr th:only-of-type {\n",
       "        vertical-align: middle;\n",
       "    }\n",
       "\n",
       "    .dataframe tbody tr th {\n",
       "        vertical-align: top;\n",
       "    }\n",
       "\n",
       "    .dataframe thead th {\n",
       "        text-align: right;\n",
       "    }\n",
       "</style>\n",
       "<table border=\"1\" class=\"dataframe\">\n",
       "  <thead>\n",
       "    <tr style=\"text-align: right;\">\n",
       "      <th></th>\n",
       "      <th>Unnamed: 0</th>\n",
       "      <th>e1</th>\n",
       "      <th>e2</th>\n",
       "    </tr>\n",
       "  </thead>\n",
       "  <tbody>\n",
       "    <tr>\n",
       "      <th>0</th>\n",
       "      <td>0</td>\n",
       "      <td>http://dbkwik.webdatacommons.org/starwars.wikia.com/resource/July_5</td>\n",
       "      <td>http://dbpedia.org/resource/July_5</td>\n",
       "    </tr>\n",
       "    <tr>\n",
       "      <th>1</th>\n",
       "      <td>1</td>\n",
       "      <td>http://dbkwik.webdatacommons.org/starwars.wikia.com/resource/Vacuum/Legends</td>\n",
       "      <td>http://dbpedia.org/resource/Vacuum</td>\n",
       "    </tr>\n",
       "    <tr>\n",
       "      <th>2</th>\n",
       "      <td>2</td>\n",
       "      <td>http://dbkwik.webdatacommons.org/starwars.wikia.com/resource/Richard_Edlund</td>\n",
       "      <td>http://dbpedia.org/resource/Richard_Edlund</td>\n",
       "    </tr>\n",
       "    <tr>\n",
       "      <th>3</th>\n",
       "      <td>3</td>\n",
       "      <td>http://dbkwik.webdatacommons.org/starwars.wikia.com/resource/July_6</td>\n",
       "      <td>http://dbpedia.org/resource/July_6</td>\n",
       "    </tr>\n",
       "    <tr>\n",
       "      <th>4</th>\n",
       "      <td>4</td>\n",
       "      <td>http://dbkwik.webdatacommons.org/starwars.wikia.com/resource/Dave_Gibbons</td>\n",
       "      <td>http://dbpedia.org/resource/Dave_Gibbons</td>\n",
       "    </tr>\n",
       "    <tr>\n",
       "      <th>...</th>\n",
       "      <td>...</td>\n",
       "      <td>...</td>\n",
       "      <td>...</td>\n",
       "    </tr>\n",
       "    <tr>\n",
       "      <th>2188</th>\n",
       "      <td>2188</td>\n",
       "      <td>http://dbkwik.webdatacommons.org/starwars.wikia.com/resource/2003</td>\n",
       "      <td>http://dbpedia.org/resource/2003</td>\n",
       "    </tr>\n",
       "    <tr>\n",
       "      <th>2189</th>\n",
       "      <td>2189</td>\n",
       "      <td>http://dbkwik.webdatacommons.org/starwars.wikia.com/resource/Kelly_Sue_DeConnick</td>\n",
       "      <td>http://dbpedia.org/resource/Kelly_Sue_DeConnick</td>\n",
       "    </tr>\n",
       "    <tr>\n",
       "      <th>2190</th>\n",
       "      <td>2190</td>\n",
       "      <td>http://dbkwik.webdatacommons.org/starwars.wikia.com/resource/Ovipositor</td>\n",
       "      <td>http://dbpedia.org/resource/Ovipositor</td>\n",
       "    </tr>\n",
       "    <tr>\n",
       "      <th>2191</th>\n",
       "      <td>2191</td>\n",
       "      <td>http://dbkwik.webdatacommons.org/starwars.wikia.com/resource/1987</td>\n",
       "      <td>http://dbpedia.org/resource/1987</td>\n",
       "    </tr>\n",
       "    <tr>\n",
       "      <th>2192</th>\n",
       "      <td>2192</td>\n",
       "      <td>http://dbkwik.webdatacommons.org/starwars.wikia.com/resource/Kath_Soucie</td>\n",
       "      <td>http://dbpedia.org/resource/Kath_Soucie</td>\n",
       "    </tr>\n",
       "  </tbody>\n",
       "</table>\n",
       "<p>2193 rows × 3 columns</p>\n",
       "</div>"
      ],
      "text/plain": [
       "      Unnamed: 0  \\\n",
       "0              0   \n",
       "1              1   \n",
       "2              2   \n",
       "3              3   \n",
       "4              4   \n",
       "...          ...   \n",
       "2188        2188   \n",
       "2189        2189   \n",
       "2190        2190   \n",
       "2191        2191   \n",
       "2192        2192   \n",
       "\n",
       "                                                                                    e1  \\\n",
       "0                  http://dbkwik.webdatacommons.org/starwars.wikia.com/resource/July_5   \n",
       "1          http://dbkwik.webdatacommons.org/starwars.wikia.com/resource/Vacuum/Legends   \n",
       "2          http://dbkwik.webdatacommons.org/starwars.wikia.com/resource/Richard_Edlund   \n",
       "3                  http://dbkwik.webdatacommons.org/starwars.wikia.com/resource/July_6   \n",
       "4            http://dbkwik.webdatacommons.org/starwars.wikia.com/resource/Dave_Gibbons   \n",
       "...                                                                                ...   \n",
       "2188                 http://dbkwik.webdatacommons.org/starwars.wikia.com/resource/2003   \n",
       "2189  http://dbkwik.webdatacommons.org/starwars.wikia.com/resource/Kelly_Sue_DeConnick   \n",
       "2190           http://dbkwik.webdatacommons.org/starwars.wikia.com/resource/Ovipositor   \n",
       "2191                 http://dbkwik.webdatacommons.org/starwars.wikia.com/resource/1987   \n",
       "2192          http://dbkwik.webdatacommons.org/starwars.wikia.com/resource/Kath_Soucie   \n",
       "\n",
       "                                                   e2  \n",
       "0                  http://dbpedia.org/resource/July_5  \n",
       "1                  http://dbpedia.org/resource/Vacuum  \n",
       "2          http://dbpedia.org/resource/Richard_Edlund  \n",
       "3                  http://dbpedia.org/resource/July_6  \n",
       "4            http://dbpedia.org/resource/Dave_Gibbons  \n",
       "...                                               ...  \n",
       "2188                 http://dbpedia.org/resource/2003  \n",
       "2189  http://dbpedia.org/resource/Kelly_Sue_DeConnick  \n",
       "2190           http://dbpedia.org/resource/Ovipositor  \n",
       "2191                 http://dbpedia.org/resource/1987  \n",
       "2192          http://dbpedia.org/resource/Kath_Soucie  \n",
       "\n",
       "[2193 rows x 3 columns]"
      ]
     },
     "execution_count": 984,
     "metadata": {},
     "output_type": "execute_result"
    }
   ],
   "source": [
    "match_df"
   ]
  },
  {
   "cell_type": "code",
   "execution_count": 985,
   "id": "ce1a7f73-d703-4fa2-80af-378213e2ec22",
   "metadata": {},
   "outputs": [],
   "source": [
    "#match_df['e1'] = match_df['e1'].str.replace('starwars.wikia.com', 'starwars.')"
   ]
  },
  {
   "cell_type": "code",
   "execution_count": 986,
   "id": "ce03189b-e6cd-4adf-bc73-351444294f3f",
   "metadata": {},
   "outputs": [],
   "source": [
    "match_df = match_df[match_df['e1'].str.contains('/resource/') & match_df['e2'].str.contains('/resource/')]"
   ]
  },
  {
   "cell_type": "code",
   "execution_count": 987,
   "id": "9078976a-04db-4f93-99e2-e8e6196eb086",
   "metadata": {},
   "outputs": [],
   "source": [
    "match_df = match_df[['e1', 'e2']]"
   ]
  },
  {
   "cell_type": "code",
   "execution_count": 988,
   "id": "e86a0afc-b2b2-48ba-b9d6-3c306f09d1ec",
   "metadata": {},
   "outputs": [
    {
     "data": {
      "text/html": [
       "<div>\n",
       "<style scoped>\n",
       "    .dataframe tbody tr th:only-of-type {\n",
       "        vertical-align: middle;\n",
       "    }\n",
       "\n",
       "    .dataframe tbody tr th {\n",
       "        vertical-align: top;\n",
       "    }\n",
       "\n",
       "    .dataframe thead th {\n",
       "        text-align: right;\n",
       "    }\n",
       "</style>\n",
       "<table border=\"1\" class=\"dataframe\">\n",
       "  <thead>\n",
       "    <tr style=\"text-align: right;\">\n",
       "      <th></th>\n",
       "      <th>e1</th>\n",
       "      <th>e2</th>\n",
       "    </tr>\n",
       "  </thead>\n",
       "  <tbody>\n",
       "    <tr>\n",
       "      <th>0</th>\n",
       "      <td>http://dbkwik.webdatacommons.org/starwars.wikia.com/resource/July_5</td>\n",
       "      <td>http://dbpedia.org/resource/July_5</td>\n",
       "    </tr>\n",
       "    <tr>\n",
       "      <th>1</th>\n",
       "      <td>http://dbkwik.webdatacommons.org/starwars.wikia.com/resource/Vacuum/Legends</td>\n",
       "      <td>http://dbpedia.org/resource/Vacuum</td>\n",
       "    </tr>\n",
       "    <tr>\n",
       "      <th>2</th>\n",
       "      <td>http://dbkwik.webdatacommons.org/starwars.wikia.com/resource/Richard_Edlund</td>\n",
       "      <td>http://dbpedia.org/resource/Richard_Edlund</td>\n",
       "    </tr>\n",
       "    <tr>\n",
       "      <th>3</th>\n",
       "      <td>http://dbkwik.webdatacommons.org/starwars.wikia.com/resource/July_6</td>\n",
       "      <td>http://dbpedia.org/resource/July_6</td>\n",
       "    </tr>\n",
       "    <tr>\n",
       "      <th>4</th>\n",
       "      <td>http://dbkwik.webdatacommons.org/starwars.wikia.com/resource/Dave_Gibbons</td>\n",
       "      <td>http://dbpedia.org/resource/Dave_Gibbons</td>\n",
       "    </tr>\n",
       "    <tr>\n",
       "      <th>...</th>\n",
       "      <td>...</td>\n",
       "      <td>...</td>\n",
       "    </tr>\n",
       "    <tr>\n",
       "      <th>2188</th>\n",
       "      <td>http://dbkwik.webdatacommons.org/starwars.wikia.com/resource/2003</td>\n",
       "      <td>http://dbpedia.org/resource/2003</td>\n",
       "    </tr>\n",
       "    <tr>\n",
       "      <th>2189</th>\n",
       "      <td>http://dbkwik.webdatacommons.org/starwars.wikia.com/resource/Kelly_Sue_DeConnick</td>\n",
       "      <td>http://dbpedia.org/resource/Kelly_Sue_DeConnick</td>\n",
       "    </tr>\n",
       "    <tr>\n",
       "      <th>2190</th>\n",
       "      <td>http://dbkwik.webdatacommons.org/starwars.wikia.com/resource/Ovipositor</td>\n",
       "      <td>http://dbpedia.org/resource/Ovipositor</td>\n",
       "    </tr>\n",
       "    <tr>\n",
       "      <th>2191</th>\n",
       "      <td>http://dbkwik.webdatacommons.org/starwars.wikia.com/resource/1987</td>\n",
       "      <td>http://dbpedia.org/resource/1987</td>\n",
       "    </tr>\n",
       "    <tr>\n",
       "      <th>2192</th>\n",
       "      <td>http://dbkwik.webdatacommons.org/starwars.wikia.com/resource/Kath_Soucie</td>\n",
       "      <td>http://dbpedia.org/resource/Kath_Soucie</td>\n",
       "    </tr>\n",
       "  </tbody>\n",
       "</table>\n",
       "<p>2193 rows × 2 columns</p>\n",
       "</div>"
      ],
      "text/plain": [
       "                                                                                    e1  \\\n",
       "0                  http://dbkwik.webdatacommons.org/starwars.wikia.com/resource/July_5   \n",
       "1          http://dbkwik.webdatacommons.org/starwars.wikia.com/resource/Vacuum/Legends   \n",
       "2          http://dbkwik.webdatacommons.org/starwars.wikia.com/resource/Richard_Edlund   \n",
       "3                  http://dbkwik.webdatacommons.org/starwars.wikia.com/resource/July_6   \n",
       "4            http://dbkwik.webdatacommons.org/starwars.wikia.com/resource/Dave_Gibbons   \n",
       "...                                                                                ...   \n",
       "2188                 http://dbkwik.webdatacommons.org/starwars.wikia.com/resource/2003   \n",
       "2189  http://dbkwik.webdatacommons.org/starwars.wikia.com/resource/Kelly_Sue_DeConnick   \n",
       "2190           http://dbkwik.webdatacommons.org/starwars.wikia.com/resource/Ovipositor   \n",
       "2191                 http://dbkwik.webdatacommons.org/starwars.wikia.com/resource/1987   \n",
       "2192          http://dbkwik.webdatacommons.org/starwars.wikia.com/resource/Kath_Soucie   \n",
       "\n",
       "                                                   e2  \n",
       "0                  http://dbpedia.org/resource/July_5  \n",
       "1                  http://dbpedia.org/resource/Vacuum  \n",
       "2          http://dbpedia.org/resource/Richard_Edlund  \n",
       "3                  http://dbpedia.org/resource/July_6  \n",
       "4            http://dbpedia.org/resource/Dave_Gibbons  \n",
       "...                                               ...  \n",
       "2188                 http://dbpedia.org/resource/2003  \n",
       "2189  http://dbpedia.org/resource/Kelly_Sue_DeConnick  \n",
       "2190           http://dbpedia.org/resource/Ovipositor  \n",
       "2191                 http://dbpedia.org/resource/1987  \n",
       "2192          http://dbpedia.org/resource/Kath_Soucie  \n",
       "\n",
       "[2193 rows x 2 columns]"
      ]
     },
     "execution_count": 988,
     "metadata": {},
     "output_type": "execute_result"
    }
   ],
   "source": [
    "match_df"
   ]
  },
  {
   "cell_type": "code",
   "execution_count": 989,
   "id": "73c1535d",
   "metadata": {},
   "outputs": [],
   "source": [
    "result_df = pd.merge(baseline_df, match_df, left_on=['e1', 'e2'], right_on=['e1', 'e2'])"
   ]
  },
  {
   "cell_type": "code",
   "execution_count": 990,
   "id": "371bbc33-a46d-4b3e-a180-ca9602da67cb",
   "metadata": {},
   "outputs": [
    {
     "data": {
      "text/html": [
       "<div>\n",
       "<style scoped>\n",
       "    .dataframe tbody tr th:only-of-type {\n",
       "        vertical-align: middle;\n",
       "    }\n",
       "\n",
       "    .dataframe tbody tr th {\n",
       "        vertical-align: top;\n",
       "    }\n",
       "\n",
       "    .dataframe thead th {\n",
       "        text-align: right;\n",
       "    }\n",
       "</style>\n",
       "<table border=\"1\" class=\"dataframe\">\n",
       "  <thead>\n",
       "    <tr style=\"text-align: right;\">\n",
       "      <th></th>\n",
       "      <th>e1</th>\n",
       "      <th>e2</th>\n",
       "      <th>sim</th>\n",
       "    </tr>\n",
       "  </thead>\n",
       "  <tbody>\n",
       "    <tr>\n",
       "      <th>0</th>\n",
       "      <td>http://dbkwik.webdatacommons.org/starwars.wikia.com/resource/1950s</td>\n",
       "      <td>http://dbpedia.org/resource/1950s</td>\n",
       "      <td>0.950000</td>\n",
       "    </tr>\n",
       "    <tr>\n",
       "      <th>1</th>\n",
       "      <td>http://dbkwik.webdatacommons.org/starwars.wikia.com/resource/Aaron_Allston</td>\n",
       "      <td>http://dbpedia.org/resource/Aaron_Allston</td>\n",
       "      <td>0.950000</td>\n",
       "    </tr>\n",
       "    <tr>\n",
       "      <th>2</th>\n",
       "      <td>http://dbkwik.webdatacommons.org/starwars.wikia.com/resource/Absolute_zero</td>\n",
       "      <td>http://dbpedia.org/resource/Absolute_zero</td>\n",
       "      <td>0.949896</td>\n",
       "    </tr>\n",
       "    <tr>\n",
       "      <th>3</th>\n",
       "      <td>http://dbkwik.webdatacommons.org/starwars.wikia.com/resource/Adam_Gidwitz</td>\n",
       "      <td>http://dbpedia.org/resource/Adam_Gidwitz</td>\n",
       "      <td>0.950000</td>\n",
       "    </tr>\n",
       "    <tr>\n",
       "      <th>4</th>\n",
       "      <td>http://dbkwik.webdatacommons.org/starwars.wikia.com/resource/Adam_Howden</td>\n",
       "      <td>http://dbpedia.org/resource/Adam_Howden</td>\n",
       "      <td>0.949998</td>\n",
       "    </tr>\n",
       "    <tr>\n",
       "      <th>...</th>\n",
       "      <td>...</td>\n",
       "      <td>...</td>\n",
       "      <td>...</td>\n",
       "    </tr>\n",
       "    <tr>\n",
       "      <th>959</th>\n",
       "      <td>http://dbkwik.webdatacommons.org/starwars.wikia.com/resource/Woody_Harrelson</td>\n",
       "      <td>http://dbpedia.org/resource/Woody_Harrelson</td>\n",
       "      <td>0.950000</td>\n",
       "    </tr>\n",
       "    <tr>\n",
       "      <th>960</th>\n",
       "      <td>http://dbkwik.webdatacommons.org/starwars.wikia.com/resource/Yayan_Ruhian</td>\n",
       "      <td>http://dbpedia.org/resource/Yayan_Ruhian</td>\n",
       "      <td>0.950000</td>\n",
       "    </tr>\n",
       "    <tr>\n",
       "      <th>961</th>\n",
       "      <td>http://dbkwik.webdatacommons.org/starwars.wikia.com/resource/Yeardley_Smith</td>\n",
       "      <td>http://dbpedia.org/resource/Yeardley_Smith</td>\n",
       "      <td>0.950000</td>\n",
       "    </tr>\n",
       "    <tr>\n",
       "      <th>962</th>\n",
       "      <td>http://dbkwik.webdatacommons.org/starwars.wikia.com/resource/Yvette_Nicole_Brown</td>\n",
       "      <td>http://dbpedia.org/resource/Yvette_Nicole_Brown</td>\n",
       "      <td>0.949999</td>\n",
       "    </tr>\n",
       "    <tr>\n",
       "      <th>963</th>\n",
       "      <td>http://dbkwik.webdatacommons.org/starwars.wikia.com/resource/Zorba_the_Hutt's_Revenge</td>\n",
       "      <td>http://dbpedia.org/resource/Zorba_the_Hutt's_Revenge</td>\n",
       "      <td>0.949992</td>\n",
       "    </tr>\n",
       "  </tbody>\n",
       "</table>\n",
       "<p>964 rows × 3 columns</p>\n",
       "</div>"
      ],
      "text/plain": [
       "                                                                                        e1  \\\n",
       "0                       http://dbkwik.webdatacommons.org/starwars.wikia.com/resource/1950s   \n",
       "1               http://dbkwik.webdatacommons.org/starwars.wikia.com/resource/Aaron_Allston   \n",
       "2               http://dbkwik.webdatacommons.org/starwars.wikia.com/resource/Absolute_zero   \n",
       "3                http://dbkwik.webdatacommons.org/starwars.wikia.com/resource/Adam_Gidwitz   \n",
       "4                 http://dbkwik.webdatacommons.org/starwars.wikia.com/resource/Adam_Howden   \n",
       "..                                                                                     ...   \n",
       "959           http://dbkwik.webdatacommons.org/starwars.wikia.com/resource/Woody_Harrelson   \n",
       "960              http://dbkwik.webdatacommons.org/starwars.wikia.com/resource/Yayan_Ruhian   \n",
       "961            http://dbkwik.webdatacommons.org/starwars.wikia.com/resource/Yeardley_Smith   \n",
       "962       http://dbkwik.webdatacommons.org/starwars.wikia.com/resource/Yvette_Nicole_Brown   \n",
       "963  http://dbkwik.webdatacommons.org/starwars.wikia.com/resource/Zorba_the_Hutt's_Revenge   \n",
       "\n",
       "                                                       e2       sim  \n",
       "0                       http://dbpedia.org/resource/1950s  0.950000  \n",
       "1               http://dbpedia.org/resource/Aaron_Allston  0.950000  \n",
       "2               http://dbpedia.org/resource/Absolute_zero  0.949896  \n",
       "3                http://dbpedia.org/resource/Adam_Gidwitz  0.950000  \n",
       "4                 http://dbpedia.org/resource/Adam_Howden  0.949998  \n",
       "..                                                    ...       ...  \n",
       "959           http://dbpedia.org/resource/Woody_Harrelson  0.950000  \n",
       "960              http://dbpedia.org/resource/Yayan_Ruhian  0.950000  \n",
       "961            http://dbpedia.org/resource/Yeardley_Smith  0.950000  \n",
       "962       http://dbpedia.org/resource/Yvette_Nicole_Brown  0.949999  \n",
       "963  http://dbpedia.org/resource/Zorba_the_Hutt's_Revenge  0.949992  \n",
       "\n",
       "[964 rows x 3 columns]"
      ]
     },
     "execution_count": 990,
     "metadata": {},
     "output_type": "execute_result"
    }
   ],
   "source": [
    "result_df"
   ]
  },
  {
   "cell_type": "code",
   "execution_count": 991,
   "id": "a864fd82",
   "metadata": {},
   "outputs": [
    {
     "data": {
      "application/vnd.jupyter.widget-view+json": {
       "model_id": "4b4e55226713482e9a05a6c9b175f095",
       "version_major": 2,
       "version_minor": 0
      },
      "text/plain": [
       "  0%|          | 0/1611 [00:00<?, ?it/s]"
      ]
     },
     "metadata": {},
     "output_type": "display_data"
    }
   ],
   "source": [
    "for index, row in tqdm(baseline_df.iterrows(), total=len(baseline_df)):\n",
    "    e1 = row['e1']\n",
    "    e2 = row['e2']\n",
    "    \n",
    "    if ((result_df['e1'] == e1) & (result_df['e2'] == e2)).any():\n",
    "        baseline_df.at[index, 'Predicted'] = True\n",
    "    else:\n",
    "        baseline_df.at[index, 'Predicted'] = False"
   ]
  },
  {
   "cell_type": "code",
   "execution_count": 992,
   "id": "5c1c4c1d",
   "metadata": {},
   "outputs": [
    {
     "data": {
      "text/html": [
       "<div>\n",
       "<style scoped>\n",
       "    .dataframe tbody tr th:only-of-type {\n",
       "        vertical-align: middle;\n",
       "    }\n",
       "\n",
       "    .dataframe tbody tr th {\n",
       "        vertical-align: top;\n",
       "    }\n",
       "\n",
       "    .dataframe thead th {\n",
       "        text-align: right;\n",
       "    }\n",
       "</style>\n",
       "<table border=\"1\" class=\"dataframe\">\n",
       "  <thead>\n",
       "    <tr style=\"text-align: right;\">\n",
       "      <th></th>\n",
       "      <th>e1</th>\n",
       "      <th>e2</th>\n",
       "      <th>sim</th>\n",
       "      <th>Predicted</th>\n",
       "    </tr>\n",
       "  </thead>\n",
       "  <tbody>\n",
       "    <tr>\n",
       "      <th>0</th>\n",
       "      <td>http://dbkwik.webdatacommons.org/starwars.wikia.com/property/droid</td>\n",
       "      <td>http://dbpedia.org/resource/Droid</td>\n",
       "      <td>0.899537</td>\n",
       "      <td>False</td>\n",
       "    </tr>\n",
       "    <tr>\n",
       "      <th>1</th>\n",
       "      <td>http://dbkwik.webdatacommons.org/starwars.wikia.com/property/hyperdrive</td>\n",
       "      <td>http://dbpedia.org/resource/Hyperdrive</td>\n",
       "      <td>0.779418</td>\n",
       "      <td>False</td>\n",
       "    </tr>\n",
       "    <tr>\n",
       "      <th>2</th>\n",
       "      <td>http://dbkwik.webdatacommons.org/starwars.wikia.com/resource/1950s</td>\n",
       "      <td>http://dbpedia.org/resource/1950s</td>\n",
       "      <td>0.950000</td>\n",
       "      <td>True</td>\n",
       "    </tr>\n",
       "    <tr>\n",
       "      <th>3</th>\n",
       "      <td>http://dbkwik.webdatacommons.org/starwars.wikia.com/resource/3PO-series_protocol_droid</td>\n",
       "      <td>http://dbpedia.org/resource/C-3PO</td>\n",
       "      <td>0.412235</td>\n",
       "      <td>False</td>\n",
       "    </tr>\n",
       "    <tr>\n",
       "      <th>4</th>\n",
       "      <td>http://dbkwik.webdatacommons.org/starwars.wikia.com/resource/3PO-series_protocol_droid/Legends</td>\n",
       "      <td>http://dbpedia.org/resource/C-3PO</td>\n",
       "      <td>0.398701</td>\n",
       "      <td>False</td>\n",
       "    </tr>\n",
       "    <tr>\n",
       "      <th>...</th>\n",
       "      <td>...</td>\n",
       "      <td>...</td>\n",
       "      <td>...</td>\n",
       "      <td>...</td>\n",
       "    </tr>\n",
       "    <tr>\n",
       "      <th>1606</th>\n",
       "      <td>http://www.bonjovi.com/bonjovi/</td>\n",
       "      <td>http://dbpedia.org/resource/Jon_Bon_Jovi</td>\n",
       "      <td>0.141651</td>\n",
       "      <td>False</td>\n",
       "    </tr>\n",
       "    <tr>\n",
       "      <th>1607</th>\n",
       "      <td>https://www.abramsbooks.com/imprints/amuletbooks/</td>\n",
       "      <td>http://dbpedia.org/resource/Abrams_Books</td>\n",
       "      <td>0.103517</td>\n",
       "      <td>False</td>\n",
       "    </tr>\n",
       "    <tr>\n",
       "      <th>1608</th>\n",
       "      <td>https://www.disneyplus.com</td>\n",
       "      <td>http://dbpedia.org/resource/The_Walt_Disney_Company</td>\n",
       "      <td>0.204168</td>\n",
       "      <td>False</td>\n",
       "    </tr>\n",
       "    <tr>\n",
       "      <th>1609</th>\n",
       "      <td>https://www.johnlithgow.com</td>\n",
       "      <td>http://dbpedia.org/resource/John_Lithgow</td>\n",
       "      <td>0.152488</td>\n",
       "      <td>False</td>\n",
       "    </tr>\n",
       "    <tr>\n",
       "      <th>1610</th>\n",
       "      <td>https://www.lucasfilm.com</td>\n",
       "      <td>http://dbpedia.org/resource/Lucasfilm</td>\n",
       "      <td>0.177116</td>\n",
       "      <td>False</td>\n",
       "    </tr>\n",
       "  </tbody>\n",
       "</table>\n",
       "<p>1611 rows × 4 columns</p>\n",
       "</div>"
      ],
      "text/plain": [
       "                                                                                                  e1  \\\n",
       "0                                 http://dbkwik.webdatacommons.org/starwars.wikia.com/property/droid   \n",
       "1                            http://dbkwik.webdatacommons.org/starwars.wikia.com/property/hyperdrive   \n",
       "2                                 http://dbkwik.webdatacommons.org/starwars.wikia.com/resource/1950s   \n",
       "3             http://dbkwik.webdatacommons.org/starwars.wikia.com/resource/3PO-series_protocol_droid   \n",
       "4     http://dbkwik.webdatacommons.org/starwars.wikia.com/resource/3PO-series_protocol_droid/Legends   \n",
       "...                                                                                              ...   \n",
       "1606                                                                 http://www.bonjovi.com/bonjovi/   \n",
       "1607                                               https://www.abramsbooks.com/imprints/amuletbooks/   \n",
       "1608                                                                      https://www.disneyplus.com   \n",
       "1609                                                                     https://www.johnlithgow.com   \n",
       "1610                                                                       https://www.lucasfilm.com   \n",
       "\n",
       "                                                       e2       sim Predicted  \n",
       "0                       http://dbpedia.org/resource/Droid  0.899537     False  \n",
       "1                  http://dbpedia.org/resource/Hyperdrive  0.779418     False  \n",
       "2                       http://dbpedia.org/resource/1950s  0.950000      True  \n",
       "3                       http://dbpedia.org/resource/C-3PO  0.412235     False  \n",
       "4                       http://dbpedia.org/resource/C-3PO  0.398701     False  \n",
       "...                                                   ...       ...       ...  \n",
       "1606             http://dbpedia.org/resource/Jon_Bon_Jovi  0.141651     False  \n",
       "1607             http://dbpedia.org/resource/Abrams_Books  0.103517     False  \n",
       "1608  http://dbpedia.org/resource/The_Walt_Disney_Company  0.204168     False  \n",
       "1609             http://dbpedia.org/resource/John_Lithgow  0.152488     False  \n",
       "1610                http://dbpedia.org/resource/Lucasfilm  0.177116     False  \n",
       "\n",
       "[1611 rows x 4 columns]"
      ]
     },
     "execution_count": 992,
     "metadata": {},
     "output_type": "execute_result"
    }
   ],
   "source": [
    "baseline_df"
   ]
  },
  {
   "cell_type": "code",
   "execution_count": 993,
   "id": "9786a37b",
   "metadata": {},
   "outputs": [
    {
     "data": {
      "application/vnd.jupyter.widget-view+json": {
       "model_id": "0ad68098ecaf4c11adfccf8e3842a8c5",
       "version_major": 2,
       "version_minor": 0
      },
      "text/plain": [
       "  0%|          | 0/1611 [00:00<?, ?it/s]"
      ]
     },
     "metadata": {},
     "output_type": "display_data"
    }
   ],
   "source": [
    "for index, row in tqdm(baseline_df.iterrows(), total=len(baseline_df)):\n",
    "    e1 = row['e1']\n",
    "    e2 = row['e2']\n",
    "    \n",
    "    if ((match_df['e1'] == e1) | (match_df['e2'] == e2)).any():\n",
    "        baseline_df.at[index, 'Analyzed'] = True\n",
    "    else:\n",
    "        baseline_df.at[index, 'Analyzed'] = False"
   ]
  },
  {
   "cell_type": "code",
   "execution_count": 994,
   "id": "a85cc3dc",
   "metadata": {},
   "outputs": [],
   "source": [
    "pd.set_option('display.max_colwidth', None)\n"
   ]
  },
  {
   "cell_type": "code",
   "execution_count": 995,
   "id": "bb51d0be",
   "metadata": {},
   "outputs": [],
   "source": [
    "analyzed_baseline_df = baseline_df[baseline_df['Analyzed'] == True]"
   ]
  },
  {
   "cell_type": "code",
   "execution_count": 996,
   "id": "6420c2bc",
   "metadata": {},
   "outputs": [
    {
     "data": {
      "text/plain": [
       "1611"
      ]
     },
     "execution_count": 996,
     "metadata": {},
     "output_type": "execute_result"
    }
   ],
   "source": [
    "len(analyzed_baseline_df)"
   ]
  },
  {
   "cell_type": "code",
   "execution_count": 997,
   "id": "8d330557",
   "metadata": {},
   "outputs": [
    {
     "data": {
      "text/plain": [
       "964"
      ]
     },
     "execution_count": 997,
     "metadata": {},
     "output_type": "execute_result"
    }
   ],
   "source": [
    "len(analyzed_baseline_df[analyzed_baseline_df['Predicted'] == True])"
   ]
  },
  {
   "cell_type": "code",
   "execution_count": 998,
   "id": "ee097613-8cfe-4346-865a-fe0c811d3fde",
   "metadata": {},
   "outputs": [
    {
     "data": {
      "text/plain": [
       "0.5983860955927995"
      ]
     },
     "execution_count": 998,
     "metadata": {},
     "output_type": "execute_result"
    }
   ],
   "source": [
    "precision = len(analyzed_baseline_df[analyzed_baseline_df['Predicted'] == True]) / len(analyzed_baseline_df)\n",
    "precision"
   ]
  },
  {
   "cell_type": "code",
   "execution_count": 999,
   "id": "1f46ae99-f1fd-4c08-9ac8-68bc87a14bda",
   "metadata": {},
   "outputs": [
    {
     "data": {
      "text/plain": [
       "0.43958048335613314"
      ]
     },
     "execution_count": 999,
     "metadata": {},
     "output_type": "execute_result"
    }
   ],
   "source": [
    "recall = len(analyzed_baseline_df[analyzed_baseline_df['Predicted'] == True]) / len(match_df)\n",
    "recall"
   ]
  },
  {
   "cell_type": "code",
   "execution_count": 1000,
   "id": "8e83859a-2c1c-46bb-bd2d-13afbbffb2a9",
   "metadata": {},
   "outputs": [
    {
     "data": {
      "text/plain": [
       "0.5068349106203995"
      ]
     },
     "execution_count": 1000,
     "metadata": {},
     "output_type": "execute_result"
    }
   ],
   "source": [
    "f_measure = 2 * (precision * recall) / (precision + recall)\n",
    "f_measure"
   ]
  },
  {
   "cell_type": "code",
   "execution_count": 1001,
   "id": "29cf0d57",
   "metadata": {},
   "outputs": [],
   "source": [
    "def precision_score(df, threshold):\n",
    "    threshold_df = df[df['sim'] > threshold]\n",
    "    \n",
    "    matches = len(threshold_df)\n",
    "    \n",
    "    if matches == 0:\n",
    "        return 0\n",
    "    \n",
    "    correct_matches_df = pd.merge(threshold_df, match_df, left_on=['e1', 'e2'], right_on=['e1', 'e2'])\n",
    "    \n",
    "    correct_matches = len(threshold_df[threshold_df['Predicted'] == True])\n",
    "    \n",
    "    return correct_matches / matches "
   ]
  },
  {
   "cell_type": "code",
   "execution_count": 1002,
   "id": "c54f9030",
   "metadata": {},
   "outputs": [],
   "source": [
    "def recall_score(df, total_correct, threshold):\n",
    "    threshold_df = df[df['sim'] > threshold]\n",
    "    \n",
    "    correct_matches = len(threshold_df[threshold_df['Predicted'] == True])\n",
    "    \n",
    "    return correct_matches / total_correct"
   ]
  },
  {
   "cell_type": "code",
   "execution_count": 1003,
   "id": "27934936",
   "metadata": {},
   "outputs": [
    {
     "data": {
      "image/png": "[encoded data removed]",
      "text/plain": [
       "<Figure size 640x480 with 1 Axes>"
      ]
     },
     "metadata": {},
     "output_type": "display_data"
    }
   ],
   "source": [
    "thresholds = np.arange(0, 1.01, 0.01)\n",
    "\n",
    "total_correct = len(match_df)\n",
    "\n",
    "precisions = [precision_score(analyzed_baseline_df, t) for t in thresholds]\n",
    "recalls = [recall_score(analyzed_baseline_df, total_correct, t) for t in thresholds]\n",
    "f_measures = []\n",
    "for precision, recall in zip(precisions, recalls):\n",
    "    f_measure = 0\n",
    "    if precision + recall > 0:\n",
    "        f_measure = 2 * (precision * recall) / (precision + recall)\n",
    "    f_measures.append(f_measure)\n",
    "    \n",
    "# Plot precision, recall, and F-measure\n",
    "plt.plot(thresholds, precisions, label='Precision')\n",
    "plt.plot(thresholds, recalls, label='Recall')\n",
    "plt.plot(thresholds, f_measures, label='F-measure')\n",
    "\n",
    "# Add labels and legend\n",
    "plt.xlabel('Threshold')\n",
    "plt.ylabel('Score')\n",
    "plt.legend()\n",
    "\n",
    "# Display the graph\n",
    "plt.show()"
   ]
  },
  {
   "cell_type": "code",
   "execution_count": 1004,
   "id": "016a7a64",
   "metadata": {},
   "outputs": [
    {
     "name": "stdout",
     "output_type": "stream",
     "text": [
      "Related Precision: 0.943952802359882\n",
      "Related Recall: 0.4377564979480164\n",
      "Max F-measure: 0.5981308411214953\n",
      "Related threshold: 0.9\n"
     ]
    }
   ],
   "source": [
    "max_index = f_measures.index(max(f_measures))\n",
    "\n",
    "# Get the corresponding precision and recall\n",
    "max_f = f_measures[max_index]\n",
    "related_precision = precisions[max_index]\n",
    "related_recall = recalls[max_index]\n",
    "related_threshold = thresholds[max_index]\n",
    "\n",
    "print(\"Related Precision:\", related_precision)\n",
    "print(\"Related Recall:\", related_recall)\n",
    "print(\"Max F-measure:\", max_f)\n",
    "print(\"Related threshold:\", related_threshold)"
   ]
  },
  {
   "cell_type": "code",
   "execution_count": null,
   "id": "98605852-486f-48a6-8927-9c726baceeea",
   "metadata": {},
   "outputs": [],
   "source": []
  },
  {
   "cell_type": "code",
   "execution_count": null,
   "id": "f77f5967-42a0-4fc3-b61a-45aed72cc022",
   "metadata": {},
   "outputs": [],
   "source": []
  }
 ],
 "metadata": {
  "kernelspec": {
   "display_name": "Python 3 (ipykernel)",
   "language": "python",
   "name": "python3"
  },
  "language_info": {
   "codemirror_mode": {
    "name": "ipython",
    "version": 3
   },
   "file_extension": ".py",
   "mimetype": "text/x-python",
   "name": "python",
   "nbconvert_exporter": "python",
   "pygments_lexer": "ipython3",
   "version": "3.8.16"
  }
 },
 "nbformat": 4,
 "nbformat_minor": 5
}
