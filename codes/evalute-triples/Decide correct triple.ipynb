{
 "cells": [
  {
   "cell_type": "code",
   "execution_count": 5,
   "id": "302de047",
   "metadata": {},
   "outputs": [
    {
     "name": "stderr",
     "output_type": "stream",
     "text": [
      "/var/folders/6f/k2t20zbs4db5khp6mgdq_06m0000gn/T/ipykernel_46746/3205090218.py:3: TqdmExperimentalWarning: Using `tqdm.autonotebook.tqdm` in notebook mode. Use `tqdm.tqdm` instead to force console mode (e.g. in jupyter console)\n",
      "  from tqdm.autonotebook import tqdm\n"
     ]
    }
   ],
   "source": [
    "from rdflib import Graph, URIRef, Namespace, Literal, XSD, RDF\n",
    "from rdflib.plugins.stores.sparqlstore import SPARQLStore\n",
    "from tqdm.autonotebook import tqdm\n",
    "import pandas as pd\n",
    "from copy import deepcopy\n",
    "import numpy\n",
    "from sklearn.metrics.pairwise import cosine_similarity\n",
    "import re\n",
    "import string\n",
    "import nltk\n",
    "from nltk.corpus import stopwords\n",
    "from nltk.tokenize import word_tokenize\n",
    "from collections import defaultdict\n",
    "from rapidfuzz import process, fuzz, distance\n",
    "import numpy as np\n",
    "import math\n",
    "\n",
    "import torch\n",
    "from transformers import BertTokenizer\n",
    "from transformers import BertModel\n",
    "from sklearn.metrics.pairwise import cosine_similarity\n",
    "\n",
    "import concurrent.futures\n",
    "\n",
    "import matplotlib.pyplot as plt\n",
    "\n",
    "import numbers\n",
    "\n",
    "import dateutil.parser as dparser\n",
    "import datetime"
   ]
  },
  {
   "cell_type": "code",
   "execution_count": 44,
   "id": "0a55fdce",
   "metadata": {},
   "outputs": [],
   "source": [
    "GRAPH_1 = \"/Users/yamamotobikutorueiichi/codes/custom_paris/memoryalpha.xml\"\n",
    "GRAPH_1_INV_FUNC_PATH = '/Users/yamamotobikutorueiichi/codes/custom_paris/memoryalpha-inversability.csv'\n",
    "\n",
    "GRAPH_2 = \"/Users/yamamotobikutorueiichi/codes/custom_paris/memory-beta.xml\"\n",
    "GRAPH_2_INV_FUNC_PATH = '/Users/yamamotobikutorueiichi/codes/custom_paris/memory-beta-inversability.csv'\n",
    "\n",
    "GRAPH_3 = \"/Users/yamamotobikutorueiichi/codes/custom_paris/startrek.ttl\"\n",
    "GRAPH_3_INV_FUNC_PATH = '/Users/yamamotobikutorueiichi/codes/custom_paris/startrek-inversability.csv'\n",
    "\n",
    "#GRAPH_2 = \"http://localhost:8890/sparql\"\n",
    "SUBJECT = 'subject'\n",
    "PREDICATE = 'predicate'\n",
    "INVERSE_FUNCTIONALITY = 'inverse_functionality'\n",
    "INVERSABILITY = 'inversability'\n",
    "MAX_LENGTH_FULL_MATCH = 10000\n",
    "LABEL_PREDICATE = \"http://www.w3.org/2000/01/rdf-schema#label\"\n",
    "FILE_FOLDER = \"\"\n",
    "FILE_FOLDER_1_2 = \"/Users/yamamotobikutorueiichi/codes/custom_paris/ma-mb/\"\n",
    "FILE_FOLDER_1_3 = \"/Users/yamamotobikutorueiichi/codes/custom_paris/ma-se/\"\n",
    "FILE_FOLDER_2_3 = \"/Users/yamamotobikutorueiichi/codes/custom_paris/mb-se/\"\n",
    "FILE_FOLDER_LIST = [FILE_FOLDER_1_2, FILE_FOLDER_1_3, FILE_FOLDER_2_3]\n",
    "GRAPH_1_ABSTRACT = \"http://dbkwik.webdatacommons.org/ontology/abstract\"\n",
    "GRAPH_2_ABSTRACT = \"http://dbkwik.webdatacommons.org/ontology/abstract\"\n",
    "CATEGORICAL = 'categorical'\n",
    "DATASET = ''\n",
    "GENERAL_THRESHOLD = 0.1"
   ]
  },
  {
   "cell_type": "code",
   "execution_count": 45,
   "id": "c647c0af",
   "metadata": {},
   "outputs": [],
   "source": [
    "def load_graph(GRAPH, INV_FUNC_PATH):\n",
    "    graph = Graph()\n",
    "    graph.parse(GRAPH)\n",
    "    \n",
    "    inv_func_df = pd.read_csv(INV_FUNC_PATH)\n",
    "    \n",
    "    inv_func_dict = dict()\n",
    "    \n",
    "    for _, row in inv_func_df.iterrows():\n",
    "        inv_func_dict[row['predicate']] = row['functionality']\n",
    "    \n",
    "    graph_info_dict = {\n",
    "        'graph': graph,\n",
    "        'inv_func_dict' : inv_func_dict\n",
    "    }\n",
    "    \n",
    "    return graph_info_dict"
   ]
  },
  {
   "cell_type": "code",
   "execution_count": 46,
   "id": "e27b64c5",
   "metadata": {},
   "outputs": [],
   "source": [
    "graph_info_dict_1 = load_graph(GRAPH_1, GRAPH_1_INV_FUNC_PATH)"
   ]
  },
  {
   "cell_type": "code",
   "execution_count": 28,
   "id": "7bcde10f",
   "metadata": {},
   "outputs": [],
   "source": [
    "graph_info_dict_2 = load_graph(GRAPH_2, GRAPH_2_INV_FUNC_PATH)"
   ]
  },
  {
   "cell_type": "code",
   "execution_count": 29,
   "id": "c826be11",
   "metadata": {},
   "outputs": [],
   "source": [
    "graph_info_dict_3 = load_graph(GRAPH_3, GRAPH_3_INV_FUNC_PATH)"
   ]
  },
  {
   "cell_type": "code",
   "execution_count": 47,
   "id": "ff7c5aa6",
   "metadata": {},
   "outputs": [],
   "source": [
    "def load_mappings(FILE_FOLDER, graph_info_dict_1, graph_info_dict_2):\n",
    "    entity_sim_df = pd.read_csv(FILE_FOLDER + \"entity_sim_9.csv\")\n",
    "    \n",
    "    entity_sim_dict = dict()\n",
    "    \n",
    "    for _, row in entity_sim_df.iterrows():\n",
    "        e1 = row['e1']\n",
    "        e2 = row['e2']\n",
    "        sim = row['sim']\n",
    "\n",
    "        entity_sim_dict.setdefault(e1, {})[e2] = sim\n",
    "    \n",
    "    class_sim_df = pd.read_csv(FILE_FOLDER + 'class_sem_prob.csv')\n",
    "\n",
    "    for _, row in class_sim_df.iterrows():\n",
    "        c1 = row['c1']\n",
    "        c2 = row['c2']\n",
    "        sim = row['sim']\n",
    "\n",
    "        entity_sim_dict.setdefault(c1, {})[c2] = sim\n",
    "    \n",
    "    predicate_sim = pd.read_csv(FILE_FOLDER + 'predicate_sem_prob.csv')\n",
    "    graph_1_func_dict = graph_info_dict_1['inv_func_dict']\n",
    "    graph_2_func_dict = graph_info_dict_2['inv_func_dict']\n",
    "    \n",
    "    predicate_sim['mul_sim'] = predicate_sim.apply(lambda x: x['sim'] * graph_1_func_dict[x['p1']] * graph_2_func_dict[x['p2']], axis=1)\n",
    "\n",
    "    predicate_sim = predicate_sim.drop(index=0)\n",
    "    \n",
    "    mapping_info_dict = {\n",
    "        'entity_sim_dict': entity_sim_dict,\n",
    "        'predicate_sim': predicate_sim\n",
    "    }\n",
    "    \n",
    "    return mapping_info_dict"
   ]
  },
  {
   "cell_type": "code",
   "execution_count": 48,
   "id": "ba8b9435",
   "metadata": {},
   "outputs": [],
   "source": [
    "mapping_info_dict_1_2 = load_mappings(FILE_FOLDER_1_2, graph_info_dict_1, graph_info_dict_2)"
   ]
  },
  {
   "cell_type": "code",
   "execution_count": 49,
   "id": "a8c4092e",
   "metadata": {},
   "outputs": [],
   "source": [
    "mapping_info_dict_1_3 = load_mappings(FILE_FOLDER_1_3, graph_info_dict_1, graph_info_dict_3)"
   ]
  },
  {
   "cell_type": "code",
   "execution_count": 50,
   "id": "6c77dedd",
   "metadata": {},
   "outputs": [],
   "source": [
    "mapping_info_dict_2_3 = load_mappings(FILE_FOLDER_2_3, graph_info_dict_2, graph_info_dict_3)"
   ]
  },
  {
   "cell_type": "code",
   "execution_count": 51,
   "id": "11303028",
   "metadata": {},
   "outputs": [],
   "source": [
    "graph_info_dict_1['mapping_1'] = [mapping_info_dict_1_2, mapping_info_dict_1_3]\n",
    "\n",
    "graph_info_dict_2['mapping_1'] = [mapping_info_dict_2_3]\n",
    "graph_info_dict_2['mapping_2'] = [mapping_info_dict_1_2]\n",
    "\n",
    "graph_info_dict_3['mapping_2'] = [mapping_info_dict_1_3, mapping_info_dict_2_3]"
   ]
  },
  {
   "cell_type": "code",
   "execution_count": 52,
   "id": "03af6196",
   "metadata": {},
   "outputs": [],
   "source": [
    "def get_types(graph, pred):\n",
    "    graph = graph_info_dict['graph']\n",
    "    pred = graph_info_dict['']\n",
    "    pred_uri = URIRef(pred)\n",
    "    type_dict = dict()\n",
    "    \n",
    "    for s, o in graph.subject_objects(pred_uri):\n",
    "        o_type = None\n",
    "        if type(o) == Literal:\n",
    "            o_type = type(o.toPython())\n",
    "        else:\n",
    "            o_type = type(o)\n",
    "        \n",
    "        if not o_type in type_dict:\n",
    "            type_dict[o_type] = 0\n",
    "        type_dict[o_type] += 1\n",
    "        \n",
    "    return type_dict"
   ]
  },
  {
   "cell_type": "code",
   "execution_count": null,
   "id": "c22f2020",
   "metadata": {},
   "outputs": [],
   "source": [
    "graph_info_dict_1['predicate_types'] = get_types(graph_info_dict_1)"
   ]
  }
 ],
 "metadata": {
  "kernelspec": {
   "display_name": "Python 3 (ipykernel)",
   "language": "python",
   "name": "python3"
  },
  "language_info": {
   "codemirror_mode": {
    "name": "ipython",
    "version": 3
   },
   "file_extension": ".py",
   "mimetype": "text/x-python",
   "name": "python",
   "nbconvert_exporter": "python",
   "pygments_lexer": "ipython3",
   "version": "3.9.13"
  }
 },
 "nbformat": 4,
 "nbformat_minor": 5
}
